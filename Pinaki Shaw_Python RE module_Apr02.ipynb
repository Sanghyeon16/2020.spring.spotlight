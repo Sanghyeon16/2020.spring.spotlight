{
 "cells": [
  {
   "cell_type": "markdown",
   "metadata": {},
   "source": [
    "# Regular Expressions and RE Module \n",
    "\n",
    "## **Submitted by : Pinaki Shaw**\n"
   ]
  },
  {
   "cell_type": "markdown",
   "metadata": {},
   "source": [
    "Regular Expressions are character sequences used for string matching or pattern matching within strings in several natural language processing and information retrieval applications.\n",
    "Also known as REs or regexes,regular expressions are embedded in Python and made available through Python's **'re'** module."
   ]
  },
  {
   "cell_type": "markdown",
   "metadata": {},
   "source": [
    "**Motivation**: For any information retrieval system, preprocessing is a crucial task which has implications on the performance of the system too. Some common pre-processing tasks are punctuation removal, tokenization, stemming, lemmatization etc. All of these can be performed with the help of the 're' module. Even though other libraries exist which make such tasks a lot easier, the advantage that the 're' module offers is the flexibility to design our own rules using regexes. For example, instead of using the predefined Porter stemmer available in Python, we can build our own stemmer after having studied the data relevant to our IR task. This notebook will demonstrate through simple examples the functionality provided by the re module and how we can customize them for our IR specific task. "
   ]
  },
  {
   "cell_type": "markdown",
   "metadata": {},
   "source": [
    "**Getting ready**\n",
    "\n",
    "Python has re included in the standard library. So we just need to import it and then we are good to go! So let us import this module."
   ]
  },
  {
   "cell_type": "code",
   "execution_count": 1,
   "metadata": {},
   "outputs": [],
   "source": [
    "import re"
   ]
  },
  {
   "cell_type": "markdown",
   "metadata": {},
   "source": [
    "For checking out the cool features of the re module, we will use the following text:"
   ]
  },
  {
   "cell_type": "code",
   "execution_count": 2,
   "metadata": {},
   "outputs": [
    {
     "name": "stdout",
     "output_type": "stream",
     "text": [
      "One of the classic IR textbooks says that \"Information retrieval (IR) is finding material (usually documents) of an unstructured nature (usually text) that satisfies an information need from within large collections (usually stored on computers).\" Gerard Salton \"the father of Information Retrieval\" said that \"Information retrieval is a field concerned with the structure, analysis, organization, storage, searching, and retrieval of information.\"\n"
     ]
    }
   ],
   "source": [
    "text= \"One of the classic IR textbooks says that \\\"Information retrieval (IR) is finding material \\\n",
    "(usually documents) of an unstructured nature (usually text) that satisfies an information need from \\\n",
    "within large collections (usually stored on computers).\\\" \\\n",
    "Gerard Salton \\\"the father of Information Retrieval\\\" said that \\\n",
    "\\\"Information retrieval is a field concerned with the structure, analysis, organization, \\\n",
    "storage, searching, and retrieval of information.\\\"\"\n",
    "\n",
    "print(text)"
   ]
  },
  {
   "cell_type": "markdown",
   "metadata": {},
   "source": [
    "**(I) re.sub(pattern,repl,string)**\n",
    "\n",
    "**Task 1: Punctuation Removal**\n",
    "Firstly, let us clean the punctuation from the given text. Anything apart from numbers, alphabets and whitespace is usually considered as punctuation. \n",
    "The *re.sub()* method checks for the *pattern* in the *string* and replaces every occurence of the pattern with the *repl* string.\n",
    "For our task, we can replace all punctuation with empty strings as demonstrated below:"
   ]
  },
  {
   "cell_type": "code",
   "execution_count": 3,
   "metadata": {},
   "outputs": [
    {
     "name": "stdout",
     "output_type": "stream",
     "text": [
      "One of the classic IR textbooks says that Information retrieval IR is finding material usually documents of an unstructured nature usually text that satisfies an information need from within large collections usually stored on computers Gerard Salton the father of Information Retrieval said that Information retrieval is a field concerned with the structure analysis organization storage searching and retrieval of information\n"
     ]
    }
   ],
   "source": [
    "text=re.sub(r'[^\\w\\s\\d]','',text)\n",
    "print(text)"
   ]
  },
  {
   "cell_type": "markdown",
   "metadata": {},
   "source": [
    "**Task 2: Stemming**\n",
    "\n",
    "Having cleaned our text, we can define our own rules for stemming using the re module. For demonstration purposes, let us consider the following two stemming rules:\n",
    "- **plural to singular as in**: *textbooks ->textbook*\n",
    "- **future tense to present tense as in**: *finding -> find*\n",
    "\n",
    "We can again use *re.sub()* for this task. In addition to this function, we can also capture groups of characters by using parentheses () and use indexes \\1, \\2 etc to then backrefer such groups as shown below:"
   ]
  },
  {
   "cell_type": "code",
   "execution_count": 4,
   "metadata": {},
   "outputs": [
    {
     "name": "stdout",
     "output_type": "stream",
     "text": [
      "One of the classic IR textbook say that Information retrieval IR is find material usually document of an unstructured nature usually text that satisfies an information need from within large collection usually stored on computer Gerard Salton the father of Information Retrieval said that Information retrieval is a field concerned with the structure analysis organization storage search and retrieval of information\n"
     ]
    }
   ],
   "source": [
    "text_stemmed1=re.sub(r\"(\\w*)ing\\b\",r'\\1',text)  #Rule (*)ing -> (*)\n",
    "\n",
    "text_stemmed2=re.sub(r\"(\\w*)([^e|^i])s\\b\",r'\\1\\2',text_stemmed1) #Rule (*)s -> (*), except for cases like \"flies, satifies\"\n",
    "\n",
    "text=text_stemmed2\n",
    "\n",
    "print(text)"
   ]
  },
  {
   "cell_type": "markdown",
   "metadata": {},
   "source": [
    "**Task 3: Lemmatization**\n",
    "\n",
    "Let us convert the verbs \"is\",\"are\" to their base form, i.e., \"be\""
   ]
  },
  {
   "cell_type": "code",
   "execution_count": 5,
   "metadata": {},
   "outputs": [
    {
     "name": "stdout",
     "output_type": "stream",
     "text": [
      "One of the classic IR textbook say that Information retrieval IR be find material usually document of an unstructured nature usually text that satisfies an information need from within large collection usually stored on computer Gerard Salton the father of Information Retrieval said that Information retrieval be a field concerned with the structure analysis organization storage search and retrieval of information\n"
     ]
    }
   ],
   "source": [
    "text=re.sub(r\"\\b(is|are)\\b\",r'be',text)\n",
    "print(text)"
   ]
  },
  {
   "cell_type": "markdown",
   "metadata": {},
   "source": [
    "**(II) re.findall(pattern,string)**"
   ]
  },
  {
   "cell_type": "markdown",
   "metadata": {},
   "source": [
    "**Task 4: Count of query terms in a document**\n",
    "\n",
    "Traditionally, the more frequent the query terms are in a document, the more relevant the document is considered for that query. For such bag of words based models, we need to find out the number of times the query term appears in the document.\n",
    "The *re.findall()* function returns a list containg all matches of the *pattern* in the given *string*."
   ]
  },
  {
   "cell_type": "code",
   "execution_count": 6,
   "metadata": {},
   "outputs": [
    {
     "name": "stdout",
     "output_type": "stream",
     "text": [
      "['the', 'the', 'the', 'the']\n",
      "['information', 'information', 'information', 'information', 'information']\n"
     ]
    }
   ],
   "source": [
    "text=text.lower()  #convert entire text to lowercase\n",
    "query_terms=[\"the\",\"information\"]  #let the query be \"the information\"\n",
    "for term in query_terms:\n",
    "    print(re.findall(term,text))"
   ]
  },
  {
   "cell_type": "markdown",
   "metadata": {},
   "source": [
    " We can fetch the frequency by simply calculating the length of the list returned as demonstrated below:"
   ]
  },
  {
   "cell_type": "code",
   "execution_count": 7,
   "metadata": {},
   "outputs": [
    {
     "name": "stdout",
     "output_type": "stream",
     "text": [
      "the  :  4\n",
      "information  :  5\n"
     ]
    }
   ],
   "source": [
    "for term in query_terms:\n",
    "    print(term,\" : \",len(re.findall(term,text)))"
   ]
  },
  {
   "cell_type": "markdown",
   "metadata": {},
   "source": [
    "**(III) re.split(pattern,string)**"
   ]
  },
  {
   "cell_type": "markdown",
   "metadata": {},
   "source": [
    "**Task 5: Tokenization**\n",
    "Breaking up a huge text into individual tokens is another important task in IR. The *re.split()* function provides an easy way to split a *string* at the specified character or *pattern*.It returns a list where the string has been split at each match of the pattern specified in the function. For our case, we will split the text on whitespace."
   ]
  },
  {
   "cell_type": "code",
   "execution_count": 8,
   "metadata": {},
   "outputs": [
    {
     "name": "stdout",
     "output_type": "stream",
     "text": [
      "['one', 'of', 'the', 'classic', 'ir', 'textbook', 'say', 'that', 'information', 'retrieval', 'ir', 'be', 'find', 'material', 'usually', 'document', 'of', 'an', 'unstructured', 'nature', 'usually', 'text', 'that', 'satisfies', 'an', 'information', 'need', 'from', 'within', 'large', 'collection', 'usually', 'stored', 'on', 'computer', 'gerard', 'salton', 'the', 'father', 'of', 'information', 'retrieval', 'said', 'that', 'information', 'retrieval', 'be', 'a', 'field', 'concerned', 'with', 'the', 'structure', 'analysis', 'organization', 'storage', 'search', 'and', 'retrieval', 'of', 'information']\n"
     ]
    }
   ],
   "source": [
    "words_list=re.split(\"\\s+\",text)\n",
    "print(words_list)"
   ]
  },
  {
   "cell_type": "markdown",
   "metadata": {},
   "source": [
    "*re.split()* has an advantage over Python's popular *String.split()* when the delimiter size is not a constant. For example, if we want to split our text string on occurence of any number of the alphabet s, we can easily do the following using *re.split()*"
   ]
  },
  {
   "cell_type": "code",
   "execution_count": 9,
   "metadata": {},
   "outputs": [
    {
     "name": "stdout",
     "output_type": "stream",
     "text": [
      "['one of the cla', 'ic ir textbook ', 'ay that information retrieval ir be find material u', 'ually document of an un', 'tructured nature u', 'ually text that ', 'ati', 'fie', ' an information need from within large collection u', 'ually ', 'tored on computer gerard ', 'alton the father of information retrieval ', 'aid that information retrieval be a field concerned with the ', 'tructure analy', 'i', ' organization ', 'torage ', 'earch and retrieval of information']\n"
     ]
    }
   ],
   "source": [
    "words_on_s=re.split(\"s+\",text) #split on multiple occurences of the character 's'\n",
    "print(words_on_s)"
   ]
  },
  {
   "cell_type": "markdown",
   "metadata": {},
   "source": [
    "**Task 6: Bag of Words model**\n",
    "\n",
    "Let us now see how we can build a bag of words model for our text using the re module."
   ]
  },
  {
   "cell_type": "code",
   "execution_count": 10,
   "metadata": {},
   "outputs": [
    {
     "name": "stdout",
     "output_type": "stream",
     "text": [
      "usually : 3\n",
      "within : 1\n",
      "structure : 2\n",
      "information : 5\n",
      "retrieval : 4\n",
      "one : 1\n",
      "say : 1\n",
      "collection : 1\n",
      "said : 1\n",
      "with : 2\n",
      "computer : 1\n",
      "stored : 1\n",
      "document : 1\n",
      "salton : 1\n",
      "on : 11\n",
      "textbook : 1\n",
      "of : 4\n",
      "text : 2\n",
      "that : 3\n",
      "search : 1\n",
      "material : 1\n",
      "classic : 1\n",
      "ir : 2\n",
      "large : 1\n",
      "and : 1\n",
      "satisfies : 1\n",
      "find : 1\n",
      "need : 1\n",
      "be : 2\n",
      "organization : 1\n",
      "an : 5\n",
      "the : 4\n",
      "from : 1\n",
      "field : 1\n",
      "concerned : 1\n",
      "gerard : 1\n",
      "storage : 1\n",
      "nature : 1\n",
      "father : 1\n",
      "unstructured : 1\n",
      "analysis : 1\n",
      "a : 36\n"
     ]
    }
   ],
   "source": [
    "unique_words_list=set(words_list) #build a list of all unique tokens in the text\n",
    "\n",
    "vocab={}\n",
    "for word in unique_words_list:\n",
    "    vocab[word]=len(re.findall(word,text)) #building dictionary of unique tokens with their counts\n",
    "\n",
    "for key,value in vocab.items():\n",
    "    print(key,\":\",value)  \n"
   ]
  },
  {
   "cell_type": "markdown",
   "metadata": {},
   "source": [
    "**Wrapping it up**\n",
    "\n",
    "Python's re module provides other useful functions such as re.subn(), re.search(), match object functionalities etc. In this notebook, I have highlighted the functions which are most relevant to IR specific tasks.\n",
    "As shown in the examples above, with the correct combination of regular expressions and re functions, we can design strong and flexible customized functions for preprocessing text for IR applications."
   ]
  },
  {
   "cell_type": "markdown",
   "metadata": {},
   "source": [
    "**References:**\n",
    "1. https://docs.python.org/3/library/re.html\n",
    "2. https://regexone.com/lesson/capturing_groups\n",
    "3. https://www.regular-expressions.info/python.html\n",
    "4. https://www.guru99.com/python-regular-expressions-complete-tutorial.html"
   ]
  }
 ],
 "metadata": {
  "kernelspec": {
   "display_name": "Python 3",
   "language": "python",
   "name": "python3"
  },
  "language_info": {
   "codemirror_mode": {
    "name": "ipython",
    "version": 3
   },
   "file_extension": ".py",
   "mimetype": "text/x-python",
   "name": "python",
   "nbconvert_exporter": "python",
   "pygments_lexer": "ipython3",
   "version": "3.7.6"
  }
 },
 "nbformat": 4,
 "nbformat_minor": 2
}
