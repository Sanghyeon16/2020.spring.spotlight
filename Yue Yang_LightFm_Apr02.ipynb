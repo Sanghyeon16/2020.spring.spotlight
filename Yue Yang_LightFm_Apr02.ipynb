{
 "cells": [
  {
   "cell_type": "markdown",
   "metadata": {},
   "source": [
    "# Spotlight — lightFM\n",
    "name: Yue Yang\n",
    "\n"
   ]
  },
  {
   "cell_type": "markdown",
   "metadata": {},
   "source": [
    "# Introduction\n",
    "LightFM is a Python implementation of a number of popular recommendation algorithms for both implicit and explicit feedback.\n",
    "\n",
    "It also makes it possible to incorporate both item and user metadata into the traditional matrix factorization algorithms. It represents each user and item as the sum of the latent representations of their features, thus allowing recommendations to generalise to new items (via item features) and to new users (via user features)."
   ]
  },
  {
   "cell_type": "markdown",
   "metadata": {},
   "source": [
    "# Installation\n",
    "\n",
    "install from pip:\n",
    "\n",
    "pip install lightfm\n",
    "\n",
    "or Conda:\n",
    "\n",
    "conda install -c conda-forge lightfm"
   ]
  },
  {
   "cell_type": "markdown",
   "metadata": {},
   "source": [
    "# Implicit feedback"
   ]
  },
  {
   "cell_type": "markdown",
   "metadata": {},
   "source": [
    "For some time, the recommender system literature focused on explicit feedback: the Netflix prize focused on accurately reproducing the ratings users have given to movies they watched.\n",
    "Focusing on ratings in this way ignored the importance of taking into account which movies the users chose to watch in the first place, and treating the absence of ratings as absence of information.\n",
    "But the things that we don’t have ratings for aren’t unknowns: we know the user didn’t pick them. This reflects a user’s conscious choice, and is a good source of information on what she thinks she might like.\n",
    "\n",
    "This sort of phenomenon is described as data which is missing-not-at-random in the literature: the ratings that are missing are more likely to be negative precisely because the user chooses which items to rate. When choosing a restaurant, you only go to places which you think you’ll enjoy, and never go to places that you think you’ll hate. What this leads to is that you’re only going to be submitting ratings for things which, a priori, you expected to like; the things that you expect you will not like you will never rate.\n",
    "This observation has led to the development of models that are suitable for implicit feedback. LightFM implements two that have proven particular successful:\n"
   ]
  },
  {
   "cell_type": "markdown",
   "metadata": {},
   "source": [
    "# BPR: \n",
    "Bayesian Personalised Ranking [1] pairwise loss. Maximises the prediction difference between a positive example and a randomly chosen negative example. Useful when only positive interactions are present and optimising ROC AUC is desired."
   ]
  },
  {
   "cell_type": "markdown",
   "metadata": {},
   "source": [
    "# WARP: \n",
    "Weighted Approximate-Rank Pairwise [2] loss. Maximises the rank of positive examples by repeatedly sampling negative examples until rank violating one is found. Useful when only positive interactions are present and optimising the top of the recommendation list (precision@k) is desired."
   ]
  },
  {
   "cell_type": "markdown",
   "metadata": {},
   "source": [
    "# Getting the data\n",
    "The first step is to get the Movielens data. This is a classic small recommender dataset, consisting of around 950 users, 1700 movies, and 100,000 ratings. The ratings are on a scale from 1 to 5, but we’ll all treat them as implicit positive feedback in this example."
   ]
  },
  {
   "cell_type": "code",
   "execution_count": 54,
   "metadata": {},
   "outputs": [],
   "source": [
    "import numpy as np\n",
    "import pandas as pd\n",
    "import matplotlib.pylab as plt\n",
    " \n",
    "from lightfm.datasets import fetch_movielens  \n",
    "from lightfm import LightFM\n",
    "from lightfm.evaluation import precision_at_k\n",
    "from lightfm.evaluation import auc_score\n",
    "\n",
    "\n"
   ]
  },
  {
   "cell_type": "code",
   "execution_count": 15,
   "metadata": {},
   "outputs": [
    {
     "name": "stdout",
     "output_type": "stream",
     "text": [
      "train <class 'scipy.sparse.coo.coo_matrix'> (943, 1682)\n",
      "test <class 'scipy.sparse.coo.coo_matrix'> (943, 1682)\n",
      "item_features <class 'scipy.sparse.csr.csr_matrix'> (1682, 1682)\n",
      "item_feature_labels <class 'numpy.ndarray'> (1682,)\n",
      "item_labels <class 'numpy.ndarray'> (1682,)\n"
     ]
    }
   ],
   "source": [
    "data = fetch_movielens()\n",
    "\n",
    "for key, value in data.items():\n",
    "    print(key, type(value), value.shape)"
   ]
  },
  {
   "cell_type": "code",
   "execution_count": 55,
   "metadata": {},
   "outputs": [
    {
     "name": "stdout",
     "output_type": "stream",
     "text": [
      "   Toy Story (1995)  GoldenEye (1995)  Four Rooms (1995)  Get Shorty (1995)  \\\n",
      "0               5.0               3.0                4.0                3.0   \n",
      "1               4.0               0.0                0.0                0.0   \n",
      "2               0.0               0.0                0.0                0.0   \n",
      "3               0.0               0.0                0.0                0.0   \n",
      "4               0.0               0.0                0.0                0.0   \n",
      "\n",
      "   Copycat (1995)  Shanghai Triad (Yao a yao yao dao waipo qiao) (1995)  \\\n",
      "0             3.0                                                5.0      \n",
      "1             0.0                                                0.0      \n",
      "2             0.0                                                0.0      \n",
      "3             0.0                                                0.0      \n",
      "4             0.0                                                0.0      \n",
      "\n",
      "   Twelve Monkeys (1995)  Babe (1995)  Dead Man Walking (1995)  \\\n",
      "0                    4.0          1.0                      5.0   \n",
      "1                    0.0          0.0                      0.0   \n",
      "2                    0.0          0.0                      0.0   \n",
      "3                    0.0          0.0                      0.0   \n",
      "4                    0.0          0.0                      0.0   \n",
      "\n",
      "   Richard III (1995)  ...  Mirage (1995)  Mamma Roma (1962)  \\\n",
      "0                 3.0  ...            0.0                0.0   \n",
      "1                 2.0  ...            0.0                0.0   \n",
      "2                 0.0  ...            0.0                0.0   \n",
      "3                 0.0  ...            0.0                0.0   \n",
      "4                 0.0  ...            0.0                0.0   \n",
      "\n",
      "   Sunchaser, The (1996)  War at Home, The (1996)  Sweet Nothing (1995)  \\\n",
      "0                    0.0                      0.0                   0.0   \n",
      "1                    0.0                      0.0                   0.0   \n",
      "2                    0.0                      0.0                   0.0   \n",
      "3                    0.0                      0.0                   0.0   \n",
      "4                    0.0                      0.0                   0.0   \n",
      "\n",
      "   Mat' i syn (1997)  B. Monkey (1998)  Sliding Doors (1998)  \\\n",
      "0                0.0               0.0                   0.0   \n",
      "1                0.0               0.0                   0.0   \n",
      "2                0.0               0.0                   0.0   \n",
      "3                0.0               0.0                   0.0   \n",
      "4                0.0               0.0                   0.0   \n",
      "\n",
      "   You So Crazy (1994)  Scream of Stone (Schrei aus Stein) (1991)  \n",
      "0                  0.0                                        0.0  \n",
      "1                  0.0                                        0.0  \n",
      "2                  0.0                                        0.0  \n",
      "3                  0.0                                        0.0  \n",
      "4                  0.0                                        0.0  \n",
      "\n",
      "[5 rows x 1682 columns]\n"
     ]
    }
   ],
   "source": [
    "train_df = pd.DataFrame(data['train'].todense(), columns=data['item_labels'])  # each row：user， each col：movie\n",
    "print(train_df.head())"
   ]
  },
  {
   "cell_type": "code",
   "execution_count": 17,
   "metadata": {},
   "outputs": [
    {
     "name": "stdout",
     "output_type": "stream",
     "text": [
      "                   0    1    2    3    4    5    6    7    8    9    ...  933  \\\n",
      "Toy Story (1995)     5    4    0    0    0    4    0    0    0    4  ...    2   \n",
      "GoldenEye (1995)     3    0    0    0    0    0    0    0    0    0  ...    4   \n",
      "Four Rooms (1995)    4    0    0    0    0    0    0    0    0    0  ...    0   \n",
      "Get Shorty (1995)    3    0    0    0    0    0    5    0    0    4  ...    5   \n",
      "Copycat (1995)       3    0    0    0    0    0    0    0    0    0  ...    0   \n",
      "\n",
      "                   934  935  936  937  938  939  940  941  942  \n",
      "Toy Story (1995)     3    4    0    4    0    0    5    0    0  \n",
      "GoldenEye (1995)     0    0    0    0    0    0    0    0    5  \n",
      "Four Rooms (1995)    0    4    0    0    0    0    0    0    0  \n",
      "Get Shorty (1995)    0    0    0    0    0    2    0    0    0  \n",
      "Copycat (1995)       0    0    0    0    0    0    0    0    0  \n",
      "\n",
      "[5 rows x 943 columns]\n"
     ]
    }
   ],
   "source": [
    "train_df = train_df.transpose()\n",
    "print(train_df.head())"
   ]
  },
  {
   "cell_type": "code",
   "execution_count": 29,
   "metadata": {},
   "outputs": [
    {
     "data": {
      "text/plain": [
       "Text(0.5, 0, 'count of rated')"
      ]
     },
     "execution_count": 29,
     "metadata": {},
     "output_type": "execute_result"
    },
    {
     "data": {
      "image/png": "[encoded data removed]",
      "text/plain": [
       "<Figure size 432x288 with 1 Axes>"
      ]
     },
     "metadata": {
      "needs_background": "light"
     },
     "output_type": "display_data"
    }
   ],
   "source": [
    "def count_label(x):\n",
    "    if x > 0:\n",
    "        return True\n",
    "    else:\n",
    "        return False\n",
    "\n",
    "item_count = train_df.applymap(count_label).sum(axis=1)\n",
    "item_count.sort_values(ascending=False)[0: 20][:: -1].plot.barh()  #plot the top 20 number of rated movie\n",
    "plt.xlabel('count of rated')\n"
   ]
  },
  {
   "cell_type": "code",
   "execution_count": 22,
   "metadata": {},
   "outputs": [],
   "source": [
    "train = data['train']\n",
    "test = data['test']"
   ]
  },
  {
   "cell_type": "markdown",
   "metadata": {},
   "source": [
    "# Train a BPR model "
   ]
  },
  {
   "cell_type": "code",
   "execution_count": 28,
   "metadata": {},
   "outputs": [
    {
     "name": "stdout",
     "output_type": "stream",
     "text": [
      "Precision: train 0.58, test 0.10.\n",
      "AUC: train 0.89, test 0.85.\n"
     ]
    }
   ],
   "source": [
    "model = LightFM(learning_rate=0.05, loss='bpr')\n",
    "model.fit(train, epochs=10)\n",
    " \n",
    "train_precision = precision_at_k(model, train, k=10).mean()\n",
    "test_precision = precision_at_k(model, test, k=10).mean()\n",
    "#expressing the percentage of top k items in the ranking the user has actually interacted with\n",
    "train_auc = auc_score(model, train).mean()\n",
    "test_auc = auc_score(model, test).mean()\n",
    "#the probability that any known positive is higher on the list than a random negative example\n",
    "print('Precision: train %.2f, test %.2f.' % (train_precision, test_precision))\n",
    "print('AUC: train %.2f, test %.2f.' % (train_auc, test_auc))\n"
   ]
  },
  {
   "cell_type": "markdown",
   "metadata": {},
   "source": [
    "# Train a WARP model"
   ]
  },
  {
   "cell_type": "code",
   "execution_count": 36,
   "metadata": {},
   "outputs": [
    {
     "name": "stdout",
     "output_type": "stream",
     "text": [
      "Precision: train 0.64, test 0.11.\n",
      "AUC: train 0.95, test 0.91.\n"
     ]
    }
   ],
   "source": [
    "model = LightFM(learning_rate=0.05, loss='warp')\n",
    "model.fit_partial(train, epochs=30)\n",
    " \n",
    "train_precision = precision_at_k(model, train, k=10).mean()\n",
    "test_precision = precision_at_k(model, test, k=10).mean()\n",
    " \n",
    "\n",
    "train_auc = auc_score(model, train).mean()  \n",
    "test_auc = auc_score(model, test).mean()\n",
    " \n",
    "print('Precision: train %.2f, test %.2f.' % (train_precision, test_precision))\n",
    "print('AUC: train %.2f, test %.2f.' % (train_auc, test_auc))\n"
   ]
  },
  {
   "cell_type": "markdown",
   "metadata": {},
   "source": [
    "# Compare\n",
    "To compare the accuracy between the WARP and BPR losses. Let’s fit two models with equivalent hyperparameters and compare their accuracy across epochs. Whilst we’re fitting them, let’s also measure how much time each epoch takes."
   ]
  },
  {
   "cell_type": "code",
   "execution_count": 30,
   "metadata": {},
   "outputs": [],
   "source": [
    "import time\n",
    "alpha = 1e-05\n",
    "epochs = 70\n",
    "num_components = 32\n",
    "\n",
    "warp_model = LightFM(no_components=num_components,\n",
    "                    loss='warp',\n",
    "                    learning_schedule='adagrad',\n",
    "                    max_sampled=100,\n",
    "                    user_alpha=alpha,\n",
    "                    item_alpha=alpha)\n",
    "\n",
    "bpr_model = LightFM(no_components=num_components,\n",
    "                    loss='bpr',\n",
    "                    learning_schedule='adagrad',\n",
    "                    user_alpha=alpha,\n",
    "                    item_alpha=alpha)\n",
    "\n",
    "warp_duration = []\n",
    "bpr_duration = []\n",
    "warp_auc = []\n",
    "bpr_auc = []\n",
    "\n",
    "for epoch in range(epochs):\n",
    "    start = time.time()\n",
    "    warp_model.fit_partial(train, epochs=1)\n",
    "    warp_duration.append(time.time() - start)\n",
    "    warp_auc.append(auc_score(warp_model, test, train_interactions=train).mean())\n",
    "\n",
    "for epoch in range(epochs):\n",
    "    start = time.time()\n",
    "    bpr_model.fit_partial(train, epochs=1)\n",
    "    bpr_duration.append(time.time() - start)\n",
    "    bpr_auc.append(auc_score(bpr_model, test, train_interactions=train).mean())"
   ]
  },
  {
   "cell_type": "code",
   "execution_count": 33,
   "metadata": {},
   "outputs": [
    {
     "data": {
      "image/png": "[encoded data removed]",
      "text/plain": [
       "<Figure size 432x288 with 1 Axes>"
      ]
     },
     "metadata": {
      "needs_background": "light"
     },
     "output_type": "display_data"
    }
   ],
   "source": [
    "x = np.arange(epochs)\n",
    "plt.plot(x, np.array(warp_auc))\n",
    "plt.plot(x, np.array(bpr_auc))\n",
    "plt.legend(['WARP AUC', 'BPR AUC'], loc='upper right')\n",
    "plt.xlabel(\"nums of epochs\")\n",
    "plt.ylabel(\"accuracy\")\n",
    "plt.show()"
   ]
  },
  {
   "cell_type": "markdown",
   "metadata": {},
   "source": [
    "Plotting the results immediately reveals that WARP produces superior results: a smarter way of selecting negative examples leads to higher quality rankings. Test accuracy decreases after the first 10 epochs, suggesting WARP starts overfitting and would benefit from regularization or early stopping."
   ]
  },
  {
   "cell_type": "code",
   "execution_count": 34,
   "metadata": {},
   "outputs": [
    {
     "data": {
      "image/png": "[encoded data removed]",
      "text/plain": [
       "<Figure size 432x288 with 1 Axes>"
      ]
     },
     "metadata": {
      "needs_background": "light"
     },
     "output_type": "display_data"
    }
   ],
   "source": [
    "x = np.arange(epochs)\n",
    "plt.plot(x, np.array(warp_duration))\n",
    "plt.plot(x, np.array(bpr_duration))\n",
    "plt.legend(['WARP duration', 'BPR duration'], loc='upper right')\n",
    "plt.show()"
   ]
  },
  {
   "cell_type": "markdown",
   "metadata": {},
   "source": [
    "WARP is slower than BPR for all epochs. Interestingly, however, it gets slower with additional epochs; every subsequent epoch takes more time. This is because of WARP’s adaptive samlping of negatives: the closer the model fits the training data, the more times it needs to sample in order to find rank-violating examples, leading to longer fitting times."
   ]
  },
  {
   "cell_type": "markdown",
   "metadata": {},
   "source": [
    "# Recommendation\n",
    "we can sample a couple of users and get their recommendations. To make predictions for given user, we pass the id of that user and the ids of all products we want predictions for into the predict method."
   ]
  },
  {
   "cell_type": "code",
   "execution_count": 53,
   "metadata": {},
   "outputs": [
    {
     "name": "stdout",
     "output_type": "stream",
     "text": [
      "User 9\n",
      "     Known positives:\n",
      "        Toy Story (1995)\n",
      "        Get Shorty (1995)\n",
      "        Dead Man Walking (1995)\n",
      "        Seven (Se7en) (1995)\n",
      "        Usual Suspects, The (1995)\n",
      "     Top recommend:\n",
      "        GoodFellas (1990)\n",
      "        English Patient, The (1996)\n",
      "        Godfather, The (1972)\n",
      "        Raiders of the Lost Ark (1981)\n",
      "        Raising Arizona (1987)\n",
      "User 50\n",
      "     Known positives:\n",
      "        Star Wars (1977)\n",
      "        Citizen Kane (1941)\n",
      "        Mr. Smith Goes to Washington (1939)\n",
      "        Die Hard (1988)\n",
      "        Empire Strikes Back, The (1980)\n",
      "     Top recommend:\n",
      "        Princess Bride, The (1987)\n",
      "        Empire Strikes Back, The (1980)\n",
      "        Star Wars (1977)\n",
      "        Singin' in the Rain (1952)\n",
      "        Indiana Jones and the Last Crusade (1989)\n",
      "User 750\n",
      "     Known positives:\n",
      "        Toy Story (1995)\n",
      "        GoldenEye (1995)\n",
      "        Four Rooms (1995)\n",
      "        Twelve Monkeys (1995)\n",
      "        Seven (Se7en) (1995)\n",
      "     Top recommend:\n",
      "        Princess Bride, The (1987)\n",
      "        Empire Strikes Back, The (1980)\n",
      "        Star Wars (1977)\n",
      "        Return of the Jedi (1983)\n",
      "        Fugitive, The (1993)\n"
     ]
    }
   ],
   "source": [
    "def sample_recommendation(model, data, user_ids):\n",
    "    \n",
    "\n",
    "    n_users, n_items = data['train'].shape\n",
    "\n",
    "    for user_id in user_ids:\n",
    "        known_positives = data['item_labels'][data['train'].tocsr()[user_id].indices]\n",
    "        \n",
    "        scores = model.predict(user_id, np.arange(n_items))\n",
    "        top_items = data['item_labels'][np.argsort(-scores)]\n",
    "        \n",
    "        print(\"User %s\" % user_id)\n",
    "        print(\"     Known positives:\")\n",
    "        \n",
    "        for x in known_positives[:5]:\n",
    "            print(\"        %s\" % x)\n",
    "\n",
    "        print(\"     Top recommend:\")\n",
    "        \n",
    "        for x in top_items[:5]:\n",
    "            print(\"        %s\" % x)\n",
    "        \n",
    "sample_recommendation(warp_model, data, [9, 50, 750])"
   ]
  },
  {
   "cell_type": "markdown",
   "metadata": {},
   "source": [
    "# Reference"
   ]
  },
  {
   "cell_type": "markdown",
   "metadata": {},
   "source": [
    "[1] Rendle, Steffen, et al. “BPR: Bayesian personalized ranking from implicit feedback.” Proceedings of the Twenty-Fifth Conference on Uncertainty in Artificial Intelligence. AUAI Press, 2009.\n",
    "\n",
    "[2] Weston, Jason, Samy Bengio, and Nicolas Usunier. “Wsabie: Scaling up to large vocabulary image annotation.” IJCAI. Vol. 11. 2011."
   ]
  },
  {
   "cell_type": "code",
   "execution_count": null,
   "metadata": {},
   "outputs": [],
   "source": []
  }
 ],
 "metadata": {
  "kernelspec": {
   "display_name": "Python 3",
   "language": "python",
   "name": "python3"
  },
  "language_info": {
   "codemirror_mode": {
    "name": "ipython",
    "version": 3
   },
   "file_extension": ".py",
   "mimetype": "text/x-python",
   "name": "python",
   "nbconvert_exporter": "python",
   "pygments_lexer": "ipython3",
   "version": "3.7.6"
  }
 },
 "nbformat": 4,
 "nbformat_minor": 2
}
