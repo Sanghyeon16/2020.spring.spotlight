{
 "cells": [
  {
   "cell_type": "markdown",
   "metadata": {},
   "source": [
    "# CSCE 670 :: Information Storage and Retrieval :: Spring 2020\n",
    "\n",
    "## Spotlight  : Textacy\n"
   ]
  },
  {
   "cell_type": "markdown",
   "metadata": {},
   "source": [
    "\n",
    "## Textacy : A higher-level NLP built on spaCy\n",
    "Textacy is a Python library for performing higher-level natural language processing (NLP) tasks, built on the high-performance spaCy library. With the basics — tokenization, part-of-speech tagging, dependency parsing, etc. — offloaded to another library, textacy focuses on tasks facilitated by the ready availability of tokenized, POS-tagged, and parsed text.\n"
   ]
  },
  {
   "cell_type": "markdown",
   "metadata": {},
   "source": [
    "### Features\n",
    "* Stream text, json, csv, and spaCy binary data to and from disk\n",
    "* Clean and normalize raw text, before analyzing it\n",
    "* Explore a variety of included datasets, with both text data and metadata from Congressional speeches to historical literature to Reddit comments\n",
    "* Access and filter basic linguistic elements, such as words and ngrams, noun chunks and sentences\n",
    "* Extract named entities, acronyms and their definitions, direct quotations, key terms, and more from documents\n",
    "* Compare strings, sets, and documents by a variety of similarity metrics\n",
    "* Transform documents and corpora into vectorized and semantic network representations\n",
    "* Train, interpret, visualize, and save sklearn-style topic models using LSA, LDA, or NMF methods\n",
    "* Identify a text’s language, display key words in context (KWIC), true-case words, and navigate a parse tree"
   ]
  },
  {
   "cell_type": "markdown",
   "metadata": {},
   "source": [
    "### Installation\n",
    "#### The simple way to install textacy is via pip:\n",
    "     $ pip install textacy\n",
    "\n",
    "#### or conda:\n",
    "     $ conda install -c conda-forge textacy"
   ]
  },
  {
   "cell_type": "markdown",
   "metadata": {},
   "source": [
    "#### Importing Textacy"
   ]
  },
  {
   "cell_type": "code",
   "execution_count": 1,
   "metadata": {},
   "outputs": [],
   "source": [
    "import textacy\n",
    "#since most the textacy functionality works on spacy-parsed document, we import spacy as well\n",
    "import spacy\n",
    "nlp = spacy.load('en_core_web_lg')"
   ]
  },
  {
   "cell_type": "markdown",
   "metadata": {},
   "source": [
    "## Information Retreival using Textacy"
   ]
  },
  {
   "cell_type": "markdown",
   "metadata": {},
   "source": [
    "##### Information Extraction\n",
    "Functions to extract various elements of interest from documents already parsed by spaCy, such as n-grams, named entities, subject-verb-object triples, and acronyms."
   ]
  },
  {
   "cell_type": "code",
   "execution_count": 2,
   "metadata": {},
   "outputs": [],
   "source": [
    "sample_text1 = \"\"\"Manchester United Football Club is a professional football club based in Old Trafford, Greater \\ \n",
    "Manchester, England, that competes in the Premier League, the top flight of English football. Nicknamed \"the Red Devils\", \\\n",
    "the club was founded as Newton Heath LYR Football Club in 1878, changed its name to Manchester United in 1902 and moved \\ \n",
    "to its current stadium, Old Trafford, in 1910.\"\"\""
   ]
  },
  {
   "cell_type": "code",
   "execution_count": 3,
   "metadata": {},
   "outputs": [],
   "source": [
    "spacy_text1 = nlp(sample_text1)"
   ]
  },
  {
   "cell_type": "markdown",
   "metadata": {},
   "source": [
    "###### Removing Stop-words"
   ]
  },
  {
   "cell_type": "code",
   "execution_count": 4,
   "metadata": {
    "scrolled": true
   },
   "outputs": [
    {
     "name": "stdout",
     "output_type": "stream",
     "text": [
      "[Manchester, United, Football, Club, professional, football, club, based, Old, Trafford, ,, Greater, \\, Manchester, ,, England, ,, competes, Premier, League, ,, flight, English, football, ., Nicknamed, \", Red, Devils, \", ,, club, founded, Newton, Heath, LYR, Football, Club, 1878, ,, changed, Manchester, United, 1902, moved, \\, current, stadium, ,, Old, Trafford, ,, 1910, .]\n"
     ]
    }
   ],
   "source": [
    "print(list(textacy.extract.words(spacy_text1, filter_stops=True, filter_punct=False, filter_nums=False )))"
   ]
  },
  {
   "cell_type": "markdown",
   "metadata": {},
   "source": [
    "##### Removing punctuations"
   ]
  },
  {
   "cell_type": "code",
   "execution_count": 5,
   "metadata": {},
   "outputs": [
    {
     "name": "stdout",
     "output_type": "stream",
     "text": [
      "[Manchester, United, Football, Club, is, a, professional, football, club, based, in, Old, Trafford, Greater, Manchester, England, that, competes, in, the, Premier, League, the, top, flight, of, English, football, Nicknamed, the, Red, Devils, the, club, was, founded, as, Newton, Heath, LYR, Football, Club, in, 1878, changed, its, name, to, Manchester, United, in, 1902, and, moved, to, its, current, stadium, Old, Trafford, in, 1910]\n"
     ]
    }
   ],
   "source": [
    "print(list(textacy.extract.words(spacy_text1, filter_stops=False, filter_punct=True, filter_nums=False)))"
   ]
  },
  {
   "cell_type": "markdown",
   "metadata": {},
   "source": [
    "###### Removing numbers"
   ]
  },
  {
   "cell_type": "code",
   "execution_count": 6,
   "metadata": {},
   "outputs": [
    {
     "name": "stdout",
     "output_type": "stream",
     "text": [
      "[Manchester, United, Football, Club, is, a, professional, football, club, based, in, Old, Trafford, ,, Greater, \\, Manchester, ,, England, ,, that, competes, in, the, Premier, League, ,, the, top, flight, of, English, football, ., Nicknamed, \", the, Red, Devils, \", ,, the, club, was, founded, as, Newton, Heath, LYR, Football, Club, in, ,, changed, its, name, to, Manchester, United, in, and, moved, \\, to, its, current, stadium, ,, Old, Trafford, ,, in, .]\n"
     ]
    }
   ],
   "source": [
    "print(list(textacy.extract.words(spacy_text1, filter_stops=False, filter_punct=False, filter_nums=True)))"
   ]
  },
  {
   "cell_type": "markdown",
   "metadata": {},
   "source": [
    "##### Preprocessing text (stop-words + punctuations + numbers)"
   ]
  },
  {
   "cell_type": "code",
   "execution_count": 7,
   "metadata": {},
   "outputs": [
    {
     "name": "stdout",
     "output_type": "stream",
     "text": [
      "[Manchester, United, Football, Club, professional, football, club, based, Old, Trafford, Greater, Manchester, England, competes, Premier, League, flight, English, football, Nicknamed, Red, Devils, club, founded, Newton, Heath, LYR, Football, Club, changed, Manchester, United, moved, current, stadium, Old, Trafford]\n"
     ]
    }
   ],
   "source": [
    "preprocessed_text = list(textacy.extract.words(spacy_text1, filter_stops=True, filter_punct=True, filter_nums=True))\n",
    "print(preprocessed_text)"
   ]
  },
  {
   "cell_type": "markdown",
   "metadata": {},
   "source": [
    "##### Filter by POS"
   ]
  },
  {
   "cell_type": "code",
   "execution_count": 8,
   "metadata": {},
   "outputs": [
    {
     "name": "stdout",
     "output_type": "stream",
     "text": [
      "[football, club, flight, football, club, stadium]\n"
     ]
    }
   ],
   "source": [
    "print(list(textacy.extract.words(spacy_text1, filter_stops=True, filter_punct=True, filter_nums=True,include_pos=\"noun\")))"
   ]
  },
  {
   "cell_type": "markdown",
   "metadata": {},
   "source": [
    "##### To lower case"
   ]
  },
  {
   "cell_type": "code",
   "execution_count": 9,
   "metadata": {},
   "outputs": [
    {
     "name": "stdout",
     "output_type": "stream",
     "text": [
      "['manchester', 'united', 'football', 'club', 'professional', 'football', 'club', 'based', 'old', 'trafford', 'greater', 'manchester', 'england', 'competes', 'premier', 'league', 'flight', 'english', 'football', 'nicknamed', 'red', 'devils', 'club', 'founded', 'newton', 'heath', 'lyr', 'football', 'club', 'changed', 'manchester', 'united', 'moved', 'current', 'stadium', 'old', 'trafford']\n"
     ]
    }
   ],
   "source": [
    "import textacy.ke\n",
    "print(list(textacy.ke.utils.normalize_terms(preprocessed_text,normalize=\"lower\")))"
   ]
  },
  {
   "cell_type": "markdown",
   "metadata": {},
   "source": [
    "##### Lemmatize"
   ]
  },
  {
   "cell_type": "code",
   "execution_count": 10,
   "metadata": {},
   "outputs": [
    {
     "name": "stdout",
     "output_type": "stream",
     "text": [
      "['Manchester', 'United', 'Football', 'Club', 'professional', 'football', 'club', 'base', 'Old', 'Trafford', 'Greater', 'Manchester', 'England', 'compete', 'Premier', 'League', 'flight', 'english', 'football', 'nickname', 'Red', 'Devils', 'club', 'found', 'Newton', 'Heath', 'LYR', 'Football', 'Club', 'change', 'Manchester', 'United', 'move', 'current', 'stadium', 'Old', 'Trafford']\n"
     ]
    }
   ],
   "source": [
    "print(list(textacy.ke.utils.normalize_terms(preprocessed_text,normalize=\"lemma\")))"
   ]
  },
  {
   "cell_type": "markdown",
   "metadata": {},
   "source": [
    "##### N-Grams"
   ]
  },
  {
   "cell_type": "code",
   "execution_count": 11,
   "metadata": {},
   "outputs": [
    {
     "data": {
      "text/plain": [
       "[[Manchester, United, Football, Club],\n",
       " [United, Football, Club, professional],\n",
       " [Football, Club, professional, football],\n",
       " [Club, professional, football, club],\n",
       " [professional, football, club, based],\n",
       " [football, club, based, Old],\n",
       " [club, based, Old, Trafford],\n",
       " [based, Old, Trafford, Greater],\n",
       " [Old, Trafford, Greater, Manchester],\n",
       " [Trafford, Greater, Manchester, England],\n",
       " [Greater, Manchester, England, competes],\n",
       " [Manchester, England, competes, Premier],\n",
       " [England, competes, Premier, League],\n",
       " [competes, Premier, League, flight],\n",
       " [Premier, League, flight, English],\n",
       " [League, flight, English, football],\n",
       " [flight, English, football, Nicknamed],\n",
       " [English, football, Nicknamed, Red],\n",
       " [football, Nicknamed, Red, Devils],\n",
       " [Nicknamed, Red, Devils, club],\n",
       " [Red, Devils, club, founded],\n",
       " [Devils, club, founded, Newton],\n",
       " [club, founded, Newton, Heath],\n",
       " [founded, Newton, Heath, LYR],\n",
       " [Newton, Heath, LYR, Football],\n",
       " [Heath, LYR, Football, Club],\n",
       " [LYR, Football, Club, changed],\n",
       " [Football, Club, changed, Manchester],\n",
       " [Club, changed, Manchester, United],\n",
       " [changed, Manchester, United, moved],\n",
       " [Manchester, United, moved, current],\n",
       " [United, moved, current, stadium],\n",
       " [moved, current, stadium, Old],\n",
       " [current, stadium, Old, Trafford]]"
      ]
     },
     "execution_count": 11,
     "metadata": {},
     "output_type": "execute_result"
    }
   ],
   "source": [
    "list(textacy.extract.ngrams(preprocessed_text,4))"
   ]
  },
  {
   "cell_type": "code",
   "execution_count": 12,
   "metadata": {},
   "outputs": [],
   "source": [
    "sample_text2 = '''Ned is a fictional character. Ned is the lord of Winterfell, an ancient fortress in the North of the \\\n",
    "fictional continent of Westeros. Though the character is established as the main character in the novel and \\ \n",
    "the first season of the TV adaptation, Martin's plot twist involving Ned shocked both readers of the book and viewers \\\n",
    "of the TV series. Ned is the leader of the Stark Family. Ned is a father of six children.'''\n",
    "\n",
    "sample_text3 = \"\"\"London is the capital and most populous city of England and  the United Kingdom. \\\n",
    "Standing on the River Thames in the south east of the island of Great Britain, \\ \n",
    "London has been a major settlement  for two millennia.  It was founded by the Romans, \\ \n",
    "who named it Londinium. \"\"\""
   ]
  },
  {
   "cell_type": "markdown",
   "metadata": {},
   "source": [
    "### Semi-structured Statement Extraction\n",
    "We can use it to search the parse tree for simple statements where the subject is the query term and the verb is a form of “be”. That should help us find facts about the query."
   ]
  },
  {
   "cell_type": "code",
   "execution_count": 13,
   "metadata": {},
   "outputs": [
    {
     "name": "stdout",
     "output_type": "stream",
     "text": [
      "Facts on Ned :\n",
      "    1 : a fictional character \n",
      "    2 : the lord of Winterfell, an ancient fortress in the North of the fictional continent of Westeros \n",
      "    3 : the leader of the Stark Family \n",
      "    4 : a father of six children \n",
      "\n",
      "Facts on London :\n",
      "    1 : the capital and most populous city of England and  the United Kingdom \n",
      "    2 : a major settlement  for two millennia.   \n"
     ]
    }
   ],
   "source": [
    "#semistructured_statements\n",
    "\n",
    "def summary(sentence, matchWord):\n",
    "    summary = ''\n",
    "    sentobj = nlp(sentence)\n",
    "    sentences = textacy.extract.semistructured_statements(sentobj, matchWord, cue = 'be')\n",
    "    print(\"Facts on\",matchWord,\":\")\n",
    "    for i, x in enumerate(sentences):\n",
    "        subject, verb, fact = x\n",
    "        \n",
    "        print('    '+str(i+1) +' : '+(str(fact))+\" \")\n",
    "    \n",
    "summary(sample_text2, 'Ned')\n",
    "print()\n",
    "summary(sample_text3, 'London')"
   ]
  },
  {
   "cell_type": "markdown",
   "metadata": {},
   "source": [
    "Maybe that’s not too impressive. But if you run that same code on the entire London wikipedia article text instead of just three sentences, you’ll get this more impressive result:"
   ]
  },
  {
   "cell_type": "code",
   "execution_count": 14,
   "metadata": {
    "scrolled": true
   },
   "outputs": [],
   "source": [
    "# this cell is just to get the content from a url, not part of textacy\n",
    "\n",
    "import urllib.request  # the lib that handles the url stuff\n",
    "from bs4 import BeautifulSoup\n",
    "from bs4.element import Comment\n",
    "import urllib.request\n",
    "\n",
    "url = \"https://en.wikipedia.org/wiki/London\"\n",
    "\n",
    "def tag_visible(element):\n",
    "    if element.parent.name in ['style', 'script', 'head', 'title', 'meta', '[document]']:\n",
    "        return False\n",
    "    if isinstance(element, Comment):\n",
    "        return False\n",
    "    return True\n",
    "\n",
    "def text_from_html(body):\n",
    "    soup = BeautifulSoup(body, 'html.parser')\n",
    "    texts = soup.findAll(text=True)\n",
    "    visible_texts = filter(tag_visible, texts)  \n",
    "    return u\" \".join(t.strip() for t in visible_texts)\n",
    "\n",
    "html = urllib.request.urlopen(url).read()\n",
    "# print(html)\n",
    "webpage = text_from_html(html)\n",
    "spacy_webpage = nlp(webpage)"
   ]
  },
  {
   "cell_type": "code",
   "execution_count": 15,
   "metadata": {},
   "outputs": [
    {
     "name": "stdout",
     "output_type": "stream",
     "text": [
      "Facts on London :\n",
      "    1 : the capital and largest city of England and the United Kingdom \n",
      "    2 : a major settlement for two millennia \n",
      "    3 : the largest city in the EU \n",
      "    4 : the world's most populous city from c. 1831 to 1925 \n",
      "    5 : an ancient name, already attested in the first century AD, usually in the Latinised form Londinium ; [62 \n",
      "    6 : beyond all comparison the largest town in England \n",
      "    7 : the focus of the Peasants' Revolt in 1381 \n",
      "    8 : also a centre of England's Jewish population before their expulsion by Edward I in 1290 \n",
      "    9 : still very compact \n",
      "    10 : the seat of the Government of the United Kingdom \n",
      "    11 : vulnerable to flooding \n",
      "    12 : \"one of the World's Greenest Cities\" with more than 40 per cent green space or open water \n",
      "    13 : the most populous city and metropolitan area of the European Union and the second most populous in Europe \n",
      "    14 : the 19th largest city and the 18th largest metropolitan region \n",
      "    15 : Christian, and has a large number of churches , particularly in the City of London \n",
      "    16 : the second-largest Hindu temple in England and Europe.   \n",
      "    17 : also home to sizeable Muslim , Hindu , Sikh , and Jewish communities \n",
      "    18 : also home to 44 Hindu temples, including the BAPS Shri Swaminarayan Mandir London \n",
      "    19 : the world's most expensive office market for the last three years according to world property journal (2015) report \n",
      "    20 : one of the pre-eminent financial centres of the world as the most important location for international finance \n",
      "    21 : the world top city destination as ranked by TripAdvisor users \n",
      "    22 : a major international air transport hub with the busiest city airspace in the world \n",
      "    23 : the centre of the National Rail network, with 70 per cent of rail journeys starting or ending in London \n",
      "    24 : a major global centre of higher education teaching and research and has the largest concentration of higher education institutes in Europe \n",
      "    25 : one of the founding colleges of the University of London   \n",
      "    26 : the setting for many works of literature \n",
      "    27 : a major centre for television production, with studios including BBC Television Centre , The Fountain Studios and The London Studios \n",
      "    28 : also a centre for urban music \n",
      "    29 : the \"greenest city\" in Europe with 35,000 acres of public parks, woodlands and gardens \n",
      "    30 : not the capital of England, as England does not have its own government \n",
      "    31 : World's Most Expensive City | PropertyTime \n",
      "    32 : 'the most desirable city in the world to work in \n",
      "    33 : on fire as the West's fastest growing city \n",
      "    34 : the world capital of the 21st century  \n",
      "    35 : world capital of culture \n",
      "    36 : the HR centre of opportunity in the UK \n"
     ]
    }
   ],
   "source": [
    "summary(webpage, 'London')"
   ]
  },
  {
   "cell_type": "markdown",
   "metadata": {},
   "source": [
    "Now things are getting interesting! That’s a pretty impressive amount of information we’ve collected automatically."
   ]
  },
  {
   "cell_type": "markdown",
   "metadata": {},
   "source": [
    "### Keyterm Extraction\n",
    "Extract key terms from a document using the TextRank algorithm, or a variation thereof.\n",
    "\n",
    "* TextRank    : window_size=2, edge_weighting=\"binary\", position_bias=False\n",
    "* SingleRank  : window_size=10, edge_weighting=\"count\", position_bias=False\n",
    "* PositionRank: window_size=10, edge_weighting=\"count\", position_bias=True"
   ]
  },
  {
   "cell_type": "code",
   "execution_count": 16,
   "metadata": {},
   "outputs": [
    {
     "data": {
      "text/plain": [
       "[('Manchester United Football Club', 0.18955458792777558),\n",
       " ('Newton Heath LYR Football Club', 0.11568925131244044),\n",
       " ('professional football club', 0.07646104362386522),\n",
       " ('english football', 0.03909831381107171),\n",
       " ('Old Trafford', 0.03452339207049752),\n",
       " ('Premier League', 0.02162215389538466),\n",
       " ('current stadium', 0.0191623214192488),\n",
       " ('Red Devils', 0.017873162108153262),\n",
       " ('Greater', 0.013454210153143843),\n",
       " ('flight', 0.008986857047982064)]"
      ]
     },
     "execution_count": 16,
     "metadata": {},
     "output_type": "execute_result"
    }
   ],
   "source": [
    "textacy.ke.textrank(nlp(sample_text1),window_size=2, edge_weighting=\"binary\", position_bias=True, normalize='lemma')"
   ]
  },
  {
   "cell_type": "markdown",
   "metadata": {},
   "source": [
    "##### SGRank"
   ]
  },
  {
   "cell_type": "code",
   "execution_count": 17,
   "metadata": {},
   "outputs": [
    {
     "data": {
      "text/plain": [
       "[('London', 0.3521892023818906),\n",
       " ('United Kingdom', 0.08137402706926102),\n",
       " ('Greater London', 0.06589578101880868),\n",
       " ('New York', 0.034077188960726416),\n",
       " ('city', 0.02710506330568965),\n",
       " ('London Authority', 0.021667334949938652),\n",
       " ('main article', 0.021323436571774778),\n",
       " ('area', 0.012680254882822014),\n",
       " ('England', 0.011955010350102317),\n",
       " ('population', 0.010525048396526364)]"
      ]
     },
     "execution_count": 17,
     "metadata": {},
     "output_type": "execute_result"
    }
   ],
   "source": [
    "textacy.ke.sgrank(spacy_webpage, normalize='lemma', window_size=10)"
   ]
  },
  {
   "cell_type": "markdown",
   "metadata": {},
   "source": [
    "##### TextStats"
   ]
  },
  {
   "cell_type": "code",
   "execution_count": 18,
   "metadata": {},
   "outputs": [
    {
     "data": {
      "text/plain": [
       "{'n_sents': 3983,\n",
       " 'n_words': 28167,\n",
       " 'n_chars': 141362,\n",
       " 'n_syllables': 43293,\n",
       " 'n_unique_words': 5869,\n",
       " 'n_long_words': 7813,\n",
       " 'n_monosyllable_words': 17850,\n",
       " 'n_polysyllable_words': 3555}"
      ]
     },
     "execution_count": 18,
     "metadata": {},
     "output_type": "execute_result"
    }
   ],
   "source": [
    "ts = textacy.TextStats(spacy_webpage)\n",
    "ts.basic_counts"
   ]
  },
  {
   "cell_type": "markdown",
   "metadata": {},
   "source": [
    "### Vectorization & Topic Modeling\n",
    "Topic modeling is automatic discovering the abstract “topics” that occur in a collection of documents. It can be used for providing more informative view of search results, quick overview for set of documents or some other services."
   ]
  },
  {
   "cell_type": "code",
   "execution_count": 19,
   "metadata": {},
   "outputs": [],
   "source": [
    "import textacy.datasets #this library also comes with several datasets that we can use for modeling "
   ]
  },
  {
   "cell_type": "markdown",
   "metadata": {},
   "source": [
    "Here we use Capitol Words Congressional speeches as our dataset.\n",
    "It is a collection of ~11k (almost all) speeches given by the main protagonists of the 2016 U.S. Presidential election that had previously served in the U.S. Congress – including Hillary Clinton, Bernie Sanders, Barack Obama, Ted Cruz, and John Kasich – from January 1996 through June 2016.\n",
    "\n",
    "Efficiently stream documents from disk and into a processed corpus:"
   ]
  },
  {
   "cell_type": "code",
   "execution_count": 20,
   "metadata": {},
   "outputs": [],
   "source": [
    "ds = textacy.datasets.CapitolWords()\n",
    "records = ds.records(speaker_name={'Hillary Clinton', 'Barack Obama'})\n",
    "corpus = textacy.Corpus(\"en_core_web_sm\", data=records)"
   ]
  },
  {
   "cell_type": "markdown",
   "metadata": {},
   "source": [
    "Represent corpus as a document-term matrix, with flexible weighting and filtering:"
   ]
  },
  {
   "cell_type": "code",
   "execution_count": 21,
   "metadata": {},
   "outputs": [],
   "source": [
    "vectorizer = textacy.vsm.Vectorizer(tf_type='linear', apply_idf=True, idf_type='smooth')\n",
    "doc_term_matrix = vectorizer.fit_transform((doc._.to_terms_list(ngrams=1, named_entities=True, as_strings=True) for doc in corpus))"
   ]
  },
  {
   "cell_type": "markdown",
   "metadata": {},
   "source": [
    "Train and interpret a topic model:"
   ]
  },
  {
   "cell_type": "code",
   "execution_count": 22,
   "metadata": {},
   "outputs": [
    {
     "data": {
      "text/plain": [
       "(1241, 10)"
      ]
     },
     "execution_count": 22,
     "metadata": {},
     "output_type": "execute_result"
    }
   ],
   "source": [
    "import textacy.tm\n",
    "model = textacy.tm.TopicModel('nmf', n_topics=10) #We use Non-negative Matrix Factorization method\n",
    "model.fit(doc_term_matrix)\n",
    "doc_topic_matrix = model.transform(doc_term_matrix)\n",
    "doc_topic_matrix.shape"
   ]
  },
  {
   "cell_type": "code",
   "execution_count": 23,
   "metadata": {},
   "outputs": [
    {
     "name": "stdout",
     "output_type": "stream",
     "text": [
      "topic 0 : Postal   Tax Court   Court   torture   Tax   Postal Service   Service   section   Act   judge\n",
      "topic 1 : Owen   Justice   dissent   Texas   majority   case   opinion   judicial   Court   activism\n",
      "topic 2 : woman   â€   health   care   people   New   need   work   York   drug\n",
      "topic 3 : gun   dealer   manufacturer   firearm   exception   negligent   seller   criminal   weapon   suit\n",
      "topic 4 : visa   student   United   United States   States   international   Homeland   security   shall   Strategy\n",
      "topic 5 : blind   tribe   Indians   earning   welfare   tanf   tribal   Social   indian   program\n",
      "topic 6 : meat   eat   product   Listeria   ready   poultry   monocytogene   Secretary   risk   b\n",
      "topic 7 : school   student   child   education   teacher   college   district   test   tax   $\n",
      "topic 8 : Brother   Stephen   College   Sullivan   Brothers   Manhattan   Manhattan College   Salle   St.   La\n",
      "topic 9 : EPA   air   White   White House   House   inspector   asbestos   New   general   public\n"
     ]
    }
   ],
   "source": [
    "for topic_idx, top_terms in model.top_topic_terms(vectorizer.id_to_term, top_n=10):\n",
    "    print('topic', topic_idx, ':', '   '.join(top_terms))"
   ]
  },
  {
   "cell_type": "markdown",
   "metadata": {},
   "source": [
    "##### Visualization\n",
    "Make a “termite” plot, typically used for assessing topic models with a tabular layout that promotes comparison of terms both within and across topics."
   ]
  },
  {
   "cell_type": "code",
   "execution_count": 24,
   "metadata": {},
   "outputs": [
    {
     "data": {
      "text/plain": [
       "<matplotlib.axes._subplots.AxesSubplot at 0x1b109f674c8>"
      ]
     },
     "execution_count": 24,
     "metadata": {},
     "output_type": "execute_result"
    },
    {
     "data": {
      "image/png": "[encoded data removed]",
      "text/plain": [
       "<Figure size 454.289x602.522 with 1 Axes>"
      ]
     },
     "metadata": {},
     "output_type": "display_data"
    }
   ],
   "source": [
    "model.termite_plot(doc_topic_matrix, vectorizer.id_to_term, topics=-1,  n_terms=25, sort_terms_by='seriation') "
   ]
  },
  {
   "cell_type": "markdown",
   "metadata": {},
   "source": [
    "### Conclusion\n",
    "There are a lot of libraries available out there which has a list of feature more extensive than the one offered by textacy. But textacy is very easy to configure and use, when compared to other bigshot libraries like NLTK. Since it is built on spaCy it also works really fast. Textacy has many more features to explore. "
   ]
  },
  {
   "cell_type": "markdown",
   "metadata": {},
   "source": [
    "### References\n",
    "* https://textacy.readthedocs.io/en/latest\n",
    "* https://chartbeat-labs.github.io/textacy/build/html/index.html\n",
    "* https://pypi.org/project/textacy"
   ]
  }
 ],
 "metadata": {
  "kernelspec": {
   "display_name": "Python 3",
   "language": "python",
   "name": "python3"
  },
  "language_info": {
   "codemirror_mode": {
    "name": "ipython",
    "version": 3
   },
   "file_extension": ".py",
   "mimetype": "text/x-python",
   "name": "python",
   "nbconvert_exporter": "python",
   "pygments_lexer": "ipython3",
   "version": "3.7.4"
  }
 },
 "nbformat": 4,
 "nbformat_minor": 4
}
