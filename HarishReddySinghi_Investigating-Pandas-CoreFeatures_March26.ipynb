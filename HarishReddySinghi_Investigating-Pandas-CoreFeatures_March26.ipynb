{
 "cells": [
  {
   "cell_type": "markdown",
   "metadata": {},
   "source": [
    "#### CSCE 670 :: Information Storage and Retrieval :: Texas A&M University :: Spring 2020\n",
    "\n",
    "\n",
    "# CSCE 670: Spot Light : Investigating Pandas and its core features"
   ]
  },
  {
   "cell_type": "markdown",
   "metadata": {},
   "source": [
    "# 1: Introduction\n",
    "\n",
    "According to <a href = \"https://pandas.pydata.org/docs/user_guide/index.html\">Pandas Pydata </a>, Pandas is a fast, powerful, flexible and easy to use open source data analysis and manipulation tool, built on top of the Python programming language. \n",
    "\n",
    "Pandas is one of the most popular python libraries that is used for data analysis. It has back-end source code is written in C or Python. It provides highly optimized performance. There are two ways we can analyze the data in pandas i.e., Series and DataFrames"
   ]
  },
  {
   "cell_type": "markdown",
   "metadata": {},
   "source": [
    "# 2: Setup\n",
    "\n",
    "Installing Pandas using pip:\n",
    "Using Commnad Line Prompt,\n",
    "enter : pip install pandas"
   ]
  },
  {
   "cell_type": "markdown",
   "metadata": {},
   "source": [
    "# 3: Features\n",
    "\n",
    "There are a lot of features that can be implemented with the help of pandas such as Cleaning up data, Handling of data, Alignment and indexing, Handling missing data, Merging and joining of datasets, Optimized performance, Grouping, Mask data, Perform mathematical operations on the data, etc. In this case, I used the IMDB 5000 Movie Dataset to implement the features of pandas. \n"
   ]
  },
  {
   "cell_type": "markdown",
   "metadata": {},
   "source": [
    "# 3.1: Handling and Cleaning the data\n",
    "\n"
   ]
  },
  {
   "cell_type": "code",
   "execution_count": 186,
   "metadata": {},
   "outputs": [],
   "source": [
    "import pandas as pd\n",
    "imdbDF = pd.read_csv(\"imdb_dataset.csv\")"
   ]
  },
  {
   "cell_type": "code",
   "execution_count": 3,
   "metadata": {},
   "outputs": [
    {
     "name": "stdout",
     "output_type": "stream",
     "text": [
      " Shape of Dataframe: \n",
      "(5043, 28)\n"
     ]
    }
   ],
   "source": [
    "print(\" Shape of Dataframe: \") \n",
    "print(imdbDF.shape) "
   ]
  },
  {
   "cell_type": "markdown",
   "metadata": {},
   "source": [
    "From the result we can see that the dataset has 5043 rows and 28 columns. "
   ]
  },
  {
   "cell_type": "code",
   "execution_count": 4,
   "metadata": {},
   "outputs": [
    {
     "name": "stdout",
     "output_type": "stream",
     "text": [
      "Columns' Names\n",
      "['color' 'director_name' 'num_critic_for_reviews' 'duration'\n",
      " 'director_facebook_likes' 'actor_3_facebook_likes' 'actor_2_name'\n",
      " 'actor_1_facebook_likes' 'gross' 'genres' 'actor_1_name' 'movie_title'\n",
      " 'num_voted_users' 'cast_total_facebook_likes' 'actor_3_name'\n",
      " 'facenumber_in_poster' 'plot_keywords' 'movie_imdb_link'\n",
      " 'num_user_for_reviews' 'language' 'country' 'content_rating' 'budget'\n",
      " 'title_year' 'actor_2_facebook_likes' 'imdb_score' 'aspect_ratio'\n",
      " 'movie_facebook_likes']\n"
     ]
    }
   ],
   "source": [
    "# Names of the columns are as follows\n",
    "print(\"Columns' Names\")\n",
    "print(imdbDF.columns.values)"
   ]
  },
  {
   "cell_type": "markdown",
   "metadata": {},
   "source": [
    "## 3.1.1 Handling Missing Data\n",
    "#### pandas.DataFrame.isna() is used to find missing values. The returned value is a Boolean object. The NA values are numpy.NaN or None. This is similar to pandas.DataFrame.isnull() ."
   ]
  },
  {
   "cell_type": "code",
   "execution_count": 5,
   "metadata": {},
   "outputs": [
    {
     "name": "stdout",
     "output_type": "stream",
     "text": [
      "Null Values are\n",
      "      color  director_name  num_critic_for_reviews  duration  \\\n",
      "0     False          False                   False     False   \n",
      "1     False          False                   False     False   \n",
      "2     False          False                   False     False   \n",
      "3     False          False                   False     False   \n",
      "4      True          False                    True      True   \n",
      "...     ...            ...                     ...       ...   \n",
      "5038  False          False                   False     False   \n",
      "5039  False           True                   False     False   \n",
      "5040  False          False                   False     False   \n",
      "5041  False          False                   False     False   \n",
      "5042  False          False                   False     False   \n",
      "\n",
      "      director_facebook_likes  actor_3_facebook_likes  actor_2_name  \\\n",
      "0                       False                   False         False   \n",
      "1                       False                   False         False   \n",
      "2                       False                   False         False   \n",
      "3                       False                   False         False   \n",
      "4                       False                    True         False   \n",
      "...                       ...                     ...           ...   \n",
      "5038                    False                   False         False   \n",
      "5039                     True                   False         False   \n",
      "5040                    False                   False         False   \n",
      "5041                    False                   False         False   \n",
      "5042                    False                   False         False   \n",
      "\n",
      "      actor_1_facebook_likes  gross  genres  ...  num_user_for_reviews  \\\n",
      "0                      False  False   False  ...                 False   \n",
      "1                      False  False   False  ...                 False   \n",
      "2                      False  False   False  ...                 False   \n",
      "3                      False  False   False  ...                 False   \n",
      "4                      False   True   False  ...                  True   \n",
      "...                      ...    ...     ...  ...                   ...   \n",
      "5038                   False   True   False  ...                 False   \n",
      "5039                   False   True   False  ...                 False   \n",
      "5040                   False   True   False  ...                 False   \n",
      "5041                   False  False   False  ...                 False   \n",
      "5042                   False  False   False  ...                 False   \n",
      "\n",
      "      language  country  content_rating  budget  title_year  \\\n",
      "0        False    False           False   False       False   \n",
      "1        False    False           False   False       False   \n",
      "2        False    False           False   False       False   \n",
      "3        False    False           False   False       False   \n",
      "4         True     True            True    True        True   \n",
      "...        ...      ...             ...     ...         ...   \n",
      "5038     False    False            True    True       False   \n",
      "5039     False    False           False    True        True   \n",
      "5040     False    False            True   False       False   \n",
      "5041     False    False           False    True       False   \n",
      "5042     False    False           False   False       False   \n",
      "\n",
      "      actor_2_facebook_likes  imdb_score  aspect_ratio  movie_facebook_likes  \n",
      "0                      False       False         False                 False  \n",
      "1                      False       False         False                 False  \n",
      "2                      False       False         False                 False  \n",
      "3                      False       False         False                 False  \n",
      "4                      False       False          True                 False  \n",
      "...                      ...         ...           ...                   ...  \n",
      "5038                   False       False          True                 False  \n",
      "5039                   False       False         False                 False  \n",
      "5040                   False       False          True                 False  \n",
      "5041                   False       False         False                 False  \n",
      "5042                   False       False         False                 False  \n",
      "\n",
      "[5043 rows x 28 columns]\n"
     ]
    }
   ],
   "source": [
    "# Null values are as follows:\n",
    "print(\"Null Values are\") \n",
    "print(imdbDF.isna())"
   ]
  },
  {
   "cell_type": "markdown",
   "metadata": {},
   "source": [
    "#### The total number of missing values in each column can be calculated  using sum()"
   ]
  },
  {
   "cell_type": "code",
   "execution_count": 6,
   "metadata": {},
   "outputs": [
    {
     "name": "stdout",
     "output_type": "stream",
     "text": [
      "color                         19\n",
      "director_name                104\n",
      "num_critic_for_reviews        50\n",
      "duration                      15\n",
      "director_facebook_likes      104\n",
      "actor_3_facebook_likes        23\n",
      "actor_2_name                  13\n",
      "actor_1_facebook_likes         7\n",
      "gross                        884\n",
      "genres                         0\n",
      "actor_1_name                   7\n",
      "movie_title                    0\n",
      "num_voted_users                0\n",
      "cast_total_facebook_likes      0\n",
      "actor_3_name                  23\n",
      "facenumber_in_poster          13\n",
      "plot_keywords                153\n",
      "movie_imdb_link                0\n",
      "num_user_for_reviews          21\n",
      "language                      12\n",
      "country                        5\n",
      "content_rating               303\n",
      "budget                       492\n",
      "title_year                   108\n",
      "actor_2_facebook_likes        13\n",
      "imdb_score                     0\n",
      "aspect_ratio                 329\n",
      "movie_facebook_likes           0\n",
      "dtype: int64\n"
     ]
    }
   ],
   "source": [
    "# using sum()\n",
    "print(imdbDF.isna().sum())"
   ]
  },
  {
   "cell_type": "markdown",
   "metadata": {},
   "source": [
    "#### We can use another sum() to calculate the total number of null values in the imdb dataset."
   ]
  },
  {
   "cell_type": "code",
   "execution_count": 7,
   "metadata": {},
   "outputs": [
    {
     "name": "stdout",
     "output_type": "stream",
     "text": [
      "Number of null values in Dataset\n",
      "2698\n"
     ]
    }
   ],
   "source": [
    "print(\"Number of null values in Dataset\")\n",
    "print(imdbDF.isna().sum().sum())"
   ]
  },
  {
   "cell_type": "markdown",
   "metadata": {},
   "source": [
    "## 3.1.2 Cleaning the Data\n",
    "We can remove rows that has NA by dropping them. "
   ]
  },
  {
   "cell_type": "code",
   "execution_count": 8,
   "metadata": {},
   "outputs": [],
   "source": [
    "imdbDF_clean = imdbDF.dropna(how='any')"
   ]
  },
  {
   "cell_type": "code",
   "execution_count": 9,
   "metadata": {},
   "outputs": [
    {
     "name": "stdout",
     "output_type": "stream",
     "text": [
      "Shape of new dataframe\n",
      "(3756, 28)\n"
     ]
    }
   ],
   "source": [
    "print(\"Shape of new dataframe\") \n",
    "print(imdbDF_clean.shape)"
   ]
  },
  {
   "cell_type": "markdown",
   "metadata": {},
   "source": [
    "#### Conclusion: \n",
    "With the help of dropping the rows that have values of NA, we are able to reduce the rows' count by 1287. \n"
   ]
  },
  {
   "cell_type": "markdown",
   "metadata": {},
   "source": [
    "#### Generally by dropping all rows with the missing value, we might lose required information. For that situation, pandas.DataFrame.fillna() can be used to replace NA/NaN values with some fixed value. \n",
    "\n",
    "We can replace the NA or NaN values by some value say for example we can replace it by 0. "
   ]
  },
  {
   "cell_type": "code",
   "execution_count": 13,
   "metadata": {},
   "outputs": [],
   "source": [
    "#replace the NA or NaN values by some value say for example we can replace it by 0. \n",
    "imdbDF.fillna(value=0, inplace = True) "
   ]
  },
  {
   "cell_type": "markdown",
   "metadata": {},
   "source": [
    "#### Using DataFrame.fillna() we can fill specific columns with values, For example: \n",
    "Method 1:"
   ]
  },
  {
   "cell_type": "code",
   "execution_count": 14,
   "metadata": {},
   "outputs": [],
   "source": [
    "imdbDF[['gross', 'budget']] = imdbDF[['gross', 'budget']].fillna(value=0)"
   ]
  },
  {
   "cell_type": "markdown",
   "metadata": {},
   "source": [
    "Method 2:\n",
    "For ‘object’ dtypes in columns, we can fill up “no info” in the missing places."
   ]
  },
  {
   "cell_type": "code",
   "execution_count": 15,
   "metadata": {},
   "outputs": [],
   "source": [
    "imdbDF['aspect_ratio'].fillna(\"no info\", inplace=True)"
   ]
  },
  {
   "cell_type": "markdown",
   "metadata": {},
   "source": [
    "Method 3:\n",
    "Filling up using ffill method where last valid value is propagated to the next. \n",
    "Also Filling up using bfill is used to fill the next observed value in the missing place"
   ]
  },
  {
   "cell_type": "code",
   "execution_count": 16,
   "metadata": {},
   "outputs": [],
   "source": [
    "imdbDF['aspect_ratio'].fillna(method='ffill', inplace=True)\n",
    "imdbDF['aspect_ratio'].fillna(method='bfill', inplace=True)"
   ]
  },
  {
   "cell_type": "markdown",
   "metadata": {},
   "source": [
    "Method 4: \n",
    "We can also use another effective method where the mean of the column is used to fill the missing values. "
   ]
  },
  {
   "cell_type": "markdown",
   "metadata": {},
   "source": [
    "### pandas.DataFrame.duplicated( ) : To find duplicate data\n",
    "Till now we dealt with missing data, sometimes the dataframe may contain duplicated rows. \n",
    "pandas.Dataframe.duplicated() returns a Boolean series to give duplicated rows. Fir st of all we need to find the number of  duplicated rows are in the dataset."
   ]
  },
  {
   "cell_type": "code",
   "execution_count": 18,
   "metadata": {
    "scrolled": true
   },
   "outputs": [
    {
     "name": "stdout",
     "output_type": "stream",
     "text": [
      "The number of  duplicated rows are in the dataset\n"
     ]
    }
   ],
   "source": [
    "# Calculating the number of  duplicated rows in the dataset.\n",
    "dupRowsDF = imdbDF[imdbDF.duplicated()]\n",
    "print(\"The number of  duplicated rows are in the dataset\")\n",
    "\n"
   ]
  },
  {
   "cell_type": "code",
   "execution_count": 19,
   "metadata": {},
   "outputs": [
    {
     "name": "stdout",
     "output_type": "stream",
     "text": [
      "(45, 28)\n"
     ]
    }
   ],
   "source": [
    "print(dupRowsDF.shape)"
   ]
  },
  {
   "cell_type": "markdown",
   "metadata": {},
   "source": [
    "Hence,\n",
    "No. of rows with duplicate elements = 45 present in each column. "
   ]
  },
  {
   "cell_type": "code",
   "execution_count": 24,
   "metadata": {},
   "outputs": [],
   "source": [
    "# for individual column say aspect_ratio\n",
    "dupRowsDF_movie_imdb_link= imdbDF[imdbDF.duplicated(['movie_imdb_link'])]"
   ]
  },
  {
   "cell_type": "code",
   "execution_count": 26,
   "metadata": {},
   "outputs": [
    {
     "name": "stdout",
     "output_type": "stream",
     "text": [
      "(124, 28)\n"
     ]
    }
   ],
   "source": [
    "print(dupRowsDF_movie_imdb_link.shape)"
   ]
  },
  {
   "cell_type": "markdown",
   "metadata": {},
   "source": [
    "### pandas.Series.unique(): To find unique number of cases\n",
    "##### From the above result, we can say 124 movies have the same movie link "
   ]
  },
  {
   "cell_type": "code",
   "execution_count": 44,
   "metadata": {},
   "outputs": [
    {
     "name": "stdout",
     "output_type": "stream",
     "text": [
      "Unique movie links:\n",
      "4919\n"
     ]
    }
   ],
   "source": [
    "print(\"Unique movie links:\")\n",
    "print(len(imdbDF.movie_imdb_link.unique()))"
   ]
  },
  {
   "cell_type": "markdown",
   "metadata": {},
   "source": [
    " ### pandas.DataFrame.drop_duplicates():  Delete duplicate rows & we can use use the unique rows for analysis"
   ]
  },
  {
   "cell_type": "code",
   "execution_count": 45,
   "metadata": {},
   "outputs": [
    {
     "name": "stdout",
     "output_type": "stream",
     "text": [
      "imdbDF shape after duplicates are dropped\n",
      "(4998, 29)\n"
     ]
    }
   ],
   "source": [
    "print(\"imdbDF shape after duplicates are dropped\")\n",
    "\n",
    "print(imdbDF.drop_duplicates().shape) "
   ]
  },
  {
   "cell_type": "markdown",
   "metadata": {},
   "source": [
    "### Data Processing Technique:\n",
    "### Data Binning/bucketing using pandas.cut( )\n",
    "We can the separate various movies into various bauckets based on the movie ratings. For example,"
   ]
  },
  {
   "cell_type": "code",
   "execution_count": 46,
   "metadata": {},
   "outputs": [],
   "source": [
    "# separating into different categories\n",
    "label = ['Low', 'Avg', 'Good', 'Best']\n",
    "diffCategories = [0.,3., 6.5 ,7.,10.]\n"
   ]
  },
  {
   "cell_type": "code",
   "execution_count": 47,
   "metadata": {},
   "outputs": [],
   "source": [
    "imdbDF['Ownlabels'] = pd.cut(imdbDF['imdb_score'], labels=label, bins=diffCategories, include_lowest=False)"
   ]
  },
  {
   "cell_type": "code",
   "execution_count": 48,
   "metadata": {},
   "outputs": [
    {
     "data": {
      "text/html": [
       "<div>\n",
       "<style scoped>\n",
       "    .dataframe tbody tr th:only-of-type {\n",
       "        vertical-align: middle;\n",
       "    }\n",
       "\n",
       "    .dataframe tbody tr th {\n",
       "        vertical-align: top;\n",
       "    }\n",
       "\n",
       "    .dataframe thead th {\n",
       "        text-align: right;\n",
       "    }\n",
       "</style>\n",
       "<table border=\"1\" class=\"dataframe\">\n",
       "  <thead>\n",
       "    <tr style=\"text-align: right;\">\n",
       "      <th></th>\n",
       "      <th>movie_title</th>\n",
       "      <th>imdb_score</th>\n",
       "      <th>Ownlabels</th>\n",
       "    </tr>\n",
       "  </thead>\n",
       "  <tbody>\n",
       "    <tr>\n",
       "      <td>100</td>\n",
       "      <td>The Fast and the Furious</td>\n",
       "      <td>6.7</td>\n",
       "      <td>Good</td>\n",
       "    </tr>\n",
       "    <tr>\n",
       "      <td>101</td>\n",
       "      <td>The Curious Case of Benjamin Button</td>\n",
       "      <td>7.8</td>\n",
       "      <td>Best</td>\n",
       "    </tr>\n",
       "    <tr>\n",
       "      <td>102</td>\n",
       "      <td>X-Men: First Class</td>\n",
       "      <td>7.8</td>\n",
       "      <td>Best</td>\n",
       "    </tr>\n",
       "    <tr>\n",
       "      <td>103</td>\n",
       "      <td>The Hunger Games: Mockingjay - Part 2</td>\n",
       "      <td>6.6</td>\n",
       "      <td>Good</td>\n",
       "    </tr>\n",
       "    <tr>\n",
       "      <td>104</td>\n",
       "      <td>The Sorcerer's Apprentice</td>\n",
       "      <td>6.1</td>\n",
       "      <td>Avg</td>\n",
       "    </tr>\n",
       "    <tr>\n",
       "      <td>105</td>\n",
       "      <td>Poseidon</td>\n",
       "      <td>5.6</td>\n",
       "      <td>Avg</td>\n",
       "    </tr>\n",
       "    <tr>\n",
       "      <td>106</td>\n",
       "      <td>Alice Through the Looking Glass</td>\n",
       "      <td>6.4</td>\n",
       "      <td>Avg</td>\n",
       "    </tr>\n",
       "    <tr>\n",
       "      <td>107</td>\n",
       "      <td>Shrek the Third</td>\n",
       "      <td>6.1</td>\n",
       "      <td>Avg</td>\n",
       "    </tr>\n",
       "    <tr>\n",
       "      <td>108</td>\n",
       "      <td>Warcraft</td>\n",
       "      <td>7.3</td>\n",
       "      <td>Best</td>\n",
       "    </tr>\n",
       "    <tr>\n",
       "      <td>109</td>\n",
       "      <td>Terminator Genisys</td>\n",
       "      <td>6.6</td>\n",
       "      <td>Good</td>\n",
       "    </tr>\n",
       "    <tr>\n",
       "      <td>110</td>\n",
       "      <td>The Chronicles of Narnia: The Voyage of the Da...</td>\n",
       "      <td>6.3</td>\n",
       "      <td>Avg</td>\n",
       "    </tr>\n",
       "    <tr>\n",
       "      <td>111</td>\n",
       "      <td>Pearl Harbor</td>\n",
       "      <td>6.1</td>\n",
       "      <td>Avg</td>\n",
       "    </tr>\n",
       "    <tr>\n",
       "      <td>112</td>\n",
       "      <td>Transformers</td>\n",
       "      <td>7.1</td>\n",
       "      <td>Best</td>\n",
       "    </tr>\n",
       "    <tr>\n",
       "      <td>113</td>\n",
       "      <td>Alexander</td>\n",
       "      <td>5.5</td>\n",
       "      <td>Avg</td>\n",
       "    </tr>\n",
       "    <tr>\n",
       "      <td>114</td>\n",
       "      <td>Harry Potter and the Order of the Phoenix</td>\n",
       "      <td>7.5</td>\n",
       "      <td>Best</td>\n",
       "    </tr>\n",
       "    <tr>\n",
       "      <td>115</td>\n",
       "      <td>Harry Potter and the Goblet of Fire</td>\n",
       "      <td>7.6</td>\n",
       "      <td>Best</td>\n",
       "    </tr>\n",
       "    <tr>\n",
       "      <td>116</td>\n",
       "      <td>Hancock</td>\n",
       "      <td>6.4</td>\n",
       "      <td>Avg</td>\n",
       "    </tr>\n",
       "    <tr>\n",
       "      <td>117</td>\n",
       "      <td>I Am Legend</td>\n",
       "      <td>7.2</td>\n",
       "      <td>Best</td>\n",
       "    </tr>\n",
       "    <tr>\n",
       "      <td>118</td>\n",
       "      <td>Charlie and the Chocolate Factory</td>\n",
       "      <td>6.7</td>\n",
       "      <td>Good</td>\n",
       "    </tr>\n",
       "    <tr>\n",
       "      <td>119</td>\n",
       "      <td>Ratatouille</td>\n",
       "      <td>8.0</td>\n",
       "      <td>Best</td>\n",
       "    </tr>\n",
       "  </tbody>\n",
       "</table>\n",
       "</div>"
      ],
      "text/plain": [
       "                                           movie_title  imdb_score Ownlabels\n",
       "100                          The Fast and the Furious          6.7      Good\n",
       "101               The Curious Case of Benjamin Button          7.8      Best\n",
       "102                                X-Men: First Class          7.8      Best\n",
       "103             The Hunger Games: Mockingjay - Part 2          6.6      Good\n",
       "104                         The Sorcerer's Apprentice          6.1       Avg\n",
       "105                                          Poseidon          5.6       Avg\n",
       "106                   Alice Through the Looking Glass          6.4       Avg\n",
       "107                                   Shrek the Third          6.1       Avg\n",
       "108                                          Warcraft          7.3      Best\n",
       "109                                Terminator Genisys          6.6      Good\n",
       "110  The Chronicles of Narnia: The Voyage of the Da...         6.3       Avg\n",
       "111                                      Pearl Harbor          6.1       Avg\n",
       "112                                      Transformers          7.1      Best\n",
       "113                                         Alexander          5.5       Avg\n",
       "114         Harry Potter and the Order of the Phoenix          7.5      Best\n",
       "115               Harry Potter and the Goblet of Fire          7.6      Best\n",
       "116                                           Hancock          6.4       Avg\n",
       "117                                       I Am Legend          7.2      Best\n",
       "118                 Charlie and the Chocolate Factory          6.7      Good\n",
       "119                                       Ratatouille          8.0      Best"
      ]
     },
     "execution_count": 48,
     "metadata": {},
     "output_type": "execute_result"
    }
   ],
   "source": [
    "imdbDF[['movie_title', 'imdb_score', 'Ownlabels']][100:120]"
   ]
  },
  {
   "cell_type": "markdown",
   "metadata": {},
   "source": [
    "## 3.2 Data Visualization: Using pandas, find the ouliers\n",
    "Finding outliers is an important aspect in Exploratory Data Analysis. Thwy can distort the original picture. Specifically, outliers can play havoc when we want to apply machine learning algorithm for prediction."
   ]
  },
  {
   "cell_type": "markdown",
   "metadata": {},
   "source": [
    "### 3.2.1 Seaborn Box Plot:\n",
    "Box plot is a method of visualizing the data distribution using median, quartiles and outliers. \n",
    "We will use seaborn library here:"
   ]
  },
  {
   "cell_type": "code",
   "execution_count": 187,
   "metadata": {},
   "outputs": [
    {
     "data": {
      "text/plain": [
       "<matplotlib.axes._subplots.AxesSubplot at 0x2a89bdbdac8>"
      ]
     },
     "execution_count": 187,
     "metadata": {},
     "output_type": "execute_result"
    },
    {
     "data": {
      "image/png": "[encoded data removed]",
      "text/plain": [
       "<Figure size 432x288 with 1 Axes>"
      ]
     },
     "metadata": {
      "needs_background": "light"
     },
     "output_type": "display_data"
    }
   ],
   "source": [
    "import seaborn as sns\n",
    "import matplotlib as plt\n",
    "sns.boxplot(x=imdbDF['movie_facebook_likes'], color='red')"
   ]
  },
  {
   "cell_type": "markdown",
   "metadata": {},
   "source": [
    "### 3.2.2 pandas.DataFrame.describe(): Finding Statistical distribution of the column"
   ]
  },
  {
   "cell_type": "code",
   "execution_count": 56,
   "metadata": {},
   "outputs": [
    {
     "name": "stdout",
     "output_type": "stream",
     "text": [
      "Statistical distribution of the column - movie_facebook_likes \n"
     ]
    },
    {
     "data": {
      "text/plain": [
       "count      5043.000000\n",
       "mean       7525.964505\n",
       "std       19320.445110\n",
       "min           0.000000\n",
       "25%           0.000000\n",
       "50%         166.000000\n",
       "75%        3000.000000\n",
       "max      349000.000000\n",
       "Name: movie_facebook_likes, dtype: float64"
      ]
     },
     "execution_count": 56,
     "metadata": {},
     "output_type": "execute_result"
    }
   ],
   "source": [
    "print(\"Statistical distribution of the column - movie_facebook_likes \")\n",
    "imdbDF['movie_facebook_likes'].describe()"
   ]
  },
  {
   "cell_type": "markdown",
   "metadata": {},
   "source": [
    "Z Score and Outliers: To plot Zscore plot,  we can use numpy.random.normal()"
   ]
  },
  {
   "cell_type": "markdown",
   "metadata": {},
   "source": [
    "### 3.2.3 DataFrame.dtypes: To find datatypes of all the columns"
   ]
  },
  {
   "cell_type": "code",
   "execution_count": 188,
   "metadata": {},
   "outputs": [
    {
     "data": {
      "text/plain": [
       "color                         object\n",
       "director_name                 object\n",
       "num_critic_for_reviews       float64\n",
       "duration                     float64\n",
       "director_facebook_likes      float64\n",
       "actor_3_facebook_likes       float64\n",
       "actor_2_name                  object\n",
       "actor_1_facebook_likes       float64\n",
       "gross                        float64\n",
       "genres                        object\n",
       "actor_1_name                  object\n",
       "movie_title                   object\n",
       "num_voted_users                int64\n",
       "cast_total_facebook_likes      int64\n",
       "actor_3_name                  object\n",
       "facenumber_in_poster         float64\n",
       "plot_keywords                 object\n",
       "movie_imdb_link               object\n",
       "num_user_for_reviews         float64\n",
       "language                      object\n",
       "country                       object\n",
       "content_rating                object\n",
       "budget                       float64\n",
       "title_year                   float64\n",
       "actor_2_facebook_likes       float64\n",
       "imdb_score                   float64\n",
       "aspect_ratio                 float64\n",
       "movie_facebook_likes           int64\n",
       "dtype: object"
      ]
     },
     "execution_count": 188,
     "metadata": {},
     "output_type": "execute_result"
    }
   ],
   "source": [
    "imdbDF.dtypes"
   ]
  },
  {
   "cell_type": "markdown",
   "metadata": {},
   "source": [
    "## 3.3 Plotting using pandas using Dataframe.plot()"
   ]
  },
  {
   "cell_type": "code",
   "execution_count": 189,
   "metadata": {},
   "outputs": [
    {
     "data": {
      "text/plain": [
       "<matplotlib.axes._subplots.AxesSubplot at 0x2a91b779908>"
      ]
     },
     "execution_count": 189,
     "metadata": {},
     "output_type": "execute_result"
    },
    {
     "data": {
      "image/png": "[encoded data removed]",
      "text/plain": [
       "<Figure size 432x288 with 1 Axes>"
      ]
     },
     "metadata": {
      "needs_background": "light"
     },
     "output_type": "display_data"
    }
   ],
   "source": [
    "imdbDF.plot(kind = \"kde\")\n"
   ]
  },
  {
   "cell_type": "code",
   "execution_count": 59,
   "metadata": {},
   "outputs": [
    {
     "data": {
      "text/plain": [
       "<matplotlib.axes._subplots.AxesSubplot at 0x2a89aa42ec8>"
      ]
     },
     "execution_count": 59,
     "metadata": {},
     "output_type": "execute_result"
    },
    {
     "data": {
      "image/png": "[encoded data removed]",
      "text/plain": [
       "<Figure size 432x288 with 1 Axes>"
      ]
     },
     "metadata": {
      "needs_background": "light"
     },
     "output_type": "display_data"
    }
   ],
   "source": [
    "imdbDF.plot(kind = \"line\")"
   ]
  },
  {
   "cell_type": "code",
   "execution_count": 60,
   "metadata": {},
   "outputs": [
    {
     "data": {
      "text/plain": [
       "<matplotlib.axes._subplots.AxesSubplot at 0x2a89ab05088>"
      ]
     },
     "execution_count": 60,
     "metadata": {},
     "output_type": "execute_result"
    },
    {
     "data": {
      "image/png": "[encoded data removed]",
      "text/plain": [
       "<Figure size 432x288 with 1 Axes>"
      ]
     },
     "metadata": {
      "needs_background": "light"
     },
     "output_type": "display_data"
    }
   ],
   "source": [
    "imdbDF.plot(kind = \"hist\")"
   ]
  },
  {
   "cell_type": "code",
   "execution_count": 66,
   "metadata": {},
   "outputs": [
    {
     "data": {
      "text/plain": [
       "<matplotlib.axes._subplots.AxesSubplot at 0x2a8d405f688>"
      ]
     },
     "execution_count": 66,
     "metadata": {},
     "output_type": "execute_result"
    },
    {
     "data": {
      "image/png": "[encoded data removed]",
      "text/plain": [
       "<Figure size 432x288 with 1 Axes>"
      ]
     },
     "metadata": {
      "needs_background": "light"
     },
     "output_type": "display_data"
    }
   ],
   "source": [
    "imdbDF.plot(kind = \"bar\")"
   ]
  },
  {
   "cell_type": "markdown",
   "metadata": {},
   "source": [
    "## 3.4 Data Sampling using pandas with replacement and weights¶"
   ]
  },
  {
   "cell_type": "code",
   "execution_count": 69,
   "metadata": {},
   "outputs": [
    {
     "data": {
      "text/html": [
       "<div>\n",
       "<style scoped>\n",
       "    .dataframe tbody tr th:only-of-type {\n",
       "        vertical-align: middle;\n",
       "    }\n",
       "\n",
       "    .dataframe tbody tr th {\n",
       "        vertical-align: top;\n",
       "    }\n",
       "\n",
       "    .dataframe thead th {\n",
       "        text-align: right;\n",
       "    }\n",
       "</style>\n",
       "<table border=\"1\" class=\"dataframe\">\n",
       "  <thead>\n",
       "    <tr style=\"text-align: right;\">\n",
       "      <th></th>\n",
       "      <th>X</th>\n",
       "      <th>Y</th>\n",
       "    </tr>\n",
       "  </thead>\n",
       "  <tbody>\n",
       "    <tr>\n",
       "      <td>0</td>\n",
       "      <td>10</td>\n",
       "      <td>12</td>\n",
       "    </tr>\n",
       "    <tr>\n",
       "      <td>1</td>\n",
       "      <td>20</td>\n",
       "      <td>3</td>\n",
       "    </tr>\n",
       "    <tr>\n",
       "      <td>2</td>\n",
       "      <td>50</td>\n",
       "      <td>4</td>\n",
       "    </tr>\n",
       "    <tr>\n",
       "      <td>3</td>\n",
       "      <td>70</td>\n",
       "      <td>5</td>\n",
       "    </tr>\n",
       "    <tr>\n",
       "      <td>4</td>\n",
       "      <td>30</td>\n",
       "      <td>17</td>\n",
       "    </tr>\n",
       "    <tr>\n",
       "      <td>5</td>\n",
       "      <td>80</td>\n",
       "      <td>9</td>\n",
       "    </tr>\n",
       "  </tbody>\n",
       "</table>\n",
       "</div>"
      ],
      "text/plain": [
       "    X   Y\n",
       "0  10  12\n",
       "1  20   3\n",
       "2  50   4\n",
       "3  70   5\n",
       "4  30  17\n",
       "5  80   9"
      ]
     },
     "execution_count": 69,
     "metadata": {},
     "output_type": "execute_result"
    }
   ],
   "source": [
    "data = {\"X\": [10, 20, 50, 70, 30, 80], \"Y\":[12, 3, 4, 5, 17, 9]}\n",
    "df = pd.DataFrame(data)\n",
    "df\n"
   ]
  },
  {
   "cell_type": "code",
   "execution_count": 70,
   "metadata": {},
   "outputs": [
    {
     "data": {
      "text/html": [
       "<div>\n",
       "<style scoped>\n",
       "    .dataframe tbody tr th:only-of-type {\n",
       "        vertical-align: middle;\n",
       "    }\n",
       "\n",
       "    .dataframe tbody tr th {\n",
       "        vertical-align: top;\n",
       "    }\n",
       "\n",
       "    .dataframe thead th {\n",
       "        text-align: right;\n",
       "    }\n",
       "</style>\n",
       "<table border=\"1\" class=\"dataframe\">\n",
       "  <thead>\n",
       "    <tr style=\"text-align: right;\">\n",
       "      <th></th>\n",
       "      <th>X</th>\n",
       "      <th>Y</th>\n",
       "    </tr>\n",
       "  </thead>\n",
       "  <tbody>\n",
       "    <tr>\n",
       "      <td>3</td>\n",
       "      <td>70</td>\n",
       "      <td>5</td>\n",
       "    </tr>\n",
       "    <tr>\n",
       "      <td>0</td>\n",
       "      <td>10</td>\n",
       "      <td>12</td>\n",
       "    </tr>\n",
       "    <tr>\n",
       "      <td>4</td>\n",
       "      <td>30</td>\n",
       "      <td>17</td>\n",
       "    </tr>\n",
       "    <tr>\n",
       "      <td>3</td>\n",
       "      <td>70</td>\n",
       "      <td>5</td>\n",
       "    </tr>\n",
       "    <tr>\n",
       "      <td>3</td>\n",
       "      <td>70</td>\n",
       "      <td>5</td>\n",
       "    </tr>\n",
       "    <tr>\n",
       "      <td>2</td>\n",
       "      <td>50</td>\n",
       "      <td>4</td>\n",
       "    </tr>\n",
       "  </tbody>\n",
       "</table>\n",
       "</div>"
      ],
      "text/plain": [
       "    X   Y\n",
       "3  70   5\n",
       "0  10  12\n",
       "4  30  17\n",
       "3  70   5\n",
       "3  70   5\n",
       "2  50   4"
      ]
     },
     "execution_count": 70,
     "metadata": {},
     "output_type": "execute_result"
    }
   ],
   "source": [
    "# using replacement\n",
    "df.sample(n = 6, replace = True, random_state = 2)\n",
    "\n",
    "# by adding weights\n",
    "df.sample(n = 6, replace = True, random_state = 2, weights = \"Y\")"
   ]
  },
  {
   "cell_type": "markdown",
   "metadata": {},
   "source": [
    "## 3.5 In a list, create one row for each item using explode"
   ]
  },
  {
   "cell_type": "code",
   "execution_count": 80,
   "metadata": {},
   "outputs": [
    {
     "data": {
      "text/html": [
       "<div>\n",
       "<style scoped>\n",
       "    .dataframe tbody tr th:only-of-type {\n",
       "        vertical-align: middle;\n",
       "    }\n",
       "\n",
       "    .dataframe tbody tr th {\n",
       "        vertical-align: top;\n",
       "    }\n",
       "\n",
       "    .dataframe thead th {\n",
       "        text-align: right;\n",
       "    }\n",
       "</style>\n",
       "<table border=\"1\" class=\"dataframe\">\n",
       "  <thead>\n",
       "    <tr style=\"text-align: right;\">\n",
       "      <th></th>\n",
       "      <th>College</th>\n",
       "      <th>Dept</th>\n",
       "    </tr>\n",
       "  </thead>\n",
       "  <tbody>\n",
       "    <tr>\n",
       "      <td>0</td>\n",
       "      <td>Engineering</td>\n",
       "      <td>[CS, ECE, EEE, Mech, Agri, Civil]</td>\n",
       "    </tr>\n",
       "    <tr>\n",
       "      <td>1</td>\n",
       "      <td>Arts &amp; Commerce</td>\n",
       "      <td>[Ethics, History, Geography, Civics]</td>\n",
       "    </tr>\n",
       "  </tbody>\n",
       "</table>\n",
       "</div>"
      ],
      "text/plain": [
       "           College                                  Dept\n",
       "0      Engineering     [CS, ECE, EEE, Mech, Agri, Civil]\n",
       "1  Arts & Commerce  [Ethics, History, Geography, Civics]"
      ]
     },
     "execution_count": 80,
     "metadata": {},
     "output_type": "execute_result"
    }
   ],
   "source": [
    "d = {\"College\":[\"Engineering\", \"Arts & Commerce\"], \n",
    "    \"Dept\":[[\"CS\", \"ECE\", \"EEE\", \"Mech\", \"Agri\", \"Civil\"],[\"Ethics\", \"History\", \"Geography\", \"Civics\"]]}\n",
    "df = pd.DataFrame(d)\n",
    "df\n",
    "\n"
   ]
  },
  {
   "cell_type": "code",
   "execution_count": 81,
   "metadata": {},
   "outputs": [
    {
     "name": "stdout",
     "output_type": "stream",
     "text": [
      "Generate new rows for each player with the help of explode\n"
     ]
    }
   ],
   "source": [
    "print(\"Generate new rows for each player with the help of explode\")\n"
   ]
  },
  {
   "cell_type": "code",
   "execution_count": 82,
   "metadata": {},
   "outputs": [
    {
     "data": {
      "text/html": [
       "<div>\n",
       "<style scoped>\n",
       "    .dataframe tbody tr th:only-of-type {\n",
       "        vertical-align: middle;\n",
       "    }\n",
       "\n",
       "    .dataframe tbody tr th {\n",
       "        vertical-align: top;\n",
       "    }\n",
       "\n",
       "    .dataframe thead th {\n",
       "        text-align: right;\n",
       "    }\n",
       "</style>\n",
       "<table border=\"1\" class=\"dataframe\">\n",
       "  <thead>\n",
       "    <tr style=\"text-align: right;\">\n",
       "      <th></th>\n",
       "      <th>College</th>\n",
       "      <th>Dept</th>\n",
       "    </tr>\n",
       "  </thead>\n",
       "  <tbody>\n",
       "    <tr>\n",
       "      <td>0</td>\n",
       "      <td>Engineering</td>\n",
       "      <td>CS</td>\n",
       "    </tr>\n",
       "    <tr>\n",
       "      <td>0</td>\n",
       "      <td>Engineering</td>\n",
       "      <td>ECE</td>\n",
       "    </tr>\n",
       "    <tr>\n",
       "      <td>0</td>\n",
       "      <td>Engineering</td>\n",
       "      <td>EEE</td>\n",
       "    </tr>\n",
       "    <tr>\n",
       "      <td>0</td>\n",
       "      <td>Engineering</td>\n",
       "      <td>Mech</td>\n",
       "    </tr>\n",
       "    <tr>\n",
       "      <td>0</td>\n",
       "      <td>Engineering</td>\n",
       "      <td>Agri</td>\n",
       "    </tr>\n",
       "    <tr>\n",
       "      <td>0</td>\n",
       "      <td>Engineering</td>\n",
       "      <td>Civil</td>\n",
       "    </tr>\n",
       "    <tr>\n",
       "      <td>1</td>\n",
       "      <td>Arts &amp; Commerce</td>\n",
       "      <td>Ethics</td>\n",
       "    </tr>\n",
       "    <tr>\n",
       "      <td>1</td>\n",
       "      <td>Arts &amp; Commerce</td>\n",
       "      <td>History</td>\n",
       "    </tr>\n",
       "    <tr>\n",
       "      <td>1</td>\n",
       "      <td>Arts &amp; Commerce</td>\n",
       "      <td>Geography</td>\n",
       "    </tr>\n",
       "    <tr>\n",
       "      <td>1</td>\n",
       "      <td>Arts &amp; Commerce</td>\n",
       "      <td>Civics</td>\n",
       "    </tr>\n",
       "  </tbody>\n",
       "</table>\n",
       "</div>"
      ],
      "text/plain": [
       "           College       Dept\n",
       "0      Engineering         CS\n",
       "0      Engineering        ECE\n",
       "0      Engineering        EEE\n",
       "0      Engineering       Mech\n",
       "0      Engineering       Agri\n",
       "0      Engineering      Civil\n",
       "1  Arts & Commerce     Ethics\n",
       "1  Arts & Commerce    History\n",
       "1  Arts & Commerce  Geography\n",
       "1  Arts & Commerce     Civics"
      ]
     },
     "execution_count": 82,
     "metadata": {},
     "output_type": "execute_result"
    }
   ],
   "source": [
    "df1 = df.explode(\"Dept\")\n",
    "df1"
   ]
  },
  {
   "cell_type": "code",
   "execution_count": 83,
   "metadata": {},
   "outputs": [
    {
     "name": "stdout",
     "output_type": "stream",
     "text": [
      "Operation is reversed using groupby() and agg()\n"
     ]
    }
   ],
   "source": [
    "print(\"Operation is reversed using groupby() and agg()\")\n"
   ]
  },
  {
   "cell_type": "code",
   "execution_count": 84,
   "metadata": {},
   "outputs": [
    {
     "data": {
      "text/html": [
       "<div>\n",
       "<style scoped>\n",
       "    .dataframe tbody tr th:only-of-type {\n",
       "        vertical-align: middle;\n",
       "    }\n",
       "\n",
       "    .dataframe tbody tr th {\n",
       "        vertical-align: top;\n",
       "    }\n",
       "\n",
       "    .dataframe thead th {\n",
       "        text-align: right;\n",
       "    }\n",
       "</style>\n",
       "<table border=\"1\" class=\"dataframe\">\n",
       "  <thead>\n",
       "    <tr style=\"text-align: right;\">\n",
       "      <th></th>\n",
       "      <th>College</th>\n",
       "      <th>Dept</th>\n",
       "      <th>Imploded</th>\n",
       "    </tr>\n",
       "  </thead>\n",
       "  <tbody>\n",
       "    <tr>\n",
       "      <td>0</td>\n",
       "      <td>Engineering</td>\n",
       "      <td>[CS, ECE, EEE, Mech, Agri, Civil]</td>\n",
       "      <td>[CS, ECE, EEE, Mech, Agri, Civil]</td>\n",
       "    </tr>\n",
       "    <tr>\n",
       "      <td>1</td>\n",
       "      <td>Arts &amp; Commerce</td>\n",
       "      <td>[Ethics, History, Geography, Civics]</td>\n",
       "      <td>[Ethics, History, Geography, Civics]</td>\n",
       "    </tr>\n",
       "  </tbody>\n",
       "</table>\n",
       "</div>"
      ],
      "text/plain": [
       "           College                                  Dept  \\\n",
       "0      Engineering     [CS, ECE, EEE, Mech, Agri, Civil]   \n",
       "1  Arts & Commerce  [Ethics, History, Geography, Civics]   \n",
       "\n",
       "                               Imploded  \n",
       "0     [CS, ECE, EEE, Mech, Agri, Civil]  \n",
       "1  [Ethics, History, Geography, Civics]  "
      ]
     },
     "execution_count": 84,
     "metadata": {},
     "output_type": "execute_result"
    }
   ],
   "source": [
    "df[\"Imploded\"] = df1.groupby(df1.index)[\"Dept\"].agg(list)\n",
    "df"
   ]
  },
  {
   "cell_type": "markdown",
   "metadata": {},
   "source": [
    "## 3.6 Use a local variable in Dataframe.query() in pandas with the help of @"
   ]
  },
  {
   "cell_type": "code",
   "execution_count": 190,
   "metadata": {},
   "outputs": [
    {
     "name": "stdout",
     "output_type": "stream",
     "text": [
      "     P   Q   R   S   T   U\n",
      "0    8  15   1   1   3   9\n",
      "1    4  12  12  13   6   7\n",
      "2   17   2  16   1   7  16\n",
      "3   14   3   4   7  19   7\n",
      "4    9  14  11  11  14   7\n",
      "5   18  13  14  10   7  17\n",
      "6    3   4  17  17   5  15\n",
      "7    7   1   6   5  18   2\n",
      "8   17   5  10  12  15   7\n",
      "9    4  19   6   3  11  17\n",
      "10   7   2  19  16  14  16\n",
      "11  13   8  19   2  18  15\n",
      "12   8  13  15   3  15  17\n",
      "13  13   8  14  10   8   6\n",
      "14  10  10   5  19  18   8\n"
     ]
    }
   ],
   "source": [
    "import numpy as np\n",
    "# a function to create a dataframe\n",
    "def generateDF(): \n",
    "    noOfCol = 6\n",
    "    c = noOfCol\n",
    "    noOfRows = 15\n",
    "    r = noOfRows\n",
    "    col = list(\"PQRSTU\")\n",
    "    ans_df = pd.DataFrame(np.random.randint(1, 20, size = (r, c)), columns=col)\n",
    "    ans_df.index = pd.util.testing.makeIntIndex(r)\n",
    "    return ans_df\n",
    "\n",
    "df = generateDF()\n",
    "print(df)\n"
   ]
  },
  {
   "cell_type": "code",
   "execution_count": 97,
   "metadata": {},
   "outputs": [],
   "source": [
    "# Finding mean\n",
    "mean = df[\"Q\"].mean()"
   ]
  },
  {
   "cell_type": "code",
   "execution_count": 98,
   "metadata": {},
   "outputs": [
    {
     "data": {
      "text/html": [
       "<div>\n",
       "<style scoped>\n",
       "    .dataframe tbody tr th:only-of-type {\n",
       "        vertical-align: middle;\n",
       "    }\n",
       "\n",
       "    .dataframe tbody tr th {\n",
       "        vertical-align: top;\n",
       "    }\n",
       "\n",
       "    .dataframe thead th {\n",
       "        text-align: right;\n",
       "    }\n",
       "</style>\n",
       "<table border=\"1\" class=\"dataframe\">\n",
       "  <thead>\n",
       "    <tr style=\"text-align: right;\">\n",
       "      <th></th>\n",
       "      <th>P</th>\n",
       "      <th>Q</th>\n",
       "      <th>R</th>\n",
       "      <th>S</th>\n",
       "      <th>T</th>\n",
       "      <th>U</th>\n",
       "    </tr>\n",
       "  </thead>\n",
       "  <tbody>\n",
       "    <tr>\n",
       "      <td>0</td>\n",
       "      <td>18</td>\n",
       "      <td>18</td>\n",
       "      <td>1</td>\n",
       "      <td>19</td>\n",
       "      <td>3</td>\n",
       "      <td>13</td>\n",
       "    </tr>\n",
       "    <tr>\n",
       "      <td>1</td>\n",
       "      <td>17</td>\n",
       "      <td>14</td>\n",
       "      <td>4</td>\n",
       "      <td>6</td>\n",
       "      <td>2</td>\n",
       "      <td>15</td>\n",
       "    </tr>\n",
       "    <tr>\n",
       "      <td>6</td>\n",
       "      <td>3</td>\n",
       "      <td>10</td>\n",
       "      <td>10</td>\n",
       "      <td>19</td>\n",
       "      <td>18</td>\n",
       "      <td>15</td>\n",
       "    </tr>\n",
       "    <tr>\n",
       "      <td>8</td>\n",
       "      <td>8</td>\n",
       "      <td>13</td>\n",
       "      <td>8</td>\n",
       "      <td>1</td>\n",
       "      <td>19</td>\n",
       "      <td>13</td>\n",
       "    </tr>\n",
       "    <tr>\n",
       "      <td>9</td>\n",
       "      <td>17</td>\n",
       "      <td>10</td>\n",
       "      <td>2</td>\n",
       "      <td>17</td>\n",
       "      <td>14</td>\n",
       "      <td>17</td>\n",
       "    </tr>\n",
       "    <tr>\n",
       "      <td>10</td>\n",
       "      <td>1</td>\n",
       "      <td>15</td>\n",
       "      <td>1</td>\n",
       "      <td>11</td>\n",
       "      <td>14</td>\n",
       "      <td>10</td>\n",
       "    </tr>\n",
       "    <tr>\n",
       "      <td>11</td>\n",
       "      <td>18</td>\n",
       "      <td>11</td>\n",
       "      <td>8</td>\n",
       "      <td>15</td>\n",
       "      <td>4</td>\n",
       "      <td>12</td>\n",
       "    </tr>\n",
       "    <tr>\n",
       "      <td>13</td>\n",
       "      <td>2</td>\n",
       "      <td>16</td>\n",
       "      <td>8</td>\n",
       "      <td>18</td>\n",
       "      <td>5</td>\n",
       "      <td>12</td>\n",
       "    </tr>\n",
       "  </tbody>\n",
       "</table>\n",
       "</div>"
      ],
      "text/plain": [
       "     P   Q   R   S   T   U\n",
       "0   18  18   1  19   3  13\n",
       "1   17  14   4   6   2  15\n",
       "6    3  10  10  19  18  15\n",
       "8    8  13   8   1  19  13\n",
       "9   17  10   2  17  14  17\n",
       "10   1  15   1  11  14  10\n",
       "11  18  11   8  15   4  12\n",
       "13   2  16   8  18   5  12"
      ]
     },
     "execution_count": 98,
     "metadata": {},
     "output_type": "execute_result"
    }
   ],
   "source": [
    "df.query(\"Q > @mean\")"
   ]
  },
  {
   "cell_type": "markdown",
   "metadata": {},
   "source": [
    "## 3.7 Using an aggregator function last()"
   ]
  },
  {
   "cell_type": "code",
   "execution_count": 104,
   "metadata": {},
   "outputs": [
    {
     "data": {
      "text/html": [
       "<div>\n",
       "<style scoped>\n",
       "    .dataframe tbody tr th:only-of-type {\n",
       "        vertical-align: middle;\n",
       "    }\n",
       "\n",
       "    .dataframe tbody tr th {\n",
       "        vertical-align: top;\n",
       "    }\n",
       "\n",
       "    .dataframe thead th {\n",
       "        text-align: right;\n",
       "    }\n",
       "</style>\n",
       "<table border=\"1\" class=\"dataframe\">\n",
       "  <thead>\n",
       "    <tr style=\"text-align: right;\">\n",
       "      <th></th>\n",
       "      <th>College</th>\n",
       "      <th>Dept</th>\n",
       "    </tr>\n",
       "  </thead>\n",
       "  <tbody>\n",
       "    <tr>\n",
       "      <td>0</td>\n",
       "      <td>Engineering</td>\n",
       "      <td>[CS, ECE, EEE, Mech, Agri, Civil]</td>\n",
       "    </tr>\n",
       "    <tr>\n",
       "      <td>1</td>\n",
       "      <td>Arts &amp; Commerce</td>\n",
       "      <td>[Ethics, History, Geography, Civics]</td>\n",
       "    </tr>\n",
       "  </tbody>\n",
       "</table>\n",
       "</div>"
      ],
      "text/plain": [
       "           College                                  Dept\n",
       "0      Engineering     [CS, ECE, EEE, Mech, Agri, Civil]\n",
       "1  Arts & Commerce  [Ethics, History, Geography, Civics]"
      ]
     },
     "execution_count": 104,
     "metadata": {},
     "output_type": "execute_result"
    }
   ],
   "source": [
    "d = {\"College\":[\"Engineering\", \"Arts & Commerce\"], \n",
    "    \"Dept\":[[\"CS\", \"ECE\", \"EEE\", \"Mech\", \"Agri\", \"Civil\"],[\"Ethics\", \"History\", \"Geography\", \"Civics\"]]}\n",
    "df = pd.DataFrame(d)\n",
    "df.sort_values(\"Dept\")"
   ]
  },
  {
   "cell_type": "code",
   "execution_count": 105,
   "metadata": {},
   "outputs": [
    {
     "data": {
      "text/html": [
       "<div>\n",
       "<style scoped>\n",
       "    .dataframe tbody tr th:only-of-type {\n",
       "        vertical-align: middle;\n",
       "    }\n",
       "\n",
       "    .dataframe tbody tr th {\n",
       "        vertical-align: top;\n",
       "    }\n",
       "\n",
       "    .dataframe thead th {\n",
       "        text-align: right;\n",
       "    }\n",
       "</style>\n",
       "<table border=\"1\" class=\"dataframe\">\n",
       "  <thead>\n",
       "    <tr style=\"text-align: right;\">\n",
       "      <th></th>\n",
       "      <th>Dept</th>\n",
       "    </tr>\n",
       "    <tr>\n",
       "      <th>College</th>\n",
       "      <th></th>\n",
       "    </tr>\n",
       "  </thead>\n",
       "  <tbody>\n",
       "    <tr>\n",
       "      <td>Arts &amp; Commerce</td>\n",
       "      <td>[Ethics, History, Geography, Civics]</td>\n",
       "    </tr>\n",
       "    <tr>\n",
       "      <td>Engineering</td>\n",
       "      <td>[CS, ECE, EEE, Mech, Agri, Civil]</td>\n",
       "    </tr>\n",
       "  </tbody>\n",
       "</table>\n",
       "</div>"
      ],
      "text/plain": [
       "                                                 Dept\n",
       "College                                              \n",
       "Arts & Commerce  [Ethics, History, Geography, Civics]\n",
       "Engineering         [CS, ECE, EEE, Mech, Agri, Civil]"
      ]
     },
     "execution_count": 105,
     "metadata": {},
     "output_type": "execute_result"
    }
   ],
   "source": [
    "df.groupby(\"College\")[\"Dept\"].last().to_frame()"
   ]
  },
  {
   "cell_type": "markdown",
   "metadata": {},
   "source": [
    "## 3.8 hide_index() and set_caption(): To style Dataframe"
   ]
  },
  {
   "cell_type": "code",
   "execution_count": 110,
   "metadata": {},
   "outputs": [
    {
     "data": {
      "text/html": [
       "<div>\n",
       "<style scoped>\n",
       "    .dataframe tbody tr th:only-of-type {\n",
       "        vertical-align: middle;\n",
       "    }\n",
       "\n",
       "    .dataframe tbody tr th {\n",
       "        vertical-align: top;\n",
       "    }\n",
       "\n",
       "    .dataframe thead th {\n",
       "        text-align: right;\n",
       "    }\n",
       "</style>\n",
       "<table border=\"1\" class=\"dataframe\">\n",
       "  <thead>\n",
       "    <tr style=\"text-align: right;\">\n",
       "      <th></th>\n",
       "      <th>P</th>\n",
       "      <th>Q</th>\n",
       "      <th>R</th>\n",
       "      <th>S</th>\n",
       "      <th>T</th>\n",
       "      <th>U</th>\n",
       "    </tr>\n",
       "  </thead>\n",
       "  <tbody>\n",
       "    <tr>\n",
       "      <td>0</td>\n",
       "      <td>14</td>\n",
       "      <td>8</td>\n",
       "      <td>18</td>\n",
       "      <td>17</td>\n",
       "      <td>19</td>\n",
       "      <td>10</td>\n",
       "    </tr>\n",
       "    <tr>\n",
       "      <td>1</td>\n",
       "      <td>7</td>\n",
       "      <td>11</td>\n",
       "      <td>5</td>\n",
       "      <td>3</td>\n",
       "      <td>14</td>\n",
       "      <td>5</td>\n",
       "    </tr>\n",
       "    <tr>\n",
       "      <td>2</td>\n",
       "      <td>17</td>\n",
       "      <td>10</td>\n",
       "      <td>15</td>\n",
       "      <td>2</td>\n",
       "      <td>5</td>\n",
       "      <td>4</td>\n",
       "    </tr>\n",
       "    <tr>\n",
       "      <td>3</td>\n",
       "      <td>4</td>\n",
       "      <td>19</td>\n",
       "      <td>16</td>\n",
       "      <td>16</td>\n",
       "      <td>1</td>\n",
       "      <td>7</td>\n",
       "    </tr>\n",
       "    <tr>\n",
       "      <td>4</td>\n",
       "      <td>17</td>\n",
       "      <td>8</td>\n",
       "      <td>14</td>\n",
       "      <td>12</td>\n",
       "      <td>13</td>\n",
       "      <td>16</td>\n",
       "    </tr>\n",
       "    <tr>\n",
       "      <td>5</td>\n",
       "      <td>15</td>\n",
       "      <td>6</td>\n",
       "      <td>7</td>\n",
       "      <td>14</td>\n",
       "      <td>16</td>\n",
       "      <td>14</td>\n",
       "    </tr>\n",
       "    <tr>\n",
       "      <td>6</td>\n",
       "      <td>13</td>\n",
       "      <td>12</td>\n",
       "      <td>17</td>\n",
       "      <td>8</td>\n",
       "      <td>8</td>\n",
       "      <td>9</td>\n",
       "    </tr>\n",
       "    <tr>\n",
       "      <td>7</td>\n",
       "      <td>12</td>\n",
       "      <td>15</td>\n",
       "      <td>16</td>\n",
       "      <td>8</td>\n",
       "      <td>1</td>\n",
       "      <td>14</td>\n",
       "    </tr>\n",
       "    <tr>\n",
       "      <td>8</td>\n",
       "      <td>15</td>\n",
       "      <td>18</td>\n",
       "      <td>6</td>\n",
       "      <td>18</td>\n",
       "      <td>14</td>\n",
       "      <td>5</td>\n",
       "    </tr>\n",
       "    <tr>\n",
       "      <td>9</td>\n",
       "      <td>5</td>\n",
       "      <td>2</td>\n",
       "      <td>2</td>\n",
       "      <td>4</td>\n",
       "      <td>14</td>\n",
       "      <td>16</td>\n",
       "    </tr>\n",
       "    <tr>\n",
       "      <td>10</td>\n",
       "      <td>13</td>\n",
       "      <td>3</td>\n",
       "      <td>2</td>\n",
       "      <td>18</td>\n",
       "      <td>2</td>\n",
       "      <td>19</td>\n",
       "    </tr>\n",
       "    <tr>\n",
       "      <td>11</td>\n",
       "      <td>6</td>\n",
       "      <td>2</td>\n",
       "      <td>15</td>\n",
       "      <td>12</td>\n",
       "      <td>2</td>\n",
       "      <td>14</td>\n",
       "    </tr>\n",
       "    <tr>\n",
       "      <td>12</td>\n",
       "      <td>16</td>\n",
       "      <td>2</td>\n",
       "      <td>6</td>\n",
       "      <td>11</td>\n",
       "      <td>16</td>\n",
       "      <td>18</td>\n",
       "    </tr>\n",
       "    <tr>\n",
       "      <td>13</td>\n",
       "      <td>16</td>\n",
       "      <td>19</td>\n",
       "      <td>10</td>\n",
       "      <td>15</td>\n",
       "      <td>16</td>\n",
       "      <td>3</td>\n",
       "    </tr>\n",
       "    <tr>\n",
       "      <td>14</td>\n",
       "      <td>13</td>\n",
       "      <td>4</td>\n",
       "      <td>8</td>\n",
       "      <td>12</td>\n",
       "      <td>16</td>\n",
       "      <td>19</td>\n",
       "    </tr>\n",
       "  </tbody>\n",
       "</table>\n",
       "</div>"
      ],
      "text/plain": [
       "     P   Q   R   S   T   U\n",
       "0   14   8  18  17  19  10\n",
       "1    7  11   5   3  14   5\n",
       "2   17  10  15   2   5   4\n",
       "3    4  19  16  16   1   7\n",
       "4   17   8  14  12  13  16\n",
       "5   15   6   7  14  16  14\n",
       "6   13  12  17   8   8   9\n",
       "7   12  15  16   8   1  14\n",
       "8   15  18   6  18  14   5\n",
       "9    5   2   2   4  14  16\n",
       "10  13   3   2  18   2  19\n",
       "11   6   2  15  12   2  14\n",
       "12  16   2   6  11  16  18\n",
       "13  16  19  10  15  16   3\n",
       "14  13   4   8  12  16  19"
      ]
     },
     "execution_count": 110,
     "metadata": {},
     "output_type": "execute_result"
    }
   ],
   "source": [
    "df = generateDF()\n",
    "df"
   ]
  },
  {
   "cell_type": "code",
   "execution_count": 111,
   "metadata": {},
   "outputs": [
    {
     "data": {
      "text/html": [
       "<style  type=\"text/css\" >\n",
       "</style><table id=\"T_9f6eda4c_6fc4_11ea_9ed1_efd6cfdff74b\" ><caption>Caption: DF with no index and a caption</caption><thead>    <tr>        <th class=\"col_heading level0 col0\" >P</th>        <th class=\"col_heading level0 col1\" >Q</th>        <th class=\"col_heading level0 col2\" >R</th>        <th class=\"col_heading level0 col3\" >S</th>        <th class=\"col_heading level0 col4\" >T</th>        <th class=\"col_heading level0 col5\" >U</th>    </tr></thead><tbody>\n",
       "                <tr>\n",
       "                                <td id=\"T_9f6eda4c_6fc4_11ea_9ed1_efd6cfdff74brow0_col0\" class=\"data row0 col0\" >14</td>\n",
       "                        <td id=\"T_9f6eda4c_6fc4_11ea_9ed1_efd6cfdff74brow0_col1\" class=\"data row0 col1\" >8</td>\n",
       "                        <td id=\"T_9f6eda4c_6fc4_11ea_9ed1_efd6cfdff74brow0_col2\" class=\"data row0 col2\" >18</td>\n",
       "                        <td id=\"T_9f6eda4c_6fc4_11ea_9ed1_efd6cfdff74brow0_col3\" class=\"data row0 col3\" >17</td>\n",
       "                        <td id=\"T_9f6eda4c_6fc4_11ea_9ed1_efd6cfdff74brow0_col4\" class=\"data row0 col4\" >19</td>\n",
       "                        <td id=\"T_9f6eda4c_6fc4_11ea_9ed1_efd6cfdff74brow0_col5\" class=\"data row0 col5\" >10</td>\n",
       "            </tr>\n",
       "            <tr>\n",
       "                                <td id=\"T_9f6eda4c_6fc4_11ea_9ed1_efd6cfdff74brow1_col0\" class=\"data row1 col0\" >7</td>\n",
       "                        <td id=\"T_9f6eda4c_6fc4_11ea_9ed1_efd6cfdff74brow1_col1\" class=\"data row1 col1\" >11</td>\n",
       "                        <td id=\"T_9f6eda4c_6fc4_11ea_9ed1_efd6cfdff74brow1_col2\" class=\"data row1 col2\" >5</td>\n",
       "                        <td id=\"T_9f6eda4c_6fc4_11ea_9ed1_efd6cfdff74brow1_col3\" class=\"data row1 col3\" >3</td>\n",
       "                        <td id=\"T_9f6eda4c_6fc4_11ea_9ed1_efd6cfdff74brow1_col4\" class=\"data row1 col4\" >14</td>\n",
       "                        <td id=\"T_9f6eda4c_6fc4_11ea_9ed1_efd6cfdff74brow1_col5\" class=\"data row1 col5\" >5</td>\n",
       "            </tr>\n",
       "            <tr>\n",
       "                                <td id=\"T_9f6eda4c_6fc4_11ea_9ed1_efd6cfdff74brow2_col0\" class=\"data row2 col0\" >17</td>\n",
       "                        <td id=\"T_9f6eda4c_6fc4_11ea_9ed1_efd6cfdff74brow2_col1\" class=\"data row2 col1\" >10</td>\n",
       "                        <td id=\"T_9f6eda4c_6fc4_11ea_9ed1_efd6cfdff74brow2_col2\" class=\"data row2 col2\" >15</td>\n",
       "                        <td id=\"T_9f6eda4c_6fc4_11ea_9ed1_efd6cfdff74brow2_col3\" class=\"data row2 col3\" >2</td>\n",
       "                        <td id=\"T_9f6eda4c_6fc4_11ea_9ed1_efd6cfdff74brow2_col4\" class=\"data row2 col4\" >5</td>\n",
       "                        <td id=\"T_9f6eda4c_6fc4_11ea_9ed1_efd6cfdff74brow2_col5\" class=\"data row2 col5\" >4</td>\n",
       "            </tr>\n",
       "            <tr>\n",
       "                                <td id=\"T_9f6eda4c_6fc4_11ea_9ed1_efd6cfdff74brow3_col0\" class=\"data row3 col0\" >4</td>\n",
       "                        <td id=\"T_9f6eda4c_6fc4_11ea_9ed1_efd6cfdff74brow3_col1\" class=\"data row3 col1\" >19</td>\n",
       "                        <td id=\"T_9f6eda4c_6fc4_11ea_9ed1_efd6cfdff74brow3_col2\" class=\"data row3 col2\" >16</td>\n",
       "                        <td id=\"T_9f6eda4c_6fc4_11ea_9ed1_efd6cfdff74brow3_col3\" class=\"data row3 col3\" >16</td>\n",
       "                        <td id=\"T_9f6eda4c_6fc4_11ea_9ed1_efd6cfdff74brow3_col4\" class=\"data row3 col4\" >1</td>\n",
       "                        <td id=\"T_9f6eda4c_6fc4_11ea_9ed1_efd6cfdff74brow3_col5\" class=\"data row3 col5\" >7</td>\n",
       "            </tr>\n",
       "            <tr>\n",
       "                                <td id=\"T_9f6eda4c_6fc4_11ea_9ed1_efd6cfdff74brow4_col0\" class=\"data row4 col0\" >17</td>\n",
       "                        <td id=\"T_9f6eda4c_6fc4_11ea_9ed1_efd6cfdff74brow4_col1\" class=\"data row4 col1\" >8</td>\n",
       "                        <td id=\"T_9f6eda4c_6fc4_11ea_9ed1_efd6cfdff74brow4_col2\" class=\"data row4 col2\" >14</td>\n",
       "                        <td id=\"T_9f6eda4c_6fc4_11ea_9ed1_efd6cfdff74brow4_col3\" class=\"data row4 col3\" >12</td>\n",
       "                        <td id=\"T_9f6eda4c_6fc4_11ea_9ed1_efd6cfdff74brow4_col4\" class=\"data row4 col4\" >13</td>\n",
       "                        <td id=\"T_9f6eda4c_6fc4_11ea_9ed1_efd6cfdff74brow4_col5\" class=\"data row4 col5\" >16</td>\n",
       "            </tr>\n",
       "            <tr>\n",
       "                                <td id=\"T_9f6eda4c_6fc4_11ea_9ed1_efd6cfdff74brow5_col0\" class=\"data row5 col0\" >15</td>\n",
       "                        <td id=\"T_9f6eda4c_6fc4_11ea_9ed1_efd6cfdff74brow5_col1\" class=\"data row5 col1\" >6</td>\n",
       "                        <td id=\"T_9f6eda4c_6fc4_11ea_9ed1_efd6cfdff74brow5_col2\" class=\"data row5 col2\" >7</td>\n",
       "                        <td id=\"T_9f6eda4c_6fc4_11ea_9ed1_efd6cfdff74brow5_col3\" class=\"data row5 col3\" >14</td>\n",
       "                        <td id=\"T_9f6eda4c_6fc4_11ea_9ed1_efd6cfdff74brow5_col4\" class=\"data row5 col4\" >16</td>\n",
       "                        <td id=\"T_9f6eda4c_6fc4_11ea_9ed1_efd6cfdff74brow5_col5\" class=\"data row5 col5\" >14</td>\n",
       "            </tr>\n",
       "            <tr>\n",
       "                                <td id=\"T_9f6eda4c_6fc4_11ea_9ed1_efd6cfdff74brow6_col0\" class=\"data row6 col0\" >13</td>\n",
       "                        <td id=\"T_9f6eda4c_6fc4_11ea_9ed1_efd6cfdff74brow6_col1\" class=\"data row6 col1\" >12</td>\n",
       "                        <td id=\"T_9f6eda4c_6fc4_11ea_9ed1_efd6cfdff74brow6_col2\" class=\"data row6 col2\" >17</td>\n",
       "                        <td id=\"T_9f6eda4c_6fc4_11ea_9ed1_efd6cfdff74brow6_col3\" class=\"data row6 col3\" >8</td>\n",
       "                        <td id=\"T_9f6eda4c_6fc4_11ea_9ed1_efd6cfdff74brow6_col4\" class=\"data row6 col4\" >8</td>\n",
       "                        <td id=\"T_9f6eda4c_6fc4_11ea_9ed1_efd6cfdff74brow6_col5\" class=\"data row6 col5\" >9</td>\n",
       "            </tr>\n",
       "            <tr>\n",
       "                                <td id=\"T_9f6eda4c_6fc4_11ea_9ed1_efd6cfdff74brow7_col0\" class=\"data row7 col0\" >12</td>\n",
       "                        <td id=\"T_9f6eda4c_6fc4_11ea_9ed1_efd6cfdff74brow7_col1\" class=\"data row7 col1\" >15</td>\n",
       "                        <td id=\"T_9f6eda4c_6fc4_11ea_9ed1_efd6cfdff74brow7_col2\" class=\"data row7 col2\" >16</td>\n",
       "                        <td id=\"T_9f6eda4c_6fc4_11ea_9ed1_efd6cfdff74brow7_col3\" class=\"data row7 col3\" >8</td>\n",
       "                        <td id=\"T_9f6eda4c_6fc4_11ea_9ed1_efd6cfdff74brow7_col4\" class=\"data row7 col4\" >1</td>\n",
       "                        <td id=\"T_9f6eda4c_6fc4_11ea_9ed1_efd6cfdff74brow7_col5\" class=\"data row7 col5\" >14</td>\n",
       "            </tr>\n",
       "            <tr>\n",
       "                                <td id=\"T_9f6eda4c_6fc4_11ea_9ed1_efd6cfdff74brow8_col0\" class=\"data row8 col0\" >15</td>\n",
       "                        <td id=\"T_9f6eda4c_6fc4_11ea_9ed1_efd6cfdff74brow8_col1\" class=\"data row8 col1\" >18</td>\n",
       "                        <td id=\"T_9f6eda4c_6fc4_11ea_9ed1_efd6cfdff74brow8_col2\" class=\"data row8 col2\" >6</td>\n",
       "                        <td id=\"T_9f6eda4c_6fc4_11ea_9ed1_efd6cfdff74brow8_col3\" class=\"data row8 col3\" >18</td>\n",
       "                        <td id=\"T_9f6eda4c_6fc4_11ea_9ed1_efd6cfdff74brow8_col4\" class=\"data row8 col4\" >14</td>\n",
       "                        <td id=\"T_9f6eda4c_6fc4_11ea_9ed1_efd6cfdff74brow8_col5\" class=\"data row8 col5\" >5</td>\n",
       "            </tr>\n",
       "            <tr>\n",
       "                                <td id=\"T_9f6eda4c_6fc4_11ea_9ed1_efd6cfdff74brow9_col0\" class=\"data row9 col0\" >5</td>\n",
       "                        <td id=\"T_9f6eda4c_6fc4_11ea_9ed1_efd6cfdff74brow9_col1\" class=\"data row9 col1\" >2</td>\n",
       "                        <td id=\"T_9f6eda4c_6fc4_11ea_9ed1_efd6cfdff74brow9_col2\" class=\"data row9 col2\" >2</td>\n",
       "                        <td id=\"T_9f6eda4c_6fc4_11ea_9ed1_efd6cfdff74brow9_col3\" class=\"data row9 col3\" >4</td>\n",
       "                        <td id=\"T_9f6eda4c_6fc4_11ea_9ed1_efd6cfdff74brow9_col4\" class=\"data row9 col4\" >14</td>\n",
       "                        <td id=\"T_9f6eda4c_6fc4_11ea_9ed1_efd6cfdff74brow9_col5\" class=\"data row9 col5\" >16</td>\n",
       "            </tr>\n",
       "            <tr>\n",
       "                                <td id=\"T_9f6eda4c_6fc4_11ea_9ed1_efd6cfdff74brow10_col0\" class=\"data row10 col0\" >13</td>\n",
       "                        <td id=\"T_9f6eda4c_6fc4_11ea_9ed1_efd6cfdff74brow10_col1\" class=\"data row10 col1\" >3</td>\n",
       "                        <td id=\"T_9f6eda4c_6fc4_11ea_9ed1_efd6cfdff74brow10_col2\" class=\"data row10 col2\" >2</td>\n",
       "                        <td id=\"T_9f6eda4c_6fc4_11ea_9ed1_efd6cfdff74brow10_col3\" class=\"data row10 col3\" >18</td>\n",
       "                        <td id=\"T_9f6eda4c_6fc4_11ea_9ed1_efd6cfdff74brow10_col4\" class=\"data row10 col4\" >2</td>\n",
       "                        <td id=\"T_9f6eda4c_6fc4_11ea_9ed1_efd6cfdff74brow10_col5\" class=\"data row10 col5\" >19</td>\n",
       "            </tr>\n",
       "            <tr>\n",
       "                                <td id=\"T_9f6eda4c_6fc4_11ea_9ed1_efd6cfdff74brow11_col0\" class=\"data row11 col0\" >6</td>\n",
       "                        <td id=\"T_9f6eda4c_6fc4_11ea_9ed1_efd6cfdff74brow11_col1\" class=\"data row11 col1\" >2</td>\n",
       "                        <td id=\"T_9f6eda4c_6fc4_11ea_9ed1_efd6cfdff74brow11_col2\" class=\"data row11 col2\" >15</td>\n",
       "                        <td id=\"T_9f6eda4c_6fc4_11ea_9ed1_efd6cfdff74brow11_col3\" class=\"data row11 col3\" >12</td>\n",
       "                        <td id=\"T_9f6eda4c_6fc4_11ea_9ed1_efd6cfdff74brow11_col4\" class=\"data row11 col4\" >2</td>\n",
       "                        <td id=\"T_9f6eda4c_6fc4_11ea_9ed1_efd6cfdff74brow11_col5\" class=\"data row11 col5\" >14</td>\n",
       "            </tr>\n",
       "            <tr>\n",
       "                                <td id=\"T_9f6eda4c_6fc4_11ea_9ed1_efd6cfdff74brow12_col0\" class=\"data row12 col0\" >16</td>\n",
       "                        <td id=\"T_9f6eda4c_6fc4_11ea_9ed1_efd6cfdff74brow12_col1\" class=\"data row12 col1\" >2</td>\n",
       "                        <td id=\"T_9f6eda4c_6fc4_11ea_9ed1_efd6cfdff74brow12_col2\" class=\"data row12 col2\" >6</td>\n",
       "                        <td id=\"T_9f6eda4c_6fc4_11ea_9ed1_efd6cfdff74brow12_col3\" class=\"data row12 col3\" >11</td>\n",
       "                        <td id=\"T_9f6eda4c_6fc4_11ea_9ed1_efd6cfdff74brow12_col4\" class=\"data row12 col4\" >16</td>\n",
       "                        <td id=\"T_9f6eda4c_6fc4_11ea_9ed1_efd6cfdff74brow12_col5\" class=\"data row12 col5\" >18</td>\n",
       "            </tr>\n",
       "            <tr>\n",
       "                                <td id=\"T_9f6eda4c_6fc4_11ea_9ed1_efd6cfdff74brow13_col0\" class=\"data row13 col0\" >16</td>\n",
       "                        <td id=\"T_9f6eda4c_6fc4_11ea_9ed1_efd6cfdff74brow13_col1\" class=\"data row13 col1\" >19</td>\n",
       "                        <td id=\"T_9f6eda4c_6fc4_11ea_9ed1_efd6cfdff74brow13_col2\" class=\"data row13 col2\" >10</td>\n",
       "                        <td id=\"T_9f6eda4c_6fc4_11ea_9ed1_efd6cfdff74brow13_col3\" class=\"data row13 col3\" >15</td>\n",
       "                        <td id=\"T_9f6eda4c_6fc4_11ea_9ed1_efd6cfdff74brow13_col4\" class=\"data row13 col4\" >16</td>\n",
       "                        <td id=\"T_9f6eda4c_6fc4_11ea_9ed1_efd6cfdff74brow13_col5\" class=\"data row13 col5\" >3</td>\n",
       "            </tr>\n",
       "            <tr>\n",
       "                                <td id=\"T_9f6eda4c_6fc4_11ea_9ed1_efd6cfdff74brow14_col0\" class=\"data row14 col0\" >13</td>\n",
       "                        <td id=\"T_9f6eda4c_6fc4_11ea_9ed1_efd6cfdff74brow14_col1\" class=\"data row14 col1\" >4</td>\n",
       "                        <td id=\"T_9f6eda4c_6fc4_11ea_9ed1_efd6cfdff74brow14_col2\" class=\"data row14 col2\" >8</td>\n",
       "                        <td id=\"T_9f6eda4c_6fc4_11ea_9ed1_efd6cfdff74brow14_col3\" class=\"data row14 col3\" >12</td>\n",
       "                        <td id=\"T_9f6eda4c_6fc4_11ea_9ed1_efd6cfdff74brow14_col4\" class=\"data row14 col4\" >16</td>\n",
       "                        <td id=\"T_9f6eda4c_6fc4_11ea_9ed1_efd6cfdff74brow14_col5\" class=\"data row14 col5\" >19</td>\n",
       "            </tr>\n",
       "    </tbody></table>"
      ],
      "text/plain": [
       "<pandas.io.formats.style.Styler at 0x2a915b5e7c8>"
      ]
     },
     "execution_count": 111,
     "metadata": {},
     "output_type": "execute_result"
    }
   ],
   "source": [
    "df.style.hide_index().set_caption(\"Caption: DF with no index and a caption\")"
   ]
  },
  {
   "cell_type": "markdown",
   "metadata": {},
   "source": [
    "## 3.9 Pandas slicing using loc[] and iloc[]"
   ]
  },
  {
   "cell_type": "code",
   "execution_count": 125,
   "metadata": {},
   "outputs": [
    {
     "name": "stdout",
     "output_type": "stream",
     "text": [
      "13\n"
     ]
    }
   ],
   "source": [
    "df = generateDF()\n",
    "# with loc for label\n",
    "print(df.loc[1, \"Q\"])"
   ]
  },
  {
   "cell_type": "code",
   "execution_count": 126,
   "metadata": {},
   "outputs": [
    {
     "name": "stdout",
     "output_type": "stream",
     "text": [
      "13\n"
     ]
    }
   ],
   "source": [
    "# with iloc for position\n",
    "print(df.iloc[1, 1])"
   ]
  },
  {
   "cell_type": "code",
   "execution_count": 127,
   "metadata": {},
   "outputs": [
    {
     "name": "stdout",
     "output_type": "stream",
     "text": [
      "13\n"
     ]
    }
   ],
   "source": [
    "# mix label and position with loc\n",
    "print(df.loc[1, df.columns[1]])"
   ]
  },
  {
   "cell_type": "code",
   "execution_count": 122,
   "metadata": {},
   "outputs": [
    {
     "data": {
      "text/plain": [
       "11"
      ]
     },
     "execution_count": 122,
     "metadata": {},
     "output_type": "execute_result"
    }
   ],
   "source": [
    "# mix label and position with iloc\n",
    "print(df.iloc[1, df.columns.get_loc(\"Q\")])"
   ]
  },
  {
   "cell_type": "markdown",
   "metadata": {},
   "source": [
    "## Explore a dataset with profiling"
   ]
  },
  {
   "cell_type": "code",
   "execution_count": 37,
   "metadata": {},
   "outputs": [
    {
     "name": "stdout",
     "output_type": "stream",
     "text": [
      "Collecting pandas-profiling\n",
      "  Downloading https://files.pythonhosted.org/packages/e8/b0/bd5e3aaf37302fbe581b6947dc5ec1cda02a0ffe50fc823123def73e4d7a/pandas-profiling-2.5.0.tar.gz (192kB)\n",
      "Requirement already satisfied: numpy>=1.16.0 in d:\\anaconda\\lib\\site-packages (from pandas-profiling) (1.16.5)\n",
      "Collecting scipy>=1.4.1 (from pandas-profiling)\n",
      "  Downloading https://files.pythonhosted.org/packages/61/51/046cbc61c7607e5ecead6ff1a9453fba5e7e47a5ea8d608cc7036586a5ef/scipy-1.4.1-cp37-cp37m-win_amd64.whl (30.9MB)\n",
      "Collecting pandas==0.25.3 (from pandas-profiling)\n",
      "  Downloading https://files.pythonhosted.org/packages/02/d0/1e8e60e61e748338e3a40e42f5dfeee63ccdecfc4f0894122b890bfb009a/pandas-0.25.3-cp37-cp37m-win_amd64.whl (9.2MB)\n",
      "Requirement already satisfied: matplotlib>=3.0.3 in d:\\anaconda\\lib\\site-packages (from pandas-profiling) (3.1.1)\n",
      "Collecting confuse==1.0.0 (from pandas-profiling)\n",
      "  Downloading https://files.pythonhosted.org/packages/4c/6f/90e860cba937c174d8b3775729ccc6377eb91f52ad4eeb008e7252a3646d/confuse-1.0.0.tar.gz\n",
      "Collecting jinja2==2.11.1 (from pandas-profiling)\n",
      "  Downloading https://files.pythonhosted.org/packages/27/24/4f35961e5c669e96f6559760042a55b9bcfcdb82b9bdb3c8753dbe042e35/Jinja2-2.11.1-py2.py3-none-any.whl (126kB)\n",
      "Collecting visions==0.2.2 (from pandas-profiling)\n",
      "  Downloading https://files.pythonhosted.org/packages/07/4a/ab37f8bafda516b66c4f475b221a6c170097c0db203750a4aafb01023339/visions-0.2.2.tar.gz\n",
      "Collecting htmlmin==0.1.12 (from pandas-profiling)\n",
      "  Downloading https://files.pythonhosted.org/packages/b3/e7/fcd59e12169de19f0131ff2812077f964c6b960e7c09804d30a7bf2ab461/htmlmin-0.1.12.tar.gz\n",
      "Requirement already satisfied: missingno==0.4.2 in d:\\anaconda\\lib\\site-packages (from pandas-profiling) (0.4.2)\n",
      "Collecting phik==0.9.9 (from pandas-profiling)\n",
      "  Downloading https://files.pythonhosted.org/packages/03/cf/b8cef2778104dc5d319f36dd836efaceb07a037cbf63f27c966b5a193ce9/phik-0.9.9-py3-none-any.whl (607kB)\n",
      "Collecting astropy>=3.2.3 (from pandas-profiling)\n",
      "  Downloading https://files.pythonhosted.org/packages/f4/b9/d2a9dbab73995639969f5cf3e6acc646371da65a0fdc3f61cac5bb2c98e4/astropy-4.0-cp37-cp37m-win_amd64.whl (6.1MB)\n",
      "Collecting tangled-up-in-unicode==0.0.3 (from pandas-profiling)\n",
      "  Downloading https://files.pythonhosted.org/packages/43/fc/e3c970c5007b405827a4623e70fc4eb966ee49bc1edbd56c33e85e1c6534/tangled_up_in_unicode-0.0.3.tar.gz (1.5MB)\n",
      "Collecting tqdm==4.42.0 (from pandas-profiling)\n",
      "  Downloading https://files.pythonhosted.org/packages/cc/2e/4307206db63f05ed37e21d4c0d843d0fbcacd62479f8ce99ba0f2c0875e0/tqdm-4.42.0-py2.py3-none-any.whl (59kB)\n",
      "Collecting kaggle==1.5.6 (from pandas-profiling)\n",
      "  Downloading https://files.pythonhosted.org/packages/62/ab/bb20f9b9e24f9a6250f95a432f8d9a7d745f8d24039d7a5a6eaadb7783ba/kaggle-1.5.6.tar.gz (58kB)\n",
      "Requirement already satisfied: ipywidgets==7.5.1 in d:\\anaconda\\lib\\site-packages (from pandas-profiling) (7.5.1)\n",
      "Requirement already satisfied: requests==2.22.0 in d:\\anaconda\\lib\\site-packages (from pandas-profiling) (2.22.0)\n",
      "Requirement already satisfied: pytz>=2017.2 in d:\\anaconda\\lib\\site-packages (from pandas==0.25.3->pandas-profiling) (2019.3)\n",
      "Requirement already satisfied: python-dateutil>=2.6.1 in d:\\anaconda\\lib\\site-packages (from pandas==0.25.3->pandas-profiling) (2.8.0)\n",
      "Requirement already satisfied: cycler>=0.10 in d:\\anaconda\\lib\\site-packages (from matplotlib>=3.0.3->pandas-profiling) (0.10.0)\n",
      "Requirement already satisfied: kiwisolver>=1.0.1 in d:\\anaconda\\lib\\site-packages (from matplotlib>=3.0.3->pandas-profiling) (1.1.0)\n",
      "Requirement already satisfied: pyparsing!=2.0.4,!=2.1.2,!=2.1.6,>=2.0.1 in d:\\anaconda\\lib\\site-packages (from matplotlib>=3.0.3->pandas-profiling) (2.4.2)\n",
      "Requirement already satisfied: pyyaml in d:\\anaconda\\lib\\site-packages (from confuse==1.0.0->pandas-profiling) (5.1.2)\n",
      "Requirement already satisfied: MarkupSafe>=0.23 in d:\\anaconda\\lib\\site-packages (from jinja2==2.11.1->pandas-profiling) (1.1.1)\n",
      "Requirement already satisfied: networkx in d:\\anaconda\\lib\\site-packages (from visions==0.2.2->pandas-profiling) (2.3)\n",
      "Collecting attr (from visions==0.2.2->pandas-profiling)\n",
      "  Downloading https://files.pythonhosted.org/packages/de/be/ddc7f84d4e087144472a38a373d3e319f51a6faf6e5fc1ae897173675f21/attr-0.3.1.tar.gz\n",
      "Requirement already satisfied: seaborn in d:\\anaconda\\lib\\site-packages (from missingno==0.4.2->pandas-profiling) (0.9.0)\n",
      "Requirement already satisfied: jupyter-client>=5.2.3 in d:\\anaconda\\lib\\site-packages (from phik==0.9.9->pandas-profiling) (5.3.3)\n",
      "Requirement already satisfied: nbconvert>=5.3.1 in d:\\anaconda\\lib\\site-packages (from phik==0.9.9->pandas-profiling) (5.6.0)\n",
      "Requirement already satisfied: numba>=0.38.1 in d:\\anaconda\\lib\\site-packages (from phik==0.9.9->pandas-profiling) (0.45.1)\n",
      "Collecting joblib>=0.14.1 (from phik==0.9.9->pandas-profiling)\n",
      "  Downloading https://files.pythonhosted.org/packages/28/5c/cf6a2b65a321c4a209efcdf64c2689efae2cb62661f8f6f4bb28547cf1bf/joblib-0.14.1-py2.py3-none-any.whl (294kB)\n",
      "Collecting pytest-pylint>=0.13.0 (from phik==0.9.9->pandas-profiling)\n",
      "  Downloading https://files.pythonhosted.org/packages/31/ef/e848f832a596a8a40b32d8aa169788b4df167c2d6a5960c01e83a30ebaa7/pytest_pylint-0.15.1-py3-none-any.whl\n",
      "Requirement already satisfied: pytest>=4.0.2 in d:\\anaconda\\lib\\site-packages (from phik==0.9.9->pandas-profiling) (5.2.1)\n",
      "Requirement already satisfied: urllib3<1.25,>=1.21.1 in d:\\anaconda\\lib\\site-packages (from kaggle==1.5.6->pandas-profiling) (1.24.2)\n",
      "Requirement already satisfied: six>=1.10 in d:\\anaconda\\lib\\site-packages (from kaggle==1.5.6->pandas-profiling) (1.12.0)\n",
      "Requirement already satisfied: certifi in d:\\anaconda\\lib\\site-packages (from kaggle==1.5.6->pandas-profiling) (2019.9.11)\n",
      "Collecting python-slugify (from kaggle==1.5.6->pandas-profiling)\n",
      "  Downloading https://files.pythonhosted.org/packages/92/5f/7b84a0bba8a0fdd50c046f8b57dcf179dc16237ad33446079b7c484de04c/python-slugify-4.0.0.tar.gz\n",
      "Requirement already satisfied: traitlets>=4.3.1 in d:\\anaconda\\lib\\site-packages (from ipywidgets==7.5.1->pandas-profiling) (4.3.3)\n",
      "Requirement already satisfied: ipykernel>=4.5.1 in d:\\anaconda\\lib\\site-packages (from ipywidgets==7.5.1->pandas-profiling) (5.1.2)\n",
      "Requirement already satisfied: widgetsnbextension~=3.5.0 in d:\\anaconda\\lib\\site-packages (from ipywidgets==7.5.1->pandas-profiling) (3.5.1)\n",
      "Requirement already satisfied: nbformat>=4.2.0 in d:\\anaconda\\lib\\site-packages (from ipywidgets==7.5.1->pandas-profiling) (4.4.0)\n",
      "Requirement already satisfied: ipython>=4.0.0; python_version >= \"3.3\" in d:\\anaconda\\lib\\site-packages (from ipywidgets==7.5.1->pandas-profiling) (7.8.0)\n",
      "Requirement already satisfied: chardet<3.1.0,>=3.0.2 in d:\\anaconda\\lib\\site-packages (from requests==2.22.0->pandas-profiling) (3.0.4)\n",
      "Requirement already satisfied: idna<2.9,>=2.5 in d:\\anaconda\\lib\\site-packages (from requests==2.22.0->pandas-profiling) (2.8)\n",
      "Requirement already satisfied: setuptools in d:\\anaconda\\lib\\site-packages (from kiwisolver>=1.0.1->matplotlib>=3.0.3->pandas-profiling) (41.4.0)\n",
      "Requirement already satisfied: decorator>=4.3.0 in d:\\anaconda\\lib\\site-packages (from networkx->visions==0.2.2->pandas-profiling) (4.4.0)\n",
      "Requirement already satisfied: pywin32>=1.0; sys_platform == \"win32\" in d:\\anaconda\\lib\\site-packages (from jupyter-client>=5.2.3->phik==0.9.9->pandas-profiling) (223)\n",
      "Requirement already satisfied: jupyter-core in d:\\anaconda\\lib\\site-packages (from jupyter-client>=5.2.3->phik==0.9.9->pandas-profiling) (4.5.0)\n",
      "Requirement already satisfied: tornado>=4.1 in d:\\anaconda\\lib\\site-packages (from jupyter-client>=5.2.3->phik==0.9.9->pandas-profiling) (6.0.3)\n",
      "Requirement already satisfied: pyzmq>=13 in d:\\anaconda\\lib\\site-packages (from jupyter-client>=5.2.3->phik==0.9.9->pandas-profiling) (18.1.0)\n",
      "Requirement already satisfied: testpath in d:\\anaconda\\lib\\site-packages (from nbconvert>=5.3.1->phik==0.9.9->pandas-profiling) (0.4.2)\n",
      "Requirement already satisfied: pandocfilters>=1.4.1 in d:\\anaconda\\lib\\site-packages (from nbconvert>=5.3.1->phik==0.9.9->pandas-profiling) (1.4.2)\n",
      "Requirement already satisfied: mistune<2,>=0.8.1 in d:\\anaconda\\lib\\site-packages (from nbconvert>=5.3.1->phik==0.9.9->pandas-profiling) (0.8.4)\n",
      "Requirement already satisfied: pygments in d:\\anaconda\\lib\\site-packages (from nbconvert>=5.3.1->phik==0.9.9->pandas-profiling) (2.4.2)\n",
      "Requirement already satisfied: bleach in d:\\anaconda\\lib\\site-packages (from nbconvert>=5.3.1->phik==0.9.9->pandas-profiling) (3.1.0)\n",
      "Requirement already satisfied: entrypoints>=0.2.2 in d:\\anaconda\\lib\\site-packages (from nbconvert>=5.3.1->phik==0.9.9->pandas-profiling) (0.3)\n",
      "Requirement already satisfied: defusedxml in d:\\anaconda\\lib\\site-packages (from nbconvert>=5.3.1->phik==0.9.9->pandas-profiling) (0.6.0)\n",
      "Requirement already satisfied: llvmlite>=0.29.0dev0 in d:\\anaconda\\lib\\site-packages (from numba>=0.38.1->phik==0.9.9->pandas-profiling) (0.29.0)\n",
      "Requirement already satisfied: pylint>=2.0.0 in d:\\anaconda\\lib\\site-packages (from pytest-pylint>=0.13.0->phik==0.9.9->pandas-profiling) (2.4.2)\n",
      "Requirement already satisfied: py>=1.5.0 in d:\\anaconda\\lib\\site-packages (from pytest>=4.0.2->phik==0.9.9->pandas-profiling) (1.8.0)\n",
      "Requirement already satisfied: packaging in d:\\anaconda\\lib\\site-packages (from pytest>=4.0.2->phik==0.9.9->pandas-profiling) (19.2)\n",
      "Requirement already satisfied: attrs>=17.4.0 in d:\\anaconda\\lib\\site-packages (from pytest>=4.0.2->phik==0.9.9->pandas-profiling) (19.2.0)\n",
      "Requirement already satisfied: more-itertools>=4.0.0 in d:\\anaconda\\lib\\site-packages (from pytest>=4.0.2->phik==0.9.9->pandas-profiling) (7.2.0)\n",
      "Requirement already satisfied: atomicwrites>=1.0 in d:\\anaconda\\lib\\site-packages (from pytest>=4.0.2->phik==0.9.9->pandas-profiling) (1.3.0)\n",
      "Requirement already satisfied: pluggy<1.0,>=0.12 in d:\\anaconda\\lib\\site-packages (from pytest>=4.0.2->phik==0.9.9->pandas-profiling) (0.13.0)\n",
      "Requirement already satisfied: wcwidth in d:\\anaconda\\lib\\site-packages (from pytest>=4.0.2->phik==0.9.9->pandas-profiling) (0.1.7)\n",
      "Requirement already satisfied: importlib-metadata>=0.12 in d:\\anaconda\\lib\\site-packages (from pytest>=4.0.2->phik==0.9.9->pandas-profiling) (0.23)\n",
      "Requirement already satisfied: colorama in d:\\anaconda\\lib\\site-packages (from pytest>=4.0.2->phik==0.9.9->pandas-profiling) (0.4.1)\n",
      "Collecting text-unidecode>=1.3 (from python-slugify->kaggle==1.5.6->pandas-profiling)\n",
      "  Downloading https://files.pythonhosted.org/packages/a6/a5/c0b6468d3824fe3fde30dbb5e1f687b291608f9473681bbf7dabbf5a87d7/text_unidecode-1.3-py2.py3-none-any.whl (78kB)\n",
      "Requirement already satisfied: ipython-genutils in d:\\anaconda\\lib\\site-packages (from traitlets>=4.3.1->ipywidgets==7.5.1->pandas-profiling) (0.2.0)\n",
      "Requirement already satisfied: notebook>=4.4.1 in d:\\anaconda\\lib\\site-packages (from widgetsnbextension~=3.5.0->ipywidgets==7.5.1->pandas-profiling) (6.0.1)\n",
      "Requirement already satisfied: jsonschema!=2.5.0,>=2.4 in d:\\anaconda\\lib\\site-packages (from nbformat>=4.2.0->ipywidgets==7.5.1->pandas-profiling) (3.0.2)\n",
      "Requirement already satisfied: backcall in d:\\anaconda\\lib\\site-packages (from ipython>=4.0.0; python_version >= \"3.3\"->ipywidgets==7.5.1->pandas-profiling) (0.1.0)\n",
      "Requirement already satisfied: jedi>=0.10 in d:\\anaconda\\lib\\site-packages (from ipython>=4.0.0; python_version >= \"3.3\"->ipywidgets==7.5.1->pandas-profiling) (0.15.1)\n",
      "Requirement already satisfied: pickleshare in d:\\anaconda\\lib\\site-packages (from ipython>=4.0.0; python_version >= \"3.3\"->ipywidgets==7.5.1->pandas-profiling) (0.7.5)\n",
      "Requirement already satisfied: prompt-toolkit<2.1.0,>=2.0.0 in d:\\anaconda\\lib\\site-packages (from ipython>=4.0.0; python_version >= \"3.3\"->ipywidgets==7.5.1->pandas-profiling) (2.0.10)\n",
      "Requirement already satisfied: webencodings in d:\\anaconda\\lib\\site-packages (from bleach->nbconvert>=5.3.1->phik==0.9.9->pandas-profiling) (0.5.1)\n",
      "Requirement already satisfied: isort<5,>=4.2.5 in d:\\anaconda\\lib\\site-packages (from pylint>=2.0.0->pytest-pylint>=0.13.0->phik==0.9.9->pandas-profiling) (4.3.21)\n",
      "Requirement already satisfied: astroid<2.4,>=2.3.0 in d:\\anaconda\\lib\\site-packages (from pylint>=2.0.0->pytest-pylint>=0.13.0->phik==0.9.9->pandas-profiling) (2.3.1)\n",
      "Requirement already satisfied: mccabe<0.7,>=0.6 in d:\\anaconda\\lib\\site-packages (from pylint>=2.0.0->pytest-pylint>=0.13.0->phik==0.9.9->pandas-profiling) (0.6.1)\n",
      "Requirement already satisfied: zipp>=0.5 in d:\\anaconda\\lib\\site-packages (from importlib-metadata>=0.12->pytest>=4.0.2->phik==0.9.9->pandas-profiling) (0.6.0)\n",
      "Requirement already satisfied: prometheus-client in d:\\anaconda\\lib\\site-packages (from notebook>=4.4.1->widgetsnbextension~=3.5.0->ipywidgets==7.5.1->pandas-profiling) (0.7.1)\n",
      "Requirement already satisfied: Send2Trash in d:\\anaconda\\lib\\site-packages (from notebook>=4.4.1->widgetsnbextension~=3.5.0->ipywidgets==7.5.1->pandas-profiling) (1.5.0)\n",
      "Requirement already satisfied: terminado>=0.8.1 in d:\\anaconda\\lib\\site-packages (from notebook>=4.4.1->widgetsnbextension~=3.5.0->ipywidgets==7.5.1->pandas-profiling) (0.8.2)\n",
      "Requirement already satisfied: pyrsistent>=0.14.0 in d:\\anaconda\\lib\\site-packages (from jsonschema!=2.5.0,>=2.4->nbformat>=4.2.0->ipywidgets==7.5.1->pandas-profiling) (0.15.4)\n",
      "Requirement already satisfied: parso>=0.5.0 in d:\\anaconda\\lib\\site-packages (from jedi>=0.10->ipython>=4.0.0; python_version >= \"3.3\"->ipywidgets==7.5.1->pandas-profiling) (0.5.1)\n",
      "Collecting typed-ast<1.5,>=1.4.0; implementation_name == \"cpython\" and python_version < \"3.8\" (from astroid<2.4,>=2.3.0->pylint>=2.0.0->pytest-pylint>=0.13.0->phik==0.9.9->pandas-profiling)\n",
      "  Downloading https://files.pythonhosted.org/packages/6d/6f/c67eed763bcc095d9187c7a04fdc3ba640d1e990368acfcb1d294ff71549/typed_ast-1.4.1-cp37-cp37m-win_amd64.whl (155kB)\n",
      "Requirement already satisfied: wrapt==1.11.* in d:\\anaconda\\lib\\site-packages (from astroid<2.4,>=2.3.0->pylint>=2.0.0->pytest-pylint>=0.13.0->phik==0.9.9->pandas-profiling) (1.11.2)\n",
      "Requirement already satisfied: lazy-object-proxy==1.4.* in d:\\anaconda\\lib\\site-packages (from astroid<2.4,>=2.3.0->pylint>=2.0.0->pytest-pylint>=0.13.0->phik==0.9.9->pandas-profiling) (1.4.2)\n",
      "Building wheels for collected packages: pandas-profiling, confuse, visions, htmlmin, tangled-up-in-unicode, kaggle, attr, python-slugify\n",
      "  Building wheel for pandas-profiling (setup.py): started\n",
      "  Building wheel for pandas-profiling (setup.py): finished with status 'done'\n",
      "  Created wheel for pandas-profiling: filename=pandas_profiling-2.5.0-py2.py3-none-any.whl size=241339 sha256=dc2ae4dab0385275b632f02dff98341ace11850b08c78c8a1ce26a4f41367196\n",
      "  Stored in directory: C:\\Users\\Sushma\\AppData\\Local\\pip\\Cache\\wheels\\9b\\c9\\f1\\4a2f30c760e017f3e2f46be999c4597a93d126ef5ea38e276f\n",
      "  Building wheel for confuse (setup.py): started\n",
      "  Building wheel for confuse (setup.py): finished with status 'done'\n",
      "  Created wheel for confuse: filename=confuse-1.0.0-cp37-none-any.whl size=17494 sha256=d192059181f10af9208a66bedbdcc2e7ea99c670effed697311387a2c3101dba\n",
      "  Stored in directory: C:\\Users\\Sushma\\AppData\\Local\\pip\\Cache\\wheels\\b0\\b2\\96\\2074eee7dbf7b7df69d004c9b6ac4e32dad04fb7666cf943bd\n",
      "  Building wheel for visions (setup.py): started\n",
      "  Building wheel for visions (setup.py): finished with status 'done'\n",
      "  Created wheel for visions: filename=visions-0.2.2-cp37-none-any.whl size=53062 sha256=ff7ed6759d6fb2195ec50eb013a50eed7904a08a4a762047aeed93b5b863f882\n",
      "  Stored in directory: C:\\Users\\Sushma\\AppData\\Local\\pip\\Cache\\wheels\\53\\87\\68\\294a9e88d82e395b38571df18f7cb71e9ab51cedae77dd6f31\n",
      "  Building wheel for htmlmin (setup.py): started\n",
      "  Building wheel for htmlmin (setup.py): finished with status 'done'\n",
      "  Created wheel for htmlmin: filename=htmlmin-0.1.12-cp37-none-any.whl size=27090 sha256=977f6e702c2618bb0966fb91df53cb54b7ee8611bad3afb108f9eb334c519fd5\n",
      "  Stored in directory: C:\\Users\\Sushma\\AppData\\Local\\pip\\Cache\\wheels\\43\\07\\ac\\7c5a9d708d65247ac1f94066cf1db075540b85716c30255459\n",
      "  Building wheel for tangled-up-in-unicode (setup.py): started\n",
      "  Building wheel for tangled-up-in-unicode (setup.py): finished with status 'done'\n",
      "  Created wheel for tangled-up-in-unicode: filename=tangled_up_in_unicode-0.0.3-cp37-none-any.whl size=1554158 sha256=cdbc6d8702d2258f7c8fff89ed46a7ba60e0c4a3acc4fecc164f4773dc287b25\n",
      "  Stored in directory: C:\\Users\\Sushma\\AppData\\Local\\pip\\Cache\\wheels\\c4\\57\\cc\\5f58206efb00418d4dcae8d08a3cb40627778ea29622f664c6\n",
      "  Building wheel for kaggle (setup.py): started\n",
      "  Building wheel for kaggle (setup.py): finished with status 'done'\n",
      "  Created wheel for kaggle: filename=kaggle-1.5.6-cp37-none-any.whl size=72864 sha256=d1f7a3d6ed799f65a39cc3f261844fd1d57ec10e98c8352b58bbb7c603119d7b\n",
      "  Stored in directory: C:\\Users\\Sushma\\AppData\\Local\\pip\\Cache\\wheels\\57\\4e\\e8\\bb28d035162fb8f17f8ca5d42c3230e284c6aa565b42b72674\n",
      "  Building wheel for attr (setup.py): started\n",
      "  Building wheel for attr (setup.py): finished with status 'done'\n",
      "  Created wheel for attr: filename=attr-0.3.1-cp37-none-any.whl size=2463 sha256=decacade94eaf6bedc35a6f89357bde0c4fec791ba2425dff6635cfb7c50e17b\n",
      "  Stored in directory: C:\\Users\\Sushma\\AppData\\Local\\pip\\Cache\\wheels\\f0\\96\\9b\\1f8892a707d17095b5a6eab0275da9d39e68e03a26aee2e726\n",
      "  Building wheel for python-slugify (setup.py): started\n",
      "  Building wheel for python-slugify (setup.py): finished with status 'done'\n",
      "  Created wheel for python-slugify: filename=python_slugify-4.0.0-py2.py3-none-any.whl size=5493 sha256=df88e5f2729c3572414f91e5f19679991825df79d1d6e7454a33547d0a8fcae6\n",
      "  Stored in directory: C:\\Users\\Sushma\\AppData\\Local\\pip\\Cache\\wheels\\11\\94\\81\\312969455540cb0e6a773e5d68a73c14128bfdfd4a7969bb4f\n",
      "Successfully built pandas-profiling confuse visions htmlmin tangled-up-in-unicode kaggle attr python-slugify\n",
      "Installing collected packages: scipy, pandas, confuse, jinja2, tangled-up-in-unicode, attr, visions, htmlmin, joblib, pytest-pylint, phik, astropy, tqdm, text-unidecode, python-slugify, kaggle, pandas-profiling, typed-ast\n",
      "  Found existing installation: scipy 1.3.1\n",
      "    Uninstalling scipy-1.3.1:\n",
      "      Successfully uninstalled scipy-1.3.1\n"
     ]
    },
    {
     "name": "stderr",
     "output_type": "stream",
     "text": [
      "ERROR: panel 0.9.3 has requirement bokeh>=2.0.0, but you'll have bokeh 1.3.4 which is incompatible.\n",
      "ERROR: Could not install packages due to an EnvironmentError: [WinError 5] Access is denied: 'd:\\\\anaconda\\\\lib\\\\site-packages\\\\~cipy\\\\cluster\\\\_hierarchy.cp37-win_amd64.pyd'\n",
      "Consider using the `--user` option or check the permissions.\n",
      "\n"
     ]
    },
    {
     "ename": "ModuleNotFoundError",
     "evalue": "No module named 'pandas_profiling'",
     "output_type": "error",
     "traceback": [
      "\u001b[1;31m---------------------------------------------------------------------------\u001b[0m",
      "\u001b[1;31mModuleNotFoundError\u001b[0m                       Traceback (most recent call last)",
      "\u001b[1;32m<ipython-input-37-3084e0b80987>\u001b[0m in \u001b[0;36m<module>\u001b[1;34m\u001b[0m\n\u001b[0;32m      1\u001b[0m \u001b[0mget_ipython\u001b[0m\u001b[1;33m(\u001b[0m\u001b[1;33m)\u001b[0m\u001b[1;33m.\u001b[0m\u001b[0msystem\u001b[0m\u001b[1;33m(\u001b[0m\u001b[1;34m'pip install pandas-profiling'\u001b[0m\u001b[1;33m)\u001b[0m\u001b[1;33m\u001b[0m\u001b[1;33m\u001b[0m\u001b[0m\n\u001b[1;32m----> 2\u001b[1;33m \u001b[1;32mimport\u001b[0m \u001b[0mpandas_profiling\u001b[0m\u001b[1;33m\u001b[0m\u001b[1;33m\u001b[0m\u001b[0m\n\u001b[0m\u001b[0;32m      3\u001b[0m \u001b[1;33m\u001b[0m\u001b[0m\n\u001b[0;32m      4\u001b[0m \u001b[0mdf\u001b[0m \u001b[1;33m=\u001b[0m \u001b[0mgenerate_sample_data\u001b[0m\u001b[1;33m(\u001b[0m\u001b[1;33m)\u001b[0m\u001b[1;33m\u001b[0m\u001b[1;33m\u001b[0m\u001b[0m\n\u001b[0;32m      5\u001b[0m \u001b[1;33m\u001b[0m\u001b[0m\n",
      "\u001b[1;31mModuleNotFoundError\u001b[0m: No module named 'pandas_profiling'"
     ]
    }
   ],
   "source": [
    "!pip install pandas-profiling\n"
   ]
  },
  {
   "cell_type": "code",
   "execution_count": 129,
   "metadata": {},
   "outputs": [
    {
     "data": {
      "text/html": [
       "<div>\n",
       "<style scoped>\n",
       "    .dataframe tbody tr th:only-of-type {\n",
       "        vertical-align: middle;\n",
       "    }\n",
       "\n",
       "    .dataframe tbody tr th {\n",
       "        vertical-align: top;\n",
       "    }\n",
       "\n",
       "    .dataframe thead th {\n",
       "        text-align: right;\n",
       "    }\n",
       "</style>\n",
       "<table border=\"1\" class=\"dataframe\">\n",
       "  <thead>\n",
       "    <tr style=\"text-align: right;\">\n",
       "      <th></th>\n",
       "      <th>P</th>\n",
       "      <th>Q</th>\n",
       "      <th>R</th>\n",
       "      <th>S</th>\n",
       "      <th>T</th>\n",
       "      <th>U</th>\n",
       "    </tr>\n",
       "  </thead>\n",
       "  <tbody>\n",
       "    <tr>\n",
       "      <td>0</td>\n",
       "      <td>3</td>\n",
       "      <td>3</td>\n",
       "      <td>18</td>\n",
       "      <td>10</td>\n",
       "      <td>3</td>\n",
       "      <td>18</td>\n",
       "    </tr>\n",
       "    <tr>\n",
       "      <td>1</td>\n",
       "      <td>14</td>\n",
       "      <td>16</td>\n",
       "      <td>15</td>\n",
       "      <td>14</td>\n",
       "      <td>10</td>\n",
       "      <td>19</td>\n",
       "    </tr>\n",
       "    <tr>\n",
       "      <td>2</td>\n",
       "      <td>3</td>\n",
       "      <td>11</td>\n",
       "      <td>4</td>\n",
       "      <td>2</td>\n",
       "      <td>16</td>\n",
       "      <td>5</td>\n",
       "    </tr>\n",
       "    <tr>\n",
       "      <td>3</td>\n",
       "      <td>16</td>\n",
       "      <td>17</td>\n",
       "      <td>8</td>\n",
       "      <td>11</td>\n",
       "      <td>11</td>\n",
       "      <td>3</td>\n",
       "    </tr>\n",
       "    <tr>\n",
       "      <td>4</td>\n",
       "      <td>2</td>\n",
       "      <td>7</td>\n",
       "      <td>8</td>\n",
       "      <td>11</td>\n",
       "      <td>3</td>\n",
       "      <td>12</td>\n",
       "    </tr>\n",
       "    <tr>\n",
       "      <td>5</td>\n",
       "      <td>6</td>\n",
       "      <td>17</td>\n",
       "      <td>7</td>\n",
       "      <td>19</td>\n",
       "      <td>14</td>\n",
       "      <td>12</td>\n",
       "    </tr>\n",
       "    <tr>\n",
       "      <td>6</td>\n",
       "      <td>14</td>\n",
       "      <td>6</td>\n",
       "      <td>8</td>\n",
       "      <td>3</td>\n",
       "      <td>3</td>\n",
       "      <td>3</td>\n",
       "    </tr>\n",
       "    <tr>\n",
       "      <td>7</td>\n",
       "      <td>14</td>\n",
       "      <td>1</td>\n",
       "      <td>12</td>\n",
       "      <td>19</td>\n",
       "      <td>13</td>\n",
       "      <td>15</td>\n",
       "    </tr>\n",
       "    <tr>\n",
       "      <td>8</td>\n",
       "      <td>3</td>\n",
       "      <td>6</td>\n",
       "      <td>12</td>\n",
       "      <td>13</td>\n",
       "      <td>19</td>\n",
       "      <td>12</td>\n",
       "    </tr>\n",
       "    <tr>\n",
       "      <td>9</td>\n",
       "      <td>19</td>\n",
       "      <td>14</td>\n",
       "      <td>4</td>\n",
       "      <td>6</td>\n",
       "      <td>16</td>\n",
       "      <td>4</td>\n",
       "    </tr>\n",
       "    <tr>\n",
       "      <td>10</td>\n",
       "      <td>7</td>\n",
       "      <td>13</td>\n",
       "      <td>13</td>\n",
       "      <td>11</td>\n",
       "      <td>10</td>\n",
       "      <td>1</td>\n",
       "    </tr>\n",
       "    <tr>\n",
       "      <td>11</td>\n",
       "      <td>14</td>\n",
       "      <td>1</td>\n",
       "      <td>6</td>\n",
       "      <td>1</td>\n",
       "      <td>2</td>\n",
       "      <td>7</td>\n",
       "    </tr>\n",
       "    <tr>\n",
       "      <td>12</td>\n",
       "      <td>13</td>\n",
       "      <td>14</td>\n",
       "      <td>14</td>\n",
       "      <td>11</td>\n",
       "      <td>17</td>\n",
       "      <td>12</td>\n",
       "    </tr>\n",
       "    <tr>\n",
       "      <td>13</td>\n",
       "      <td>9</td>\n",
       "      <td>9</td>\n",
       "      <td>5</td>\n",
       "      <td>13</td>\n",
       "      <td>16</td>\n",
       "      <td>8</td>\n",
       "    </tr>\n",
       "    <tr>\n",
       "      <td>14</td>\n",
       "      <td>8</td>\n",
       "      <td>6</td>\n",
       "      <td>7</td>\n",
       "      <td>5</td>\n",
       "      <td>11</td>\n",
       "      <td>14</td>\n",
       "    </tr>\n",
       "  </tbody>\n",
       "</table>\n",
       "</div>"
      ],
      "text/plain": [
       "     P   Q   R   S   T   U\n",
       "0    3   3  18  10   3  18\n",
       "1   14  16  15  14  10  19\n",
       "2    3  11   4   2  16   5\n",
       "3   16  17   8  11  11   3\n",
       "4    2   7   8  11   3  12\n",
       "5    6  17   7  19  14  12\n",
       "6   14   6   8   3   3   3\n",
       "7   14   1  12  19  13  15\n",
       "8    3   6  12  13  19  12\n",
       "9   19  14   4   6  16   4\n",
       "10   7  13  13  11  10   1\n",
       "11  14   1   6   1   2   7\n",
       "12  13  14  14  11  17  12\n",
       "13   9   9   5  13  16   8\n",
       "14   8   6   7   5  11  14"
      ]
     },
     "execution_count": 129,
     "metadata": {},
     "output_type": "execute_result"
    }
   ],
   "source": [
    "df = generateDF()\n",
    "df\n",
    "# print(\"Generating report with pandas profiling\")\n",
    "# df.profile_report()"
   ]
  },
  {
   "cell_type": "markdown",
   "metadata": {},
   "source": [
    "## 3.10 pandas.np: Accessing numpy within pandas without importing numpy \n",
    "Pandas is built upon numpy package. Hence, we can acess all numpy functionalities using pandas"
   ]
  },
  {
   "cell_type": "code",
   "execution_count": 165,
   "metadata": {},
   "outputs": [
    {
     "data": {
      "text/plain": [
       "nan"
      ]
     },
     "execution_count": 165,
     "metadata": {},
     "output_type": "execute_result"
    }
   ],
   "source": [
    "pd.np.random.rand(3, 5)\n",
    "pd.np.nan"
   ]
  },
  {
   "cell_type": "markdown",
   "metadata": {},
   "source": [
    "## 3.11 pandas.read_clipboard: Quickly copying data from Excel to pandas"
   ]
  },
  {
   "cell_type": "markdown",
   "metadata": {},
   "source": [
    "#### This process is useful for fast importing of Excel data\n",
    "#### Step 1: Copy the excel sheet table's data using ctrl + c (to the clipboard)\n",
    "#### Step 2: Then run the following command:\n",
    "#### df = pd.read_clipboard()"
   ]
  },
  {
   "cell_type": "markdown",
   "metadata": {},
   "source": [
    "## 3.12 Dataframe.interpolate: interpolate and fill missing values in time series data "
   ]
  },
  {
   "cell_type": "code",
   "execution_count": 166,
   "metadata": {},
   "outputs": [
    {
     "name": "stdout",
     "output_type": "stream",
     "text": [
      "The dataframe\n"
     ]
    },
    {
     "data": {
      "text/html": [
       "<div>\n",
       "<style scoped>\n",
       "    .dataframe tbody tr th:only-of-type {\n",
       "        vertical-align: middle;\n",
       "    }\n",
       "\n",
       "    .dataframe tbody tr th {\n",
       "        vertical-align: top;\n",
       "    }\n",
       "\n",
       "    .dataframe thead th {\n",
       "        text-align: right;\n",
       "    }\n",
       "</style>\n",
       "<table border=\"1\" class=\"dataframe\">\n",
       "  <thead>\n",
       "    <tr style=\"text-align: right;\">\n",
       "      <th></th>\n",
       "      <th>C1</th>\n",
       "      <th>C2</th>\n",
       "    </tr>\n",
       "  </thead>\n",
       "  <tbody>\n",
       "    <tr>\n",
       "      <td>2000-01-03</td>\n",
       "      <td>1.0</td>\n",
       "      <td>92.00</td>\n",
       "    </tr>\n",
       "    <tr>\n",
       "      <td>2000-01-04</td>\n",
       "      <td>20.0</td>\n",
       "      <td>101.00</td>\n",
       "    </tr>\n",
       "    <tr>\n",
       "      <td>2000-01-05</td>\n",
       "      <td>34.0</td>\n",
       "      <td>NaN</td>\n",
       "    </tr>\n",
       "    <tr>\n",
       "      <td>2000-01-06</td>\n",
       "      <td>88.0</td>\n",
       "      <td>7.53</td>\n",
       "    </tr>\n",
       "    <tr>\n",
       "      <td>2000-01-07</td>\n",
       "      <td>NaN</td>\n",
       "      <td>6.55</td>\n",
       "    </tr>\n",
       "    <tr>\n",
       "      <td>2000-01-10</td>\n",
       "      <td>23.0</td>\n",
       "      <td>77.77</td>\n",
       "    </tr>\n",
       "    <tr>\n",
       "      <td>2000-01-11</td>\n",
       "      <td>4.0</td>\n",
       "      <td>333.30</td>\n",
       "    </tr>\n",
       "  </tbody>\n",
       "</table>\n",
       "</div>"
      ],
      "text/plain": [
       "              C1      C2\n",
       "2000-01-03   1.0   92.00\n",
       "2000-01-04  20.0  101.00\n",
       "2000-01-05  34.0     NaN\n",
       "2000-01-06  88.0    7.53\n",
       "2000-01-07   NaN    6.55\n",
       "2000-01-10  23.0   77.77\n",
       "2000-01-11   4.0  333.30"
      ]
     },
     "execution_count": 166,
     "metadata": {},
     "output_type": "execute_result"
    }
   ],
   "source": [
    "d = {\"C1\":[1,20,34, 88, np.nan, 23, 4], \"C2\":[92, 101, np.nan, 7.53, 6.55, 77.77, 333.3]}\n",
    "df = pd.DataFrame(d)\n",
    "df.index = pd.util.testing.makeDateIndex()[0:7]\n",
    "print(\"The dataframe\")\n",
    "df"
   ]
  },
  {
   "cell_type": "code",
   "execution_count": 167,
   "metadata": {},
   "outputs": [
    {
     "name": "stdout",
     "output_type": "stream",
     "text": [
      "After interpolate, the dataframe is: \n"
     ]
    },
    {
     "data": {
      "text/html": [
       "<div>\n",
       "<style scoped>\n",
       "    .dataframe tbody tr th:only-of-type {\n",
       "        vertical-align: middle;\n",
       "    }\n",
       "\n",
       "    .dataframe tbody tr th {\n",
       "        vertical-align: top;\n",
       "    }\n",
       "\n",
       "    .dataframe thead th {\n",
       "        text-align: right;\n",
       "    }\n",
       "</style>\n",
       "<table border=\"1\" class=\"dataframe\">\n",
       "  <thead>\n",
       "    <tr style=\"text-align: right;\">\n",
       "      <th></th>\n",
       "      <th>C1</th>\n",
       "      <th>C2</th>\n",
       "    </tr>\n",
       "  </thead>\n",
       "  <tbody>\n",
       "    <tr>\n",
       "      <td>2000-01-03</td>\n",
       "      <td>1.0</td>\n",
       "      <td>92.000</td>\n",
       "    </tr>\n",
       "    <tr>\n",
       "      <td>2000-01-04</td>\n",
       "      <td>20.0</td>\n",
       "      <td>101.000</td>\n",
       "    </tr>\n",
       "    <tr>\n",
       "      <td>2000-01-05</td>\n",
       "      <td>34.0</td>\n",
       "      <td>54.265</td>\n",
       "    </tr>\n",
       "    <tr>\n",
       "      <td>2000-01-06</td>\n",
       "      <td>88.0</td>\n",
       "      <td>7.530</td>\n",
       "    </tr>\n",
       "    <tr>\n",
       "      <td>2000-01-07</td>\n",
       "      <td>55.5</td>\n",
       "      <td>6.550</td>\n",
       "    </tr>\n",
       "    <tr>\n",
       "      <td>2000-01-10</td>\n",
       "      <td>23.0</td>\n",
       "      <td>77.770</td>\n",
       "    </tr>\n",
       "    <tr>\n",
       "      <td>2000-01-11</td>\n",
       "      <td>4.0</td>\n",
       "      <td>333.300</td>\n",
       "    </tr>\n",
       "  </tbody>\n",
       "</table>\n",
       "</div>"
      ],
      "text/plain": [
       "              C1       C2\n",
       "2000-01-03   1.0   92.000\n",
       "2000-01-04  20.0  101.000\n",
       "2000-01-05  34.0   54.265\n",
       "2000-01-06  88.0    7.530\n",
       "2000-01-07  55.5    6.550\n",
       "2000-01-10  23.0   77.770\n",
       "2000-01-11   4.0  333.300"
      ]
     },
     "execution_count": 167,
     "metadata": {},
     "output_type": "execute_result"
    }
   ],
   "source": [
    "print(\"After interpolate, the dataframe is: \")\n",
    "df.interpolate()"
   ]
  },
  {
   "cell_type": "markdown",
   "metadata": {},
   "source": [
    "## 3.13 pandas.util.testing: Creating new DataFrames for testing"
   ]
  },
  {
   "cell_type": "code",
   "execution_count": 168,
   "metadata": {},
   "outputs": [
    {
     "name": "stdout",
     "output_type": "stream",
     "text": [
      "Dataframe that has random values\n"
     ]
    },
    {
     "data": {
      "text/html": [
       "<div>\n",
       "<style scoped>\n",
       "    .dataframe tbody tr th:only-of-type {\n",
       "        vertical-align: middle;\n",
       "    }\n",
       "\n",
       "    .dataframe tbody tr th {\n",
       "        vertical-align: top;\n",
       "    }\n",
       "\n",
       "    .dataframe thead th {\n",
       "        text-align: right;\n",
       "    }\n",
       "</style>\n",
       "<table border=\"1\" class=\"dataframe\">\n",
       "  <thead>\n",
       "    <tr style=\"text-align: right;\">\n",
       "      <th></th>\n",
       "      <th>A</th>\n",
       "      <th>B</th>\n",
       "      <th>C</th>\n",
       "      <th>D</th>\n",
       "    </tr>\n",
       "  </thead>\n",
       "  <tbody>\n",
       "    <tr>\n",
       "      <td>R8BteGLOVZ</td>\n",
       "      <td>-0.112104</td>\n",
       "      <td>1.117339</td>\n",
       "      <td>-0.071534</td>\n",
       "      <td>1.351819</td>\n",
       "    </tr>\n",
       "    <tr>\n",
       "      <td>UmEKVInktt</td>\n",
       "      <td>0.027457</td>\n",
       "      <td>-0.892997</td>\n",
       "      <td>1.851378</td>\n",
       "      <td>0.675802</td>\n",
       "    </tr>\n",
       "    <tr>\n",
       "      <td>7sqPaa8Fre</td>\n",
       "      <td>-0.010880</td>\n",
       "      <td>0.843442</td>\n",
       "      <td>0.241624</td>\n",
       "      <td>0.523861</td>\n",
       "    </tr>\n",
       "    <tr>\n",
       "      <td>BfyOeJxhwl</td>\n",
       "      <td>1.575502</td>\n",
       "      <td>-0.946004</td>\n",
       "      <td>-1.020811</td>\n",
       "      <td>0.449073</td>\n",
       "    </tr>\n",
       "    <tr>\n",
       "      <td>cWwLrasFfZ</td>\n",
       "      <td>-0.075440</td>\n",
       "      <td>-1.272992</td>\n",
       "      <td>-0.596083</td>\n",
       "      <td>-0.388922</td>\n",
       "    </tr>\n",
       "    <tr>\n",
       "      <td>pRfPc8gvOx</td>\n",
       "      <td>0.081231</td>\n",
       "      <td>-0.231874</td>\n",
       "      <td>2.208419</td>\n",
       "      <td>0.313708</td>\n",
       "    </tr>\n",
       "    <tr>\n",
       "      <td>LMz8jfdHtb</td>\n",
       "      <td>-1.781569</td>\n",
       "      <td>-0.311941</td>\n",
       "      <td>0.020971</td>\n",
       "      <td>0.306255</td>\n",
       "    </tr>\n",
       "    <tr>\n",
       "      <td>N9fW81V32X</td>\n",
       "      <td>-0.418196</td>\n",
       "      <td>1.463314</td>\n",
       "      <td>0.091205</td>\n",
       "      <td>0.082178</td>\n",
       "    </tr>\n",
       "    <tr>\n",
       "      <td>JSrI3j2TI9</td>\n",
       "      <td>0.442701</td>\n",
       "      <td>0.194060</td>\n",
       "      <td>-0.149141</td>\n",
       "      <td>-0.209370</td>\n",
       "    </tr>\n",
       "    <tr>\n",
       "      <td>eqAn8MidgU</td>\n",
       "      <td>0.106080</td>\n",
       "      <td>-2.789683</td>\n",
       "      <td>1.166176</td>\n",
       "      <td>0.805630</td>\n",
       "    </tr>\n",
       "    <tr>\n",
       "      <td>QpYpZ7EyWw</td>\n",
       "      <td>0.188281</td>\n",
       "      <td>-0.300526</td>\n",
       "      <td>-0.661694</td>\n",
       "      <td>-1.428740</td>\n",
       "    </tr>\n",
       "    <tr>\n",
       "      <td>fi9dtmHbzZ</td>\n",
       "      <td>-1.047812</td>\n",
       "      <td>0.617683</td>\n",
       "      <td>-0.911220</td>\n",
       "      <td>0.864241</td>\n",
       "    </tr>\n",
       "    <tr>\n",
       "      <td>Nwh5GA5FWT</td>\n",
       "      <td>-0.300037</td>\n",
       "      <td>-0.422254</td>\n",
       "      <td>0.073444</td>\n",
       "      <td>-0.993305</td>\n",
       "    </tr>\n",
       "    <tr>\n",
       "      <td>mSC4wabaux</td>\n",
       "      <td>-0.390273</td>\n",
       "      <td>-0.141636</td>\n",
       "      <td>-0.967307</td>\n",
       "      <td>2.220172</td>\n",
       "    </tr>\n",
       "    <tr>\n",
       "      <td>WGi5ulHIJy</td>\n",
       "      <td>1.764846</td>\n",
       "      <td>1.007965</td>\n",
       "      <td>-0.654751</td>\n",
       "      <td>-0.452191</td>\n",
       "    </tr>\n",
       "    <tr>\n",
       "      <td>lqLDV9XQrl</td>\n",
       "      <td>0.131959</td>\n",
       "      <td>1.040935</td>\n",
       "      <td>1.177117</td>\n",
       "      <td>-0.844433</td>\n",
       "    </tr>\n",
       "    <tr>\n",
       "      <td>co27R0PFEr</td>\n",
       "      <td>-0.341314</td>\n",
       "      <td>0.008098</td>\n",
       "      <td>0.244262</td>\n",
       "      <td>0.462130</td>\n",
       "    </tr>\n",
       "    <tr>\n",
       "      <td>FeqCdYlV1Y</td>\n",
       "      <td>-1.495709</td>\n",
       "      <td>0.398603</td>\n",
       "      <td>-0.450797</td>\n",
       "      <td>-0.347862</td>\n",
       "    </tr>\n",
       "    <tr>\n",
       "      <td>zuoseIXX7N</td>\n",
       "      <td>0.456948</td>\n",
       "      <td>-0.022884</td>\n",
       "      <td>-0.001875</td>\n",
       "      <td>0.331737</td>\n",
       "    </tr>\n",
       "    <tr>\n",
       "      <td>OjhRdk2s3J</td>\n",
       "      <td>1.897130</td>\n",
       "      <td>0.645193</td>\n",
       "      <td>0.587324</td>\n",
       "      <td>0.604426</td>\n",
       "    </tr>\n",
       "    <tr>\n",
       "      <td>kW2VS4knJo</td>\n",
       "      <td>0.531571</td>\n",
       "      <td>1.017344</td>\n",
       "      <td>0.085445</td>\n",
       "      <td>0.985596</td>\n",
       "    </tr>\n",
       "    <tr>\n",
       "      <td>oNXh3eNqud</td>\n",
       "      <td>-0.595726</td>\n",
       "      <td>-0.325378</td>\n",
       "      <td>-1.233348</td>\n",
       "      <td>0.201802</td>\n",
       "    </tr>\n",
       "    <tr>\n",
       "      <td>I7waDfTWRE</td>\n",
       "      <td>-0.616521</td>\n",
       "      <td>1.795482</td>\n",
       "      <td>1.550997</td>\n",
       "      <td>-0.843685</td>\n",
       "    </tr>\n",
       "    <tr>\n",
       "      <td>rlTMeqYL5H</td>\n",
       "      <td>1.631759</td>\n",
       "      <td>0.634204</td>\n",
       "      <td>0.006435</td>\n",
       "      <td>-0.831118</td>\n",
       "    </tr>\n",
       "    <tr>\n",
       "      <td>IrJJqCvpw9</td>\n",
       "      <td>-0.804873</td>\n",
       "      <td>0.244048</td>\n",
       "      <td>0.211444</td>\n",
       "      <td>0.014791</td>\n",
       "    </tr>\n",
       "    <tr>\n",
       "      <td>hVrIkaXmLO</td>\n",
       "      <td>1.706666</td>\n",
       "      <td>1.842779</td>\n",
       "      <td>-0.674471</td>\n",
       "      <td>-1.253706</td>\n",
       "    </tr>\n",
       "    <tr>\n",
       "      <td>PcGP7dFnQp</td>\n",
       "      <td>0.274656</td>\n",
       "      <td>2.600325</td>\n",
       "      <td>-0.346573</td>\n",
       "      <td>-0.676077</td>\n",
       "    </tr>\n",
       "    <tr>\n",
       "      <td>Z5ilPxnmO6</td>\n",
       "      <td>1.253542</td>\n",
       "      <td>-0.256198</td>\n",
       "      <td>0.191135</td>\n",
       "      <td>-1.286357</td>\n",
       "    </tr>\n",
       "    <tr>\n",
       "      <td>PQl7cnoKDs</td>\n",
       "      <td>0.183742</td>\n",
       "      <td>-1.007724</td>\n",
       "      <td>0.561507</td>\n",
       "      <td>-2.839806</td>\n",
       "    </tr>\n",
       "    <tr>\n",
       "      <td>uu1NAHTlHf</td>\n",
       "      <td>-0.482469</td>\n",
       "      <td>-2.478658</td>\n",
       "      <td>0.891343</td>\n",
       "      <td>0.811157</td>\n",
       "    </tr>\n",
       "  </tbody>\n",
       "</table>\n",
       "</div>"
      ],
      "text/plain": [
       "                   A         B         C         D\n",
       "R8BteGLOVZ -0.112104  1.117339 -0.071534  1.351819\n",
       "UmEKVInktt  0.027457 -0.892997  1.851378  0.675802\n",
       "7sqPaa8Fre -0.010880  0.843442  0.241624  0.523861\n",
       "BfyOeJxhwl  1.575502 -0.946004 -1.020811  0.449073\n",
       "cWwLrasFfZ -0.075440 -1.272992 -0.596083 -0.388922\n",
       "pRfPc8gvOx  0.081231 -0.231874  2.208419  0.313708\n",
       "LMz8jfdHtb -1.781569 -0.311941  0.020971  0.306255\n",
       "N9fW81V32X -0.418196  1.463314  0.091205  0.082178\n",
       "JSrI3j2TI9  0.442701  0.194060 -0.149141 -0.209370\n",
       "eqAn8MidgU  0.106080 -2.789683  1.166176  0.805630\n",
       "QpYpZ7EyWw  0.188281 -0.300526 -0.661694 -1.428740\n",
       "fi9dtmHbzZ -1.047812  0.617683 -0.911220  0.864241\n",
       "Nwh5GA5FWT -0.300037 -0.422254  0.073444 -0.993305\n",
       "mSC4wabaux -0.390273 -0.141636 -0.967307  2.220172\n",
       "WGi5ulHIJy  1.764846  1.007965 -0.654751 -0.452191\n",
       "lqLDV9XQrl  0.131959  1.040935  1.177117 -0.844433\n",
       "co27R0PFEr -0.341314  0.008098  0.244262  0.462130\n",
       "FeqCdYlV1Y -1.495709  0.398603 -0.450797 -0.347862\n",
       "zuoseIXX7N  0.456948 -0.022884 -0.001875  0.331737\n",
       "OjhRdk2s3J  1.897130  0.645193  0.587324  0.604426\n",
       "kW2VS4knJo  0.531571  1.017344  0.085445  0.985596\n",
       "oNXh3eNqud -0.595726 -0.325378 -1.233348  0.201802\n",
       "I7waDfTWRE -0.616521  1.795482  1.550997 -0.843685\n",
       "rlTMeqYL5H  1.631759  0.634204  0.006435 -0.831118\n",
       "IrJJqCvpw9 -0.804873  0.244048  0.211444  0.014791\n",
       "hVrIkaXmLO  1.706666  1.842779 -0.674471 -1.253706\n",
       "PcGP7dFnQp  0.274656  2.600325 -0.346573 -0.676077\n",
       "Z5ilPxnmO6  1.253542 -0.256198  0.191135 -1.286357\n",
       "PQl7cnoKDs  0.183742 -1.007724  0.561507 -2.839806\n",
       "uu1NAHTlHf -0.482469 -2.478658  0.891343  0.811157"
      ]
     },
     "execution_count": 168,
     "metadata": {},
     "output_type": "execute_result"
    }
   ],
   "source": [
    "# Dataframe that has random values\n",
    "df1 = pd.util.testing.makeDataFrame() \n",
    "print(\"Dataframe that has random values\")\n",
    "df1"
   ]
  },
  {
   "cell_type": "code",
   "execution_count": 169,
   "metadata": {},
   "outputs": [
    {
     "name": "stdout",
     "output_type": "stream",
     "text": [
      "Data frame that has missing values\n"
     ]
    },
    {
     "data": {
      "text/html": [
       "<div>\n",
       "<style scoped>\n",
       "    .dataframe tbody tr th:only-of-type {\n",
       "        vertical-align: middle;\n",
       "    }\n",
       "\n",
       "    .dataframe tbody tr th {\n",
       "        vertical-align: top;\n",
       "    }\n",
       "\n",
       "    .dataframe thead th {\n",
       "        text-align: right;\n",
       "    }\n",
       "</style>\n",
       "<table border=\"1\" class=\"dataframe\">\n",
       "  <thead>\n",
       "    <tr style=\"text-align: right;\">\n",
       "      <th></th>\n",
       "      <th>A</th>\n",
       "      <th>B</th>\n",
       "      <th>C</th>\n",
       "      <th>D</th>\n",
       "    </tr>\n",
       "  </thead>\n",
       "  <tbody>\n",
       "    <tr>\n",
       "      <td>emQ0ySqwvA</td>\n",
       "      <td>0.994563</td>\n",
       "      <td>-0.822872</td>\n",
       "      <td>NaN</td>\n",
       "      <td>1.127775</td>\n",
       "    </tr>\n",
       "    <tr>\n",
       "      <td>LTa8NJ4XWY</td>\n",
       "      <td>1.150131</td>\n",
       "      <td>0.065463</td>\n",
       "      <td>1.217792</td>\n",
       "      <td>0.833532</td>\n",
       "    </tr>\n",
       "    <tr>\n",
       "      <td>p9mTzwKRX2</td>\n",
       "      <td>NaN</td>\n",
       "      <td>-0.869104</td>\n",
       "      <td>NaN</td>\n",
       "      <td>-1.577020</td>\n",
       "    </tr>\n",
       "    <tr>\n",
       "      <td>IIezz8PJip</td>\n",
       "      <td>-1.413930</td>\n",
       "      <td>-0.038139</td>\n",
       "      <td>1.744549</td>\n",
       "      <td>-1.318496</td>\n",
       "    </tr>\n",
       "    <tr>\n",
       "      <td>OoRVhURQl4</td>\n",
       "      <td>0.456024</td>\n",
       "      <td>0.271364</td>\n",
       "      <td>NaN</td>\n",
       "      <td>-0.076489</td>\n",
       "    </tr>\n",
       "    <tr>\n",
       "      <td>rRIb99GSjN</td>\n",
       "      <td>-1.123720</td>\n",
       "      <td>-0.840887</td>\n",
       "      <td>1.233189</td>\n",
       "      <td>0.132502</td>\n",
       "    </tr>\n",
       "    <tr>\n",
       "      <td>uZeh7NaKfV</td>\n",
       "      <td>-1.738551</td>\n",
       "      <td>0.240103</td>\n",
       "      <td>-0.261694</td>\n",
       "      <td>0.082779</td>\n",
       "    </tr>\n",
       "    <tr>\n",
       "      <td>VxgL93s3AQ</td>\n",
       "      <td>-3.215897</td>\n",
       "      <td>0.759477</td>\n",
       "      <td>0.243823</td>\n",
       "      <td>-0.840619</td>\n",
       "    </tr>\n",
       "    <tr>\n",
       "      <td>66XnmqQ7gg</td>\n",
       "      <td>-0.115126</td>\n",
       "      <td>1.531151</td>\n",
       "      <td>1.200619</td>\n",
       "      <td>0.707341</td>\n",
       "    </tr>\n",
       "    <tr>\n",
       "      <td>DnHO6ghCan</td>\n",
       "      <td>-0.436495</td>\n",
       "      <td>-0.151126</td>\n",
       "      <td>-1.876059</td>\n",
       "      <td>NaN</td>\n",
       "    </tr>\n",
       "    <tr>\n",
       "      <td>ouzMEuNHTt</td>\n",
       "      <td>1.389960</td>\n",
       "      <td>-0.929115</td>\n",
       "      <td>-0.025694</td>\n",
       "      <td>0.130473</td>\n",
       "    </tr>\n",
       "    <tr>\n",
       "      <td>2lKtkKObqk</td>\n",
       "      <td>-0.816805</td>\n",
       "      <td>0.668967</td>\n",
       "      <td>0.804286</td>\n",
       "      <td>-0.682876</td>\n",
       "    </tr>\n",
       "    <tr>\n",
       "      <td>RcCWnPmakt</td>\n",
       "      <td>-0.499550</td>\n",
       "      <td>NaN</td>\n",
       "      <td>0.579232</td>\n",
       "      <td>0.342269</td>\n",
       "    </tr>\n",
       "    <tr>\n",
       "      <td>q6DfQCJSi5</td>\n",
       "      <td>-0.817749</td>\n",
       "      <td>-1.320351</td>\n",
       "      <td>NaN</td>\n",
       "      <td>1.894187</td>\n",
       "    </tr>\n",
       "    <tr>\n",
       "      <td>n2XzHtQUaJ</td>\n",
       "      <td>0.612871</td>\n",
       "      <td>-0.530431</td>\n",
       "      <td>-0.991296</td>\n",
       "      <td>0.368994</td>\n",
       "    </tr>\n",
       "    <tr>\n",
       "      <td>poCPpaZtZJ</td>\n",
       "      <td>-0.104327</td>\n",
       "      <td>NaN</td>\n",
       "      <td>2.884354</td>\n",
       "      <td>-0.806356</td>\n",
       "    </tr>\n",
       "    <tr>\n",
       "      <td>2gerRGzHZy</td>\n",
       "      <td>-0.092869</td>\n",
       "      <td>1.255812</td>\n",
       "      <td>0.241583</td>\n",
       "      <td>-0.041427</td>\n",
       "    </tr>\n",
       "    <tr>\n",
       "      <td>2KBF5LzJnk</td>\n",
       "      <td>0.008623</td>\n",
       "      <td>NaN</td>\n",
       "      <td>0.241341</td>\n",
       "      <td>0.183812</td>\n",
       "    </tr>\n",
       "    <tr>\n",
       "      <td>6MWq0CPxSn</td>\n",
       "      <td>-0.586070</td>\n",
       "      <td>-1.808519</td>\n",
       "      <td>-0.643214</td>\n",
       "      <td>0.249403</td>\n",
       "    </tr>\n",
       "    <tr>\n",
       "      <td>0MmNfFaHVn</td>\n",
       "      <td>0.394538</td>\n",
       "      <td>NaN</td>\n",
       "      <td>0.230177</td>\n",
       "      <td>NaN</td>\n",
       "    </tr>\n",
       "    <tr>\n",
       "      <td>uAHtsM4oAH</td>\n",
       "      <td>-0.184121</td>\n",
       "      <td>-0.065679</td>\n",
       "      <td>-0.762615</td>\n",
       "      <td>0.779424</td>\n",
       "    </tr>\n",
       "    <tr>\n",
       "      <td>LUhFobDfau</td>\n",
       "      <td>-0.534721</td>\n",
       "      <td>0.730130</td>\n",
       "      <td>0.055740</td>\n",
       "      <td>1.655856</td>\n",
       "    </tr>\n",
       "    <tr>\n",
       "      <td>pvte8SIUxY</td>\n",
       "      <td>-0.463719</td>\n",
       "      <td>-1.243004</td>\n",
       "      <td>-1.157561</td>\n",
       "      <td>-0.764237</td>\n",
       "    </tr>\n",
       "    <tr>\n",
       "      <td>bZtOZ6nib1</td>\n",
       "      <td>-0.153234</td>\n",
       "      <td>-0.029523</td>\n",
       "      <td>0.578418</td>\n",
       "      <td>NaN</td>\n",
       "    </tr>\n",
       "    <tr>\n",
       "      <td>PGYn6CLhXQ</td>\n",
       "      <td>1.002926</td>\n",
       "      <td>1.923855</td>\n",
       "      <td>0.506885</td>\n",
       "      <td>0.815072</td>\n",
       "    </tr>\n",
       "    <tr>\n",
       "      <td>dCXy9Q4Nr2</td>\n",
       "      <td>-0.178719</td>\n",
       "      <td>-0.762081</td>\n",
       "      <td>0.831068</td>\n",
       "      <td>-0.311135</td>\n",
       "    </tr>\n",
       "    <tr>\n",
       "      <td>xbGZHoxE0x</td>\n",
       "      <td>-0.565988</td>\n",
       "      <td>0.230481</td>\n",
       "      <td>0.764642</td>\n",
       "      <td>-0.227907</td>\n",
       "    </tr>\n",
       "    <tr>\n",
       "      <td>JjS14gm310</td>\n",
       "      <td>1.298441</td>\n",
       "      <td>-0.344485</td>\n",
       "      <td>-0.219506</td>\n",
       "      <td>1.107973</td>\n",
       "    </tr>\n",
       "    <tr>\n",
       "      <td>KeWvpOz0QD</td>\n",
       "      <td>0.047042</td>\n",
       "      <td>1.327427</td>\n",
       "      <td>-1.306960</td>\n",
       "      <td>2.068010</td>\n",
       "    </tr>\n",
       "    <tr>\n",
       "      <td>ipjudxcTxI</td>\n",
       "      <td>-1.092565</td>\n",
       "      <td>0.270962</td>\n",
       "      <td>0.879489</td>\n",
       "      <td>-1.358382</td>\n",
       "    </tr>\n",
       "  </tbody>\n",
       "</table>\n",
       "</div>"
      ],
      "text/plain": [
       "                   A         B         C         D\n",
       "emQ0ySqwvA  0.994563 -0.822872       NaN  1.127775\n",
       "LTa8NJ4XWY  1.150131  0.065463  1.217792  0.833532\n",
       "p9mTzwKRX2       NaN -0.869104       NaN -1.577020\n",
       "IIezz8PJip -1.413930 -0.038139  1.744549 -1.318496\n",
       "OoRVhURQl4  0.456024  0.271364       NaN -0.076489\n",
       "rRIb99GSjN -1.123720 -0.840887  1.233189  0.132502\n",
       "uZeh7NaKfV -1.738551  0.240103 -0.261694  0.082779\n",
       "VxgL93s3AQ -3.215897  0.759477  0.243823 -0.840619\n",
       "66XnmqQ7gg -0.115126  1.531151  1.200619  0.707341\n",
       "DnHO6ghCan -0.436495 -0.151126 -1.876059       NaN\n",
       "ouzMEuNHTt  1.389960 -0.929115 -0.025694  0.130473\n",
       "2lKtkKObqk -0.816805  0.668967  0.804286 -0.682876\n",
       "RcCWnPmakt -0.499550       NaN  0.579232  0.342269\n",
       "q6DfQCJSi5 -0.817749 -1.320351       NaN  1.894187\n",
       "n2XzHtQUaJ  0.612871 -0.530431 -0.991296  0.368994\n",
       "poCPpaZtZJ -0.104327       NaN  2.884354 -0.806356\n",
       "2gerRGzHZy -0.092869  1.255812  0.241583 -0.041427\n",
       "2KBF5LzJnk  0.008623       NaN  0.241341  0.183812\n",
       "6MWq0CPxSn -0.586070 -1.808519 -0.643214  0.249403\n",
       "0MmNfFaHVn  0.394538       NaN  0.230177       NaN\n",
       "uAHtsM4oAH -0.184121 -0.065679 -0.762615  0.779424\n",
       "LUhFobDfau -0.534721  0.730130  0.055740  1.655856\n",
       "pvte8SIUxY -0.463719 -1.243004 -1.157561 -0.764237\n",
       "bZtOZ6nib1 -0.153234 -0.029523  0.578418       NaN\n",
       "PGYn6CLhXQ  1.002926  1.923855  0.506885  0.815072\n",
       "dCXy9Q4Nr2 -0.178719 -0.762081  0.831068 -0.311135\n",
       "xbGZHoxE0x -0.565988  0.230481  0.764642 -0.227907\n",
       "JjS14gm310  1.298441 -0.344485 -0.219506  1.107973\n",
       "KeWvpOz0QD  0.047042  1.327427 -1.306960  2.068010\n",
       "ipjudxcTxI -1.092565  0.270962  0.879489 -1.358382"
      ]
     },
     "execution_count": 169,
     "metadata": {},
     "output_type": "execute_result"
    }
   ],
   "source": [
    "# Data frame that has missing values\n",
    "df2 = pd.util.testing.makeMissingDataframe() \n",
    "print(\"Data frame that has missing values\")\n",
    "df2"
   ]
  },
  {
   "cell_type": "code",
   "execution_count": 170,
   "metadata": {},
   "outputs": [
    {
     "name": "stdout",
     "output_type": "stream",
     "text": [
      "Data frame that has mixed values\n"
     ]
    },
    {
     "data": {
      "text/html": [
       "<div>\n",
       "<style scoped>\n",
       "    .dataframe tbody tr th:only-of-type {\n",
       "        vertical-align: middle;\n",
       "    }\n",
       "\n",
       "    .dataframe tbody tr th {\n",
       "        vertical-align: top;\n",
       "    }\n",
       "\n",
       "    .dataframe thead th {\n",
       "        text-align: right;\n",
       "    }\n",
       "</style>\n",
       "<table border=\"1\" class=\"dataframe\">\n",
       "  <thead>\n",
       "    <tr style=\"text-align: right;\">\n",
       "      <th></th>\n",
       "      <th>A</th>\n",
       "      <th>B</th>\n",
       "      <th>C</th>\n",
       "      <th>D</th>\n",
       "    </tr>\n",
       "  </thead>\n",
       "  <tbody>\n",
       "    <tr>\n",
       "      <td>0</td>\n",
       "      <td>0.0</td>\n",
       "      <td>0.0</td>\n",
       "      <td>foo1</td>\n",
       "      <td>2009-01-01</td>\n",
       "    </tr>\n",
       "    <tr>\n",
       "      <td>1</td>\n",
       "      <td>1.0</td>\n",
       "      <td>1.0</td>\n",
       "      <td>foo2</td>\n",
       "      <td>2009-01-02</td>\n",
       "    </tr>\n",
       "    <tr>\n",
       "      <td>2</td>\n",
       "      <td>2.0</td>\n",
       "      <td>0.0</td>\n",
       "      <td>foo3</td>\n",
       "      <td>2009-01-05</td>\n",
       "    </tr>\n",
       "    <tr>\n",
       "      <td>3</td>\n",
       "      <td>3.0</td>\n",
       "      <td>1.0</td>\n",
       "      <td>foo4</td>\n",
       "      <td>2009-01-06</td>\n",
       "    </tr>\n",
       "    <tr>\n",
       "      <td>4</td>\n",
       "      <td>4.0</td>\n",
       "      <td>0.0</td>\n",
       "      <td>foo5</td>\n",
       "      <td>2009-01-07</td>\n",
       "    </tr>\n",
       "  </tbody>\n",
       "</table>\n",
       "</div>"
      ],
      "text/plain": [
       "     A    B     C          D\n",
       "0  0.0  0.0  foo1 2009-01-01\n",
       "1  1.0  1.0  foo2 2009-01-02\n",
       "2  2.0  0.0  foo3 2009-01-05\n",
       "3  3.0  1.0  foo4 2009-01-06\n",
       "4  4.0  0.0  foo5 2009-01-07"
      ]
     },
     "execution_count": 170,
     "metadata": {},
     "output_type": "execute_result"
    }
   ],
   "source": [
    "# Data frame that has mixed values\n",
    "df3 = pd.util.testing.makeMixedDataFrame() \n",
    "print(\"Data frame that has mixed values\")\n",
    "df3"
   ]
  },
  {
   "cell_type": "code",
   "execution_count": 171,
   "metadata": {},
   "outputs": [
    {
     "name": "stdout",
     "output_type": "stream",
     "text": [
      "Data frame that has datetime values\n"
     ]
    },
    {
     "data": {
      "text/html": [
       "<div>\n",
       "<style scoped>\n",
       "    .dataframe tbody tr th:only-of-type {\n",
       "        vertical-align: middle;\n",
       "    }\n",
       "\n",
       "    .dataframe tbody tr th {\n",
       "        vertical-align: top;\n",
       "    }\n",
       "\n",
       "    .dataframe thead th {\n",
       "        text-align: right;\n",
       "    }\n",
       "</style>\n",
       "<table border=\"1\" class=\"dataframe\">\n",
       "  <thead>\n",
       "    <tr style=\"text-align: right;\">\n",
       "      <th></th>\n",
       "      <th>A</th>\n",
       "      <th>B</th>\n",
       "      <th>C</th>\n",
       "      <th>D</th>\n",
       "    </tr>\n",
       "  </thead>\n",
       "  <tbody>\n",
       "    <tr>\n",
       "      <td>2000-01-03</td>\n",
       "      <td>0.397952</td>\n",
       "      <td>-0.124362</td>\n",
       "      <td>-0.220972</td>\n",
       "      <td>0.981184</td>\n",
       "    </tr>\n",
       "    <tr>\n",
       "      <td>2000-01-04</td>\n",
       "      <td>-0.680150</td>\n",
       "      <td>0.494664</td>\n",
       "      <td>1.912526</td>\n",
       "      <td>-3.649405</td>\n",
       "    </tr>\n",
       "    <tr>\n",
       "      <td>2000-01-05</td>\n",
       "      <td>1.089529</td>\n",
       "      <td>0.152687</td>\n",
       "      <td>1.704371</td>\n",
       "      <td>-1.965260</td>\n",
       "    </tr>\n",
       "    <tr>\n",
       "      <td>2000-01-06</td>\n",
       "      <td>-1.880435</td>\n",
       "      <td>0.646080</td>\n",
       "      <td>1.434854</td>\n",
       "      <td>-0.173671</td>\n",
       "    </tr>\n",
       "    <tr>\n",
       "      <td>2000-01-07</td>\n",
       "      <td>-0.284518</td>\n",
       "      <td>-0.994950</td>\n",
       "      <td>0.372963</td>\n",
       "      <td>0.511139</td>\n",
       "    </tr>\n",
       "    <tr>\n",
       "      <td>2000-01-10</td>\n",
       "      <td>-0.354009</td>\n",
       "      <td>1.173585</td>\n",
       "      <td>1.663184</td>\n",
       "      <td>-1.922660</td>\n",
       "    </tr>\n",
       "    <tr>\n",
       "      <td>2000-01-11</td>\n",
       "      <td>0.198596</td>\n",
       "      <td>-1.157538</td>\n",
       "      <td>1.704684</td>\n",
       "      <td>0.027784</td>\n",
       "    </tr>\n",
       "    <tr>\n",
       "      <td>2000-01-12</td>\n",
       "      <td>-0.871570</td>\n",
       "      <td>0.340994</td>\n",
       "      <td>0.820906</td>\n",
       "      <td>0.037350</td>\n",
       "    </tr>\n",
       "    <tr>\n",
       "      <td>2000-01-13</td>\n",
       "      <td>0.684256</td>\n",
       "      <td>1.145807</td>\n",
       "      <td>0.462963</td>\n",
       "      <td>-0.909962</td>\n",
       "    </tr>\n",
       "    <tr>\n",
       "      <td>2000-01-14</td>\n",
       "      <td>-0.522133</td>\n",
       "      <td>0.418722</td>\n",
       "      <td>-0.687101</td>\n",
       "      <td>-0.497384</td>\n",
       "    </tr>\n",
       "    <tr>\n",
       "      <td>2000-01-17</td>\n",
       "      <td>-1.634710</td>\n",
       "      <td>-0.018192</td>\n",
       "      <td>0.229171</td>\n",
       "      <td>-0.947970</td>\n",
       "    </tr>\n",
       "    <tr>\n",
       "      <td>2000-01-18</td>\n",
       "      <td>-0.946768</td>\n",
       "      <td>0.972414</td>\n",
       "      <td>-2.523683</td>\n",
       "      <td>0.310157</td>\n",
       "    </tr>\n",
       "    <tr>\n",
       "      <td>2000-01-19</td>\n",
       "      <td>-0.309333</td>\n",
       "      <td>-0.460759</td>\n",
       "      <td>-0.427625</td>\n",
       "      <td>0.312179</td>\n",
       "    </tr>\n",
       "    <tr>\n",
       "      <td>2000-01-20</td>\n",
       "      <td>1.656831</td>\n",
       "      <td>0.604171</td>\n",
       "      <td>-1.201813</td>\n",
       "      <td>0.107702</td>\n",
       "    </tr>\n",
       "    <tr>\n",
       "      <td>2000-01-21</td>\n",
       "      <td>-0.039534</td>\n",
       "      <td>-0.943974</td>\n",
       "      <td>-2.397215</td>\n",
       "      <td>2.034021</td>\n",
       "    </tr>\n",
       "    <tr>\n",
       "      <td>2000-01-24</td>\n",
       "      <td>0.532045</td>\n",
       "      <td>0.429065</td>\n",
       "      <td>-0.278557</td>\n",
       "      <td>-2.538529</td>\n",
       "    </tr>\n",
       "    <tr>\n",
       "      <td>2000-01-25</td>\n",
       "      <td>-1.188660</td>\n",
       "      <td>1.062097</td>\n",
       "      <td>0.223727</td>\n",
       "      <td>-0.267771</td>\n",
       "    </tr>\n",
       "    <tr>\n",
       "      <td>2000-01-26</td>\n",
       "      <td>-1.850289</td>\n",
       "      <td>1.863680</td>\n",
       "      <td>-0.248225</td>\n",
       "      <td>1.150904</td>\n",
       "    </tr>\n",
       "    <tr>\n",
       "      <td>2000-01-27</td>\n",
       "      <td>0.240762</td>\n",
       "      <td>-0.444582</td>\n",
       "      <td>2.721163</td>\n",
       "      <td>1.284513</td>\n",
       "    </tr>\n",
       "    <tr>\n",
       "      <td>2000-01-28</td>\n",
       "      <td>1.073281</td>\n",
       "      <td>-0.356900</td>\n",
       "      <td>0.652670</td>\n",
       "      <td>0.781690</td>\n",
       "    </tr>\n",
       "    <tr>\n",
       "      <td>2000-01-31</td>\n",
       "      <td>0.927994</td>\n",
       "      <td>-0.058718</td>\n",
       "      <td>0.108125</td>\n",
       "      <td>0.912815</td>\n",
       "    </tr>\n",
       "    <tr>\n",
       "      <td>2000-02-01</td>\n",
       "      <td>0.013984</td>\n",
       "      <td>1.768965</td>\n",
       "      <td>-1.303005</td>\n",
       "      <td>-1.911964</td>\n",
       "    </tr>\n",
       "    <tr>\n",
       "      <td>2000-02-02</td>\n",
       "      <td>-1.053884</td>\n",
       "      <td>0.146100</td>\n",
       "      <td>-0.069991</td>\n",
       "      <td>-1.144648</td>\n",
       "    </tr>\n",
       "    <tr>\n",
       "      <td>2000-02-03</td>\n",
       "      <td>-0.179670</td>\n",
       "      <td>-1.333475</td>\n",
       "      <td>-0.762314</td>\n",
       "      <td>-1.128746</td>\n",
       "    </tr>\n",
       "    <tr>\n",
       "      <td>2000-02-04</td>\n",
       "      <td>-1.115529</td>\n",
       "      <td>1.273862</td>\n",
       "      <td>0.006639</td>\n",
       "      <td>0.318251</td>\n",
       "    </tr>\n",
       "    <tr>\n",
       "      <td>2000-02-07</td>\n",
       "      <td>-2.590549</td>\n",
       "      <td>-1.250627</td>\n",
       "      <td>0.849171</td>\n",
       "      <td>0.029578</td>\n",
       "    </tr>\n",
       "    <tr>\n",
       "      <td>2000-02-08</td>\n",
       "      <td>2.593562</td>\n",
       "      <td>-2.036252</td>\n",
       "      <td>0.847999</td>\n",
       "      <td>1.208795</td>\n",
       "    </tr>\n",
       "    <tr>\n",
       "      <td>2000-02-09</td>\n",
       "      <td>0.660932</td>\n",
       "      <td>1.378822</td>\n",
       "      <td>1.209160</td>\n",
       "      <td>-0.008330</td>\n",
       "    </tr>\n",
       "    <tr>\n",
       "      <td>2000-02-10</td>\n",
       "      <td>-1.077783</td>\n",
       "      <td>-0.706587</td>\n",
       "      <td>-0.448207</td>\n",
       "      <td>0.503774</td>\n",
       "    </tr>\n",
       "    <tr>\n",
       "      <td>2000-02-11</td>\n",
       "      <td>0.126030</td>\n",
       "      <td>-0.029715</td>\n",
       "      <td>1.290918</td>\n",
       "      <td>-0.185316</td>\n",
       "    </tr>\n",
       "  </tbody>\n",
       "</table>\n",
       "</div>"
      ],
      "text/plain": [
       "                   A         B         C         D\n",
       "2000-01-03  0.397952 -0.124362 -0.220972  0.981184\n",
       "2000-01-04 -0.680150  0.494664  1.912526 -3.649405\n",
       "2000-01-05  1.089529  0.152687  1.704371 -1.965260\n",
       "2000-01-06 -1.880435  0.646080  1.434854 -0.173671\n",
       "2000-01-07 -0.284518 -0.994950  0.372963  0.511139\n",
       "2000-01-10 -0.354009  1.173585  1.663184 -1.922660\n",
       "2000-01-11  0.198596 -1.157538  1.704684  0.027784\n",
       "2000-01-12 -0.871570  0.340994  0.820906  0.037350\n",
       "2000-01-13  0.684256  1.145807  0.462963 -0.909962\n",
       "2000-01-14 -0.522133  0.418722 -0.687101 -0.497384\n",
       "2000-01-17 -1.634710 -0.018192  0.229171 -0.947970\n",
       "2000-01-18 -0.946768  0.972414 -2.523683  0.310157\n",
       "2000-01-19 -0.309333 -0.460759 -0.427625  0.312179\n",
       "2000-01-20  1.656831  0.604171 -1.201813  0.107702\n",
       "2000-01-21 -0.039534 -0.943974 -2.397215  2.034021\n",
       "2000-01-24  0.532045  0.429065 -0.278557 -2.538529\n",
       "2000-01-25 -1.188660  1.062097  0.223727 -0.267771\n",
       "2000-01-26 -1.850289  1.863680 -0.248225  1.150904\n",
       "2000-01-27  0.240762 -0.444582  2.721163  1.284513\n",
       "2000-01-28  1.073281 -0.356900  0.652670  0.781690\n",
       "2000-01-31  0.927994 -0.058718  0.108125  0.912815\n",
       "2000-02-01  0.013984  1.768965 -1.303005 -1.911964\n",
       "2000-02-02 -1.053884  0.146100 -0.069991 -1.144648\n",
       "2000-02-03 -0.179670 -1.333475 -0.762314 -1.128746\n",
       "2000-02-04 -1.115529  1.273862  0.006639  0.318251\n",
       "2000-02-07 -2.590549 -1.250627  0.849171  0.029578\n",
       "2000-02-08  2.593562 -2.036252  0.847999  1.208795\n",
       "2000-02-09  0.660932  1.378822  1.209160 -0.008330\n",
       "2000-02-10 -1.077783 -0.706587 -0.448207  0.503774\n",
       "2000-02-11  0.126030 -0.029715  1.290918 -0.185316"
      ]
     },
     "execution_count": 171,
     "metadata": {},
     "output_type": "execute_result"
    }
   ],
   "source": [
    "# Data frame that has datetime values\n",
    "df4 = pd.util.testing.makeTimeDataFrame()\n",
    "print(\"Data frame that has datetime values\")\n",
    "df4\n"
   ]
  },
  {
   "cell_type": "markdown",
   "metadata": {},
   "source": [
    "## 3.14 Finding memory usage of a dataframe and its column"
   ]
  },
  {
   "cell_type": "code",
   "execution_count": 154,
   "metadata": {},
   "outputs": [
    {
     "name": "stdout",
     "output_type": "stream",
     "text": [
      "<class 'pandas.core.frame.DataFrame'>\n",
      "DatetimeIndex: 7 entries, 2000-01-03 to 2000-01-11\n",
      "Freq: B\n",
      "Data columns (total 2 columns):\n",
      "C1    6 non-null float64\n",
      "C2    6 non-null float64\n",
      "dtypes: float64(2)\n",
      "memory usage: 168.0 bytes\n"
     ]
    }
   ],
   "source": [
    "df.info(memory_usage = \"deep\")"
   ]
  },
  {
   "cell_type": "markdown",
   "metadata": {},
   "source": [
    " #### Memory usage of all the columns"
   ]
  },
  {
   "cell_type": "code",
   "execution_count": 155,
   "metadata": {},
   "outputs": [
    {
     "data": {
      "text/plain": [
       "Index    56\n",
       "C1       56\n",
       "C2       56\n",
       "dtype: int64"
      ]
     },
     "execution_count": 155,
     "metadata": {},
     "output_type": "execute_result"
    }
   ],
   "source": [
    "df.memory_usage(deep = True)"
   ]
  },
  {
   "cell_type": "markdown",
   "metadata": {},
   "source": [
    "## 3.15 Split a df into 2 random subsets"
   ]
  },
  {
   "cell_type": "code",
   "execution_count": 172,
   "metadata": {},
   "outputs": [
    {
     "data": {
      "text/plain": [
       "(15, 6)"
      ]
     },
     "execution_count": 172,
     "metadata": {},
     "output_type": "execute_result"
    }
   ],
   "source": [
    "df = generateDF()\n",
    "df_1 = df.sample(frac = 0.85)\n",
    "df_2 = df.drop(df_1.index) # It works only if index of df is unique\n",
    "\n",
    "df.shape\n",
    "\n"
   ]
  },
  {
   "cell_type": "code",
   "execution_count": 173,
   "metadata": {},
   "outputs": [
    {
     "data": {
      "text/plain": [
       "(13, 6)"
      ]
     },
     "execution_count": 173,
     "metadata": {},
     "output_type": "execute_result"
    }
   ],
   "source": [
    "df_1.shape"
   ]
  },
  {
   "cell_type": "code",
   "execution_count": 174,
   "metadata": {},
   "outputs": [
    {
     "data": {
      "text/plain": [
       "(2, 6)"
      ]
     },
     "execution_count": 174,
     "metadata": {},
     "output_type": "execute_result"
    }
   ],
   "source": [
    "df_2.shape"
   ]
  },
  {
   "cell_type": "markdown",
   "metadata": {},
   "source": [
    "## 3.16 Reverse the column order, row order and can reset index of the Dataframe"
   ]
  },
  {
   "cell_type": "code",
   "execution_count": 182,
   "metadata": {},
   "outputs": [],
   "source": [
    "gen_df = generateDF()[:6]"
   ]
  },
  {
   "cell_type": "code",
   "execution_count": 183,
   "metadata": {},
   "outputs": [
    {
     "name": "stdout",
     "output_type": "stream",
     "text": [
      "Reverse column order\n"
     ]
    },
    {
     "data": {
      "text/html": [
       "<div>\n",
       "<style scoped>\n",
       "    .dataframe tbody tr th:only-of-type {\n",
       "        vertical-align: middle;\n",
       "    }\n",
       "\n",
       "    .dataframe tbody tr th {\n",
       "        vertical-align: top;\n",
       "    }\n",
       "\n",
       "    .dataframe thead th {\n",
       "        text-align: right;\n",
       "    }\n",
       "</style>\n",
       "<table border=\"1\" class=\"dataframe\">\n",
       "  <thead>\n",
       "    <tr style=\"text-align: right;\">\n",
       "      <th></th>\n",
       "      <th>U</th>\n",
       "      <th>T</th>\n",
       "      <th>S</th>\n",
       "      <th>R</th>\n",
       "      <th>Q</th>\n",
       "      <th>P</th>\n",
       "    </tr>\n",
       "  </thead>\n",
       "  <tbody>\n",
       "    <tr>\n",
       "      <td>0</td>\n",
       "      <td>6</td>\n",
       "      <td>5</td>\n",
       "      <td>19</td>\n",
       "      <td>11</td>\n",
       "      <td>15</td>\n",
       "      <td>5</td>\n",
       "    </tr>\n",
       "    <tr>\n",
       "      <td>1</td>\n",
       "      <td>11</td>\n",
       "      <td>15</td>\n",
       "      <td>12</td>\n",
       "      <td>17</td>\n",
       "      <td>6</td>\n",
       "      <td>16</td>\n",
       "    </tr>\n",
       "    <tr>\n",
       "      <td>2</td>\n",
       "      <td>14</td>\n",
       "      <td>4</td>\n",
       "      <td>19</td>\n",
       "      <td>9</td>\n",
       "      <td>5</td>\n",
       "      <td>9</td>\n",
       "    </tr>\n",
       "    <tr>\n",
       "      <td>3</td>\n",
       "      <td>17</td>\n",
       "      <td>13</td>\n",
       "      <td>3</td>\n",
       "      <td>1</td>\n",
       "      <td>6</td>\n",
       "      <td>13</td>\n",
       "    </tr>\n",
       "    <tr>\n",
       "      <td>4</td>\n",
       "      <td>10</td>\n",
       "      <td>5</td>\n",
       "      <td>4</td>\n",
       "      <td>15</td>\n",
       "      <td>18</td>\n",
       "      <td>14</td>\n",
       "    </tr>\n",
       "    <tr>\n",
       "      <td>5</td>\n",
       "      <td>8</td>\n",
       "      <td>18</td>\n",
       "      <td>17</td>\n",
       "      <td>19</td>\n",
       "      <td>13</td>\n",
       "      <td>15</td>\n",
       "    </tr>\n",
       "  </tbody>\n",
       "</table>\n",
       "</div>"
      ],
      "text/plain": [
       "    U   T   S   R   Q   P\n",
       "0   6   5  19  11  15   5\n",
       "1  11  15  12  17   6  16\n",
       "2  14   4  19   9   5   9\n",
       "3  17  13   3   1   6  13\n",
       "4  10   5   4  15  18  14\n",
       "5   8  18  17  19  13  15"
      ]
     },
     "execution_count": 183,
     "metadata": {},
     "output_type": "execute_result"
    }
   ],
   "source": [
    "print(\"Reverse column order\")\n",
    "gen_df.loc[:, ::-1]"
   ]
  },
  {
   "cell_type": "code",
   "execution_count": 184,
   "metadata": {},
   "outputs": [
    {
     "name": "stdout",
     "output_type": "stream",
     "text": [
      "Column order is reversed and index is reset\n"
     ]
    },
    {
     "data": {
      "text/html": [
       "<div>\n",
       "<style scoped>\n",
       "    .dataframe tbody tr th:only-of-type {\n",
       "        vertical-align: middle;\n",
       "    }\n",
       "\n",
       "    .dataframe tbody tr th {\n",
       "        vertical-align: top;\n",
       "    }\n",
       "\n",
       "    .dataframe thead th {\n",
       "        text-align: right;\n",
       "    }\n",
       "</style>\n",
       "<table border=\"1\" class=\"dataframe\">\n",
       "  <thead>\n",
       "    <tr style=\"text-align: right;\">\n",
       "      <th></th>\n",
       "      <th>U</th>\n",
       "      <th>T</th>\n",
       "      <th>S</th>\n",
       "      <th>R</th>\n",
       "      <th>Q</th>\n",
       "      <th>P</th>\n",
       "    </tr>\n",
       "  </thead>\n",
       "  <tbody>\n",
       "    <tr>\n",
       "      <td>0</td>\n",
       "      <td>6</td>\n",
       "      <td>5</td>\n",
       "      <td>19</td>\n",
       "      <td>11</td>\n",
       "      <td>15</td>\n",
       "      <td>5</td>\n",
       "    </tr>\n",
       "    <tr>\n",
       "      <td>1</td>\n",
       "      <td>11</td>\n",
       "      <td>15</td>\n",
       "      <td>12</td>\n",
       "      <td>17</td>\n",
       "      <td>6</td>\n",
       "      <td>16</td>\n",
       "    </tr>\n",
       "    <tr>\n",
       "      <td>2</td>\n",
       "      <td>14</td>\n",
       "      <td>4</td>\n",
       "      <td>19</td>\n",
       "      <td>9</td>\n",
       "      <td>5</td>\n",
       "      <td>9</td>\n",
       "    </tr>\n",
       "    <tr>\n",
       "      <td>3</td>\n",
       "      <td>17</td>\n",
       "      <td>13</td>\n",
       "      <td>3</td>\n",
       "      <td>1</td>\n",
       "      <td>6</td>\n",
       "      <td>13</td>\n",
       "    </tr>\n",
       "    <tr>\n",
       "      <td>4</td>\n",
       "      <td>10</td>\n",
       "      <td>5</td>\n",
       "      <td>4</td>\n",
       "      <td>15</td>\n",
       "      <td>18</td>\n",
       "      <td>14</td>\n",
       "    </tr>\n",
       "    <tr>\n",
       "      <td>5</td>\n",
       "      <td>8</td>\n",
       "      <td>18</td>\n",
       "      <td>17</td>\n",
       "      <td>19</td>\n",
       "      <td>13</td>\n",
       "      <td>15</td>\n",
       "    </tr>\n",
       "  </tbody>\n",
       "</table>\n",
       "</div>"
      ],
      "text/plain": [
       "    U   T   S   R   Q   P\n",
       "0   6   5  19  11  15   5\n",
       "1  11  15  12  17   6  16\n",
       "2  14   4  19   9   5   9\n",
       "3  17  13   3   1   6  13\n",
       "4  10   5   4  15  18  14\n",
       "5   8  18  17  19  13  15"
      ]
     },
     "execution_count": 184,
     "metadata": {},
     "output_type": "execute_result"
    }
   ],
   "source": [
    "print(\"Column order is reversed and index is reset\")\n",
    "gen_df.loc[:, ::-1].reset_index(drop = True)"
   ]
  },
  {
   "cell_type": "code",
   "execution_count": 185,
   "metadata": {},
   "outputs": [
    {
     "name": "stdout",
     "output_type": "stream",
     "text": [
      "Row order is reversed\n"
     ]
    },
    {
     "data": {
      "text/html": [
       "<div>\n",
       "<style scoped>\n",
       "    .dataframe tbody tr th:only-of-type {\n",
       "        vertical-align: middle;\n",
       "    }\n",
       "\n",
       "    .dataframe tbody tr th {\n",
       "        vertical-align: top;\n",
       "    }\n",
       "\n",
       "    .dataframe thead th {\n",
       "        text-align: right;\n",
       "    }\n",
       "</style>\n",
       "<table border=\"1\" class=\"dataframe\">\n",
       "  <thead>\n",
       "    <tr style=\"text-align: right;\">\n",
       "      <th></th>\n",
       "      <th>P</th>\n",
       "      <th>Q</th>\n",
       "      <th>R</th>\n",
       "      <th>S</th>\n",
       "      <th>T</th>\n",
       "      <th>U</th>\n",
       "    </tr>\n",
       "  </thead>\n",
       "  <tbody>\n",
       "    <tr>\n",
       "      <td>5</td>\n",
       "      <td>15</td>\n",
       "      <td>13</td>\n",
       "      <td>19</td>\n",
       "      <td>17</td>\n",
       "      <td>18</td>\n",
       "      <td>8</td>\n",
       "    </tr>\n",
       "    <tr>\n",
       "      <td>4</td>\n",
       "      <td>14</td>\n",
       "      <td>18</td>\n",
       "      <td>15</td>\n",
       "      <td>4</td>\n",
       "      <td>5</td>\n",
       "      <td>10</td>\n",
       "    </tr>\n",
       "    <tr>\n",
       "      <td>3</td>\n",
       "      <td>13</td>\n",
       "      <td>6</td>\n",
       "      <td>1</td>\n",
       "      <td>3</td>\n",
       "      <td>13</td>\n",
       "      <td>17</td>\n",
       "    </tr>\n",
       "    <tr>\n",
       "      <td>2</td>\n",
       "      <td>9</td>\n",
       "      <td>5</td>\n",
       "      <td>9</td>\n",
       "      <td>19</td>\n",
       "      <td>4</td>\n",
       "      <td>14</td>\n",
       "    </tr>\n",
       "    <tr>\n",
       "      <td>1</td>\n",
       "      <td>16</td>\n",
       "      <td>6</td>\n",
       "      <td>17</td>\n",
       "      <td>12</td>\n",
       "      <td>15</td>\n",
       "      <td>11</td>\n",
       "    </tr>\n",
       "    <tr>\n",
       "      <td>0</td>\n",
       "      <td>5</td>\n",
       "      <td>15</td>\n",
       "      <td>11</td>\n",
       "      <td>19</td>\n",
       "      <td>5</td>\n",
       "      <td>6</td>\n",
       "    </tr>\n",
       "  </tbody>\n",
       "</table>\n",
       "</div>"
      ],
      "text/plain": [
       "    P   Q   R   S   T   U\n",
       "5  15  13  19  17  18   8\n",
       "4  14  18  15   4   5  10\n",
       "3  13   6   1   3  13  17\n",
       "2   9   5   9  19   4  14\n",
       "1  16   6  17  12  15  11\n",
       "0   5  15  11  19   5   6"
      ]
     },
     "execution_count": 185,
     "metadata": {},
     "output_type": "execute_result"
    }
   ],
   "source": [
    "print(\"Row order is reversed\")\n",
    "gen_df.loc[::-1]"
   ]
  },
  {
   "cell_type": "markdown",
   "metadata": {},
   "source": [
    "## Summary"
   ]
  },
  {
   "cell_type": "markdown",
   "metadata": {},
   "source": [
    "This spotlight demonstrates the features of Pandas. I learnt a lot by implementing the features such as Cleaning up data, Handling of data, Alignment and indexing, Merging and joining of datasets, Handling missing data, Optimized performance, Grouping, Mask data, Perform mathematical operations on the data, etc. Some of them are implemented on the standard dataset and others on custom datasets.  "
   ]
  },
  {
   "cell_type": "markdown",
   "metadata": {},
   "source": [
    "## References"
   ]
  },
  {
   "cell_type": "markdown",
   "metadata": {},
   "source": [
    "1)<a href = \"https://pandas.pydata.org/docs/user_guide/index.html\">Pandas pydata Website</a> \n",
    "2)<a href = \"https://www.geeksforgeeks.org/python-data-analysis-using-pandas/\">Data Analysis Geeks for Geeks</a> \n",
    "3)<a href = \"https://www.dataschool.io/\">Data Science with Python</a> \n",
    "4)<a href = \"https://www.kaggle.com/carolzhangdc/imdb-5000-movie-dataset/kernels\">Movie Dataset</a>\n",
    "5)<a href = \"https://towardsdatascience.com/data-handling-using-pandas-cleaning-and-processing-3aa657dc9418\"> Medium article: Saptashwa B </a>\n"
   ]
  }
 ],
 "metadata": {
  "anaconda-cloud": {},
  "kernelspec": {
   "display_name": "Python 3",
   "language": "python",
   "name": "python3"
  },
  "language_info": {
   "codemirror_mode": {
    "name": "ipython",
    "version": 3
   },
   "file_extension": ".py",
   "mimetype": "text/x-python",
   "name": "python",
   "nbconvert_exporter": "python",
   "pygments_lexer": "ipython3",
   "version": "3.7.4"
  }
 },
 "nbformat": 4,
 "nbformat_minor": 1
}
