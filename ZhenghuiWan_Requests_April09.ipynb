{
 "cells": [
  {
   "cell_type": "markdown",
   "metadata": {},
   "source": [
    "# Requests Introduction and it's Web Data Search Application"
   ]
  },
  {
   "cell_type": "markdown",
   "metadata": {},
   "source": [
    "The Requests library is vital to add to your data science toolkit. It makes interacting with Web services seamless, and it overcomes most of the difficulties in urllib/urllib2. It’s a simple yet powerful HTTP library, where you can use it to access web pages and make some interactions.  \n",
    "\n",
    "we will use the following two html page as example.  \n",
    "- https://api.github.com\n",
    "- https://assets.digitalocean.com/articles/eng_python/beautiful-soup/mockturtle.html"
   ]
  },
  {
   "cell_type": "markdown",
   "metadata": {},
   "source": [
    "## Part 1: Requests Introduction"
   ]
  },
  {
   "cell_type": "markdown",
   "metadata": {},
   "source": [
    "When we make a request, the response from the API comes with a response code which tells us whether our request was successful. Response codes are important because they immediately tell us if something went wrong.  \n",
    "\n",
    "In the later content, we will learn how to:\n",
    "\n",
    "- Make requests using the most common HTTP methods  \n",
    "- Customize your requests’ headers and data, using the query string and message body  \n",
    "- Inspect data from your requests and responses  \n",
    "- Make authenticated requests  \n",
    "- Configure your requests to help prevent your application from backing up or slowing down"
   ]
  },
  {
   "cell_type": "markdown",
   "metadata": {},
   "source": [
    "Firstly install requests library using the following command."
   ]
  },
  {
   "cell_type": "raw",
   "metadata": {},
   "source": [
    "$ pip install requests"
   ]
  },
  {
   "cell_type": "markdown",
   "metadata": {},
   "source": [
    "Once install requests in terminal, you can use in your application. Import requests like this:"
   ]
  },
  {
   "cell_type": "code",
   "execution_count": 1,
   "metadata": {},
   "outputs": [],
   "source": [
    "import requests"
   ]
  },
  {
   "cell_type": "markdown",
   "metadata": {},
   "source": [
    "### 1.1 Get Requests"
   ]
  },
  {
   "cell_type": "markdown",
   "metadata": {},
   "source": [
    "HTTP methods such as GET and POST, determine which action you’re trying to perform when making an HTTP request.  \n",
    "One of the most common HTTP methods is GET. The GET method indicates that you’re trying to get or retrieve data from a specified resource. To make a GET request, invoke requests.get()."
   ]
  },
  {
   "cell_type": "code",
   "execution_count": 3,
   "metadata": {},
   "outputs": [],
   "source": [
    "response = requests.get('https://api.github.com')\n",
    "contents = response.content"
   ]
  },
  {
   "cell_type": "markdown",
   "metadata": {},
   "source": [
    "In this example, we have captured the return value of get(), which is an instance of Response, and stored it in a variable called page. The content of the website will be stored in a variable named contents.  \n",
    "\n",
    "There is a status code informs you the status of the request. For example, 200 ok status means the requests was successful. whereas a 404 NOT FOUND status means the resource you were looking for was not found.  \n",
    "\n",
    "By accessing .status_code, you can see the status code that the server returned:"
   ]
  },
  {
   "cell_type": "code",
   "execution_count": 4,
   "metadata": {},
   "outputs": [
    {
     "data": {
      "text/plain": [
       "200"
      ]
     },
     "execution_count": 4,
     "metadata": {},
     "output_type": "execute_result"
    }
   ],
   "source": [
    "page.status_code"
   ]
  },
  {
   "cell_type": "markdown",
   "metadata": {},
   "source": [
    "Here are some codes that are relevant to GET requests:  \n",
    "\n",
    "- 200: Everything went okay, and the result has been returned (if any).  \n",
    "- 301: The server is redirecting you to a different endpoint. This can happen when a company switches domain names, or an endpoint name is changed.  \n",
    "- 400: The server thinks you made a bad request. This can happen when you don’t send along the right data, among other things.  \n",
    "- 401: The server thinks you’re not authenticated. Many APIs require login ccredentials, so this happens when you don’t send the right credentials to access an API.  \n",
    "- 403: The resource you’re trying to access is forbidden: you don’t have the right permissions to see it.  \n",
    "- 404: The resource you tried to access wasn’t found on the server.  \n",
    "- 503: The server is not ready to handle the request.  \n",
    "\n",
    "We can check the responds status with the following code:  "
   ]
  },
  {
   "cell_type": "code",
   "execution_count": 18,
   "metadata": {},
   "outputs": [
    {
     "name": "stdout",
     "output_type": "stream",
     "text": [
      "Success!\n",
      "HTTP error occurred: 404 Client Error: Not Found for url: https://api.github.com/unknown\n"
     ]
    }
   ],
   "source": [
    "from requests.exceptions import HTTPError\n",
    "\n",
    "for url in ['https://api.github.com', 'https://api.github.com/unknown']:\n",
    "    try:\n",
    "        response = requests.get(url)\n",
    "\n",
    "        # If the response was successful, no Exception will be raised\n",
    "        response.raise_for_status()\n",
    "    except HTTPError as http_err:\n",
    "        print(f'HTTP error occurred: {http_err}') \n",
    "    except Exception as err:\n",
    "        print(f'Other error occurred: {err}') \n",
    "    else:\n",
    "        print('Success!')"
   ]
  },
  {
   "cell_type": "markdown",
   "metadata": {},
   "source": [
    "### 1.2 Headers"
   ]
  },
  {
   "cell_type": "markdown",
   "metadata": {},
   "source": [
    "The response headers can give you useful information, such as the content type of the response payload and a time limit on how long to cache the response. To view these headers, access .headers:  \n",
    "\n",
    "To customize headers, we can pass a dictionary of HTTP headers to get() using the headers parameter. For example, we can change the previous search request to highlight matching search terms in the results by specifying the text-match media type in the Accept header:"
   ]
  },
  {
   "cell_type": "code",
   "execution_count": 25,
   "metadata": {},
   "outputs": [
    {
     "name": "stdout",
     "output_type": "stream",
     "text": [
      "Text matches: [{'object_url': 'https://api.github.com/repositories/4290214', 'object_type': 'Repository', 'property': 'description', 'fragment': 'Requests + Gevent = <3', 'matches': [{'text': 'Requests', 'indices': [0, 8]}]}]\n"
     ]
    }
   ],
   "source": [
    "response = requests.get(\n",
    "    'https://api.github.com/search/repositories',\n",
    "    params={'q': 'requests+language:python'},\n",
    "    headers={'Accept': 'application/vnd.github.v3.text-match+json'},\n",
    ")\n",
    "\n",
    "json_response = response.json()\n",
    "repository = json_response['items'][0]\n",
    "print(f'Text matches: {repository[\"text_matches\"]}')"
   ]
  },
  {
   "cell_type": "markdown",
   "metadata": {},
   "source": [
    "The Accept header tells the server what content types your application can handle. In this case, since you’re expecting the matching search terms to be highlighted, you’re using the header value application/vnd.github.v3.text-match+json, which is a proprietary GitHub Accept header where the content is a special JSON format."
   ]
  },
  {
   "cell_type": "markdown",
   "metadata": {},
   "source": [
    "### 1.3 Authentication"
   ]
  },
  {
   "cell_type": "markdown",
   "metadata": {},
   "source": [
    "Authentication helps a service understand who you are. Typically, you provide your credentials to a server by passing data through the Authorization header or a custom header defined by the service. All the request functions you’ve seen to this point provide a parameter called auth, which allows you to pass your credentials."
   ]
  },
  {
   "cell_type": "code",
   "execution_count": 26,
   "metadata": {},
   "outputs": [
    {
     "name": "stdout",
     "output_type": "stream",
     "text": [
      "········\n"
     ]
    },
    {
     "data": {
      "text/plain": [
       "<Response [403]>"
      ]
     },
     "execution_count": 26,
     "metadata": {},
     "output_type": "execute_result"
    }
   ],
   "source": [
    "from getpass import getpass\n",
    "requests.get('https://api.github.com/user', auth=('username', getpass()))"
   ]
  },
  {
   "cell_type": "markdown",
   "metadata": {},
   "source": [
    "We can even supply our authentication,"
   ]
  },
  {
   "cell_type": "code",
   "execution_count": 31,
   "metadata": {},
   "outputs": [
    {
     "data": {
      "text/plain": [
       "<Response [200]>"
      ]
     },
     "execution_count": 31,
     "metadata": {},
     "output_type": "execute_result"
    }
   ],
   "source": [
    "from requests.auth import AuthBase\n",
    "\n",
    "class TokenAuth(AuthBase):\n",
    "    \"\"\"Implements a custom authentication scheme.\"\"\"\n",
    "\n",
    "    def __init__(self, token):\n",
    "        self.token = token\n",
    "\n",
    "    def __call__(self, r):\n",
    "        \"\"\"Attach an API token to a custom auth header.\"\"\"\n",
    "        r.headers['X-TokenAuth'] = f'{self.token}'\n",
    "        return r\n",
    "\n",
    "\n",
    "requests.get('https://httpbin.org/get', auth=TokenAuth('12345abcde-token'))"
   ]
  },
  {
   "cell_type": "markdown",
   "metadata": {},
   "source": [
    "Bad authentication mechanisms can lead to security vulnerabilities, so unless a service requires a custom authentication mechanism for some reason, you’ll always want to use a tried-and-true auth scheme like Basic or OAuth."
   ]
  },
  {
   "cell_type": "markdown",
   "metadata": {},
   "source": [
    "### 1.4 Requests Performance"
   ]
  },
  {
   "cell_type": "markdown",
   "metadata": {},
   "source": [
    "When using requests, especially in a production application environment, it’s important to consider performance implications. Features like timeout control, sessions, and retry limits can help you keep your application running smoothly.  \n",
    "\n",
    "By default, requests will wait indefinitely on the response, so you should almost always specify a timeout duration to prevent these things from happening. To set the request’s timeout, use the timeout parameter. timeout can be an integer or float representing the number of seconds to wait on a response before timing out.  \n",
    "\n",
    "If the request establishes a connection within 2 seconds and receives data within 5 seconds of the connection being established, then the response will be returned as it was before. If the request times out, then the function will raise a Timeout exception:\n",
    "\n"
   ]
  },
  {
   "cell_type": "code",
   "execution_count": 32,
   "metadata": {},
   "outputs": [
    {
     "name": "stdout",
     "output_type": "stream",
     "text": [
      "The request did not time out\n"
     ]
    }
   ],
   "source": [
    "import requests\n",
    "from requests.exceptions import Timeout\n",
    "\n",
    "try:\n",
    "    response = requests.get('https://api.github.com', timeout=1)\n",
    "except Timeout:\n",
    "    print('The request timed out')\n",
    "else:\n",
    "    print('The request did not time out')"
   ]
  },
  {
   "cell_type": "markdown",
   "metadata": {},
   "source": [
    "### 1.5 Session Object"
   ]
  },
  {
   "cell_type": "markdown",
   "metadata": {},
   "source": [
    "If you need to fine-tune your control over how requests are being made or improve the performance of your requests, you may need to use a Session instance directly.  \n",
    "\n",
    "Sessions are used to persist parameters across requests. For example, if you want to use the same authentication across multiple requests, you could use a session:"
   ]
  },
  {
   "cell_type": "code",
   "execution_count": 34,
   "metadata": {},
   "outputs": [
    {
     "name": "stdout",
     "output_type": "stream",
     "text": [
      "········\n",
      "{'Server': 'GitHub.com', 'Date': 'Tue, 07 Apr 2020 13:58:22 GMT', 'Content-Type': 'application/json; charset=utf-8', 'Transfer-Encoding': 'chunked', 'Status': '403 Forbidden', 'X-GitHub-Media-Type': 'github.v3; format=json', 'X-RateLimit-Limit': '60', 'X-RateLimit-Remaining': '57', 'X-RateLimit-Reset': '1586271455', 'Access-Control-Expose-Headers': 'ETag, Link, Location, Retry-After, X-GitHub-OTP, X-RateLimit-Limit, X-RateLimit-Remaining, X-RateLimit-Reset, X-OAuth-Scopes, X-Accepted-OAuth-Scopes, X-Poll-Interval, X-GitHub-Media-Type, Deprecation, Sunset', 'Access-Control-Allow-Origin': '*', 'Strict-Transport-Security': 'max-age=31536000; includeSubdomains; preload', 'X-Frame-Options': 'deny', 'X-Content-Type-Options': 'nosniff', 'X-XSS-Protection': '1; mode=block', 'Referrer-Policy': 'origin-when-cross-origin, strict-origin-when-cross-origin', 'Content-Security-Policy': \"default-src 'none'\", 'Vary': 'Accept-Encoding, Accept, X-Requested-With', 'Content-Encoding': 'gzip', 'X-GitHub-Request-Id': 'FBA4:6942:F3E4B:248E26:5E8C86FE'}\n",
      "{'message': 'Maximum number of login attempts exceeded. Please try again later.', 'documentation_url': 'https://developer.github.com/v3'}\n"
     ]
    }
   ],
   "source": [
    "from getpass import getpass\n",
    "\n",
    "# By using a context manager, you can ensure the resources used by\n",
    "# the session will be released after use\n",
    "with requests.Session() as session:\n",
    "    session.auth = ('username', getpass())\n",
    "\n",
    "    # Instead of requests.get(), you'll use session.get()\n",
    "    response = session.get('https://api.github.com/user')\n",
    "\n",
    "# You can inspect the response just like you did before\n",
    "print(response.headers)\n",
    "print(response.json())"
   ]
  },
  {
   "cell_type": "markdown",
   "metadata": {},
   "source": [
    "Each time you make a request with session, once it has been initialized with authentication credentials, the credentials will be persisted.  \n",
    "\n",
    "The primary performance optimization of sessions comes in the form of persistent connections. When your app makes a connection to a server using a Session, it keeps that connection around in a connection pool. When your app wants to connect to the same server again, it will reuse a connection from the pool rather than establishing a new one."
   ]
  },
  {
   "cell_type": "markdown",
   "metadata": {},
   "source": [
    "### 1.5 Pass the Data"
   ]
  },
  {
   "cell_type": "markdown",
   "metadata": {},
   "source": [
    "Typically, you want to send some form-encoded data — much like an HTML form. To do this, simply pass a dictionary to the data argument. Your dictionary of data will automatically be form-encoded when the request is made. The data argument can also have multiple values for each key. This can be done by making data either a list of tuples or a dictionary with lists as values. This is particularly useful when the form has multiple elements that use the same key.  \n",
    "\n",
    "JSON (JavaScript Object Notation) is the language of APIs. JSON is a way to encode data structures that ensures that they are easily readable by machines. JSON is the primary format in which data is passed back and forth to APIs, and most API servers will send their responses in JSON format.  \n",
    "\n",
    "There are times that you may want to send data that is not form-encoded. If you pass in a string instead of a dict, that data will be posted directly."
   ]
  },
  {
   "cell_type": "code",
   "execution_count": 57,
   "metadata": {},
   "outputs": [],
   "source": [
    "import json\n",
    "\n",
    "url = 'https://api.github.com/some/endpoint'\n",
    "payload = {'some': 'data'}\n",
    "r = requests.post(url, data=json.dumps(payload))"
   ]
  },
  {
   "cell_type": "code",
   "execution_count": 58,
   "metadata": {},
   "outputs": [],
   "source": [
    "rr = requests.post(url, json=payload)"
   ]
  },
  {
   "cell_type": "markdown",
   "metadata": {},
   "source": [
    "After going through this, we are able to:\n",
    "- Make requests using a variety of different HTTP methods such as GET, POST, and PUT;  \n",
    "- Customize your requests by modifying headers, authentication, query strings, and message bodies;  \n",
    "- Inspect the data you send to the server and the data the server sends back to you;  \n",
    "- Work with SSL Certificate verification;  \n",
    "- Use requests effectively using max_retries, timeout, Sessions, and Transport Adapters"
   ]
  },
  {
   "cell_type": "markdown",
   "metadata": {},
   "source": [
    "# Part 2 Web Tag and Search Using Requests and BeautifulSoup"
   ]
  },
  {
   "cell_type": "markdown",
   "metadata": {},
   "source": [
    "We will use a small example to clarify the usage combining requests and beautifulsoup in dealing with extracting and searching data in HTML/CSS."
   ]
  },
  {
   "cell_type": "code",
   "execution_count": 59,
   "metadata": {},
   "outputs": [
    {
     "data": {
      "text/plain": [
       "200"
      ]
     },
     "execution_count": 59,
     "metadata": {},
     "output_type": "execute_result"
    }
   ],
   "source": [
    "url = 'https://assets.digitalocean.com/articles/eng_python/beautiful-soup/mockturtle.html'\n",
    "page = requests.get(url)\n",
    "\n",
    "page.status_code"
   ]
  },
  {
   "cell_type": "markdown",
   "metadata": {},
   "source": [
    "The returned code of 200 tells us that the page downloaded successfully. In order to work with web data, we’re going to want to access the text-based content of web files. We can read the content of the server’s response with page.text."
   ]
  },
  {
   "cell_type": "code",
   "execution_count": 60,
   "metadata": {},
   "outputs": [
    {
     "data": {
      "text/plain": [
       "'<!DOCTYPE html PUBLIC \"-//W3C//DTD XHTML 1.0 Strict//EN\"\\n    \"http://www.w3.org/TR/xhtml1/DTD/xhtml1-strict.dtd\">\\n\\n<html lang=\"en-US\" xmlns=\"http://www.w3.org/1999/xhtml\" xml:lang=\"en-US\">\\n<head>\\n  <meta http-equiv=\"content-type\" content=\"text/html; charset=us-ascii\" />\\n\\n  <title>Turtle Soup</title>\\n</head>\\n\\n<body>\\n  <h1>Turtle Soup</h1>\\n\\n  <p class=\"verse\" id=\"first\">Beautiful Soup, so rich and green,<br />\\n  Waiting in a hot tureen!<br />\\n  Who for such dainties would not stoop?<br />\\n  Soup of the evening, beautiful Soup!<br />\\n  Soup of the evening, beautiful Soup!<br /></p>\\n\\n  <p class=\"chorus\" id=\"second\">Beau--ootiful Soo--oop!<br />\\n  Beau--ootiful Soo--oop!<br />\\n  Soo--oop of the e--e--evening,<br />\\n  Beautiful, beautiful Soup!<br /></p>\\n\\n  <p class=\"verse\" id=\"third\">Beautiful Soup! Who cares for fish,<br />\\n  Game or any other dish?<br />\\n  Who would not give all else for two<br />\\n  Pennyworth only of Beautiful Soup?<br />\\n  Pennyworth only of beautiful Soup?<br /></p>\\n\\n  <p class=\"chorus\" id=\"fourth\">Beau--ootiful Soo--oop!<br />\\n  Beau--ootiful Soo--oop!<br />\\n  Soo--oop of the e--e--evening,<br />\\n  Beautiful, beauti--FUL SOUP!<br /></p>\\n</body>\\n</html>\\n'"
      ]
     },
     "execution_count": 60,
     "metadata": {},
     "output_type": "execute_result"
    }
   ],
   "source": [
    "page.text"
   ]
  },
  {
   "cell_type": "markdown",
   "metadata": {},
   "source": [
    "To show the contents of the page on the terminal, we can print it with the prettify() method in order to turn the Beautiful Soup parse tree into a nicely formatted Unicode string."
   ]
  },
  {
   "cell_type": "code",
   "execution_count": 62,
   "metadata": {},
   "outputs": [
    {
     "name": "stdout",
     "output_type": "stream",
     "text": [
      "<!DOCTYPE html PUBLIC \"-//W3C//DTD XHTML 1.0 Strict//EN\"\n",
      "    \"http://www.w3.org/TR/xhtml1/DTD/xhtml1-strict.dtd\">\n",
      "<html lang=\"en-US\" xml:lang=\"en-US\" xmlns=\"http://www.w3.org/1999/xhtml\">\n",
      " <head>\n",
      "  <meta content=\"text/html; charset=utf-8\" http-equiv=\"content-type\"/>\n",
      "  <title>\n",
      "   Turtle Soup\n",
      "  </title>\n",
      " </head>\n",
      " <body>\n",
      "  <h1>\n",
      "   Turtle Soup\n",
      "  </h1>\n",
      "  <p class=\"verse\" id=\"first\">\n",
      "   Beautiful Soup, so rich and green,\n",
      "   <br/>\n",
      "   Waiting in a hot tureen!\n",
      "   <br/>\n",
      "   Who for such dainties would not stoop?\n",
      "   <br/>\n",
      "   Soup of the evening, beautiful Soup!\n",
      "   <br/>\n",
      "   Soup of the evening, beautiful Soup!\n",
      "   <br/>\n",
      "  </p>\n",
      "  <p class=\"chorus\" id=\"second\">\n",
      "   Beau--ootiful Soo--oop!\n",
      "   <br/>\n",
      "   Beau--ootiful Soo--oop!\n",
      "   <br/>\n",
      "   Soo--oop of the e--e--evening,\n",
      "   <br/>\n",
      "   Beautiful, beautiful Soup!\n",
      "   <br/>\n",
      "  </p>\n",
      "  <p class=\"verse\" id=\"third\">\n",
      "   Beautiful Soup! Who cares for fish,\n",
      "   <br/>\n",
      "   Game or any other dish?\n",
      "   <br/>\n",
      "   Who would not give all else for two\n",
      "   <br/>\n",
      "   Pennyworth only of Beautiful Soup?\n",
      "   <br/>\n",
      "   Pennyworth only of beautiful Soup?\n",
      "   <br/>\n",
      "  </p>\n",
      "  <p class=\"chorus\" id=\"fourth\">\n",
      "   Beau--ootiful Soo--oop!\n",
      "   <br/>\n",
      "   Beau--ootiful Soo--oop!\n",
      "   <br/>\n",
      "   Soo--oop of the e--e--evening,\n",
      "   <br/>\n",
      "   Beautiful, beauti--FUL SOUP!\n",
      "   <br/>\n",
      "  </p>\n",
      " </body>\n",
      "</html>\n",
      "\n"
     ]
    }
   ],
   "source": [
    "from bs4 import BeautifulSoup\n",
    "\n",
    "soup = BeautifulSoup(page.text, 'html.parser')\n",
    "print(soup.prettify())"
   ]
  },
  {
   "cell_type": "markdown",
   "metadata": {},
   "source": [
    "We can extract a single tag from a page by using Beautiful Soup’s find_all method. This will return all instances of a given tag within a document."
   ]
  },
  {
   "cell_type": "code",
   "execution_count": 63,
   "metadata": {},
   "outputs": [
    {
     "data": {
      "text/plain": [
       "[<p class=\"verse\" id=\"first\">Beautiful Soup, so rich and green,<br/>\n",
       "   Waiting in a hot tureen!<br/>\n",
       "   Who for such dainties would not stoop?<br/>\n",
       "   Soup of the evening, beautiful Soup!<br/>\n",
       "   Soup of the evening, beautiful Soup!<br/></p>,\n",
       " <p class=\"chorus\" id=\"second\">Beau--ootiful Soo--oop!<br/>\n",
       "   Beau--ootiful Soo--oop!<br/>\n",
       "   Soo--oop of the e--e--evening,<br/>\n",
       "   Beautiful, beautiful Soup!<br/></p>,\n",
       " <p class=\"verse\" id=\"third\">Beautiful Soup! Who cares for fish,<br/>\n",
       "   Game or any other dish?<br/>\n",
       "   Who would not give all else for two<br/>\n",
       "   Pennyworth only of Beautiful Soup?<br/>\n",
       "   Pennyworth only of beautiful Soup?<br/></p>,\n",
       " <p class=\"chorus\" id=\"fourth\">Beau--ootiful Soo--oop!<br/>\n",
       "   Beau--ootiful Soo--oop!<br/>\n",
       "   Soo--oop of the e--e--evening,<br/>\n",
       "   Beautiful, beauti--FUL SOUP!<br/></p>]"
      ]
     },
     "execution_count": 63,
     "metadata": {},
     "output_type": "execute_result"
    }
   ],
   "source": [
    "soup.find_all('p')"
   ]
  },
  {
   "cell_type": "markdown",
   "metadata": {},
   "source": [
    "HTML elements that refer to CSS selectors like class and ID can be helpful to look at when working with web data using Beautiful Soup. We can target specific classes and IDs by using the find_all() method and passing the class and ID strings as arguments.\n",
    "\n",
    "First, let’s find all of the instances of the class chorus. In Beautiful Soup we will assign the string for the class to the keyword argument class_:"
   ]
  },
  {
   "cell_type": "code",
   "execution_count": 64,
   "metadata": {},
   "outputs": [
    {
     "data": {
      "text/plain": [
       "[<p class=\"chorus\" id=\"second\">Beau--ootiful Soo--oop!<br/>\n",
       "   Beau--ootiful Soo--oop!<br/>\n",
       "   Soo--oop of the e--e--evening,<br/>\n",
       "   Beautiful, beautiful Soup!<br/></p>,\n",
       " <p class=\"chorus\" id=\"fourth\">Beau--ootiful Soo--oop!<br/>\n",
       "   Beau--ootiful Soo--oop!<br/>\n",
       "   Soo--oop of the e--e--evening,<br/>\n",
       "   Beautiful, beauti--FUL SOUP!<br/></p>]"
      ]
     },
     "execution_count": 64,
     "metadata": {},
     "output_type": "execute_result"
    }
   ],
   "source": [
    "soup.find_all('p', class_='chorus')"
   ]
  },
  {
   "cell_type": "code",
   "execution_count": 65,
   "metadata": {},
   "outputs": [
    {
     "data": {
      "text/plain": [
       "[<p class=\"verse\" id=\"third\">Beautiful Soup! Who cares for fish,<br/>\n",
       "   Game or any other dish?<br/>\n",
       "   Who would not give all else for two<br/>\n",
       "   Pennyworth only of Beautiful Soup?<br/>\n",
       "   Pennyworth only of beautiful Soup?<br/></p>]"
      ]
     },
     "execution_count": 65,
     "metadata": {},
     "output_type": "execute_result"
    }
   ],
   "source": [
    "soup.find_all(id='third')"
   ]
  },
  {
   "cell_type": "markdown",
   "metadata": {},
   "source": [
    "It's a common and useful tool to interact with web page and doing the \n",
    "It retrieving a web page with the Requests module in Python and doing some preliminary scraping of that web page’s textual data in order to gain an understanding of Beautiful Soup."
   ]
  },
  {
   "cell_type": "markdown",
   "metadata": {},
   "source": [
    "## Reference"
   ]
  },
  {
   "cell_type": "markdown",
   "metadata": {},
   "source": [
    "- https://docs.python.org/3/library/urllib.request.html  \n",
    "- https://www.crummy.com/software/BeautifulSoup/bs4/doc/  \n",
    "- https://docs.python.org/3/library/  \n",
    "- https://realpython.com/python-requests/\n",
    "- https://requests.readthedocs.io/en/master/user/quickstart/  \n",
    "- https://www.bogotobogo.com/python/python-REST-API-Http-Requests-for-Humans-with-Flask.php'  \n",
    "- https://www.digitalocean.com/community/tutorials/how-to-work-with-web-data-using-requests-and-beautiful-soup-with-python-3"
   ]
  }
 ],
 "metadata": {
  "kernelspec": {
   "display_name": "Python 3",
   "language": "python",
   "name": "python3"
  },
  "language_info": {
   "codemirror_mode": {
    "name": "ipython",
    "version": 3
   },
   "file_extension": ".py",
   "mimetype": "text/x-python",
   "name": "python",
   "nbconvert_exporter": "python",
   "pygments_lexer": "ipython3",
   "version": "3.7.6"
  }
 },
 "nbformat": 4,
 "nbformat_minor": 2
}
