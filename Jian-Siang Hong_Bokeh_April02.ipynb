{
 "cells": [
  {
   "cell_type": "markdown",
   "metadata": {},
   "source": [
    "# Bokeh - interactive visualization"
   ]
  },
  {
   "cell_type": "markdown",
   "metadata": {},
   "source": [
    "## 1. Introduction"
   ]
  },
  {
   "cell_type": "markdown",
   "metadata": {},
   "source": [
    "Bokeh is a Python library for interactive visualization on web browsers. It provides interactive plots, dashboards, and data applications for users that helps people easily know figures or diagram. This spotlight will tell you how to use bokeh. In addition, there are some example that can explain interactive data visualization in Python with Bokeh.<br>\n",
    "I would like to implement PageRank algorithm and visualize directed graph via Bokeh. User can move mouse on each node to know more information. Also, there are some features that can be used to report information, to change plot parameters such as zoom level or range extents, or to add, edit, or delete glyphs."
   ]
  },
  {
   "cell_type": "markdown",
   "metadata": {},
   "source": [
    "## 2. Installation"
   ]
  },
  {
   "cell_type": "markdown",
   "metadata": {},
   "source": [
    "1. pip install bokeh  \n",
    "2. pip install -i https://pypi.tuna.tsinghua.edu.cn/simple bokeh"
   ]
  },
  {
   "cell_type": "markdown",
   "metadata": {},
   "source": [
    "## 3. From Data to Visualization"
   ]
  },
  {
   "cell_type": "code",
   "execution_count": 1,
   "metadata": {},
   "outputs": [],
   "source": [
    "import networkx as nx\n",
    "import pandas as pd\n",
    "import numpy as np\n",
    "import bokeh.io as bkio\n",
    "import bokeh.plotting as bkp\n",
    "import bokeh.models as bkm\n",
    "import bokeh.palettes as bkpal\n",
    "import pygraphviz\n",
    "from bokeh.models import (BoxSelectTool, Circle, EdgesAndLinkedNodes, HoverTool, MultiLine, NodesAndLinkedEdges, Plot, Range1d, TapTool,ColumnDataSource, LabelSet)\n",
    "from bokeh.transform import transform    \n",
    "from bokeh.models import CustomJSTransform, LabelSet\n",
    "import math\n",
    "from bokeh.plotting import figure, show\n",
    "from bokeh.transform import cumsum\n",
    "from bokeh.palettes import Category20c,Spectral4\n",
    "from bokeh.io import output_notebook"
   ]
  },
  {
   "cell_type": "code",
   "execution_count": 2,
   "metadata": {},
   "outputs": [],
   "source": [
    "G = nx.DiGraph()      \n",
    "                      #0.             1.                2.         3.           4.       \n",
    "for name, labels in [(\"a\", {1, 2}), (\"b\", {2, 3, 4}), (\"c\", {4}),(\"d\", {-1}), (\"e\", {3})]:\n",
    "    G.add_node(name, labels=labels)\n",
    "for src, tgt in [\"ab\", \"ac\", \"bc\", \"bd\", \"be\", \"ce\", \"ed\"]:\n",
    "    G.add_edge(src, tgt, labels=G.node[src][\"labels\"] | G.node[tgt][\"labels\"])\n",
    "\n",
    "nodes=pd.DataFrame.from_dict(nx.drawing.nx_pydot.pydot_layout(G,prog='dot'),orient=\"index\", columns=[\"x\", \"y\"])"
   ]
  },
  {
   "cell_type": "markdown",
   "metadata": {},
   "source": [
    "### Use PageRank in Networkx"
   ]
  },
  {
   "cell_type": "code",
   "execution_count": 3,
   "metadata": {},
   "outputs": [
    {
     "name": "stdout",
     "output_type": "stream",
     "text": [
      "  Nodes     Probs\n",
      "0     a  0.085325\n",
      "1     b  0.123722\n",
      "2     c  0.160839\n",
      "3     d  0.362918\n",
      "4     e  0.267196\n"
     ]
    }
   ],
   "source": [
    "pr = nx.pagerank(G, alpha=0.9)\n",
    "PR = pd.DataFrame(list(pr.items()))\n",
    "PR.columns = ['Nodes','Probs']\n",
    "print(PR)"
   ]
  },
  {
   "cell_type": "code",
   "execution_count": 4,
   "metadata": {},
   "outputs": [],
   "source": [
    "# 1.2. normalize layout in [0;1]\n",
    "for coord in [\"x\", \"y\"] :\n",
    "    nodes[coord] -= nodes[coord].min()\n",
    "    nodes[coord] /= nodes[coord].max()"
   ]
  },
  {
   "cell_type": "code",
   "execution_count": 5,
   "metadata": {},
   "outputs": [],
   "source": [
    "# 1.3. concert labels to str\n",
    "nodes[\"labels\"] = [\", \".join(sorted(str(l) for l in G.node[node][\"labels\"])) for node in nodes.index]\n",
    "# 1.4. create edges dataframe\n",
    "idx = nodes.to_dict(orient=\"index\")\n",
    "edges = pd.DataFrame(((src, idx[src][\"x\"], idx[src][\"y\"],\n",
    "                        tgt, idx[tgt][\"x\"], idx[tgt][\"y\"],\n",
    "                        \", \".join(sorted(str(l) for l in label)))\n",
    "                        for src, tgt, label in G.edges(data=\"labels\")), \n",
    "                        columns=[\"start\", \"x_start\", \"y_start\",\"end\", \"x_end\", \"y_end\",\"labels\"])"
   ]
  },
  {
   "cell_type": "code",
   "execution_count": 6,
   "metadata": {},
   "outputs": [],
   "source": [
    "nodes_size = 0.02\n",
    "arrow_size = 0.01\n",
    "# 1.5. compute edges slopes\n",
    "edges[\"slope\"] = np.arctan2(edges[\"y_end\"]-edges[\"y_start\"], edges[\"x_end\"]-edges[\"x_start\"])\n",
    "# 1.6. compute edges start/end points wrt to nodes size\n",
    "edges[\"x_start\"] += np.cos(edges[\"slope\"]) * nodes_size\n",
    "edges[\"y_start\"] += np.sin(edges[\"slope\"]) * nodes_size\n",
    "edges[\"x_end\"] -= np.cos(edges[\"slope\"]) * nodes_size\n",
    "edges[\"y_end\"] -= np.sin(edges[\"slope\"]) * nodes_size\n",
    "edges[\"size\"] = np.full(len(edges), arrow_size)"
   ]
  },
  {
   "cell_type": "markdown",
   "metadata": {},
   "source": [
    "### draw graph with bokeh"
   ]
  },
  {
   "cell_type": "code",
   "execution_count": 8,
   "metadata": {},
   "outputs": [],
   "source": [
    "# 2.1. get palette\n",
    "pal = getattr(bkpal, \"Spectral4\", bkpal.Spectral4)\n",
    "# 2.2. create plot\n",
    "plot = bkp.figure(title=\"Graph\", x_range=(-nodes_size, 1 + nodes_size), \n",
    "                  y_range=(-nodes_size, 1 + nodes_size), x_axis_location=None, \n",
    "                  y_axis_location=None, outline_line_dash='dotted')"
   ]
  },
  {
   "cell_type": "code",
   "execution_count": 9,
   "metadata": {},
   "outputs": [],
   "source": [
    "# 2.3. create graph renderer\n",
    "graph = bkm.GraphRenderer()\n",
    "# 2.4. create and add nodes CDS\n",
    "nodes_dict = {k: nodes[k] for k in nodes.columns}\n",
    "nodes_dict[\"index\"] = nodes.index\n",
    "nodes_data = bkm.ColumnDataSource(data=nodes_dict)\n",
    "graph.node_renderer.data_source.data = nodes_data.data"
   ]
  },
  {
   "cell_type": "code",
   "execution_count": 10,
   "metadata": {},
   "outputs": [],
   "source": [
    "# 2.5. create and add edges CDS\n",
    "edges_dict = {k: edges[k] for k in edges.columns}\n",
    "edges_dict[\"xs\"] = [(edges[\"x_start\"][e], edges[\"x_end\"][e]) for e in edges.index]\n",
    "edges_dict[\"ys\"] = [(edges[\"y_start\"][e], edges[\"y_end\"][e]) for e in edges.index]\n",
    "edges_data = bkm.ColumnDataSource(data=edges_dict)\n",
    "graph.edge_renderer.data_source.data = edges_data.data"
   ]
  },
  {
   "cell_type": "code",
   "execution_count": 11,
   "metadata": {},
   "outputs": [
    {
     "data": {
      "text/html": [
       "\n",
       "    <div class=\"bk-root\">\n",
       "        <a href=\"https://bokeh.pydata.org\" target=\"_blank\" class=\"bk-logo bk-logo-small bk-logo-notebook\"></a>\n",
       "        <span id=\"1092\">Loading BokehJS ...</span>\n",
       "    </div>"
      ]
     },
     "metadata": {},
     "output_type": "display_data"
    },
    {
     "data": {
      "application/javascript": [
       "\n",
       "(function(root) {\n",
       "  function now() {\n",
       "    return new Date();\n",
       "  }\n",
       "\n",
       "  var force = true;\n",
       "\n",
       "  if (typeof root._bokeh_onload_callbacks === \"undefined\" || force === true) {\n",
       "    root._bokeh_onload_callbacks = [];\n",
       "    root._bokeh_is_loading = undefined;\n",
       "  }\n",
       "\n",
       "  var JS_MIME_TYPE = 'application/javascript';\n",
       "  var HTML_MIME_TYPE = 'text/html';\n",
       "  var EXEC_MIME_TYPE = 'application/vnd.bokehjs_exec.v0+json';\n",
       "  var CLASS_NAME = 'output_bokeh rendered_html';\n",
       "\n",
       "  /**\n",
       "   * Render data to the DOM node\n",
       "   */\n",
       "  function render(props, node) {\n",
       "    var script = document.createElement(\"script\");\n",
       "    node.appendChild(script);\n",
       "  }\n",
       "\n",
       "  /**\n",
       "   * Handle when an output is cleared or removed\n",
       "   */\n",
       "  function handleClearOutput(event, handle) {\n",
       "    var cell = handle.cell;\n",
       "\n",
       "    var id = cell.output_area._bokeh_element_id;\n",
       "    var server_id = cell.output_area._bokeh_server_id;\n",
       "    // Clean up Bokeh references\n",
       "    if (id != null && id in Bokeh.index) {\n",
       "      Bokeh.index[id].model.document.clear();\n",
       "      delete Bokeh.index[id];\n",
       "    }\n",
       "\n",
       "    if (server_id !== undefined) {\n",
       "      // Clean up Bokeh references\n",
       "      var cmd = \"from bokeh.io.state import curstate; print(curstate().uuid_to_server['\" + server_id + \"'].get_sessions()[0].document.roots[0]._id)\";\n",
       "      cell.notebook.kernel.execute(cmd, {\n",
       "        iopub: {\n",
       "          output: function(msg) {\n",
       "            var id = msg.content.text.trim();\n",
       "            if (id in Bokeh.index) {\n",
       "              Bokeh.index[id].model.document.clear();\n",
       "              delete Bokeh.index[id];\n",
       "            }\n",
       "          }\n",
       "        }\n",
       "      });\n",
       "      // Destroy server and session\n",
       "      var cmd = \"import bokeh.io.notebook as ion; ion.destroy_server('\" + server_id + \"')\";\n",
       "      cell.notebook.kernel.execute(cmd);\n",
       "    }\n",
       "  }\n",
       "\n",
       "  /**\n",
       "   * Handle when a new output is added\n",
       "   */\n",
       "  function handleAddOutput(event, handle) {\n",
       "    var output_area = handle.output_area;\n",
       "    var output = handle.output;\n",
       "\n",
       "    // limit handleAddOutput to display_data with EXEC_MIME_TYPE content only\n",
       "    if ((output.output_type != \"display_data\") || (!output.data.hasOwnProperty(EXEC_MIME_TYPE))) {\n",
       "      return\n",
       "    }\n",
       "\n",
       "    var toinsert = output_area.element.find(\".\" + CLASS_NAME.split(' ')[0]);\n",
       "\n",
       "    if (output.metadata[EXEC_MIME_TYPE][\"id\"] !== undefined) {\n",
       "      toinsert[toinsert.length - 1].firstChild.textContent = output.data[JS_MIME_TYPE];\n",
       "      // store reference to embed id on output_area\n",
       "      output_area._bokeh_element_id = output.metadata[EXEC_MIME_TYPE][\"id\"];\n",
       "    }\n",
       "    if (output.metadata[EXEC_MIME_TYPE][\"server_id\"] !== undefined) {\n",
       "      var bk_div = document.createElement(\"div\");\n",
       "      bk_div.innerHTML = output.data[HTML_MIME_TYPE];\n",
       "      var script_attrs = bk_div.children[0].attributes;\n",
       "      for (var i = 0; i < script_attrs.length; i++) {\n",
       "        toinsert[toinsert.length - 1].firstChild.setAttribute(script_attrs[i].name, script_attrs[i].value);\n",
       "      }\n",
       "      // store reference to server id on output_area\n",
       "      output_area._bokeh_server_id = output.metadata[EXEC_MIME_TYPE][\"server_id\"];\n",
       "    }\n",
       "  }\n",
       "\n",
       "  function register_renderer(events, OutputArea) {\n",
       "\n",
       "    function append_mime(data, metadata, element) {\n",
       "      // create a DOM node to render to\n",
       "      var toinsert = this.create_output_subarea(\n",
       "        metadata,\n",
       "        CLASS_NAME,\n",
       "        EXEC_MIME_TYPE\n",
       "      );\n",
       "      this.keyboard_manager.register_events(toinsert);\n",
       "      // Render to node\n",
       "      var props = {data: data, metadata: metadata[EXEC_MIME_TYPE]};\n",
       "      render(props, toinsert[toinsert.length - 1]);\n",
       "      element.append(toinsert);\n",
       "      return toinsert\n",
       "    }\n",
       "\n",
       "    /* Handle when an output is cleared or removed */\n",
       "    events.on('clear_output.CodeCell', handleClearOutput);\n",
       "    events.on('delete.Cell', handleClearOutput);\n",
       "\n",
       "    /* Handle when a new output is added */\n",
       "    events.on('output_added.OutputArea', handleAddOutput);\n",
       "\n",
       "    /**\n",
       "     * Register the mime type and append_mime function with output_area\n",
       "     */\n",
       "    OutputArea.prototype.register_mime_type(EXEC_MIME_TYPE, append_mime, {\n",
       "      /* Is output safe? */\n",
       "      safe: true,\n",
       "      /* Index of renderer in `output_area.display_order` */\n",
       "      index: 0\n",
       "    });\n",
       "  }\n",
       "\n",
       "  // register the mime type if in Jupyter Notebook environment and previously unregistered\n",
       "  if (root.Jupyter !== undefined) {\n",
       "    var events = require('base/js/events');\n",
       "    var OutputArea = require('notebook/js/outputarea').OutputArea;\n",
       "\n",
       "    if (OutputArea.prototype.mime_types().indexOf(EXEC_MIME_TYPE) == -1) {\n",
       "      register_renderer(events, OutputArea);\n",
       "    }\n",
       "  }\n",
       "\n",
       "  \n",
       "  if (typeof (root._bokeh_timeout) === \"undefined\" || force === true) {\n",
       "    root._bokeh_timeout = Date.now() + 5000;\n",
       "    root._bokeh_failed_load = false;\n",
       "  }\n",
       "\n",
       "  var NB_LOAD_WARNING = {'data': {'text/html':\n",
       "     \"<div style='background-color: #fdd'>\\n\"+\n",
       "     \"<p>\\n\"+\n",
       "     \"BokehJS does not appear to have successfully loaded. If loading BokehJS from CDN, this \\n\"+\n",
       "     \"may be due to a slow or bad network connection. Possible fixes:\\n\"+\n",
       "     \"</p>\\n\"+\n",
       "     \"<ul>\\n\"+\n",
       "     \"<li>re-rerun `output_notebook()` to attempt to load from CDN again, or</li>\\n\"+\n",
       "     \"<li>use INLINE resources instead, as so:</li>\\n\"+\n",
       "     \"</ul>\\n\"+\n",
       "     \"<code>\\n\"+\n",
       "     \"from bokeh.resources import INLINE\\n\"+\n",
       "     \"output_notebook(resources=INLINE)\\n\"+\n",
       "     \"</code>\\n\"+\n",
       "     \"</div>\"}};\n",
       "\n",
       "  function display_loaded() {\n",
       "    var el = document.getElementById(\"1092\");\n",
       "    if (el != null) {\n",
       "      el.textContent = \"BokehJS is loading...\";\n",
       "    }\n",
       "    if (root.Bokeh !== undefined) {\n",
       "      if (el != null) {\n",
       "        el.textContent = \"BokehJS \" + root.Bokeh.version + \" successfully loaded.\";\n",
       "      }\n",
       "    } else if (Date.now() < root._bokeh_timeout) {\n",
       "      setTimeout(display_loaded, 100)\n",
       "    }\n",
       "  }\n",
       "\n",
       "\n",
       "  function run_callbacks() {\n",
       "    try {\n",
       "      root._bokeh_onload_callbacks.forEach(function(callback) {\n",
       "        if (callback != null)\n",
       "          callback();\n",
       "      });\n",
       "    } finally {\n",
       "      delete root._bokeh_onload_callbacks\n",
       "    }\n",
       "    console.debug(\"Bokeh: all callbacks have finished\");\n",
       "  }\n",
       "\n",
       "  function load_libs(css_urls, js_urls, callback) {\n",
       "    if (css_urls == null) css_urls = [];\n",
       "    if (js_urls == null) js_urls = [];\n",
       "\n",
       "    root._bokeh_onload_callbacks.push(callback);\n",
       "    if (root._bokeh_is_loading > 0) {\n",
       "      console.debug(\"Bokeh: BokehJS is being loaded, scheduling callback at\", now());\n",
       "      return null;\n",
       "    }\n",
       "    if (js_urls == null || js_urls.length === 0) {\n",
       "      run_callbacks();\n",
       "      return null;\n",
       "    }\n",
       "    console.debug(\"Bokeh: BokehJS not loaded, scheduling load and callback at\", now());\n",
       "    root._bokeh_is_loading = css_urls.length + js_urls.length;\n",
       "\n",
       "    function on_load() {\n",
       "      root._bokeh_is_loading--;\n",
       "      if (root._bokeh_is_loading === 0) {\n",
       "        console.debug(\"Bokeh: all BokehJS libraries/stylesheets loaded\");\n",
       "        run_callbacks()\n",
       "      }\n",
       "    }\n",
       "\n",
       "    function on_error() {\n",
       "      console.error(\"failed to load \" + url);\n",
       "    }\n",
       "\n",
       "    for (var i = 0; i < css_urls.length; i++) {\n",
       "      var url = css_urls[i];\n",
       "      const element = document.createElement(\"link\");\n",
       "      element.onload = on_load;\n",
       "      element.onerror = on_error;\n",
       "      element.rel = \"stylesheet\";\n",
       "      element.type = \"text/css\";\n",
       "      element.href = url;\n",
       "      console.debug(\"Bokeh: injecting link tag for BokehJS stylesheet: \", url);\n",
       "      document.body.appendChild(element);\n",
       "    }\n",
       "\n",
       "    for (var i = 0; i < js_urls.length; i++) {\n",
       "      var url = js_urls[i];\n",
       "      var element = document.createElement('script');\n",
       "      element.onload = on_load;\n",
       "      element.onerror = on_error;\n",
       "      element.async = false;\n",
       "      element.src = url;\n",
       "      console.debug(\"Bokeh: injecting script tag for BokehJS library: \", url);\n",
       "      document.head.appendChild(element);\n",
       "    }\n",
       "  };var element = document.getElementById(\"1092\");\n",
       "  if (element == null) {\n",
       "    console.error(\"Bokeh: ERROR: autoload.js configured with elementid '1092' but no matching script tag was found. \")\n",
       "    return false;\n",
       "  }\n",
       "\n",
       "  function inject_raw_css(css) {\n",
       "    const element = document.createElement(\"style\");\n",
       "    element.appendChild(document.createTextNode(css));\n",
       "    document.body.appendChild(element);\n",
       "  }\n",
       "\n",
       "  var js_urls = [\"https://cdn.pydata.org/bokeh/release/bokeh-1.3.4.min.js\", \"https://cdn.pydata.org/bokeh/release/bokeh-widgets-1.3.4.min.js\", \"https://cdn.pydata.org/bokeh/release/bokeh-tables-1.3.4.min.js\", \"https://cdn.pydata.org/bokeh/release/bokeh-gl-1.3.4.min.js\"];\n",
       "  var css_urls = [];\n",
       "\n",
       "  var inline_js = [\n",
       "    function(Bokeh) {\n",
       "      Bokeh.set_log_level(\"info\");\n",
       "    },\n",
       "    \n",
       "    function(Bokeh) {\n",
       "      \n",
       "    },\n",
       "    function(Bokeh) {} // ensure no trailing comma for IE\n",
       "  ];\n",
       "\n",
       "  function run_inline_js() {\n",
       "    \n",
       "    if ((root.Bokeh !== undefined) || (force === true)) {\n",
       "      for (var i = 0; i < inline_js.length; i++) {\n",
       "        inline_js[i].call(root, root.Bokeh);\n",
       "      }if (force === true) {\n",
       "        display_loaded();\n",
       "      }} else if (Date.now() < root._bokeh_timeout) {\n",
       "      setTimeout(run_inline_js, 100);\n",
       "    } else if (!root._bokeh_failed_load) {\n",
       "      console.log(\"Bokeh: BokehJS failed to load within specified timeout.\");\n",
       "      root._bokeh_failed_load = true;\n",
       "    } else if (force !== true) {\n",
       "      var cell = $(document.getElementById(\"1092\")).parents('.cell').data().cell;\n",
       "      cell.output_area.append_execute_result(NB_LOAD_WARNING)\n",
       "    }\n",
       "\n",
       "  }\n",
       "\n",
       "  if (root._bokeh_is_loading === 0) {\n",
       "    console.debug(\"Bokeh: BokehJS loaded, going straight to plotting\");\n",
       "    run_inline_js();\n",
       "  } else {\n",
       "    load_libs(css_urls, js_urls, function() {\n",
       "      console.debug(\"Bokeh: BokehJS plotting callback run at\", now());\n",
       "      run_inline_js();\n",
       "    });\n",
       "  }\n",
       "}(window));"
      ],
      "application/vnd.bokehjs_load.v0+json": "\n(function(root) {\n  function now() {\n    return new Date();\n  }\n\n  var force = true;\n\n  if (typeof root._bokeh_onload_callbacks === \"undefined\" || force === true) {\n    root._bokeh_onload_callbacks = [];\n    root._bokeh_is_loading = undefined;\n  }\n\n  \n\n  \n  if (typeof (root._bokeh_timeout) === \"undefined\" || force === true) {\n    root._bokeh_timeout = Date.now() + 5000;\n    root._bokeh_failed_load = false;\n  }\n\n  var NB_LOAD_WARNING = {'data': {'text/html':\n     \"<div style='background-color: #fdd'>\\n\"+\n     \"<p>\\n\"+\n     \"BokehJS does not appear to have successfully loaded. If loading BokehJS from CDN, this \\n\"+\n     \"may be due to a slow or bad network connection. Possible fixes:\\n\"+\n     \"</p>\\n\"+\n     \"<ul>\\n\"+\n     \"<li>re-rerun `output_notebook()` to attempt to load from CDN again, or</li>\\n\"+\n     \"<li>use INLINE resources instead, as so:</li>\\n\"+\n     \"</ul>\\n\"+\n     \"<code>\\n\"+\n     \"from bokeh.resources import INLINE\\n\"+\n     \"output_notebook(resources=INLINE)\\n\"+\n     \"</code>\\n\"+\n     \"</div>\"}};\n\n  function display_loaded() {\n    var el = document.getElementById(\"1092\");\n    if (el != null) {\n      el.textContent = \"BokehJS is loading...\";\n    }\n    if (root.Bokeh !== undefined) {\n      if (el != null) {\n        el.textContent = \"BokehJS \" + root.Bokeh.version + \" successfully loaded.\";\n      }\n    } else if (Date.now() < root._bokeh_timeout) {\n      setTimeout(display_loaded, 100)\n    }\n  }\n\n\n  function run_callbacks() {\n    try {\n      root._bokeh_onload_callbacks.forEach(function(callback) {\n        if (callback != null)\n          callback();\n      });\n    } finally {\n      delete root._bokeh_onload_callbacks\n    }\n    console.debug(\"Bokeh: all callbacks have finished\");\n  }\n\n  function load_libs(css_urls, js_urls, callback) {\n    if (css_urls == null) css_urls = [];\n    if (js_urls == null) js_urls = [];\n\n    root._bokeh_onload_callbacks.push(callback);\n    if (root._bokeh_is_loading > 0) {\n      console.debug(\"Bokeh: BokehJS is being loaded, scheduling callback at\", now());\n      return null;\n    }\n    if (js_urls == null || js_urls.length === 0) {\n      run_callbacks();\n      return null;\n    }\n    console.debug(\"Bokeh: BokehJS not loaded, scheduling load and callback at\", now());\n    root._bokeh_is_loading = css_urls.length + js_urls.length;\n\n    function on_load() {\n      root._bokeh_is_loading--;\n      if (root._bokeh_is_loading === 0) {\n        console.debug(\"Bokeh: all BokehJS libraries/stylesheets loaded\");\n        run_callbacks()\n      }\n    }\n\n    function on_error() {\n      console.error(\"failed to load \" + url);\n    }\n\n    for (var i = 0; i < css_urls.length; i++) {\n      var url = css_urls[i];\n      const element = document.createElement(\"link\");\n      element.onload = on_load;\n      element.onerror = on_error;\n      element.rel = \"stylesheet\";\n      element.type = \"text/css\";\n      element.href = url;\n      console.debug(\"Bokeh: injecting link tag for BokehJS stylesheet: \", url);\n      document.body.appendChild(element);\n    }\n\n    for (var i = 0; i < js_urls.length; i++) {\n      var url = js_urls[i];\n      var element = document.createElement('script');\n      element.onload = on_load;\n      element.onerror = on_error;\n      element.async = false;\n      element.src = url;\n      console.debug(\"Bokeh: injecting script tag for BokehJS library: \", url);\n      document.head.appendChild(element);\n    }\n  };var element = document.getElementById(\"1092\");\n  if (element == null) {\n    console.error(\"Bokeh: ERROR: autoload.js configured with elementid '1092' but no matching script tag was found. \")\n    return false;\n  }\n\n  function inject_raw_css(css) {\n    const element = document.createElement(\"style\");\n    element.appendChild(document.createTextNode(css));\n    document.body.appendChild(element);\n  }\n\n  var js_urls = [\"https://cdn.pydata.org/bokeh/release/bokeh-1.3.4.min.js\", \"https://cdn.pydata.org/bokeh/release/bokeh-widgets-1.3.4.min.js\", \"https://cdn.pydata.org/bokeh/release/bokeh-tables-1.3.4.min.js\", \"https://cdn.pydata.org/bokeh/release/bokeh-gl-1.3.4.min.js\"];\n  var css_urls = [];\n\n  var inline_js = [\n    function(Bokeh) {\n      Bokeh.set_log_level(\"info\");\n    },\n    \n    function(Bokeh) {\n      \n    },\n    function(Bokeh) {} // ensure no trailing comma for IE\n  ];\n\n  function run_inline_js() {\n    \n    if ((root.Bokeh !== undefined) || (force === true)) {\n      for (var i = 0; i < inline_js.length; i++) {\n        inline_js[i].call(root, root.Bokeh);\n      }if (force === true) {\n        display_loaded();\n      }} else if (Date.now() < root._bokeh_timeout) {\n      setTimeout(run_inline_js, 100);\n    } else if (!root._bokeh_failed_load) {\n      console.log(\"Bokeh: BokehJS failed to load within specified timeout.\");\n      root._bokeh_failed_load = true;\n    } else if (force !== true) {\n      var cell = $(document.getElementById(\"1092\")).parents('.cell').data().cell;\n      cell.output_area.append_execute_result(NB_LOAD_WARNING)\n    }\n\n  }\n\n  if (root._bokeh_is_loading === 0) {\n    console.debug(\"Bokeh: BokehJS loaded, going straight to plotting\");\n    run_inline_js();\n  } else {\n    load_libs(css_urls, js_urls, function() {\n      console.debug(\"Bokeh: BokehJS plotting callback run at\", now());\n      run_inline_js();\n    });\n  }\n}(window));"
     },
     "metadata": {},
     "output_type": "display_data"
    },
    {
     "data": {
      "text/html": [
       "\n",
       "\n",
       "\n",
       "\n",
       "\n",
       "\n",
       "  <div class=\"bk-root\" id=\"7a96efbf-14d6-48b9-9d40-9fa1f6adc41e\" data-root-id=\"1001\"></div>\n"
      ]
     },
     "metadata": {},
     "output_type": "display_data"
    },
    {
     "data": {
      "application/javascript": [
       "(function(root) {\n",
       "  function embed_document(root) {\n",
       "    \n",
       "  var docs_json = {\"15d17642-8443-466a-b499-50b883aa823e\":{\"roots\":{\"references\":[{\"attributes\":{\"center\":[{\"id\":\"1016\",\"type\":\"Grid\"},{\"id\":\"1021\",\"type\":\"Grid\"},{\"id\":\"1048\",\"type\":\"Arrow\"},{\"id\":\"1099\",\"type\":\"LabelSet\"}],\"outline_line_dash\":[2,4],\"renderers\":[{\"id\":\"1035\",\"type\":\"GraphRenderer\"}],\"title\":{\"id\":\"1002\",\"type\":\"Title\"},\"toolbar\":{\"id\":\"1028\",\"type\":\"Toolbar\"},\"x_range\":{\"id\":\"1004\",\"type\":\"Range1d\"},\"x_scale\":{\"id\":\"1008\",\"type\":\"LinearScale\"},\"y_range\":{\"id\":\"1006\",\"type\":\"Range1d\"},\"y_scale\":{\"id\":\"1010\",\"type\":\"LinearScale\"}},\"id\":\"1001\",\"subtype\":\"Figure\",\"type\":\"Plot\"},{\"attributes\":{},\"id\":\"1008\",\"type\":\"LinearScale\"},{\"attributes\":{\"args\":{\"provider\":{\"id\":\"1046\",\"type\":\"StaticLayoutProvider\"}},\"v_func\":\"\\n    var result = new Float64Array(xs.length)\\n    for (var i = 0; i < xs.length; i++) {\\n        result[i] = provider.graph_layout[xs[i]][1]\\n    }\\n    return result\\n\"},\"id\":\"1098\",\"type\":\"CustomJSTransform\"},{\"attributes\":{\"callback\":null,\"end\":1.02,\"start\":-0.02},\"id\":\"1006\",\"type\":\"Range1d\"},{\"attributes\":{},\"id\":\"1013\",\"type\":\"BasicTicker\"},{\"attributes\":{\"line_color\":{\"value\":\"#abdda4\"},\"line_width\":{\"value\":5}},\"id\":\"1075\",\"type\":\"MultiLine\"},{\"attributes\":{\"dimension\":1,\"ticker\":{\"id\":\"1018\",\"type\":\"BasicTicker\"}},\"id\":\"1021\",\"type\":\"Grid\"},{\"attributes\":{},\"id\":\"1080\",\"type\":\"NodesAndLinkedEdges\"},{\"attributes\":{\"size\":10.0},\"id\":\"1047\",\"type\":\"NormalHead\"},{\"attributes\":{},\"id\":\"1027\",\"type\":\"HelpTool\"},{\"attributes\":{\"callback\":null},\"id\":\"1084\",\"type\":\"TapTool\"},{\"attributes\":{\"fill_alpha\":{\"value\":0.5},\"fill_color\":{\"value\":\"#2b83ba\"},\"radius\":{\"units\":\"data\",\"value\":0.02}},\"id\":\"1050\",\"type\":\"Circle\"},{\"attributes\":{},\"id\":\"1118\",\"type\":\"Selection\"},{\"attributes\":{},\"id\":\"1010\",\"type\":\"LinearScale\"},{\"attributes\":{\"callback\":null,\"overlay\":{\"id\":\"1116\",\"type\":\"BoxAnnotation\"}},\"id\":\"1086\",\"type\":\"BoxSelectTool\"},{\"attributes\":{\"fill_alpha\":{\"value\":0.5},\"fill_color\":{\"value\":\"lightgrey\"},\"level\":\"overlay\",\"line_alpha\":{\"value\":1.0},\"line_color\":{\"value\":\"black\"},\"line_dash\":[4,4],\"line_width\":{\"value\":2},\"xs_units\":\"screen\",\"ys_units\":\"screen\"},\"id\":\"1115\",\"type\":\"PolyAnnotation\"},{\"attributes\":{\"line_color\":{\"value\":\"#fdae61\"},\"line_width\":{\"value\":5}},\"id\":\"1070\",\"type\":\"MultiLine\"},{\"attributes\":{\"data_source\":{\"id\":\"1043\",\"type\":\"ColumnDataSource\"},\"glyph\":{\"id\":\"1065\",\"type\":\"MultiLine\"},\"hover_glyph\":{\"id\":\"1075\",\"type\":\"MultiLine\"},\"muted_glyph\":null,\"selection_glyph\":{\"id\":\"1070\",\"type\":\"MultiLine\"},\"view\":{\"id\":\"1045\",\"type\":\"CDSView\"}},\"id\":\"1044\",\"type\":\"GlyphRenderer\"},{\"attributes\":{\"callback\":null,\"overlay\":{\"id\":\"1115\",\"type\":\"PolyAnnotation\"}},\"id\":\"1085\",\"type\":\"LassoSelectTool\"},{\"attributes\":{\"graph_layout\":{\"a\":[0.4153846153846154,1.0],\"b\":[0.8461538461538461,0.75],\"c\":[0.0,0.5],\"d\":[1.0,0.0],\"e\":[0.5846153846153846,0.25]}},\"id\":\"1046\",\"type\":\"StaticLayoutProvider\"},{\"attributes\":{\"line_alpha\":{\"value\":0.8},\"line_color\":{\"value\":\"#CCCCCC\"},\"line_width\":{\"value\":5}},\"id\":\"1065\",\"type\":\"MultiLine\"},{\"attributes\":{\"callback\":null,\"tooltips\":[[\"node\",\"@index\"],[\"labels\",\"@labels\"]]},\"id\":\"1087\",\"type\":\"HoverTool\"},{\"attributes\":{\"callback\":null,\"data\":{\"index\":[\"a\",\"b\",\"c\",\"d\",\"e\"],\"labels\":[\"1, 2\",\"2, 3, 4\",\"4\",\"-1\",\"3\"],\"names\":[\"a\",\"b\",\"c\",\"d\",\"e\"],\"x\":{\"__ndarray__\":\"W6mVWqmV2j87sRM7sRPrPwAAAAAAAAAAAAAAAAAA8D9TK7VSK7XiPw==\",\"dtype\":\"float64\",\"shape\":[5]},\"y\":{\"__ndarray__\":\"AAAAAAAA8D8AAAAAAADoPwAAAAAAAOA/AAAAAAAAAAAAAAAAAADQPw==\",\"dtype\":\"float64\",\"shape\":[5]}},\"selected\":{\"id\":\"1113\",\"type\":\"Selection\"},\"selection_policy\":{\"id\":\"1112\",\"type\":\"UnionRenderers\"}},\"id\":\"1038\",\"type\":\"ColumnDataSource\"},{\"attributes\":{\"fill_alpha\":{\"value\":0.5},\"fill_color\":{\"value\":\"#fdae61\"},\"radius\":{\"units\":\"data\",\"value\":0.02}},\"id\":\"1055\",\"type\":\"Circle\"},{\"attributes\":{},\"id\":\"1025\",\"type\":\"SaveTool\"},{\"attributes\":{\"source\":{\"id\":\"1043\",\"type\":\"ColumnDataSource\"}},\"id\":\"1045\",\"type\":\"CDSView\"},{\"attributes\":{},\"id\":\"1018\",\"type\":\"BasicTicker\"},{\"attributes\":{\"callback\":null,\"data\":{\"end\":[\"b\",\"c\",\"c\",\"d\",\"e\",\"e\",\"d\"],\"labels\":[\"1, 2, 3, 4\",\"1, 2, 4\",\"2, 3, 4\",\"-1, 2, 3, 4\",\"2, 3, 4\",\"3, 4\",\"-1, 3\"],\"size\":{\"__ndarray__\":\"exSuR+F6hD97FK5H4XqEP3sUrkfheoQ/exSuR+F6hD97FK5H4XqEP3sUrkfheoQ/exSuR+F6hD8=\",\"dtype\":\"float64\",\"shape\":[7]},\"slope\":{\"__ndarray__\":\"UvcNd8XT4L+roRQ7thwCwMp4Sxyh1QbAyKSxuUXl9b8l4lgbAGwAwOG3Y8i73Nm/UBojGkNW4b8=\",\"dtype\":\"float64\",\"shape\":[7]},\"start\":[\"a\",\"a\",\"b\",\"b\",\"b\",\"c\",\"e\"],\"x_end\":{\"__ndarray__\":\"BFsx0fyF6j9cI1NumyyKP9tOZMcDpJM/vZyvyhPf7z+lTIHRGwHjP+++qHmGHuI/Ftp2iJ9z7z8=\",\"dtype\":\"float64\",\"shape\":[7]},\"x_start\":{\"__ndarray__\":\"ylVaLhKx2z9AECN/RMTZP8SO2ByRduo/fhRkcJ006z/pj0e8wMfqP4+MjSGb1JI/PVE+yotB4z8=\",\"dtype\":\"float64\",\"shape\":[7]},\"xs\":[[0.4326825573601495,0.8288559041783121],[0.40260422149390607,0.012780393890709334],[0.8269734919926681,0.01918035416117801],[0.8501727290282728,0.9959811171255734],[0.8368838956198462,0.5938853351493846],[0.018389152453334886,0.5662262321620498],[0.6017512273852287,0.982864157230156]],\"y_end\":{\"__ndarray__\":\"d+2XRj1S6D8m3L0uBn7gP9LVBWZsLuA/vHz8fPAPlD+VrDlOWyLRP90L8xfXgNA/lUKZdxsfhT8=\",\"dtype\":\"float64\",\"shape\":[7]},\"y_start\":{\"__ndarray__\":\"iRJoucKt7z/aI0LR+YHvPy4q+pmT0ec/GhwYfIBf5z+1KeNY0m7nPyP0DOgof98/12uGSA6uzj8=\",\"dtype\":\"float64\",\"shape\":[7]},\"ys\":[[0.9899610158177704,0.7600389841822296],[0.9846161925389609,0.5153838074610391],[0.7443330771796519,0.5056669228203481],[0.7304079459871702,0.019592054012829804],[0.7322780357438236,0.2677219642561764],[0.4921362177008765,0.2578637822991235],[0.23968676129592723,0.010313238704072783]]},\"selected\":{\"id\":\"1111\",\"type\":\"Selection\"},\"selection_policy\":{\"id\":\"1110\",\"type\":\"UnionRenderers\"}},\"id\":\"1041\",\"type\":\"ColumnDataSource\"},{\"attributes\":{\"args\":{\"provider\":{\"id\":\"1046\",\"type\":\"StaticLayoutProvider\"}},\"v_func\":\"\\n    var result = new Float64Array(xs.length)\\n    for (var i = 0; i < xs.length; i++) {\\n        result[i] = provider.graph_layout[xs[i]][0]\\n    }\\n    return result\\n\"},\"id\":\"1097\",\"type\":\"CustomJSTransform\"},{\"attributes\":{},\"id\":\"1110\",\"type\":\"UnionRenderers\"},{\"attributes\":{\"edge_renderer\":{\"id\":\"1044\",\"type\":\"GlyphRenderer\"},\"inspection_policy\":{\"id\":\"1082\",\"type\":\"NodesAndLinkedEdges\"},\"layout_provider\":{\"id\":\"1046\",\"type\":\"StaticLayoutProvider\"},\"node_renderer\":{\"id\":\"1039\",\"type\":\"GlyphRenderer\"},\"selection_policy\":{\"id\":\"1080\",\"type\":\"NodesAndLinkedEdges\"}},\"id\":\"1035\",\"type\":\"GraphRenderer\"},{\"attributes\":{},\"id\":\"1111\",\"type\":\"Selection\"},{\"attributes\":{\"bottom_units\":\"screen\",\"fill_alpha\":{\"value\":0.5},\"fill_color\":{\"value\":\"lightgrey\"},\"left_units\":\"screen\",\"level\":\"overlay\",\"line_alpha\":{\"value\":1.0},\"line_color\":{\"value\":\"black\"},\"line_dash\":[4,4],\"line_width\":{\"value\":2},\"render_mode\":\"css\",\"right_units\":\"screen\",\"top_units\":\"screen\"},\"id\":\"1114\",\"type\":\"BoxAnnotation\"},{\"attributes\":{\"fill_alpha\":{\"value\":0.5},\"fill_color\":{\"value\":\"#abdda4\"},\"radius\":{\"units\":\"data\",\"value\":0.02}},\"id\":\"1060\",\"type\":\"Circle\"},{\"attributes\":{},\"id\":\"1112\",\"type\":\"UnionRenderers\"},{\"attributes\":{\"ticker\":{\"id\":\"1013\",\"type\":\"BasicTicker\"}},\"id\":\"1016\",\"type\":\"Grid\"},{\"attributes\":{},\"id\":\"1113\",\"type\":\"Selection\"},{\"attributes\":{\"end\":{\"id\":\"1047\",\"type\":\"NormalHead\"},\"source\":{\"id\":\"1041\",\"type\":\"ColumnDataSource\"},\"start\":null,\"x_end\":{\"field\":\"x_end\"},\"x_start\":{\"field\":\"x_start\"},\"y_end\":{\"field\":\"y_end\"},\"y_start\":{\"field\":\"y_start\"}},\"id\":\"1048\",\"type\":\"Arrow\"},{\"attributes\":{},\"id\":\"1022\",\"type\":\"PanTool\"},{\"attributes\":{\"overlay\":{\"id\":\"1114\",\"type\":\"BoxAnnotation\"}},\"id\":\"1024\",\"type\":\"BoxZoomTool\"},{\"attributes\":{\"text\":\"Graph\"},\"id\":\"1002\",\"type\":\"Title\"},{\"attributes\":{\"data_source\":{\"id\":\"1038\",\"type\":\"ColumnDataSource\"},\"glyph\":{\"id\":\"1050\",\"type\":\"Circle\"},\"hover_glyph\":{\"id\":\"1060\",\"type\":\"Circle\"},\"muted_glyph\":null,\"selection_glyph\":{\"id\":\"1055\",\"type\":\"Circle\"},\"view\":{\"id\":\"1040\",\"type\":\"CDSView\"}},\"id\":\"1039\",\"type\":\"GlyphRenderer\"},{\"attributes\":{},\"id\":\"1026\",\"type\":\"ResetTool\"},{\"attributes\":{\"source\":{\"id\":\"1038\",\"type\":\"ColumnDataSource\"}},\"id\":\"1040\",\"type\":\"CDSView\"},{\"attributes\":{\"active_drag\":\"auto\",\"active_inspect\":\"auto\",\"active_multi\":null,\"active_scroll\":\"auto\",\"active_tap\":\"auto\",\"tools\":[{\"id\":\"1022\",\"type\":\"PanTool\"},{\"id\":\"1023\",\"type\":\"WheelZoomTool\"},{\"id\":\"1024\",\"type\":\"BoxZoomTool\"},{\"id\":\"1025\",\"type\":\"SaveTool\"},{\"id\":\"1026\",\"type\":\"ResetTool\"},{\"id\":\"1027\",\"type\":\"HelpTool\"},{\"id\":\"1084\",\"type\":\"TapTool\"},{\"id\":\"1085\",\"type\":\"LassoSelectTool\"},{\"id\":\"1086\",\"type\":\"BoxSelectTool\"},{\"id\":\"1087\",\"type\":\"HoverTool\"}]},\"id\":\"1028\",\"type\":\"Toolbar\"},{\"attributes\":{\"source\":{\"id\":\"1038\",\"type\":\"ColumnDataSource\"},\"text\":{\"field\":\"names\"},\"text_font_size\":{\"value\":\"16px\"},\"x\":{\"field\":\"index\",\"transform\":{\"id\":\"1097\",\"type\":\"CustomJSTransform\"}},\"x_offset\":{\"value\":15},\"y\":{\"field\":\"index\",\"transform\":{\"id\":\"1098\",\"type\":\"CustomJSTransform\"}},\"y_offset\":{\"value\":5}},\"id\":\"1099\",\"type\":\"LabelSet\"},{\"attributes\":{},\"id\":\"1023\",\"type\":\"WheelZoomTool\"},{\"attributes\":{\"bottom_units\":\"screen\",\"fill_alpha\":{\"value\":0.5},\"fill_color\":{\"value\":\"lightgrey\"},\"left_units\":\"screen\",\"level\":\"overlay\",\"line_alpha\":{\"value\":1.0},\"line_color\":{\"value\":\"black\"},\"line_dash\":[4,4],\"line_width\":{\"value\":2},\"render_mode\":\"css\",\"right_units\":\"screen\",\"top_units\":\"screen\"},\"id\":\"1116\",\"type\":\"BoxAnnotation\"},{\"attributes\":{},\"id\":\"1117\",\"type\":\"UnionRenderers\"},{\"attributes\":{\"callback\":null,\"data\":{\"end\":[\"b\",\"c\",\"c\",\"d\",\"e\",\"e\",\"d\"],\"labels\":[\"1, 2, 3, 4\",\"1, 2, 4\",\"2, 3, 4\",\"-1, 2, 3, 4\",\"2, 3, 4\",\"3, 4\",\"-1, 3\"],\"size\":{\"__ndarray__\":\"exSuR+F6hD97FK5H4XqEP3sUrkfheoQ/exSuR+F6hD97FK5H4XqEP3sUrkfheoQ/exSuR+F6hD8=\",\"dtype\":\"float64\",\"shape\":[7]},\"slope\":{\"__ndarray__\":\"UvcNd8XT4L+roRQ7thwCwMp4Sxyh1QbAyKSxuUXl9b8l4lgbAGwAwOG3Y8i73Nm/UBojGkNW4b8=\",\"dtype\":\"float64\",\"shape\":[7]},\"start\":[\"a\",\"a\",\"b\",\"b\",\"b\",\"c\",\"e\"],\"x_end\":{\"__ndarray__\":\"BFsx0fyF6j9cI1NumyyKP9tOZMcDpJM/vZyvyhPf7z+lTIHRGwHjP+++qHmGHuI/Ftp2iJ9z7z8=\",\"dtype\":\"float64\",\"shape\":[7]},\"x_start\":{\"__ndarray__\":\"ylVaLhKx2z9AECN/RMTZP8SO2ByRduo/fhRkcJ006z/pj0e8wMfqP4+MjSGb1JI/PVE+yotB4z8=\",\"dtype\":\"float64\",\"shape\":[7]},\"xs\":[[0.4326825573601495,0.8288559041783121],[0.40260422149390607,0.012780393890709334],[0.8269734919926681,0.01918035416117801],[0.8501727290282728,0.9959811171255734],[0.8368838956198462,0.5938853351493846],[0.018389152453334886,0.5662262321620498],[0.6017512273852287,0.982864157230156]],\"y_end\":{\"__ndarray__\":\"d+2XRj1S6D8m3L0uBn7gP9LVBWZsLuA/vHz8fPAPlD+VrDlOWyLRP90L8xfXgNA/lUKZdxsfhT8=\",\"dtype\":\"float64\",\"shape\":[7]},\"y_start\":{\"__ndarray__\":\"iRJoucKt7z/aI0LR+YHvPy4q+pmT0ec/GhwYfIBf5z+1KeNY0m7nPyP0DOgof98/12uGSA6uzj8=\",\"dtype\":\"float64\",\"shape\":[7]},\"ys\":[[0.9899610158177704,0.7600389841822296],[0.9846161925389609,0.5153838074610391],[0.7443330771796519,0.5056669228203481],[0.7304079459871702,0.019592054012829804],[0.7322780357438236,0.2677219642561764],[0.4921362177008765,0.2578637822991235],[0.23968676129592723,0.010313238704072783]]},\"selected\":{\"id\":\"1118\",\"type\":\"Selection\"},\"selection_policy\":{\"id\":\"1117\",\"type\":\"UnionRenderers\"}},\"id\":\"1043\",\"type\":\"ColumnDataSource\"},{\"attributes\":{\"callback\":null,\"end\":1.02,\"start\":-0.02},\"id\":\"1004\",\"type\":\"Range1d\"},{\"attributes\":{},\"id\":\"1082\",\"type\":\"NodesAndLinkedEdges\"}],\"root_ids\":[\"1001\"]},\"title\":\"Bokeh Application\",\"version\":\"1.3.4\"}};\n",
       "  var render_items = [{\"docid\":\"15d17642-8443-466a-b499-50b883aa823e\",\"roots\":{\"1001\":\"7a96efbf-14d6-48b9-9d40-9fa1f6adc41e\"}}];\n",
       "  root.Bokeh.embed.embed_items_notebook(docs_json, render_items);\n",
       "\n",
       "  }\n",
       "  if (root.Bokeh !== undefined) {\n",
       "    embed_document(root);\n",
       "  } else {\n",
       "    var attempts = 0;\n",
       "    var timer = setInterval(function(root) {\n",
       "      if (root.Bokeh !== undefined) {\n",
       "        embed_document(root);\n",
       "        clearInterval(timer);\n",
       "      }\n",
       "      attempts++;\n",
       "      if (attempts > 100) {\n",
       "        console.log(\"Bokeh: ERROR: Unable to run BokehJS code because BokehJS library is missing\");\n",
       "        clearInterval(timer);\n",
       "      }\n",
       "    }, 10, root)\n",
       "  }\n",
       "})(window);"
      ],
      "application/vnd.bokehjs_exec.v0+json": ""
     },
     "metadata": {
      "application/vnd.bokehjs_exec.v0+json": {
       "id": "1001"
      }
     },
     "output_type": "display_data"
    }
   ],
   "source": [
    "# 2.6. create layout as expected by GraphRenderer\n",
    "layout = {n : (nodes[\"x\"][n], nodes[\"y\"][n]) for n in nodes.index}\n",
    "graph.layout_provider = bkm.StaticLayoutProvider(graph_layout=layout)\n",
    "# 2.7. add arrows\n",
    "arrows = bkm.Arrow(end=bkm.NormalHead(size=arrow_size*1000), x_start=\"x_start\", y_start=\"y_start\", \n",
    "                   x_end=\"x_end\", y_end=\"y_end\", source=edges_data)\n",
    "plot.add_layout(arrows)\n",
    "\n",
    "graph.node_renderer.glyph = bkm.Circle(radius=nodes_size, fill_color=pal[0], fill_alpha=.5)\n",
    "graph.node_renderer.selection_glyph = bkm.Circle(radius=nodes_size, fill_color=pal[2], fill_alpha=.5)\n",
    "graph.node_renderer.hover_glyph = bkm.Circle(radius=nodes_size, fill_color=pal[1], fill_alpha=.5)\n",
    "\n",
    "\n",
    "graph.edge_renderer.glyph = bkm.MultiLine(line_color=\"#CCCCCC\", line_alpha=0.8, line_width=5)\n",
    "graph.edge_renderer.selection_glyph = bkm.MultiLine(line_color=pal[2], line_width=5)\n",
    "graph.edge_renderer.hover_glyph = bkm.MultiLine(line_color=pal[1], line_width=5)\n",
    "# 2.9. set policies and finish it\n",
    "graph.selection_policy = bkm.NodesAndLinkedEdges()\n",
    "graph.inspection_policy = bkm.NodesAndLinkedEdges()\n",
    "plot.renderers.append(graph)\n",
    "plot.add_tools(bkm.TapTool(), bkm.LassoSelectTool(), bkm.BoxSelectTool(),\n",
    "               bkm.HoverTool(tooltips=[(\"node\", \"@index\"),(\"labels\", \"@labels\")]))\n",
    "#     bkio.output_file(“interactive_graphs.html”)\n",
    "output_notebook()\n",
    "# add the labels to the node renderer data source\n",
    "source = graph.node_renderer.data_source\n",
    "\n",
    "source.data['names'] = [str(x) for x in source.data['index']]\n",
    "code = \"\"\"\n",
    "    var result = new Float64Array(xs.length)\n",
    "    for (var i = 0; i < xs.length; i++) {\n",
    "        result[i] = provider.graph_layout[xs[i]][%s]\n",
    "    }\n",
    "    return result\n",
    "\"\"\"\n",
    "xcoord = CustomJSTransform(v_func=code % \"0\", args=dict(provider=graph.layout_provider))\n",
    "ycoord = CustomJSTransform(v_func=code % \"1\", args=dict(provider=graph.layout_provider))\n",
    "\n",
    "# Use the transforms to supply coords to a LabelSet \n",
    "labels = LabelSet(x=transform('index', xcoord),\n",
    "                  y=transform('index', ycoord),\n",
    "                  text='names', text_font_size=\"16px\",\n",
    "                  x_offset=15, y_offset=5,\n",
    "                  source=source, render_mode='canvas')\n",
    "\n",
    "plot.add_layout(labels)\n",
    "\n",
    "show(plot)"
   ]
  },
  {
   "cell_type": "markdown",
   "metadata": {},
   "source": [
    "### Bar Graph for PageRank probabilities"
   ]
  },
  {
   "cell_type": "code",
   "execution_count": 12,
   "metadata": {},
   "outputs": [
    {
     "data": {
      "text/html": [
       "\n",
       "\n",
       "\n",
       "\n",
       "\n",
       "\n",
       "  <div class=\"bk-root\" id=\"2a8d3fdf-e2a6-4317-ab36-01d2cf0ee1e6\" data-root-id=\"1239\"></div>\n"
      ]
     },
     "metadata": {},
     "output_type": "display_data"
    },
    {
     "data": {
      "application/javascript": [
       "(function(root) {\n",
       "  function embed_document(root) {\n",
       "    \n",
       "  var docs_json = {\"09fe43b2-d0ac-46ea-aa4e-426c72439f9e\":{\"roots\":{\"references\":[{\"attributes\":{\"below\":[{\"id\":\"1250\",\"type\":\"CategoricalAxis\"}],\"center\":[{\"id\":\"1253\",\"type\":\"Grid\"},{\"id\":\"1258\",\"type\":\"Grid\"}],\"left\":[{\"id\":\"1254\",\"type\":\"LinearAxis\"}],\"plot_height\":350,\"renderers\":[{\"id\":\"1275\",\"type\":\"GlyphRenderer\"}],\"title\":{\"id\":\"1240\",\"type\":\"Title\"},\"toolbar\":{\"id\":\"1265\",\"type\":\"Toolbar\"},\"x_range\":{\"id\":\"1242\",\"type\":\"FactorRange\"},\"x_scale\":{\"id\":\"1246\",\"type\":\"CategoricalScale\"},\"y_range\":{\"id\":\"1244\",\"type\":\"DataRange1d\"},\"y_scale\":{\"id\":\"1248\",\"type\":\"LinearScale\"}},\"id\":\"1239\",\"subtype\":\"Figure\",\"type\":\"Plot\"},{\"attributes\":{\"ticker\":{\"id\":\"1251\",\"type\":\"CategoricalTicker\"}},\"id\":\"1253\",\"type\":\"Grid\"},{\"attributes\":{\"callback\":null},\"id\":\"1244\",\"type\":\"DataRange1d\"},{\"attributes\":{\"overlay\":{\"id\":\"1302\",\"type\":\"BoxAnnotation\"}},\"id\":\"1261\",\"type\":\"BoxZoomTool\"},{\"attributes\":{\"callback\":null,\"data\":{\"top\":{\"__ndarray__\":\"2ttNy+PXtT/uSC9VQKy/P8ND2ntclsQ/u+OMpAo61z80sWYVvhnRPw==\",\"dtype\":\"float64\",\"shape\":[5]},\"x\":[\"a\",\"b\",\"c\",\"d\",\"e\"]},\"selected\":{\"id\":\"1301\",\"type\":\"Selection\"},\"selection_policy\":{\"id\":\"1300\",\"type\":\"UnionRenderers\"}},\"id\":\"1272\",\"type\":\"ColumnDataSource\"},{\"attributes\":{},\"id\":\"1301\",\"type\":\"Selection\"},{\"attributes\":{\"axis_label\":\"Nodes\",\"formatter\":{\"id\":\"1299\",\"type\":\"CategoricalTickFormatter\"},\"ticker\":{\"id\":\"1251\",\"type\":\"CategoricalTicker\"}},\"id\":\"1250\",\"type\":\"CategoricalAxis\"},{\"attributes\":{\"active_drag\":\"auto\",\"active_inspect\":\"auto\",\"active_multi\":null,\"active_scroll\":\"auto\",\"active_tap\":\"auto\",\"tools\":[{\"id\":\"1259\",\"type\":\"PanTool\"},{\"id\":\"1260\",\"type\":\"WheelZoomTool\"},{\"id\":\"1261\",\"type\":\"BoxZoomTool\"},{\"id\":\"1262\",\"type\":\"SaveTool\"},{\"id\":\"1263\",\"type\":\"ResetTool\"},{\"id\":\"1264\",\"type\":\"HelpTool\"}]},\"id\":\"1265\",\"type\":\"Toolbar\"},{\"attributes\":{},\"id\":\"1259\",\"type\":\"PanTool\"},{\"attributes\":{\"text\":\"Bar graph @ bokeh\"},\"id\":\"1240\",\"type\":\"Title\"},{\"attributes\":{},\"id\":\"1299\",\"type\":\"CategoricalTickFormatter\"},{\"attributes\":{\"axis_label\":\"Probability\",\"formatter\":{\"id\":\"1297\",\"type\":\"BasicTickFormatter\"},\"ticker\":{\"id\":\"1255\",\"type\":\"BasicTicker\"}},\"id\":\"1254\",\"type\":\"LinearAxis\"},{\"attributes\":{\"data_source\":{\"id\":\"1272\",\"type\":\"ColumnDataSource\"},\"glyph\":{\"id\":\"1273\",\"type\":\"VBar\"},\"hover_glyph\":null,\"muted_glyph\":null,\"nonselection_glyph\":{\"id\":\"1274\",\"type\":\"VBar\"},\"selection_glyph\":null,\"view\":{\"id\":\"1276\",\"type\":\"CDSView\"}},\"id\":\"1275\",\"type\":\"GlyphRenderer\"},{\"attributes\":{\"bottom_units\":\"screen\",\"fill_alpha\":{\"value\":0.5},\"fill_color\":{\"value\":\"lightgrey\"},\"left_units\":\"screen\",\"level\":\"overlay\",\"line_alpha\":{\"value\":1.0},\"line_color\":{\"value\":\"black\"},\"line_dash\":[4,4],\"line_width\":{\"value\":2},\"render_mode\":\"css\",\"right_units\":\"screen\",\"top_units\":\"screen\"},\"id\":\"1302\",\"type\":\"BoxAnnotation\"},{\"attributes\":{},\"id\":\"1297\",\"type\":\"BasicTickFormatter\"},{\"attributes\":{\"callback\":null,\"factors\":[\"a\",\"b\",\"c\",\"d\",\"e\"]},\"id\":\"1242\",\"type\":\"FactorRange\"},{\"attributes\":{},\"id\":\"1262\",\"type\":\"SaveTool\"},{\"attributes\":{},\"id\":\"1300\",\"type\":\"UnionRenderers\"},{\"attributes\":{\"dimension\":1,\"ticker\":{\"id\":\"1255\",\"type\":\"BasicTicker\"}},\"id\":\"1258\",\"type\":\"Grid\"},{\"attributes\":{},\"id\":\"1263\",\"type\":\"ResetTool\"},{\"attributes\":{},\"id\":\"1260\",\"type\":\"WheelZoomTool\"},{\"attributes\":{\"fill_alpha\":{\"value\":0.1},\"fill_color\":{\"value\":\"#1f77b4\"},\"line_alpha\":{\"value\":0.1},\"line_color\":{\"value\":\"#1f77b4\"},\"top\":{\"field\":\"top\"},\"width\":{\"value\":0.9},\"x\":{\"field\":\"x\"}},\"id\":\"1274\",\"type\":\"VBar\"},{\"attributes\":{},\"id\":\"1264\",\"type\":\"HelpTool\"},{\"attributes\":{},\"id\":\"1246\",\"type\":\"CategoricalScale\"},{\"attributes\":{\"fill_color\":{\"value\":\"#1f77b4\"},\"line_color\":{\"value\":\"#1f77b4\"},\"top\":{\"field\":\"top\"},\"width\":{\"value\":0.9},\"x\":{\"field\":\"x\"}},\"id\":\"1273\",\"type\":\"VBar\"},{\"attributes\":{\"source\":{\"id\":\"1272\",\"type\":\"ColumnDataSource\"}},\"id\":\"1276\",\"type\":\"CDSView\"},{\"attributes\":{},\"id\":\"1248\",\"type\":\"LinearScale\"},{\"attributes\":{},\"id\":\"1251\",\"type\":\"CategoricalTicker\"},{\"attributes\":{},\"id\":\"1255\",\"type\":\"BasicTicker\"}],\"root_ids\":[\"1239\"]},\"title\":\"Bokeh Application\",\"version\":\"1.3.4\"}};\n",
       "  var render_items = [{\"docid\":\"09fe43b2-d0ac-46ea-aa4e-426c72439f9e\",\"roots\":{\"1239\":\"2a8d3fdf-e2a6-4317-ab36-01d2cf0ee1e6\"}}];\n",
       "  root.Bokeh.embed.embed_items_notebook(docs_json, render_items);\n",
       "\n",
       "  }\n",
       "  if (root.Bokeh !== undefined) {\n",
       "    embed_document(root);\n",
       "  } else {\n",
       "    var attempts = 0;\n",
       "    var timer = setInterval(function(root) {\n",
       "      if (root.Bokeh !== undefined) {\n",
       "        embed_document(root);\n",
       "        clearInterval(timer);\n",
       "      }\n",
       "      attempts++;\n",
       "      if (attempts > 100) {\n",
       "        console.log(\"Bokeh: ERROR: Unable to run BokehJS code because BokehJS library is missing\");\n",
       "        clearInterval(timer);\n",
       "      }\n",
       "    }, 10, root)\n",
       "  }\n",
       "})(window);"
      ],
      "application/vnd.bokehjs_exec.v0+json": ""
     },
     "metadata": {
      "application/vnd.bokehjs_exec.v0+json": {
       "id": "1239"
      }
     },
     "output_type": "display_data"
    }
   ],
   "source": [
    "xdata = PR['Nodes']\n",
    "ydata = PR['Probs']\n",
    "p = figure(x_range=xdata, plot_height=350, title=\"Bar graph @ bokeh\", \n",
    "           x_axis_label='Nodes', y_axis_label='Probability')\n",
    "p.vbar(x=xdata, top=ydata, width=0.9)\n",
    "show(p)"
   ]
  },
  {
   "cell_type": "code",
   "execution_count": 13,
   "metadata": {},
   "outputs": [
    {
     "data": {
      "text/html": [
       "\n",
       "\n",
       "\n",
       "\n",
       "\n",
       "\n",
       "  <div class=\"bk-root\" id=\"4f5eb15c-17e2-4170-8008-3143d29214e2\" data-root-id=\"1351\"></div>\n"
      ]
     },
     "metadata": {},
     "output_type": "display_data"
    },
    {
     "data": {
      "application/javascript": [
       "(function(root) {\n",
       "  function embed_document(root) {\n",
       "    \n",
       "  var docs_json = {\"8ce7f4cf-2dc7-47bb-a74d-feb6f30acfe0\":{\"roots\":{\"references\":[{\"attributes\":{\"below\":[{\"id\":\"1362\",\"type\":\"LinearAxis\"}],\"center\":[{\"id\":\"1366\",\"type\":\"Grid\"},{\"id\":\"1371\",\"type\":\"Grid\"},{\"id\":\"1401\",\"type\":\"Legend\"}],\"left\":[{\"id\":\"1367\",\"type\":\"LinearAxis\"}],\"plot_height\":350,\"renderers\":[{\"id\":\"1393\",\"type\":\"GlyphRenderer\"}],\"title\":{\"id\":\"1352\",\"type\":\"Title\"},\"toolbar\":{\"id\":\"1379\",\"type\":\"Toolbar\"},\"x_range\":{\"id\":\"1354\",\"type\":\"Range1d\"},\"x_scale\":{\"id\":\"1358\",\"type\":\"LinearScale\"},\"y_range\":{\"id\":\"1356\",\"type\":\"DataRange1d\"},\"y_scale\":{\"id\":\"1360\",\"type\":\"LinearScale\"}},\"id\":\"1351\",\"subtype\":\"Figure\",\"type\":\"Plot\"},{\"attributes\":{\"ticker\":{\"id\":\"1363\",\"type\":\"BasicTicker\"}},\"id\":\"1366\",\"type\":\"Grid\"},{\"attributes\":{\"label\":{\"field\":\"node\"},\"renderers\":[{\"id\":\"1393\",\"type\":\"GlyphRenderer\"}]},\"id\":\"1402\",\"type\":\"LegendItem\"},{\"attributes\":{},\"id\":\"1376\",\"type\":\"ResetTool\"},{\"attributes\":{\"field\":\"angle\",\"include_zero\":true},\"id\":\"1387\",\"type\":\"CumSum\"},{\"attributes\":{\"overlay\":{\"id\":\"1400\",\"type\":\"BoxAnnotation\"}},\"id\":\"1374\",\"type\":\"BoxZoomTool\"},{\"attributes\":{},\"id\":\"1375\",\"type\":\"SaveTool\"},{\"attributes\":{},\"id\":\"1397\",\"type\":\"BasicTickFormatter\"},{\"attributes\":{\"data_source\":{\"id\":\"1389\",\"type\":\"ColumnDataSource\"},\"glyph\":{\"id\":\"1391\",\"type\":\"Wedge\"},\"hover_glyph\":null,\"muted_glyph\":null,\"nonselection_glyph\":{\"id\":\"1392\",\"type\":\"Wedge\"},\"selection_glyph\":null,\"view\":{\"id\":\"1394\",\"type\":\"CDSView\"}},\"id\":\"1393\",\"type\":\"GlyphRenderer\"},{\"attributes\":{},\"id\":\"1373\",\"type\":\"WheelZoomTool\"},{\"attributes\":{\"items\":[{\"id\":\"1402\",\"type\":\"LegendItem\"}]},\"id\":\"1401\",\"type\":\"Legend\"},{\"attributes\":{\"formatter\":{\"id\":\"1399\",\"type\":\"BasicTickFormatter\"},\"ticker\":{\"id\":\"1363\",\"type\":\"BasicTicker\"}},\"id\":\"1362\",\"type\":\"LinearAxis\"},{\"attributes\":{\"callback\":null,\"tooltips\":\"@node: @value\"},\"id\":\"1378\",\"type\":\"HoverTool\"},{\"attributes\":{\"bottom_units\":\"screen\",\"fill_alpha\":{\"value\":0.5},\"fill_color\":{\"value\":\"lightgrey\"},\"left_units\":\"screen\",\"level\":\"overlay\",\"line_alpha\":{\"value\":1.0},\"line_color\":{\"value\":\"black\"},\"line_dash\":[4,4],\"line_width\":{\"value\":2},\"render_mode\":\"css\",\"right_units\":\"screen\",\"top_units\":\"screen\"},\"id\":\"1400\",\"type\":\"BoxAnnotation\"},{\"attributes\":{\"callback\":null,\"start\":-0.5},\"id\":\"1354\",\"type\":\"Range1d\"},{\"attributes\":{},\"id\":\"1372\",\"type\":\"PanTool\"},{\"attributes\":{\"dimension\":1,\"ticker\":{\"id\":\"1368\",\"type\":\"BasicTicker\"}},\"id\":\"1371\",\"type\":\"Grid\"},{\"attributes\":{\"end_angle\":{\"expr\":{\"id\":\"1388\",\"type\":\"CumSum\"},\"units\":\"rad\"},\"fill_color\":{\"field\":\"color\"},\"line_color\":{\"value\":\"white\"},\"radius\":{\"units\":\"data\",\"value\":0.4},\"start_angle\":{\"expr\":{\"id\":\"1387\",\"type\":\"CumSum\"},\"units\":\"rad\"},\"x\":{\"value\":0},\"y\":{\"value\":1}},\"id\":\"1391\",\"type\":\"Wedge\"},{\"attributes\":{\"end_angle\":{\"expr\":{\"id\":\"1388\",\"type\":\"CumSum\"},\"units\":\"rad\"},\"fill_alpha\":{\"value\":0.1},\"fill_color\":{\"value\":\"#1f77b4\"},\"line_alpha\":{\"value\":0.1},\"line_color\":{\"value\":\"#1f77b4\"},\"radius\":{\"units\":\"data\",\"value\":0.4},\"start_angle\":{\"expr\":{\"id\":\"1387\",\"type\":\"CumSum\"},\"units\":\"rad\"},\"x\":{\"value\":0},\"y\":{\"value\":1}},\"id\":\"1392\",\"type\":\"Wedge\"},{\"attributes\":{\"formatter\":{\"id\":\"1397\",\"type\":\"BasicTickFormatter\"},\"ticker\":{\"id\":\"1368\",\"type\":\"BasicTicker\"}},\"id\":\"1367\",\"type\":\"LinearAxis\"},{\"attributes\":{},\"id\":\"1358\",\"type\":\"LinearScale\"},{\"attributes\":{\"callback\":null},\"id\":\"1356\",\"type\":\"DataRange1d\"},{\"attributes\":{\"source\":{\"id\":\"1389\",\"type\":\"ColumnDataSource\"}},\"id\":\"1394\",\"type\":\"CDSView\"},{\"attributes\":{\"callback\":null,\"data\":{\"angle\":{\"__ndarray__\":\"OX6mKNwn4T9xCWWnNODoP8o4vgFVK/A/5xX1lwI+AkDyi2K3itz6Pw==\",\"dtype\":\"float64\",\"shape\":[5]},\"color\":[\"#3182bd\",\"#6baed6\",\"#9ecae1\",\"#c6dbef\",\"#e6550d\"],\"index\":[0,1,2,3,4],\"node\":[\"a\",\"b\",\"c\",\"d\",\"e\"],\"value\":{\"__ndarray__\":\"2ttNy+PXtT/uSC9VQKy/P8ND2ntclsQ/u+OMpAo61z80sWYVvhnRPw==\",\"dtype\":\"float64\",\"shape\":[5]}},\"selected\":{\"id\":\"1435\",\"type\":\"Selection\"},\"selection_policy\":{\"id\":\"1434\",\"type\":\"UnionRenderers\"}},\"id\":\"1389\",\"type\":\"ColumnDataSource\"},{\"attributes\":{},\"id\":\"1360\",\"type\":\"LinearScale\"},{\"attributes\":{},\"id\":\"1399\",\"type\":\"BasicTickFormatter\"},{\"attributes\":{},\"id\":\"1368\",\"type\":\"BasicTicker\"},{\"attributes\":{},\"id\":\"1434\",\"type\":\"UnionRenderers\"},{\"attributes\":{},\"id\":\"1363\",\"type\":\"BasicTicker\"},{\"attributes\":{},\"id\":\"1435\",\"type\":\"Selection\"},{\"attributes\":{\"text\":\"Pie Chart\"},\"id\":\"1352\",\"type\":\"Title\"},{\"attributes\":{\"field\":\"angle\"},\"id\":\"1388\",\"type\":\"CumSum\"},{\"attributes\":{\"active_drag\":\"auto\",\"active_inspect\":\"auto\",\"active_multi\":null,\"active_scroll\":\"auto\",\"active_tap\":\"auto\",\"tools\":[{\"id\":\"1372\",\"type\":\"PanTool\"},{\"id\":\"1373\",\"type\":\"WheelZoomTool\"},{\"id\":\"1374\",\"type\":\"BoxZoomTool\"},{\"id\":\"1375\",\"type\":\"SaveTool\"},{\"id\":\"1376\",\"type\":\"ResetTool\"},{\"id\":\"1377\",\"type\":\"HelpTool\"},{\"id\":\"1378\",\"type\":\"HoverTool\"}]},\"id\":\"1379\",\"type\":\"Toolbar\"},{\"attributes\":{},\"id\":\"1377\",\"type\":\"HelpTool\"}],\"root_ids\":[\"1351\"]},\"title\":\"Bokeh Application\",\"version\":\"1.3.4\"}};\n",
       "  var render_items = [{\"docid\":\"8ce7f4cf-2dc7-47bb-a74d-feb6f30acfe0\",\"roots\":{\"1351\":\"4f5eb15c-17e2-4170-8008-3143d29214e2\"}}];\n",
       "  root.Bokeh.embed.embed_items_notebook(docs_json, render_items);\n",
       "\n",
       "  }\n",
       "  if (root.Bokeh !== undefined) {\n",
       "    embed_document(root);\n",
       "  } else {\n",
       "    var attempts = 0;\n",
       "    var timer = setInterval(function(root) {\n",
       "      if (root.Bokeh !== undefined) {\n",
       "        embed_document(root);\n",
       "        clearInterval(timer);\n",
       "      }\n",
       "      attempts++;\n",
       "      if (attempts > 100) {\n",
       "        console.log(\"Bokeh: ERROR: Unable to run BokehJS code because BokehJS library is missing\");\n",
       "        clearInterval(timer);\n",
       "      }\n",
       "    }, 10, root)\n",
       "  }\n",
       "})(window);"
      ],
      "application/vnd.bokehjs_exec.v0+json": ""
     },
     "metadata": {
      "application/vnd.bokehjs_exec.v0+json": {
       "id": "1351"
      }
     },
     "output_type": "display_data"
    }
   ],
   "source": [
    "# def bokeh_plot3(nodes,res):\n",
    "xdata = PR['Nodes']\n",
    "ydata = PR['Probs']\n",
    "x=dict(zip(xdata, ydata))\n",
    "data = pd.Series(x).reset_index(name='value').rename(columns={'index':'node'})\n",
    "\n",
    "data['angle'] = data['value'] / data['value'].sum() * 2 * math.pi\n",
    "data['color'] = Category20c[len(x)]\n",
    "\n",
    "p = figure(plot_height=350, title=\"Pie Chart\",tooltips=\"@node: @value\", x_range=(-0.5, 1.0))\n",
    "\n",
    "p.wedge(x=0, y=1, radius=0.4,\n",
    "        start_angle=cumsum('angle', include_zero=True), end_angle=cumsum('angle'),\n",
    "        line_color=\"white\", fill_color='color', legend='node', source=data)\n",
    "show(p)"
   ]
  }
 ],
 "metadata": {
  "kernelspec": {
   "display_name": "Python 3",
   "language": "python",
   "name": "python3"
  },
  "language_info": {
   "codemirror_mode": {
    "name": "ipython",
    "version": 3
   },
   "file_extension": ".py",
   "mimetype": "text/x-python",
   "name": "python",
   "nbconvert_exporter": "python",
   "pygments_lexer": "ipython3",
   "version": "3.7.4"
  }
 },
 "nbformat": 4,
 "nbformat_minor": 2
}
