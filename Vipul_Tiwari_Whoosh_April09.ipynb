{
 "cells": [
  {
   "cell_type": "markdown",
   "metadata": {},
   "source": [
    "# Whoosh\n",
    "\n",
    "## Introduction\n",
    "\n",
    "Whoosh is a fast, search library implemented in python. It is an alternative to pylucene and does not have the dependency on having Java installed. It allows indexing of structured or free-form data and then use simple or complex search queries to find matching documents. It can be used to add search functionality to applications and websites. Every part of how Whoosh works can be extended or replaced to meet your needs exactly. It is highly extensible allowing extending or replacing any part of the functionality including indexing, parsing of queries, and the fields stored in index.\n"
   ]
  },
  {
   "cell_type": "markdown",
   "metadata": {},
   "source": [
    "## Indexing\n",
    "\n",
    "### Schema\n",
    "\n",
    "To create an index with the whoosh, the first step is to define the schema of the index. The schema is used to define the fields in the index. A field is a piece of information for each document in the index, such as its title or text content. Fields can either be indexed, implying their value will be searched or stored meaning value will be returned with the results but not searched. Whoosh has several predefined field types including TEXT (indexed), STORED (stored but not indexed), KEYWORD, ID, NUMERIC, DATETIME and BOOLEAN. "
   ]
  },
  {
   "cell_type": "code",
   "execution_count": 14,
   "metadata": {},
   "outputs": [],
   "source": [
    "from whoosh.fields import Schema, TEXT, KEYWORD, ID, STORED, NUMERIC\n",
    "from whoosh.analysis import StemmingAnalyzer\n",
    "\n",
    "schema = Schema(source=STORED,\n",
    "                rating=NUMERIC,\n",
    "                year=NUMERIC,\n",
    "                title=ID(stored=True),\n",
    "                moviereview=TEXT(stored=True, analyzer=StemmingAnalyzer())\n",
    "               )"
   ]
  },
  {
   "cell_type": "markdown",
   "metadata": {},
   "source": [
    "### Creating an index\n",
    "Once the schema has been defined, the next step is to use the schema to define the index. This can be done using the index.create_in method. The schema used to create the index is also stored with the index. Once the index is created, an indexwwriter can be used to add documents to the index. The indexwriter can be obtained by using the writer method on the index"
   ]
  },
  {
   "cell_type": "code",
   "execution_count": null,
   "metadata": {},
   "outputs": [],
   "source": [
    "import os\n",
    "from whoosh import index\n",
    "\n",
    "if not os.path.exists(\"indexdirectory\"):\n",
    "    os.mkdir(\"indexdirectory\")\n",
    "\n",
    "from whoosh.filedb.filestore import FileStorage\n",
    "storage = FileStorage(\"indexdirectory\")\n",
    "\n",
    "# Create an index\n",
    "ix = storage.create_index(schema)\n",
    "\n",
    "# Obtaining a writer for the index\n",
    "ix = index.open_dir(\"indexdirectory\")\n",
    "writer = ix.writer()"
   ]
  },
  {
   "cell_type": "markdown",
   "metadata": {},
   "source": [
    "### Adding documents to the schema\n",
    "Once the writer for the index is obtained, new documents can be added to the writer by using the add_document method. The documents might use a subset of the available fields in the schema or they may use all the fields available"
   ]
  },
  {
   "cell_type": "code",
   "execution_count": 16,
   "metadata": {},
   "outputs": [],
   "source": [
    "# Loading the data\n",
    "import urllib, json\n",
    "\n",
    "with urllib.request.urlopen('https://raw.githubusercontent.com/lukhnos/lucenestudy/master/sample/acl-imdb-subset.json') as url:\n",
    "    data = json.loads(url.read().decode())\n",
    "    for review in data:\n",
    "        writer.add_document(source=review[\"source\"], rating=int(review[\"rating\"]), year=int(review[\"year\"]),\n",
    "                            title=review[\"title\"], moviereview=review[\"review\"])\n",
    "    writer.commit()"
   ]
  },
  {
   "cell_type": "markdown",
   "metadata": {},
   "source": [
    "## Searching"
   ]
  },
  {
   "cell_type": "markdown",
   "metadata": {},
   "source": [
    "### QueryParser\n",
    "The query parser is used to parse queries into query objects (whoosh.query module), using a parsing language similar to that of lucene. The parser takes in the field which needs to be searched and the schema of the index. After that, the parse method can be used for parsing queries.\n",
    "\n",
    "If the user specifies multiple words without specifying \"AND\" or \"OR\" clauses, the parser treats the words as if they were connected with AND, the user can explicitly specify the \"OR\" clause to match documents where either of the word is present"
   ]
  },
  {
   "cell_type": "code",
   "execution_count": 32,
   "metadata": {},
   "outputs": [
    {
     "name": "stdout",
     "output_type": "stream",
     "text": [
      "Single word query -  moviereview:war\n",
      "Multiple word query -  (moviereview:crime AND moviereview:action)\n",
      "Multiple word query explicitly connected with AND -  (moviereview:crime AND moviereview:action)\n",
      "Multiple word query connected with OR -  (moviereview:crime OR moviereview:action)\n"
     ]
    }
   ],
   "source": [
    "from whoosh.qparser import QueryParser\n",
    "\n",
    "parser = QueryParser(\"moviereview\", schema=ix.schema)\n",
    "\n",
    "q = parser.parse(\"war\")\n",
    "print(\"Single word query - \", q)\n",
    "\n",
    "# Query with multiple words\n",
    "q2 = parser.parse(\"crime action\")\n",
    "print(\"Multiple word query - \", q2)\n",
    "\n",
    "# Query with multiple words, explicit AND\n",
    "q3 = parser.parse(\"crime AND action\")\n",
    "print(\"Multiple word query explicitly connected with AND - \", q3)\n",
    "\n",
    "# Query with multiple words, with OR \n",
    "q4 = parser.parse(\"crime OR action\")\n",
    "print(\"Multiple word query connected with OR - \", q4)"
   ]
  },
  {
   "cell_type": "markdown",
   "metadata": {},
   "source": [
    "The query module provides additional functions which can be used to modify query parsing functionality or the query language syntax. Some of the functionalities available are -\n",
    "- **whoosh.qparser.MultifieldParser()** allows users to search for multiple fields in the index instead of a single field.\n",
    "- **whoosh.qparser.FuzzyTermPlugin** can be added to the queries to search for fuzzy terms, which can be used for catching misspellings and similar words. The fuzzy term will match any similar term within a certain number of “edits”\n",
    "- **Phrase Querying** - The default query parser also supports phrase queries, when multiple word queries are used. The parser tokenizes the text between the quotes and searches for these terms in close proximity.\n"
   ]
  },
  {
   "cell_type": "code",
   "execution_count": 59,
   "metadata": {},
   "outputs": [
    {
     "name": "stdout",
     "output_type": "stream",
     "text": [
      "Multiple field query -  (title:war OR moviereview:war) \n",
      "\n",
      "Fuzzy Term Query  moviereview:apocalyp~\n",
      "<Hit {'moviereview': \"Breathtaking at it's best, intriguing at it's worst, Francis Ford Coppala's groundbreaking epic 'Apocalypse Now' is one of the most iconic and celebrated motion pictures of the 20th century, and in my opinion, the greatest ever film depiction centered around America's involvement in Vietnam.\\n\\nWhat I like most about 'Apocalypse Now' is that it is uniquely different from any other films of the same genre. Growing up as movie buff, and with a particular interest in war films, I've seen many films, which have attempted to portray the 'images' and 'feelings' of Vietnam but have been unsuccessful in doing so. Films such as 'Hamburger Hill' and 'We were soldiers' fall into the category of trying to capture the atmosphere of Vietnam by depicting 'heroic battles' which are, more often than not, tainted by the zeal of Hollywood film production.\\n\\nIn 'Apocalypse now' there are no battles, no heroes or villains, there is nothing in the film that suggests that it is intended to reflect the imagery of Vietnam through the physical aspects of war. Rather, it is a film, which powerfully investigates and explores the human psyche when it has been tormented by the absolute 'horror' of what was the darkest military conflict of the previous century.\\n\\nThe sheer brilliance of the acting (in particular the interpretation of taciturn Captain Willard by Martin Sheen), along with the spectacular cinematography (filmed in the Phillipines), which provides crucial realism to the backdrop of the film, makes 'Apocalypse Now' an unforgettable epic.\\n\\nEvoking a myriad of emotions and leaving us with a maelstrom of mediation, 'Apocalypse now' is not for the light-hearted moviegoer. It is masterpiece that demands multiple viewings to be fully appreciated.\", 'source': 'http://www.imdb.com/title/tt0078788/usercomments', 'title': 'Apocalypse Now'}> \n",
      "\n",
      "Phrase Query  (moviereview:attack AND moviereview:fifti AND moviereview:foot AND moviereview:woman)\n",
      "<Hit {'moviereview': 'After \"Attack of the Fifty Foot Woman\" with Alison Hayes opened the doors for women to be just as dangerous as men, there was obviously an open market for other movies to pick up and carry the torch and what more a lovely actress than Dorothy Provine from \"It\\'s A Mad, Mad, Mad, Mad World\" to play the role. The downsize is that cute and blonde Provine may just be too sweet and innocent looking to step into Allison Hayes\\' size 50 shoes. This role really needed someone with an amount of smoldering sex appeal; Provine is more the girl next door type. She may have taken and done this role to prove she could be sexy, but the material lets her down. Lou Costello, however, proves he can do a movie without Bud Abbott feeding him lines and he even interjects a dramatic role in some of his scenes when he not turning to Gale Gordon as his front man for gags. Gordon, however, establishes that all he can be is blustery, perturbed and pushy, much the same character he creates later on \"The Lucy Show.\" Charles Lane also plays the same role in everything he does: a straight man, and his screen time is limited. The special effects are convincing for the time, but I would have liked Dorothy to have been a little more than cheesecake and dressing and at least have been allowed to become dangerous. As the movie\\'s lead character, she takes second billing to Costello who is in all of the movie with Dorothy several times vanishing like a sub-plot. The whole movie put together just can\\'t decide if it\\'s supposed to be science fiction, a comedy or just a parody of the Allison Hayes classic. There\\'s a lot of good scenes, some very funny humor and some very ridiculous camp that affects the rest of the film. Still, I do like this movie for it\\'s empowerment of women; there\\'s not enough movies out there like this one. If this movie had a chance to be remade today, I\\'d highly recommend Courtney Cox and Jason Alexander in the lead roles and allow me to completely re-write the original script. Courtney tops my lists of actresses who I believe could and should adequately play gorgeous giantesses; although, I have to admit that if either of the titanic beauties Allison or Dorothy came after me, I\\'d go quietly !!', 'source': 'http://www.imdb.com/title/tt0052529/usercomments', 'title': 'The 30 Foot Bride of Candy Rock'}> \n",
      "\n"
     ]
    }
   ],
   "source": [
    "#Multiple field query\n",
    "from whoosh.qparser import MultifieldParser\n",
    "\n",
    "mparser = MultifieldParser([\"title\", \"moviereview\"], schema=ix.schema)\n",
    "multifieldQuery = mparser.parse(\"war\")\n",
    "print(\"Multiple field query - \", multifieldQuery, '\\n')\n",
    "\n",
    "#Fuzzy queries\n",
    "fuzzyparser = whoosh.qparser.QueryParser(\"moviereview\", schema=ix.schema)\n",
    "fuzzyparser.add_plugin(whoosh.qparser.FuzzyTermPlugin()) #Add fuzzy term plugin to parser\n",
    "fuzzyquery = fuzzyparser.parse(\"apocalyps~\")\n",
    "print(\"Fuzzy Term Query \", fuzzyquery)\n",
    "\n",
    "with ix.searcher() as searcher:\n",
    "    results = searcher.search(fuzzyquery)\n",
    "    print(results[0], '\\n') # Searching for apocalyps~\n",
    "    \n",
    "#Phrase Query\n",
    "phraseQuery = parser.parse(\"Attack of the Fifty Foot Woman\")\n",
    "print(\"Phrase Query \", phraseQuery)\n",
    "with ix.searcher() as searcher:\n",
    "    results = searcher.search(phraseQuery)\n",
    "    print(results[0], '\\n')\n"
   ]
  },
  {
   "cell_type": "markdown",
   "metadata": {},
   "source": [
    "### Searcher\n",
    "Once the index is created, we can search for the documents by issuing queries to it. The library provides a searcher object for issuing queries to the index and obtaining results. The searcher object also provides additional information about the index, such as the document count in the index, the document numbers that can be used for deleting, updating documents later, the postings list present etc.\n",
    "\n",
    "The main method to search for queries is the search() method which takes a query and returns a list of results. The number of results returned by the searcher can be changed by passing a limit parameter to the search method to speed up the query. The searcher also includes a **search_page** method that allows getting the results page by page. The default page length is 10 hits. You can use the pagelen keyword argument to set a different page length."
   ]
  },
  {
   "cell_type": "code",
   "execution_count": 73,
   "metadata": {},
   "outputs": [
    {
     "name": "stdout",
     "output_type": "stream",
     "text": [
      "Documents in index -  1000 \n",
      "\n",
      "Number of matches found -  109\n",
      "<Hit {'moviereview': \"I have so much hope for the sequel to Gen-X. Luckily, my hopes have came true. You got a whole bunch of action, comedy...silly comedy, and surprises. I think the newcomer Edison, is really a hit in the movie, but I really find Sam's 'Alien' stupidly annoying with English. Although the movie had some flaws with the robot graphics and the silly dialogue, the action always keeps it strong. The action set-up is much stronger than the 1st.\\n\\nThis movie is getting more of an American feel since 60% of the movie is in English from the Cantonese. This movie will not disappoint you. I recommended this for young 'uns that care about pure action-packed fun.\\n\\n\", 'source': 'http://www.imdb.com/title/tt0251094/usercomments', 'title': 'Te jing xin ren lei 2'}> \n",
      "\n",
      "Page 1 top result\n",
      "<Hit {'moviereview': \"I have so much hope for the sequel to Gen-X. Luckily, my hopes have came true. You got a whole bunch of action, comedy...silly comedy, and surprises. I think the newcomer Edison, is really a hit in the movie, but I really find Sam's 'Alien' stupidly annoying with English. Although the movie had some flaws with the robot graphics and the silly dialogue, the action always keeps it strong. The action set-up is much stronger than the 1st.\\n\\nThis movie is getting more of an American feel since 60% of the movie is in English from the Cantonese. This movie will not disappoint you. I recommended this for young 'uns that care about pure action-packed fun.\\n\\n\", 'source': 'http://www.imdb.com/title/tt0251094/usercomments', 'title': 'Te jing xin ren lei 2'}> \n",
      "\n",
      "Page 2 top result\n",
      "<Hit {'moviereview': 'Southern Cross, written and directed by James Becket is a waste of good celluloid and actor\\'s efforts. A formula film is not necessarily bad if it pays off on it\\'s promise, which this film does not. It is a tiresome concoction of movie cliches that can be traced to a thousand different films from the past. It is full of random and empty plot twists that add nothing but aimless action, such as a trip by the protagonists to a ghost town where the villains (unexplainedly) follow them. This was obviously concocted as an excuse for a shoot out and escape scene bordering on the preposterous, with people popping in and out of doorways and running past windows while firing pistols at each other. It makes one believe that somebody told Becket there was a ghost town in the Chilean foothills and he said, \"Oh great, lets do a shoot out scene there.\"\\n\\nDon\\'t even waste your rental money on this. It is a bunch of random bits and pieces from a hundred different films thrown together to call an action drama.', 'source': 'http://www.imdb.com/title/tt0084459/usercomments', 'title': \"P'tang, Yang, Kipperbang.\"}> \n",
      "\n"
     ]
    }
   ],
   "source": [
    "with ix.searcher() as searcher:\n",
    "    q = parser.parse(\"action\")\n",
    "    docCount = searcher.doc_count()\n",
    "    print(\"Documents in index - \", docCount, '\\n')\n",
    "    results = searcher.search(q)\n",
    "    print('Number of matches found - ', len(results))\n",
    "    print(results[0], '\\n')\n",
    "    \n",
    "    # Searching by page \n",
    "    resultsPage1 = searcher.search_page(q,1)\n",
    "    print(\"Page 1 top result\")\n",
    "    print(resultsPage1[0], '\\n')\n",
    "    resultsPage2 = searcher.search_page(q,2)\n",
    "    print(\"Page 2 top result\")\n",
    "    print(resultsPage2[0], '\\n')\n",
    "    "
   ]
  },
  {
   "cell_type": "markdown",
   "metadata": {},
   "source": [
    "### Results\n",
    "The results object that is returned by the search method can be used to access the stored fields of the document to display to the user. The default number of results is bounded by an upper limit so the number of results could be less than the matching documents. However, running len(results) runs a fast version of the query again to find the total number of matching documents"
   ]
  },
  {
   "cell_type": "code",
   "execution_count": 85,
   "metadata": {},
   "outputs": [
    {
     "name": "stdout",
     "output_type": "stream",
     "text": [
      "((title:apocalypse OR moviereview:apocalyps) AND (title:now OR moviereview:now)) \n",
      "\n",
      "Movie title -  Apocalypse Now \n",
      "\n",
      "Movie Review -  Breathtaking at it's best, intriguing at it's worst, Francis Ford Coppala's groundbreaking epic 'Apocalypse Now' is one of the most iconic and celebrated motion pictures of the 20th century, and in my opinion, the greatest ever film depiction centered around America's involvement in Vietnam.\n",
      "\n",
      "What I like most about 'Apocalypse Now' is that it is uniquely different from any other films of the same genre. Growing up as movie buff, and with a particular interest in war films, I've seen many films, which have attempted to portray the 'images' and 'feelings' of Vietnam but have been unsuccessful in doing so. Films such as 'Hamburger Hill' and 'We were soldiers' fall into the category of trying to capture the atmosphere of Vietnam by depicting 'heroic battles' which are, more often than not, tainted by the zeal of Hollywood film production.\n",
      "\n",
      "In 'Apocalypse now' there are no battles, no heroes or villains, there is nothing in the film that suggests that it is intended to reflect the imagery of Vietnam through the physical aspects of war. Rather, it is a film, which powerfully investigates and explores the human psyche when it has been tormented by the absolute 'horror' of what was the darkest military conflict of the previous century.\n",
      "\n",
      "The sheer brilliance of the acting (in particular the interpretation of taciturn Captain Willard by Martin Sheen), along with the spectacular cinematography (filmed in the Phillipines), which provides crucial realism to the backdrop of the film, makes 'Apocalypse Now' an unforgettable epic.\n",
      "\n",
      "Evoking a myriad of emotions and leaving us with a maelstrom of mediation, 'Apocalypse now' is not for the light-hearted moviegoer. It is masterpiece that demands multiple viewings to be fully appreciated. \n",
      "\n"
     ]
    }
   ],
   "source": [
    "with ix.searcher() as searcher:\n",
    "    q = mparser.parse(\"apocalypse now\")\n",
    "    print(q,  '\\n')\n",
    "    results = searcher.search(q)\n",
    "    topResult = results[0]\n",
    "    print(\"Movie title - \", topResult[\"title\"], '\\n')\n",
    "    print(\"Movie Review - \", topResult[\"moviereview\"], '\\n')\n"
   ]
  },
  {
   "cell_type": "markdown",
   "metadata": {},
   "source": [
    "### Scoring\n",
    "The list of returned results is sorted by the score of the documents against the query. The default scoring algorithm used is **BM25**. The **whoosh.scoring** module contains various scoring algorithms that can be set while creating the searcher object to change the scoring behavior"
   ]
  },
  {
   "cell_type": "code",
   "execution_count": 87,
   "metadata": {},
   "outputs": [
    {
     "name": "stdout",
     "output_type": "stream",
     "text": [
      "<Hit {'moviereview': \"Breathtaking at it's best, intriguing at it's worst, Francis Ford Coppala's groundbreaking epic 'Apocalypse Now' is one of the most iconic and celebrated motion pictures of the 20th century, and in my opinion, the greatest ever film depiction centered around America's involvement in Vietnam.\\n\\nWhat I like most about 'Apocalypse Now' is that it is uniquely different from any other films of the same genre. Growing up as movie buff, and with a particular interest in war films, I've seen many films, which have attempted to portray the 'images' and 'feelings' of Vietnam but have been unsuccessful in doing so. Films such as 'Hamburger Hill' and 'We were soldiers' fall into the category of trying to capture the atmosphere of Vietnam by depicting 'heroic battles' which are, more often than not, tainted by the zeal of Hollywood film production.\\n\\nIn 'Apocalypse now' there are no battles, no heroes or villains, there is nothing in the film that suggests that it is intended to reflect the imagery of Vietnam through the physical aspects of war. Rather, it is a film, which powerfully investigates and explores the human psyche when it has been tormented by the absolute 'horror' of what was the darkest military conflict of the previous century.\\n\\nThe sheer brilliance of the acting (in particular the interpretation of taciturn Captain Willard by Martin Sheen), along with the spectacular cinematography (filmed in the Phillipines), which provides crucial realism to the backdrop of the film, makes 'Apocalypse Now' an unforgettable epic.\\n\\nEvoking a myriad of emotions and leaving us with a maelstrom of mediation, 'Apocalypse now' is not for the light-hearted moviegoer. It is masterpiece that demands multiple viewings to be fully appreciated.\", 'source': 'http://www.imdb.com/title/tt0078788/usercomments', 'title': 'Apocalypse Now'}>\n"
     ]
    }
   ],
   "source": [
    "from whoosh import scoring\n",
    "\n",
    "# Change scoring to TF_IDF\n",
    "with ix.searcher(weighting=scoring.TF_IDF()) as searcher:\n",
    "    q = mparser.parse(\"apocalypse now\")\n",
    "    results = searcher.search(q)\n",
    "    print(results[0])"
   ]
  },
  {
   "cell_type": "markdown",
   "metadata": {},
   "source": [
    "### Highlighting\n",
    "The **highlights** method on the whoosh.searching.hit object can be used to get highlighted text from the document containing the search term. It takes an argument, which is the field name to be displayed."
   ]
  },
  {
   "cell_type": "code",
   "execution_count": 118,
   "metadata": {},
   "outputs": [
    {
     "data": {
      "text/html": [
       "groundbreaking epic '<b class=\"match term0\">Apocalypse</b> <b class=\"match term1\">Now</b>' is one of the most iconic...film production.\n",
       "\n",
       "In '<b class=\"match term0\">Apocalypse</b> <b class=\"match term2\">now</b>' there are no battles...of the film, makes '<b class=\"match term0\">Apocalypse</b> <b class=\"match term1\">Now</b>' an unforgettable epic"
      ],
      "text/plain": [
       "<IPython.core.display.HTML object>"
      ]
     },
     "metadata": {},
     "output_type": "display_data"
    },
    {
     "data": {
      "text/html": [
       "silly dialogue, the <b class=\"match term0\">action</b> always keeps it strong...The <b class=\"match term0\">action</b> set-up is much stronger...that care about pure <b class=\"match term0\">action</b>-packed fun"
      ],
      "text/plain": [
       "<IPython.core.display.HTML object>"
      ]
     },
     "metadata": {},
     "output_type": "display_data"
    }
   ],
   "source": [
    "from IPython.core.display import display, HTML\n",
    "with ix.searcher() as searcher:\n",
    "    results = searcher.search(q)\n",
    "    display(HTML(results[0].highlights(\"moviereview\")))\n",
    "        \n",
    "    actionQuery = mparser.parse(\"action\")    \n",
    "    results = searcher.search(actionQuery)\n",
    "    display(HTML(results[0].highlights(\"moviereview\")))\n"
   ]
  },
  {
   "cell_type": "markdown",
   "metadata": {},
   "source": [
    "### Correction\n",
    "Whoosh also has the capability to suggest corrections for mistyped words. It does this by returning words from the index that are close to the mis-typed word. The **whoosh.spelling.Corrector.suggest()** method can be used for this. The suggestions can be done using the indexed words, which causes the suggestions to be tailored to the content of the documents. Another way of suggestions is to use a fixed word list to search for suggestions"
   ]
  },
  {
   "cell_type": "code",
   "execution_count": 126,
   "metadata": {},
   "outputs": [
    {
     "name": "stdout",
     "output_type": "stream",
     "text": [
      "docter  ->  ['doctor']\n",
      "bugdet  ->  ['budget']\n",
      "posiedon  ->  ['poseidon']\n"
     ]
    }
   ],
   "source": [
    "# Create a corrector from field moviereview\n",
    "with ix.searcher() as searcher:\n",
    "    corrector = searcher.corrector(\"moviereview\")\n",
    "    mistyped_words = [\"docter\", \"bugdet\", \"posiedon\"]\n",
    "    for word in mistyped_words:\n",
    "        print(word, \" -> \",corrector.suggest(word, limit=1))"
   ]
  },
  {
   "cell_type": "markdown",
   "metadata": {},
   "source": [
    "## Summary\n",
    "- Whoosh provides a pure python search library that can be used to add search functionalities to application.\n",
    "- Whoosh can be used as an alternative to pylucene when possible providing better integration, avoiding external dependency on Java and JVM, and faster customization if code modifications are required to add additional functionalities.\n",
    "- Whoosh provides a wide list of features for searching and indexing, including word corrections, fuzzy-term queries, phrase-queries, highlighting queried text etc.\n",
    "- Whoosh is highly customizable, allowing easily extending or replacing query parsing, scoring, indexing with custom implementations.\n",
    "- On the downside, the pure python nature does add a performance overhead compared to other libraries. Also pylucene is built on lucene which has a wide developer community and a richer feature list than whoosh."
   ]
  },
  {
   "cell_type": "markdown",
   "metadata": {},
   "source": [
    "## References\n",
    "- [Whoosh Docs](https://whoosh.readthedocs.io/en/latest)\n",
    "- [Data for indexing](https://github.com/lukhnos/lucenestudy)\n",
    "- [Whoosh example](https://appliedmachinelearning.blog/2018/07/31/developing-a-fast-indexing-and-full-text-search-engine-with-whoosh-a-pure-python-library/)"
   ]
  }
 ],
 "metadata": {
  "kernelspec": {
   "display_name": "Python 3",
   "language": "python",
   "name": "python3"
  },
  "language_info": {
   "codemirror_mode": {
    "name": "ipython",
    "version": 3
   },
   "file_extension": ".py",
   "mimetype": "text/x-python",
   "name": "python",
   "nbconvert_exporter": "python",
   "pygments_lexer": "ipython3",
   "version": "3.7.6"
  }
 },
 "nbformat": 4,
 "nbformat_minor": 2
}
