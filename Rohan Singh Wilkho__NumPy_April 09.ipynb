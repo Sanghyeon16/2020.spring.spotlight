{
 "cells": [
  {
   "cell_type": "markdown",
   "metadata": {},
   "source": [
    "# NumPy\n",
    "#### *Basic Features and Advantages over Python Lists*\n",
    "\n",
    "\n",
    "## Introduction\n",
    "\n",
    "NumPy is the fundamental library for scientific computing in the Python Programming Language, which provides efficient operations on multi-dimensional arrays of homogeneous data. NumPy was created by Travis Oliphant by incorporating features of two (now deprecated) packages - *Numeric* and *Numarray* in 2005. Python was not originally designed for numeric computing, but it attracted the attention of the scientific and numeric community early. This led to the implementation of *Numeric* in around 1995. As a replacement for *Numeric*, *Numarray* was written. It was faster than Numeric for large arrays, however slower for small arrays. *NumPy* was created to have a single package features of both *Numeric* and *Numarray*. \n",
    "\n",
    "This spotlight is divided into the following sections: \n",
    "1. **Basic features of NumPy** (built-in functions) and \n",
    "2. A discussion on the **advantages of Numpy over Python's built-in list data structure**"
   ]
  },
  {
   "cell_type": "markdown",
   "metadata": {},
   "source": [
    "## 1. Basic Features of NumPy\n",
    "\n",
    "Following are some of the basic features provided by NumPy:\n",
    "\n",
    "    i. a powerful N-dimensional array object\n",
    "    ii. sophisticated (broadcasting) functions\n",
    "    iii.. tools for integrating C,C++ and Fortran code\n",
    "    iv. useful linear algebra, Fourier transform, and random number capabilities, etc."
   ]
  },
  {
   "cell_type": "markdown",
   "metadata": {},
   "source": [
    "### 1 (i) : The N-dimensional array (ndarray)\n",
    "\n",
    "An ndarray is a multidimensional container of items of same type and size. The number of dimensions and items in an array are defined by its shape. The contents of an ndarray can be accessed and modified by indexing or slicing the array and using the methods and attributes of the ndarray.\n",
    "\n",
    "An ndarray object has many methods which operate on or with the array in some fashion, typically returning an array result. "
   ]
  },
  {
   "cell_type": "markdown",
   "metadata": {},
   "source": [
    "#### 1 (i) a : Array Conversion\n",
    "\n",
    "Here, I have explained two methods in the ndarray object which aid in array conversion: \n",
    "\n",
    "    -> tolist(): this method takes a n-dimensional array and returns a nested list with each row as a list\n",
    "    -> fill(value): this method replaces all the elemnts of the array with the scalar-value.\n",
    "    \n",
    "You may find the examples below:"
   ]
  },
  {
   "cell_type": "code",
   "execution_count": 26,
   "metadata": {},
   "outputs": [
    {
     "name": "stdout",
     "output_type": "stream",
     "text": [
      "input\n",
      "[[1 2]\n",
      " [3 4]\n",
      " [5 6]]\n",
      "tolist\n",
      "[[1, 2], [3, 4], [5, 6]]\n",
      "\n",
      "input\n",
      "[[1 2]\n",
      " [3 4]\n",
      " [5 6]]\n",
      "fill\n",
      "[[1 1]\n",
      " [1 1]\n",
      " [1 1]]\n"
     ]
    }
   ],
   "source": [
    "import numpy as np\n",
    "# tolist()\n",
    "a = np.array([[1,2],[3,4],[5,6]]) # a 3 dimensional array\n",
    "print('input')\n",
    "print(a)\n",
    "print('tolist')\n",
    "print(a.tolist()) # nested list continaing 3 lists\n",
    "\n",
    "print()\n",
    "\n",
    "#fill (value)\n",
    "a = np.array([[1,2],[3,4],[5,6]])\n",
    "print('input')\n",
    "print(a)\n",
    "a.fill(1) # replaces all the elements with 1\n",
    "print('fill')\n",
    "print(a)"
   ]
  },
  {
   "cell_type": "markdown",
   "metadata": {},
   "source": [
    "#### 1 (i) b : Shape Manipulation\n",
    "\n",
    "For reshape, resize, and transpose, the single tuple argument may be replaced with n integers which will be interpreted as an n-tuple.:\n",
    "\n",
    "    -> reshape(shape[, order]): this method returns an array containing the same data as the input array with a new shape\n",
    "    -> transpose(*axes): this method returns a view of the input array with axes transposed."
   ]
  },
  {
   "cell_type": "code",
   "execution_count": 46,
   "metadata": {},
   "outputs": [
    {
     "name": "stdout",
     "output_type": "stream",
     "text": [
      "input\n",
      "[[1 2]\n",
      " [3 4]\n",
      " [5 6]]\n",
      "reshape\n",
      "[[1 2]\n",
      " [3 4]\n",
      " [5 6]]\n",
      "\n",
      "input\n",
      "[[1 2]\n",
      " [3 4]\n",
      " [5 6]]\n",
      "transpose\n",
      "[[1 3 5]\n",
      " [2 4 6]]\n"
     ]
    }
   ],
   "source": [
    "# reshape(shape[, order])\n",
    "a = np.array([[1,2],[3,4],[5,6]])\n",
    "print('input')\n",
    "print(a)\n",
    "a.reshape(2,3) #reshaping 3x2 array to 2x3\n",
    "print('reshape')\n",
    "print(a)\n",
    "\n",
    "print()\n",
    "\n",
    "# transpose(*axes)\n",
    "a = np.array([[1,2],[3,4],[5,6]])\n",
    "print('input')\n",
    "print(a)\n",
    "print('transpose')\n",
    "print(a.transpose(1,0))"
   ]
  },
  {
   "cell_type": "markdown",
   "metadata": {},
   "source": [
    "#### 1 (i) c : Calculation\n",
    "\n",
    "The ndarray object provides several methods for faster calculation of array elements, such as *matmul* for matrix multiplication. It returns the product of two matrices. "
   ]
  },
  {
   "cell_type": "code",
   "execution_count": 28,
   "metadata": {},
   "outputs": [
    {
     "data": {
      "text/plain": [
       "array([[19, 22],\n",
       "       [43, 50]])"
      ]
     },
     "execution_count": 28,
     "metadata": {},
     "output_type": "execute_result"
    }
   ],
   "source": [
    "# matmul\n",
    "a = np.array([[1,2],[3,4]])\n",
    "b = np.array([[5,6],[7,8]])\n",
    "np.matmul(a,b) # product of a and b"
   ]
  },
  {
   "cell_type": "markdown",
   "metadata": {},
   "source": [
    "I have mentioned very few methods here of the ndarray object. You may find a detailed list at https://docs.scipy.org/doc/numpy/reference/arrays.ndarray.html"
   ]
  },
  {
   "cell_type": "markdown",
   "metadata": {},
   "source": [
    "### 1 (ii) : Sophisticated Broadcasting Functions\n",
    "\n",
    "The term broadcasting describes how numpy treats arrays with different shapes during arithmetic operations. Subject to certain constraints, the smaller array is “broadcast” across the larger array so that they have compatible shapes. Broadcasting provides a means of vectorizing array operations so that looping occurs in C instead of Python. It does this without making needless copies of data and usually leads to efficient algorithm implementations. There are, however, cases where broadcasting is a bad idea because it leads to inefficient use of memory that slows computation.\n",
    "\n",
    "NumPy operations are usually done on pairs of arrays on an element-by-element basis. You would find two cases below:\n",
    "\n",
    "    i.The two arrays have exactly the same shape\n",
    "    ii. Array and a scalar are combined"
   ]
  },
  {
   "cell_type": "code",
   "execution_count": 86,
   "metadata": {},
   "outputs": [
    {
     "name": "stdout",
     "output_type": "stream",
     "text": [
      "Case I (arrays of same size):\n",
      "[[ 7 16]\n",
      " [27 40]\n",
      " [55 72]]\n",
      "\n",
      "Case II (array and scalar combined):\n",
      "[[ 2.  4.]\n",
      " [ 6.  8.]\n",
      " [10. 12.]]\n"
     ]
    }
   ],
   "source": [
    "# Case I\n",
    "a = np.array([[1,2],[3,4],[5,6]])\n",
    "b = np.array([[7,8],[9,10],[11,12]])\n",
    "print('Case I (arrays of same size):')\n",
    "print(a*b)\n",
    "\n",
    "print()\n",
    "\n",
    "# Case II\n",
    "a = np.array([[1,2],[3,4],[5,6]])\n",
    "print('Case II (array and scalar combined):')\n",
    "print(a*2.0)"
   ]
  },
  {
   "cell_type": "markdown",
   "metadata": {},
   "source": [
    "**General Broadcasting Rules:** When operating on two arrays, NumPy compares their shapes element-wise. It starts with the trailing dimensions, and works its way forward. Two dimensions are compatible when\n",
    "\n",
    "    i. they are equal, or\n",
    "    ii. one of them is 1\n",
    "\n",
    "If these conditions are not met, a *ValueError: frames are not aligned* exception is thrown, indicating that the arrays have incompatible shapes. The size of the resulting array is the maximum size along each dimension of the input arrays.\n",
    "\n",
    "Arrays do not need to have the same number of dimensions. For example, if we have a 256x256x3 array of RGB values, and we want to scale each color in the image by a different value, we can multiply the image by a one-dimensional array with 3 values.\n",
    "\n",
    "When either of the dimensions compared is one, the other is used. In other words, dimensions with size 1 are stretched or “copied” to match the other.\n",
    "\n",
    "An example of broadcasting in practice:"
   ]
  },
  {
   "cell_type": "code",
   "execution_count": 34,
   "metadata": {},
   "outputs": [
    {
     "name": "stdout",
     "output_type": "stream",
     "text": [
      "(4, 5)\n",
      "[[1. 1. 1. 1. 1.]\n",
      " [2. 2. 2. 2. 2.]\n",
      " [3. 3. 3. 3. 3.]\n",
      " [4. 4. 4. 4. 4.]]\n",
      "\n",
      "(3, 4)\n",
      "[[1. 2. 3. 4.]\n",
      " [1. 2. 3. 4.]\n",
      " [1. 2. 3. 4.]]\n"
     ]
    }
   ],
   "source": [
    "x = np.arange(4)\n",
    "xx = x.reshape(4,1)\n",
    "y = np.ones(5)\n",
    "z = np.ones((3,4))\n",
    "\n",
    "x.shape # returns (4,)\n",
    "y.shape # returns (5,)\n",
    "#x + y  returns <type 'exceptions.ValueError'>: shape mismatch: objects cannot be broadcast to a single shape\n",
    "\n",
    "xx.shape # returns (4,1)\n",
    "y.shape # returns (5,)\n",
    "print((xx+y).shape) # returns (4,5)\n",
    "print(xx + y) # does not return error\n",
    "\n",
    "print()\n",
    "\n",
    "x.shape # returns (4,)\n",
    "z.shape # returns (3,4)\n",
    "print((x+z).shape) # returns (3,4)\n",
    "print(x + z) # does not return error"
   ]
  },
  {
   "cell_type": "markdown",
   "metadata": {},
   "source": [
    "### 1 (iii) Tools for integrating C/C++ and Fortran Code\n",
    "\n",
    "The numpy package provides extension modules like f2py, cython, ctypes, for integrating Fortran, C++ and C codes in Python. For more details: https://docs.scipy.org/doc/numpy/reference/routines.fft.html"
   ]
  },
  {
   "cell_type": "markdown",
   "metadata": {},
   "source": [
    "### 1 (iv) Useful linear algebra, Fourier transform, and random number capabilities\n",
    "\n",
    "The **linalg** library provided by the NumPy package offers fast computation of several linear algebra quantities like:\n",
    "\n",
    "    i. Calculating Magnitude of a Vector\n",
    "    ii. Determining the inverse of a Matrix\n",
    "    iii. Determining the Eigen values of a Matrix, etc."
   ]
  },
  {
   "cell_type": "code",
   "execution_count": 111,
   "metadata": {},
   "outputs": [
    {
     "name": "stdout",
     "output_type": "stream",
     "text": [
      "Math 7.211102550927978\n",
      "NumPy 7.211102550927978\n",
      "\n",
      "inverse\n",
      "[[ 0.18181818 -0.09090909]\n",
      " [-0.01818182  0.10909091]]\n",
      "\n",
      "eigen values [0.20871215 4.79128785]\n",
      "matrix comprising of eigen vectors\n",
      "[[-0.48744474 -0.33726692]\n",
      " [ 0.87315384 -0.94140906]]\n"
     ]
    }
   ],
   "source": [
    "# calculating magnitude of vectors\n",
    "import math\n",
    "v = np.array([4,6])\n",
    "vMag = math.sqrt(v[0]**2 + v[1]**2)\n",
    "print ('Math',vMag)\n",
    "\n",
    "vMag = np.linalg.norm(v)\n",
    "print ('NumPy',vMag)\n",
    "\n",
    "print()\n",
    "\n",
    "# determining the inverse of a matrix\n",
    "B = np.array([[6,5],\n",
    "              [1,10]])\n",
    "print('inverse')\n",
    "print(np.linalg.inv(B))\n",
    "\n",
    "print()\n",
    "\n",
    "# determining the eigen value and matrix comprising of eigen vectors\n",
    "A = np.array([[2,1],\n",
    "              [5,3]])\n",
    "eVals, eVecs = np.linalg.eig(A)\n",
    "print('eigen values',eVals)\n",
    "print('matrix comprising of eigen vectors')\n",
    "print(eVecs)"
   ]
  },
  {
   "cell_type": "markdown",
   "metadata": {},
   "source": [
    "The **fft** fuction in NumPy can be used to carry out the Dicrete Fast Fourier Transformation without any computation. For more details: https://docs.scipy.org/doc/numpy/reference/routines.fft.html"
   ]
  },
  {
   "cell_type": "markdown",
   "metadata": {},
   "source": [
    "## 2. Advantages of NumPy over Python Lists\n",
    "\n",
    "NumPy has the following advantages over Python's built-in list data structure:\n",
    "\n",
    "    i. Efficient Memory Utilization\n",
    "    ii. Faster Computations\n",
    "    iii. Convinient to use\n",
    "    iv. Element wise operation\n",
    "    v. Better slicing functionality\n",
    "        \n",
    " Let us go through them in detail. "
   ]
  },
  {
   "cell_type": "markdown",
   "metadata": {},
   "source": [
    "### 2 (i). Efficient Memoty Utilization\n",
    "\n",
    "NumPy arrays consume significantly less amount of memory as compared to lists. In addition to that, it provides a mechanism for specifying the data types of the elements, which allows further optimisation of the code. \n",
    "\n",
    "For e.g., let us consider the following case where we can observe the difference in the memory consumed by a list and an NumPy array, each consisting of six elements."
   ]
  },
  {
   "cell_type": "code",
   "execution_count": 109,
   "metadata": {},
   "outputs": [
    {
     "name": "stdout",
     "output_type": "stream",
     "text": [
      "168\n",
      "24\n"
     ]
    }
   ],
   "source": [
    "import sys\n",
    "\n",
    "py_list = [1,2,3,4,5,6]\n",
    "np_array = np.array([1,2,3,4,5,6])\n",
    "\n",
    "size_py_list = sys.getsizeof(1) * len(py_list) # memory space utilized by Python List\n",
    "size_np_array = np_array.itemsize * np_array.size # memory space utilized by NumPy array\n",
    "\n",
    "print(size_py_list) \n",
    "print(size_np_array)"
   ]
  },
  {
   "cell_type": "markdown",
   "metadata": {},
   "source": [
    "The efficient memory utilization is not restricted to integers, the same can be oberved while storing floating point numbers and string literals."
   ]
  },
  {
   "cell_type": "code",
   "execution_count": 64,
   "metadata": {},
   "outputs": [
    {
     "name": "stdout",
     "output_type": "stream",
     "text": [
      "Floating pont list memory consumed 96\n",
      "Floating point numpy array memory consumed 32\n",
      "String list memory consumed 252\n",
      "String numpy array memory consumed 32\n"
     ]
    }
   ],
   "source": [
    "py_list = [1.1,2.2,3.3,4.4]\n",
    "np_array = np.array([1.1,2.2,3.3,4.4])\n",
    "\n",
    "size_py_list = sys.getsizeof(1.1) * len(py_list)\n",
    "size_np_array = np_array.itemsize * np_array.size\n",
    "\n",
    "print('Floating pont list memory consumed',size_py_list)\n",
    "print('Floating point numpy array memory consumed',size_np_array)\n",
    "\n",
    "py_string_list = ['CSCE', '670']\n",
    "np_string = np.array(['CSCE','670'])\n",
    "\n",
    "size_py_list = sys.getsizeof('CSCE') * len(py_list)\n",
    "size_np_string = np_string.itemsize * np_string.size\n",
    "\n",
    "print('String list memory consumed',size_py_list)\n",
    "print('String numpy array memory consumed',size_np_string)"
   ]
  },
  {
   "cell_type": "markdown",
   "metadata": {},
   "source": [
    "**Therefore, NumPy arrays consume much less memory than Lists.**"
   ]
  },
  {
   "cell_type": "markdown",
   "metadata": {},
   "source": [
    "### 2 (ii) Faster Computation\n",
    "\n",
    "The computational time required for operations on NumPy arrays is much faster than that required on Python Lists. We would consider two examples below to prove the point. In the first case, we shall look upon the time required for the creation of arrays (lists and numpy) and in the second example, we shall consider the sum operation over all the elemnets of a list and an NumPy array   "
   ]
  },
  {
   "cell_type": "code",
   "execution_count": 83,
   "metadata": {},
   "outputs": [
    {
     "name": "stdout",
     "output_type": "stream",
     "text": [
      "Time required to create a Python List of size 10000000 is 190.95945358276367 milliseconds\n",
      "Time required to create a NumPy array of size 10000000 is 18.0814266204834 milliseconds\n"
     ]
    }
   ],
   "source": [
    "import time\n",
    "\n",
    "Size = 10000000\n",
    "start = time.time()\n",
    "list1 = list(range(Size))\n",
    "print('Time required to create a Python List of size 10000000 is',(time.time() - start)*1000,'milliseconds')\n",
    "\n",
    "start = time.time()\n",
    "arr1 = np.arange(Size)\n",
    "print('Time required to create a NumPy array of size 10000000 is',(time.time() - start)*1000,'milliseconds')"
   ]
  },
  {
   "cell_type": "code",
   "execution_count": 95,
   "metadata": {},
   "outputs": [
    {
     "name": "stdout",
     "output_type": "stream",
     "text": [
      "Time required to add two Python Lists of sizes 10000000 is 342.52452850341797 milliseconds\n",
      "Time required to add two NumPy Arrays of sizes 10000000 is 19.79660987854004 milliseconds\n"
     ]
    }
   ],
   "source": [
    "Size = 10000000 \n",
    "list1 = list(range(Size)) # creating a list of size 10000000\n",
    "list2 = list(range(Size)) # creating a list of size 10000000\n",
    "start = time.time()\n",
    "list3 = list1 + list2\n",
    "print('Time required to add two Python Lists of sizes 10000000 is',(time.time() - start)*1000,'milliseconds')\n",
    "\n",
    "arr1 = np.arange(Size) # creating an NumPy array of size 10000000\n",
    "arr2 = np.arange(Size) # creating an NumPy array of size 10000000\n",
    "start = time.time() \n",
    "arr3 = arr1 + arr2 \n",
    "print('Time required to add two NumPy Arrays of sizes 10000000 is',(time.time() - start)*1000,'milliseconds')"
   ]
  },
  {
   "cell_type": "markdown",
   "metadata": {},
   "source": [
    "Therefore, computation on NumPy arrays are much faster than on Lists."
   ]
  },
  {
   "cell_type": "markdown",
   "metadata": {},
   "source": [
    "### 2 (iii) Convinient to use\n",
    "\n",
    "NumPy arrays are more convinient to use given the numerous methods offered by the ndarray object. Let us consider the following examples to illustrate our case."
   ]
  },
  {
   "cell_type": "code",
   "execution_count": 94,
   "metadata": {},
   "outputs": [
    {
     "name": "stdout",
     "output_type": "stream",
     "text": [
      "Dimensions of the array:  2\n",
      "Size occupied by each element:  4\n",
      "Datatype of the array:  int32\n",
      "Number of elements in array:  6\n",
      "Shape of the array:  (3, 2)\n",
      "Maximum value:  6\n",
      "Minimum value:  1\n",
      "Median of the array elements:  3.5\n",
      "Sum of the elements:  21\n"
     ]
    }
   ],
   "source": [
    "arr = np.array([[1,2],[3,4],[5,6]]) # 3 x 2 matrix\n",
    "\n",
    "sum_column_1 = arr.sum(axis = 0) # sum of elemnts along the first column\n",
    "print(\"Dimensions of the array: \", arr.ndim)\n",
    "print(\"Size occupied by each element: \", arr.itemsize)\n",
    "print(\"Datatype of the array: \", arr.dtype)\n",
    "print(\"Number of elements in array: \", arr.size)\n",
    "print(\"Shape of the array: \", arr.shape)\n",
    "\n",
    "print(\"Maximum value: \", arr.max())\n",
    "print(\"Minimum value: \", arr.min())\n",
    "print(\"Median of the array elements: \", np.median(arr))\n",
    "print(\"Sum of the elements: \", arr.sum())"
   ]
  },
  {
   "cell_type": "markdown",
   "metadata": {},
   "source": [
    "Therefore, NumPy arrays are much more covinient to use."
   ]
  },
  {
   "cell_type": "markdown",
   "metadata": {},
   "source": [
    "### 2 (iv) Element wise operation\n",
    "\n",
    "The NumPy array offers many operations, which can be performed element-wise, instead of entire array. Let us go through the following examples for more illustration:"
   ]
  },
  {
   "cell_type": "code",
   "execution_count": 102,
   "metadata": {},
   "outputs": [
    {
     "name": "stdout",
     "output_type": "stream",
     "text": [
      "[1, 2, 3, 4, 1, 2, 3, 4]\n",
      "[2 4 6 8]\n",
      "[0 0 0 0]\n",
      "[ 1  4  9 16]\n",
      "[1. 1. 1. 1.]\n"
     ]
    }
   ],
   "source": [
    "list_1 = [1,2,3,4]\n",
    "list_2 = [1,2,3,4]\n",
    "\n",
    "print(list_1+list_2)\n",
    "# print(list_1-list_2) returns error\n",
    "# print(list_1 * list_2) returns error\n",
    "# print(list_1 / list_2) returns error\n",
    "\n",
    "np_array_1 = np.array([1,2,3,4])\n",
    "np_array_2 = np.array([1,2,3,4])\n",
    "\n",
    "print(np_array_1 + np_array_2)\n",
    "print(np_array_1 - np_array_2)\n",
    "print(np_array_1 * np_array_2)\n",
    "print(np_array_1 / np_array_2)"
   ]
  },
  {
   "cell_type": "markdown",
   "metadata": {},
   "source": [
    "From the above examples we can clearly observe that element wise operations can be done on NumPy arrays, which is a huge advantage over Lists."
   ]
  },
  {
   "cell_type": "markdown",
   "metadata": {},
   "source": [
    "### 2 (v) Better slicing functionality\n",
    "\n",
    "In contrast to regular slicing, NumPy slicing is has better functionality. Let us consider an example to see how NumPy handles an assignment of a value to an extended slice"
   ]
  },
  {
   "cell_type": "code",
   "execution_count": 105,
   "metadata": {},
   "outputs": [
    {
     "name": "stdout",
     "output_type": "stream",
     "text": [
      "[999   1 999   3 999   5 999   7 999   9]\n"
     ]
    }
   ],
   "source": [
    "list_1 = list(range(10))\n",
    "# l[::2] == 999 returns error\n",
    "\n",
    "np_array = np.arange(10)\n",
    "np_array[::2] = 999\n",
    "\n",
    "print(np_array)"
   ]
  },
  {
   "cell_type": "markdown",
   "metadata": {},
   "source": [
    "In the above example, the user's intention was to replace every 999 to every second element. But the splicing for NumPy was able to perform unlike the regular splicing.\n",
    "\n",
    "Additionally, NumPy can perform multi-dimensional slicing."
   ]
  },
  {
   "cell_type": "code",
   "execution_count": 108,
   "metadata": {},
   "outputs": [
    {
     "name": "stdout",
     "output_type": "stream",
     "text": [
      "[[ 0  1  2  3]\n",
      " [ 4  5  6  7]\n",
      " [ 8  9 10 11]\n",
      " [12 13 14 15]]\n",
      "\n",
      "[ 1  5  9 13]\n",
      "\n",
      "[4 5 6 7]\n"
     ]
    }
   ],
   "source": [
    "a = np.arange(16)\n",
    "a = a.reshape((4,4))\n",
    "print(a)\n",
    "print()\n",
    "print(a[:, 1]) # returns the second column\n",
    "print()\n",
    "print(a[1, :]) # returns the second row"
   ]
  },
  {
   "cell_type": "markdown",
   "metadata": {},
   "source": [
    "## Summary:\n",
    "\n",
    "The following conclusions can be drawn:\n",
    "\n",
    "    1. NumPy offers numerous resources (methods and functions) which can greatly reduce the time spent in writing codes\n",
    "    2. NumPy offers great flexibility while handling arrays\n",
    "    3. NumPy offers better functionality than built-in data List in Python"
   ]
  },
  {
   "cell_type": "markdown",
   "metadata": {},
   "source": [
    "## References:\n",
    "\n",
    "    1. https://docs.scipy.org/doc/numpy-1.16.0/numpy-user-1.16.0.pdf\n",
    "    2. https://towardsdatascience.com/a-hitchhiker-guide-to-python-numpy-arrays-9358de570121\n",
    "    3. https://docs.scipy.org/doc/numpy-1.16.0/numpy-user-1.16.0.pdf\n",
    "    4. https://numpy.org/"
   ]
  }
 ],
 "metadata": {
  "kernelspec": {
   "display_name": "Python 3",
   "language": "python",
   "name": "python3"
  },
  "language_info": {
   "codemirror_mode": {
    "name": "ipython",
    "version": 3
   },
   "file_extension": ".py",
   "mimetype": "text/x-python",
   "name": "python",
   "nbconvert_exporter": "python",
   "pygments_lexer": "ipython3",
   "version": "3.7.4"
  }
 },
 "nbformat": 4,
 "nbformat_minor": 2
}
