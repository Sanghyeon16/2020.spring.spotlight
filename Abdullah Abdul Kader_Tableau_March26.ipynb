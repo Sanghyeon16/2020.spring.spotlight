{
 "cells": [
  {
   "cell_type": "markdown",
   "metadata": {},
   "source": [
    "# Tableau - Getting started\n",
    "\n",
    "The spotlight serves as an introduction to Tableau starting at the beginner level. \n",
    "\n",
    "\n",
    "1. Install Tableau \n",
    "2. Connect to data source\n",
    "3. Understand Tableau language in visualizing data\n",
    "4. Develop geographical visualizations\n",
    "5. Dig deeper with filters and calculated fields\n",
    "6. Build a dashboard/story\n",
    "7. Publish to a server\n",
    "8. Advanced features (Python & Tableau)\n",
    "9. Various applications\n",
    "10. Resources\n",
    "\n",
    "\n",
    "Download Tableau file https://drive.google.com/file/d/1T0dkONLiAXyG1Je6IvNGRBtAZgZ_Dkgy/view?usp=sharing\n",
    "Tableau public link https://public.tableau.com/profile/abdullah.abdul.kader3326#!/vizhome/COVID-19trendsdata/Story1?publish=yes"
   ]
  },
  {
   "cell_type": "markdown",
   "metadata": {},
   "source": [
    "### 1. Install Tableau\n",
    "\n",
    "Go to https://www.tableau.com/academic/students to download a Tableau desktop edition for free along with a one year free license, thanks to the Tableau students program. A great way to get started and learn the tool. \n"
   ]
  },
  {
   "attachments": {},
   "cell_type": "markdown",
   "metadata": {},
   "source": [
    "### 2. Connect to a Data Source\n",
    "\n",
    "To connect to a datasource click on the tableau icon on the top left and you will have the choice to connect your datasource. Tableau allows you to connect data that is stored in a file (Ex. Excel, PDF), data stored on a server, (Ex. Google Analytics, SQL server, sheets etc). \n",
    "\n",
    "For this tutorial I have used the COVID-19 data from https://docs.google.com/spreadsheets/d/14quQPFErG-hlpsrNgYcX85vW7JMMK5X2vNZrafRcH8c/edit?usp=sharing. To follow along, add this spreadsheet to your drive. \n",
    "\n",
    "Under connect to datasource choose \"Google sheets\". You will be required to authenticate using your google account after which you can select the sheet with Covid-19 data. \n",
    "\n",
    "After you connect the data you will see the data populated on Tableau. Click on Sheet1 on the bottom left to jump to the worksheet. Here we will build views. \n"
   ]
  },
  {
   "cell_type": "markdown",
   "metadata": {},
   "source": [
    "### 3. Understand Tableau language in visualizing data\n",
    "\n",
    "After you connect to a data source, you will see the fields displayed in the Data pane on the left side of the workbook as dimensions and measures. \n",
    "\n",
    "We can now start building charts by dragging fields from the Data pane and dropping them onto columns and rows.\n",
    "\n",
    "Let's start by adding \"Country\" from dimensions to columns & \"Cases\" from measures to rows. This will create a bar chart for you by default. You can create different views by going to \"Show me\" on the top right corner.\n",
    "\n",
    "You might notice that the chart on my Sheet 1 shows different \"Sum(cases)\" than the one on your chart. That is because I have created a filter to only sum up the cases reported on the last day. A quick scan of the data will help you understand that the data is incrementally uploaded everyday with the number of cumulative cases/deaths. We will discuss calculated fields in the upcoming section."
   ]
  },
  {
   "cell_type": "markdown",
   "metadata": {},
   "source": [
    "### 4. Develop geographical visualizations\n",
    "\n",
    "While you can create a number of different visualizations using Tableau, my personal favorite is the geographical visualization. Tableau will generate latitude and longitude if you have cities, states or countries in your dataset. \n",
    "\n",
    "In the COVID-19 dataset we are using longitude and latitude are already provided. We can pop them in just like I have done in Sheet 2 and add the \"cases\" to the color marks. You now have a geographical visualization. Sheet 3 shows just a different view you can create using Tableau (check \"Show me\")\n",
    "\n",
    "You can replicate the same for the states in the US as in Sheet 4. \n"
   ]
  },
  {
   "cell_type": "markdown",
   "metadata": {},
   "source": [
    "### 5. Dig deeper with filters and calculated fields\n",
    "\n",
    "With filters and calculated we can get a little bit fancy. \n",
    "\n",
    "##### Calculated fields \n",
    "\n",
    "Since the dataset we have is reporting cumulative cases for each day, using the \"Cases\" field directly would not be accurate when calculating sum of cases. Sum of cases would default to adding up the cases reported everyday. \n",
    "\n",
    "So we create a filter using a calculated field as follows:\n",
    "\n",
    "                IF [Date] = [Latest Date] then \"Latest\"\n",
    "                ELSE \"Not Latest\"\n",
    "                END\n",
    "                \n",
    "Since we have a field called \"Latest Date\" we can create a filter using that. This is the filter you see in the Sheet 1 where I am only visualizing the latest date.\n",
    "\n",
    "Likewise, I have used calculated field for \"Deaths\". The dataset doesn't explicitly provide the number of deaths so we calculate is as follows:\n",
    "\n",
    "                IF [Case Type] = \"Deaths\" THEN [Cases]\n",
    "                END\n",
    "                \n",
    "Latest deaths is similar to latest cases and we also create a field for percent difference that I have used in Sheets 8 & 8(2)\n",
    "\n",
    "##### Filters\n",
    "\n",
    "Tableau has inbuilt functionality to filter your data. The one that I use most frequently is the \"Top\" filter which allows me to filter the top N rows based on a field.\n",
    "\n",
    "In Sheet 1 I have used the \"Top\" filter to filter top 25 countries with most cases. To access the filter, right click on \"Country\" in your columns and select filter. You will see the option \"Top\". There are also filters based on range etc.\n",
    "\n",
    "Additionally, you can also filters to any view to filter by date range, countries and any other field. Filters also make your views more interactive. "
   ]
  },
  {
   "cell_type": "markdown",
   "metadata": {},
   "source": [
    "### 6. Build a dashboard/story\n",
    "\n",
    "The most used feature on Tableau is it's Dashboard. Once you have charts built on sheets you can create a new dashboard by clicking on Dashboard in the menu. On the Dashboard page you can simply drag and drop the sheets and adjust the layout of sheets, legends and filters. "
   ]
  },
  {
   "cell_type": "markdown",
   "metadata": {},
   "source": [
    "### 7. Publish to a server\n",
    "\n",
    "If you like to embed your dashboard on a webpage or share it publicly you can choose to do so for free using Tableau public. This puts your data and visualization out and available to everybody so make sure you aren't publishing anything that is sensitive data through Tableau public.\n",
    "\n",
    "If you need to connect data on your own server or publish data with the privacy then you would need a Tableau server license.\n",
    "\n",
    "For the purpose of this spotlight, I signed up for a Tableau Public account and published the workbook. \n",
    "You can find it here https://public.tableau.com/profile/abdullah.abdul.kader3326#!/vizhome/COVID-19trendsdata/Story1?publish=yes"
   ]
  },
  {
   "cell_type": "markdown",
   "metadata": {},
   "source": [
    "### 8. Advanced Features\n",
    "\n",
    "Tableau has data connectors which help with streaming data or data that needs to be incrementally refreshed. \n",
    "\n",
    "Also, Tableau has a Python integration for you to incorporate machine learning etc and still visualize the results. More information on that can be found at https://www.tableau.com/about/blog/2017/1/building-advanced-analytics-applications-tabpy-64916"
   ]
  },
  {
   "cell_type": "markdown",
   "metadata": {},
   "source": [
    "### 9. Various Applications\n",
    "\n",
    "A variety of industries use Tableau as their key tool to analyze and visualize large amounts of Data. The most prominent application is journalism. Washington Post, New York Time and several other media outlets use Tableau in Story telling. \n",
    "\n",
    "Indusries such as manufacturing, Airlines etc use Tableau dashboards to track and present the current status of manufacturing or operations etc. \n",
    "\n",
    "With a wide range of applications Tableau has become indispensible for industries and is a useful tool to learn. "
   ]
  },
  {
   "cell_type": "markdown",
   "metadata": {},
   "source": [
    "### 10.  Resources\n",
    "\n",
    "https://help.tableau.com/current/guides/get-started-tutorial/en-us/get-started-tutorial-connect.htm\n",
    "https://community.tableau.com/docs/DOC-24246?_ga=2.221925336.1903516169.1585085145-743123379.1584712593\n",
    "https://www.tableau.com/covid-19-coronavirus-data-resources"
   ]
  }
 ],
 "metadata": {
  "kernelspec": {
   "display_name": "Python 3",
   "language": "python",
   "name": "python3"
  },
  "language_info": {
   "codemirror_mode": {
    "name": "ipython",
    "version": 3
   },
   "file_extension": ".py",
   "mimetype": "text/x-python",
   "name": "python",
   "nbconvert_exporter": "python",
   "pygments_lexer": "ipython3",
   "version": "3.7.3"
  }
 },
 "nbformat": 4,
 "nbformat_minor": 2
}
