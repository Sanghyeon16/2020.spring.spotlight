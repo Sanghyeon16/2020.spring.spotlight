{
 "cells": [
  {
   "cell_type": "markdown",
   "metadata": {},
   "source": [
    "# NetworkX"
   ]
  },
  {
   "cell_type": "markdown",
   "metadata": {},
   "source": [
    "### Name: Fangsheng Wu"
   ]
  },
  {
   "cell_type": "markdown",
   "metadata": {},
   "source": [
    "### 1. Ideas of NetworkX\n",
    "\n",
    "#### 1.1 What is NetworkX?\n",
    "NetworkX is a Python package for the creation, manipulation, and study of the structure, dynamics, and functions of complex networks.\n",
    "\n",
    "#### 1.2 What does NetworkX provide?\n",
    "- tools for the study of the structure and dynamics of social, biological, and infrastructure networks;\n",
    "- a standard programming interface and graph implementation that is suitable for many applications;\n",
    "- a rapid development environment for collaborative, multidisciplinary projects;\n",
    "- an interface to existing numerical algorithms and code written in C, C++, and FORTRAN; \n",
    "- and the ability to painlessly work with large nonstandard data sets.\n",
    "\n",
    "#### 1.3 What can we do with NetworkX?\n",
    "With NetworkX you can load and store networks in standard and nonstandard data formats, generate many types of random and classic networks, analyze network structure, build network models, design new network algorithms, draw networks, and much more."
   ]
  },
  {
   "cell_type": "markdown",
   "metadata": {},
   "source": [
    "### 2. Begin to work with NetworkX\n",
    "#### 2.1 Initialize a Graph instance"
   ]
  },
  {
   "cell_type": "code",
   "execution_count": 29,
   "metadata": {},
   "outputs": [],
   "source": [
    "import networkx as nx\n",
    "G0 = nx.Graph()\n",
    "G1 = nx.DiGraph()\n",
    "G2 = nx.MultiGraph() \n",
    "G3 = nx.MultiDiGraph()"
   ]
  },
  {
   "cell_type": "markdown",
   "metadata": {},
   "source": [
    "The following basic graph types are provided as classes:\n",
    "\n",
    "`Graph`:\n",
    "This class implements an undirected graph. It ignores multiple edges between two nodes. It does allow self-loop edges between a node and itself.\n",
    "\n",
    "`DiGraph`: \n",
    "Directed graphs, that is, graphs with directed edges. Provides operations common to directed graphs, (a subclass of Graph).\n",
    "\n",
    "`MultiGraph`: \n",
    "A flexible graph class that allows multiple undirected edges between pairs of nodes. The additional flexibility leads to some degradation in performance, though usually not significant.\n",
    "\n",
    "`MultiDiGraph`: \n",
    "A directed version of a MultiGraph."
   ]
  },
  {
   "cell_type": "markdown",
   "metadata": {},
   "source": [
    "#### 2.2 Graph creation"
   ]
  },
  {
   "cell_type": "markdown",
   "metadata": {},
   "source": [
    "NetworkX graph objects can be created in one of three ways:\n",
    "- Graph generators—standard algorithms to create network topologies.\n",
    "- Importing data from pre-existing (usually file) sources.\n",
    "- Adding edges and nodes explicitly."
   ]
  },
  {
   "cell_type": "code",
   "execution_count": 30,
   "metadata": {},
   "outputs": [],
   "source": [
    "# explicitly add weighted or un-weighted edges\n",
    "G0.add_edge(1, 2) \n",
    "G0.add_edge(2, 3, weight=0.9)\n",
    "\n",
    "# any hashable can be a node\n",
    "import math\n",
    "G0.add_edge('y', 'x', function=math.cos)\n",
    "G0.add_node(math.cos)  \n",
    "\n",
    "# add many edges at a time\n",
    "elist = [(1, 2), (2, 3), (1, 4), (4, 2)]\n",
    "G1.add_edges_from(elist)\n",
    "elist = [('a', 'b', 5.0), ('b', 'c', 3.0), ('a', 'c', 1.0), ('c', 'd', 7.3)]\n",
    "G1.add_weighted_edges_from(elist)"
   ]
  },
  {
   "cell_type": "markdown",
   "metadata": {},
   "source": [
    "#### 2.3 Graph reporting\n",
    "Class views provide basic reporting of nodes, neighbors, edges and degree. These views provide iteration over the properties as well as membership queries and data attribute lookup. The views refer to the graph data structure so changes to the graph are reflected in the views. This is analogous to dictionary views in Python 3. If you want to change the graph while iterating you will need to use e.g. `for e in list(G.edges):`. The views provide set-like operations, e.g. union and intersection, as well as dict-like lookup and iteration of the data attributes using `G.edges[u, v]['color']` and for e, datadict in `G.edges.items():`. Methods `G.edges.items()` and `G.edges.values()` are familiar from python dicts. In addition `G.edges.data()` provides specific attribute iteration e.g. `for e, e_color in G.edges.data('color'):`.\n",
    "\n",
    "The basic graph relationship of an edge can be obtained in two ways. One can look for neighbors of a node or one can look for edges. We jokingly refer to people who focus on nodes/neighbors as node-centric and people who focus on edges as edge-centric. The designers of NetworkX tend to be node-centric and view edges as a relationship between nodes. You can see this by our choice of lookup notation like `G[u]` providing neighbors (adjacency) while edge lookup is `G.edges[u, v]`. Most data structures for sparse graphs are essentially adjacency lists and so fit this perspective. In the end, of course, it doesn’t really matter which way you examine the graph. `G.edges` removes duplicate representations of undirected edges while neighbor reporting across all nodes will naturally report both directions.\n",
    "\n",
    "Any properties that are more complicated than edges, neighbors and degree are provided by functions. For example `nx.triangles(G, n)` gives the number of triangles which include node n as a vertex. These functions are grouped in the code and documentation under the term algorithms."
   ]
  },
  {
   "cell_type": "code",
   "execution_count": 31,
   "metadata": {},
   "outputs": [
    {
     "name": "stdout",
     "output_type": "stream",
     "text": [
      "(1, 2)\n",
      "(2, 3)\n",
      "('y', 'x')\n",
      "ItemsView(EdgeView([(1, 2), (2, 3), ('y', 'x')]))\n"
     ]
    }
   ],
   "source": [
    "for e in list(G0.edges):\n",
    "    print(e)\n",
    "print(G0.edges.items())"
   ]
  },
  {
   "cell_type": "markdown",
   "metadata": {},
   "source": [
    "#### 2.4 Graphic algorithms\n",
    "A number of graph algorithms are provided with NetworkX. These include shortest path, and breadth first search, clustering and isomorphism algorithms and others. For instance, to search for the shortest path between nodes, we can use the included Dijkstra’s algorithm."
   ]
  },
  {
   "cell_type": "code",
   "execution_count": 32,
   "metadata": {},
   "outputs": [
    {
     "name": "stdout",
     "output_type": "stream",
     "text": [
      "['a', 'c', 'd']\n"
     ]
    }
   ],
   "source": [
    "e = [('a', 'b', 0.3), ('a', 'b', 0.5), ('b', 'c', 0.9), ('a', 'c', 0.5), ('c', 'd', 1.2)]\n",
    "G2.add_weighted_edges_from(e)\n",
    "print(nx.dijkstra_path(G2, 'a', 'd'))"
   ]
  },
  {
   "cell_type": "markdown",
   "metadata": {},
   "source": [
    "#### 2.5 Graph visualization\n",
    "While NetworkX is not designed as a network drawing tool, it provides a simple interface to drawing packages and some simple layout algorithms. It interfaces to the excellent Graphviz layout tools like dot and neato with the (suggested) pygraphviz package or the pydot interface. Drawing can be done using external programs or the Matplotlib Python package. Interactive GUI interfaces are possible, though not provided. The drawing tools are provided in the module drawing.\n",
    "\n",
    "The basic drawing functions essentially place the nodes on a scatterplot using the positions you provide via a dictionary or the positions are computed with a layout function. The edges are lines between those dots.\n",
    "\n",
    "Basic configurable parameters of graph plotting function include:\n",
    "- `pos` (dictionary, optional) – A dictionary with nodes as keys and positions as values. If not specified a spring layout positioning will be computed. See networkx.drawing.layout for functions that compute node positions.\n",
    "- `arrows` (bool, optional (default=True)) – For directed graphs, if True draw arrowheads. Note: Arrows will be the same color as edges.\n",
    "- `with_labels` (bool, optional (default=True)) – Set to True to draw labels on the nodes.\n",
    "- `node_size` (scalar or array, optional (default=300)) – Size of nodes. If an array is specified it must be the same length as nodelist.\n",
    "- `node_color` (color or array of colors (default=’#1f78b4’)) – Node color. Can be a single color or a sequence of colors with the same length as nodelist. Color can be string, or rgb (or rgba) tuple of floats from 0-1. If numeric values are specified they will be mapped to colors using the cmap and vmin,vmax parameters. See matplotlib.scatter for more details.\n",
    "- `width` (float, optional (default=1.0)) – Line width of edges\n",
    "- `edge_color` (color or array of colors (default=’k’)) – Edge color. Can be a single color or a sequence of colors with the same length as edgelist. Color can be string, or rgb (or rgba) tuple of floats from 0-1. If numeric values are specified they will be mapped to colors using the edge_cmap and edge_vmin,edge_vmax parameters.\n",
    "- `style` (string, optional (default=’solid’)) – Edge line style (solid|dashed|dotted,dashdot)\n",
    "- `font_size` (int, optional (default=12)) – Font size for text labels\n",
    "- `font_color` (string, optional (default=’k’ black)) – Font color string"
   ]
  },
  {
   "cell_type": "code",
   "execution_count": 62,
   "metadata": {},
   "outputs": [
    {
     "data": {
      "image/png": "[encoded data removed]",
      "text/plain": [
       "<Figure size 432x288 with 3 Axes>"
      ]
     },
     "metadata": {},
     "output_type": "display_data"
    }
   ],
   "source": [
    "import matplotlib.pyplot as plt\n",
    "%matplotlib inline\n",
    "# G = nx.cubical_graph()\n",
    "plt.subplot(131)\n",
    "plt.title('Undirected Graph')\n",
    "nx.draw(G0, pos=nx.spring_layout(G0, k=1.5), with_labels=True, node_size=150, node_color='y', font_size=15)\n",
    "\n",
    "plt.subplot(132)\n",
    "plt.title('Directed Graph')\n",
    "nx.draw(G1, pos=nx.spring_layout(G1, k=1.5), with_labels=True, node_size=150, node_color='y', font_size=15)\n",
    "\n",
    "plt.subplot(133)\n",
    "plt.title('Multi-Graph')\n",
    "nx.draw(G2, pos=nx.spring_layout(G2, k=1.5), with_labels=True, node_size=150, node_color='y', font_size=15)"
   ]
  },
  {
   "cell_type": "markdown",
   "metadata": {},
   "source": [
    "#### 2.6 Data Structure\n",
    "NetworkX uses a “dictionary of dictionaries of dictionaries” as the basic network data structure. This allows fast lookup with reasonable storage for large sparse networks. The keys are nodes so `G[u]` returns an adjacency dictionary keyed by neighbor to the edge attribute dictionary. A view of the adjacency data structure is provided by the dict-like object `G.adj` as e.g. for node, nbrsdict in `G.adj.items()`:. The expression `G[u][v]` returns the edge attribute dictionary itself. A dictionary of lists would have also been possible, but not allow fast edge detection nor convenient storage of edge data.\n",
    "\n",
    "Advantages of dict-of-dicts-of-dicts data structure:\n",
    "\n",
    "- Find edges and remove edges with two dictionary look-ups.\n",
    "\n",
    "- Prefer to “lists” because of fast lookup with sparse storage.\n",
    "\n",
    "- Prefer to “sets” since data can be attached to edge.\n",
    "\n",
    "- `G[u][v]` returns the edge attribute dictionary.\n",
    "\n",
    "- `n in G` tests if node n is in graph `G`.\n",
    "\n",
    "- `for n in G:` iterates through the graph.\n",
    "\n",
    "- `for nbr in G[n]:` iterates through neighbors.\n",
    "\n",
    "As an example, here is the representation of undirected graph `G0`."
   ]
  },
  {
   "cell_type": "code",
   "execution_count": 65,
   "metadata": {},
   "outputs": [
    {
     "data": {
      "text/plain": [
       "AdjacencyView({1: {2: {}}, 2: {1: {}, 3: {'weight': 0.9}}, 3: {2: {'weight': 0.9}}, 'y': {'x': {'function': <built-in function cos>}}, 'x': {'y': {'function': <built-in function cos>}}, <built-in function cos>: {}})"
      ]
     },
     "execution_count": 65,
     "metadata": {},
     "output_type": "execute_result"
    }
   ],
   "source": [
    "G0.adj"
   ]
  },
  {
   "cell_type": "markdown",
   "metadata": {},
   "source": [
    "The data structure gets morphed slightly for each base graph class. For DiGraph two dict-of-dicts-of-dicts structures are provided, one for successors (`G.succ`) and one for predecessors (`G.pred`). For MultiGraph/MultiDiGraph we use a dict-of-dicts-of-dicts-of-dicts 1 where the third dictionary is keyed by an edge key identifier to the fourth dictionary which contains the edge attributes for that edge between the two nodes.\n",
    "\n",
    "Graphs provide two interfaces to the edge data attributes: adjacency and edges. So `G[u][v]['width']` is the same as `G.edges[u, v]['width']`."
   ]
  },
  {
   "cell_type": "code",
   "execution_count": 70,
   "metadata": {},
   "outputs": [
    {
     "name": "stdout",
     "output_type": "stream",
     "text": [
      "100 red\n"
     ]
    }
   ],
   "source": [
    "G0.add_edge('x', 'y', color='red', weight=0.5, size=100)\n",
    "print(G0['x']['y']['size'], G0.edges['x','y']['color'])"
   ]
  },
  {
   "cell_type": "markdown",
   "metadata": {},
   "source": [
    "### 3. Case study with NetworkX\n",
    "In order to bring a more profound insight of this versetile package, I hereby introduced an implement example that I have practically went through during my research on social media datasets. I have collected Twitter data of users in a certain area during a certain time period. Visualization of such data is needed for further study on the connection structures of Twitter users and its change after social impacts. The data structure of tweet data almost resambles the Twitter data Professor provided us in homework2, but maintain rawer(contains more attributes for each of the objects). Thus a more detailed preprocessing should be conducted first.\n",
    "#### 3.1 Retrieve preprocessed data"
   ]
  },
  {
   "cell_type": "code",
   "execution_count": 99,
   "metadata": {},
   "outputs": [],
   "source": [
    "import csv\n",
    "import matplotlib\n",
    "import collections\n",
    "\n",
    "location = 'Addicks'\n",
    "category = 'other_relevant_information'\n",
    "f_dir = 'data/' + category + '.csv'\n",
    "sim = []\n",
    "ids = []\n",
    "with open(f_dir) as file:\n",
    "    reader = csv.reader(file, delimiter='\\t')\n",
    "    for row in reader:\n",
    "        sim.append([row[1], row[3], row[-1]])\n",
    "        if row[1] not in ids:\n",
    "            ids.append(row[1])"
   ]
  },
  {
   "cell_type": "markdown",
   "metadata": {},
   "source": [
    "#### 3.2  Initialize graph object and add nodes & edges"
   ]
  },
  {
   "cell_type": "code",
   "execution_count": 100,
   "metadata": {},
   "outputs": [],
   "source": [
    "G = nx.Graph()\n",
    "for _id in ids:\n",
    "    G.add_node(_id)\n",
    "    for _id in ids:\n",
    "        for row in sim:\n",
    "            if row[0] == _id and float(row[2]) >= 0.5:\n",
    "                G.add_edge(_id, row[1])"
   ]
  },
  {
   "cell_type": "markdown",
   "metadata": {},
   "source": [
    "#### 3.3  Record clusters"
   ]
  },
  {
   "cell_type": "code",
   "execution_count": 101,
   "metadata": {},
   "outputs": [],
   "source": [
    "# cluster recording\n",
    "clusters = []\n",
    "for edge in G.edges():\n",
    "    if len(clusters) == 0:\n",
    "        clusters.append([edge[0], edge[1]])\n",
    "    else:\n",
    "        flag = 0\n",
    "        for cluster in clusters:\n",
    "            if flag == 0:\n",
    "                if edge[0] in cluster and edge[1] not in cluster:\n",
    "                    cluster.append(edge[1])\n",
    "                    flag = 1\n",
    "                elif edge[1] in cluster and edge[0] not in cluster:\n",
    "                    cluster.append(edge[0])\n",
    "                    flag = 1\n",
    "                elif edge[1] in cluster and edge[0] in cluster:\n",
    "                    flag = 1\n",
    "        if flag == 0:\n",
    "            clusters.append([edge[0], edge[1]])\n",
    "# all_clusters[location + '__' + category] = clusters"
   ]
  },
  {
   "cell_type": "markdown",
   "metadata": {},
   "source": [
    "#### 3.4 Shaping the output"
   ]
  },
  {
   "cell_type": "code",
   "execution_count": 106,
   "metadata": {},
   "outputs": [
    {
     "data": {
      "image/png": "[encoded data removed]",
      "text/plain": [
       "<Figure size 432x288 with 2 Axes>"
      ]
     },
     "metadata": {
      "needs_background": "light"
     },
     "output_type": "display_data"
    }
   ],
   "source": [
    "# shaping the network\n",
    "max_degree = max([degree[1] for degree in G.degree()])\n",
    "y = 0\n",
    "x = math.log(80, max_degree)\n",
    "# if max_degree <= 1:\n",
    "# \ty = 40 - 1\n",
    "# else:\n",
    "# \tx = math.log(80, max_degree)\n",
    "\n",
    "pos = nx.spring_layout(G, k=0.5)\n",
    "nx.draw_networkx_nodes(G, pos, \n",
    "\t\t\t\t\t\tnodelist = ids, \n",
    "\t\t\t\t\t\tnode_size = [G.degree[node] ** x + y * G.degree[node] + 5 for node in ids], \n",
    "\t\t\t\t\t\tnode_color = 'black')\n",
    "node = nx.draw_networkx_nodes(G, pos, \n",
    "\t\t\t\t\t\tnodelist = ids, \n",
    "\t\t\t\t\t\tnode_size = [G.degree[node] ** x + y * G.degree[node] for node in ids], \n",
    "\t\t\t\t\t\tnode_color = [G.degree[node] for node in ids],\n",
    "\t\t\t\t\t\tcmap=plt.cm.Blues)\n",
    "nx.draw_networkx_edges(G, pos, edge_color = 'black', width = 0.1)\n",
    "font_name = 'serif'\n",
    "font = matplotlib.font_manager.FontProperties(family= font_name, style='normal', size=15)\n",
    "colorbar = plt.colorbar(node, label='Weighted degree')\n",
    "colorbar.ax.yaxis.label.set_font_properties(font)\n",
    "colorbar.ax.tick_params(labelsize=12)\n",
    "plt.axis(\"off\")\n",
    "plt.show()"
   ]
  }
 ],
 "metadata": {
  "kernelspec": {
   "display_name": "py36",
   "language": "python",
   "name": "py36"
  },
  "language_info": {
   "codemirror_mode": {
    "name": "ipython",
    "version": 3
   },
   "file_extension": ".py",
   "mimetype": "text/x-python",
   "name": "python",
   "nbconvert_exporter": "python",
   "pygments_lexer": "ipython3",
   "version": "3.7.4"
  }
 },
 "nbformat": 4,
 "nbformat_minor": 2
}
