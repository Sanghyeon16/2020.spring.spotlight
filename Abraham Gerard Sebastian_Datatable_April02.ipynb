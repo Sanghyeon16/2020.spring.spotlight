{
 "cells": [
  {
   "cell_type": "markdown",
   "metadata": {},
   "source": [
    "# Datatable\n",
    "\n",
    "## Overview:\n",
    "\n",
    "Any person familiar with R, will be aware of [data.table](https://cran.r-project.org/web/packages/data.table/data.table.pdf) package. It is an extension of the widely used [data.frame](https://www.rdocumentation.org/packages/base/versions/3.6.0/topics/data.frame) package that is R's equivalent of pandas in python. **Data.table** prioritizes memory efficiency and speed, thus making it the go to package for big data problems in R.\n",
    "\n",
    "In this spotlight I will be going over how to get started on [Datatable](https://github.com/h2oai/datatable) a library that was developed by the organisation [H2O.ai](h2o.ai). Like data.table in R, it builds on top of the pandas library to make it faster and more memory efficient while retaining some important functionality from pandas.\n",
    "\n",
    "## Installation:\n",
    "\n",
    "### Linux and MacOS:\n",
    "\n",
    "Just use pip to install the package:\n",
    "\n",
    "pip install datatable\n",
    "\n",
    "### Windows:\n",
    "\n",
    "The package is currently not available on windows, but work is actively being done to bring it to the OS. You can track it [here](https://github.com/h2oai/datatable/issues/1114)\n",
    "\n",
    "## DataSet:\n",
    "\n",
    "In this spotlight I will be using the [Lending Club Loan Dataset](https://www.kaggle.com/wendykan/lending-club-loan-data#loan.csv) from Kaggle. It has **145 columns** and **2.26 million** rows thus making it the ideal dataset to show the capabilities of this package.\n",
    "\n",
    "## Reading Data:"
   ]
  },
  {
   "cell_type": "code",
   "execution_count": 1,
   "metadata": {},
   "outputs": [
    {
     "data": {
      "text/html": [
       "<style type='text/css'>\n",
       ".datatable table.frame { margin-bottom: 0; }\n",
       ".datatable table.frame thead { border-bottom: none; }\n",
       ".datatable table.frame tr.coltypes td {  color: #FFFFFF;  line-height: 6px;  padding: 0 0.5em;}\n",
       ".datatable .boolean { background: #DDDD99; }\n",
       ".datatable .object  { background: #565656; }\n",
       ".datatable .integer { background: #5D9E5D; }\n",
       ".datatable .float   { background: #4040CC; }\n",
       ".datatable .string  { background: #CC4040; }\n",
       ".datatable .row_index {  background: var(--jp-border-color3);  border-right: 1px solid var(--jp-border-color0);  color: var(--jp-ui-font-color3);  font-size: 9px;}\n",
       ".datatable .frame tr.coltypes .row_index {  background: var(--jp-border-color0);}\n",
       ".datatable th:nth-child(2) { padding-left: 12px; }\n",
       ".datatable .hellipsis {  color: var(--jp-cell-editor-border-color);}\n",
       ".datatable .vellipsis {  background: var(--jp-layout-color0);  color: var(--jp-cell-editor-border-color);}\n",
       ".datatable .na {  color: var(--jp-cell-editor-border-color);  font-size: 80%;}\n",
       ".datatable .footer { font-size: 9px; }\n",
       ".datatable .frame_dimensions {  background: var(--jp-border-color3);  border-top: 1px solid var(--jp-border-color0);  color: var(--jp-ui-font-color3);  display: inline-block;  opacity: 0.6;  padding: 1px 10px 1px 5px;}\n",
       "</style>\n"
      ],
      "text/plain": [
       "<IPython.core.display.HTML object>"
      ]
     },
     "metadata": {},
     "output_type": "display_data"
    }
   ],
   "source": [
    "import datatable as dt\n",
    "import pandas as pd\n",
    "import numpy as np"
   ]
  },
  {
   "cell_type": "markdown",
   "metadata": {},
   "source": [
    "### datatable"
   ]
  },
  {
   "cell_type": "code",
   "execution_count": 2,
   "metadata": {},
   "outputs": [
    {
     "name": "stdout",
     "output_type": "stream",
     "text": [
      "CPU times: user 18 s, sys: 1.33 s, total: 19.3 s\n",
      "Wall time: 3.65 s\n"
     ]
    }
   ],
   "source": [
    "%%time\n",
    "data_dt = dt.fread(\"loan.csv\")"
   ]
  },
  {
   "cell_type": "markdown",
   "metadata": {},
   "source": [
    "### pandas"
   ]
  },
  {
   "cell_type": "code",
   "execution_count": 3,
   "metadata": {},
   "outputs": [
    {
     "name": "stdout",
     "output_type": "stream",
     "text": [
      "CPU times: user 41.7 s, sys: 2.67 s, total: 44.4 s\n",
      "Wall time: 43 s\n"
     ]
    }
   ],
   "source": [
    "%%time\n",
    "data_pd = pd.read_csv(\"loan.csv\",low_memory=False)"
   ]
  },
  {
   "cell_type": "markdown",
   "metadata": {},
   "source": [
    "Clearly from the results above we can see that the **datatable** package is significantly faster than **pandas**.\n",
    "\n",
    "## Converting Dataset:\n",
    "\n",
    "The datatable package has options to convert the Dataframe to pandas or even a numpy matrix:\n",
    "- data_dt_pd = data_dt.to_pandas()\n",
    "- data_dt_np = data_dt.to_numpy()\n",
    "\n",
    "Below I have shown the performance of converting to the pandas Dataframe.\n"
   ]
  },
  {
   "cell_type": "code",
   "execution_count": 4,
   "metadata": {},
   "outputs": [
    {
     "name": "stdout",
     "output_type": "stream",
     "text": [
      "CPU times: user 1min 12s, sys: 1.66 s, total: 1min 14s\n",
      "Wall time: 14.8 s\n"
     ]
    }
   ],
   "source": [
    "%%time\n",
    "data_dt_pd = data_dt.to_pandas()"
   ]
  },
  {
   "cell_type": "markdown",
   "metadata": {},
   "source": [
    "## Important Properties\n",
    "\n",
    "Below are some important properties that are present with the datatable frame:"
   ]
  },
  {
   "cell_type": "code",
   "execution_count": 5,
   "metadata": {},
   "outputs": [
    {
     "name": "stdout",
     "output_type": "stream",
     "text": [
      "(2260668, 145)\n",
      "('id', 'member_id', 'loan_amnt', 'funded_amnt', 'funded_amnt_inv')\n",
      "(stype.bool8, stype.bool8, stype.int32, stype.int32, stype.float64)\n"
     ]
    },
    {
     "data": {
      "text/html": [
       "<div class='datatable'>\n",
       "  <table class='frame'>\n",
       "  <thead>\n",
       "    <tr class='colnames'><td class='row_index'></td><th>id</th><th>member_id</th><th>loan_amnt</th><th>funded_amnt</th><th>funded_amnt_inv</th><th>term</th><th>int_rate</th><th>installment</th><th>grade</th><th>sub_grade</th><th class='vellipsis'>&hellip;</th><th>settlement_status</th><th>settlement_date</th><th>settlement_amount</th><th>settlement_percentage</th><th>settlement_term</th></tr>\n",
       "    <tr class='coltypes'><td class='row_index'></td><td class='boolean' title='bool8'>&#x25AA;</td><td class='boolean' title='bool8'>&#x25AA;</td><td class='integer' title='int32'>&#x25AA;&#x25AA;&#x25AA;&#x25AA;</td><td class='integer' title='int32'>&#x25AA;&#x25AA;&#x25AA;&#x25AA;</td><td class='float' title='float64'>&#x25AA;&#x25AA;&#x25AA;&#x25AA;&#x25AA;&#x25AA;&#x25AA;&#x25AA;</td><td class='string' title='str32'>&#x25AA;&#x25AA;&#x25AA;&#x25AA;</td><td class='float' title='float64'>&#x25AA;&#x25AA;&#x25AA;&#x25AA;&#x25AA;&#x25AA;&#x25AA;&#x25AA;</td><td class='float' title='float64'>&#x25AA;&#x25AA;&#x25AA;&#x25AA;&#x25AA;&#x25AA;&#x25AA;&#x25AA;</td><td class='string' title='str32'>&#x25AA;&#x25AA;&#x25AA;&#x25AA;</td><td class='string' title='str32'>&#x25AA;&#x25AA;&#x25AA;&#x25AA;</td><td></td><td class='string' title='str32'>&#x25AA;&#x25AA;&#x25AA;&#x25AA;</td><td class='string' title='str32'>&#x25AA;&#x25AA;&#x25AA;&#x25AA;</td><td class='float' title='float64'>&#x25AA;&#x25AA;&#x25AA;&#x25AA;&#x25AA;&#x25AA;&#x25AA;&#x25AA;</td><td class='float' title='float64'>&#x25AA;&#x25AA;&#x25AA;&#x25AA;&#x25AA;&#x25AA;&#x25AA;&#x25AA;</td><td class='integer' title='int32'>&#x25AA;&#x25AA;&#x25AA;&#x25AA;</td></tr>\n",
       "  </thead>\n",
       "  <tbody>\n",
       "    <tr><td class='row_index'>0</td><td><span class=na>NA</span></td><td><span class=na>NA</span></td><td>2500</td><td>2500</td><td>2500</td><td>36 months</td><td>13.56</td><td>84.92</td><td>C</td><td>C1</td><td class=vellipsis>&hellip;</td><td></td><td></td><td><span class=na>NA</span></td><td><span class=na>NA</span></td><td><span class=na>NA</span></td></tr>\n",
       "    <tr><td class='row_index'>1</td><td><span class=na>NA</span></td><td><span class=na>NA</span></td><td>30000</td><td>30000</td><td>30000</td><td>60 months</td><td>18.94</td><td>777.23</td><td>D</td><td>D2</td><td class=vellipsis>&hellip;</td><td></td><td></td><td><span class=na>NA</span></td><td><span class=na>NA</span></td><td><span class=na>NA</span></td></tr>\n",
       "    <tr><td class='row_index'>2</td><td><span class=na>NA</span></td><td><span class=na>NA</span></td><td>5000</td><td>5000</td><td>5000</td><td>36 months</td><td>17.97</td><td>180.69</td><td>D</td><td>D1</td><td class=vellipsis>&hellip;</td><td></td><td></td><td><span class=na>NA</span></td><td><span class=na>NA</span></td><td><span class=na>NA</span></td></tr>\n",
       "    <tr><td class='row_index'>3</td><td><span class=na>NA</span></td><td><span class=na>NA</span></td><td>4000</td><td>4000</td><td>4000</td><td>36 months</td><td>18.94</td><td>146.51</td><td>D</td><td>D2</td><td class=vellipsis>&hellip;</td><td></td><td></td><td><span class=na>NA</span></td><td><span class=na>NA</span></td><td><span class=na>NA</span></td></tr>\n",
       "    <tr><td class='row_index'>4</td><td><span class=na>NA</span></td><td><span class=na>NA</span></td><td>30000</td><td>30000</td><td>30000</td><td>60 months</td><td>16.14</td><td>731.78</td><td>C</td><td>C4</td><td class=vellipsis>&hellip;</td><td></td><td></td><td><span class=na>NA</span></td><td><span class=na>NA</span></td><td><span class=na>NA</span></td></tr>\n",
       "    <tr><td class='row_index'>5</td><td><span class=na>NA</span></td><td><span class=na>NA</span></td><td>5550</td><td>5550</td><td>5550</td><td>36 months</td><td>15.02</td><td>192.45</td><td>C</td><td>C3</td><td class=vellipsis>&hellip;</td><td></td><td></td><td><span class=na>NA</span></td><td><span class=na>NA</span></td><td><span class=na>NA</span></td></tr>\n",
       "    <tr><td class='row_index'>6</td><td><span class=na>NA</span></td><td><span class=na>NA</span></td><td>2000</td><td>2000</td><td>2000</td><td>36 months</td><td>17.97</td><td>72.28</td><td>D</td><td>D1</td><td class=vellipsis>&hellip;</td><td></td><td></td><td><span class=na>NA</span></td><td><span class=na>NA</span></td><td><span class=na>NA</span></td></tr>\n",
       "    <tr><td class='row_index'>7</td><td><span class=na>NA</span></td><td><span class=na>NA</span></td><td>6000</td><td>6000</td><td>6000</td><td>36 months</td><td>13.56</td><td>203.79</td><td>C</td><td>C1</td><td class=vellipsis>&hellip;</td><td></td><td></td><td><span class=na>NA</span></td><td><span class=na>NA</span></td><td><span class=na>NA</span></td></tr>\n",
       "    <tr><td class='row_index'>8</td><td><span class=na>NA</span></td><td><span class=na>NA</span></td><td>5000</td><td>5000</td><td>5000</td><td>36 months</td><td>17.97</td><td>180.69</td><td>D</td><td>D1</td><td class=vellipsis>&hellip;</td><td></td><td></td><td><span class=na>NA</span></td><td><span class=na>NA</span></td><td><span class=na>NA</span></td></tr>\n",
       "    <tr><td class='row_index'>9</td><td><span class=na>NA</span></td><td><span class=na>NA</span></td><td>6000</td><td>6000</td><td>6000</td><td>36 months</td><td>14.47</td><td>206.44</td><td>C</td><td>C2</td><td class=vellipsis>&hellip;</td><td></td><td></td><td><span class=na>NA</span></td><td><span class=na>NA</span></td><td><span class=na>NA</span></td></tr>\n",
       "  </tbody>\n",
       "  </table>\n",
       "  <div class='footer'>\n",
       "    <div class='frame_dimensions'>10 rows &times; 145 columns</div>\n",
       "  </div>\n",
       "</div>\n"
      ],
      "text/plain": [
       "<Frame [10 rows x 145 cols]>"
      ]
     },
     "execution_count": 5,
     "metadata": {},
     "output_type": "execute_result"
    }
   ],
   "source": [
    "print(data_dt.shape)\n",
    "print(data_dt.names[:5])\n",
    "print(data_dt.stypes[:5])\n",
    "data_dt.head(10)"
   ]
  },
  {
   "cell_type": "markdown",
   "metadata": {},
   "source": [
    "The different **colors** represent the datatypes of the columns for eg. **green** is int, **blue** is float and **red** is string.\n",
    "\n",
    "##  Dataframe Statistics:\n",
    "\n",
    "The Datatable frame, like pandas, has a number of methods which allow us to extract the statistics of the data like mean, median etc. Some examples of the are as follows:\n",
    "\n",
    "### datatable"
   ]
  },
  {
   "cell_type": "code",
   "execution_count": 6,
   "metadata": {
    "scrolled": true
   },
   "outputs": [
    {
     "name": "stdout",
     "output_type": "stream",
     "text": [
      "   | id  member_id    loan_amnt  funded_amnt  funded_amnt_inv  term     int_rate  installment  grade  sub_grade  …  settlement_status  settlement_date  settlement_amount  settlement_percentage  settlement_term\n",
      "-- + --  ---------  -----------  -----------  ---------------  ----  -----------  -----------  -----  ---------     -----------------  ---------------  -----------------  ---------------------  ---------------\n",
      " 0 |  0          0  3.40161e+10  3.40042e+10       3.3963e+10    NA  2.95987e+07  1.00782e+09     NA         NA  …                 NA               NA        1.66292e+08            1.57927e+06           434640\n",
      "\n",
      "[1 row x 145 columns]\n",
      "\n",
      "   | id  member_id  loan_amnt  funded_amnt  funded_amnt_inv  term  int_rate  installment  grade  sub_grade  …  settlement_status  settlement_date  settlement_amount  settlement_percentage  settlement_term\n",
      "-- + --  ---------  ---------  -----------  ---------------  ----  --------  -----------  -----  ---------     -----------------  ---------------  -----------------  ---------------------  ---------------\n",
      " 0 | NA         NA    15046.9      15041.7          15023.4    NA   13.0929      445.808     NA         NA  …                 NA               NA            5030.61                47.7756          13.1486\n",
      "\n",
      "[1 row x 145 columns]\n",
      "\n",
      "   | id  member_id  loan_amnt  funded_amnt  funded_amnt_inv  term  int_rate  installment  grade  sub_grade  …  settlement_status  settlement_date  settlement_amount  settlement_percentage  settlement_term\n",
      "-- + --  ---------  ---------  -----------  ---------------  ----  --------  -----------  -----  ---------     -----------------  ---------------  -----------------  ---------------------  ---------------\n",
      " 0 | NA         NA      40000        40000            40000  NA       30.99      1719.83  NA     NA         …  NA                 NA                           33601                 521.35              181\n",
      "\n",
      "[1 row x 145 columns]\n",
      "\n",
      "   | id  member_id  loan_amnt  funded_amnt  funded_amnt_inv  term  int_rate  installment  grade  sub_grade  …  settlement_status  settlement_date  settlement_amount  settlement_percentage  settlement_term\n",
      "-- + --  ---------  ---------  -----------  ---------------  ----  --------  -----------  -----  ---------     -----------------  ---------------  -----------------  ---------------------  ---------------\n",
      " 0 | NA         NA        500          500                0  NA        5.31         4.93  NA     NA         …  NA                 NA                           44.21                    0.2                0\n",
      "\n",
      "[1 row x 145 columns]\n",
      "\n",
      "   | id  member_id  loan_amnt  funded_amnt  funded_amnt_inv  term  int_rate  installment  grade  sub_grade  …  settlement_status  settlement_date  settlement_amount  settlement_percentage  settlement_term\n",
      "-- + --  ---------  ---------  -----------  ---------------  ----  --------  -----------  -----  ---------     -----------------  ---------------  -----------------  ---------------------  ---------------\n",
      " 0 |  0          0       1572         1572            10058     2       673        93296      7         35  …                  4               90              21519                   2045               40\n",
      "\n",
      "[1 row x 145 columns]\n",
      "\n",
      "CPU times: user 1min 6s, sys: 26.8 ms, total: 1min 6s\n",
      "Wall time: 8.47 s\n"
     ]
    }
   ],
   "source": [
    "%%time\n",
    "print(data_dt.sum()) # Per column sum\n",
    "print(data_dt.mean()) # Per column Mean\n",
    "print(data_dt.max()) # Per column Max\n",
    "print(data_dt.min()) # Per column Min\n",
    "print(data_dt.nunique()) # Per column Number of unique values"
   ]
  },
  {
   "cell_type": "markdown",
   "metadata": {},
   "source": [
    "### pandas"
   ]
  },
  {
   "cell_type": "code",
   "execution_count": 13,
   "metadata": {
    "scrolled": true
   },
   "outputs": [
    {
     "ename": "MemoryError",
     "evalue": "Unable to allocate array with shape (145, 2260668) and data type object",
     "output_type": "error",
     "traceback": [
      "\u001b[0;31m---------------------------------------------------------------------------\u001b[0m",
      "\u001b[0;31mMemoryError\u001b[0m                               Traceback (most recent call last)",
      "\u001b[0;32m<timed eval>\u001b[0m in \u001b[0;36m<module>\u001b[0;34m\u001b[0m\n",
      "\u001b[0;32m~/anaconda3/envs/tf/lib/python3.7/site-packages/pandas/core/generic.py\u001b[0m in \u001b[0;36mstat_func\u001b[0;34m(self, axis, skipna, level, numeric_only, min_count, **kwargs)\u001b[0m\n\u001b[1;32m  11180\u001b[0m             \u001b[0mskipna\u001b[0m\u001b[0;34m=\u001b[0m\u001b[0mskipna\u001b[0m\u001b[0;34m,\u001b[0m\u001b[0;34m\u001b[0m\u001b[0;34m\u001b[0m\u001b[0m\n\u001b[1;32m  11181\u001b[0m             \u001b[0mnumeric_only\u001b[0m\u001b[0;34m=\u001b[0m\u001b[0mnumeric_only\u001b[0m\u001b[0;34m,\u001b[0m\u001b[0;34m\u001b[0m\u001b[0;34m\u001b[0m\u001b[0m\n\u001b[0;32m> 11182\u001b[0;31m             \u001b[0mmin_count\u001b[0m\u001b[0;34m=\u001b[0m\u001b[0mmin_count\u001b[0m\u001b[0;34m,\u001b[0m\u001b[0;34m\u001b[0m\u001b[0;34m\u001b[0m\u001b[0m\n\u001b[0m\u001b[1;32m  11183\u001b[0m         )\n\u001b[1;32m  11184\u001b[0m \u001b[0;34m\u001b[0m\u001b[0m\n",
      "\u001b[0;32m~/anaconda3/envs/tf/lib/python3.7/site-packages/pandas/core/frame.py\u001b[0m in \u001b[0;36m_reduce\u001b[0;34m(self, op, name, axis, skipna, numeric_only, filter_type, **kwds)\u001b[0m\n\u001b[1;32m   7903\u001b[0m \u001b[0;34m\u001b[0m\u001b[0m\n\u001b[1;32m   7904\u001b[0m         \u001b[0;32mif\u001b[0m \u001b[0mnumeric_only\u001b[0m \u001b[0;32mis\u001b[0m \u001b[0;32mNone\u001b[0m\u001b[0;34m:\u001b[0m\u001b[0;34m\u001b[0m\u001b[0;34m\u001b[0m\u001b[0m\n\u001b[0;32m-> 7905\u001b[0;31m             \u001b[0mvalues\u001b[0m \u001b[0;34m=\u001b[0m \u001b[0mself\u001b[0m\u001b[0;34m.\u001b[0m\u001b[0mvalues\u001b[0m\u001b[0;34m\u001b[0m\u001b[0;34m\u001b[0m\u001b[0m\n\u001b[0m\u001b[1;32m   7906\u001b[0m             \u001b[0;32mtry\u001b[0m\u001b[0;34m:\u001b[0m\u001b[0;34m\u001b[0m\u001b[0;34m\u001b[0m\u001b[0m\n\u001b[1;32m   7907\u001b[0m                 \u001b[0mresult\u001b[0m \u001b[0;34m=\u001b[0m \u001b[0mf\u001b[0m\u001b[0;34m(\u001b[0m\u001b[0mvalues\u001b[0m\u001b[0;34m)\u001b[0m\u001b[0;34m\u001b[0m\u001b[0;34m\u001b[0m\u001b[0m\n",
      "\u001b[0;32m~/anaconda3/envs/tf/lib/python3.7/site-packages/pandas/core/generic.py\u001b[0m in \u001b[0;36mvalues\u001b[0;34m(self)\u001b[0m\n\u001b[1;32m   5485\u001b[0m         \"\"\"\n\u001b[1;32m   5486\u001b[0m         \u001b[0mself\u001b[0m\u001b[0;34m.\u001b[0m\u001b[0m_consolidate_inplace\u001b[0m\u001b[0;34m(\u001b[0m\u001b[0;34m)\u001b[0m\u001b[0;34m\u001b[0m\u001b[0;34m\u001b[0m\u001b[0m\n\u001b[0;32m-> 5487\u001b[0;31m         \u001b[0;32mreturn\u001b[0m \u001b[0mself\u001b[0m\u001b[0;34m.\u001b[0m\u001b[0m_data\u001b[0m\u001b[0;34m.\u001b[0m\u001b[0mas_array\u001b[0m\u001b[0;34m(\u001b[0m\u001b[0mtranspose\u001b[0m\u001b[0;34m=\u001b[0m\u001b[0mself\u001b[0m\u001b[0;34m.\u001b[0m\u001b[0m_AXIS_REVERSED\u001b[0m\u001b[0;34m)\u001b[0m\u001b[0;34m\u001b[0m\u001b[0;34m\u001b[0m\u001b[0m\n\u001b[0m\u001b[1;32m   5488\u001b[0m \u001b[0;34m\u001b[0m\u001b[0m\n\u001b[1;32m   5489\u001b[0m     \u001b[0;34m@\u001b[0m\u001b[0mproperty\u001b[0m\u001b[0;34m\u001b[0m\u001b[0;34m\u001b[0m\u001b[0m\n",
      "\u001b[0;32m~/anaconda3/envs/tf/lib/python3.7/site-packages/pandas/core/internals/managers.py\u001b[0m in \u001b[0;36mas_array\u001b[0;34m(self, transpose, items)\u001b[0m\n\u001b[1;32m    828\u001b[0m             \u001b[0marr\u001b[0m \u001b[0;34m=\u001b[0m \u001b[0mnp\u001b[0m\u001b[0;34m.\u001b[0m\u001b[0masarray\u001b[0m\u001b[0;34m(\u001b[0m\u001b[0mmgr\u001b[0m\u001b[0;34m.\u001b[0m\u001b[0mblocks\u001b[0m\u001b[0;34m[\u001b[0m\u001b[0;36m0\u001b[0m\u001b[0;34m]\u001b[0m\u001b[0;34m.\u001b[0m\u001b[0mget_values\u001b[0m\u001b[0;34m(\u001b[0m\u001b[0;34m)\u001b[0m\u001b[0;34m)\u001b[0m\u001b[0;34m\u001b[0m\u001b[0;34m\u001b[0m\u001b[0m\n\u001b[1;32m    829\u001b[0m         \u001b[0;32melse\u001b[0m\u001b[0;34m:\u001b[0m\u001b[0;34m\u001b[0m\u001b[0;34m\u001b[0m\u001b[0m\n\u001b[0;32m--> 830\u001b[0;31m             \u001b[0marr\u001b[0m \u001b[0;34m=\u001b[0m \u001b[0mmgr\u001b[0m\u001b[0;34m.\u001b[0m\u001b[0m_interleave\u001b[0m\u001b[0;34m(\u001b[0m\u001b[0;34m)\u001b[0m\u001b[0;34m\u001b[0m\u001b[0;34m\u001b[0m\u001b[0m\n\u001b[0m\u001b[1;32m    831\u001b[0m \u001b[0;34m\u001b[0m\u001b[0m\n\u001b[1;32m    832\u001b[0m         \u001b[0;32mreturn\u001b[0m \u001b[0marr\u001b[0m\u001b[0;34m.\u001b[0m\u001b[0mtranspose\u001b[0m\u001b[0;34m(\u001b[0m\u001b[0;34m)\u001b[0m \u001b[0;32mif\u001b[0m \u001b[0mtranspose\u001b[0m \u001b[0;32melse\u001b[0m \u001b[0marr\u001b[0m\u001b[0;34m\u001b[0m\u001b[0;34m\u001b[0m\u001b[0m\n",
      "\u001b[0;32m~/anaconda3/envs/tf/lib/python3.7/site-packages/pandas/core/internals/managers.py\u001b[0m in \u001b[0;36m_interleave\u001b[0;34m(self)\u001b[0m\n\u001b[1;32m    846\u001b[0m             \u001b[0mdtype\u001b[0m \u001b[0;34m=\u001b[0m \u001b[0;34m\"object\"\u001b[0m\u001b[0;34m\u001b[0m\u001b[0;34m\u001b[0m\u001b[0m\n\u001b[1;32m    847\u001b[0m \u001b[0;34m\u001b[0m\u001b[0m\n\u001b[0;32m--> 848\u001b[0;31m         \u001b[0mresult\u001b[0m \u001b[0;34m=\u001b[0m \u001b[0mnp\u001b[0m\u001b[0;34m.\u001b[0m\u001b[0mempty\u001b[0m\u001b[0;34m(\u001b[0m\u001b[0mself\u001b[0m\u001b[0;34m.\u001b[0m\u001b[0mshape\u001b[0m\u001b[0;34m,\u001b[0m \u001b[0mdtype\u001b[0m\u001b[0;34m=\u001b[0m\u001b[0mdtype\u001b[0m\u001b[0;34m)\u001b[0m\u001b[0;34m\u001b[0m\u001b[0;34m\u001b[0m\u001b[0m\n\u001b[0m\u001b[1;32m    849\u001b[0m \u001b[0;34m\u001b[0m\u001b[0m\n\u001b[1;32m    850\u001b[0m         \u001b[0mitemmask\u001b[0m \u001b[0;34m=\u001b[0m \u001b[0mnp\u001b[0m\u001b[0;34m.\u001b[0m\u001b[0mzeros\u001b[0m\u001b[0;34m(\u001b[0m\u001b[0mself\u001b[0m\u001b[0;34m.\u001b[0m\u001b[0mshape\u001b[0m\u001b[0;34m[\u001b[0m\u001b[0;36m0\u001b[0m\u001b[0;34m]\u001b[0m\u001b[0;34m)\u001b[0m\u001b[0;34m\u001b[0m\u001b[0;34m\u001b[0m\u001b[0m\n",
      "\u001b[0;31mMemoryError\u001b[0m: Unable to allocate array with shape (145, 2260668) and data type object"
     ]
    }
   ],
   "source": [
    "%%time\n",
    "print(data_pd.sum(axis=0)) # Per column sum"
   ]
  },
  {
   "cell_type": "markdown",
   "metadata": {},
   "source": [
    "As we can see from the two results cells above, **datatable** has no problems returning results from a number pof statistics, whereas pandas throws a memory error for a simple *sum* operation.\n",
    "\n",
    "## Data Handling\n",
    "\n",
    "Following are some of the ways you can work with the datatable frame for your specific needs.\n",
    "\n",
    "### Slicing\n",
    "\n",
    "The frames in datatable can be sliced in the same ways as pandas. Some examples are in the cells below:"
   ]
  },
  {
   "cell_type": "code",
   "execution_count": 7,
   "metadata": {
    "scrolled": true
   },
   "outputs": [
    {
     "data": {
      "text/html": [
       "<div class='datatable'>\n",
       "  <table class='frame'>\n",
       "  <thead>\n",
       "    <tr class='colnames'><td class='row_index'></td><th>int_rate</th></tr>\n",
       "    <tr class='coltypes'><td class='row_index'></td><td class='float' title='float64'>&#x25AA;&#x25AA;&#x25AA;&#x25AA;&#x25AA;&#x25AA;&#x25AA;&#x25AA;</td></tr>\n",
       "  </thead>\n",
       "  <tbody>\n",
       "    <tr><td class='row_index'>0</td><td>13.56</td></tr>\n",
       "    <tr><td class='row_index'>1</td><td>18.94</td></tr>\n",
       "    <tr><td class='row_index'>2</td><td>17.97</td></tr>\n",
       "    <tr><td class='row_index'>3</td><td>18.94</td></tr>\n",
       "    <tr><td class='row_index'>4</td><td>16.14</td></tr>\n",
       "    <tr><td class='row_index'>5</td><td>15.02</td></tr>\n",
       "    <tr><td class='row_index'>6</td><td>17.97</td></tr>\n",
       "    <tr><td class='row_index'>7</td><td>13.56</td></tr>\n",
       "    <tr><td class='row_index'>8</td><td>17.97</td></tr>\n",
       "    <tr><td class='row_index'>9</td><td>14.47</td></tr>\n",
       "    <tr><td class='row_index'>10</td><td>22.35</td></tr>\n",
       "    <tr><td class='row_index'>11</td><td>11.31</td></tr>\n",
       "    <tr><td class='row_index'>12</td><td>8.19</td></tr>\n",
       "    <tr><td class='row_index'>13</td><td>17.97</td></tr>\n",
       "    <tr><td class='row_index'>14</td><td>12.98</td></tr>\n",
       "    <tr><td class='row_index'>&#x22EE;</td><td class='hellipsis'>&#x22EE;</td></tr>\n",
       "    <tr><td class='row_index'>2,260,663</td><td>14.08</td></tr>\n",
       "    <tr><td class='row_index'>2,260,664</td><td>25.82</td></tr>\n",
       "    <tr><td class='row_index'>2,260,665</td><td>11.99</td></tr>\n",
       "    <tr><td class='row_index'>2,260,666</td><td>21.45</td></tr>\n",
       "    <tr><td class='row_index'>2,260,667</td><td>21.45</td></tr>\n",
       "  </tbody>\n",
       "  </table>\n",
       "  <div class='footer'>\n",
       "    <div class='frame_dimensions'>2,260,668 rows &times; 1 column</div>\n",
       "  </div>\n",
       "</div>\n"
      ],
      "text/plain": [
       "<Frame [2260668 rows x 1 col]>"
      ]
     },
     "execution_count": 7,
     "metadata": {},
     "output_type": "execute_result"
    }
   ],
   "source": [
    "data_dt[:,'int_rate'] # The int_rate column"
   ]
  },
  {
   "cell_type": "code",
   "execution_count": 8,
   "metadata": {},
   "outputs": [
    {
     "data": {
      "text/html": [
       "<div class='datatable'>\n",
       "  <table class='frame'>\n",
       "  <thead>\n",
       "    <tr class='colnames'><td class='row_index'></td><th>id</th><th>member_id</th><th>loan_amnt</th><th>funded_amnt</th><th>funded_amnt_inv</th></tr>\n",
       "    <tr class='coltypes'><td class='row_index'></td><td class='boolean' title='bool8'>&#x25AA;</td><td class='boolean' title='bool8'>&#x25AA;</td><td class='integer' title='int32'>&#x25AA;&#x25AA;&#x25AA;&#x25AA;</td><td class='integer' title='int32'>&#x25AA;&#x25AA;&#x25AA;&#x25AA;</td><td class='float' title='float64'>&#x25AA;&#x25AA;&#x25AA;&#x25AA;&#x25AA;&#x25AA;&#x25AA;&#x25AA;</td></tr>\n",
       "  </thead>\n",
       "  <tbody>\n",
       "    <tr><td class='row_index'>0</td><td><span class=na>NA</span></td><td><span class=na>NA</span></td><td>2500</td><td>2500</td><td>2500</td></tr>\n",
       "    <tr><td class='row_index'>1</td><td><span class=na>NA</span></td><td><span class=na>NA</span></td><td>30000</td><td>30000</td><td>30000</td></tr>\n",
       "    <tr><td class='row_index'>2</td><td><span class=na>NA</span></td><td><span class=na>NA</span></td><td>5000</td><td>5000</td><td>5000</td></tr>\n",
       "    <tr><td class='row_index'>3</td><td><span class=na>NA</span></td><td><span class=na>NA</span></td><td>4000</td><td>4000</td><td>4000</td></tr>\n",
       "    <tr><td class='row_index'>4</td><td><span class=na>NA</span></td><td><span class=na>NA</span></td><td>30000</td><td>30000</td><td>30000</td></tr>\n",
       "    <tr><td class='row_index'>5</td><td><span class=na>NA</span></td><td><span class=na>NA</span></td><td>5550</td><td>5550</td><td>5550</td></tr>\n",
       "    <tr><td class='row_index'>6</td><td><span class=na>NA</span></td><td><span class=na>NA</span></td><td>2000</td><td>2000</td><td>2000</td></tr>\n",
       "    <tr><td class='row_index'>7</td><td><span class=na>NA</span></td><td><span class=na>NA</span></td><td>6000</td><td>6000</td><td>6000</td></tr>\n",
       "    <tr><td class='row_index'>8</td><td><span class=na>NA</span></td><td><span class=na>NA</span></td><td>5000</td><td>5000</td><td>5000</td></tr>\n",
       "    <tr><td class='row_index'>9</td><td><span class=na>NA</span></td><td><span class=na>NA</span></td><td>6000</td><td>6000</td><td>6000</td></tr>\n",
       "  </tbody>\n",
       "  </table>\n",
       "  <div class='footer'>\n",
       "    <div class='frame_dimensions'>10 rows &times; 5 columns</div>\n",
       "  </div>\n",
       "</div>\n"
      ],
      "text/plain": [
       "<Frame [10 rows x 5 cols]>"
      ]
     },
     "execution_count": 8,
     "metadata": {},
     "output_type": "execute_result"
    }
   ],
   "source": [
    "data_dt[:10,:5] # The first 10 rows of the first 5 columns"
   ]
  },
  {
   "cell_type": "markdown",
   "metadata": {},
   "source": [
    "pandas frames can be sliced in the same way.\n",
    "\n",
    "### Filtering\n",
    "\n",
    "Datatable allows for filtering of data, by putting conditions in the index:"
   ]
  },
  {
   "cell_type": "code",
   "execution_count": 9,
   "metadata": {},
   "outputs": [
    {
     "data": {
      "text/html": [
       "<div class='datatable'>\n",
       "  <table class='frame'>\n",
       "  <thead>\n",
       "    <tr class='colnames'><td class='row_index'></td><th>loan_amnt</th></tr>\n",
       "    <tr class='coltypes'><td class='row_index'></td><td class='integer' title='int32'>&#x25AA;&#x25AA;&#x25AA;&#x25AA;</td></tr>\n",
       "  </thead>\n",
       "  <tbody>\n",
       "    <tr><td class='row_index'>0</td><td>2500</td></tr>\n",
       "    <tr><td class='row_index'>1</td><td>30000</td></tr>\n",
       "    <tr><td class='row_index'>2</td><td>5000</td></tr>\n",
       "    <tr><td class='row_index'>3</td><td>4000</td></tr>\n",
       "    <tr><td class='row_index'>4</td><td>30000</td></tr>\n",
       "    <tr><td class='row_index'>5</td><td>5550</td></tr>\n",
       "    <tr><td class='row_index'>6</td><td>2000</td></tr>\n",
       "    <tr><td class='row_index'>7</td><td>6000</td></tr>\n",
       "    <tr><td class='row_index'>8</td><td>5000</td></tr>\n",
       "    <tr><td class='row_index'>9</td><td>6000</td></tr>\n",
       "    <tr><td class='row_index'>10</td><td>5500</td></tr>\n",
       "    <tr><td class='row_index'>11</td><td>28000</td></tr>\n",
       "    <tr><td class='row_index'>12</td><td>6500</td></tr>\n",
       "    <tr><td class='row_index'>13</td><td>22000</td></tr>\n",
       "    <tr><td class='row_index'>14</td><td>3500</td></tr>\n",
       "    <tr><td class='row_index'>&#x22EE;</td><td class='hellipsis'>&#x22EE;</td></tr>\n",
       "    <tr><td class='row_index'>1,609,973</td><td>12000</td></tr>\n",
       "    <tr><td class='row_index'>1,609,974</td><td>12000</td></tr>\n",
       "    <tr><td class='row_index'>1,609,975</td><td>10000</td></tr>\n",
       "    <tr><td class='row_index'>1,609,976</td><td>12000</td></tr>\n",
       "    <tr><td class='row_index'>1,609,977</td><td>16550</td></tr>\n",
       "  </tbody>\n",
       "  </table>\n",
       "  <div class='footer'>\n",
       "    <div class='frame_dimensions'>1,609,978 rows &times; 1 column</div>\n",
       "  </div>\n",
       "</div>\n"
      ],
      "text/plain": [
       "<Frame [1609978 rows x 1 col]>"
      ]
     },
     "execution_count": 9,
     "metadata": {},
     "output_type": "execute_result"
    }
   ],
   "source": [
    "data_dt[dt.f.int_rate>10,\"loan_amnt\"] # loan amounts where int_rate is greater than ten"
   ]
  },
  {
   "cell_type": "markdown",
   "metadata": {},
   "source": [
    "The **dt.f** object refers to the \"frame proxy\" and represents the dataframe that is currently being operated on. It is through this that we can put conditionals on the columns etc.\n",
    "\n",
    "### Sorting\n",
    "\n",
    "Datatable,like pandas, also supports sorting by column, and performs significantly better.\n",
    "\n",
    "#### datatable"
   ]
  },
  {
   "cell_type": "code",
   "execution_count": 10,
   "metadata": {
    "scrolled": true
   },
   "outputs": [
    {
     "name": "stdout",
     "output_type": "stream",
     "text": [
      "CPU times: user 509 ms, sys: 0 ns, total: 509 ms\n",
      "Wall time: 70.8 ms\n"
     ]
    },
    {
     "data": {
      "text/html": [
       "<div class='datatable'>\n",
       "  <table class='frame'>\n",
       "  <thead>\n",
       "    <tr class='colnames'><td class='row_index'></td><th>id</th><th>member_id</th><th>loan_amnt</th><th>funded_amnt</th><th>funded_amnt_inv</th><th>term</th><th>int_rate</th><th>installment</th><th>grade</th><th>sub_grade</th><th class='vellipsis'>&hellip;</th><th>settlement_status</th><th>settlement_date</th><th>settlement_amount</th><th>settlement_percentage</th><th>settlement_term</th></tr>\n",
       "    <tr class='coltypes'><td class='row_index'></td><td class='boolean' title='bool8'>&#x25AA;</td><td class='boolean' title='bool8'>&#x25AA;</td><td class='integer' title='int32'>&#x25AA;&#x25AA;&#x25AA;&#x25AA;</td><td class='integer' title='int32'>&#x25AA;&#x25AA;&#x25AA;&#x25AA;</td><td class='float' title='float64'>&#x25AA;&#x25AA;&#x25AA;&#x25AA;&#x25AA;&#x25AA;&#x25AA;&#x25AA;</td><td class='string' title='str32'>&#x25AA;&#x25AA;&#x25AA;&#x25AA;</td><td class='float' title='float64'>&#x25AA;&#x25AA;&#x25AA;&#x25AA;&#x25AA;&#x25AA;&#x25AA;&#x25AA;</td><td class='float' title='float64'>&#x25AA;&#x25AA;&#x25AA;&#x25AA;&#x25AA;&#x25AA;&#x25AA;&#x25AA;</td><td class='string' title='str32'>&#x25AA;&#x25AA;&#x25AA;&#x25AA;</td><td class='string' title='str32'>&#x25AA;&#x25AA;&#x25AA;&#x25AA;</td><td></td><td class='string' title='str32'>&#x25AA;&#x25AA;&#x25AA;&#x25AA;</td><td class='string' title='str32'>&#x25AA;&#x25AA;&#x25AA;&#x25AA;</td><td class='float' title='float64'>&#x25AA;&#x25AA;&#x25AA;&#x25AA;&#x25AA;&#x25AA;&#x25AA;&#x25AA;</td><td class='float' title='float64'>&#x25AA;&#x25AA;&#x25AA;&#x25AA;&#x25AA;&#x25AA;&#x25AA;&#x25AA;</td><td class='integer' title='int32'>&#x25AA;&#x25AA;&#x25AA;&#x25AA;</td></tr>\n",
       "  </thead>\n",
       "  <tbody>\n",
       "    <tr><td class='row_index'>0</td><td><span class=na>NA</span></td><td><span class=na>NA</span></td><td>7500</td><td>7500</td><td>7500</td><td>36 months</td><td>5.31</td><td>225.83</td><td>A</td><td>A1</td><td class=vellipsis>&hellip;</td><td></td><td></td><td><span class=na>NA</span></td><td><span class=na>NA</span></td><td><span class=na>NA</span></td></tr>\n",
       "    <tr><td class='row_index'>1</td><td><span class=na>NA</span></td><td><span class=na>NA</span></td><td>20000</td><td>20000</td><td>20000</td><td>36 months</td><td>5.31</td><td>602.21</td><td>A</td><td>A1</td><td class=vellipsis>&hellip;</td><td></td><td></td><td><span class=na>NA</span></td><td><span class=na>NA</span></td><td><span class=na>NA</span></td></tr>\n",
       "    <tr><td class='row_index'>2</td><td><span class=na>NA</span></td><td><span class=na>NA</span></td><td>9900</td><td>9900</td><td>9900</td><td>36 months</td><td>5.31</td><td>298.1</td><td>A</td><td>A1</td><td class=vellipsis>&hellip;</td><td></td><td></td><td><span class=na>NA</span></td><td><span class=na>NA</span></td><td><span class=na>NA</span></td></tr>\n",
       "    <tr><td class='row_index'>3</td><td><span class=na>NA</span></td><td><span class=na>NA</span></td><td>15000</td><td>15000</td><td>15000</td><td>36 months</td><td>5.31</td><td>451.66</td><td>A</td><td>A1</td><td class=vellipsis>&hellip;</td><td></td><td></td><td><span class=na>NA</span></td><td><span class=na>NA</span></td><td><span class=na>NA</span></td></tr>\n",
       "    <tr><td class='row_index'>4</td><td><span class=na>NA</span></td><td><span class=na>NA</span></td><td>15000</td><td>15000</td><td>15000</td><td>36 months</td><td>5.31</td><td>451.66</td><td>A</td><td>A1</td><td class=vellipsis>&hellip;</td><td></td><td></td><td><span class=na>NA</span></td><td><span class=na>NA</span></td><td><span class=na>NA</span></td></tr>\n",
       "    <tr><td class='row_index'>5</td><td><span class=na>NA</span></td><td><span class=na>NA</span></td><td>30000</td><td>30000</td><td>30000</td><td>36 months</td><td>5.31</td><td>903.31</td><td>A</td><td>A1</td><td class=vellipsis>&hellip;</td><td></td><td></td><td><span class=na>NA</span></td><td><span class=na>NA</span></td><td><span class=na>NA</span></td></tr>\n",
       "    <tr><td class='row_index'>6</td><td><span class=na>NA</span></td><td><span class=na>NA</span></td><td>16000</td><td>16000</td><td>16000</td><td>36 months</td><td>5.31</td><td>481.77</td><td>A</td><td>A1</td><td class=vellipsis>&hellip;</td><td></td><td></td><td><span class=na>NA</span></td><td><span class=na>NA</span></td><td><span class=na>NA</span></td></tr>\n",
       "    <tr><td class='row_index'>7</td><td><span class=na>NA</span></td><td><span class=na>NA</span></td><td>10000</td><td>10000</td><td>10000</td><td>36 months</td><td>5.31</td><td>301.11</td><td>A</td><td>A1</td><td class=vellipsis>&hellip;</td><td></td><td></td><td><span class=na>NA</span></td><td><span class=na>NA</span></td><td><span class=na>NA</span></td></tr>\n",
       "    <tr><td class='row_index'>8</td><td><span class=na>NA</span></td><td><span class=na>NA</span></td><td>27000</td><td>27000</td><td>27000</td><td>60 months</td><td>5.31</td><td>513.37</td><td>A</td><td>A1</td><td class=vellipsis>&hellip;</td><td></td><td></td><td><span class=na>NA</span></td><td><span class=na>NA</span></td><td><span class=na>NA</span></td></tr>\n",
       "    <tr><td class='row_index'>9</td><td><span class=na>NA</span></td><td><span class=na>NA</span></td><td>35000</td><td>35000</td><td>35000</td><td>36 months</td><td>5.31</td><td>1053.86</td><td>A</td><td>A1</td><td class=vellipsis>&hellip;</td><td></td><td></td><td><span class=na>NA</span></td><td><span class=na>NA</span></td><td><span class=na>NA</span></td></tr>\n",
       "    <tr><td class='row_index'>10</td><td><span class=na>NA</span></td><td><span class=na>NA</span></td><td>25000</td><td>25000</td><td>25000</td><td>36 months</td><td>5.31</td><td>752.76</td><td>A</td><td>A1</td><td class=vellipsis>&hellip;</td><td></td><td></td><td><span class=na>NA</span></td><td><span class=na>NA</span></td><td><span class=na>NA</span></td></tr>\n",
       "    <tr><td class='row_index'>11</td><td><span class=na>NA</span></td><td><span class=na>NA</span></td><td>25000</td><td>25000</td><td>25000</td><td>36 months</td><td>5.31</td><td>752.76</td><td>A</td><td>A1</td><td class=vellipsis>&hellip;</td><td></td><td></td><td><span class=na>NA</span></td><td><span class=na>NA</span></td><td><span class=na>NA</span></td></tr>\n",
       "    <tr><td class='row_index'>12</td><td><span class=na>NA</span></td><td><span class=na>NA</span></td><td>12000</td><td>12000</td><td>12000</td><td>36 months</td><td>5.31</td><td>361.33</td><td>A</td><td>A1</td><td class=vellipsis>&hellip;</td><td></td><td></td><td><span class=na>NA</span></td><td><span class=na>NA</span></td><td><span class=na>NA</span></td></tr>\n",
       "    <tr><td class='row_index'>13</td><td><span class=na>NA</span></td><td><span class=na>NA</span></td><td>12000</td><td>12000</td><td>12000</td><td>36 months</td><td>5.31</td><td>361.33</td><td>A</td><td>A1</td><td class=vellipsis>&hellip;</td><td></td><td></td><td><span class=na>NA</span></td><td><span class=na>NA</span></td><td><span class=na>NA</span></td></tr>\n",
       "    <tr><td class='row_index'>14</td><td><span class=na>NA</span></td><td><span class=na>NA</span></td><td>20000</td><td>20000</td><td>20000</td><td>36 months</td><td>5.31</td><td>602.21</td><td>A</td><td>A1</td><td class=vellipsis>&hellip;</td><td></td><td></td><td><span class=na>NA</span></td><td><span class=na>NA</span></td><td><span class=na>NA</span></td></tr>\n",
       "    <tr><td class='row_index'>&#x22EE;</td><td class='hellipsis'>&#x22EE;</td><td class='hellipsis'>&#x22EE;</td><td class='hellipsis'>&#x22EE;</td><td class='hellipsis'>&#x22EE;</td><td class='hellipsis'>&#x22EE;</td><td class='hellipsis'>&#x22EE;</td><td class='hellipsis'>&#x22EE;</td><td class='hellipsis'>&#x22EE;</td><td class='hellipsis'>&#x22EE;</td><td class='hellipsis'>&#x22EE;</td><td class='hellipsis'>&#x22F1;</td><td class='hellipsis'>&#x22EE;</td><td class='hellipsis'>&#x22EE;</td><td class='hellipsis'>&#x22EE;</td><td class='hellipsis'>&#x22EE;</td><td class='hellipsis'>&#x22EE;</td></tr>\n",
       "    <tr><td class='row_index'>2,260,663</td><td><span class=na>NA</span></td><td><span class=na>NA</span></td><td>14500</td><td>14500</td><td>14500</td><td>60 months</td><td>30.99</td><td>477.98</td><td>G</td><td>G5</td><td class=vellipsis>&hellip;</td><td></td><td></td><td><span class=na>NA</span></td><td><span class=na>NA</span></td><td><span class=na>NA</span></td></tr>\n",
       "    <tr><td class='row_index'>2,260,664</td><td><span class=na>NA</span></td><td><span class=na>NA</span></td><td>13000</td><td>13000</td><td>13000</td><td>60 months</td><td>30.99</td><td>428.54</td><td>G</td><td>G5</td><td class=vellipsis>&hellip;</td><td></td><td></td><td><span class=na>NA</span></td><td><span class=na>NA</span></td><td><span class=na>NA</span></td></tr>\n",
       "    <tr><td class='row_index'>2,260,665</td><td><span class=na>NA</span></td><td><span class=na>NA</span></td><td>35000</td><td>35000</td><td>35000</td><td>60 months</td><td>30.99</td><td>1153.75</td><td>G</td><td>G5</td><td class=vellipsis>&hellip;</td><td></td><td></td><td><span class=na>NA</span></td><td><span class=na>NA</span></td><td><span class=na>NA</span></td></tr>\n",
       "    <tr><td class='row_index'>2,260,666</td><td><span class=na>NA</span></td><td><span class=na>NA</span></td><td>32500</td><td>32500</td><td>32500</td><td>60 months</td><td>30.99</td><td>1071.34</td><td>G</td><td>G5</td><td class=vellipsis>&hellip;</td><td></td><td></td><td><span class=na>NA</span></td><td><span class=na>NA</span></td><td><span class=na>NA</span></td></tr>\n",
       "    <tr><td class='row_index'>2,260,667</td><td><span class=na>NA</span></td><td><span class=na>NA</span></td><td>28000</td><td>28000</td><td>28000</td><td>60 months</td><td>30.99</td><td>923</td><td>G</td><td>G5</td><td class=vellipsis>&hellip;</td><td></td><td></td><td><span class=na>NA</span></td><td><span class=na>NA</span></td><td><span class=na>NA</span></td></tr>\n",
       "  </tbody>\n",
       "  </table>\n",
       "  <div class='footer'>\n",
       "    <div class='frame_dimensions'>2,260,668 rows &times; 145 columns</div>\n",
       "  </div>\n",
       "</div>\n"
      ],
      "text/plain": [
       "<Frame [2260668 rows x 145 cols]>"
      ]
     },
     "execution_count": 10,
     "metadata": {},
     "output_type": "execute_result"
    }
   ],
   "source": [
    "%%time\n",
    "data_dt.sort('int_rate')"
   ]
  },
  {
   "cell_type": "markdown",
   "metadata": {},
   "source": [
    "#### pandas"
   ]
  },
  {
   "cell_type": "code",
   "execution_count": 11,
   "metadata": {
    "scrolled": true
   },
   "outputs": [
    {
     "name": "stdout",
     "output_type": "stream",
     "text": [
      "CPU times: user 5.38 s, sys: 2.5 s, total: 7.88 s\n",
      "Wall time: 12.7 s\n"
     ]
    },
    {
     "data": {
      "text/html": [
       "<div>\n",
       "<style scoped>\n",
       "    .dataframe tbody tr th:only-of-type {\n",
       "        vertical-align: middle;\n",
       "    }\n",
       "\n",
       "    .dataframe tbody tr th {\n",
       "        vertical-align: top;\n",
       "    }\n",
       "\n",
       "    .dataframe thead th {\n",
       "        text-align: right;\n",
       "    }\n",
       "</style>\n",
       "<table border=\"1\" class=\"dataframe\">\n",
       "  <thead>\n",
       "    <tr style=\"text-align: right;\">\n",
       "      <th></th>\n",
       "      <th>id</th>\n",
       "      <th>member_id</th>\n",
       "      <th>loan_amnt</th>\n",
       "      <th>funded_amnt</th>\n",
       "      <th>funded_amnt_inv</th>\n",
       "      <th>term</th>\n",
       "      <th>int_rate</th>\n",
       "      <th>installment</th>\n",
       "      <th>grade</th>\n",
       "      <th>sub_grade</th>\n",
       "      <th>...</th>\n",
       "      <th>hardship_payoff_balance_amount</th>\n",
       "      <th>hardship_last_payment_amount</th>\n",
       "      <th>disbursement_method</th>\n",
       "      <th>debt_settlement_flag</th>\n",
       "      <th>debt_settlement_flag_date</th>\n",
       "      <th>settlement_status</th>\n",
       "      <th>settlement_date</th>\n",
       "      <th>settlement_amount</th>\n",
       "      <th>settlement_percentage</th>\n",
       "      <th>settlement_term</th>\n",
       "    </tr>\n",
       "  </thead>\n",
       "  <tbody>\n",
       "    <tr>\n",
       "      <th>238926</th>\n",
       "      <td>NaN</td>\n",
       "      <td>NaN</td>\n",
       "      <td>30000</td>\n",
       "      <td>30000</td>\n",
       "      <td>30000.0</td>\n",
       "      <td>36 months</td>\n",
       "      <td>5.31</td>\n",
       "      <td>903.31</td>\n",
       "      <td>A</td>\n",
       "      <td>A1</td>\n",
       "      <td>...</td>\n",
       "      <td>NaN</td>\n",
       "      <td>NaN</td>\n",
       "      <td>DirectPay</td>\n",
       "      <td>N</td>\n",
       "      <td>NaN</td>\n",
       "      <td>NaN</td>\n",
       "      <td>NaN</td>\n",
       "      <td>NaN</td>\n",
       "      <td>NaN</td>\n",
       "      <td>NaN</td>\n",
       "    </tr>\n",
       "    <tr>\n",
       "      <th>246668</th>\n",
       "      <td>NaN</td>\n",
       "      <td>NaN</td>\n",
       "      <td>40000</td>\n",
       "      <td>40000</td>\n",
       "      <td>40000.0</td>\n",
       "      <td>36 months</td>\n",
       "      <td>5.31</td>\n",
       "      <td>1204.42</td>\n",
       "      <td>A</td>\n",
       "      <td>A1</td>\n",
       "      <td>...</td>\n",
       "      <td>NaN</td>\n",
       "      <td>NaN</td>\n",
       "      <td>Cash</td>\n",
       "      <td>N</td>\n",
       "      <td>NaN</td>\n",
       "      <td>NaN</td>\n",
       "      <td>NaN</td>\n",
       "      <td>NaN</td>\n",
       "      <td>NaN</td>\n",
       "      <td>NaN</td>\n",
       "    </tr>\n",
       "    <tr>\n",
       "      <th>414210</th>\n",
       "      <td>NaN</td>\n",
       "      <td>NaN</td>\n",
       "      <td>6400</td>\n",
       "      <td>6400</td>\n",
       "      <td>6400.0</td>\n",
       "      <td>36 months</td>\n",
       "      <td>5.31</td>\n",
       "      <td>192.71</td>\n",
       "      <td>A</td>\n",
       "      <td>A1</td>\n",
       "      <td>...</td>\n",
       "      <td>NaN</td>\n",
       "      <td>NaN</td>\n",
       "      <td>Cash</td>\n",
       "      <td>N</td>\n",
       "      <td>NaN</td>\n",
       "      <td>NaN</td>\n",
       "      <td>NaN</td>\n",
       "      <td>NaN</td>\n",
       "      <td>NaN</td>\n",
       "      <td>NaN</td>\n",
       "    </tr>\n",
       "    <tr>\n",
       "      <th>414231</th>\n",
       "      <td>NaN</td>\n",
       "      <td>NaN</td>\n",
       "      <td>13000</td>\n",
       "      <td>13000</td>\n",
       "      <td>13000.0</td>\n",
       "      <td>36 months</td>\n",
       "      <td>5.31</td>\n",
       "      <td>391.44</td>\n",
       "      <td>A</td>\n",
       "      <td>A1</td>\n",
       "      <td>...</td>\n",
       "      <td>NaN</td>\n",
       "      <td>NaN</td>\n",
       "      <td>Cash</td>\n",
       "      <td>N</td>\n",
       "      <td>NaN</td>\n",
       "      <td>NaN</td>\n",
       "      <td>NaN</td>\n",
       "      <td>NaN</td>\n",
       "      <td>NaN</td>\n",
       "      <td>NaN</td>\n",
       "    </tr>\n",
       "    <tr>\n",
       "      <th>414237</th>\n",
       "      <td>NaN</td>\n",
       "      <td>NaN</td>\n",
       "      <td>6000</td>\n",
       "      <td>6000</td>\n",
       "      <td>6000.0</td>\n",
       "      <td>36 months</td>\n",
       "      <td>5.31</td>\n",
       "      <td>180.67</td>\n",
       "      <td>A</td>\n",
       "      <td>A1</td>\n",
       "      <td>...</td>\n",
       "      <td>NaN</td>\n",
       "      <td>NaN</td>\n",
       "      <td>Cash</td>\n",
       "      <td>N</td>\n",
       "      <td>NaN</td>\n",
       "      <td>NaN</td>\n",
       "      <td>NaN</td>\n",
       "      <td>NaN</td>\n",
       "      <td>NaN</td>\n",
       "      <td>NaN</td>\n",
       "    </tr>\n",
       "    <tr>\n",
       "      <th>...</th>\n",
       "      <td>...</td>\n",
       "      <td>...</td>\n",
       "      <td>...</td>\n",
       "      <td>...</td>\n",
       "      <td>...</td>\n",
       "      <td>...</td>\n",
       "      <td>...</td>\n",
       "      <td>...</td>\n",
       "      <td>...</td>\n",
       "      <td>...</td>\n",
       "      <td>...</td>\n",
       "      <td>...</td>\n",
       "      <td>...</td>\n",
       "      <td>...</td>\n",
       "      <td>...</td>\n",
       "      <td>...</td>\n",
       "      <td>...</td>\n",
       "      <td>...</td>\n",
       "      <td>...</td>\n",
       "      <td>...</td>\n",
       "      <td>...</td>\n",
       "    </tr>\n",
       "    <tr>\n",
       "      <th>2247965</th>\n",
       "      <td>NaN</td>\n",
       "      <td>NaN</td>\n",
       "      <td>18000</td>\n",
       "      <td>18000</td>\n",
       "      <td>18000.0</td>\n",
       "      <td>60 months</td>\n",
       "      <td>30.99</td>\n",
       "      <td>593.36</td>\n",
       "      <td>G</td>\n",
       "      <td>G5</td>\n",
       "      <td>...</td>\n",
       "      <td>NaN</td>\n",
       "      <td>NaN</td>\n",
       "      <td>Cash</td>\n",
       "      <td>N</td>\n",
       "      <td>NaN</td>\n",
       "      <td>NaN</td>\n",
       "      <td>NaN</td>\n",
       "      <td>NaN</td>\n",
       "      <td>NaN</td>\n",
       "      <td>NaN</td>\n",
       "    </tr>\n",
       "    <tr>\n",
       "      <th>1408883</th>\n",
       "      <td>NaN</td>\n",
       "      <td>NaN</td>\n",
       "      <td>22875</td>\n",
       "      <td>22875</td>\n",
       "      <td>22875.0</td>\n",
       "      <td>36 months</td>\n",
       "      <td>30.99</td>\n",
       "      <td>983.53</td>\n",
       "      <td>G</td>\n",
       "      <td>G5</td>\n",
       "      <td>...</td>\n",
       "      <td>NaN</td>\n",
       "      <td>NaN</td>\n",
       "      <td>Cash</td>\n",
       "      <td>N</td>\n",
       "      <td>NaN</td>\n",
       "      <td>NaN</td>\n",
       "      <td>NaN</td>\n",
       "      <td>NaN</td>\n",
       "      <td>NaN</td>\n",
       "      <td>NaN</td>\n",
       "    </tr>\n",
       "    <tr>\n",
       "      <th>1454082</th>\n",
       "      <td>NaN</td>\n",
       "      <td>NaN</td>\n",
       "      <td>27425</td>\n",
       "      <td>27425</td>\n",
       "      <td>27425.0</td>\n",
       "      <td>36 months</td>\n",
       "      <td>30.99</td>\n",
       "      <td>1179.16</td>\n",
       "      <td>G</td>\n",
       "      <td>G5</td>\n",
       "      <td>...</td>\n",
       "      <td>NaN</td>\n",
       "      <td>NaN</td>\n",
       "      <td>Cash</td>\n",
       "      <td>N</td>\n",
       "      <td>NaN</td>\n",
       "      <td>NaN</td>\n",
       "      <td>NaN</td>\n",
       "      <td>NaN</td>\n",
       "      <td>NaN</td>\n",
       "      <td>NaN</td>\n",
       "    </tr>\n",
       "    <tr>\n",
       "      <th>1372582</th>\n",
       "      <td>NaN</td>\n",
       "      <td>NaN</td>\n",
       "      <td>12650</td>\n",
       "      <td>12650</td>\n",
       "      <td>12650.0</td>\n",
       "      <td>36 months</td>\n",
       "      <td>30.99</td>\n",
       "      <td>543.90</td>\n",
       "      <td>G</td>\n",
       "      <td>G5</td>\n",
       "      <td>...</td>\n",
       "      <td>NaN</td>\n",
       "      <td>NaN</td>\n",
       "      <td>Cash</td>\n",
       "      <td>N</td>\n",
       "      <td>NaN</td>\n",
       "      <td>NaN</td>\n",
       "      <td>NaN</td>\n",
       "      <td>NaN</td>\n",
       "      <td>NaN</td>\n",
       "      <td>NaN</td>\n",
       "    </tr>\n",
       "    <tr>\n",
       "      <th>1570032</th>\n",
       "      <td>NaN</td>\n",
       "      <td>NaN</td>\n",
       "      <td>14000</td>\n",
       "      <td>14000</td>\n",
       "      <td>14000.0</td>\n",
       "      <td>60 months</td>\n",
       "      <td>30.99</td>\n",
       "      <td>461.50</td>\n",
       "      <td>G</td>\n",
       "      <td>G5</td>\n",
       "      <td>...</td>\n",
       "      <td>NaN</td>\n",
       "      <td>NaN</td>\n",
       "      <td>Cash</td>\n",
       "      <td>N</td>\n",
       "      <td>NaN</td>\n",
       "      <td>NaN</td>\n",
       "      <td>NaN</td>\n",
       "      <td>NaN</td>\n",
       "      <td>NaN</td>\n",
       "      <td>NaN</td>\n",
       "    </tr>\n",
       "  </tbody>\n",
       "</table>\n",
       "<p>2260668 rows × 145 columns</p>\n",
       "</div>"
      ],
      "text/plain": [
       "         id  member_id  loan_amnt  funded_amnt  funded_amnt_inv        term  \\\n",
       "238926  NaN        NaN      30000        30000          30000.0   36 months   \n",
       "246668  NaN        NaN      40000        40000          40000.0   36 months   \n",
       "414210  NaN        NaN       6400         6400           6400.0   36 months   \n",
       "414231  NaN        NaN      13000        13000          13000.0   36 months   \n",
       "414237  NaN        NaN       6000         6000           6000.0   36 months   \n",
       "...      ..        ...        ...          ...              ...         ...   \n",
       "2247965 NaN        NaN      18000        18000          18000.0   60 months   \n",
       "1408883 NaN        NaN      22875        22875          22875.0   36 months   \n",
       "1454082 NaN        NaN      27425        27425          27425.0   36 months   \n",
       "1372582 NaN        NaN      12650        12650          12650.0   36 months   \n",
       "1570032 NaN        NaN      14000        14000          14000.0   60 months   \n",
       "\n",
       "         int_rate  installment grade sub_grade  ...  \\\n",
       "238926       5.31       903.31     A        A1  ...   \n",
       "246668       5.31      1204.42     A        A1  ...   \n",
       "414210       5.31       192.71     A        A1  ...   \n",
       "414231       5.31       391.44     A        A1  ...   \n",
       "414237       5.31       180.67     A        A1  ...   \n",
       "...           ...          ...   ...       ...  ...   \n",
       "2247965     30.99       593.36     G        G5  ...   \n",
       "1408883     30.99       983.53     G        G5  ...   \n",
       "1454082     30.99      1179.16     G        G5  ...   \n",
       "1372582     30.99       543.90     G        G5  ...   \n",
       "1570032     30.99       461.50     G        G5  ...   \n",
       "\n",
       "        hardship_payoff_balance_amount hardship_last_payment_amount  \\\n",
       "238926                             NaN                          NaN   \n",
       "246668                             NaN                          NaN   \n",
       "414210                             NaN                          NaN   \n",
       "414231                             NaN                          NaN   \n",
       "414237                             NaN                          NaN   \n",
       "...                                ...                          ...   \n",
       "2247965                            NaN                          NaN   \n",
       "1408883                            NaN                          NaN   \n",
       "1454082                            NaN                          NaN   \n",
       "1372582                            NaN                          NaN   \n",
       "1570032                            NaN                          NaN   \n",
       "\n",
       "        disbursement_method  debt_settlement_flag debt_settlement_flag_date  \\\n",
       "238926            DirectPay                     N                       NaN   \n",
       "246668                 Cash                     N                       NaN   \n",
       "414210                 Cash                     N                       NaN   \n",
       "414231                 Cash                     N                       NaN   \n",
       "414237                 Cash                     N                       NaN   \n",
       "...                     ...                   ...                       ...   \n",
       "2247965                Cash                     N                       NaN   \n",
       "1408883                Cash                     N                       NaN   \n",
       "1454082                Cash                     N                       NaN   \n",
       "1372582                Cash                     N                       NaN   \n",
       "1570032                Cash                     N                       NaN   \n",
       "\n",
       "        settlement_status settlement_date settlement_amount  \\\n",
       "238926                NaN             NaN               NaN   \n",
       "246668                NaN             NaN               NaN   \n",
       "414210                NaN             NaN               NaN   \n",
       "414231                NaN             NaN               NaN   \n",
       "414237                NaN             NaN               NaN   \n",
       "...                   ...             ...               ...   \n",
       "2247965               NaN             NaN               NaN   \n",
       "1408883               NaN             NaN               NaN   \n",
       "1454082               NaN             NaN               NaN   \n",
       "1372582               NaN             NaN               NaN   \n",
       "1570032               NaN             NaN               NaN   \n",
       "\n",
       "         settlement_percentage settlement_term  \n",
       "238926                     NaN             NaN  \n",
       "246668                     NaN             NaN  \n",
       "414210                     NaN             NaN  \n",
       "414231                     NaN             NaN  \n",
       "414237                     NaN             NaN  \n",
       "...                        ...             ...  \n",
       "2247965                    NaN             NaN  \n",
       "1408883                    NaN             NaN  \n",
       "1454082                    NaN             NaN  \n",
       "1372582                    NaN             NaN  \n",
       "1570032                    NaN             NaN  \n",
       "\n",
       "[2260668 rows x 145 columns]"
      ]
     },
     "execution_count": 11,
     "metadata": {},
     "output_type": "execute_result"
    }
   ],
   "source": [
    "%%time\n",
    "data_pd.sort_values(by = 'int_rate')"
   ]
  },
  {
   "cell_type": "markdown",
   "metadata": {},
   "source": [
    "As we can see the pandas dataframe sorts much slower(It sometimes throws a memory error also).\n",
    "\n",
    "### Saving Dataframe"
   ]
  },
  {
   "cell_type": "code",
   "execution_count": 12,
   "metadata": {},
   "outputs": [],
   "source": [
    "data_dt.to_csv('output.csv')"
   ]
  },
  {
   "cell_type": "markdown",
   "metadata": {},
   "source": [
    "## Conclusion\n",
    "\n",
    "As we have seen in this spotlight, the datatable package gives us the ability to handle and manipulate extremely large datasets, where pandas fails. This will make many tasks, especially the inital steps where we play around with data, significantly easier.\n",
    "\n",
    "## References\n",
    "\n",
    "- https://towardsdatascience.com/an-overview-of-pythons-datatable-package-5d3a97394ee9\n",
    "- https://datatable.readthedocs.io/en/v0.10.1/"
   ]
  },
  {
   "cell_type": "code",
   "execution_count": null,
   "metadata": {},
   "outputs": [],
   "source": []
  }
 ],
 "metadata": {
  "file_extension": ".py",
  "kernelspec": {
   "display_name": "Python 3",
   "language": "python",
   "name": "python3"
  },
  "language_info": {
   "codemirror_mode": {
    "name": "ipython",
    "version": 3
   },
   "file_extension": ".py",
   "mimetype": "text/x-python",
   "name": "python",
   "nbconvert_exporter": "python",
   "pygments_lexer": "ipython3",
   "version": "3.7.4"
  },
  "mimetype": "text/x-python",
  "name": "python",
  "npconvert_exporter": "python",
  "pygments_lexer": "ipython3",
  "version": 3
 },
 "nbformat": 4,
 "nbformat_minor": 2
}
