{
 "cells": [
  {
   "cell_type": "markdown",
   "metadata": {},
   "source": [
    "# spaCy\n",
    "\n",
    "\n",
    "\n",
    "## 1. Introducton\n",
    "\n",
    "spaCy is an open-source software library for advanced natural language processing, written in the programming languages Python and Cython. The library is published under the MIT license and currently offers statistical neural network models for English, German, Greek, Spanish, Portuguese, French, Italian, Dutch, Lithuanian, Norwegian and multi-language NER, as well as tokenization for various other languages.\n",
    "\n",
    "spaCy is designed specifically for production use and helps you build applications that process and “understand” large volumes of text. It can be used to build information extraction or natural language understanding systems, or to pre-process text for deep learning."
   ]
  },
  {
   "cell_type": "markdown",
   "metadata": {},
   "source": [
    "## 2. Features\n",
    "\n",
    "### 2.1 Tokenization\n",
    "\n",
    "Tokenization is the process of segmenting text into words, punctuations marks etc."
   ]
  },
  {
   "cell_type": "code",
   "execution_count": 2,
   "metadata": {},
   "outputs": [
    {
     "name": "stdout",
     "output_type": "stream",
     "text": [
      "['Texas', 'A&M', \"'s\", 'College', 'Station', 'campus', ',', 'one', 'of', 'the', 'largest', 'in', 'America', ',', 'spans', '5,200', 'acres', 'plus', '350', 'acres', 'for', 'Research', 'Park', '.', 'The', 'university', 'is', 'part', 'of', 'the', 'Bryan', '-', 'College', 'Station', 'metropolitan', 'area', 'located', 'within', 'Brazos', 'County', 'in', 'the', 'Brazos', 'Valley', '(', 'Southeast', 'Central', 'Texas', ')', 'region', ',', 'an', 'area', 'often', 'referred', 'to', 'as', '\"', 'Aggieland', '\"', '.', 'According', 'to', 'the', 'U.S.', 'Census', 'Bureau', ',', 'as', 'of', '2008', ',', 'the', 'population', 'of', 'Brazos', 'County', 'is', 'estimated', 'at', '175,122', '.']\n"
     ]
    }
   ],
   "source": [
    "import spacy\n",
    "nlp = spacy.load(\"en_core_web_sm\")\n",
    "\n",
    "sample = \"Texas A&M's College Station campus, one of the largest in America, spans 5,200 acres \\\n",
    "plus 350 acres for Research Park. The university is part of the Bryan-College Station \\\n",
    "metropolitan area located within Brazos County in the Brazos Valley (Southeast Central Texas) region, \\\n",
    "an area often referred to as \\\"Aggieland\\\". According to the U.S. Census Bureau, as of 2008, the \\\n",
    "population of Brazos County is estimated at 175,122.\"\n",
    "\n",
    "doc = nlp(sample)\n",
    "sample_tokenized = []\n",
    "for token in doc:\n",
    "    sample_tokenized.append(token.text)\n",
    "print(sample_tokenized)"
   ]
  },
  {
   "cell_type": "markdown",
   "metadata": {},
   "source": [
    "spaCy’s tokenization is non-destructive, which means after processing the text, spaCy will keep all the information about the original text intact within the Doc object."
   ]
  },
  {
   "cell_type": "markdown",
   "metadata": {},
   "source": [
    "### 2.2 Sentence Boundary Detection (SBD)\n",
    "\n",
    "This is the process of finding and segmenting text into individual sentences."
   ]
  },
  {
   "cell_type": "code",
   "execution_count": 3,
   "metadata": {},
   "outputs": [
    {
     "name": "stdout",
     "output_type": "stream",
     "text": [
      "Texas A&M's College Station campus, one of the largest in America, spans 5,200 acres plus 350 acres for Research Park.\n",
      "The university is part of the Bryan-College Station metropolitan area located within Brazos County in the Brazos Valley (Southeast Central Texas) region, an area often referred to as \"Aggieland\".\n",
      "According to the U.S. Census Bureau, as of 2008, the population of Brazos County is estimated at 175,122.\n"
     ]
    }
   ],
   "source": [
    "for sent in doc.sents:\n",
    "    print(sent)"
   ]
  },
  {
   "cell_type": "markdown",
   "metadata": {},
   "source": [
    "### 2.3 Part-of-speech (POS) Tagging\n",
    "\n",
    "POS tagging assigns word types to tokens, like verb or noun."
   ]
  },
  {
   "cell_type": "code",
   "execution_count": 4,
   "metadata": {},
   "outputs": [
    {
     "name": "stdout",
     "output_type": "stream",
     "text": [
      "Texas PROPN NNP Xxxxx True False\n",
      "A&M PROPN NNP X&X False False\n",
      "'s PART POS 'x False False\n",
      "College PROPN NNP Xxxxx True False\n",
      "Station PROPN NNP Xxxxx True False\n",
      "campus NOUN NN xxxx True False\n",
      ", PUNCT , , False False\n",
      "one NUM CD xxx True True\n",
      "of ADP IN xx True True\n",
      "the DET DT xxx True True\n",
      "largest ADJ JJS xxxx True False\n",
      "in ADP IN xx True True\n",
      "America PROPN NNP Xxxxx True False\n",
      ", PUNCT , , False False\n",
      "spans VERB VBZ xxxx True False\n",
      "5,200 NUM CD d,ddd False False\n",
      "acres NOUN NNS xxxx True False\n",
      "plus CCONJ CC xxxx True False\n",
      "350 NUM CD ddd False False\n",
      "acres NOUN NNS xxxx True False\n",
      "for ADP IN xxx True True\n",
      "Research PROPN NNP Xxxxx True False\n",
      "Park PROPN NNP Xxxx True False\n",
      ". PUNCT . . False False\n",
      "The DET DT Xxx True False\n",
      "university NOUN NN xxxx True False\n",
      "is VERB VBZ xx True True\n",
      "part NOUN NN xxxx True True\n",
      "of ADP IN xx True True\n",
      "the DET DT xxx True True\n",
      "Bryan PROPN NNP Xxxxx True False\n",
      "- PUNCT HYPH - False False\n",
      "College PROPN NNP Xxxxx True False\n",
      "Station PROPN NNP Xxxxx True False\n",
      "metropolitan ADJ JJ xxxx True False\n",
      "area NOUN NN xxxx True False\n",
      "located VERB VBN xxxx True False\n",
      "within ADP IN xxxx True True\n",
      "Brazos PROPN NNP Xxxxx True False\n",
      "County PROPN NNP Xxxxx True False\n",
      "in ADP IN xx True True\n",
      "the DET DT xxx True True\n",
      "Brazos PROPN NNP Xxxxx True False\n",
      "Valley PROPN NNP Xxxxx True False\n",
      "( PUNCT -LRB- ( False False\n",
      "Southeast PROPN NNP Xxxxx True False\n",
      "Central PROPN NNP Xxxxx True False\n",
      "Texas PROPN NNP Xxxxx True False\n",
      ") PUNCT -RRB- ) False False\n",
      "region NOUN NN xxxx True False\n",
      ", PUNCT , , False False\n",
      "an DET DT xx True True\n",
      "area NOUN NN xxxx True False\n",
      "often ADV RB xxxx True True\n",
      "referred VERB VBD xxxx True False\n",
      "to ADP IN xx True True\n",
      "as ADP IN xx True True\n",
      "\" PUNCT `` \" False False\n",
      "Aggieland PROPN NNP Xxxxx True False\n",
      "\" PUNCT '' \" False False\n",
      ". PUNCT . . False False\n",
      "According VERB VBG Xxxxx True False\n",
      "to ADP IN xx True True\n",
      "the DET DT xxx True True\n",
      "U.S. PROPN NNP X.X. False False\n",
      "Census PROPN NNP Xxxxx True False\n",
      "Bureau PROPN NNP Xxxxx True False\n",
      ", PUNCT , , False False\n",
      "as ADP IN xx True True\n",
      "of ADP IN xx True True\n",
      "2008 NUM CD dddd False False\n",
      ", PUNCT , , False False\n",
      "the DET DT xxx True True\n",
      "population NOUN NN xxxx True False\n",
      "of ADP IN xx True True\n",
      "Brazos PROPN NNP Xxxxx True False\n",
      "County PROPN NNP Xxxxx True False\n",
      "is VERB VBZ xx True True\n",
      "estimated VERB VBN xxxx True False\n",
      "at ADP IN xx True True\n",
      "175,122 NUM CD ddd,ddd False False\n",
      ". PUNCT . . False False\n"
     ]
    }
   ],
   "source": [
    "for token in doc:\n",
    "    print(token.text, token.pos_, token.tag_, token.shape_, token.is_alpha, token.is_stop)"
   ]
  },
  {
   "cell_type": "markdown",
   "metadata": {},
   "source": [
    "The attributes of the token object represent the following:\n",
    "\n",
    "* **text**: The original word text.\n",
    "* **pos_**: The coarse-grained part-of-speech tag.\n",
    "* **tag_**: The fine-grained part-of-speech tag.\n",
    "* **shape_**: Transform of the tokens’s string, to show orthographic features.\n",
    "* **is_alpha**: Is the token of an alpha character.\n",
    "* **is_stop**: Is the token a stopword."
   ]
  },
  {
   "cell_type": "markdown",
   "metadata": {},
   "source": [
    "### 2.4 Named Entity Recognition (NER)\n",
    "\n",
    "NER is the process of labelling named “real-world” objects, like persons, companies or locations."
   ]
  },
  {
   "cell_type": "code",
   "execution_count": 5,
   "metadata": {},
   "outputs": [
    {
     "name": "stdout",
     "output_type": "stream",
     "text": [
      "Texas A&M's ORG\n",
      "College Station ORG\n",
      "one CARDINAL\n",
      "America GPE\n",
      "5,200 acres plus 350 acres QUANTITY\n",
      "Research Park FAC\n",
      "the Bryan-College Station ORG\n",
      "Brazos County GPE\n",
      "the Brazos Valley LOC\n",
      "Southeast Central Texas LOC\n",
      "Aggieland PERSON\n",
      "the U.S. Census Bureau ORG\n",
      "2008 DATE\n",
      "Brazos County GPE\n",
      "175,122 CARDINAL\n"
     ]
    }
   ],
   "source": [
    "for ent in doc.ents:\n",
    "    print(ent.text, ent.label_)"
   ]
  },
  {
   "cell_type": "markdown",
   "metadata": {},
   "source": [
    "### 2.5 Lemmatization\n",
    "\n",
    "Assigning the base forms of words. For example, the lemma of “was” is “be”, and the lemma of “rats” is “rat”."
   ]
  },
  {
   "cell_type": "code",
   "execution_count": 6,
   "metadata": {},
   "outputs": [
    {
     "name": "stdout",
     "output_type": "stream",
     "text": [
      "[['Texas', 'texas'], ['A&M', 'a&m'], [\"'s\", \"'s\"], ['College', 'college'], ['Station', 'station'], ['campus', 'campus'], [',', ','], ['one', 'one'], ['of', 'of'], ['the', 'the'], ['largest', 'large'], ['in', 'in'], ['America', 'america'], [',', ','], ['spans', 'span'], ['5,200', '5,200'], ['acres', 'acre'], ['plus', 'plus'], ['350', '350'], ['acres', 'acre'], ['for', 'for'], ['Research', 'research'], ['Park', 'park'], ['.', '.'], ['The', 'the'], ['university', 'university'], ['is', 'be'], ['part', 'part'], ['of', 'of'], ['the', 'the'], ['Bryan', 'bryan'], ['-', '-'], ['College', 'college'], ['Station', 'station'], ['metropolitan', 'metropolitan'], ['area', 'area'], ['located', 'locate'], ['within', 'within'], ['Brazos', 'brazos'], ['County', 'county'], ['in', 'in'], ['the', 'the'], ['Brazos', 'brazos'], ['Valley', 'valley'], ['(', '('], ['Southeast', 'southeast'], ['Central', 'central'], ['Texas', 'texas'], [')', ')'], ['region', 'region'], [',', ','], ['an', 'an'], ['area', 'area'], ['often', 'often'], ['referred', 'refer'], ['to', 'to'], ['as', 'as'], ['\"', '\"'], ['Aggieland', 'aggieland'], ['\"', '\"'], ['.', '.'], ['According', 'accord'], ['to', 'to'], ['the', 'the'], ['U.S.', 'u.s.'], ['Census', 'census'], ['Bureau', 'bureau'], [',', ','], ['as', 'as'], ['of', 'of'], ['2008', '2008'], [',', ','], ['the', 'the'], ['population', 'population'], ['of', 'of'], ['Brazos', 'brazos'], ['County', 'county'], ['is', 'be'], ['estimated', 'estimate'], ['at', 'at'], ['175,122', '175,122'], ['.', '.']]\n"
     ]
    }
   ],
   "source": [
    "sample_lemma = []\n",
    "for token in doc:\n",
    "    sample_lemma.append([token.text, token.lemma_])\n",
    "print(sample_lemma)"
   ]
  },
  {
   "cell_type": "markdown",
   "metadata": {},
   "source": [
    "### 2.6 Chunking\n",
    "\n",
    "Chunking is the process of extracting noun phrases from the text."
   ]
  },
  {
   "cell_type": "code",
   "execution_count": 7,
   "metadata": {},
   "outputs": [
    {
     "name": "stdout",
     "output_type": "stream",
     "text": [
      "Texas A&M's College Station campus campus nsubj spans\n",
      "America America pobj in\n",
      "5,200 acres acres dobj spans\n",
      "350 acres acres conj acres\n",
      "Research Park Park pobj for\n",
      "The university university nsubj is\n",
      "part part attr is\n",
      "the Bryan-College Station metropolitan area area pobj of\n",
      "Brazos County County pobj within\n",
      "the Brazos Valley (Southeast Central Texas) region region pobj in\n",
      "an area area nsubj referred\n",
      "Aggieland Aggieland pobj as\n",
      "the U.S. Census Bureau Bureau pobj to\n",
      "the population population nsubjpass estimated\n",
      "Brazos County County pobj of\n"
     ]
    }
   ],
   "source": [
    "for chunk in doc.noun_chunks:\n",
    "    print(chunk.text, chunk.root.text, chunk.root.dep_, chunk.root.head.text)"
   ]
  },
  {
   "cell_type": "markdown",
   "metadata": {},
   "source": [
    "The attributes of the token object represent the following:\n",
    "\n",
    "* **text**: The original word text.\n",
    "* **root.text**: The original text of the word connecting the noun chunk to the rest of the parse.\n",
    "* **root.dep_**: Dependency relation connecting the root to its head.\n",
    "* **root.head.text**: The text of the root token’s head."
   ]
  },
  {
   "cell_type": "markdown",
   "metadata": {},
   "source": [
    "### 2.7 Dependency Parsing\n",
    "\n",
    "Dependency parsing is the process of assigning syntactic dependency labels, describing the relations between individual tokens, like subject or object."
   ]
  },
  {
   "cell_type": "code",
   "execution_count": 8,
   "metadata": {},
   "outputs": [
    {
     "name": "stdout",
     "output_type": "stream",
     "text": [
      "Texas compound A&M PROPN []\n",
      "A&M poss campus NOUN [Texas, 's]\n",
      "'s case A&M PROPN []\n",
      "College compound Station PROPN []\n",
      "Station compound campus NOUN [College]\n",
      "campus nsubj spans VERB [A&M, Station, ,, one, ,]\n",
      ", punct campus NOUN []\n",
      "one appos campus NOUN [of]\n",
      "of prep one NUM [largest]\n",
      "the det largest ADJ []\n",
      "largest pobj of ADP [the, in]\n",
      "in prep largest ADJ [America]\n",
      "America pobj in ADP []\n",
      ", punct campus NOUN []\n",
      "spans ROOT spans VERB [campus, acres, .]\n",
      "5,200 nummod acres NOUN []\n",
      "acres dobj spans VERB [5,200, plus, acres]\n",
      "plus cc acres NOUN []\n",
      "350 nummod acres NOUN []\n",
      "acres conj acres NOUN [350, for]\n",
      "for prep acres NOUN [Park]\n",
      "Research compound Park PROPN []\n",
      "Park pobj for ADP [Research]\n",
      ". punct spans VERB []\n",
      "The det university NOUN []\n",
      "university nsubj is VERB [The]\n",
      "is ccomp referred VERB [university, part]\n",
      "part attr is VERB [of]\n",
      "of prep part NOUN [area]\n",
      "the det area NOUN []\n",
      "Bryan compound College PROPN []\n",
      "- punct College PROPN []\n",
      "College nmod Station PROPN [Bryan, -]\n",
      "Station nmod area NOUN [College]\n",
      "metropolitan amod area NOUN []\n",
      "area pobj of ADP [the, Station, metropolitan, located]\n",
      "located acl area NOUN [within, in]\n",
      "within prep located VERB [County]\n",
      "Brazos compound County PROPN []\n",
      "County pobj within ADP [Brazos]\n",
      "in prep located VERB [region]\n",
      "the det Valley PROPN []\n",
      "Brazos compound Valley PROPN []\n",
      "Valley nmod region NOUN [the, Brazos]\n",
      "( punct region NOUN []\n",
      "Southeast nmod Texas PROPN []\n",
      "Central nmod Texas PROPN []\n",
      "Texas nmod region NOUN [Southeast, Central]\n",
      ") punct region NOUN []\n",
      "region pobj in ADP [Valley, (, Texas, )]\n",
      ", punct referred VERB []\n",
      "an det area NOUN []\n",
      "area nsubj referred VERB [an]\n",
      "often advmod referred VERB []\n",
      "referred ROOT referred VERB [is, ,, area, often, to, as, .]\n",
      "to prep referred VERB []\n",
      "as prep referred VERB [\", Aggieland, \"]\n",
      "\" punct as ADP []\n",
      "Aggieland pobj as ADP []\n",
      "\" punct as ADP []\n",
      ". punct referred VERB []\n",
      "According prep estimated VERB [to]\n",
      "to prep According VERB [Bureau]\n",
      "the det Bureau PROPN []\n",
      "U.S. compound Bureau PROPN []\n",
      "Census compound Bureau PROPN []\n",
      "Bureau pobj to ADP [the, U.S., Census]\n",
      ", punct estimated VERB []\n",
      "as prep estimated VERB [of]\n",
      "of prep as ADP [2008]\n",
      "2008 pobj of ADP []\n",
      ", punct estimated VERB []\n",
      "the det population NOUN []\n",
      "population nsubjpass estimated VERB [the, of]\n",
      "of prep population NOUN [County]\n",
      "Brazos compound County PROPN []\n",
      "County pobj of ADP [Brazos]\n",
      "is auxpass estimated VERB []\n",
      "estimated ROOT estimated VERB [According, ,, as, ,, population, is, at, .]\n",
      "at prep estimated VERB [175,122]\n",
      "175,122 pobj at ADP []\n",
      ". punct estimated VERB []\n"
     ]
    }
   ],
   "source": [
    "for token in doc:\n",
    "    print(token.text, token.dep_, token.head.text, token.head.pos_, [child for child in token.children])"
   ]
  },
  {
   "cell_type": "markdown",
   "metadata": {},
   "source": [
    "The attributes of the token object represent the following:\n",
    "\n",
    "* **text**: The original word text.\n",
    "* **dep_**: The syntactic relation connecting child to head.\n",
    "* **head.text**: The original text of the token head.\n",
    "* **head.pos_**: The part-of-speech tag of the token head.\n",
    "* **children tokens**: The immediate syntactic dependents of the token.\n",
    "\n",
    "spaCy also provides a way to see the dependency parser in action, using its visualization library called displaCy."
   ]
  },
  {
   "cell_type": "code",
   "execution_count": 9,
   "metadata": {},
   "outputs": [
    {
     "data": {
      "text/html": [
       "<svg xmlns=\"http://www.w3.org/2000/svg\" xmlns:xlink=\"http://www.w3.org/1999/xlink\" id=\"0\" class=\"displacy\" width=\"1550\" height=\"387.0\" style=\"max-width: none; height: 387.0px; color: #000000; background: #ffffff; font-family: Arial\">\n",
       "<text class=\"displacy-token\" fill=\"currentColor\" text-anchor=\"middle\" y=\"297.0\">\n",
       "    <tspan class=\"displacy-word\" fill=\"currentColor\" x=\"50\">Texas</tspan>\n",
       "    <tspan class=\"displacy-tag\" dy=\"2em\" fill=\"currentColor\" x=\"50\">PROPN</tspan>\n",
       "</text>\n",
       "\n",
       "<text class=\"displacy-token\" fill=\"currentColor\" text-anchor=\"middle\" y=\"297.0\">\n",
       "    <tspan class=\"displacy-word\" fill=\"currentColor\" x=\"175\">A&amp;M</tspan>\n",
       "    <tspan class=\"displacy-tag\" dy=\"2em\" fill=\"currentColor\" x=\"175\">PROPN</tspan>\n",
       "</text>\n",
       "\n",
       "<text class=\"displacy-token\" fill=\"currentColor\" text-anchor=\"middle\" y=\"297.0\">\n",
       "    <tspan class=\"displacy-word\" fill=\"currentColor\" x=\"300\">University</tspan>\n",
       "    <tspan class=\"displacy-tag\" dy=\"2em\" fill=\"currentColor\" x=\"300\">PROPN</tspan>\n",
       "</text>\n",
       "\n",
       "<text class=\"displacy-token\" fill=\"currentColor\" text-anchor=\"middle\" y=\"297.0\">\n",
       "    <tspan class=\"displacy-word\" fill=\"currentColor\" x=\"425\">is</tspan>\n",
       "    <tspan class=\"displacy-tag\" dy=\"2em\" fill=\"currentColor\" x=\"425\">VERB</tspan>\n",
       "</text>\n",
       "\n",
       "<text class=\"displacy-token\" fill=\"currentColor\" text-anchor=\"middle\" y=\"297.0\">\n",
       "    <tspan class=\"displacy-word\" fill=\"currentColor\" x=\"550\">a</tspan>\n",
       "    <tspan class=\"displacy-tag\" dy=\"2em\" fill=\"currentColor\" x=\"550\">DET</tspan>\n",
       "</text>\n",
       "\n",
       "<text class=\"displacy-token\" fill=\"currentColor\" text-anchor=\"middle\" y=\"297.0\">\n",
       "    <tspan class=\"displacy-word\" fill=\"currentColor\" x=\"675\">public</tspan>\n",
       "    <tspan class=\"displacy-tag\" dy=\"2em\" fill=\"currentColor\" x=\"675\">ADJ</tspan>\n",
       "</text>\n",
       "\n",
       "<text class=\"displacy-token\" fill=\"currentColor\" text-anchor=\"middle\" y=\"297.0\">\n",
       "    <tspan class=\"displacy-word\" fill=\"currentColor\" x=\"800\">research</tspan>\n",
       "    <tspan class=\"displacy-tag\" dy=\"2em\" fill=\"currentColor\" x=\"800\">NOUN</tspan>\n",
       "</text>\n",
       "\n",
       "<text class=\"displacy-token\" fill=\"currentColor\" text-anchor=\"middle\" y=\"297.0\">\n",
       "    <tspan class=\"displacy-word\" fill=\"currentColor\" x=\"925\">university</tspan>\n",
       "    <tspan class=\"displacy-tag\" dy=\"2em\" fill=\"currentColor\" x=\"925\">NOUN</tspan>\n",
       "</text>\n",
       "\n",
       "<text class=\"displacy-token\" fill=\"currentColor\" text-anchor=\"middle\" y=\"297.0\">\n",
       "    <tspan class=\"displacy-word\" fill=\"currentColor\" x=\"1050\">in</tspan>\n",
       "    <tspan class=\"displacy-tag\" dy=\"2em\" fill=\"currentColor\" x=\"1050\">ADP</tspan>\n",
       "</text>\n",
       "\n",
       "<text class=\"displacy-token\" fill=\"currentColor\" text-anchor=\"middle\" y=\"297.0\">\n",
       "    <tspan class=\"displacy-word\" fill=\"currentColor\" x=\"1175\">College</tspan>\n",
       "    <tspan class=\"displacy-tag\" dy=\"2em\" fill=\"currentColor\" x=\"1175\">PROPN</tspan>\n",
       "</text>\n",
       "\n",
       "<text class=\"displacy-token\" fill=\"currentColor\" text-anchor=\"middle\" y=\"297.0\">\n",
       "    <tspan class=\"displacy-word\" fill=\"currentColor\" x=\"1300\">Station,</tspan>\n",
       "    <tspan class=\"displacy-tag\" dy=\"2em\" fill=\"currentColor\" x=\"1300\">PROPN</tspan>\n",
       "</text>\n",
       "\n",
       "<text class=\"displacy-token\" fill=\"currentColor\" text-anchor=\"middle\" y=\"297.0\">\n",
       "    <tspan class=\"displacy-word\" fill=\"currentColor\" x=\"1425\">Texas.</tspan>\n",
       "    <tspan class=\"displacy-tag\" dy=\"2em\" fill=\"currentColor\" x=\"1425\">PROPN</tspan>\n",
       "</text>\n",
       "\n",
       "<g class=\"displacy-arrow\">\n",
       "    <path class=\"displacy-arc\" id=\"arrow-0-0\" stroke-width=\"2px\" d=\"M70,252.0 C70,127.0 290.0,127.0 290.0,252.0\" fill=\"none\" stroke=\"currentColor\"/>\n",
       "    <text dy=\"1.25em\" style=\"font-size: 0.8em; letter-spacing: 1px\">\n",
       "        <textPath xlink:href=\"#arrow-0-0\" class=\"displacy-label\" startOffset=\"50%\" fill=\"currentColor\" text-anchor=\"middle\">compound</textPath>\n",
       "    </text>\n",
       "    <path class=\"displacy-arrowhead\" d=\"M70,254.0 L62,242.0 78,242.0\" fill=\"currentColor\"/>\n",
       "</g>\n",
       "\n",
       "<g class=\"displacy-arrow\">\n",
       "    <path class=\"displacy-arc\" id=\"arrow-0-1\" stroke-width=\"2px\" d=\"M195,252.0 C195,189.5 285.0,189.5 285.0,252.0\" fill=\"none\" stroke=\"currentColor\"/>\n",
       "    <text dy=\"1.25em\" style=\"font-size: 0.8em; letter-spacing: 1px\">\n",
       "        <textPath xlink:href=\"#arrow-0-1\" class=\"displacy-label\" startOffset=\"50%\" fill=\"currentColor\" text-anchor=\"middle\">compound</textPath>\n",
       "    </text>\n",
       "    <path class=\"displacy-arrowhead\" d=\"M195,254.0 L187,242.0 203,242.0\" fill=\"currentColor\"/>\n",
       "</g>\n",
       "\n",
       "<g class=\"displacy-arrow\">\n",
       "    <path class=\"displacy-arc\" id=\"arrow-0-2\" stroke-width=\"2px\" d=\"M320,252.0 C320,189.5 410.0,189.5 410.0,252.0\" fill=\"none\" stroke=\"currentColor\"/>\n",
       "    <text dy=\"1.25em\" style=\"font-size: 0.8em; letter-spacing: 1px\">\n",
       "        <textPath xlink:href=\"#arrow-0-2\" class=\"displacy-label\" startOffset=\"50%\" fill=\"currentColor\" text-anchor=\"middle\">nsubj</textPath>\n",
       "    </text>\n",
       "    <path class=\"displacy-arrowhead\" d=\"M320,254.0 L312,242.0 328,242.0\" fill=\"currentColor\"/>\n",
       "</g>\n",
       "\n",
       "<g class=\"displacy-arrow\">\n",
       "    <path class=\"displacy-arc\" id=\"arrow-0-3\" stroke-width=\"2px\" d=\"M570,252.0 C570,64.5 920.0,64.5 920.0,252.0\" fill=\"none\" stroke=\"currentColor\"/>\n",
       "    <text dy=\"1.25em\" style=\"font-size: 0.8em; letter-spacing: 1px\">\n",
       "        <textPath xlink:href=\"#arrow-0-3\" class=\"displacy-label\" startOffset=\"50%\" fill=\"currentColor\" text-anchor=\"middle\">det</textPath>\n",
       "    </text>\n",
       "    <path class=\"displacy-arrowhead\" d=\"M570,254.0 L562,242.0 578,242.0\" fill=\"currentColor\"/>\n",
       "</g>\n",
       "\n",
       "<g class=\"displacy-arrow\">\n",
       "    <path class=\"displacy-arc\" id=\"arrow-0-4\" stroke-width=\"2px\" d=\"M695,252.0 C695,189.5 785.0,189.5 785.0,252.0\" fill=\"none\" stroke=\"currentColor\"/>\n",
       "    <text dy=\"1.25em\" style=\"font-size: 0.8em; letter-spacing: 1px\">\n",
       "        <textPath xlink:href=\"#arrow-0-4\" class=\"displacy-label\" startOffset=\"50%\" fill=\"currentColor\" text-anchor=\"middle\">amod</textPath>\n",
       "    </text>\n",
       "    <path class=\"displacy-arrowhead\" d=\"M695,254.0 L687,242.0 703,242.0\" fill=\"currentColor\"/>\n",
       "</g>\n",
       "\n",
       "<g class=\"displacy-arrow\">\n",
       "    <path class=\"displacy-arc\" id=\"arrow-0-5\" stroke-width=\"2px\" d=\"M820,252.0 C820,189.5 910.0,189.5 910.0,252.0\" fill=\"none\" stroke=\"currentColor\"/>\n",
       "    <text dy=\"1.25em\" style=\"font-size: 0.8em; letter-spacing: 1px\">\n",
       "        <textPath xlink:href=\"#arrow-0-5\" class=\"displacy-label\" startOffset=\"50%\" fill=\"currentColor\" text-anchor=\"middle\">compound</textPath>\n",
       "    </text>\n",
       "    <path class=\"displacy-arrowhead\" d=\"M820,254.0 L812,242.0 828,242.0\" fill=\"currentColor\"/>\n",
       "</g>\n",
       "\n",
       "<g class=\"displacy-arrow\">\n",
       "    <path class=\"displacy-arc\" id=\"arrow-0-6\" stroke-width=\"2px\" d=\"M445,252.0 C445,2.0 925.0,2.0 925.0,252.0\" fill=\"none\" stroke=\"currentColor\"/>\n",
       "    <text dy=\"1.25em\" style=\"font-size: 0.8em; letter-spacing: 1px\">\n",
       "        <textPath xlink:href=\"#arrow-0-6\" class=\"displacy-label\" startOffset=\"50%\" fill=\"currentColor\" text-anchor=\"middle\">attr</textPath>\n",
       "    </text>\n",
       "    <path class=\"displacy-arrowhead\" d=\"M925.0,254.0 L933.0,242.0 917.0,242.0\" fill=\"currentColor\"/>\n",
       "</g>\n",
       "\n",
       "<g class=\"displacy-arrow\">\n",
       "    <path class=\"displacy-arc\" id=\"arrow-0-7\" stroke-width=\"2px\" d=\"M945,252.0 C945,189.5 1035.0,189.5 1035.0,252.0\" fill=\"none\" stroke=\"currentColor\"/>\n",
       "    <text dy=\"1.25em\" style=\"font-size: 0.8em; letter-spacing: 1px\">\n",
       "        <textPath xlink:href=\"#arrow-0-7\" class=\"displacy-label\" startOffset=\"50%\" fill=\"currentColor\" text-anchor=\"middle\">prep</textPath>\n",
       "    </text>\n",
       "    <path class=\"displacy-arrowhead\" d=\"M1035.0,254.0 L1043.0,242.0 1027.0,242.0\" fill=\"currentColor\"/>\n",
       "</g>\n",
       "\n",
       "<g class=\"displacy-arrow\">\n",
       "    <path class=\"displacy-arc\" id=\"arrow-0-8\" stroke-width=\"2px\" d=\"M1195,252.0 C1195,189.5 1285.0,189.5 1285.0,252.0\" fill=\"none\" stroke=\"currentColor\"/>\n",
       "    <text dy=\"1.25em\" style=\"font-size: 0.8em; letter-spacing: 1px\">\n",
       "        <textPath xlink:href=\"#arrow-0-8\" class=\"displacy-label\" startOffset=\"50%\" fill=\"currentColor\" text-anchor=\"middle\">compound</textPath>\n",
       "    </text>\n",
       "    <path class=\"displacy-arrowhead\" d=\"M1195,254.0 L1187,242.0 1203,242.0\" fill=\"currentColor\"/>\n",
       "</g>\n",
       "\n",
       "<g class=\"displacy-arrow\">\n",
       "    <path class=\"displacy-arc\" id=\"arrow-0-9\" stroke-width=\"2px\" d=\"M1070,252.0 C1070,127.0 1290.0,127.0 1290.0,252.0\" fill=\"none\" stroke=\"currentColor\"/>\n",
       "    <text dy=\"1.25em\" style=\"font-size: 0.8em; letter-spacing: 1px\">\n",
       "        <textPath xlink:href=\"#arrow-0-9\" class=\"displacy-label\" startOffset=\"50%\" fill=\"currentColor\" text-anchor=\"middle\">pobj</textPath>\n",
       "    </text>\n",
       "    <path class=\"displacy-arrowhead\" d=\"M1290.0,254.0 L1298.0,242.0 1282.0,242.0\" fill=\"currentColor\"/>\n",
       "</g>\n",
       "\n",
       "<g class=\"displacy-arrow\">\n",
       "    <path class=\"displacy-arc\" id=\"arrow-0-10\" stroke-width=\"2px\" d=\"M1320,252.0 C1320,189.5 1410.0,189.5 1410.0,252.0\" fill=\"none\" stroke=\"currentColor\"/>\n",
       "    <text dy=\"1.25em\" style=\"font-size: 0.8em; letter-spacing: 1px\">\n",
       "        <textPath xlink:href=\"#arrow-0-10\" class=\"displacy-label\" startOffset=\"50%\" fill=\"currentColor\" text-anchor=\"middle\">appos</textPath>\n",
       "    </text>\n",
       "    <path class=\"displacy-arrowhead\" d=\"M1410.0,254.0 L1418.0,242.0 1402.0,242.0\" fill=\"currentColor\"/>\n",
       "</g>\n",
       "</svg>"
      ],
      "text/plain": [
       "<IPython.core.display.HTML object>"
      ]
     },
     "metadata": {},
     "output_type": "display_data"
    }
   ],
   "source": [
    "from spacy import displacy\n",
    "\n",
    "visual_sample = \"Texas A&M University is a public research university in College Station, Texas.\"\n",
    "visual_doc = nlp(visual_sample)\n",
    "\n",
    "displacy.render(visual_doc, style='dep', jupyter=True, options={'distance': 125})"
   ]
  },
  {
   "cell_type": "markdown",
   "metadata": {},
   "source": [
    "### 2.8 Word Vectors Similarity\n",
    "\n",
    "Word vectors similarity is determined by comparing words, text spans and documents and see how similar they are to each other."
   ]
  },
  {
   "cell_type": "code",
   "execution_count": 11,
   "metadata": {},
   "outputs": [
    {
     "name": "stdout",
     "output_type": "stream",
     "text": [
      "phone phone 1.0\n",
      "phone computer 0.43940938\n",
      "phone laptop 0.4505272\n",
      "phone tablet 0.36992612\n",
      "phone iPad 0.38192368\n",
      "phone keyboard 0.39879575\n",
      "phone cat 0.20879981\n",
      "computer phone 0.43940938\n",
      "computer computer 1.0\n",
      "computer laptop 0.677216\n",
      "computer tablet 0.39069566\n",
      "computer iPad 0.36855808\n",
      "computer keyboard 0.54257494\n",
      "computer cat 0.25593635\n",
      "laptop phone 0.4505272\n",
      "laptop computer 0.677216\n",
      "laptop laptop 1.0\n",
      "laptop tablet 0.51973575\n",
      "laptop iPad 0.49825644\n",
      "laptop keyboard 0.5842703\n",
      "laptop cat 0.2226368\n",
      "tablet phone 0.36992612\n",
      "tablet computer 0.39069566\n",
      "tablet laptop 0.51973575\n",
      "tablet tablet 1.0\n",
      "tablet iPad 0.52852917\n",
      "tablet keyboard 0.44440588\n",
      "tablet cat 0.16365997\n",
      "iPad phone 0.38192368\n",
      "iPad computer 0.36855808\n",
      "iPad laptop 0.49825644\n",
      "iPad tablet 0.52852917\n",
      "iPad iPad 1.0\n",
      "iPad keyboard 0.4158086\n",
      "iPad cat 0.17459533\n",
      "keyboard phone 0.39879575\n",
      "keyboard computer 0.54257494\n",
      "keyboard laptop 0.5842703\n",
      "keyboard tablet 0.44440588\n",
      "keyboard iPad 0.4158086\n",
      "keyboard keyboard 1.0\n",
      "keyboard cat 0.19105299\n",
      "cat phone 0.20879981\n",
      "cat computer 0.25593635\n",
      "cat laptop 0.2226368\n",
      "cat tablet 0.16365997\n",
      "cat iPad 0.17459533\n",
      "cat keyboard 0.19105299\n",
      "cat cat 1.0\n"
     ]
    }
   ],
   "source": [
    "nlp = spacy.load('en_core_web_lg')\n",
    "\n",
    "tokens = nlp('phone computer laptop tablet iPad keyboard cat')\n",
    "for token1 in tokens:\n",
    "    for token2 in tokens:\n",
    "        print(token1.text, token2.text, token1.similarity(token2))"
   ]
  },
  {
   "cell_type": "markdown",
   "metadata": {},
   "source": [
    "Doc, Span, and Token objects contain a method called .similarity to compute similarity. As we can see in the code above, the method produces a number between 0 and 1 to represent the similarity. Related objects have a greater similarity score, while less related objects have a lower similarity score.\n",
    "\n",
    "Besides words, we can also compute the similarity between two sentences."
   ]
  },
  {
   "cell_type": "code",
   "execution_count": 15,
   "metadata": {},
   "outputs": [
    {
     "name": "stdout",
     "output_type": "stream",
     "text": [
      "0.9149662098845188\n",
      "0.9394194747654675\n",
      "0.7161376005043467\n",
      "0.9133130517126389\n",
      "0.7099489517609865\n",
      "0.687619863757093\n"
     ]
    }
   ],
   "source": [
    "doc1 = nlp(\"Texas A&M University is a public research university in College Station, Texas.\")\n",
    "doc2 = nlp(\"William Marsh Rice University, commonly known as Rice University, is a private research university in Houston, Texas. \")\n",
    "doc3 = nlp(\"Duke University is a private research university in Durham, North Carolina.\")\n",
    "doc4 = nlp(\"iPhone is the best phone in the world.\")\n",
    "\n",
    "print(doc1.similarity(doc2))\n",
    "print(doc1.similarity(doc3))\n",
    "print(doc1.similarity(doc4))\n",
    "print(doc2.similarity(doc3))\n",
    "print(doc2.similarity(doc4))\n",
    "print(doc3.similarity(doc4))"
   ]
  },
  {
   "cell_type": "markdown",
   "metadata": {},
   "source": [
    "## 3. Summary\n",
    "\n",
    "spaCy is a great NLP library with a huge amount of features, especially for production use. It provides great performance, efficiency and accuracy with state-of-the-art algorithms for NLP tasks. This spotlight just shows a small parts of the full potential of spaCy. There are more to discover in this amazing library."
   ]
  }
 ],
 "metadata": {
  "kernelspec": {
   "display_name": "Python 3",
   "language": "python",
   "name": "python3"
  },
  "language_info": {
   "codemirror_mode": {
    "name": "ipython",
    "version": 3
   },
   "file_extension": ".py",
   "mimetype": "text/x-python",
   "name": "python",
   "nbconvert_exporter": "python",
   "pygments_lexer": "ipython3",
   "version": "3.7.6"
  }
 },
 "nbformat": 4,
 "nbformat_minor": 2
}
