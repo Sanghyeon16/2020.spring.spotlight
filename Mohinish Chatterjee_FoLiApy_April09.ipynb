{
 "cells": [
  {
   "cell_type": "markdown",
   "metadata": {},
   "source": [
    "# FoLiApy"
   ]
  },
  {
   "cell_type": "markdown",
   "metadata": {},
   "source": [
    "## Introduction\n",
    "This Python module provides an extensive library for parsing, creating and processing documents in the Format for Linguistic Annotation, aka <b>FoLiA</b>. It has been in active development since 2010 and used by numerous Natural Language Processing (NLP) tools. The FoLiA library provides an Application Programming Interface for the reading, creation and manipulation of FoLiA XML documents. The library is written for Python 3.5 and above."
   ]
  },
  {
   "cell_type": "markdown",
   "metadata": {},
   "source": [
    "## Installation\n",
    "\n",
    "To install use the following pip command:\n",
    "<b> pip3 install folia</b>"
   ]
  },
  {
   "cell_type": "markdown",
   "metadata": {},
   "source": [
    "## Getting started with FoLiA"
   ]
  },
  {
   "cell_type": "markdown",
   "metadata": {},
   "source": [
    "### FoLiA: Format for Linguistic Annotation\n",
    "\n",
    "FoLiA, an acronym for Format for Linguistic Annotation, is a data model and file format to represent digitised language resources enriched with linguistic annotation, e.g. linguistically enriched textual documents or transcriptions of speech. <b>The format is intended to provide a standard for the storage and exchange of such language resources, including corpora and promote interoperability amongst Natural Language Processing tools that use the format.</b>\n",
    "\n",
    "The aim was to introduce a single rich format that can accommodate a wide variety of linguistic annotation types through a single generalised paradigm. FoLiA has following characteristics:\n",
    "\n",
    "- Expressive\n",
    "- Generic\n",
    "- Specific\n",
    "- Formalized\n",
    "- Practical\n",
    "\n",
    "FoLiA is a document-based format, representing each document and all relevant annotations in a single XML file.\n",
    "Following is a basic structure of a FoLiA document. It should always be UTF-8 encoded."
   ]
  },
  {
   "cell_type": "markdown",
   "metadata": {},
   "source": [
    "```xml\n",
    "<?xml version=\"1.0\" encoding=\"utf-8\"?>\n",
    "<FoLiA xmlns=\"http://ilk.uvt.nl/FoLiA\"\n",
    "  xmlns:xsi=\"http://www.w3.org/2001/XMLSchema-instance\"\n",
    "  version=\"2.0\"\n",
    "  xml:id=\"example\">\n",
    "  <metadata>\n",
    "      <annotations>\n",
    "          ...\n",
    "      </annotations>\n",
    "      <provenance>\n",
    "          ..\n",
    "      </provenance>\n",
    "      ...\n",
    "  </metadata>\n",
    "  <text xml:id=\"example.text\">\n",
    "     ...\n",
    "  </text>\n",
    "</FoLiA>\n",
    "```"
   ]
  },
  {
   "cell_type": "markdown",
   "metadata": {},
   "source": [
    "The structure of a FoLiA document can be divided into two parts, the metadata section and a body. The body is formed by either the ``` <text> ``` element or the ``` <speech> ``` element. The body elements (``` <text>/<speech> ```) are structural elements but take no sets, classes, nor a declaration. \n",
    "\n",
    "All forms of annotation in FoLiA are encoded using an distinct XML element. The first few layers of nested XML elements are structural elements such as divisions, paragraphs and sentences. Then the deepest structure layer is tokenisation (``` <w> ```, Token Annotation). Within these structures, there could be inline annotation elements encoding linguistic information, and also layers with span annotation, which refer back to the tokens/words in a stand-off fashion.\n",
    "\n",
    "An example of a simple speech document might look like this:\n",
    "```xml\n",
    "<?xml version=\"1.0\" encoding=\"utf-8\"?>\n",
    "<FoLiA xmlns=\"http://ilk.uvt.nl/folia\" version=\"2.0\" xml:id=\"example\">\n",
    "  <metadata>\n",
    "      <annotations>\n",
    "          <phon-annotation>\n",
    "\t\t\t <annotator processor=\"p1\" />\n",
    "          </phon-annotation>\n",
    "          <utterance-annotation>\n",
    "\t\t\t <annotator processor=\"p1\" />\n",
    "          </utterance-annotation>\n",
    "          <token-annotation>\n",
    "\t\t\t <annotator processor=\"p1\" />\n",
    "          </token-annotation>\n",
    "      </annotations>\n",
    "      <provenance>\n",
    "         <processor xml:id=\"p1\" name=\"proycon\" type=\"manual\" />\n",
    "      </provenance>\n",
    "  </metadata>\n",
    "  <speech xml:id=\"example.speech\">\n",
    "    <utt xml:id=\"example.utt.1\" src=\"helloworld.mp3\"  begintime=\"00:00:01.000\" endtime=\"00:00:02.000\">\n",
    "        <ph>helˈoʊ wɝːld</ph>\n",
    "        <w xml:id=\"example.utt.1.w.1\" begintime=\"00:00:00.000\" endtime=\"00:00:01.000\">\n",
    "            <ph>helˈoʊ</ph>\n",
    "        </w>\n",
    "        <w xml:id=\"example.utt.1.w.2\" begintime=\"00:00:01.000\" endtime=\"00:00:02.000\">\n",
    "            <ph>wɝːld</ph>\n",
    "        </w>\n",
    "    </utt>\n",
    "  </speech>\n",
    "</FoLiA>\n",
    "```"
   ]
  },
  {
   "cell_type": "markdown",
   "metadata": {},
   "source": [
    "## Creating a FoLiA Document"
   ]
  },
  {
   "cell_type": "markdown",
   "metadata": {},
   "source": [
    "Now lets start using the FoLiApy library. Any script that uses FoLiA has to start with the follwoing import"
   ]
  },
  {
   "cell_type": "code",
   "execution_count": 1,
   "metadata": {},
   "outputs": [],
   "source": [
    "import folia.main as folia"
   ]
  },
  {
   "cell_type": "markdown",
   "metadata": {},
   "source": [
    "Now to create a FoLia Document we use the Document constructor and give our document an ID."
   ]
  },
  {
   "cell_type": "code",
   "execution_count": 2,
   "metadata": {},
   "outputs": [],
   "source": [
    "doc = folia.Document(id='example')"
   ]
  },
  {
   "cell_type": "markdown",
   "metadata": {},
   "source": [
    "<b> Adding structure to our document:</b>\n",
    "First, we should first add a Text element. Then we can add paragraphs, sentences, or other structural elements. The ``` AbstractElement.add() ``` method adds new children to an element:"
   ]
  },
  {
   "cell_type": "code",
   "execution_count": 3,
   "metadata": {},
   "outputs": [
    {
     "data": {
      "text/plain": [
       "<Word at 305086068720 id=example.text.1.p.1.s.1.w.5 set=None class=None>"
      ]
     },
     "execution_count": 3,
     "metadata": {},
     "output_type": "execute_result"
    }
   ],
   "source": [
    "text = doc.add(folia.Text)\n",
    "paragraph = text.add(folia.Paragraph)\n",
    "sentence = paragraph.add(folia.Sentence)\n",
    "sentence.add(folia.Word, 'This')\n",
    "sentence.add(folia.Word, 'is')\n",
    "sentence.add(folia.Word, 'a')\n",
    "sentence.add(folia.Word, 'test')\n",
    "sentence.add(folia.Word, '.')"
   ]
  },
  {
   "cell_type": "markdown",
   "metadata": {},
   "source": [
    "<b> Next, we add annotations to our document: </b>\n",
    "Adding annotations is also done using the ``` AbstractElement.add() ``` method on the intended parent element. Let's add it to our previous example document:"
   ]
  },
  {
   "cell_type": "code",
   "execution_count": 4,
   "metadata": {},
   "outputs": [
    {
     "data": {
      "text/plain": [
       "<LemmaAnnotation at 305083480720 id=None set=cgn-tag-set class=test>"
      ]
     },
     "execution_count": 4,
     "metadata": {},
     "output_type": "execute_result"
    }
   ],
   "source": [
    "#First we grab the fourth word, 'test', from the sentence\n",
    "word = sentence.words(3)\n",
    "\n",
    "#Add Part-of-Speech tag\n",
    "word.add(folia.PosAnnotation(doc, set='brown-tagset',cls='n'))\n",
    "\n",
    "#Add lemma\n",
    "word.add(folia.LemmaAnnotation(doc, set='cgn-tag-set', cls='test'))"
   ]
  },
  {
   "cell_type": "markdown",
   "metadata": {},
   "source": [
    "<b>Provenance Information:</b>\n",
    "Since FoLiA documents can be large there could be more than one contributor ie. many people working on the same document. And they might want to declare new annotations. As a result, contributors can clarify the origin of an annotation is, i.e. who annotated it. This can be done using the ``` <processor> ``` attribute."
   ]
  },
  {
   "cell_type": "code",
   "execution_count": 5,
   "metadata": {},
   "outputs": [],
   "source": [
    "from folia.main import Processor"
   ]
  },
  {
   "cell_type": "code",
   "execution_count": 6,
   "metadata": {},
   "outputs": [
    {
     "data": {
      "text/plain": [
       "<PosAnnotation at 305085944496 id=None set=brown-tagset class=n>"
      ]
     },
     "execution_count": 6,
     "metadata": {},
     "output_type": "execute_result"
    }
   ],
   "source": [
    "#Start a new paragraph\n",
    "paragraph = text.add(folia.Paragraph)\n",
    "sentence = paragraph.add(folia.Sentence)\n",
    "sentence.add(folia.Word, 'This')\n",
    "sentence.add(folia.Word, 'is')\n",
    "sentence.add(folia.Word, 'the')\n",
    "sentence.add(folia.Word, '2nd')\n",
    "sentence.add(folia.Word, 'test')\n",
    "sentence.add(folia.Word, '.')\n",
    "word = sentence.words(3)\n",
    "\n",
    "#First we declare the annotation type with a processor\n",
    "posprocessor = doc.declare(folia.PosAnnotation, set='brown-tagset', processor=Processor.create(name=\"mypostagger\"))\n",
    "\n",
    "#Then we add an annotation to our word\n",
    "word.add( folia.PosAnnotation, set='brown-tagset', cls='n', processor=posprocessor)"
   ]
  },
  {
   "cell_type": "markdown",
   "metadata": {},
   "source": [
    "<b> Adding a span annotation: </b> Span annotation uses a stand-off annotation embedded in annotation layers. These layers are in turn embedded in structural elements such as sentences. Consider the following example of a named entity:"
   ]
  },
  {
   "cell_type": "code",
   "execution_count": 7,
   "metadata": {},
   "outputs": [
    {
     "data": {
      "text/plain": [
       "<Entity at 305093224936 id=None set=https://raw.githubusercontent.com/proycon/folia/master/setdefinitions/namedentities.foliaset.xml class=per>"
      ]
     },
     "execution_count": 7,
     "metadata": {},
     "output_type": "execute_result"
    }
   ],
   "source": [
    "doc.declare(folia.Entity, \"https://raw.githubusercontent.com/proycon/folia/master/setdefinitions/namedentities.foliaset.xml\")\n",
    "text = doc.add(folia.Text)\n",
    "\n",
    "sentence = text.add(folia.Sentence)\n",
    "sentence.add(folia.Word, 'I',id='example.s.1.w.1')\n",
    "sentence.add(folia.Word, 'saw',id='example.s.1.w.2')\n",
    "sentence.add(folia.Word, 'the',id='example.s.1.w.3')\n",
    "word = sentence.add(folia.Word, 'Dalai',id='example.s.1.w.4')\n",
    "word2 =sentence.add(folia.Word, 'Lama',id='example.s.1.w.5')\n",
    "sentence.add(folia.Word, '.', id='example.s.1.w.6')\n",
    "\n",
    "word.add(folia.Entity, word, word2, cls=\"per\")"
   ]
  },
  {
   "cell_type": "markdown",
   "metadata": {},
   "source": [
    "For the next example we can try to do things more explicitly. Let's first create a sentence and then add a syntax parse, consisting of nested elements as follows:"
   ]
  },
  {
   "cell_type": "code",
   "execution_count": 8,
   "metadata": {},
   "outputs": [],
   "source": [
    "from folia.main import SyntacticUnit"
   ]
  },
  {
   "cell_type": "code",
   "execution_count": 9,
   "metadata": {},
   "outputs": [
    {
     "data": {
      "text/plain": [
       "<SyntacticUnit at 305093269656 id=None set=some-syntax-set class=s>"
      ]
     },
     "execution_count": 9,
     "metadata": {},
     "output_type": "execute_result"
    }
   ],
   "source": [
    "doc.declare(folia.SyntaxLayer, 'some-syntax-set')\n",
    "text = doc.add(folia.Text)\n",
    "\n",
    "sentence = text.add(folia.Sentence)\n",
    "sentence.add(folia.Word, 'The',id='example.s.1.w.7')\n",
    "sentence.add(folia.Word, 'boy',id='example.s.1.w.8')\n",
    "sentence.add(folia.Word, 'pets',id='example.s.1.w.9')\n",
    "sentence.add(folia.Word, 'the',id='example.s.1.w.10')\n",
    "sentence.add(folia.Word, 'cat',id='example.s.1.w.11')\n",
    "sentence.add(folia.Word, '.', id='example.s.1.w.12')\n",
    "\n",
    "#Adding Syntax Layer\n",
    "layer = sentence.add(folia.SyntaxLayer)\n",
    "\n",
    "#Adding Syntactic Units\n",
    "layer.add(SyntacticUnit(doc, cls='s', contents=[\n",
    "            SyntacticUnit(doc, cls='np', contents=[\n",
    "                SyntacticUnit(doc, doc['example.s.1.w.7'], cls='det'),\n",
    "                SyntacticUnit(doc, doc['example.s.1.w.8'], cls='n'),\n",
    "        ]),\n",
    "        SyntacticUnit(doc, cls='vp', contents=[\n",
    "            SyntacticUnit(doc, doc['example.s.1.w.9'], cls='v'),\n",
    "                SyntacticUnit(doc, cls='np', contents=[\n",
    "                    SyntacticUnit(doc, doc['example.s.1.w.10'], cls='det'),\n",
    "                    SyntacticUnit(doc, doc['example.s.1.w.11'], cls='n'),\n",
    "                ]),\n",
    "            ]),\n",
    "        SyntacticUnit(doc, doc['example.s.1.w.12'], cls='fin')\n",
    "    ])\n",
    ")"
   ]
  },
  {
   "cell_type": "markdown",
   "metadata": {},
   "source": [
    "<b>Saving a FoLiA doc file:</b> To save a file we can use the save method of the document object."
   ]
  },
  {
   "cell_type": "code",
   "execution_count": 10,
   "metadata": {},
   "outputs": [],
   "source": [
    "doc.save(filename = 'example.folia.xml')"
   ]
  },
  {
   "cell_type": "markdown",
   "metadata": {},
   "source": [
    "<b>Deleting Annotation:</b> Now, what if we want to disassociate a annotation from a parent? We might want to delete annotations which are were either assigned by mistake or need to be removed per requirement. Any element can be deleted by calling the ``` AbstractElement.remove() ``` method on its parent. Suppose we want to delete ``` word ```"
   ]
  },
  {
   "cell_type": "code",
   "execution_count": 11,
   "metadata": {},
   "outputs": [
    {
     "data": {
      "text/plain": [
       "<Sentence at 305093223816 id=example.text.2.s.1 set=None class=None>"
      ]
     },
     "execution_count": 11,
     "metadata": {},
     "output_type": "execute_result"
    }
   ],
   "source": [
    "# Check the parent of word:\n",
    "word.parent"
   ]
  },
  {
   "cell_type": "code",
   "execution_count": 12,
   "metadata": {},
   "outputs": [],
   "source": [
    "# Remove word associated with the parent\n",
    "word.parent.remove(word)"
   ]
  },
  {
   "cell_type": "code",
   "execution_count": 13,
   "metadata": {},
   "outputs": [
    {
     "name": "stdout",
     "output_type": "stream",
     "text": [
      "None\n"
     ]
    }
   ],
   "source": [
    "# Rechecking the association with the parent\n",
    "print(word.parent)"
   ]
  },
  {
   "cell_type": "markdown",
   "metadata": {},
   "source": [
    "## Reading a FoLiA Document"
   ]
  },
  {
   "cell_type": "markdown",
   "metadata": {},
   "source": [
    "To read a document from file, we can instantiate a document as follows:"
   ]
  },
  {
   "cell_type": "code",
   "execution_count": 14,
   "metadata": {},
   "outputs": [],
   "source": [
    "doc = folia.Document(file=\"example.folia.xml\")"
   ]
  },
  {
   "cell_type": "markdown",
   "metadata": {},
   "source": [
    "This returned Document instance holds the entire document in memory. It is important to note that for large FoLiA documents this may consume quite some memory! Once we load a document, all data is available for us to read and manipulate as we see fit. Let's first see some simple use cases:"
   ]
  },
  {
   "cell_type": "markdown",
   "metadata": {},
   "source": [
    "<b> Printing text: </b> We can simply print all (plain) text contained in the document, which is as easy as:"
   ]
  },
  {
   "cell_type": "code",
   "execution_count": 15,
   "metadata": {},
   "outputs": [
    {
     "name": "stdout",
     "output_type": "stream",
     "text": [
      "This is a test .\n",
      "\n",
      "This is the 2nd test .\n",
      "\n",
      "\n",
      "I saw the Dalai Lama .\n",
      "\n",
      "\n",
      "The boy pets the cat .\n"
     ]
    }
   ],
   "source": [
    "print(doc)"
   ]
  },
  {
   "cell_type": "markdown",
   "metadata": {},
   "source": [
    "Obtaining the text as a string is done by invoking the documentss ```Document.text()``` method:"
   ]
  },
  {
   "cell_type": "code",
   "execution_count": 16,
   "metadata": {},
   "outputs": [
    {
     "name": "stdout",
     "output_type": "stream",
     "text": [
      "This is a test .\n",
      "\n",
      "This is the 2nd test .\n",
      "\n",
      "\n",
      "I saw the Dalai Lama .\n",
      "\n",
      "\n",
      "The boy pets the cat .\n",
      "This is a test .\n",
      "\n",
      "This is the 2nd test .\n",
      "\n",
      "\n",
      "I saw the Dalai Lama .\n",
      "\n",
      "\n",
      "The boy pets the cat .\n"
     ]
    }
   ],
   "source": [
    "text = doc.text()\n",
    "print(text)\n",
    "\n",
    "# Or alternatively\n",
    "text = str(doc)\n",
    "print(text)"
   ]
  },
  {
   "cell_type": "markdown",
   "metadata": {},
   "source": [
    "<b>Index:</b> A document instance has an index which you can use to grab any of its elements by ID. Querying using the index proceeds similar to using a python dictionary:"
   ]
  },
  {
   "cell_type": "code",
   "execution_count": 17,
   "metadata": {},
   "outputs": [
    {
     "name": "stdout",
     "output_type": "stream",
     "text": [
      "saw\n"
     ]
    }
   ],
   "source": [
    "word = doc['example.s.1.w.2']\n",
    "print(word)"
   ]
  },
  {
   "cell_type": "markdown",
   "metadata": {},
   "source": [
    "<b>Obtaining list of elements:</b> If the need is to iterate over all of the child elements of a certain element, regardless of what type they are, we can simply do so as follows:"
   ]
  },
  {
   "cell_type": "code",
   "execution_count": 18,
   "metadata": {},
   "outputs": [
    {
     "name": "stdout",
     "output_type": "stream",
     "text": [
      "This\n",
      "is\n",
      "a\n",
      "test\n",
      ".\n",
      "This\n",
      "is\n",
      "the\n",
      "2nd\n",
      "test\n",
      ".\n",
      "I\n",
      "saw\n",
      "the\n",
      "Dalai\n",
      "Lama\n",
      ".\n",
      "The\n",
      "boy\n",
      "pets\n",
      "the\n",
      "cat\n",
      ".\n"
     ]
    }
   ],
   "source": [
    "for sentence in doc.sentences():\n",
    "    for word in sentence.words():\n",
    "        print(word)"
   ]
  },
  {
   "cell_type": "markdown",
   "metadata": {},
   "source": [
    "<b>Loading a Document with processor: </b> Instead of explicitly assigning a processor with invididual annotations, we can do so implicitly by associating a processor with the Document, it will then be automatically be used for any subsequent annotations we add. Thus, we can associate a processor immediately upon document instantation."
   ]
  },
  {
   "cell_type": "code",
   "execution_count": 19,
   "metadata": {},
   "outputs": [],
   "source": [
    "doc = folia.Document(file=\"example.folia.xml\", processor=Processor.create(name=\"myscript\", version=\"0.1\"))"
   ]
  },
  {
   "cell_type": "markdown",
   "metadata": {},
   "source": [
    "## Searching in a FoLiA Document"
   ]
  },
  {
   "cell_type": "markdown",
   "metadata": {},
   "source": [
    "The FoLiA library supports a language called <b>FoLiA Query Language</b> (FQL), which provides an efficient way of searching in a document. This language needs to be imported first:"
   ]
  },
  {
   "cell_type": "code",
   "execution_count": 20,
   "metadata": {},
   "outputs": [],
   "source": [
    "from folia import fql"
   ]
  },
  {
   "cell_type": "markdown",
   "metadata": {},
   "source": [
    "All FQL processing is done via the ```Query``` class. Selecting a word with a particular text is done as follows:"
   ]
  },
  {
   "cell_type": "code",
   "execution_count": 21,
   "metadata": {},
   "outputs": [
    {
     "name": "stdout",
     "output_type": "stream",
     "text": [
      "boy\n"
     ]
    }
   ],
   "source": [
    "query = fql.Query('SELECT w WHERE text = \"boy\"')\n",
    "for word in query(doc):\n",
    "    print(word)  #this will be an instance of folia.Word"
   ]
  },
  {
   "cell_type": "markdown",
   "metadata": {},
   "source": [
    "Regular expression matching can be done using the ```MATCHES``` operator:"
   ]
  },
  {
   "cell_type": "code",
   "execution_count": 22,
   "metadata": {},
   "outputs": [
    {
     "name": "stdout",
     "output_type": "stream",
     "text": [
      "This\n",
      "This\n",
      "The\n"
     ]
    }
   ],
   "source": [
    "query = fql.Query('SELECT w WHERE text MATCHES \"^Th.*$\"')\n",
    "for word in query(doc):\n",
    "    print(word)"
   ]
  },
  {
   "cell_type": "markdown",
   "metadata": {},
   "source": [
    "We can also constrain our queries to a particular target selection using the ```FOR``` keyword"
   ]
  },
  {
   "cell_type": "code",
   "execution_count": 23,
   "metadata": {},
   "outputs": [
    {
     "name": "stdout",
     "output_type": "stream",
     "text": [
      "The\n"
     ]
    }
   ],
   "source": [
    "query = fql.Query('SELECT w WHERE text MATCHES \"^Th.*$\" FOR s WHERE text CONTAINS \"pets\"')\n",
    "for word in query(doc):\n",
    "    print(word)"
   ]
  },
  {
   "cell_type": "markdown",
   "metadata": {},
   "source": [
    "And, that concludes our basic overview of FoLiA! Don't forget to checkout the actual documentation for more detailed explanations and many more cool methods. Refer to links in the Reference section below."
   ]
  },
  {
   "cell_type": "markdown",
   "metadata": {},
   "source": [
    "## References\n",
    "\n",
    "- https://github.com/proycon/foliapy\n",
    "- https://folia.readthedocs.io/en/latest/\n",
    "- https://foliapy.readthedocs.io/en/latest/index.html"
   ]
  }
 ],
 "metadata": {
  "kernelspec": {
   "display_name": "Python 3",
   "language": "python",
   "name": "python3"
  },
  "language_info": {
   "codemirror_mode": {
    "name": "ipython",
    "version": 3
   },
   "file_extension": ".py",
   "mimetype": "text/x-python",
   "name": "python",
   "nbconvert_exporter": "python",
   "pygments_lexer": "ipython3",
   "version": "3.7.3"
  }
 },
 "nbformat": 4,
 "nbformat_minor": 2
}
