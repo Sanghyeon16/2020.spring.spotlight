{
 "cells": [
  {
   "cell_type": "markdown",
   "metadata": {},
   "source": [
    "# This is my spotlight for csce670 course in TAMU.\n",
    "# My topic: Introduce a python library: Sympy\n",
    "\n",
    "-- Shipeng Yang"
   ]
  },
  {
   "cell_type": "markdown",
   "metadata": {},
   "source": [
    "My topic is a python library named Sympy. With this library, you can easily do symbolic computation. When you want to print your mathematical formulas you use this library. It also has the capability to evaluate expressions. It is very useful for creating formulas in your LaTeX documents."
   ]
  },
  {
   "cell_type": "markdown",
   "metadata": {},
   "source": [
    "My goal:\n",
    "1. Introduce the what is Sympy and how to install.Then I will basicly talk about when and how use it when writing a python program.\n",
    "2. Introduce what is symbolic computation, what is the difference between regular math and it? How can we implement it with Sympy?\n",
    "3. Give some understandable examples to introducde some functionalities and usages in Sympy."
   ]
  },
  {
   "cell_type": "markdown",
   "metadata": {},
   "source": [
    "## Installation:"
   ]
  },
  {
   "cell_type": "markdown",
   "metadata": {},
   "source": [
    "Anaconda is a free Python distribution from Continuum Analytics that includes SymPy, Matplotlib, IPython, NumPy, and many more useful packages for scientific computing. This is recommended because many nice features of SymPy are only enabled when certain libraries are installed. \n",
    "\n",
    "If you already have Anaconda and want to update SymPy to the latest version, use:\n",
    "\n",
    "- conda update sympy\n",
    "\n",
    "If you want to use this package in some other environment, you can find some details for installation from :<br>      https://docs.sympy.org/latest/install.html#installation"
   ]
  },
  {
   "cell_type": "markdown",
   "metadata": {},
   "source": [
    "## Introduction:"
   ]
  },
  {
   "cell_type": "markdown",
   "metadata": {},
   "source": [
    "\n",
    "What is symbolic computation? I will show you some examples for easier understanding."
   ]
  },
  {
   "cell_type": "code",
   "execution_count": 1,
   "metadata": {},
   "outputs": [],
   "source": [
    "from sympy import *\n",
    "import math\n",
    "import sympy"
   ]
  },
  {
   "cell_type": "code",
   "execution_count": 2,
   "metadata": {},
   "outputs": [
    {
     "name": "stdout",
     "output_type": "stream",
     "text": [
      "Math calculation:  4.0\n",
      "Symbolic computation:  4\n"
     ]
    }
   ],
   "source": [
    "print(\"Math calculation: \",math.sqrt(16))\n",
    "print(\"Symbolic computation: \",sympy.sqrt(16))"
   ]
  },
  {
   "cell_type": "code",
   "execution_count": 3,
   "metadata": {},
   "outputs": [
    {
     "name": "stdout",
     "output_type": "stream",
     "text": [
      "Math calculation:  2.8284271247461903\n",
      "Symbolic computation:  2*sqrt(2)\n"
     ]
    }
   ],
   "source": [
    "print(\"Math calculation: \",math.sqrt(8))\n",
    "print(\"Symbolic computation: \",sympy.sqrt(8))"
   ]
  },
  {
   "cell_type": "code",
   "execution_count": 4,
   "metadata": {},
   "outputs": [
    {
     "name": "stdout",
     "output_type": "stream",
     "text": [
      "Math calculation:  1.4142135623730951\n",
      "Symbolic computation:  sqrt(2)\n"
     ]
    }
   ],
   "source": [
    "print(\"Math calculation: \",math.sqrt(2))\n",
    "print(\"Symbolic computation: \",sympy.sqrt(2))"
   ]
  },
  {
   "cell_type": "markdown",
   "metadata": {},
   "source": [
    "From these examples, we can easily see whenver square root one number is an integer, then it will be able to print out that answer. However, if the answer is not an integer, it will try to solve out an interger to make the number in squre root much smaller. "
   ]
  },
  {
   "cell_type": "markdown",
   "metadata": {},
   "source": [
    "Another interesting example is we can define a symbolic expression, which might be ablt to reprent a math expression. For example, we want to represent x*y+z"
   ]
  },
  {
   "cell_type": "code",
   "execution_count": 5,
   "metadata": {},
   "outputs": [
    {
     "name": "stdout",
     "output_type": "stream",
     "text": [
      "x*y + z\n"
     ]
    }
   ],
   "source": [
    "from sympy import symbols\n",
    "x,y,z = symbols('x y z')\n",
    "expr = x*y+z\n",
    "print(expr)"
   ]
  },
  {
   "cell_type": "markdown",
   "metadata": {},
   "source": [
    "Then you will be able to use 'expr' as a real math expression which is x*y+z<br>\n",
    "For example:"
   ]
  },
  {
   "cell_type": "code",
   "execution_count": 6,
   "metadata": {},
   "outputs": [
    {
     "name": "stdout",
     "output_type": "stream",
     "text": [
      "x*y + z + 1\n"
     ]
    }
   ],
   "source": [
    "print(expr+1)"
   ]
  },
  {
   "cell_type": "code",
   "execution_count": 7,
   "metadata": {},
   "outputs": [
    {
     "name": "stdout",
     "output_type": "stream",
     "text": [
      "x*y + 2*z\n"
     ]
    }
   ],
   "source": [
    "print(expr+z)"
   ]
  },
  {
   "cell_type": "code",
   "execution_count": 8,
   "metadata": {
    "scrolled": true
   },
   "outputs": [
    {
     "name": "stdout",
     "output_type": "stream",
     "text": [
      "y\n"
     ]
    }
   ],
   "source": [
    "print((expr-z)/x)  # (x*y+z -z)/x"
   ]
  },
  {
   "cell_type": "code",
   "execution_count": 9,
   "metadata": {},
   "outputs": [
    {
     "name": "stdout",
     "output_type": "stream",
     "text": [
      "x*(x*y + z)\n"
     ]
    }
   ],
   "source": [
    "print(expr*x)  #What if we want the result to be x**2*y+x*z"
   ]
  },
  {
   "cell_type": "markdown",
   "metadata": {},
   "source": [
    "It is quite intelligent to recognize the easiest form like the last example I provided. However, if you want to remove some unnecessary parentheses, we can not do in this way. While in this package, it also have this functionality, which is quite simple."
   ]
  },
  {
   "cell_type": "code",
   "execution_count": 10,
   "metadata": {
    "scrolled": true
   },
   "outputs": [
    {
     "name": "stdout",
     "output_type": "stream",
     "text": [
      "x**2*y + x*z\n"
     ]
    }
   ],
   "source": [
    "from sympy import expand,factor\n",
    "expanded_expr = expand(x*expr)\n",
    "print(expanded_expr)"
   ]
  },
  {
   "cell_type": "markdown",
   "metadata": {},
   "source": [
    "Look at the cell above, it is able to expand the formula. So it must be very easy to convert the formula into different forms."
   ]
  },
  {
   "cell_type": "markdown",
   "metadata": {},
   "source": [
    "# More functionalities:"
   ]
  },
  {
   "cell_type": "markdown",
   "metadata": {},
   "source": [
    "The real power of a symbolic computation system such as SymPy is the ability to do all sorts of computations symbolically. SymPy can simplify expressions, compute derivatives, integrals, and limits, solve equations, work with matrices, and much, much more, and do it all symbolically. It includes modules for plotting, printing (like 2D pretty printed output of math formulas, or LATEX), code generation, physics, statistics, combinatorics, number theory, geometry, logic, and more. Here is a small sampling of the sort of symbolic power SymPy is capable of, to whet your appetite."
   ]
  },
  {
   "cell_type": "code",
   "execution_count": 11,
   "metadata": {},
   "outputs": [],
   "source": [
    "x,t,z,nu = symbols('x t z nu')\n",
    "init_printing(use_unicode=True)"
   ]
  },
  {
   "cell_type": "markdown",
   "metadata": {},
   "source": [
    "This package is pretty powerful, I will show you how to use it to do derivative,differential,limit and computer value of functions."
   ]
  },
  {
   "cell_type": "markdown",
   "metadata": {},
   "source": [
    "derivative examples:"
   ]
  },
  {
   "cell_type": "code",
   "execution_count": 12,
   "metadata": {},
   "outputs": [
    {
     "name": "stdout",
     "output_type": "stream",
     "text": [
      "exp(x)*sin(x) + exp(x)*cos(x)\n",
      "3*x**2*exp(x)*cos(x**3) + exp(x)*sin(x**3)\n"
     ]
    }
   ],
   "source": [
    "print(diff(sin(x)*exp(x),x))\n",
    "print(diff(sin(x**3)*exp(x),x))"
   ]
  },
  {
   "cell_type": "markdown",
   "metadata": {},
   "source": [
    "Integral examples:"
   ]
  },
  {
   "cell_type": "code",
   "execution_count": 13,
   "metadata": {},
   "outputs": [
    {
     "name": "stdout",
     "output_type": "stream",
     "text": [
      "exp(x)*sin(x)/2 - exp(x)*cos(x)/2\n",
      "exp(x)*sin(x)\n"
     ]
    }
   ],
   "source": [
    "print(integrate(sin(x)*exp(x),x))\n",
    "print(integrate(exp(x)*cos(x)+exp(x)*sin(x)))"
   ]
  },
  {
   "cell_type": "markdown",
   "metadata": {},
   "source": [
    "It can also add range of x if you want to compute in specific range. Look at this example,"
   ]
  },
  {
   "cell_type": "code",
   "execution_count": 14,
   "metadata": {},
   "outputs": [
    {
     "name": "stdout",
     "output_type": "stream",
     "text": [
      "sqrt(2)*sqrt(pi)/2\n"
     ]
    },
    {
     "data": {
      "image/png": "[encoded data removed]",
      "text/latex": [
       "$\\displaystyle \\frac{\\sqrt{2} \\sqrt{\\pi}}{2}$"
      ],
      "text/plain": [
       "√2⋅√π\n",
       "─────\n",
       "  2  "
      ]
     },
     "execution_count": 14,
     "metadata": {},
     "output_type": "execute_result"
    }
   ],
   "source": [
    "print(integrate(sin(x**2), (x, -oo, oo)))\n",
    "integrate(sin(x**2), (x, -oo, oo))"
   ]
  },
  {
   "cell_type": "markdown",
   "metadata": {},
   "source": [
    "limit examples:"
   ]
  },
  {
   "cell_type": "code",
   "execution_count": 15,
   "metadata": {},
   "outputs": [
    {
     "data": {
      "image/png": "[encoded data removed]",
      "text/latex": [
       "$\\displaystyle 0$"
      ],
      "text/plain": [
       "0"
      ]
     },
     "execution_count": 15,
     "metadata": {},
     "output_type": "execute_result"
    }
   ],
   "source": [
    "limit(sin(x)/x,x,oo)"
   ]
  },
  {
   "cell_type": "code",
   "execution_count": 16,
   "metadata": {},
   "outputs": [
    {
     "data": {
      "image/png": "[encoded data removed]",
      "text/latex": [
       "$\\displaystyle 1$"
      ],
      "text/plain": [
       "1"
      ]
     },
     "execution_count": 16,
     "metadata": {},
     "output_type": "execute_result"
    }
   ],
   "source": [
    "limit(sin(x)/x,x,0)"
   ]
  },
  {
   "cell_type": "markdown",
   "metadata": {},
   "source": [
    "Solve examples:<br>\n",
    "It can solve very complex functions. Like this example:"
   ]
  },
  {
   "cell_type": "code",
   "execution_count": 17,
   "metadata": {},
   "outputs": [
    {
     "data": {
      "image/png": "[encoded data removed]",
      "text/latex": [
       "$\\displaystyle \\left[ \\left(- \\frac{1}{2} - \\frac{\\sqrt{3} i}{2}\\right) \\sqrt[3]{\\frac{\\sqrt{57}}{9} + 1} + \\frac{2}{3 \\left(- \\frac{1}{2} - \\frac{\\sqrt{3} i}{2}\\right) \\sqrt[3]{\\frac{\\sqrt{57}}{9} + 1}}, \\  \\frac{2}{3 \\left(- \\frac{1}{2} + \\frac{\\sqrt{3} i}{2}\\right) \\sqrt[3]{\\frac{\\sqrt{57}}{9} + 1}} + \\left(- \\frac{1}{2} + \\frac{\\sqrt{3} i}{2}\\right) \\sqrt[3]{\\frac{\\sqrt{57}}{9} + 1}, \\  \\frac{2}{3 \\sqrt[3]{\\frac{\\sqrt{57}}{9} + 1}} + \\sqrt[3]{\\frac{\\sqrt{57}}{9} + 1}\\right]$"
      ],
      "text/plain": [
       "⎡                 _________                                                   \n",
       "⎢⎛  1   √3⋅ⅈ⎞    ╱ √57                     2                             2    \n",
       "⎢⎜- ─ - ────⎟⋅3 ╱  ─── + 1  + ────────────────────────────, ──────────────────\n",
       "⎢⎝  2    2  ⎠ ╲╱    9                            _________                    \n",
       "⎢                               ⎛  1   √3⋅ⅈ⎞    ╱ √57         ⎛  1   √3⋅ⅈ⎞    \n",
       "⎢                             3⋅⎜- ─ - ────⎟⋅3 ╱  ─── + 1   3⋅⎜- ─ + ────⎟⋅3 ╱\n",
       "⎣                               ⎝  2    2  ⎠ ╲╱    9          ⎝  2    2  ⎠ ╲╱ \n",
       "\n",
       "                              _________                        _________⎤\n",
       "             ⎛  1   √3⋅ⅈ⎞    ╱ √57              2             ╱ √57     ⎥\n",
       "────────── + ⎜- ─ + ────⎟⋅3 ╱  ─── + 1 , ─────────────── + 3 ╱  ─── + 1 ⎥\n",
       " _________   ⎝  2    2  ⎠ ╲╱    9              _________   ╲╱    9      ⎥\n",
       "╱ √57                                         ╱ √57                     ⎥\n",
       "  ─── + 1                                3⋅3 ╱  ─── + 1                 ⎥\n",
       "   9                                       ╲╱    9                      ⎦"
      ]
     },
     "execution_count": 17,
     "metadata": {},
     "output_type": "execute_result"
    }
   ],
   "source": [
    "solve(x**3-x*2-2,x)"
   ]
  },
  {
   "cell_type": "markdown",
   "metadata": {},
   "source": [
    "<br>\n",
    "Additional functionalities:"
   ]
  },
  {
   "cell_type": "code",
   "execution_count": 18,
   "metadata": {},
   "outputs": [
    {
     "data": {
      "image/png": "[encoded data removed]",
      "text/latex": [
       "$\\displaystyle \\left\\{ \\frac{5}{2} - \\frac{3 \\sqrt{5}}{2} : 1, \\  \\frac{5}{2} + \\frac{3 \\sqrt{5}}{2} : 1\\right\\}$"
      ],
      "text/plain": [
       "⎧5   3⋅√5     5   3⋅√5   ⎫\n",
       "⎨─ - ────: 1, ─ + ────: 1⎬\n",
       "⎩2    2       2    2     ⎭"
      ]
     },
     "execution_count": 18,
     "metadata": {},
     "output_type": "execute_result"
    }
   ],
   "source": [
    "Matrix([[1, 3], [3, 4]]).eigenvals()"
   ]
  },
  {
   "cell_type": "markdown",
   "metadata": {},
   "source": [
    "Rewrite the Bessel function Jν(z) in terms of the spherical Bessel function jν(z)."
   ]
  },
  {
   "cell_type": "code",
   "execution_count": 19,
   "metadata": {},
   "outputs": [
    {
     "data": {
      "image/png": "[encoded data removed]",
      "text/latex": [
       "$\\displaystyle \\frac{\\sqrt{2} \\sqrt{z} j_{\\nu - \\frac{1}{2}}\\left(z\\right)}{\\sqrt{\\pi}}$"
      ],
      "text/plain": [
       "√2⋅√z⋅jn(ν - 1/2, z)\n",
       "────────────────────\n",
       "         √π         "
      ]
     },
     "execution_count": 19,
     "metadata": {},
     "output_type": "execute_result"
    }
   ],
   "source": [
    "besselj(nu, z).rewrite(jn)"
   ]
  },
  {
   "cell_type": "markdown",
   "metadata": {},
   "source": [
    "Print ∫π0cos2(x)dx using LATEX."
   ]
  },
  {
   "cell_type": "code",
   "execution_count": 20,
   "metadata": {},
   "outputs": [
    {
     "data": {
      "text/plain": [
       "'\\\\int\\\\limits_{0}^{\\\\pi} \\\\cos^{2}{\\\\left(x \\\\right)}\\\\, dx'"
      ]
     },
     "execution_count": 20,
     "metadata": {},
     "output_type": "execute_result"
    }
   ],
   "source": [
    "latex(Integral(cos(x)**2, (x, 0, pi)))"
   ]
  },
  {
   "cell_type": "markdown",
   "metadata": {},
   "source": [
    "# Some Basic operations:"
   ]
  },
  {
   "cell_type": "markdown",
   "metadata": {},
   "source": [
    "I will introduce some basic operations when use Sympy. For mroe information, you can visit:<br>\n",
    "https://docs.sympy.org/latest/tutorial/basic_operations.html"
   ]
  },
  {
   "cell_type": "code",
   "execution_count": 21,
   "metadata": {},
   "outputs": [],
   "source": [
    "x, y, z = symbols(\"x y z\")"
   ]
  },
  {
   "cell_type": "markdown",
   "metadata": {},
   "source": [
    "1. subscribe:"
   ]
  },
  {
   "cell_type": "code",
   "execution_count": 22,
   "metadata": {},
   "outputs": [
    {
     "data": {
      "image/png": "[encoded data removed]",
      "text/latex": [
       "$\\displaystyle \\sin{\\left(y \\right)} + \\cos{\\left(y \\right)} + 2$"
      ],
      "text/plain": [
       "sin(y) + cos(y) + 2"
      ]
     },
     "execution_count": 22,
     "metadata": {},
     "output_type": "execute_result"
    }
   ],
   "source": [
    "expr=sin(x)+cos(x)+2\n",
    "expr.subs(x,y)"
   ]
  },
  {
   "cell_type": "code",
   "execution_count": 23,
   "metadata": {},
   "outputs": [
    {
     "name": "stdout",
     "output_type": "stream",
     "text": [
      "sin(x) + cos(x) + 2\n",
      "sin(y) + cos(y) + 2\n"
     ]
    }
   ],
   "source": [
    "print(expr)\n",
    "print(expr.subs(x,y))"
   ]
  },
  {
   "cell_type": "markdown",
   "metadata": {},
   "source": [
    "Compare these two results. We can see the subscribe do not change the original function, it will only change current one. The subs return new expression."
   ]
  },
  {
   "cell_type": "markdown",
   "metadata": {},
   "source": [
    "2. Convert string to Sympy expressions:"
   ]
  },
  {
   "cell_type": "code",
   "execution_count": 24,
   "metadata": {},
   "outputs": [
    {
     "name": "stdout",
     "output_type": "stream",
     "text": [
      "x**3 + x - 1\n"
     ]
    }
   ],
   "source": [
    "string = \"x**3 + x - 1\"\n",
    "expr = sympify(string)\n",
    "print(expr)"
   ]
  },
  {
   "cell_type": "markdown",
   "metadata": {},
   "source": [
    "In this example, sympify function can easily change a string to a Sympy expression. Let's test it to make sure the expr is a sympy expression now."
   ]
  },
  {
   "cell_type": "code",
   "execution_count": 25,
   "metadata": {},
   "outputs": [
    {
     "name": "stdout",
     "output_type": "stream",
     "text": [
      "8*y**3 + 2*y - 1\n"
     ]
    }
   ],
   "source": [
    "print(expr.subs(x,2*y))"
   ]
  },
  {
   "cell_type": "markdown",
   "metadata": {},
   "source": [
    "It works well"
   ]
  },
  {
   "cell_type": "markdown",
   "metadata": {},
   "source": [
    "3. Evaluate:"
   ]
  },
  {
   "cell_type": "code",
   "execution_count": 26,
   "metadata": {},
   "outputs": [
    {
     "name": "stdout",
     "output_type": "stream",
     "text": [
      "Symbolic computation:  2*sqrt(2)\n",
      "Evaluate computation:  2.82842712474619\n"
     ]
    }
   ],
   "source": [
    "print(\"Symbolic computation: \",sympy.sqrt(8))\n",
    "print(\"Evaluate computation: \",sympy.sqrt(8).evalf())"
   ]
  },
  {
   "cell_type": "markdown",
   "metadata": {},
   "source": [
    "In this way, you can easily convert symbolic computation to math computation to get the result value. You can even print out the value to Pi in this way. In addition, you can control the digits of ouput if it is infinite.<br> For example:"
   ]
  },
  {
   "cell_type": "code",
   "execution_count": 27,
   "metadata": {},
   "outputs": [
    {
     "data": {
      "image/png": "[encoded data removed]",
      "text/latex": [
       "$\\displaystyle 3.1415926535897932385$"
      ],
      "text/plain": [
       "3.1415926535897932385"
      ]
     },
     "execution_count": 27,
     "metadata": {},
     "output_type": "execute_result"
    }
   ],
   "source": [
    "pi.evalf(20)  #20 is the number of digit"
   ]
  },
  {
   "cell_type": "markdown",
   "metadata": {},
   "source": [
    "There are some additional usage of evalf. I will give some examples, they are very understandable."
   ]
  },
  {
   "cell_type": "code",
   "execution_count": 28,
   "metadata": {},
   "outputs": [
    {
     "data": {
      "image/png": "[encoded data removed]",
      "text/latex": [
       "$\\displaystyle -0.99516190332383$"
      ],
      "text/plain": [
       "-0.995161903323830"
      ]
     },
     "execution_count": 28,
     "metadata": {},
     "output_type": "execute_result"
    }
   ],
   "source": [
    "expr= cos(x**2)\n",
    "expr.evalf(subs={x:1.8})"
   ]
  },
  {
   "cell_type": "markdown",
   "metadata": {},
   "source": [
    "Sometimes there are roundoff errors smaller than the desired precision that remain after an expression is evaluated. Such numbers can be removed at the user’s discretion by setting the chop flag to True."
   ]
  },
  {
   "cell_type": "code",
   "execution_count": 29,
   "metadata": {},
   "outputs": [
    {
     "data": {
      "image/png": "[encoded data removed]",
      "text/latex": [
       "$\\displaystyle -4.0 \\cdot 10^{-124}$"
      ],
      "text/plain": [
       "-0.e-124"
      ]
     },
     "execution_count": 29,
     "metadata": {},
     "output_type": "execute_result"
    }
   ],
   "source": [
    "expr=cos(1)**2+sin(1)**2\n",
    "(expr-1).evalf()"
   ]
  },
  {
   "cell_type": "code",
   "execution_count": 30,
   "metadata": {},
   "outputs": [
    {
     "data": {
      "image/png": "[encoded data removed]",
      "text/latex": [
       "$\\displaystyle 0$"
      ],
      "text/plain": [
       "0"
      ]
     },
     "execution_count": 30,
     "metadata": {},
     "output_type": "execute_result"
    }
   ],
   "source": [
    "(expr-1).evalf(chop=True)"
   ]
  },
  {
   "cell_type": "markdown",
   "metadata": {},
   "source": [
    "4. Simplification:"
   ]
  },
  {
   "cell_type": "markdown",
   "metadata": {},
   "source": [
    "We have a function named simplify, it can calculate a expressions and output easiest form of it. For examples:"
   ]
  },
  {
   "cell_type": "code",
   "execution_count": 31,
   "metadata": {},
   "outputs": [
    {
     "data": {
      "image/png": "[encoded data removed]",
      "text/latex": [
       "$\\displaystyle \\sqrt{2} \\sin{\\left(x + \\frac{\\pi}{4} \\right)}$"
      ],
      "text/plain": [
       "      ⎛    π⎞\n",
       "√2⋅sin⎜x + ─⎟\n",
       "      ⎝    4⎠"
      ]
     },
     "execution_count": 31,
     "metadata": {},
     "output_type": "execute_result"
    }
   ],
   "source": [
    "simplify((sin(x)*cos(x)+sin(x)**2)/sin(x))"
   ]
  },
  {
   "cell_type": "code",
   "execution_count": 32,
   "metadata": {},
   "outputs": [
    {
     "data": {
      "image/png": "[encoded data removed]",
      "text/latex": [
       "$\\displaystyle x^{200} \\left(x^{200} + y^{100}\\right)$"
      ],
      "text/plain": [
       " 200 ⎛ 200    100⎞\n",
       "x   ⋅⎝x    + y   ⎠"
      ]
     },
     "execution_count": 32,
     "metadata": {},
     "output_type": "execute_result"
    }
   ],
   "source": [
    "simplify(x**400+x**200*y**100)"
   ]
  },
  {
   "cell_type": "code",
   "execution_count": 33,
   "metadata": {},
   "outputs": [
    {
     "data": {
      "image/png": "[encoded data removed]",
      "text/latex": [
       "$\\displaystyle x - 1$"
      ],
      "text/plain": [
       "x - 1"
      ]
     },
     "execution_count": 33,
     "metadata": {},
     "output_type": "execute_result"
    }
   ],
   "source": [
    "simplify((x**3 + x**2 - x - 1)/(x**2 + 2*x + 1))"
   ]
  },
  {
   "cell_type": "markdown",
   "metadata": {},
   "source": [
    "There are some other useful functions in this package. If you are interested in this topic, you can visit:<br>\n",
    "https://docs.sympy.org/latest/tutorial/simplification.html for more informations."
   ]
  },
  {
   "cell_type": "markdown",
   "metadata": {},
   "source": [
    "# Conlusion:"
   ]
  },
  {
   "cell_type": "markdown",
   "metadata": {},
   "source": [
    "I provide one more useful package for python coding which might be benefit when doing a math or data analyze related project. It is very powerful and understandable. I hope after reading my spotlight, you can learn some knowledge and consider using this library in your next python project."
   ]
  },
  {
   "cell_type": "markdown",
   "metadata": {},
   "source": [
    "# Reference:"
   ]
  },
  {
   "cell_type": "markdown",
   "metadata": {},
   "source": [
    "https://docs.sympy.org/latest/tutorial/index.html<br>\n",
    "https://linuxhint.com/10_best_math_libraries_python/"
   ]
  },
  {
   "cell_type": "code",
   "execution_count": null,
   "metadata": {},
   "outputs": [],
   "source": []
  }
 ],
 "metadata": {
  "kernelspec": {
   "display_name": "Python 3",
   "language": "python",
   "name": "python3"
  },
  "language_info": {
   "codemirror_mode": {
    "name": "ipython",
    "version": 3
   },
   "file_extension": ".py",
   "mimetype": "text/x-python",
   "name": "python",
   "nbconvert_exporter": "python",
   "pygments_lexer": "ipython3",
   "version": "3.7.4"
  }
 },
 "nbformat": 4,
 "nbformat_minor": 2
}
