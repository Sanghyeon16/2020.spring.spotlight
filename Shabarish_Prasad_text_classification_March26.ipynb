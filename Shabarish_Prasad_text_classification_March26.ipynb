{
  "nbformat": 4,
  "nbformat_minor": 0,
  "metadata": {
    "colab": {
      "name": "spotlight.ipynb",
      "provenance": []
    },
    "kernelspec": {
      "name": "python3",
      "display_name": "Python 3"
    }
  },
  "cells": [
    {
      "cell_type": "markdown",
      "metadata": {
        "id": "NsA91g7DU8Jd",
        "colab_type": "text"
      },
      "source": [
        "# Text Classification using Neural Networks\n",
        "\n",
        "## 1. Introduction\n",
        "\n",
        "Text classification is the process of assigning tags or categories to text according to its content. It is an important process in Natural Language processing and Information Retrieval with broad applications in topic labelling and spam detection. Here I demonstrate how to use Machine Learning techniques to classify text. The problem we have is a binary classification problem, where we should assign text blocks to one category or the other. \n",
        "\n",
        "The problem is to classify whether a movie review, written by a critic is positive or negative. The dataset and techniques used for this problem are explained below with the results and discussion to follow."
      ]
    },
    {
      "cell_type": "markdown",
      "metadata": {
        "id": "P4EQ-cKJv1jZ",
        "colab_type": "text"
      },
      "source": [
        "## 2 The Dataset\n",
        "\n",
        "The Dataset we are using is the IMDB Large Movie Review Dataset. This dataset consists of 25000 highly polar movie reviews for traiing and 25000 movie reviews for testing. We will use this dataset to train a binary classification model to predict whether the given review is positive or negative.\n",
        "\n",
        "Keras provides a convinent way to import the dataset. All the reviews are tokenized and indexed to a number. Each review consists of a series of word indexes that range between 4 and 4999. Index 1 represents the start of a sentence. Index 2 represents unknown and out of vocabulary words. These indexes have been obtained by pre-processing the text data in a pipeline that cleans, normalizes and tokenizes each sentence first and then builds a dictionary indexing each of the tokens by frequency.\n",
        "\n",
        "We shall start by importing the dataset and other essential libraries first."
      ]
    },
    {
      "cell_type": "code",
      "metadata": {
        "id": "ddBZZVDIU4ev",
        "colab_type": "code",
        "colab": {
          "base_uri": "https://localhost:8080/",
          "height": 63
        },
        "outputId": "076ea455-c73c-4e70-aa94-487de848e596"
      },
      "source": [
        "import os\n",
        "import string\n",
        "import tempfile\n",
        "import tensorflow as tf\n",
        "import numpy as np\n",
        "import matplotlib.pyplot as plt\n",
        "\n",
        "from tensorflow.python.keras.datasets import imdb\n",
        "from tensorflow.python.keras.preprocessing import sequence\n",
        "from tensorboard import summary as summary_lib\n",
        "\n",
        "tf.logging.set_verbosity(tf.logging.INFO)"
      ],
      "execution_count": 2,
      "outputs": [
        {
          "output_type": "display_data",
          "data": {
            "text/html": [
              "<p style=\"color: red;\">\n",
              "The default version of TensorFlow in Colab will switch to TensorFlow 2.x on the 27th of March, 2020.<br>\n",
              "We recommend you <a href=\"https://www.tensorflow.org/guide/migrate\" target=\"_blank\">upgrade</a> now\n",
              "or ensure your notebook will continue to use TensorFlow 1.x via the <code>%tensorflow_version 1.x</code> magic:\n",
              "<a href=\"https://colab.research.google.com/notebooks/tensorflow_version.ipynb\" target=\"_blank\">more info</a>.</p>\n"
            ],
            "text/plain": [
              "<IPython.core.display.HTML object>"
            ]
          },
          "metadata": {
            "tags": []
          }
        }
      ]
    },
    {
      "cell_type": "markdown",
      "metadata": {
        "id": "9sJ_oIRa_AJU",
        "colab_type": "text"
      },
      "source": [
        "Then we shall proceed by loading the data. Since each sentence is of varying length, we shall pad zeros at the end of each sentence to get a 25000x200 matrix in both the training and testing sets."
      ]
    },
    {
      "cell_type": "code",
      "metadata": {
        "id": "8PwSThjkmz0G",
        "colab_type": "code",
        "colab": {
          "base_uri": "https://localhost:8080/",
          "height": 153
        },
        "outputId": "095b9740-ba79-4f08-94e4-a0c7aefada9a"
      },
      "source": [
        "vocab_size = 5000\n",
        "sentence_size = 200\n",
        "embedding_size = 50\n",
        "model_dir = tempfile.mkdtemp()\n",
        "\n",
        "# we assign the first indices in the vocabulary to special tokens that we use\n",
        "# for padding, as start token, and for indicating unknown words\n",
        "pad_id = 0\n",
        "start_id = 1\n",
        "oov_id = 2\n",
        "index_offset = 2\n",
        "\n",
        "print(\"Loading data...\")\n",
        "(x_train_variable, y_train), (x_test_variable, y_test) = imdb.load_data(\n",
        "    num_words=vocab_size, start_char=start_id, oov_char=oov_id,\n",
        "    index_from=index_offset)\n",
        "print(len(y_train), \"train sequences\")\n",
        "print(len(y_test), \"test sequences\")\n",
        "\n",
        "print(\"Pad sequences (samples x time)\")\n",
        "x_train = sequence.pad_sequences(x_train_variable, \n",
        "                                 maxlen=sentence_size,\n",
        "                                 truncating='post',\n",
        "                                 padding='post',\n",
        "                                 value=pad_id)\n",
        "x_test = sequence.pad_sequences(x_test_variable, \n",
        "                                maxlen=sentence_size,\n",
        "                                truncating='post',\n",
        "                                padding='post', \n",
        "                                value=pad_id)\n",
        "print(\"x_train shape:\", x_train.shape)\n",
        "print(\"x_test shape:\", x_test.shape)"
      ],
      "execution_count": 3,
      "outputs": [
        {
          "output_type": "stream",
          "text": [
            "Loading data...\n",
            "Downloading data from https://storage.googleapis.com/tensorflow/tf-keras-datasets/imdb.npz\n",
            "17465344/17464789 [==============================] - 0s 0us/step\n",
            "25000 train sequences\n",
            "25000 test sequences\n",
            "Pad sequences (samples x time)\n",
            "x_train shape: (25000, 200)\n",
            "x_test shape: (25000, 200)\n"
          ],
          "name": "stdout"
        }
      ]
    },
    {
      "cell_type": "markdown",
      "metadata": {
        "id": "P5dZFL1q_1ZW",
        "colab_type": "text"
      },
      "source": [
        "We shall use the word index to take a look at how a sample sentence is after padding, before we proceed with building a model."
      ]
    },
    {
      "cell_type": "code",
      "metadata": {
        "id": "cW2TZUQHnBlc",
        "colab_type": "code",
        "colab": {
          "base_uri": "https://localhost:8080/",
          "height": 88
        },
        "outputId": "8afd2302-05b5-48dd-ff89-778dfe5647fc"
      },
      "source": [
        "word_index = imdb.get_word_index()\n",
        "word_inverted_index = {v + index_offset: k for k, v in word_index.items()}\n",
        "\n",
        "# The first indexes in the map are reserved to represent things other than tokens\n",
        "word_inverted_index[pad_id] = '<PAD>'\n",
        "word_inverted_index[start_id] = '<START>'\n",
        "word_inverted_index[oov_id] = '<OOV>'\n",
        "  \n",
        "def index_to_text(indexes):\n",
        "    return ' '.join([word_inverted_index[i] for i in indexes])\n",
        "\n",
        "print(index_to_text(x_train_variable[0]))"
      ],
      "execution_count": 4,
      "outputs": [
        {
          "output_type": "stream",
          "text": [
            "Downloading data from https://storage.googleapis.com/tensorflow/tf-keras-datasets/imdb_word_index.json\n",
            "1646592/1641221 [==============================] - 0s 0us/step\n",
            "<START> this film was just brilliant casting location scenery story direction everyone's really suited the part they played and you could just imagine being there robert <OOV> is an amazing actor and now the same being director <OOV> father came from the same scottish island as myself so i loved the fact there was a real connection with this film the witty remarks throughout the film were great it was just brilliant so much that i bought the film as soon as it was released for <OOV> and would recommend it to everyone to watch and the fly <OOV> was amazing really cried at the end it was so sad and you know what they say if you cry at a film it must have been good and this definitely was also <OOV> to the two little <OOV> that played the <OOV> of norman and paul they were just brilliant children are often left out of the <OOV> list i think because the stars that play them all grown up are such a big <OOV> for the whole film but these children are amazing and should be <OOV> for what they have done don't you think the whole story was so lovely because it was true and was someone's life after all that was <OOV> with us all\n"
          ],
          "name": "stdout"
        }
      ]
    },
    {
      "cell_type": "markdown",
      "metadata": {
        "id": "9mIBO3UgAPb3",
        "colab_type": "text"
      },
      "source": [
        "There's one more thing we need to do get our data ready for TensorFlow. We need to convert the data from numpy arrays into Tensors. Additionally, We define two input functions: one for processing the training data and one for processing the test data. We shuffle the training data and do not predefine the number of epochs we want to train, while we only need one epoch of the test data for evaluation. We also add an additional \"len\" key to both that captures the length of the original, unpadded sequence, which we will use later."
      ]
    },
    {
      "cell_type": "code",
      "metadata": {
        "id": "_Z8e525rnClF",
        "colab_type": "code",
        "colab": {}
      },
      "source": [
        "x_len_train = np.array([min(len(x), sentence_size) for x in x_train_variable])\n",
        "x_len_test = np.array([min(len(x), sentence_size) for x in x_test_variable])\n",
        "\n",
        "def parser(x, length, y):\n",
        "    features = {\"x\": x, \"len\": length}\n",
        "    return features, y\n",
        "\n",
        "def train_input_fn():\n",
        "    dataset = tf.data.Dataset.from_tensor_slices((x_train, x_len_train, y_train))\n",
        "    dataset = dataset.shuffle(buffer_size=len(x_train_variable))\n",
        "    dataset = dataset.batch(100)\n",
        "    dataset = dataset.map(parser)\n",
        "    dataset = dataset.repeat()\n",
        "    iterator = dataset.make_one_shot_iterator()\n",
        "    return iterator.get_next()\n",
        "\n",
        "def eval_input_fn():\n",
        "    dataset = tf.data.Dataset.from_tensor_slices((x_test, x_len_test, y_test))\n",
        "    dataset = dataset.batch(100)\n",
        "    dataset = dataset.map(parser)\n",
        "    iterator = dataset.make_one_shot_iterator()\n",
        "    return iterator.get_next()"
      ],
      "execution_count": 0,
      "outputs": []
    },
    {
      "cell_type": "markdown",
      "metadata": {
        "id": "CmWuGcZpBWya",
        "colab_type": "text"
      },
      "source": [
        "## 3. Linear Classifier\n",
        "\n",
        "It's always a good practice to start any machine learning project trying out a couple of reliable baselines. Simple is always better and it is key to understand exactly how much we are gaining in terms of performance by adding extra complexity. So we shall start approaching this problem by building a basic linear classifier on the dataset."
      ]
    },
    {
      "cell_type": "code",
      "metadata": {
        "id": "mkpL9HwknKdE",
        "colab_type": "code",
        "colab": {
          "base_uri": "https://localhost:8080/",
          "height": 156
        },
        "outputId": "274d117f-6e78-4fcb-dcfa-360d642f36e6"
      },
      "source": [
        "column = tf.feature_column.categorical_column_with_identity('x', vocab_size)\n",
        "classifier = tf.estimator.LinearClassifier(feature_columns=[column], \n",
        "                                           model_dir=os.path.join(model_dir, 'bow_sparse'),\n",
        "                                           config=tf.estimator.RunConfig(log_step_count_steps=5000))"
      ],
      "execution_count": 6,
      "outputs": [
        {
          "output_type": "stream",
          "text": [
            "INFO:tensorflow:Using config: {'_model_dir': '/tmp/tmpt078hbkc/bow_sparse', '_tf_random_seed': None, '_save_summary_steps': 100, '_save_checkpoints_steps': None, '_save_checkpoints_secs': 600, '_session_config': allow_soft_placement: true\n",
            "graph_options {\n",
            "  rewrite_options {\n",
            "    meta_optimizer_iterations: ONE\n",
            "  }\n",
            "}\n",
            ", '_keep_checkpoint_max': 5, '_keep_checkpoint_every_n_hours': 10000, '_log_step_count_steps': 5000, '_train_distribute': None, '_device_fn': None, '_protocol': None, '_eval_distribute': None, '_experimental_distribute': None, '_experimental_max_worker_delay_secs': None, '_session_creation_timeout_secs': 7200, '_service': None, '_cluster_spec': <tensorflow.python.training.server_lib.ClusterSpec object at 0x7fa4d4066f28>, '_task_type': 'worker', '_task_id': 0, '_global_id_in_cluster': 0, '_master': '', '_evaluation_master': '', '_is_chief': True, '_num_ps_replicas': 0, '_num_worker_replicas': 1}\n"
          ],
          "name": "stdout"
        }
      ]
    },
    {
      "cell_type": "markdown",
      "metadata": {
        "id": "TPlf1CPlKQg5",
        "colab_type": "text"
      },
      "source": [
        "We shall now write routines to train the classifier and evaluate it, which we can use for all the classifiers we are gonna build."
      ]
    },
    {
      "cell_type": "code",
      "metadata": {
        "id": "6C1NpPb-qMlK",
        "colab_type": "code",
        "colab": {}
      },
      "source": [
        "def train_classifier(classifier, steps=25000):\n",
        "    tf.logging.set_verbosity(tf.logging.INFO)\n",
        "    classifier.train(input_fn=train_input_fn, steps=steps)\n",
        "    tf.logging.set_verbosity(tf.logging.ERROR)\n",
        "\n",
        "def evaluate_classifier(classifier):\n",
        "    eval_results = classifier.evaluate(input_fn=eval_input_fn)\n",
        "    for result in eval_results:\n",
        "      print(result,' : ',eval_results[result])"
      ],
      "execution_count": 0,
      "outputs": []
    },
    {
      "cell_type": "markdown",
      "metadata": {
        "id": "aysm3i64fWWr",
        "colab_type": "text"
      },
      "source": [
        "Now, we shall train our Linear Classifier on the training Data for 25000 steps and try evaluating it."
      ]
    },
    {
      "cell_type": "code",
      "metadata": {
        "id": "8u3DMcesqR3j",
        "colab_type": "code",
        "colab": {
          "base_uri": "https://localhost:8080/",
          "height": 683
        },
        "outputId": "62674c93-b084-4796-9452-275fd70d397f"
      },
      "source": [
        "train_classifier(classifier)"
      ],
      "execution_count": 8,
      "outputs": [
        {
          "output_type": "stream",
          "text": [
            "WARNING:tensorflow:From /tensorflow-1.15.2/python3.6/tensorflow_core/python/training/training_util.py:236: Variable.initialized_value (from tensorflow.python.ops.variables) is deprecated and will be removed in a future version.\n",
            "Instructions for updating:\n",
            "Use Variable.read_value. Variables in 2.X are initialized automatically both in eager and graph (inside tf.defun) contexts.\n",
            "WARNING:tensorflow:Entity <function parser at 0x7fa50ecfee18> could not be transformed and will be executed as-is. Please report this to the AutoGraph team. When filing the bug, set the verbosity to 10 (on Linux, `export AUTOGRAPH_VERBOSITY=10`) and attach the full output. Cause: Bad argument number for Name: 3, expecting 4\n",
            "WARNING: Entity <function parser at 0x7fa50ecfee18> could not be transformed and will be executed as-is. Please report this to the AutoGraph team. When filing the bug, set the verbosity to 10 (on Linux, `export AUTOGRAPH_VERBOSITY=10`) and attach the full output. Cause: Bad argument number for Name: 3, expecting 4\n",
            "WARNING:tensorflow:From <ipython-input-5-f1710b5bd6d3>:14: DatasetV1.make_one_shot_iterator (from tensorflow.python.data.ops.dataset_ops) is deprecated and will be removed in a future version.\n",
            "Instructions for updating:\n",
            "Use `for ... in dataset:` to iterate over a dataset. If using `tf.estimator`, return the `Dataset` object directly from your input function. As a last resort, you can use `tf.compat.v1.data.make_one_shot_iterator(dataset)`.\n",
            "INFO:tensorflow:Calling model_fn.\n",
            "WARNING:tensorflow:From /tensorflow-1.15.2/python3.6/tensorflow_core/python/feature_column/feature_column_v2.py:305: Layer.add_variable (from tensorflow.python.keras.engine.base_layer) is deprecated and will be removed in a future version.\n",
            "Instructions for updating:\n",
            "Please use `layer.add_weight` method instead.\n",
            "WARNING:tensorflow:From /tensorflow-1.15.2/python3.6/tensorflow_core/python/ops/resource_variable_ops.py:1630: calling BaseResourceVariable.__init__ (from tensorflow.python.ops.resource_variable_ops) with constraint is deprecated and will be removed in a future version.\n",
            "Instructions for updating:\n",
            "If using Keras pass *_constraint arguments to layers.\n",
            "WARNING:tensorflow:From /tensorflow-1.15.2/python3.6/tensorflow_core/python/ops/embedding_ops.py:802: where (from tensorflow.python.ops.array_ops) is deprecated and will be removed in a future version.\n",
            "Instructions for updating:\n",
            "Use tf.where in 2.0, which has the same broadcast rule as np.where\n",
            "WARNING:tensorflow:From /tensorflow-1.15.2/python3.6/tensorflow_estimator/python/estimator/canned/linear.py:308: to_float (from tensorflow.python.ops.math_ops) is deprecated and will be removed in a future version.\n",
            "Instructions for updating:\n",
            "Use `tf.cast` instead.\n",
            "INFO:tensorflow:Done calling model_fn.\n",
            "INFO:tensorflow:Create CheckpointSaverHook.\n",
            "INFO:tensorflow:Graph was finalized.\n",
            "INFO:tensorflow:Running local_init_op.\n",
            "INFO:tensorflow:Done running local_init_op.\n",
            "INFO:tensorflow:Saving checkpoints for 0 into /tmp/tmpt078hbkc/bow_sparse/model.ckpt.\n",
            "INFO:tensorflow:loss = 69.31472, step = 1\n",
            "INFO:tensorflow:global_step/sec: 173.362\n",
            "INFO:tensorflow:loss = 10.596842, step = 5001 (28.843 sec)\n",
            "INFO:tensorflow:global_step/sec: 180.661\n",
            "INFO:tensorflow:loss = 16.541143, step = 10001 (27.681 sec)\n",
            "INFO:tensorflow:global_step/sec: 180.374\n",
            "INFO:tensorflow:loss = 18.412226, step = 15001 (27.719 sec)\n",
            "INFO:tensorflow:global_step/sec: 180.469\n",
            "INFO:tensorflow:loss = 14.042293, step = 20001 (27.708 sec)\n",
            "INFO:tensorflow:Saving checkpoints for 25000 into /tmp/tmpt078hbkc/bow_sparse/model.ckpt.\n",
            "INFO:tensorflow:Loss for final step: 11.801286.\n"
          ],
          "name": "stdout"
        }
      ]
    },
    {
      "cell_type": "code",
      "metadata": {
        "id": "FjyvxgMaKBgE",
        "colab_type": "code",
        "colab": {
          "base_uri": "https://localhost:8080/",
          "height": 204
        },
        "outputId": "9e61f108-73ac-4db9-cfad-6e64116597a6"
      },
      "source": [
        "evaluate_classifier(classifier)"
      ],
      "execution_count": 9,
      "outputs": [
        {
          "output_type": "stream",
          "text": [
            "accuracy  :  0.81628\n",
            "accuracy_baseline  :  0.5\n",
            "auc  :  0.88860565\n",
            "auc_precision_recall  :  0.8897927\n",
            "average_loss  :  0.673751\n",
            "label/mean  :  0.5\n",
            "loss  :  67.3751\n",
            "precision  :  0.8195264\n",
            "prediction/mean  :  0.4949526\n",
            "recall  :  0.8112\n",
            "global_step  :  25000\n"
          ],
          "name": "stdout"
        }
      ]
    },
    {
      "cell_type": "markdown",
      "metadata": {
        "id": "EfK0MD2Df66f",
        "colab_type": "text"
      },
      "source": [
        "Since this is a simpler model, we would be able to inspect the most important tokens, which have more weights in our model. The graph below shows such tokens."
      ]
    },
    {
      "cell_type": "code",
      "metadata": {
        "id": "L3hIiTYZqTvz",
        "colab_type": "code",
        "colab": {
          "base_uri": "https://localhost:8080/",
          "height": 334
        },
        "outputId": "6fd1eaff-235b-4560-f1e7-040f0668010e"
      },
      "source": [
        "weights = classifier.get_variable_value('linear/linear_model/x/weights').flatten()\n",
        "sorted_indexes = np.argsort(weights)\n",
        "extremes = np.concatenate((sorted_indexes[-8:], sorted_indexes[:8]))\n",
        "extreme_weights = sorted([(weights[i], word_inverted_index[i]) for i in extremes])\n",
        "\n",
        "y_pos = np.arange(len(extreme_weights))\n",
        "plt.bar(y_pos, [pair[0] for pair in extreme_weights], align='center', alpha=0.5)\n",
        "plt.xticks(y_pos, [pair[1] for pair in extreme_weights], rotation=45, ha='right')\n",
        "plt.ylabel('Weight')\n",
        "plt.title('Most significant tokens') \n",
        "plt.show()"
      ],
      "execution_count": 10,
      "outputs": [
        {
          "output_type": "display_data",
          "data": {
            "image/png": "[encoded data removed]",
            "text/plain": [
              "<Figure size 432x288 with 1 Axes>"
            ]
          },
          "metadata": {
            "tags": []
          }
        }
      ]
    },
    {
      "cell_type": "markdown",
      "metadata": {
        "id": "80wiQLnCgZ9d",
        "colab_type": "text"
      },
      "source": [
        "## 4. Neural Networks Classifier.\n",
        "\n",
        "We saw that the linear classifier performed quite well on the dataset. We shall move ahead and try getting a better accuracy from other classifiers. To make the dataset more complex, we shall also try adding word embeddings. Embeddings are a dense low-dimensional representation of sparse high-dimensional data. This allows our model to learn a more meaningful representation of each token, rather than just an index. We can add word embeddings by converting our existing feature column into an embedding_column. The representation seen by the model is the mean of the embeddings for each token "
      ]
    },
    {
      "cell_type": "code",
      "metadata": {
        "id": "MybxYEiBIs1j",
        "colab_type": "code",
        "colab": {}
      },
      "source": [
        "word_embedding_column = tf.feature_column.embedding_column(column, dimension=embedding_size)\n",
        "neural_classifier = tf.estimator.DNNClassifier(\n",
        "    hidden_units=[100],\n",
        "    feature_columns=[word_embedding_column], \n",
        "    model_dir=os.path.join(model_dir, 'bow_embeddings'),\n",
        "    config=tf.estimator.RunConfig(log_step_count_steps=5000))"
      ],
      "execution_count": 0,
      "outputs": []
    },
    {
      "cell_type": "code",
      "metadata": {
        "id": "DWf-jqTorMsE",
        "colab_type": "code",
        "colab": {
          "base_uri": "https://localhost:8080/",
          "height": 479
        },
        "outputId": "2cc928b5-7307-435c-fdcd-47a0dd492936"
      },
      "source": [
        "train_classifier(neural_classifier)"
      ],
      "execution_count": 12,
      "outputs": [
        {
          "output_type": "stream",
          "text": [
            "INFO:tensorflow:Calling model_fn.\n",
            "WARNING:tensorflow:Entity <bound method _DNNModel.call of <tensorflow_estimator.python.estimator.canned.dnn._DNNModel object at 0x7fa4ba71b438>> could not be transformed and will be executed as-is. Please report this to the AutoGraph team. When filing the bug, set the verbosity to 10 (on Linux, `export AUTOGRAPH_VERBOSITY=10`) and attach the full output. Cause: module 'gast' has no attribute 'Num'\n",
            "WARNING: Entity <bound method _DNNModel.call of <tensorflow_estimator.python.estimator.canned.dnn._DNNModel object at 0x7fa4ba71b438>> could not be transformed and will be executed as-is. Please report this to the AutoGraph team. When filing the bug, set the verbosity to 10 (on Linux, `export AUTOGRAPH_VERBOSITY=10`) and attach the full output. Cause: module 'gast' has no attribute 'Num'\n",
            "WARNING:tensorflow:From /tensorflow-1.15.2/python3.6/tensorflow_core/python/feature_column/feature_column_v2.py:3079: IdentityCategoricalColumn._num_buckets (from tensorflow.python.feature_column.feature_column_v2) is deprecated and will be removed in a future version.\n",
            "Instructions for updating:\n",
            "The old _FeatureColumn APIs are being deprecated. Please use the new FeatureColumn APIs instead.\n",
            "WARNING:tensorflow:From /tensorflow-1.15.2/python3.6/tensorflow_core/python/training/adagrad.py:76: calling Constant.__init__ (from tensorflow.python.ops.init_ops) with dtype is deprecated and will be removed in a future version.\n",
            "Instructions for updating:\n",
            "Call initializer instance with the dtype argument instead of passing it to the constructor\n",
            "INFO:tensorflow:Done calling model_fn.\n",
            "INFO:tensorflow:Create CheckpointSaverHook.\n",
            "INFO:tensorflow:Graph was finalized.\n",
            "INFO:tensorflow:Running local_init_op.\n",
            "INFO:tensorflow:Done running local_init_op.\n",
            "INFO:tensorflow:Saving checkpoints for 0 into /tmp/tmpt078hbkc/bow_embeddings/model.ckpt.\n",
            "INFO:tensorflow:loss = 69.34512, step = 1\n",
            "INFO:tensorflow:global_step/sec: 133.614\n",
            "INFO:tensorflow:loss = 16.770742, step = 5001 (37.426 sec)\n",
            "INFO:tensorflow:global_step/sec: 138.552\n",
            "INFO:tensorflow:loss = 3.8213756, step = 10001 (36.089 sec)\n",
            "INFO:tensorflow:global_step/sec: 132.694\n",
            "INFO:tensorflow:loss = 1.1921632, step = 15001 (37.678 sec)\n",
            "INFO:tensorflow:global_step/sec: 131.668\n",
            "INFO:tensorflow:loss = 0.54301333, step = 20001 (37.976 sec)\n",
            "INFO:tensorflow:Saving checkpoints for 25000 into /tmp/tmpt078hbkc/bow_embeddings/model.ckpt.\n",
            "INFO:tensorflow:Loss for final step: 0.33573103.\n"
          ],
          "name": "stdout"
        }
      ]
    },
    {
      "cell_type": "markdown",
      "metadata": {
        "id": "nHEpsmA_r48b",
        "colab_type": "text"
      },
      "source": [
        "Now we shall see how this new classifier fared against the Linear Classifier."
      ]
    },
    {
      "cell_type": "code",
      "metadata": {
        "id": "hjJrvE52r0yg",
        "colab_type": "code",
        "colab": {
          "base_uri": "https://localhost:8080/",
          "height": 204
        },
        "outputId": "bb663795-0d15-4bf0-a0ba-2c8b45d9258e"
      },
      "source": [
        "evaluate_classifier(classifier)"
      ],
      "execution_count": 13,
      "outputs": [
        {
          "output_type": "stream",
          "text": [
            "accuracy  :  0.81628\n",
            "accuracy_baseline  :  0.5\n",
            "auc  :  0.88860565\n",
            "auc_precision_recall  :  0.8897927\n",
            "average_loss  :  0.673751\n",
            "label/mean  :  0.5\n",
            "loss  :  67.3751\n",
            "precision  :  0.8195264\n",
            "prediction/mean  :  0.4949526\n",
            "recall  :  0.8112\n",
            "global_step  :  25000\n"
          ],
          "name": "stdout"
        }
      ]
    },
    {
      "cell_type": "markdown",
      "metadata": {
        "id": "jEnWzb1xk00k",
        "colab_type": "text"
      },
      "source": [
        "## 5. Connvolutional Neural Networks\n",
        "\n",
        "We saw that neural network had a better accuracy than the linear classifier. We shall make our model more complex by building convlutional neural networks for this problem. Convolutions are one way to take advantage of this structure, similar to how we can model salient clusters of pixels for image classification. The intuition is that certain sequences of words, or n-grams, usually have the same meaning regardless of their overall position in the sentence. Introducing a structural prior via the convolution operation allows us to model the interaction between neighboring words and consequently gives us a better way to represent such meaning."
      ]
    },
    {
      "cell_type": "code",
      "metadata": {
        "id": "lPsshT7_qfQA",
        "colab_type": "code",
        "colab": {}
      },
      "source": [
        "head = tf.contrib.estimator.binary_classification_head()\n",
        "\n",
        "def cnn_model_fn(features, labels, mode, params):    \n",
        "    input_layer = tf.contrib.layers.embed_sequence(\n",
        "        features['x'], vocab_size, embedding_size,\n",
        "        initializer=params['embedding_initializer'])\n",
        "    \n",
        "    training = mode == tf.estimator.ModeKeys.TRAIN\n",
        "    dropout_emb = tf.layers.dropout(inputs=input_layer, \n",
        "                                    rate=0.2, \n",
        "                                    training=training)\n",
        "\n",
        "    conv = tf.layers.conv1d(\n",
        "        inputs=dropout_emb,\n",
        "        filters=32,\n",
        "        kernel_size=3,\n",
        "        padding=\"same\",\n",
        "        activation=tf.nn.relu)\n",
        "    \n",
        "    pool = tf.reduce_max(input_tensor=conv, axis=1)\n",
        "    \n",
        "    hidden = tf.layers.dense(inputs=pool, units=250, activation=tf.nn.relu)\n",
        "    \n",
        "    dropout_hidden = tf.layers.dropout(inputs=hidden, \n",
        "                                       rate=0.2, \n",
        "                                       training=training)\n",
        "    \n",
        "    logits = tf.layers.dense(inputs=dropout_hidden, units=1)\n",
        "    \n",
        "    if labels is not None:\n",
        "        labels = tf.reshape(labels, [-1, 1])\n",
        "        \n",
        "\n",
        "    optimizer = tf.train.AdamOptimizer()\n",
        "    \n",
        "    def _train_op_fn(loss):\n",
        "        return optimizer.minimize(\n",
        "            loss=loss,\n",
        "            global_step=tf.train.get_global_step())\n",
        "\n",
        "    return head.create_estimator_spec(\n",
        "        features=features,\n",
        "        labels=labels,\n",
        "        mode=mode,\n",
        "        logits=logits, \n",
        "        train_op_fn=_train_op_fn)"
      ],
      "execution_count": 0,
      "outputs": []
    },
    {
      "cell_type": "markdown",
      "metadata": {
        "id": "e0XnpC6Eq_9e",
        "colab_type": "text"
      },
      "source": [
        "Now that we have written the classifier object, we shall proceed by intializing an instance of the classifier and passing it to the training function."
      ]
    },
    {
      "cell_type": "code",
      "metadata": {
        "id": "JDLJhd0mqoj9",
        "colab_type": "code",
        "colab": {
          "base_uri": "https://localhost:8080/",
          "height": 479
        },
        "outputId": "76b3cb90-56ea-43d0-ab0b-cd796f111927"
      },
      "source": [
        "params = {'embedding_initializer': tf.random_uniform_initializer(-1.0, 1.0)}\n",
        "cnn_classifier = tf.estimator.Estimator(model_fn=cnn_model_fn,\n",
        "                                        model_dir=os.path.join(model_dir, 'cnn'),\n",
        "                                        params=params,\n",
        "                                        config=tf.estimator.RunConfig(log_step_count_steps=5000))\n",
        "train_classifier(cnn_classifier)"
      ],
      "execution_count": 19,
      "outputs": [
        {
          "output_type": "stream",
          "text": [
            "INFO:tensorflow:Calling model_fn.\n",
            "WARNING:tensorflow:From <ipython-input-18-b7034db0ed8e>:11: dropout (from tensorflow.python.layers.core) is deprecated and will be removed in a future version.\n",
            "Instructions for updating:\n",
            "Use keras.layers.dropout instead.\n",
            "WARNING:tensorflow:From <ipython-input-18-b7034db0ed8e>:18: conv1d (from tensorflow.python.layers.convolutional) is deprecated and will be removed in a future version.\n",
            "Instructions for updating:\n",
            "Use `tf.keras.layers.Conv1D` instead.\n",
            "INFO:tensorflow:Done calling model_fn.\n",
            "INFO:tensorflow:Create CheckpointSaverHook.\n",
            "INFO:tensorflow:Graph was finalized.\n",
            "INFO:tensorflow:Running local_init_op.\n",
            "INFO:tensorflow:Done running local_init_op.\n",
            "INFO:tensorflow:Saving checkpoints for 0 into /tmp/tmpt078hbkc/cnn/model.ckpt.\n",
            "INFO:tensorflow:loss = 0.99569696, step = 1\n",
            "INFO:tensorflow:global_step/sec: 20.5512\n",
            "INFO:tensorflow:loss = 0.09419124, step = 5001 (243.299 sec)\n",
            "INFO:tensorflow:global_step/sec: 20.7033\n",
            "INFO:tensorflow:loss = 0.04770914, step = 10001 (241.507 sec)\n",
            "INFO:tensorflow:Saving checkpoints for 12359 into /tmp/tmpt078hbkc/cnn/model.ckpt.\n",
            "INFO:tensorflow:global_step/sec: 20.4608\n",
            "INFO:tensorflow:loss = 0.04602832, step = 15001 (244.369 sec)\n",
            "INFO:tensorflow:global_step/sec: 20.6281\n",
            "INFO:tensorflow:loss = 0.013398403, step = 20001 (242.391 sec)\n",
            "INFO:tensorflow:Saving checkpoints for 24671 into /tmp/tmpt078hbkc/cnn/model.ckpt.\n",
            "INFO:tensorflow:Saving checkpoints for 25000 into /tmp/tmpt078hbkc/cnn/model.ckpt.\n",
            "INFO:tensorflow:Loss for final step: 0.013949459.\n"
          ],
          "name": "stdout"
        }
      ]
    },
    {
      "cell_type": "code",
      "metadata": {
        "id": "80j_kRfVq02t",
        "colab_type": "code",
        "colab": {
          "base_uri": "https://localhost:8080/",
          "height": 204
        },
        "outputId": "3240992a-f8c3-460c-965d-357215d732b3"
      },
      "source": [
        "evaluate_classifier(cnn_classifier)"
      ],
      "execution_count": 20,
      "outputs": [
        {
          "output_type": "stream",
          "text": [
            "accuracy  :  0.84596\n",
            "accuracy_baseline  :  0.5\n",
            "auc  :  0.9012032\n",
            "auc_precision_recall  :  0.9104663\n",
            "average_loss  :  0.86630476\n",
            "label/mean  :  0.5\n",
            "loss  :  0.86630476\n",
            "precision  :  0.8429693\n",
            "prediction/mean  :  0.503754\n",
            "recall  :  0.85032\n",
            "global_step  :  25000\n"
          ],
          "name": "stdout"
        }
      ]
    },
    {
      "cell_type": "markdown",
      "metadata": {
        "id": "JzOzY2nGsFdg",
        "colab_type": "text"
      },
      "source": [
        "## 6 LSTM Network\n",
        "\n",
        "In our efforts to get even better accuracy on the dataset, we shall try building a Long Short-Term Memory (LSTM) cells Network. An LSTM processes the entire document sequentially, recursing over the sequence with its cell while storing the current state of the sequence in its memory. LSTM is a Recurrent Neural Network (RNN). One of the drawbacks of recurrent models is that, because of the nature of recursion, models are deeper and more complex, which usually results in slower training time and worse convergence. LSTMs can suffer convergence issues like vanishing or exploding gradients.\n",
        "\n",
        "In the beginning, we padded all documents up to 200 tokens, which is necessary to build a proper tensor. However, when a document contains fewer than 200 words, we don't want the LSTM to continue processing padding tokens as it does not add information and degrades performance. For this reason, we additionally want to provide our network with the length of the original sequence before it was padded."
      ]
    },
    {
      "cell_type": "code",
      "metadata": {
        "id": "2FtmDsMSsM5O",
        "colab_type": "code",
        "colab": {}
      },
      "source": [
        "head = tf.contrib.estimator.binary_classification_head()\n",
        "\n",
        "def lstm_model_fn(features, labels, mode):    \n",
        "    # [batch_size x sentence_size x embedding_size]\n",
        "    inputs = tf.contrib.layers.embed_sequence(\n",
        "        features['x'], vocab_size, embedding_size,\n",
        "        initializer=tf.random_uniform_initializer(-1.0, 1.0))\n",
        "\n",
        "    # create an LSTM cell of size 100\n",
        "    lstm_cell = tf.nn.rnn_cell.BasicLSTMCell(100)\n",
        "    \n",
        "    # create the complete LSTM\n",
        "    _, final_states = tf.nn.dynamic_rnn(\n",
        "        lstm_cell, inputs, sequence_length=features['len'], dtype=tf.float32)\n",
        "\n",
        "    # get the final hidden states of dimensionality [batch_size x sentence_size]\n",
        "    outputs = final_states.h\n",
        "\n",
        "    logits = tf.layers.dense(inputs=outputs, units=1)\n",
        "\n",
        "    if labels is not None:\n",
        "        labels = tf.reshape(labels, [-1, 1])\n",
        "\n",
        "    optimizer = tf.train.AdamOptimizer()\n",
        "\n",
        "    def _train_op_fn(loss):\n",
        "        return optimizer.minimize(\n",
        "            loss=loss,\n",
        "            global_step=tf.train.get_global_step())\n",
        "\n",
        "    return head.create_estimator_spec(\n",
        "        features=features,\n",
        "        labels=labels,\n",
        "        mode=mode,\n",
        "        logits=logits,\n",
        "        train_op_fn=_train_op_fn)"
      ],
      "execution_count": 0,
      "outputs": []
    },
    {
      "cell_type": "code",
      "metadata": {
        "id": "4WnGsYoGKvQw",
        "colab_type": "code",
        "colab": {}
      },
      "source": [
        "lstm_classifier = tf.estimator.Estimator(model_fn=lstm_model_fn,\n",
        "                                         model_dir=os.path.join(model_dir, 'lstm'))"
      ],
      "execution_count": 0,
      "outputs": []
    },
    {
      "cell_type": "code",
      "metadata": {
        "id": "849Jb89PKyhD",
        "colab_type": "code",
        "colab": {
          "base_uri": "https://localhost:8080/",
          "height": 1000
        },
        "outputId": "94704f7a-f3b8-4453-cd6e-77fab4e61e21"
      },
      "source": [
        "train_classifier(lstm_classifier)"
      ],
      "execution_count": 16,
      "outputs": [
        {
          "output_type": "stream",
          "text": [
            "INFO:tensorflow:Calling model_fn.\n",
            "WARNING:tensorflow:From <ipython-input-14-66949bb143c8>:10: BasicLSTMCell.__init__ (from tensorflow.python.ops.rnn_cell_impl) is deprecated and will be removed in a future version.\n",
            "Instructions for updating:\n",
            "This class is equivalent as tf.keras.layers.LSTMCell, and will be replaced by that in Tensorflow 2.0.\n",
            "WARNING:tensorflow:From <ipython-input-14-66949bb143c8>:14: dynamic_rnn (from tensorflow.python.ops.rnn) is deprecated and will be removed in a future version.\n",
            "Instructions for updating:\n",
            "Please use `keras.layers.RNN(cell)`, which is equivalent to this API\n",
            "WARNING:tensorflow:From /tensorflow-1.15.2/python3.6/tensorflow_core/python/ops/rnn_cell_impl.py:739: calling Zeros.__init__ (from tensorflow.python.ops.init_ops) with dtype is deprecated and will be removed in a future version.\n",
            "Instructions for updating:\n",
            "Call initializer instance with the dtype argument instead of passing it to the constructor\n",
            "WARNING:tensorflow:From <ipython-input-14-66949bb143c8>:19: dense (from tensorflow.python.layers.core) is deprecated and will be removed in a future version.\n",
            "Instructions for updating:\n",
            "Use keras.layers.Dense instead.\n",
            "WARNING:tensorflow:From /tensorflow-1.15.2/python3.6/tensorflow_core/python/layers/core.py:187: Layer.apply (from tensorflow.python.keras.engine.base_layer) is deprecated and will be removed in a future version.\n",
            "Instructions for updating:\n",
            "Please use `layer.__call__` method instead.\n",
            "INFO:tensorflow:Done calling model_fn.\n",
            "INFO:tensorflow:Create CheckpointSaverHook.\n",
            "INFO:tensorflow:Graph was finalized.\n",
            "INFO:tensorflow:Running local_init_op.\n",
            "INFO:tensorflow:Done running local_init_op.\n",
            "INFO:tensorflow:Saving checkpoints for 0 into /tmp/tmpt078hbkc/lstm/model.ckpt.\n",
            "INFO:tensorflow:loss = 0.7076198, step = 1\n",
            "INFO:tensorflow:global_step/sec: 2.47515\n",
            "INFO:tensorflow:loss = 0.7425122, step = 101 (40.407 sec)\n",
            "INFO:tensorflow:global_step/sec: 2.48924\n",
            "INFO:tensorflow:loss = 0.5470848, step = 201 (40.169 sec)\n",
            "INFO:tensorflow:global_step/sec: 2.49018\n",
            "INFO:tensorflow:loss = 0.5880917, step = 301 (40.157 sec)\n",
            "INFO:tensorflow:global_step/sec: 2.46896\n",
            "INFO:tensorflow:loss = 0.3970359, step = 401 (40.503 sec)\n",
            "INFO:tensorflow:global_step/sec: 2.45782\n",
            "INFO:tensorflow:loss = 0.45159426, step = 501 (40.686 sec)\n",
            "INFO:tensorflow:global_step/sec: 2.44031\n",
            "INFO:tensorflow:loss = 0.34689546, step = 601 (40.981 sec)\n",
            "INFO:tensorflow:global_step/sec: 2.46154\n",
            "INFO:tensorflow:loss = 0.3863623, step = 701 (40.627 sec)\n",
            "INFO:tensorflow:global_step/sec: 2.46618\n",
            "INFO:tensorflow:loss = 0.36065066, step = 801 (40.544 sec)\n",
            "INFO:tensorflow:global_step/sec: 2.4525\n",
            "INFO:tensorflow:loss = 0.3622551, step = 901 (40.775 sec)\n",
            "INFO:tensorflow:global_step/sec: 2.46717\n",
            "INFO:tensorflow:loss = 0.22952613, step = 1001 (40.532 sec)\n",
            "INFO:tensorflow:global_step/sec: 2.47359\n",
            "INFO:tensorflow:loss = 0.30774277, step = 1101 (40.427 sec)\n",
            "INFO:tensorflow:global_step/sec: 2.4753\n",
            "INFO:tensorflow:loss = 0.23067878, step = 1201 (40.399 sec)\n",
            "INFO:tensorflow:global_step/sec: 2.45999\n",
            "INFO:tensorflow:loss = 0.2991316, step = 1301 (40.653 sec)\n",
            "INFO:tensorflow:global_step/sec: 2.48248\n",
            "INFO:tensorflow:loss = 0.32243615, step = 1401 (40.284 sec)\n",
            "INFO:tensorflow:Saving checkpoints for 1481 into /tmp/tmpt078hbkc/lstm/model.ckpt.\n",
            "INFO:tensorflow:global_step/sec: 2.45839\n",
            "INFO:tensorflow:loss = 0.24598733, step = 1501 (40.672 sec)\n",
            "INFO:tensorflow:global_step/sec: 2.48036\n",
            "INFO:tensorflow:loss = 0.21953197, step = 1601 (40.320 sec)\n",
            "INFO:tensorflow:global_step/sec: 2.48393\n",
            "INFO:tensorflow:loss = 0.21378899, step = 1701 (40.258 sec)\n",
            "INFO:tensorflow:global_step/sec: 2.44304\n",
            "INFO:tensorflow:loss = 0.23467131, step = 1801 (40.931 sec)\n",
            "INFO:tensorflow:global_step/sec: 2.43778\n",
            "INFO:tensorflow:loss = 0.20551053, step = 1901 (41.021 sec)\n",
            "INFO:tensorflow:global_step/sec: 2.44674\n",
            "INFO:tensorflow:loss = 0.1121484, step = 2001 (40.871 sec)\n",
            "INFO:tensorflow:global_step/sec: 2.4329\n",
            "INFO:tensorflow:loss = 0.21478172, step = 2101 (41.104 sec)\n",
            "INFO:tensorflow:global_step/sec: 2.44801\n",
            "INFO:tensorflow:loss = 0.23003723, step = 2201 (40.849 sec)\n",
            "INFO:tensorflow:global_step/sec: 2.47227\n",
            "INFO:tensorflow:loss = 0.15532249, step = 2301 (40.449 sec)\n",
            "INFO:tensorflow:global_step/sec: 2.47224\n",
            "INFO:tensorflow:loss = 0.19073911, step = 2401 (40.449 sec)\n",
            "INFO:tensorflow:global_step/sec: 2.49263\n",
            "INFO:tensorflow:loss = 0.14607829, step = 2501 (40.123 sec)\n",
            "INFO:tensorflow:global_step/sec: 2.49092\n",
            "INFO:tensorflow:loss = 0.18944925, step = 2601 (40.145 sec)\n",
            "INFO:tensorflow:global_step/sec: 2.48373\n",
            "INFO:tensorflow:loss = 0.12618862, step = 2701 (40.259 sec)\n",
            "INFO:tensorflow:global_step/sec: 2.48187\n",
            "INFO:tensorflow:loss = 0.115360096, step = 2801 (40.292 sec)\n",
            "INFO:tensorflow:global_step/sec: 2.43681\n",
            "INFO:tensorflow:loss = 0.13943048, step = 2901 (41.037 sec)\n",
            "INFO:tensorflow:Saving checkpoints for 2959 into /tmp/tmpt078hbkc/lstm/model.ckpt.\n",
            "INFO:tensorflow:global_step/sec: 2.4261\n",
            "INFO:tensorflow:loss = 0.18479696, step = 3001 (41.219 sec)\n",
            "INFO:tensorflow:global_step/sec: 2.46599\n",
            "INFO:tensorflow:loss = 0.11729857, step = 3101 (40.551 sec)\n",
            "INFO:tensorflow:global_step/sec: 2.4889\n",
            "INFO:tensorflow:loss = 0.14973287, step = 3201 (40.183 sec)\n",
            "INFO:tensorflow:global_step/sec: 2.48818\n",
            "INFO:tensorflow:loss = 0.09194274, step = 3301 (40.186 sec)\n",
            "INFO:tensorflow:global_step/sec: 2.48699\n",
            "INFO:tensorflow:loss = 0.11223269, step = 3401 (40.209 sec)\n",
            "INFO:tensorflow:global_step/sec: 2.49315\n",
            "INFO:tensorflow:loss = 0.083649136, step = 3501 (40.113 sec)\n",
            "INFO:tensorflow:global_step/sec: 2.48122\n",
            "INFO:tensorflow:loss = 0.13925336, step = 3601 (40.299 sec)\n",
            "INFO:tensorflow:global_step/sec: 2.47324\n",
            "INFO:tensorflow:loss = 0.1729661, step = 3701 (40.436 sec)\n",
            "INFO:tensorflow:global_step/sec: 2.44153\n",
            "INFO:tensorflow:loss = 0.075825535, step = 3801 (40.956 sec)\n",
            "INFO:tensorflow:global_step/sec: 2.44314\n",
            "INFO:tensorflow:loss = 0.058767427, step = 3901 (40.930 sec)\n",
            "INFO:tensorflow:global_step/sec: 2.44656\n",
            "INFO:tensorflow:loss = 0.055978037, step = 4001 (40.873 sec)\n",
            "INFO:tensorflow:global_step/sec: 2.44456\n",
            "INFO:tensorflow:loss = 0.046467166, step = 4101 (40.907 sec)\n",
            "INFO:tensorflow:global_step/sec: 2.44012\n",
            "INFO:tensorflow:loss = 0.14181922, step = 4201 (40.981 sec)\n",
            "INFO:tensorflow:global_step/sec: 2.45341\n",
            "INFO:tensorflow:loss = 0.026507387, step = 4301 (40.764 sec)\n",
            "INFO:tensorflow:global_step/sec: 2.45411\n",
            "INFO:tensorflow:loss = 0.040757827, step = 4401 (40.744 sec)\n",
            "INFO:tensorflow:Saving checkpoints for 4437 into /tmp/tmpt078hbkc/lstm/model.ckpt.\n",
            "INFO:tensorflow:global_step/sec: 2.48083\n",
            "INFO:tensorflow:loss = 0.058588587, step = 4501 (40.309 sec)\n",
            "INFO:tensorflow:global_step/sec: 2.48591\n",
            "INFO:tensorflow:loss = 0.030171946, step = 4601 (40.226 sec)\n",
            "INFO:tensorflow:global_step/sec: 2.46923\n",
            "INFO:tensorflow:loss = 0.057292033, step = 4701 (40.501 sec)\n",
            "INFO:tensorflow:global_step/sec: 2.46581\n",
            "INFO:tensorflow:loss = 0.06631984, step = 4801 (40.552 sec)\n",
            "INFO:tensorflow:global_step/sec: 2.46171\n",
            "INFO:tensorflow:loss = 0.018308075, step = 4901 (40.626 sec)\n",
            "INFO:tensorflow:global_step/sec: 2.45358\n",
            "INFO:tensorflow:loss = 0.014008304, step = 5001 (40.753 sec)\n",
            "INFO:tensorflow:global_step/sec: 2.45166\n",
            "INFO:tensorflow:loss = 0.060268097, step = 5101 (40.792 sec)\n",
            "INFO:tensorflow:global_step/sec: 2.43917\n",
            "INFO:tensorflow:loss = 0.046560984, step = 5201 (40.994 sec)\n",
            "INFO:tensorflow:global_step/sec: 2.45225\n",
            "INFO:tensorflow:loss = 0.036192838, step = 5301 (40.783 sec)\n",
            "INFO:tensorflow:global_step/sec: 2.4581\n",
            "INFO:tensorflow:loss = 0.010195819, step = 5401 (40.677 sec)\n",
            "INFO:tensorflow:global_step/sec: 2.45093\n",
            "INFO:tensorflow:loss = 0.0306886, step = 5501 (40.802 sec)\n",
            "INFO:tensorflow:global_step/sec: 2.44476\n",
            "INFO:tensorflow:loss = 0.046013325, step = 5601 (40.905 sec)\n",
            "INFO:tensorflow:global_step/sec: 2.46411\n",
            "INFO:tensorflow:loss = 0.069471374, step = 5701 (40.580 sec)\n",
            "INFO:tensorflow:global_step/sec: 2.46261\n",
            "INFO:tensorflow:loss = 0.007971866, step = 5801 (40.607 sec)\n",
            "INFO:tensorflow:global_step/sec: 2.46141\n",
            "INFO:tensorflow:loss = 0.022482863, step = 5901 (40.627 sec)\n",
            "INFO:tensorflow:Saving checkpoints for 5913 into /tmp/tmpt078hbkc/lstm/model.ckpt.\n",
            "INFO:tensorflow:global_step/sec: 2.45145\n",
            "INFO:tensorflow:loss = 0.047856264, step = 6001 (40.792 sec)\n",
            "INFO:tensorflow:global_step/sec: 2.45901\n",
            "INFO:tensorflow:loss = 0.011574383, step = 6101 (40.672 sec)\n",
            "INFO:tensorflow:global_step/sec: 2.46039\n",
            "INFO:tensorflow:loss = 0.03412968, step = 6201 (40.639 sec)\n",
            "INFO:tensorflow:global_step/sec: 2.45736\n",
            "INFO:tensorflow:loss = 0.0230061, step = 6301 (40.695 sec)\n",
            "INFO:tensorflow:global_step/sec: 2.45443\n",
            "INFO:tensorflow:loss = 0.0041737864, step = 6401 (40.742 sec)\n",
            "INFO:tensorflow:global_step/sec: 2.46684\n",
            "INFO:tensorflow:loss = 0.011349258, step = 6501 (40.538 sec)\n",
            "INFO:tensorflow:global_step/sec: 2.47551\n",
            "INFO:tensorflow:loss = 0.006215686, step = 6601 (40.395 sec)\n",
            "INFO:tensorflow:global_step/sec: 2.45974\n",
            "INFO:tensorflow:loss = 0.011401521, step = 6701 (40.658 sec)\n",
            "INFO:tensorflow:global_step/sec: 2.44856\n",
            "INFO:tensorflow:loss = 0.0022760627, step = 6801 (40.842 sec)\n",
            "INFO:tensorflow:global_step/sec: 2.464\n",
            "INFO:tensorflow:loss = 0.0026611432, step = 6901 (40.580 sec)\n",
            "INFO:tensorflow:global_step/sec: 2.45083\n",
            "INFO:tensorflow:loss = 0.051623993, step = 7001 (40.802 sec)\n",
            "INFO:tensorflow:global_step/sec: 2.45518\n",
            "INFO:tensorflow:loss = 0.013234343, step = 7101 (40.734 sec)\n",
            "INFO:tensorflow:global_step/sec: 2.44132\n",
            "INFO:tensorflow:loss = 0.006117618, step = 7201 (40.958 sec)\n",
            "INFO:tensorflow:global_step/sec: 2.45075\n",
            "INFO:tensorflow:loss = 0.0062585133, step = 7301 (40.804 sec)\n",
            "INFO:tensorflow:Saving checkpoints for 7387 into /tmp/tmpt078hbkc/lstm/model.ckpt.\n",
            "WARNING:tensorflow:From /tensorflow-1.15.2/python3.6/tensorflow_core/python/training/saver.py:963: remove_checkpoint (from tensorflow.python.training.checkpoint_management) is deprecated and will be removed in a future version.\n",
            "Instructions for updating:\n",
            "Use standard file APIs to delete files with this prefix.\n",
            "INFO:tensorflow:global_step/sec: 2.42591\n",
            "INFO:tensorflow:loss = 0.0039606676, step = 7401 (41.226 sec)\n",
            "INFO:tensorflow:global_step/sec: 2.44929\n",
            "INFO:tensorflow:loss = 0.0009949484, step = 7501 (40.824 sec)\n",
            "INFO:tensorflow:global_step/sec: 2.4599\n",
            "INFO:tensorflow:loss = 0.0032988414, step = 7601 (40.653 sec)\n",
            "INFO:tensorflow:global_step/sec: 2.44699\n",
            "INFO:tensorflow:loss = 0.032405425, step = 7701 (40.866 sec)\n",
            "INFO:tensorflow:global_step/sec: 2.44958\n",
            "INFO:tensorflow:loss = 0.011759782, step = 7801 (40.823 sec)\n",
            "INFO:tensorflow:global_step/sec: 2.45461\n",
            "INFO:tensorflow:loss = 0.02254511, step = 7901 (40.744 sec)\n",
            "INFO:tensorflow:global_step/sec: 2.46392\n",
            "INFO:tensorflow:loss = 0.013961483, step = 8001 (40.586 sec)\n",
            "INFO:tensorflow:global_step/sec: 2.47448\n",
            "INFO:tensorflow:loss = 0.010188877, step = 8101 (40.408 sec)\n",
            "INFO:tensorflow:global_step/sec: 2.43034\n",
            "INFO:tensorflow:loss = 0.015384767, step = 8201 (41.147 sec)\n",
            "INFO:tensorflow:global_step/sec: 2.43367\n",
            "INFO:tensorflow:loss = 0.003488777, step = 8301 (41.096 sec)\n",
            "INFO:tensorflow:global_step/sec: 2.45714\n",
            "INFO:tensorflow:loss = 0.14221671, step = 8401 (40.692 sec)\n",
            "INFO:tensorflow:global_step/sec: 2.42506\n",
            "INFO:tensorflow:loss = 0.044543844, step = 8501 (41.236 sec)\n",
            "INFO:tensorflow:global_step/sec: 2.45085\n",
            "INFO:tensorflow:loss = 0.004535718, step = 8601 (40.807 sec)\n",
            "INFO:tensorflow:global_step/sec: 2.47412\n",
            "INFO:tensorflow:loss = 0.019078502, step = 8701 (40.418 sec)\n",
            "INFO:tensorflow:global_step/sec: 2.48841\n",
            "INFO:tensorflow:loss = 0.009123727, step = 8801 (40.182 sec)\n",
            "INFO:tensorflow:Saving checkpoints for 8860 into /tmp/tmpt078hbkc/lstm/model.ckpt.\n",
            "INFO:tensorflow:global_step/sec: 2.47764\n",
            "INFO:tensorflow:loss = 0.0024561246, step = 8901 (40.364 sec)\n",
            "INFO:tensorflow:global_step/sec: 2.46057\n",
            "INFO:tensorflow:loss = 0.0042997845, step = 9001 (40.639 sec)\n",
            "INFO:tensorflow:global_step/sec: 2.48626\n",
            "INFO:tensorflow:loss = 0.0057453983, step = 9101 (40.223 sec)\n",
            "INFO:tensorflow:global_step/sec: 2.48194\n",
            "INFO:tensorflow:loss = 0.0037152297, step = 9201 (40.288 sec)\n",
            "INFO:tensorflow:global_step/sec: 2.49365\n",
            "INFO:tensorflow:loss = 0.0015412173, step = 9301 (40.108 sec)\n",
            "INFO:tensorflow:global_step/sec: 2.46688\n",
            "INFO:tensorflow:loss = 0.0018292831, step = 9401 (40.536 sec)\n",
            "INFO:tensorflow:global_step/sec: 2.45202\n",
            "INFO:tensorflow:loss = 0.0011873477, step = 9501 (40.784 sec)\n",
            "INFO:tensorflow:global_step/sec: 2.45661\n",
            "INFO:tensorflow:loss = 0.0010742435, step = 9601 (40.700 sec)\n",
            "INFO:tensorflow:global_step/sec: 2.44946\n",
            "INFO:tensorflow:loss = 0.00068298454, step = 9701 (40.826 sec)\n",
            "INFO:tensorflow:global_step/sec: 2.42778\n",
            "INFO:tensorflow:loss = 0.0005975583, step = 9801 (41.189 sec)\n",
            "INFO:tensorflow:global_step/sec: 2.44662\n",
            "INFO:tensorflow:loss = 0.00080744294, step = 9901 (40.873 sec)\n",
            "INFO:tensorflow:global_step/sec: 2.45127\n",
            "INFO:tensorflow:loss = 0.00090433704, step = 10001 (40.795 sec)\n",
            "INFO:tensorflow:global_step/sec: 2.46758\n",
            "INFO:tensorflow:loss = 0.00025731462, step = 10101 (40.531 sec)\n",
            "INFO:tensorflow:global_step/sec: 2.44094\n",
            "INFO:tensorflow:loss = 0.00021593485, step = 10201 (40.967 sec)\n",
            "INFO:tensorflow:global_step/sec: 2.46474\n",
            "INFO:tensorflow:loss = 0.0002730553, step = 10301 (40.573 sec)\n",
            "INFO:tensorflow:Saving checkpoints for 10337 into /tmp/tmpt078hbkc/lstm/model.ckpt.\n",
            "INFO:tensorflow:global_step/sec: 2.43192\n",
            "INFO:tensorflow:loss = 0.00011049061, step = 10401 (41.115 sec)\n",
            "INFO:tensorflow:global_step/sec: 2.45802\n",
            "INFO:tensorflow:loss = 0.0003660325, step = 10501 (40.683 sec)\n",
            "INFO:tensorflow:global_step/sec: 2.47987\n",
            "INFO:tensorflow:loss = 0.0003264403, step = 10601 (40.330 sec)\n",
            "INFO:tensorflow:global_step/sec: 2.51361\n",
            "INFO:tensorflow:loss = 0.00052079244, step = 10701 (39.782 sec)\n",
            "INFO:tensorflow:global_step/sec: 2.48066\n",
            "INFO:tensorflow:loss = 0.000510853, step = 10801 (40.308 sec)\n",
            "INFO:tensorflow:global_step/sec: 2.49091\n",
            "INFO:tensorflow:loss = 0.00017537529, step = 10901 (40.151 sec)\n",
            "INFO:tensorflow:global_step/sec: 2.44454\n",
            "INFO:tensorflow:loss = 0.00026968232, step = 11001 (40.909 sec)\n",
            "INFO:tensorflow:global_step/sec: 2.49128\n",
            "INFO:tensorflow:loss = 0.00019277747, step = 11101 (40.134 sec)\n",
            "INFO:tensorflow:global_step/sec: 2.48693\n",
            "INFO:tensorflow:loss = 0.00024012556, step = 11201 (40.210 sec)\n",
            "INFO:tensorflow:global_step/sec: 2.46621\n",
            "INFO:tensorflow:loss = 0.00021827879, step = 11301 (40.553 sec)\n",
            "INFO:tensorflow:global_step/sec: 2.45992\n",
            "INFO:tensorflow:loss = 0.00015914913, step = 11401 (40.647 sec)\n",
            "INFO:tensorflow:global_step/sec: 2.47173\n",
            "INFO:tensorflow:loss = 0.0002586105, step = 11501 (40.457 sec)\n",
            "INFO:tensorflow:global_step/sec: 2.49076\n",
            "INFO:tensorflow:loss = 0.00027961016, step = 11601 (40.153 sec)\n",
            "INFO:tensorflow:global_step/sec: 2.48039\n",
            "INFO:tensorflow:loss = 9.4286865e-05, step = 11701 (40.311 sec)\n",
            "INFO:tensorflow:global_step/sec: 2.46958\n",
            "INFO:tensorflow:loss = 8.2985665e-05, step = 11801 (40.492 sec)\n",
            "INFO:tensorflow:Saving checkpoints for 11822 into /tmp/tmpt078hbkc/lstm/model.ckpt.\n",
            "INFO:tensorflow:global_step/sec: 2.42749\n",
            "INFO:tensorflow:loss = 0.00027939343, step = 11901 (41.195 sec)\n",
            "INFO:tensorflow:global_step/sec: 2.45782\n",
            "INFO:tensorflow:loss = 0.00019912295, step = 12001 (40.687 sec)\n",
            "INFO:tensorflow:global_step/sec: 2.47978\n",
            "INFO:tensorflow:loss = 0.00011043084, step = 12101 (40.327 sec)\n",
            "INFO:tensorflow:global_step/sec: 2.47923\n",
            "INFO:tensorflow:loss = 0.00028941184, step = 12201 (40.335 sec)\n",
            "INFO:tensorflow:global_step/sec: 2.46392\n",
            "INFO:tensorflow:loss = 3.5166016e-05, step = 12301 (40.586 sec)\n",
            "INFO:tensorflow:global_step/sec: 2.49706\n",
            "INFO:tensorflow:loss = 6.192193e-05, step = 12401 (40.047 sec)\n",
            "INFO:tensorflow:global_step/sec: 2.48783\n",
            "INFO:tensorflow:loss = 0.00011866685, step = 12501 (40.196 sec)\n",
            "INFO:tensorflow:global_step/sec: 2.46653\n",
            "INFO:tensorflow:loss = 7.488851e-05, step = 12601 (40.543 sec)\n",
            "INFO:tensorflow:global_step/sec: 2.49022\n",
            "INFO:tensorflow:loss = 4.7975507e-05, step = 12701 (40.161 sec)\n",
            "INFO:tensorflow:global_step/sec: 2.48118\n",
            "INFO:tensorflow:loss = 7.59484e-05, step = 12801 (40.304 sec)\n",
            "INFO:tensorflow:global_step/sec: 2.49588\n",
            "INFO:tensorflow:loss = 0.0001290434, step = 12901 (40.062 sec)\n",
            "INFO:tensorflow:global_step/sec: 2.45834\n",
            "INFO:tensorflow:loss = 0.000101502184, step = 13001 (40.680 sec)\n",
            "INFO:tensorflow:global_step/sec: 2.44199\n",
            "INFO:tensorflow:loss = 6.081683e-05, step = 13101 (40.951 sec)\n",
            "INFO:tensorflow:global_step/sec: 2.43952\n",
            "INFO:tensorflow:loss = 5.9984428e-05, step = 13201 (40.994 sec)\n",
            "INFO:tensorflow:global_step/sec: 2.45711\n",
            "INFO:tensorflow:loss = 7.203457e-05, step = 13301 (40.695 sec)\n",
            "INFO:tensorflow:Saving checkpoints for 13304 into /tmp/tmpt078hbkc/lstm/model.ckpt.\n",
            "INFO:tensorflow:global_step/sec: 2.43401\n",
            "INFO:tensorflow:loss = 5.248623e-05, step = 13401 (41.083 sec)\n",
            "INFO:tensorflow:global_step/sec: 2.4608\n",
            "INFO:tensorflow:loss = 4.4327135e-05, step = 13501 (40.635 sec)\n",
            "INFO:tensorflow:global_step/sec: 2.45679\n",
            "INFO:tensorflow:loss = 4.3518823e-05, step = 13601 (40.711 sec)\n",
            "INFO:tensorflow:global_step/sec: 2.49521\n",
            "INFO:tensorflow:loss = 3.1714855e-05, step = 13701 (40.069 sec)\n",
            "INFO:tensorflow:global_step/sec: 2.47978\n",
            "INFO:tensorflow:loss = 1.2978848e-05, step = 13801 (40.327 sec)\n",
            "INFO:tensorflow:global_step/sec: 2.49138\n",
            "INFO:tensorflow:loss = 3.8785358e-05, step = 13901 (40.139 sec)\n",
            "INFO:tensorflow:global_step/sec: 2.47025\n",
            "INFO:tensorflow:loss = 4.147966e-05, step = 14001 (40.481 sec)\n",
            "INFO:tensorflow:global_step/sec: 2.48753\n",
            "INFO:tensorflow:loss = 2.7150752e-05, step = 14101 (40.200 sec)\n",
            "INFO:tensorflow:global_step/sec: 2.46794\n",
            "INFO:tensorflow:loss = 6.806782e-05, step = 14201 (40.519 sec)\n",
            "INFO:tensorflow:global_step/sec: 2.47076\n",
            "INFO:tensorflow:loss = 1.7158984e-05, step = 14301 (40.473 sec)\n",
            "INFO:tensorflow:global_step/sec: 2.45136\n",
            "INFO:tensorflow:loss = 1.712201e-05, step = 14401 (40.794 sec)\n",
            "INFO:tensorflow:global_step/sec: 2.51857\n",
            "INFO:tensorflow:loss = 1.3262045e-05, step = 14501 (39.705 sec)\n",
            "INFO:tensorflow:global_step/sec: 2.47162\n",
            "INFO:tensorflow:loss = 1.9761603e-05, step = 14601 (40.459 sec)\n",
            "INFO:tensorflow:global_step/sec: 2.48474\n",
            "INFO:tensorflow:loss = 1.598955e-05, step = 14701 (40.246 sec)\n",
            "INFO:tensorflow:Saving checkpoints for 14789 into /tmp/tmpt078hbkc/lstm/model.ckpt.\n",
            "INFO:tensorflow:global_step/sec: 2.44376\n",
            "INFO:tensorflow:loss = 8.521403e-06, step = 14801 (40.920 sec)\n",
            "INFO:tensorflow:global_step/sec: 2.46196\n",
            "INFO:tensorflow:loss = 2.2393346e-05, step = 14901 (40.618 sec)\n",
            "INFO:tensorflow:global_step/sec: 2.4766\n",
            "INFO:tensorflow:loss = 3.085622e-05, step = 15001 (40.378 sec)\n",
            "INFO:tensorflow:global_step/sec: 2.48246\n",
            "INFO:tensorflow:loss = 2.2419448e-05, step = 15101 (40.287 sec)\n",
            "INFO:tensorflow:global_step/sec: 2.50934\n",
            "INFO:tensorflow:loss = 1.7886452e-05, step = 15201 (39.846 sec)\n",
            "INFO:tensorflow:global_step/sec: 2.38754\n",
            "INFO:tensorflow:loss = 1.5078133e-05, step = 15301 (41.884 sec)\n",
            "INFO:tensorflow:global_step/sec: 2.51276\n",
            "INFO:tensorflow:loss = 1.18334565e-05, step = 15401 (39.797 sec)\n",
            "INFO:tensorflow:global_step/sec: 2.49936\n",
            "INFO:tensorflow:loss = 1.0586597e-05, step = 15501 (40.010 sec)\n",
            "INFO:tensorflow:global_step/sec: 2.4975\n",
            "INFO:tensorflow:loss = 7.706847e-06, step = 15601 (40.040 sec)\n",
            "INFO:tensorflow:global_step/sec: 2.48982\n",
            "INFO:tensorflow:loss = 2.5927e-05, step = 15701 (40.168 sec)\n",
            "INFO:tensorflow:global_step/sec: 2.4651\n",
            "INFO:tensorflow:loss = 9.803343e-06, step = 15801 (40.562 sec)\n",
            "INFO:tensorflow:global_step/sec: 2.43508\n",
            "INFO:tensorflow:loss = 1.1750447e-05, step = 15901 (41.067 sec)\n",
            "INFO:tensorflow:global_step/sec: 2.47201\n",
            "INFO:tensorflow:loss = 9.226846e-06, step = 16001 (40.452 sec)\n",
            "INFO:tensorflow:global_step/sec: 2.50354\n",
            "INFO:tensorflow:loss = 6.091453e-06, step = 16101 (39.943 sec)\n",
            "INFO:tensorflow:global_step/sec: 2.49331\n",
            "INFO:tensorflow:loss = 5.6027334e-06, step = 16201 (40.108 sec)\n",
            "INFO:tensorflow:Saving checkpoints for 16275 into /tmp/tmpt078hbkc/lstm/model.ckpt.\n",
            "INFO:tensorflow:global_step/sec: 2.46786\n",
            "INFO:tensorflow:loss = 8.462088e-06, step = 16301 (40.527 sec)\n",
            "INFO:tensorflow:global_step/sec: 2.50533\n",
            "INFO:tensorflow:loss = 5.219649e-06, step = 16401 (39.909 sec)\n",
            "INFO:tensorflow:global_step/sec: 2.52427\n",
            "INFO:tensorflow:loss = 4.0614027e-06, step = 16501 (39.615 sec)\n",
            "INFO:tensorflow:global_step/sec: 2.508\n",
            "INFO:tensorflow:loss = 6.4767983e-06, step = 16601 (39.877 sec)\n",
            "INFO:tensorflow:global_step/sec: 2.51414\n",
            "INFO:tensorflow:loss = 5.3129893e-06, step = 16701 (39.770 sec)\n",
            "INFO:tensorflow:global_step/sec: 2.50608\n",
            "INFO:tensorflow:loss = 4.1322355e-06, step = 16801 (39.903 sec)\n",
            "INFO:tensorflow:global_step/sec: 2.51077\n",
            "INFO:tensorflow:loss = 8.748528e-06, step = 16901 (39.833 sec)\n",
            "INFO:tensorflow:global_step/sec: 2.49753\n",
            "INFO:tensorflow:loss = 8.8134875e-06, step = 17001 (40.035 sec)\n",
            "INFO:tensorflow:global_step/sec: 2.49472\n",
            "INFO:tensorflow:loss = 6.4399173e-06, step = 17101 (40.089 sec)\n",
            "INFO:tensorflow:global_step/sec: 2.50116\n",
            "INFO:tensorflow:loss = 2.0470306e-06, step = 17201 (39.981 sec)\n",
            "INFO:tensorflow:global_step/sec: 2.49456\n",
            "INFO:tensorflow:loss = 4.328399e-06, step = 17301 (40.089 sec)\n",
            "INFO:tensorflow:global_step/sec: 2.50866\n",
            "INFO:tensorflow:loss = 3.2644548e-06, step = 17401 (39.857 sec)\n",
            "INFO:tensorflow:global_step/sec: 2.49278\n",
            "INFO:tensorflow:loss = 2.758435e-06, step = 17501 (40.116 sec)\n",
            "INFO:tensorflow:global_step/sec: 2.4846\n",
            "INFO:tensorflow:loss = 3.6612612e-06, step = 17601 (40.248 sec)\n",
            "INFO:tensorflow:global_step/sec: 2.49481\n",
            "INFO:tensorflow:loss = 2.6666585e-06, step = 17701 (40.084 sec)\n",
            "INFO:tensorflow:Saving checkpoints for 17775 into /tmp/tmpt078hbkc/lstm/model.ckpt.\n",
            "INFO:tensorflow:global_step/sec: 2.46782\n",
            "INFO:tensorflow:loss = 3.0158326e-06, step = 17801 (40.524 sec)\n",
            "INFO:tensorflow:global_step/sec: 2.48019\n",
            "INFO:tensorflow:loss = 5.5261935e-06, step = 17901 (40.324 sec)\n",
            "INFO:tensorflow:global_step/sec: 2.50039\n",
            "INFO:tensorflow:loss = 1.4851996e-06, step = 18001 (39.987 sec)\n",
            "INFO:tensorflow:global_step/sec: 2.50062\n",
            "INFO:tensorflow:loss = 4.0155246e-06, step = 18101 (39.990 sec)\n",
            "INFO:tensorflow:global_step/sec: 2.49035\n",
            "INFO:tensorflow:loss = 2.213777e-06, step = 18201 (40.155 sec)\n",
            "INFO:tensorflow:global_step/sec: 2.50066\n",
            "INFO:tensorflow:loss = 2.2474735e-06, step = 18301 (39.990 sec)\n",
            "INFO:tensorflow:global_step/sec: 2.50035\n",
            "INFO:tensorflow:loss = 2.6125665e-06, step = 18401 (39.994 sec)\n",
            "INFO:tensorflow:global_step/sec: 2.50677\n",
            "INFO:tensorflow:loss = 2.473002e-06, step = 18501 (39.892 sec)\n",
            "INFO:tensorflow:global_step/sec: 2.48198\n",
            "INFO:tensorflow:loss = 2.1533701e-06, step = 18601 (40.290 sec)\n",
            "INFO:tensorflow:global_step/sec: 2.50434\n",
            "INFO:tensorflow:loss = 1.6133736e-06, step = 18701 (39.931 sec)\n",
            "INFO:tensorflow:global_step/sec: 2.49954\n",
            "INFO:tensorflow:loss = 1.8319369e-06, step = 18801 (40.007 sec)\n",
            "INFO:tensorflow:global_step/sec: 2.50699\n",
            "INFO:tensorflow:loss = 1.4473713e-06, step = 18901 (39.892 sec)\n",
            "INFO:tensorflow:global_step/sec: 2.46424\n",
            "INFO:tensorflow:loss = 1.3087919e-06, step = 19001 (40.577 sec)\n",
            "INFO:tensorflow:global_step/sec: 2.46441\n",
            "INFO:tensorflow:loss = 1.580932e-06, step = 19101 (40.577 sec)\n",
            "INFO:tensorflow:global_step/sec: 2.45982\n",
            "INFO:tensorflow:loss = 1.372059e-06, step = 19201 (40.658 sec)\n",
            "INFO:tensorflow:Saving checkpoints for 19268 into /tmp/tmpt078hbkc/lstm/model.ckpt.\n",
            "INFO:tensorflow:global_step/sec: 2.42618\n",
            "INFO:tensorflow:loss = 2.223363e-06, step = 19301 (41.217 sec)\n",
            "INFO:tensorflow:global_step/sec: 2.49199\n",
            "INFO:tensorflow:loss = 1.0416798e-06, step = 19401 (40.128 sec)\n",
            "INFO:tensorflow:global_step/sec: 2.46473\n",
            "INFO:tensorflow:loss = 1.1667446e-06, step = 19501 (40.574 sec)\n",
            "INFO:tensorflow:global_step/sec: 2.45537\n",
            "INFO:tensorflow:loss = 6.50205e-07, step = 19601 (40.722 sec)\n",
            "INFO:tensorflow:global_step/sec: 2.45855\n",
            "INFO:tensorflow:loss = 1.4513757e-06, step = 19701 (40.674 sec)\n",
            "INFO:tensorflow:global_step/sec: 2.43192\n",
            "INFO:tensorflow:loss = 1.1493363e-06, step = 19801 (41.119 sec)\n",
            "INFO:tensorflow:global_step/sec: 2.46903\n",
            "INFO:tensorflow:loss = 7.989409e-07, step = 19901 (40.504 sec)\n",
            "INFO:tensorflow:global_step/sec: 2.45878\n",
            "INFO:tensorflow:loss = 1.2290126e-06, step = 20001 (40.673 sec)\n",
            "INFO:tensorflow:global_step/sec: 2.44032\n",
            "INFO:tensorflow:loss = 1.2766493e-06, step = 20101 (40.978 sec)\n",
            "INFO:tensorflow:global_step/sec: 2.44358\n",
            "INFO:tensorflow:loss = 4.6890432e-07, step = 20201 (40.919 sec)\n",
            "INFO:tensorflow:global_step/sec: 2.44941\n",
            "INFO:tensorflow:loss = 1.039353e-06, step = 20301 (40.825 sec)\n",
            "INFO:tensorflow:global_step/sec: 2.45384\n",
            "INFO:tensorflow:loss = 3.8674946e-07, step = 20401 (40.753 sec)\n",
            "INFO:tensorflow:global_step/sec: 2.45168\n",
            "INFO:tensorflow:loss = 5.702111e-07, step = 20501 (40.793 sec)\n",
            "INFO:tensorflow:global_step/sec: 2.43778\n",
            "INFO:tensorflow:loss = 7.160204e-07, step = 20601 (41.016 sec)\n",
            "INFO:tensorflow:global_step/sec: 2.45065\n",
            "INFO:tensorflow:loss = 6.649695e-07, step = 20701 (40.806 sec)\n",
            "INFO:tensorflow:Saving checkpoints for 20740 into /tmp/tmpt078hbkc/lstm/model.ckpt.\n",
            "INFO:tensorflow:global_step/sec: 2.41298\n",
            "INFO:tensorflow:loss = 5.012156e-07, step = 20801 (41.443 sec)\n",
            "INFO:tensorflow:global_step/sec: 2.45181\n",
            "INFO:tensorflow:loss = 6.710865e-07, step = 20901 (40.791 sec)\n",
            "INFO:tensorflow:global_step/sec: 2.45982\n",
            "INFO:tensorflow:loss = 2.9420676e-07, step = 21001 (40.652 sec)\n",
            "INFO:tensorflow:global_step/sec: 2.45985\n",
            "INFO:tensorflow:loss = 2.4269636e-07, step = 21101 (40.650 sec)\n",
            "INFO:tensorflow:global_step/sec: 2.4573\n",
            "INFO:tensorflow:loss = 4.495783e-07, step = 21201 (40.699 sec)\n",
            "INFO:tensorflow:global_step/sec: 2.44601\n",
            "INFO:tensorflow:loss = 1.7152298e-07, step = 21301 (40.883 sec)\n",
            "INFO:tensorflow:global_step/sec: 2.45315\n",
            "INFO:tensorflow:loss = 2.6042753e-07, step = 21401 (40.760 sec)\n",
            "INFO:tensorflow:global_step/sec: 2.44681\n",
            "INFO:tensorflow:loss = 2.4183635e-07, step = 21501 (40.874 sec)\n",
            "INFO:tensorflow:global_step/sec: 2.43759\n",
            "INFO:tensorflow:loss = 1.9130066e-07, step = 21601 (41.024 sec)\n",
            "INFO:tensorflow:global_step/sec: 2.46284\n",
            "INFO:tensorflow:loss = 8.1182384e-07, step = 21701 (40.599 sec)\n",
            "INFO:tensorflow:global_step/sec: 2.43944\n",
            "INFO:tensorflow:loss = 4.578127e-07, step = 21801 (40.993 sec)\n",
            "INFO:tensorflow:global_step/sec: 2.47423\n",
            "INFO:tensorflow:loss = 1.5404737e-07, step = 21901 (40.417 sec)\n",
            "INFO:tensorflow:global_step/sec: 2.47076\n",
            "INFO:tensorflow:loss = 3.8463168e-07, step = 22001 (40.473 sec)\n",
            "INFO:tensorflow:global_step/sec: 2.44492\n",
            "INFO:tensorflow:loss = 3.279659e-07, step = 22101 (40.901 sec)\n",
            "INFO:tensorflow:global_step/sec: 2.46345\n",
            "INFO:tensorflow:loss = 9.139971e-08, step = 22201 (40.597 sec)\n",
            "INFO:tensorflow:Saving checkpoints for 22210 into /tmp/tmpt078hbkc/lstm/model.ckpt.\n",
            "INFO:tensorflow:global_step/sec: 2.35964\n",
            "INFO:tensorflow:loss = 2.7002136e-07, step = 22301 (42.377 sec)\n",
            "INFO:tensorflow:global_step/sec: 2.45832\n",
            "INFO:tensorflow:loss = 3.1167093e-07, step = 22401 (40.677 sec)\n",
            "INFO:tensorflow:global_step/sec: 2.4765\n",
            "INFO:tensorflow:loss = 9.606399e-08, step = 22501 (40.382 sec)\n",
            "INFO:tensorflow:global_step/sec: 2.4777\n",
            "INFO:tensorflow:loss = 2.1026038e-07, step = 22601 (40.362 sec)\n",
            "INFO:tensorflow:global_step/sec: 2.47755\n",
            "INFO:tensorflow:loss = 3.922182e-07, step = 22701 (40.359 sec)\n",
            "INFO:tensorflow:global_step/sec: 2.45431\n",
            "INFO:tensorflow:loss = 1.3607155e-07, step = 22801 (40.749 sec)\n",
            "INFO:tensorflow:global_step/sec: 2.4972\n",
            "INFO:tensorflow:loss = 2.2594733e-07, step = 22901 (40.043 sec)\n",
            "INFO:tensorflow:global_step/sec: 2.50048\n",
            "INFO:tensorflow:loss = 2.1644883e-07, step = 23001 (39.992 sec)\n",
            "INFO:tensorflow:global_step/sec: 2.47576\n",
            "INFO:tensorflow:loss = 1.648541e-07, step = 23101 (40.389 sec)\n",
            "INFO:tensorflow:global_step/sec: 2.48064\n",
            "INFO:tensorflow:loss = 1.2389813e-07, step = 23201 (40.318 sec)\n",
            "INFO:tensorflow:global_step/sec: 2.47949\n",
            "INFO:tensorflow:loss = 1.08398375e-07, step = 23301 (40.330 sec)\n",
            "INFO:tensorflow:global_step/sec: 2.50629\n",
            "INFO:tensorflow:loss = 1.0001986e-07, step = 23401 (39.895 sec)\n",
            "INFO:tensorflow:global_step/sec: 2.51223\n",
            "INFO:tensorflow:loss = 2.0222298e-07, step = 23501 (39.805 sec)\n",
            "INFO:tensorflow:global_step/sec: 2.48578\n",
            "INFO:tensorflow:loss = 9.175658e-08, step = 23601 (40.229 sec)\n",
            "INFO:tensorflow:Saving checkpoints for 23698 into /tmp/tmpt078hbkc/lstm/model.ckpt.\n",
            "INFO:tensorflow:global_step/sec: 2.47776\n",
            "INFO:tensorflow:loss = 1.2815282e-07, step = 23701 (40.359 sec)\n",
            "INFO:tensorflow:global_step/sec: 2.49568\n",
            "INFO:tensorflow:loss = 6.161692e-08, step = 23801 (40.070 sec)\n",
            "INFO:tensorflow:global_step/sec: 2.48979\n",
            "INFO:tensorflow:loss = 1.6449142e-07, step = 23901 (40.165 sec)\n",
            "INFO:tensorflow:global_step/sec: 2.4935\n",
            "INFO:tensorflow:loss = 5.7860223e-08, step = 24001 (40.104 sec)\n",
            "INFO:tensorflow:global_step/sec: 2.49273\n",
            "INFO:tensorflow:loss = 1.0698776e-07, step = 24101 (40.121 sec)\n",
            "INFO:tensorflow:global_step/sec: 2.49335\n",
            "INFO:tensorflow:loss = 5.3461626e-08, step = 24201 (40.102 sec)\n",
            "INFO:tensorflow:global_step/sec: 2.50217\n",
            "INFO:tensorflow:loss = 7.614558e-08, step = 24301 (39.965 sec)\n",
            "INFO:tensorflow:global_step/sec: 2.48791\n",
            "INFO:tensorflow:loss = 1.0117433e-07, step = 24401 (40.194 sec)\n",
            "INFO:tensorflow:global_step/sec: 2.49235\n",
            "INFO:tensorflow:loss = 4.331174e-08, step = 24501 (40.127 sec)\n",
            "INFO:tensorflow:global_step/sec: 2.47367\n",
            "INFO:tensorflow:loss = 8.822588e-08, step = 24601 (40.422 sec)\n",
            "INFO:tensorflow:global_step/sec: 2.49449\n",
            "INFO:tensorflow:loss = 9.353289e-08, step = 24701 (40.092 sec)\n",
            "INFO:tensorflow:global_step/sec: 2.48713\n",
            "INFO:tensorflow:loss = 3.681649e-08, step = 24801 (40.204 sec)\n",
            "INFO:tensorflow:global_step/sec: 2.49478\n",
            "INFO:tensorflow:loss = 4.0621643e-08, step = 24901 (40.082 sec)\n",
            "INFO:tensorflow:Saving checkpoints for 25000 into /tmp/tmpt078hbkc/lstm/model.ckpt.\n",
            "INFO:tensorflow:Loss for final step: 5.373673e-08.\n"
          ],
          "name": "stdout"
        }
      ]
    },
    {
      "cell_type": "code",
      "metadata": {
        "id": "_2nXE8UuK3qo",
        "colab_type": "code",
        "colab": {
          "base_uri": "https://localhost:8080/",
          "height": 204
        },
        "outputId": "b8d085e0-f8cc-4f9b-dbbd-d3c7526611f6"
      },
      "source": [
        "evaluate_classifier(lstm_classifier)"
      ],
      "execution_count": 17,
      "outputs": [
        {
          "output_type": "stream",
          "text": [
            "accuracy  :  0.83924\n",
            "accuracy_baseline  :  0.5\n",
            "auc  :  0.85572875\n",
            "auc_precision_recall  :  0.88701934\n",
            "average_loss  :  2.7127547\n",
            "label/mean  :  0.5\n",
            "loss  :  2.7127552\n",
            "precision  :  0.8427775\n",
            "prediction/mean  :  0.49515826\n",
            "recall  :  0.83408\n",
            "global_step  :  25000\n"
          ],
          "name": "stdout"
        }
      ]
    },
    {
      "cell_type": "markdown",
      "metadata": {
        "id": "YE-ivW3S7RPp",
        "colab_type": "text"
      },
      "source": [
        "## 7. Discussion\n",
        "\n",
        "We can see that the CNNs and LSTM work well with the dataset. Due to limitations in computing, I was not able to train these networks for longer period. With more training, these models might perform even better. Now, we are getting an accuracy of closer to 85%, which is really great considering the size of the dataset. Similarly, we can also perform multiclass classification using these neural networks."
      ]
    }
  ]
}