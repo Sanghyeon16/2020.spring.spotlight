{
 "cells": [
  {
   "cell_type": "markdown",
   "metadata": {},
   "source": [
    "#### CSCE 670 :: Information Storage and Retrieval :: Texas A&M University :: Spring 2020\n",
    "\n",
    "\n",
    "# Spotlight- Pandas - Yu Zhang\n",
    "\n",
    "Pandas is a tool based on NumPy, which is created to solve data analysis tasks. You will soon discover that it is one of the important factors that makes Python a powerful and efficient data analysis environment.\n",
    "\n",
    "\n",
    " "
   ]
  },
  {
   "cell_type": "markdown",
   "metadata": {},
   "source": [
    "## Data read and operation in Pandas\n",
    "pandas mainly has two types of data structures, they are dataframe and series. I will focus on the dataframe\n",
    "there are many ways for pandas to read file, the common way is to read data from CSV file. After read data as a dataframe. we can do serval operations here\n",
    "\n",
    "head(),tail() display the first n records from dataframe\n",
    "\n",
    "info(), describe(), columns()  display the information , describe and columns name of the dataframe.\n",
    "describe() could only produce the report for numbers, it can not worked for data type object "
   ]
  },
  {
   "cell_type": "code",
   "execution_count": 2,
   "metadata": {},
   "outputs": [],
   "source": [
    "# The first step is to import the necessary lib\n",
    "\n",
    "\n",
    "import csv\n",
    "import pandas\n",
    "import numpy as np\n",
    "import sklearn\n",
    "import re\n",
    "from sklearn.cluster import KMeans\n",
    "import matplotlib.pyplot as plt\n",
    "import matplotlib\n",
    "\n"
   ]
  },
  {
   "cell_type": "code",
   "execution_count": 24,
   "metadata": {
    "scrolled": true
   },
   "outputs": [
    {
     "name": "stdout",
     "output_type": "stream",
     "text": [
      "the below is the function head\n"
     ]
    },
    {
     "data": {
      "text/html": [
       "<div>\n",
       "<style scoped>\n",
       "    .dataframe tbody tr th:only-of-type {\n",
       "        vertical-align: middle;\n",
       "    }\n",
       "\n",
       "    .dataframe tbody tr th {\n",
       "        vertical-align: top;\n",
       "    }\n",
       "\n",
       "    .dataframe thead th {\n",
       "        text-align: right;\n",
       "    }\n",
       "</style>\n",
       "<table border=\"1\" class=\"dataframe\">\n",
       "  <thead>\n",
       "    <tr style=\"text-align: right;\">\n",
       "      <th></th>\n",
       "      <th>passenger</th>\n",
       "      <th>flight mile</th>\n",
       "      <th>price</th>\n",
       "      <th>departTime</th>\n",
       "      <th>arrivalTime</th>\n",
       "      <th>class</th>\n",
       "      <th>from</th>\n",
       "      <th>to</th>\n",
       "      <th>dicount</th>\n",
       "      <th>VIP</th>\n",
       "    </tr>\n",
       "  </thead>\n",
       "  <tbody>\n",
       "    <tr>\n",
       "      <td>0</td>\n",
       "      <td>a</td>\n",
       "      <td>12312</td>\n",
       "      <td>132</td>\n",
       "      <td>15:00</td>\n",
       "      <td>16:00</td>\n",
       "      <td>A</td>\n",
       "      <td>lax</td>\n",
       "      <td>ny</td>\n",
       "      <td>0.6</td>\n",
       "      <td>1</td>\n",
       "    </tr>\n",
       "    <tr>\n",
       "      <td>1</td>\n",
       "      <td>b</td>\n",
       "      <td>13212</td>\n",
       "      <td>133</td>\n",
       "      <td>8:00</td>\n",
       "      <td>10:00</td>\n",
       "      <td>A</td>\n",
       "      <td>lax</td>\n",
       "      <td>sfo</td>\n",
       "      <td>1.0</td>\n",
       "      <td>0</td>\n",
       "    </tr>\n",
       "    <tr>\n",
       "      <td>2</td>\n",
       "      <td>c</td>\n",
       "      <td>84727</td>\n",
       "      <td>333</td>\n",
       "      <td>17:00</td>\n",
       "      <td>19:00</td>\n",
       "      <td>B</td>\n",
       "      <td>beijing</td>\n",
       "      <td>sfo</td>\n",
       "      <td>0.5</td>\n",
       "      <td>1</td>\n",
       "    </tr>\n",
       "    <tr>\n",
       "      <td>3</td>\n",
       "      <td>d</td>\n",
       "      <td>4523</td>\n",
       "      <td>400</td>\n",
       "      <td>20:00</td>\n",
       "      <td>22:00</td>\n",
       "      <td>C</td>\n",
       "      <td>ny</td>\n",
       "      <td>cincinnati</td>\n",
       "      <td>0.8</td>\n",
       "      <td>0</td>\n",
       "    </tr>\n",
       "  </tbody>\n",
       "</table>\n",
       "</div>"
      ],
      "text/plain": [
       "  passenger  flight mile   price departTime  arrivalTime  class    from   \\\n",
       "0         a         12312    132       15:00        16:00     A      lax   \n",
       "1         b         13212    133        8:00        10:00     A      lax   \n",
       "2         c         84727    333       17:00        19:00     B  beijing   \n",
       "3         d          4523    400       20:00        22:00     C       ny   \n",
       "\n",
       "           to  dicount  VIP  \n",
       "0          ny      0.6    1  \n",
       "1         sfo      1.0    0  \n",
       "2         sfo      0.5    1  \n",
       "3  cincinnati      0.8    0  "
      ]
     },
     "execution_count": 24,
     "metadata": {},
     "output_type": "execute_result"
    }
   ],
   "source": [
    "f = open(\"csv.csv\")\n",
    "data = pandas.read_csv(f,encoding='utf-8')\n",
    "print('the below is the function head')\n",
    "data.head()\n"
   ]
  },
  {
   "cell_type": "code",
   "execution_count": 25,
   "metadata": {},
   "outputs": [
    {
     "name": "stdout",
     "output_type": "stream",
     "text": [
      "the below is the function tail\n"
     ]
    },
    {
     "data": {
      "text/html": [
       "<div>\n",
       "<style scoped>\n",
       "    .dataframe tbody tr th:only-of-type {\n",
       "        vertical-align: middle;\n",
       "    }\n",
       "\n",
       "    .dataframe tbody tr th {\n",
       "        vertical-align: top;\n",
       "    }\n",
       "\n",
       "    .dataframe thead th {\n",
       "        text-align: right;\n",
       "    }\n",
       "</style>\n",
       "<table border=\"1\" class=\"dataframe\">\n",
       "  <thead>\n",
       "    <tr style=\"text-align: right;\">\n",
       "      <th></th>\n",
       "      <th>passenger</th>\n",
       "      <th>flight mile</th>\n",
       "      <th>price</th>\n",
       "      <th>departTime</th>\n",
       "      <th>arrivalTime</th>\n",
       "      <th>class</th>\n",
       "      <th>from</th>\n",
       "      <th>to</th>\n",
       "      <th>dicount</th>\n",
       "      <th>VIP</th>\n",
       "    </tr>\n",
       "  </thead>\n",
       "  <tbody>\n",
       "    <tr>\n",
       "      <td>0</td>\n",
       "      <td>a</td>\n",
       "      <td>12312</td>\n",
       "      <td>132</td>\n",
       "      <td>15:00</td>\n",
       "      <td>16:00</td>\n",
       "      <td>A</td>\n",
       "      <td>lax</td>\n",
       "      <td>ny</td>\n",
       "      <td>0.6</td>\n",
       "      <td>1</td>\n",
       "    </tr>\n",
       "    <tr>\n",
       "      <td>1</td>\n",
       "      <td>b</td>\n",
       "      <td>13212</td>\n",
       "      <td>133</td>\n",
       "      <td>8:00</td>\n",
       "      <td>10:00</td>\n",
       "      <td>A</td>\n",
       "      <td>lax</td>\n",
       "      <td>sfo</td>\n",
       "      <td>1.0</td>\n",
       "      <td>0</td>\n",
       "    </tr>\n",
       "    <tr>\n",
       "      <td>2</td>\n",
       "      <td>c</td>\n",
       "      <td>84727</td>\n",
       "      <td>333</td>\n",
       "      <td>17:00</td>\n",
       "      <td>19:00</td>\n",
       "      <td>B</td>\n",
       "      <td>beijing</td>\n",
       "      <td>sfo</td>\n",
       "      <td>0.5</td>\n",
       "      <td>1</td>\n",
       "    </tr>\n",
       "    <tr>\n",
       "      <td>3</td>\n",
       "      <td>d</td>\n",
       "      <td>4523</td>\n",
       "      <td>400</td>\n",
       "      <td>20:00</td>\n",
       "      <td>22:00</td>\n",
       "      <td>C</td>\n",
       "      <td>ny</td>\n",
       "      <td>cincinnati</td>\n",
       "      <td>0.8</td>\n",
       "      <td>0</td>\n",
       "    </tr>\n",
       "  </tbody>\n",
       "</table>\n",
       "</div>"
      ],
      "text/plain": [
       "  passenger  flight mile   price departTime  arrivalTime  class    from   \\\n",
       "0         a         12312    132       15:00        16:00     A      lax   \n",
       "1         b         13212    133        8:00        10:00     A      lax   \n",
       "2         c         84727    333       17:00        19:00     B  beijing   \n",
       "3         d          4523    400       20:00        22:00     C       ny   \n",
       "\n",
       "           to  dicount  VIP  \n",
       "0          ny      0.6    1  \n",
       "1         sfo      1.0    0  \n",
       "2         sfo      0.5    1  \n",
       "3  cincinnati      0.8    0  "
      ]
     },
     "execution_count": 25,
     "metadata": {},
     "output_type": "execute_result"
    }
   ],
   "source": [
    "print('the below is the function tail')\n",
    "data.tail()"
   ]
  },
  {
   "cell_type": "code",
   "execution_count": 4,
   "metadata": {
    "scrolled": true
   },
   "outputs": [
    {
     "name": "stdout",
     "output_type": "stream",
     "text": [
      "RangeIndex(start=0, stop=4, step=1)\n"
     ]
    }
   ],
   "source": [
    "# return the number of records of the whole\n",
    "print(data.index) \n",
    "\n"
   ]
  },
  {
   "cell_type": "code",
   "execution_count": 5,
   "metadata": {},
   "outputs": [
    {
     "name": "stdout",
     "output_type": "stream",
     "text": [
      "<class 'pandas.core.frame.DataFrame'>\n",
      "RangeIndex: 4 entries, 0 to 3\n",
      "Data columns (total 10 columns):\n",
      "passenger       4 non-null object\n",
      "flight mile     4 non-null int64\n",
      "price           4 non-null int64\n",
      "departTime      4 non-null object\n",
      "arrivalTime     4 non-null object\n",
      "class           4 non-null object\n",
      "from            4 non-null object\n",
      "to              4 non-null object\n",
      "dicount         4 non-null float64\n",
      "VIP             4 non-null int64\n",
      "dtypes: float64(1), int64(3), object(6)\n",
      "memory usage: 448.0+ bytes\n"
     ]
    }
   ],
   "source": [
    "# display the basic information \n",
    "data.info()"
   ]
  },
  {
   "cell_type": "code",
   "execution_count": 6,
   "metadata": {},
   "outputs": [
    {
     "name": "stdout",
     "output_type": "stream",
     "text": [
      "              count       mean           std     min        25%      50%  \\\n",
      "flight mile     4.0  28693.500  37558.827533  4523.0  10364.750  12762.0   \n",
      "price           4.0    249.500    137.841697   132.0    132.750    233.0   \n",
      "dicount         4.0      0.725      0.221736     0.5      0.575      0.7   \n",
      "VIP             4.0      0.500      0.577350     0.0      0.000      0.5   \n",
      "\n",
      "                   75%      max  \n",
      "flight mile   31090.75  84727.0  \n",
      "price           349.75    400.0  \n",
      "dicount           0.85      1.0  \n",
      "VIP               1.00      1.0  \n"
     ]
    }
   ],
   "source": [
    "# display the describiton of the dataframe, notice! it could only work for number type\n",
    "print(data.describe().T)"
   ]
  },
  {
   "cell_type": "code",
   "execution_count": 7,
   "metadata": {},
   "outputs": [
    {
     "name": "stdout",
     "output_type": "stream",
     "text": [
      "[132 133 333 400]\n"
     ]
    }
   ],
   "source": [
    "#print the value of the key as an array\n",
    "price_value = data[\"price\"].values \n",
    "print(price_value)"
   ]
  },
  {
   "cell_type": "markdown",
   "metadata": {},
   "source": [
    "Te next part we will do the searching among data using the function  isin() . The data to be filtered is put into a list, the data is filtered using isin, and the row index and the filtered results of each row are returned. If it matches, it returns true\n",
    "\n",
    "The example below is to search the the data lax or ny in data column \"to\" \n"
   ]
  },
  {
   "cell_type": "code",
   "execution_count": 8,
   "metadata": {},
   "outputs": [
    {
     "data": {
      "text/html": [
       "<div>\n",
       "<style scoped>\n",
       "    .dataframe tbody tr th:only-of-type {\n",
       "        vertical-align: middle;\n",
       "    }\n",
       "\n",
       "    .dataframe tbody tr th {\n",
       "        vertical-align: top;\n",
       "    }\n",
       "\n",
       "    .dataframe thead th {\n",
       "        text-align: right;\n",
       "    }\n",
       "</style>\n",
       "<table border=\"1\" class=\"dataframe\">\n",
       "  <thead>\n",
       "    <tr style=\"text-align: right;\">\n",
       "      <th></th>\n",
       "      <th>passenger</th>\n",
       "      <th>flight mile</th>\n",
       "      <th>price</th>\n",
       "      <th>departTime</th>\n",
       "      <th>arrivalTime</th>\n",
       "      <th>class</th>\n",
       "      <th>from</th>\n",
       "      <th>to</th>\n",
       "      <th>dicount</th>\n",
       "      <th>VIP</th>\n",
       "    </tr>\n",
       "  </thead>\n",
       "  <tbody>\n",
       "    <tr>\n",
       "      <td>0</td>\n",
       "      <td>a</td>\n",
       "      <td>12312</td>\n",
       "      <td>132</td>\n",
       "      <td>15:00</td>\n",
       "      <td>16:00</td>\n",
       "      <td>A</td>\n",
       "      <td>lax</td>\n",
       "      <td>ny</td>\n",
       "      <td>0.6</td>\n",
       "      <td>1</td>\n",
       "    </tr>\n",
       "  </tbody>\n",
       "</table>\n",
       "</div>"
      ],
      "text/plain": [
       "  passenger  flight mile   price departTime  arrivalTime  class from   to  \\\n",
       "0         a         12312    132       15:00        16:00     A   lax  ny   \n",
       "\n",
       "   dicount  VIP  \n",
       "0      0.6    1  "
      ]
     },
     "execution_count": 8,
     "metadata": {},
     "output_type": "execute_result"
    }
   ],
   "source": [
    "chose = [\"lax\",\"ny\"]\n",
    "result=data[\"to\"].isin(chose)\n",
    "data[result]"
   ]
  },
  {
   "cell_type": "markdown",
   "metadata": {},
   "source": [
    "## Data format change\n",
    "if we want to change the data to specicifc data format, we need to run  pandas_tpdatetime to convert it to the specific time format\n",
    "\n",
    "The example below is to change the date data to the required format  hours: minutes"
   ]
  },
  {
   "cell_type": "code",
   "execution_count": 26,
   "metadata": {},
   "outputs": [
    {
     "name": "stdout",
     "output_type": "stream",
     "text": [
      "<class 'pandas.core.frame.DataFrame'>\n",
      "RangeIndex: 4 entries, 0 to 3\n",
      "Data columns (total 10 columns):\n",
      "passenger       4 non-null object\n",
      "flight mile     4 non-null int64\n",
      "price           4 non-null int64\n",
      "departTime      4 non-null datetime64[ns]\n",
      "arrivalTime     4 non-null object\n",
      "class           4 non-null object\n",
      "from            4 non-null object\n",
      "to              4 non-null object\n",
      "dicount         4 non-null float64\n",
      "VIP             4 non-null int64\n",
      "dtypes: datetime64[ns](1), float64(1), int64(3), object(5)\n",
      "memory usage: 448.0+ bytes\n"
     ]
    }
   ],
   "source": [
    "data[\"departTime \"]=pandas.to_datetime(data[\"departTime \"], format=\"%H:%M\")\n",
    "data.info()"
   ]
  },
  {
   "cell_type": "markdown",
   "metadata": {},
   "source": [
    "## How to prepare training data with Pandas\n",
    "Here we will train a SVM classification.  Brfore that ,we need to prepare the data, the flight time (the difference between landing time and take-off time) is used to indirectly reflect the flight distance.\n",
    "\n",
    "firstly we will read the data from CSV file\n",
    "\n",
    "secondly replace the class with specific number \n",
    "\n",
    "Thridly ,we add one new column as the flight duration time using to_datetime funciton in Pandas\n"
   ]
  },
  {
   "cell_type": "code",
   "execution_count": 38,
   "metadata": {},
   "outputs": [
    {
     "name": "stdout",
     "output_type": "stream",
     "text": [
      "----------check siteclass----------------\n",
      "['A' 'B' 'C']\n",
      " \n",
      "class number with its count\n",
      "0    2\n",
      "2    1\n",
      "1    1\n",
      "Name: class, dtype: int64\n"
     ]
    }
   ],
   "source": [
    "f = open(\"csv.csv\")\n",
    "data = pandas.read_csv(f,encoding=\"utf-8\")\n",
    "\n",
    "\n",
    "print(\"----------check siteclass----------------\")\n",
    "print(data[\"class\"].unique()) \n",
    "change = {'A':0, 'B':1, 'C':2}\n",
    "print(\" \")\n",
    "data[\"class\"]=data[\"class\"].replace(change)\n",
    "print(\"class number with its count\")\n",
    "print(data['class'].value_counts())"
   ]
  },
  {
   "cell_type": "code",
   "execution_count": 39,
   "metadata": {},
   "outputs": [
    {
     "name": "stdout",
     "output_type": "stream",
     "text": [
      "0   01:00:00\n",
      "1   02:00:00\n",
      "2   02:00:00\n",
      "3   02:00:00\n",
      "Name: lasttime, dtype: timedelta64[ns]\n"
     ]
    }
   ],
   "source": [
    "#calculate the duration time with Pandas\n",
    "data['departTime ']=pandas.to_datetime(data['departTime '], format=\"%H:%M\")\n",
    "data['arrivalTime ']=pandas.to_datetime(data['arrivalTime '], format=\"%H:%M\")\n",
    "data.insert(loc=6,column=\"lasttime\",value=0)\n",
    "data[\"lasttime\"] = data[\"arrivalTime \"]-data[\"departTime \"]\n",
    "print(data[\"lasttime\"])"
   ]
  },
  {
   "cell_type": "markdown",
   "metadata": {},
   "source": [
    "##  Example:    Train SVM with data refined by Pandas\n",
    "\n",
    "In this experienment, we will do SVMfor the flight mile, class to produce the label for test user.\n",
    "to train SVM model , firstly we need to generate the matrix, we will extract data- flight duraton and class to generate the matrix using the concatenate function in the numpy "
   ]
  },
  {
   "cell_type": "code",
   "execution_count": 11,
   "metadata": {},
   "outputs": [
    {
     "name": "stdout",
     "output_type": "stream",
     "text": [
      "[[0.  0.  0.6]\n",
      " [1.  0.  1. ]\n",
      " [1.  1.  0.5]\n",
      " [1.  2.  0.8]]\n"
     ]
    }
   ],
   "source": [
    "siteclass = np.array(data[\"class\"]).reshape([-1,1])\n",
    "discount = np.array(data[\"dicount\"]).reshape([-1,1])\n",
    "VIPservice = np.array(data[\"VIP\"]).reshape([-1,1])\n",
    "minutes = []\n",
    "for one in data[\"lasttime\"]:\n",
    "    minutes.append(one.seconds/60.0)\n",
    "minutes = np.array(minutes).reshape([-1,1])\n",
    "minutes = (minutes-minutes.min())/(minutes.max()-minutes.min())\n",
    "train= np.concatenate([minutes, siteclass,discount],axis=1)\n",
    "print(train)"
   ]
  },
  {
   "cell_type": "markdown",
   "metadata": {},
   "source": []
  },
  {
   "cell_type": "code",
   "execution_count": 12,
   "metadata": {},
   "outputs": [
    {
     "name": "stdout",
     "output_type": "stream",
     "text": [
      " finished train\n"
     ]
    }
   ],
   "source": [
    "from sklearn.svm import SVC\n",
    "clf = SVC(gamma='auto', C=1, probability=True)\n",
    "label = data[\"VIP\"]\n",
    "clf.fit(train, label)\n",
    "print(\" finished train\")\n",
    "\n"
   ]
  },
  {
   "cell_type": "markdown",
   "metadata": {},
   "source": [
    "Then we are going to test the data, as before we load the data using pandas and test with the model we trained"
   ]
  },
  {
   "cell_type": "code",
   "execution_count": 40,
   "metadata": {},
   "outputs": [
    {
     "name": "stdout",
     "output_type": "stream",
     "text": [
      "[0 0 0]\n"
     ]
    }
   ],
   "source": [
    "f = open(\"test.csv\")\n",
    "test = pandas.read_csv(f,encoding=\"utf-8\")\n",
    "\n",
    "\n",
    "siteclass = np.array(test[\"class\"]).reshape([-1,1])\n",
    "discount = np.array(test[\"discount\"]).reshape([-1,1])\n",
    "time = np.array(test[\"time\"]).reshape([-1,1])\n",
    "test= np.concatenate([time, siteclass,discount],axis=1)\n",
    "\n",
    "y = clf.predict(test)\n",
    "print(y)"
   ]
  },
  {
   "cell_type": "markdown",
   "metadata": {},
   "source": [
    "##  GroupBy() and Transform()  in Pandas\n",
    "\n",
    "Pandas dataframe.groupby() function is used to split the data into groups based on some criteria. pandas objects can be split on any of their axes. The abstract definition of grouping is to provide a mapping of labels to group names.\n",
    "\n",
    "Parameters :\n",
    "by : mapping, function, str, or iterable\n",
    "axis : int, default 0\n",
    "level : If the axis is a MultiIndex (hierarchical), group by a particular level or levels\n",
    "as_index : For aggregated output, return object with group labels as the index. Only relevant for DataFrame input. as_index=False is effectively “SQL-style” grouped output\n",
    "sort : Sort group keys. Get better performance by turning this off. Note this does not influence the order of observations within each group. groupby preserves the order of rows within each group.\n",
    "group_keys : When calling apply, add group keys to index to identify pieces\n",
    "squeeze : Reduce the dimensionality of the return type if possible, otherwise return a consistent type\n",
    "\n",
    "Returns : GroupBy object\n",
    "\n",
    "Now let's run the example to see how it work"
   ]
  },
  {
   "cell_type": "code",
   "execution_count": 16,
   "metadata": {},
   "outputs": [
    {
     "name": "stdout",
     "output_type": "stream",
     "text": [
      "  key  value\n",
      "0   a      0\n",
      "1   s      1\n",
      "2   a      2\n",
      "3   f      3\n",
      "    value\n",
      "      sum\n",
      "key      \n",
      "a       2\n",
      "f       3\n",
      "s       1\n"
     ]
    }
   ],
   "source": [
    "frame = pandas.DataFrame({'key':['a','s','a','f'],'value':range(4)})\n",
    "print(frame)\n",
    "ele= frame.groupby('key').agg(['sum'])\n",
    "print(ele)\n"
   ]
  },
  {
   "cell_type": "markdown",
   "metadata": {},
   "source": [
    "In the example above by the function groupBy, we could calculate the sum of each key and list the result with aggregation\n",
    "\n",
    "If I wish I could merge the data, instead of merging the data and then merging the tables, and the calculated data is written next to each of the same kind, then we need the transform () function\n",
    "\n",
    "Aggregation will return a reduced version of the data, and transformation can return a transformed version of the complete data for us to reorganize. In this transformation, the shape of the output is the same as the input. Here is a example to show how to use the function transform()"
   ]
  },
  {
   "cell_type": "code",
   "execution_count": 17,
   "metadata": {},
   "outputs": [
    {
     "name": "stdout",
     "output_type": "stream",
     "text": [
      "   value\n",
      "0      2\n",
      "1      1\n",
      "2      2\n",
      "3      3\n"
     ]
    }
   ],
   "source": [
    "ele = frame.groupby('key')\n",
    "test = ele.transform(lambda x : x.sum())\n",
    "print(test)"
   ]
  },
  {
   "cell_type": "markdown",
   "metadata": {},
   "source": [
    "from the example we could see that the output is same as input there are four key in the input, so the output also has 4 keys\n",
    "\n",
    "sum of key a is 2\n",
    "sum of key b is 1 \n",
    "sum of key a is 2\n",
    "sum of key f is 3\n",
    "\n",
    "thus we have four output\n"
   ]
  },
  {
   "cell_type": "markdown",
   "metadata": {},
   "source": [
    "##  GroupBy()  with date data \n",
    "\n",
    "For general characters, strings, and numbers, we can use groupby to easily isolate the data. But for logarithmic time data, the way we want to distinguish him is to introduce the TimeGroup object and the resample method\n",
    "\n",
    "The resample method is to separate the index data by resample, and the time data is the key on the index.\n",
    "\n",
    "\n",
    "the below is an example"
   ]
  },
  {
   "cell_type": "code",
   "execution_count": 21,
   "metadata": {},
   "outputs": [
    {
     "name": "stdout",
     "output_type": "stream",
     "text": [
      "DatetimeIndex(['2019-07-12 00:00:00', '2019-07-12 00:05:00',\n",
      "               '2019-07-12 00:10:00', '2019-07-12 00:15:00',\n",
      "               '2019-07-12 00:20:00', '2019-07-12 00:25:00',\n",
      "               '2019-07-12 00:30:00', '2019-07-12 00:35:00',\n",
      "               '2019-07-12 00:40:00', '2019-07-12 00:45:00'],\n",
      "              dtype='datetime64[ns]', freq='5T')\n",
      " \n",
      "                 time  value\n",
      "0 2019-07-12 00:00:00      0\n",
      "1 2019-07-12 00:05:00      1\n",
      "2 2019-07-12 00:10:00      2\n",
      "3 2019-07-12 00:15:00      3\n",
      "4 2019-07-12 00:20:00      4\n",
      "5 2019-07-12 00:25:00      5\n",
      "6 2019-07-12 00:30:00      6\n",
      "7 2019-07-12 00:35:00      7\n",
      "8 2019-07-12 00:40:00      8\n",
      "9 2019-07-12 00:45:00      9\n"
     ]
    }
   ],
   "source": [
    "# generate time data\n",
    "time = pandas.date_range('2019/7/12 00:00',freq='5min',periods=10)\n",
    "print(time)\n",
    "print(' ')\n",
    "frame = pandas.DataFrame({'time':time,'value':range(10)})\n",
    "print(frame)"
   ]
  },
  {
   "cell_type": "markdown",
   "metadata": {},
   "source": [
    "Then we are going to separate the data with 20 minutes as the gap"
   ]
  },
  {
   "cell_type": "code",
   "execution_count": 22,
   "metadata": {},
   "outputs": [
    {
     "name": "stdout",
     "output_type": "stream",
     "text": [
      "                     value\n",
      "time                      \n",
      "2019-07-12 00:00:00      4\n",
      "2019-07-12 00:20:00      4\n",
      "2019-07-12 00:40:00      2\n"
     ]
    }
   ],
   "source": [
    "test = frame.set_index('time').resample('20min').count()\n",
    "print(test)"
   ]
  },
  {
   "cell_type": "markdown",
   "metadata": {},
   "source": [
    "As we can see we could group the date data with 20 minutes as the gap"
   ]
  },
  {
   "cell_type": "markdown",
   "metadata": {},
   "source": [
    "## Summary\n",
    "\n",
    "With the help of Pandas, we could do data analysis quickly. It could provide us many API to handle the data like date , time ,hours. It could also provide us some useful functions like transform , groupBy.\n",
    "\n"
   ]
  }
 ],
 "metadata": {
  "anaconda-cloud": {},
  "kernelspec": {
   "display_name": "Python 3",
   "language": "python",
   "name": "python3"
  },
  "language_info": {
   "codemirror_mode": {
    "name": "ipython",
    "version": 3
   },
   "file_extension": ".py",
   "mimetype": "text/x-python",
   "name": "python",
   "nbconvert_exporter": "python",
   "pygments_lexer": "ipython3",
   "version": "3.7.4"
  }
 },
 "nbformat": 4,
 "nbformat_minor": 2
}
