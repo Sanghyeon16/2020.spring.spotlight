{
  "nbformat": 4,
  "nbformat_minor": 0,
  "metadata": {
    "colab": {
      "name": "Shravani Sridhar_NimbusML_April09.ipynb",
      "provenance": [],
      "collapsed_sections": []
    },
    "kernelspec": {
      "name": "python3",
      "display_name": "Python 3"
    }
  },
  "cells": [
    {
      "cell_type": "markdown",
      "metadata": {
        "id": "DQS1ys-H9ZqQ",
        "colab_type": "text"
      },
      "source": [
        "# **CSCE 670 (Information Storage and Retrieval) Spotlight**\n",
        "\n",
        "*Submitted by: Shravani Sridhar (430000439)*\n",
        "\n",
        "*On: Apr 9th, 2020*"
      ]
    },
    {
      "cell_type": "markdown",
      "metadata": {
        "id": "R2Y21aSg9uXk",
        "colab_type": "text"
      },
      "source": [
        "# **NimbusML**\n",
        "\n",
        "NimbusML is a Python machine learning package from Microsoft that provides ML algorithms, transforms, and components. It is a Python bindings framework for ML.NET and provides simple interoperability between ML.NET and Scikit-learn components. \n",
        "\n",
        "In this Spotlight notebook, I will showcase NimbusML's NLP features, particularly in sentiment analysis and text processing. These NLP tasks are especially important in search and recommender systems; therefore they are relevant to our course studies.\n",
        "\n",
        "**Contents:**\n",
        "\n",
        "*   Installation\n",
        "      - We will see how to install NimbusML in Google Colab as well as in the terminal using pip.\n",
        "*   I. Sentiment Analysis\n",
        "      - We will see how we can use various transforms in NimbusML to perform sentiment analysis with the help of a classifier.\n",
        "*   II. Removing Stopwords\n",
        "      - We will explore NimbusML's classes for stopword removal.\n",
        "*   III. Working with N-grams\n",
        "      - We will explore in detail transforms in NimbusML that help in feature extraction and working with n-grams.\n",
        "*   IV. Word Embedding\n",
        "      - We will see how we can perform word embedding using NimbusML's WordEmbedding class."
      ]
    },
    {
      "cell_type": "markdown",
      "metadata": {
        "id": "r5pAY_-V_ijf",
        "colab_type": "text"
      },
      "source": [
        "**Installation**"
      ]
    },
    {
      "cell_type": "markdown",
      "metadata": {
        "id": "Owl5BJknlY3w",
        "colab_type": "text"
      },
      "source": [
        "The version of NimbusML I am using in my notebook is nimbusml 1.7.0.\n",
        "\n",
        "To install nimbusml 1.7.0:\n",
        "\n",
        "(i) in Google Colab:\n",
        "\n",
        "*!pip install nimbusml*\n",
        "\n",
        "(ii) using pip in terminal:\n",
        "\n",
        "*pip install nimbusml*"
      ]
    },
    {
      "cell_type": "markdown",
      "metadata": {
        "id": "k6CqdUj9591f",
        "colab_type": "text"
      },
      "source": [
        "**I. Sentiment Analysis**\n",
        "\n",
        "We will see how we can use NimbusML's various transforms to perform sentiment analysis using classifiers. \n",
        "\n",
        "(i) First, we will detect sentiments of tweets by building a binary classifier using manually generated Twitter text data. We will do this with the help of the Pandas library.\n",
        "\n",
        "We will use text as the input (text column) and the sentiments as the output (sentiment column as the label)."
      ]
    },
    {
      "cell_type": "code",
      "metadata": {
        "id": "l9Q7Sxw3yUco",
        "colab_type": "code",
        "outputId": "ab04fe44-f1a0-451e-9611-b4cbf8e603f8",
        "colab": {
          "base_uri": "https://localhost:8080/",
          "height": 238
        }
      },
      "source": [
        "import time\n",
        "import pandas as pd\n",
        "import numpy as np\n",
        "import os\n",
        "from IPython.display import display\n",
        "from nimbusml.datasets import get_dataset\n",
        "from nimbusml.feature_extraction.text import NGramFeaturizer\n",
        "from nimbusml.feature_extraction.text.extractor import Ngram\n",
        "from nimbusml.linear_model import AveragedPerceptronBinaryClassifier\n",
        "from nimbusml.decomposition import PcaTransformer\n",
        "from nimbusml import Pipeline\n",
        "\n",
        "#Loading training and test data from package\n",
        "#This Twitter data contains text\n",
        "trainDataFile = get_dataset('gen_twittertrain').as_filepath()\n",
        "testDataFile = get_dataset('gen_twittertest').as_filepath()\n",
        "\n",
        "print(\"Train data file path: \" + str(os.path.basename(trainDataFile)))\n",
        "print(\"Test data file path: \" + str(os.path.basename(testDataFile)))\n",
        "\n",
        "trainData = pd.read_csv(trainDataFile, sep = \"\\t\")\n",
        "testData = pd.read_csv(testDataFile, sep = \"\\t\")\n",
        "\n",
        "trainData.head()"
      ],
      "execution_count": 2,
      "outputs": [
        {
          "output_type": "stream",
          "text": [
            "Train data file path: train-twitter.gen-sample.tsv\n",
            "Test data file path: test-twitter.gen-sample.tsv\n"
          ],
          "name": "stdout"
        },
        {
          "output_type": "execute_result",
          "data": {
            "text/html": [
              "<div>\n",
              "<style scoped>\n",
              "    .dataframe tbody tr th:only-of-type {\n",
              "        vertical-align: middle;\n",
              "    }\n",
              "\n",
              "    .dataframe tbody tr th {\n",
              "        vertical-align: top;\n",
              "    }\n",
              "\n",
              "    .dataframe thead th {\n",
              "        text-align: right;\n",
              "    }\n",
              "</style>\n",
              "<table border=\"1\" class=\"dataframe\">\n",
              "  <thead>\n",
              "    <tr style=\"text-align: right;\">\n",
              "      <th></th>\n",
              "      <th>Sentiment</th>\n",
              "      <th>Text</th>\n",
              "      <th>Label</th>\n",
              "    </tr>\n",
              "  </thead>\n",
              "  <tbody>\n",
              "    <tr>\n",
              "      <th>0</th>\n",
              "      <td>Negative</td>\n",
              "      <td>Oh you are hurting me</td>\n",
              "      <td>0</td>\n",
              "    </tr>\n",
              "    <tr>\n",
              "      <th>1</th>\n",
              "      <td>Positive</td>\n",
              "      <td>So long</td>\n",
              "      <td>1</td>\n",
              "    </tr>\n",
              "    <tr>\n",
              "      <th>2</th>\n",
              "      <td>Positive</td>\n",
              "      <td>Ths sofa is comfortable</td>\n",
              "      <td>1</td>\n",
              "    </tr>\n",
              "    <tr>\n",
              "      <th>3</th>\n",
              "      <td>Negative</td>\n",
              "      <td>The place suck.    No?</td>\n",
              "      <td>0</td>\n",
              "    </tr>\n",
              "    <tr>\n",
              "      <th>4</th>\n",
              "      <td>Positive</td>\n",
              "      <td>@fakeid &amp;quot;Chillin&amp;quot; I love it!!</td>\n",
              "      <td>1</td>\n",
              "    </tr>\n",
              "  </tbody>\n",
              "</table>\n",
              "</div>"
            ],
            "text/plain": [
              "  Sentiment                                     Text  Label\n",
              "0  Negative                    Oh you are hurting me      0\n",
              "1  Positive                                  So long      1\n",
              "2  Positive                  Ths sofa is comfortable      1\n",
              "3  Negative                   The place suck.    No?      0\n",
              "4  Positive  @fakeid &quot;Chillin&quot; I love it!!      1"
            ]
          },
          "metadata": {
            "tags": []
          },
          "execution_count": 2
        }
      ]
    },
    {
      "cell_type": "markdown",
      "metadata": {
        "id": "fk3wPz_Onh_7",
        "colab_type": "text"
      },
      "source": [
        "The above output contains the first 5 entries of the training dataset."
      ]
    },
    {
      "cell_type": "markdown",
      "metadata": {
        "id": "LmRD2an27Hml",
        "colab_type": "text"
      },
      "source": [
        "We need to preprocess the data.\n",
        "\n",
        "NGramFeaturizer is a transform in NimbusML that outputs a bag of counts of sequences of consecutive words, called n-grams, from a given corpus of text. The word counts can then be normalized using the term frequency-inverse document frequency (TF-IDF) method by passing the appropriate parameter to the feature extractor.\n",
        "\n",
        "For all the examples unless otherwise mentioned, we will use the NGram feature extractor. A feature extractor extracts n-grams from text and converts them to vector form using a dictionary. We will explore this in more detail in subsequent sections."
      ]
    },
    {
      "cell_type": "code",
      "metadata": {
        "id": "5PFP11MEHJXK",
        "colab_type": "code",
        "outputId": "7543c338-ae16-40a2-b8b9-0db77f0879c8",
        "colab": {
          "base_uri": "https://localhost:8080/",
          "height": 287
        }
      },
      "source": [
        "featurizer = NGramFeaturizer(word_feature_extractor=Ngram(weighting = 'TfIdf')) #Passing the TF-IDF weighting parameter to the feature extractor\n",
        "\n",
        "#Training the featurizer \n",
        "text_transformed = featurizer.fit_transform(trainData[\"Text\"].to_frame()) #The text column is our input\n",
        "\n",
        "print(text_transformed.shape)\n",
        "text_transformed.head(5)"
      ],
      "execution_count": 3,
      "outputs": [
        {
          "output_type": "stream",
          "text": [
            "(71, 1007)\n"
          ],
          "name": "stdout"
        },
        {
          "output_type": "execute_result",
          "data": {
            "text/html": [
              "<div>\n",
              "<style scoped>\n",
              "    .dataframe tbody tr th:only-of-type {\n",
              "        vertical-align: middle;\n",
              "    }\n",
              "\n",
              "    .dataframe tbody tr th {\n",
              "        vertical-align: top;\n",
              "    }\n",
              "\n",
              "    .dataframe thead th {\n",
              "        text-align: right;\n",
              "    }\n",
              "</style>\n",
              "<table border=\"1\" class=\"dataframe\">\n",
              "  <thead>\n",
              "    <tr style=\"text-align: right;\">\n",
              "      <th></th>\n",
              "      <th>Text.Char.&lt;␂&gt;|o|h</th>\n",
              "      <th>Text.Char.o|h|&lt;␠&gt;</th>\n",
              "      <th>Text.Char.h|&lt;␠&gt;|y</th>\n",
              "      <th>Text.Char.&lt;␠&gt;|y|o</th>\n",
              "      <th>Text.Char.y|o|u</th>\n",
              "      <th>Text.Char.o|u|&lt;␠&gt;</th>\n",
              "      <th>Text.Char.u|&lt;␠&gt;|a</th>\n",
              "      <th>Text.Char.&lt;␠&gt;|a|r</th>\n",
              "      <th>Text.Char.a|r|e</th>\n",
              "      <th>Text.Char.r|e|&lt;␠&gt;</th>\n",
              "      <th>Text.Char.e|&lt;␠&gt;|h</th>\n",
              "      <th>Text.Char.&lt;␠&gt;|h|u</th>\n",
              "      <th>Text.Char.h|u|r</th>\n",
              "      <th>Text.Char.u|r|t</th>\n",
              "      <th>Text.Char.r|t|i</th>\n",
              "      <th>Text.Char.t|i|n</th>\n",
              "      <th>Text.Char.i|n|g</th>\n",
              "      <th>Text.Char.n|g|&lt;␠&gt;</th>\n",
              "      <th>Text.Char.g|&lt;␠&gt;|m</th>\n",
              "      <th>Text.Char.&lt;␠&gt;|m|e</th>\n",
              "      <th>Text.Char.m|e|&lt;␃&gt;</th>\n",
              "      <th>Text.Char.&lt;␂&gt;|s|o</th>\n",
              "      <th>Text.Char.s|o|&lt;␠&gt;</th>\n",
              "      <th>Text.Char.o|&lt;␠&gt;|l</th>\n",
              "      <th>Text.Char.&lt;␠&gt;|l|o</th>\n",
              "      <th>Text.Char.l|o|n</th>\n",
              "      <th>Text.Char.o|n|g</th>\n",
              "      <th>Text.Char.n|g|&lt;␃&gt;</th>\n",
              "      <th>Text.Char.&lt;␂&gt;|t|h</th>\n",
              "      <th>Text.Char.t|h|s</th>\n",
              "      <th>Text.Char.h|s|&lt;␠&gt;</th>\n",
              "      <th>Text.Char.s|&lt;␠&gt;|s</th>\n",
              "      <th>Text.Char.&lt;␠&gt;|s|o</th>\n",
              "      <th>Text.Char.s|o|f</th>\n",
              "      <th>Text.Char.o|f|a</th>\n",
              "      <th>Text.Char.f|a|&lt;␠&gt;</th>\n",
              "      <th>Text.Char.a|&lt;␠&gt;|i</th>\n",
              "      <th>Text.Char.&lt;␠&gt;|i|s</th>\n",
              "      <th>Text.Char.i|s|&lt;␠&gt;</th>\n",
              "      <th>Text.Char.s|&lt;␠&gt;|c</th>\n",
              "      <th>...</th>\n",
              "      <th>Text.Word.her</th>\n",
              "      <th>Text.Word.demo?</th>\n",
              "      <th>Text.Word.up</th>\n",
              "      <th>Text.Word.all</th>\n",
              "      <th>Text.Word.night</th>\n",
              "      <th>Text.Word.visit</th>\n",
              "      <th>Text.Word.everyday</th>\n",
              "      <th>Text.Word.icecream</th>\n",
              "      <th>Text.Word.store</th>\n",
              "      <th>Text.Word.nearby</th>\n",
              "      <th>Text.Word.b</th>\n",
              "      <th>Text.Word.subject</th>\n",
              "      <th>Text.Word.ranked</th>\n",
              "      <th>Text.Word.out</th>\n",
              "      <th>Text.Word.week</th>\n",
              "      <th>Text.Word.beautiful</th>\n",
              "      <th>Text.Word.isn't</th>\n",
              "      <th>Text.Word.friday!</th>\n",
              "      <th>Text.Word.tgif</th>\n",
              "      <th>Text.Word.nonononononononono..</th>\n",
              "      <th>Text.Word.we</th>\n",
              "      <th>Text.Word.proud</th>\n",
              "      <th>Text.Word.haven't</th>\n",
              "      <th>Text.Word.prepared</th>\n",
              "      <th>Text.Word.lunch?</th>\n",
              "      <th>Text.Word.trust</th>\n",
              "      <th>Text.Word.try</th>\n",
              "      <th>Text.Word.as</th>\n",
              "      <th>Text.Word.replacement.</th>\n",
              "      <th>Text.Word.should</th>\n",
              "      <th>Text.Word.upset</th>\n",
              "      <th>Text.Word.vocation</th>\n",
              "      <th>Text.Word.flight</th>\n",
              "      <th>Text.Word.late</th>\n",
              "      <th>Text.Word.again</th>\n",
              "      <th>Text.Word.commute</th>\n",
              "      <th>Text.Word.died</th>\n",
              "      <th>Text.Word.cancer</th>\n",
              "      <th>Text.Word.oh,</th>\n",
              "      <th>Text.Word.finally</th>\n",
              "    </tr>\n",
              "  </thead>\n",
              "  <tbody>\n",
              "    <tr>\n",
              "      <th>0</th>\n",
              "      <td>0.218218</td>\n",
              "      <td>0.218218</td>\n",
              "      <td>0.218218</td>\n",
              "      <td>0.218218</td>\n",
              "      <td>0.218218</td>\n",
              "      <td>0.218218</td>\n",
              "      <td>0.218218</td>\n",
              "      <td>0.218218</td>\n",
              "      <td>0.218218</td>\n",
              "      <td>0.218218</td>\n",
              "      <td>0.218218</td>\n",
              "      <td>0.218218</td>\n",
              "      <td>0.218218</td>\n",
              "      <td>0.218218</td>\n",
              "      <td>0.218218</td>\n",
              "      <td>0.218218</td>\n",
              "      <td>0.218218</td>\n",
              "      <td>0.218218</td>\n",
              "      <td>0.218218</td>\n",
              "      <td>0.218218</td>\n",
              "      <td>0.218218</td>\n",
              "      <td>0.000000</td>\n",
              "      <td>0.000000</td>\n",
              "      <td>0.000000</td>\n",
              "      <td>0.000000</td>\n",
              "      <td>0.000000</td>\n",
              "      <td>0.000000</td>\n",
              "      <td>0.000000</td>\n",
              "      <td>0.000000</td>\n",
              "      <td>0.000000</td>\n",
              "      <td>0.000000</td>\n",
              "      <td>0.000000</td>\n",
              "      <td>0.000000</td>\n",
              "      <td>0.000000</td>\n",
              "      <td>0.000000</td>\n",
              "      <td>0.000000</td>\n",
              "      <td>0.000000</td>\n",
              "      <td>0.000000</td>\n",
              "      <td>0.000000</td>\n",
              "      <td>0.000000</td>\n",
              "      <td>...</td>\n",
              "      <td>0.0</td>\n",
              "      <td>0.0</td>\n",
              "      <td>0.0</td>\n",
              "      <td>0.0</td>\n",
              "      <td>0.0</td>\n",
              "      <td>0.0</td>\n",
              "      <td>0.0</td>\n",
              "      <td>0.0</td>\n",
              "      <td>0.0</td>\n",
              "      <td>0.0</td>\n",
              "      <td>0.0</td>\n",
              "      <td>0.0</td>\n",
              "      <td>0.0</td>\n",
              "      <td>0.0</td>\n",
              "      <td>0.0</td>\n",
              "      <td>0.0</td>\n",
              "      <td>0.0</td>\n",
              "      <td>0.0</td>\n",
              "      <td>0.0</td>\n",
              "      <td>0.0</td>\n",
              "      <td>0.0</td>\n",
              "      <td>0.0</td>\n",
              "      <td>0.0</td>\n",
              "      <td>0.0</td>\n",
              "      <td>0.0</td>\n",
              "      <td>0.0</td>\n",
              "      <td>0.0</td>\n",
              "      <td>0.0</td>\n",
              "      <td>0.0</td>\n",
              "      <td>0.0</td>\n",
              "      <td>0.0</td>\n",
              "      <td>0.0</td>\n",
              "      <td>0.0</td>\n",
              "      <td>0.0</td>\n",
              "      <td>0.0</td>\n",
              "      <td>0.0</td>\n",
              "      <td>0.0</td>\n",
              "      <td>0.0</td>\n",
              "      <td>0.0</td>\n",
              "      <td>0.0</td>\n",
              "    </tr>\n",
              "    <tr>\n",
              "      <th>1</th>\n",
              "      <td>0.000000</td>\n",
              "      <td>0.000000</td>\n",
              "      <td>0.000000</td>\n",
              "      <td>0.000000</td>\n",
              "      <td>0.000000</td>\n",
              "      <td>0.000000</td>\n",
              "      <td>0.000000</td>\n",
              "      <td>0.000000</td>\n",
              "      <td>0.000000</td>\n",
              "      <td>0.000000</td>\n",
              "      <td>0.000000</td>\n",
              "      <td>0.000000</td>\n",
              "      <td>0.000000</td>\n",
              "      <td>0.000000</td>\n",
              "      <td>0.000000</td>\n",
              "      <td>0.000000</td>\n",
              "      <td>0.000000</td>\n",
              "      <td>0.000000</td>\n",
              "      <td>0.000000</td>\n",
              "      <td>0.000000</td>\n",
              "      <td>0.000000</td>\n",
              "      <td>0.377964</td>\n",
              "      <td>0.377964</td>\n",
              "      <td>0.377964</td>\n",
              "      <td>0.377964</td>\n",
              "      <td>0.377964</td>\n",
              "      <td>0.377964</td>\n",
              "      <td>0.377964</td>\n",
              "      <td>0.000000</td>\n",
              "      <td>0.000000</td>\n",
              "      <td>0.000000</td>\n",
              "      <td>0.000000</td>\n",
              "      <td>0.000000</td>\n",
              "      <td>0.000000</td>\n",
              "      <td>0.000000</td>\n",
              "      <td>0.000000</td>\n",
              "      <td>0.000000</td>\n",
              "      <td>0.000000</td>\n",
              "      <td>0.000000</td>\n",
              "      <td>0.000000</td>\n",
              "      <td>...</td>\n",
              "      <td>0.0</td>\n",
              "      <td>0.0</td>\n",
              "      <td>0.0</td>\n",
              "      <td>0.0</td>\n",
              "      <td>0.0</td>\n",
              "      <td>0.0</td>\n",
              "      <td>0.0</td>\n",
              "      <td>0.0</td>\n",
              "      <td>0.0</td>\n",
              "      <td>0.0</td>\n",
              "      <td>0.0</td>\n",
              "      <td>0.0</td>\n",
              "      <td>0.0</td>\n",
              "      <td>0.0</td>\n",
              "      <td>0.0</td>\n",
              "      <td>0.0</td>\n",
              "      <td>0.0</td>\n",
              "      <td>0.0</td>\n",
              "      <td>0.0</td>\n",
              "      <td>0.0</td>\n",
              "      <td>0.0</td>\n",
              "      <td>0.0</td>\n",
              "      <td>0.0</td>\n",
              "      <td>0.0</td>\n",
              "      <td>0.0</td>\n",
              "      <td>0.0</td>\n",
              "      <td>0.0</td>\n",
              "      <td>0.0</td>\n",
              "      <td>0.0</td>\n",
              "      <td>0.0</td>\n",
              "      <td>0.0</td>\n",
              "      <td>0.0</td>\n",
              "      <td>0.0</td>\n",
              "      <td>0.0</td>\n",
              "      <td>0.0</td>\n",
              "      <td>0.0</td>\n",
              "      <td>0.0</td>\n",
              "      <td>0.0</td>\n",
              "      <td>0.0</td>\n",
              "      <td>0.0</td>\n",
              "    </tr>\n",
              "    <tr>\n",
              "      <th>2</th>\n",
              "      <td>0.000000</td>\n",
              "      <td>0.000000</td>\n",
              "      <td>0.000000</td>\n",
              "      <td>0.000000</td>\n",
              "      <td>0.000000</td>\n",
              "      <td>0.000000</td>\n",
              "      <td>0.000000</td>\n",
              "      <td>0.000000</td>\n",
              "      <td>0.000000</td>\n",
              "      <td>0.000000</td>\n",
              "      <td>0.000000</td>\n",
              "      <td>0.000000</td>\n",
              "      <td>0.000000</td>\n",
              "      <td>0.000000</td>\n",
              "      <td>0.000000</td>\n",
              "      <td>0.000000</td>\n",
              "      <td>0.000000</td>\n",
              "      <td>0.000000</td>\n",
              "      <td>0.000000</td>\n",
              "      <td>0.000000</td>\n",
              "      <td>0.000000</td>\n",
              "      <td>0.000000</td>\n",
              "      <td>0.000000</td>\n",
              "      <td>0.000000</td>\n",
              "      <td>0.000000</td>\n",
              "      <td>0.000000</td>\n",
              "      <td>0.000000</td>\n",
              "      <td>0.000000</td>\n",
              "      <td>0.208514</td>\n",
              "      <td>0.208514</td>\n",
              "      <td>0.208514</td>\n",
              "      <td>0.208514</td>\n",
              "      <td>0.208514</td>\n",
              "      <td>0.208514</td>\n",
              "      <td>0.208514</td>\n",
              "      <td>0.208514</td>\n",
              "      <td>0.208514</td>\n",
              "      <td>0.208514</td>\n",
              "      <td>0.208514</td>\n",
              "      <td>0.208514</td>\n",
              "      <td>...</td>\n",
              "      <td>0.0</td>\n",
              "      <td>0.0</td>\n",
              "      <td>0.0</td>\n",
              "      <td>0.0</td>\n",
              "      <td>0.0</td>\n",
              "      <td>0.0</td>\n",
              "      <td>0.0</td>\n",
              "      <td>0.0</td>\n",
              "      <td>0.0</td>\n",
              "      <td>0.0</td>\n",
              "      <td>0.0</td>\n",
              "      <td>0.0</td>\n",
              "      <td>0.0</td>\n",
              "      <td>0.0</td>\n",
              "      <td>0.0</td>\n",
              "      <td>0.0</td>\n",
              "      <td>0.0</td>\n",
              "      <td>0.0</td>\n",
              "      <td>0.0</td>\n",
              "      <td>0.0</td>\n",
              "      <td>0.0</td>\n",
              "      <td>0.0</td>\n",
              "      <td>0.0</td>\n",
              "      <td>0.0</td>\n",
              "      <td>0.0</td>\n",
              "      <td>0.0</td>\n",
              "      <td>0.0</td>\n",
              "      <td>0.0</td>\n",
              "      <td>0.0</td>\n",
              "      <td>0.0</td>\n",
              "      <td>0.0</td>\n",
              "      <td>0.0</td>\n",
              "      <td>0.0</td>\n",
              "      <td>0.0</td>\n",
              "      <td>0.0</td>\n",
              "      <td>0.0</td>\n",
              "      <td>0.0</td>\n",
              "      <td>0.0</td>\n",
              "      <td>0.0</td>\n",
              "      <td>0.0</td>\n",
              "    </tr>\n",
              "    <tr>\n",
              "      <th>3</th>\n",
              "      <td>0.000000</td>\n",
              "      <td>0.000000</td>\n",
              "      <td>0.000000</td>\n",
              "      <td>0.000000</td>\n",
              "      <td>0.000000</td>\n",
              "      <td>0.000000</td>\n",
              "      <td>0.000000</td>\n",
              "      <td>0.000000</td>\n",
              "      <td>0.000000</td>\n",
              "      <td>0.000000</td>\n",
              "      <td>0.000000</td>\n",
              "      <td>0.000000</td>\n",
              "      <td>0.000000</td>\n",
              "      <td>0.000000</td>\n",
              "      <td>0.000000</td>\n",
              "      <td>0.000000</td>\n",
              "      <td>0.000000</td>\n",
              "      <td>0.000000</td>\n",
              "      <td>0.000000</td>\n",
              "      <td>0.000000</td>\n",
              "      <td>0.000000</td>\n",
              "      <td>0.000000</td>\n",
              "      <td>0.000000</td>\n",
              "      <td>0.000000</td>\n",
              "      <td>0.000000</td>\n",
              "      <td>0.000000</td>\n",
              "      <td>0.000000</td>\n",
              "      <td>0.000000</td>\n",
              "      <td>0.204124</td>\n",
              "      <td>0.000000</td>\n",
              "      <td>0.000000</td>\n",
              "      <td>0.000000</td>\n",
              "      <td>0.000000</td>\n",
              "      <td>0.000000</td>\n",
              "      <td>0.000000</td>\n",
              "      <td>0.000000</td>\n",
              "      <td>0.000000</td>\n",
              "      <td>0.000000</td>\n",
              "      <td>0.000000</td>\n",
              "      <td>0.000000</td>\n",
              "      <td>...</td>\n",
              "      <td>0.0</td>\n",
              "      <td>0.0</td>\n",
              "      <td>0.0</td>\n",
              "      <td>0.0</td>\n",
              "      <td>0.0</td>\n",
              "      <td>0.0</td>\n",
              "      <td>0.0</td>\n",
              "      <td>0.0</td>\n",
              "      <td>0.0</td>\n",
              "      <td>0.0</td>\n",
              "      <td>0.0</td>\n",
              "      <td>0.0</td>\n",
              "      <td>0.0</td>\n",
              "      <td>0.0</td>\n",
              "      <td>0.0</td>\n",
              "      <td>0.0</td>\n",
              "      <td>0.0</td>\n",
              "      <td>0.0</td>\n",
              "      <td>0.0</td>\n",
              "      <td>0.0</td>\n",
              "      <td>0.0</td>\n",
              "      <td>0.0</td>\n",
              "      <td>0.0</td>\n",
              "      <td>0.0</td>\n",
              "      <td>0.0</td>\n",
              "      <td>0.0</td>\n",
              "      <td>0.0</td>\n",
              "      <td>0.0</td>\n",
              "      <td>0.0</td>\n",
              "      <td>0.0</td>\n",
              "      <td>0.0</td>\n",
              "      <td>0.0</td>\n",
              "      <td>0.0</td>\n",
              "      <td>0.0</td>\n",
              "      <td>0.0</td>\n",
              "      <td>0.0</td>\n",
              "      <td>0.0</td>\n",
              "      <td>0.0</td>\n",
              "      <td>0.0</td>\n",
              "      <td>0.0</td>\n",
              "    </tr>\n",
              "    <tr>\n",
              "      <th>4</th>\n",
              "      <td>0.000000</td>\n",
              "      <td>0.000000</td>\n",
              "      <td>0.000000</td>\n",
              "      <td>0.000000</td>\n",
              "      <td>0.000000</td>\n",
              "      <td>0.000000</td>\n",
              "      <td>0.000000</td>\n",
              "      <td>0.000000</td>\n",
              "      <td>0.000000</td>\n",
              "      <td>0.000000</td>\n",
              "      <td>0.000000</td>\n",
              "      <td>0.000000</td>\n",
              "      <td>0.000000</td>\n",
              "      <td>0.000000</td>\n",
              "      <td>0.000000</td>\n",
              "      <td>0.000000</td>\n",
              "      <td>0.000000</td>\n",
              "      <td>0.000000</td>\n",
              "      <td>0.000000</td>\n",
              "      <td>0.000000</td>\n",
              "      <td>0.000000</td>\n",
              "      <td>0.000000</td>\n",
              "      <td>0.000000</td>\n",
              "      <td>0.000000</td>\n",
              "      <td>0.145865</td>\n",
              "      <td>0.000000</td>\n",
              "      <td>0.000000</td>\n",
              "      <td>0.000000</td>\n",
              "      <td>0.000000</td>\n",
              "      <td>0.000000</td>\n",
              "      <td>0.000000</td>\n",
              "      <td>0.000000</td>\n",
              "      <td>0.000000</td>\n",
              "      <td>0.000000</td>\n",
              "      <td>0.000000</td>\n",
              "      <td>0.000000</td>\n",
              "      <td>0.000000</td>\n",
              "      <td>0.000000</td>\n",
              "      <td>0.000000</td>\n",
              "      <td>0.000000</td>\n",
              "      <td>...</td>\n",
              "      <td>0.0</td>\n",
              "      <td>0.0</td>\n",
              "      <td>0.0</td>\n",
              "      <td>0.0</td>\n",
              "      <td>0.0</td>\n",
              "      <td>0.0</td>\n",
              "      <td>0.0</td>\n",
              "      <td>0.0</td>\n",
              "      <td>0.0</td>\n",
              "      <td>0.0</td>\n",
              "      <td>0.0</td>\n",
              "      <td>0.0</td>\n",
              "      <td>0.0</td>\n",
              "      <td>0.0</td>\n",
              "      <td>0.0</td>\n",
              "      <td>0.0</td>\n",
              "      <td>0.0</td>\n",
              "      <td>0.0</td>\n",
              "      <td>0.0</td>\n",
              "      <td>0.0</td>\n",
              "      <td>0.0</td>\n",
              "      <td>0.0</td>\n",
              "      <td>0.0</td>\n",
              "      <td>0.0</td>\n",
              "      <td>0.0</td>\n",
              "      <td>0.0</td>\n",
              "      <td>0.0</td>\n",
              "      <td>0.0</td>\n",
              "      <td>0.0</td>\n",
              "      <td>0.0</td>\n",
              "      <td>0.0</td>\n",
              "      <td>0.0</td>\n",
              "      <td>0.0</td>\n",
              "      <td>0.0</td>\n",
              "      <td>0.0</td>\n",
              "      <td>0.0</td>\n",
              "      <td>0.0</td>\n",
              "      <td>0.0</td>\n",
              "      <td>0.0</td>\n",
              "      <td>0.0</td>\n",
              "    </tr>\n",
              "  </tbody>\n",
              "</table>\n",
              "<p>5 rows × 1007 columns</p>\n",
              "</div>"
            ],
            "text/plain": [
              "   Text.Char.<␂>|o|h  Text.Char.o|h|<␠>  ...  Text.Word.oh,  Text.Word.finally\n",
              "0           0.218218           0.218218  ...            0.0                0.0\n",
              "1           0.000000           0.000000  ...            0.0                0.0\n",
              "2           0.000000           0.000000  ...            0.0                0.0\n",
              "3           0.000000           0.000000  ...            0.0                0.0\n",
              "4           0.000000           0.000000  ...            0.0                0.0\n",
              "\n",
              "[5 rows x 1007 columns]"
            ]
          },
          "metadata": {
            "tags": []
          },
          "execution_count": 3
        }
      ]
    },
    {
      "cell_type": "markdown",
      "metadata": {
        "id": "2DhguA8b9wXb",
        "colab_type": "text"
      },
      "source": [
        "In the above output, all the columns are features from the first 5 entries of the input training text data. We can then train our binary classifier using these features.\n",
        "\n",
        "Our binary classifier will be an AveragedPerceptron classifier."
      ]
    },
    {
      "cell_type": "code",
      "metadata": {
        "id": "ytLCSfmvHXhn",
        "colab_type": "code",
        "outputId": "36bf1aa7-93f5-40de-e781-7ced0923b524",
        "colab": {
          "base_uri": "https://localhost:8080/",
          "height": 255
        }
      },
      "source": [
        "ag = AveragedPerceptronBinaryClassifier()\n",
        "ag.fit(text_transformed, 1 * (trainData[\"Sentiment\"] == \"Positive\")) #Using the transformed data from above as input to the classifier"
      ],
      "execution_count": 4,
      "outputs": [
        {
          "output_type": "stream",
          "text": [
            "Automatically adding a MinMax normalization transform, use 'norm=Warn' or 'norm=No' to turn this behavior off.\n",
            "Training calibrator.\n",
            "Elapsed time: 00:00:00.6856655\n"
          ],
          "name": "stdout"
        },
        {
          "output_type": "execute_result",
          "data": {
            "text/plain": [
              "AveragedPerceptronBinaryClassifier(averaged=True, averaged_tolerance=0.01,\n",
              "                                   caching='Auto', decrease_learning_rate=False,\n",
              "                                   feature=None, initial_weights=None,\n",
              "                                   initial_weights_diameter=0.0,\n",
              "                                   l2_regularization=0.0, label=None,\n",
              "                                   lazy_update=True, learning_rate=1.0,\n",
              "                                   loss='hinge', normalize='Auto',\n",
              "                                   number_of_iterations=1, recency_gain=0.0,\n",
              "                                   recency_gain_multiplicative=False,\n",
              "                                   reset_weights_after_x_examples=None,\n",
              "                                   shuffle=True)"
            ]
          },
          "metadata": {
            "tags": []
          },
          "execution_count": 4
        }
      ]
    },
    {
      "cell_type": "markdown",
      "metadata": {
        "id": "zKkk83lO-hX-",
        "colab_type": "text"
      },
      "source": [
        "Instead of training the featurizer and the classifier separately like we did above, we can also use the NimbusML Pipeline to train them together."
      ]
    },
    {
      "cell_type": "code",
      "metadata": {
        "id": "hLAxO9ZKHgw2",
        "colab_type": "code",
        "outputId": "dd83ee5a-04c1-432d-c2e0-1c1589d47697",
        "colab": {
          "base_uri": "https://localhost:8080/",
          "height": 85
        }
      },
      "source": [
        "t0 = time.time()\n",
        "\n",
        "#Training the featurizer and the classifier simultaneously using a pipeline\n",
        "\n",
        "#We are employing TF-IDF normalization and an L2 regularization parameter of 0.4\n",
        "ppl = Pipeline([NGramFeaturizer(word_feature_extractor=Ngram(weighting = 'Tf')), PcaTransformer(rank = 100), \n",
        "                AveragedPerceptronBinaryClassifier(l2_regularization=0.4, number_of_iterations=5),])\n",
        "\n",
        "#Fitting the pipeline model using the training dataframe\n",
        "ppl.fit(trainData[\"Text\"], trainData[\"Label\"]) \n",
        "\n",
        "print(\"Training time: \"  + str(round(time.time() - t0, 2)))"
      ],
      "execution_count": 5,
      "outputs": [
        {
          "output_type": "stream",
          "text": [
            "Automatically adding a MinMax normalization transform, use 'norm=Warn' or 'norm=No' to turn this behavior off.\n",
            "Training calibrator.\n",
            "Elapsed time: 00:00:00.2393713\n",
            "Training time: 0.3\n"
          ],
          "name": "stdout"
        }
      ]
    },
    {
      "cell_type": "markdown",
      "metadata": {
        "id": "Y79PsVkv_XLf",
        "colab_type": "text"
      },
      "source": [
        "We can then test the above pipeline-trained model on the test data."
      ]
    },
    {
      "cell_type": "code",
      "metadata": {
        "id": "ouepuFCdIN6v",
        "colab_type": "code",
        "outputId": "5cb046e0-0107-4cfb-8ec2-f611ad0eda2d",
        "colab": {
          "base_uri": "https://localhost:8080/",
          "height": 352
        }
      },
      "source": [
        "#Testing the model\n",
        "metrics, scores = ppl.test(testData[\"Text\"], testData[\"Label\"], output_scores = True)  \n",
        "\n",
        "print(\"Performance metrics: \")\n",
        "display(metrics)\n",
        "print(\"\\nIndividual scores: \")\n",
        "\n",
        "#Appending origin text to the score\n",
        "scores[\"OriginText\"] = testData[\"Text\"]\n",
        "scores[\"Sentiment\"] = testData[\"Sentiment\"]\n",
        "\n",
        "display(scores[0:5]) #Displaying the first 5 scores\n",
        "print(\"Total runtime: \"  + str(round(time.time() - t0, 2)))"
      ],
      "execution_count": 7,
      "outputs": [
        {
          "output_type": "stream",
          "text": [
            "Performance metrics: \n"
          ],
          "name": "stdout"
        },
        {
          "output_type": "display_data",
          "data": {
            "text/html": [
              "<div>\n",
              "<style scoped>\n",
              "    .dataframe tbody tr th:only-of-type {\n",
              "        vertical-align: middle;\n",
              "    }\n",
              "\n",
              "    .dataframe tbody tr th {\n",
              "        vertical-align: top;\n",
              "    }\n",
              "\n",
              "    .dataframe thead th {\n",
              "        text-align: right;\n",
              "    }\n",
              "</style>\n",
              "<table border=\"1\" class=\"dataframe\">\n",
              "  <thead>\n",
              "    <tr style=\"text-align: right;\">\n",
              "      <th></th>\n",
              "      <th>AUC</th>\n",
              "      <th>Accuracy</th>\n",
              "      <th>Positive precision</th>\n",
              "      <th>Positive recall</th>\n",
              "      <th>Negative precision</th>\n",
              "      <th>Negative recall</th>\n",
              "      <th>Log-loss</th>\n",
              "      <th>Log-loss reduction</th>\n",
              "      <th>Test-set entropy (prior Log-Loss/instance)</th>\n",
              "      <th>F1 Score</th>\n",
              "      <th>AUPRC</th>\n",
              "    </tr>\n",
              "  </thead>\n",
              "  <tbody>\n",
              "    <tr>\n",
              "      <th>0</th>\n",
              "      <td>0.580762</td>\n",
              "      <td>0.662791</td>\n",
              "      <td>0</td>\n",
              "      <td>0</td>\n",
              "      <td>0.662791</td>\n",
              "      <td>1</td>\n",
              "      <td>1.284392</td>\n",
              "      <td>-0.392864</td>\n",
              "      <td>0.922123</td>\n",
              "      <td>0</td>\n",
              "      <td>0.480434</td>\n",
              "    </tr>\n",
              "  </tbody>\n",
              "</table>\n",
              "</div>"
            ],
            "text/plain": [
              "        AUC  Accuracy  ...  F1 Score     AUPRC\n",
              "0  0.580762  0.662791  ...         0  0.480434\n",
              "\n",
              "[1 rows x 11 columns]"
            ]
          },
          "metadata": {
            "tags": []
          }
        },
        {
          "output_type": "stream",
          "text": [
            "\n",
            "Individual scores: \n"
          ],
          "name": "stdout"
        },
        {
          "output_type": "display_data",
          "data": {
            "text/html": [
              "<div>\n",
              "<style scoped>\n",
              "    .dataframe tbody tr th:only-of-type {\n",
              "        vertical-align: middle;\n",
              "    }\n",
              "\n",
              "    .dataframe tbody tr th {\n",
              "        vertical-align: top;\n",
              "    }\n",
              "\n",
              "    .dataframe thead th {\n",
              "        text-align: right;\n",
              "    }\n",
              "</style>\n",
              "<table border=\"1\" class=\"dataframe\">\n",
              "  <thead>\n",
              "    <tr style=\"text-align: right;\">\n",
              "      <th></th>\n",
              "      <th>PredictedLabel</th>\n",
              "      <th>Score</th>\n",
              "      <th>Probability</th>\n",
              "      <th>OriginText</th>\n",
              "      <th>Sentiment</th>\n",
              "    </tr>\n",
              "  </thead>\n",
              "  <tbody>\n",
              "    <tr>\n",
              "      <th>0</th>\n",
              "      <td>0</td>\n",
              "      <td>-0.233300</td>\n",
              "      <td>0.255333</td>\n",
              "      <td>@faketwitterid I am sad</td>\n",
              "      <td>Negative</td>\n",
              "    </tr>\n",
              "    <tr>\n",
              "      <th>1</th>\n",
              "      <td>0</td>\n",
              "      <td>-0.270544</td>\n",
              "      <td>0.106594</td>\n",
              "      <td>@wakeup_you  It is a very simple twit I created</td>\n",
              "      <td>Negative</td>\n",
              "    </tr>\n",
              "    <tr>\n",
              "      <th>2</th>\n",
              "      <td>0</td>\n",
              "      <td>-0.245938</td>\n",
              "      <td>0.193317</td>\n",
              "      <td>@anotherfakeid I would love to see the latest ...</td>\n",
              "      <td>Positive</td>\n",
              "    </tr>\n",
              "    <tr>\n",
              "      <th>3</th>\n",
              "      <td>0</td>\n",
              "      <td>-0.269664</td>\n",
              "      <td>0.108991</td>\n",
              "      <td>Oh my ladygaga! I haven't played tennis for 2 ...</td>\n",
              "      <td>Negative</td>\n",
              "    </tr>\n",
              "    <tr>\n",
              "      <th>4</th>\n",
              "      <td>0</td>\n",
              "      <td>-0.150562</td>\n",
              "      <td>0.781553</td>\n",
              "      <td>I am heading on a road trip and taking a few d...</td>\n",
              "      <td>Positive</td>\n",
              "    </tr>\n",
              "  </tbody>\n",
              "</table>\n",
              "</div>"
            ],
            "text/plain": [
              "   PredictedLabel  ...  Sentiment\n",
              "0               0  ...   Negative\n",
              "1               0  ...   Negative\n",
              "2               0  ...   Positive\n",
              "3               0  ...   Negative\n",
              "4               0  ...   Positive\n",
              "\n",
              "[5 rows x 5 columns]"
            ]
          },
          "metadata": {
            "tags": []
          }
        },
        {
          "output_type": "stream",
          "text": [
            "Total runtime: 129.42\n"
          ],
          "name": "stdout"
        }
      ]
    },
    {
      "cell_type": "markdown",
      "metadata": {
        "id": "dLjoUQnJ_uTk",
        "colab_type": "text"
      },
      "source": [
        "Therefore, we have obtained predicted sentiment labels for the first 5 entries of input Twitter test text data using a binary classifier.\n",
        "\n",
        "The test accuracy obtained is 0.662791 and the AUC (Area Under the Curve) is 0.580762."
      ]
    },
    {
      "cell_type": "markdown",
      "metadata": {
        "id": "i-JvmOlXPqQe",
        "colab_type": "text"
      },
      "source": [
        "(ii) Now we will see how we can do the same Sentiment Analysis using nimbusml to load the data instead of Pandas.\n",
        "\n",
        "While Pandas saves the entire dataset in memory, nimbusml processes the data by passing a DataFileStream in the training/testing process, thus attaining exponential speed up.\n",
        "\n",
        "We will again use the manually generated Twitter text data like we did in (i)."
      ]
    },
    {
      "cell_type": "code",
      "metadata": {
        "id": "J7m4xbt8Pqp8",
        "colab_type": "code",
        "outputId": "12a672b1-4591-4e75-a03e-4b20388d3079",
        "colab": {
          "base_uri": "https://localhost:8080/",
          "height": 51
        }
      },
      "source": [
        "#Getting the input file path from package\n",
        "import os\n",
        "from nimbusml.datasets import get_dataset\n",
        "from nimbusml import FileDataStream \n",
        "\n",
        "train_file = get_dataset('gen_twittertrain').as_filepath()\n",
        "test_file = get_dataset('gen_twittertest').as_filepath()\n",
        "\n",
        "print(os.path.basename(train_file))\n",
        "print(os.path.basename(test_file))"
      ],
      "execution_count": 8,
      "outputs": [
        {
          "output_type": "stream",
          "text": [
            "train-twitter.gen-sample.tsv\n",
            "test-twitter.gen-sample.tsv\n"
          ],
          "name": "stdout"
        }
      ]
    },
    {
      "cell_type": "code",
      "metadata": {
        "id": "MAG2pIVwPyHY",
        "colab_type": "code",
        "outputId": "a6a5d4d3-0787-4793-d52b-cf1a0def180f",
        "colab": {
          "base_uri": "https://localhost:8080/",
          "height": 85
        }
      },
      "source": [
        "#Generating file schema\n",
        "data_stream_train = FileDataStream.read_csv(train_file, sep='\\t')\n",
        "data_stream_test = FileDataStream.read_csv(test_file, sep='\\t')\n",
        "data_stream_train.schema"
      ],
      "execution_count": 9,
      "outputs": [
        {
          "output_type": "execute_result",
          "data": {
            "text/plain": [
              "DataSchema([DataColumn(name='Sentiment', type='TX', pos=0),\n",
              "    DataColumn(name='Text', type='TX', pos=1),\n",
              "    DataColumn(name='Label', type='I8', pos=2)], header=True,\n",
              "    sep='\\t')"
            ]
          },
          "metadata": {
            "tags": []
          },
          "execution_count": 9
        }
      ]
    },
    {
      "cell_type": "code",
      "metadata": {
        "colab_type": "code",
        "outputId": "abd68529-26af-4683-fc71-997974eed2e7",
        "id": "Gwkgz8vNBIP8",
        "colab": {
          "base_uri": "https://localhost:8080/",
          "height": 85
        }
      },
      "source": [
        "import time\n",
        "from IPython.display import display\n",
        "from nimbusml.feature_extraction.text import NGramFeaturizer\n",
        "from nimbusml.feature_extraction.text.extractor import Ngram\n",
        "from nimbusml.linear_model import AveragedPerceptronBinaryClassifier\n",
        "from nimbusml.decomposition import PcaTransformer\n",
        "from nimbusml import Pipeline, FileDataStream\n",
        "\n",
        "columns = {\"features\":\"Text\"}\n",
        "columns = [\"features\"]\n",
        "\n",
        "t0 = time.time()\n",
        "\n",
        "#Using a pipeline to train the NGramFeaturizer and the binary classifier simultaneously\n",
        " \n",
        "#We are employing TF-IDF normalization and an L2 regularization parameter of 0.3\n",
        "ppl = Pipeline([NGramFeaturizer(word_feature_extractor=Ngram(weighting = 'TfIdf', ngram_length=2), char_feature_extractor=Ngram(weighting = 'Tf',\n",
        "                                                                                                                                ngram_length=3),\n",
        "                                columns = {\"features\": \"Text\"}), PcaTransformer(rank = 80, columns = \"features\"), \n",
        "                AveragedPerceptronBinaryClassifier(l2_regularization=0.3, number_of_iterations=3, feature = [\"features\"], label = \"Label\"),])\n",
        "\n",
        "#The model is fitted using the FileDataStream created by the training file name, \n",
        "#unlike with Pandas where the model was fit using the entire dataframe\n",
        "#The data file is then loaded using NimbusML data loader in a streamline, after which the FileDataStream is passed in the pipeline.\n",
        "ppl.fit(data_stream_train)\n",
        "\n",
        "print(\"Training time: \"  + str(round(time.time() - t0, 2)))"
      ],
      "execution_count": 10,
      "outputs": [
        {
          "output_type": "stream",
          "text": [
            "Automatically adding a MinMax normalization transform, use 'norm=Warn' or 'norm=No' to turn this behavior off.\n",
            "Training calibrator.\n",
            "Elapsed time: 00:00:00.2082816\n",
            "Training time: 0.24\n"
          ],
          "name": "stdout"
        }
      ]
    },
    {
      "cell_type": "markdown",
      "metadata": {
        "id": "8G2XI-i-BXMQ",
        "colab_type": "text"
      },
      "source": [
        "In general, using nimbusml to load the dataset in this way is much faster than loading the whole dataset into memory beforehand, like we do using Pandas, since all the processes have been optimized to boost performance.\n",
        "\n",
        "Now we can test the above model on the test data."
      ]
    },
    {
      "cell_type": "code",
      "metadata": {
        "id": "yrDs-XVTQske",
        "colab_type": "code",
        "outputId": "28ca7bf7-a70a-41d1-95cc-be73e175adf5",
        "colab": {
          "base_uri": "https://localhost:8080/",
          "height": 352
        }
      },
      "source": [
        "#Testing the pipeline-trained model using the FileDataStream of the test file\n",
        "metrics, scores = ppl.test(data_stream_test, output_scores = True)\n",
        "\n",
        "print(\"Performance metrics: \")\n",
        "display(metrics)\n",
        "print(\"\\nIndividual scores: \")\n",
        "\n",
        "display(scores[0:5]) #Displaying the first 5 scores\n",
        "print(\"Total runtime: \" + str(round(time.time() - t0)))"
      ],
      "execution_count": 12,
      "outputs": [
        {
          "output_type": "stream",
          "text": [
            "Performance metrics: \n"
          ],
          "name": "stdout"
        },
        {
          "output_type": "display_data",
          "data": {
            "text/html": [
              "<div>\n",
              "<style scoped>\n",
              "    .dataframe tbody tr th:only-of-type {\n",
              "        vertical-align: middle;\n",
              "    }\n",
              "\n",
              "    .dataframe tbody tr th {\n",
              "        vertical-align: top;\n",
              "    }\n",
              "\n",
              "    .dataframe thead th {\n",
              "        text-align: right;\n",
              "    }\n",
              "</style>\n",
              "<table border=\"1\" class=\"dataframe\">\n",
              "  <thead>\n",
              "    <tr style=\"text-align: right;\">\n",
              "      <th></th>\n",
              "      <th>AUC</th>\n",
              "      <th>Accuracy</th>\n",
              "      <th>Positive precision</th>\n",
              "      <th>Positive recall</th>\n",
              "      <th>Negative precision</th>\n",
              "      <th>Negative recall</th>\n",
              "      <th>Log-loss</th>\n",
              "      <th>Log-loss reduction</th>\n",
              "      <th>Test-set entropy (prior Log-Loss/instance)</th>\n",
              "      <th>F1 Score</th>\n",
              "      <th>AUPRC</th>\n",
              "    </tr>\n",
              "  </thead>\n",
              "  <tbody>\n",
              "    <tr>\n",
              "      <th>0</th>\n",
              "      <td>0.550514</td>\n",
              "      <td>0.627907</td>\n",
              "      <td>0</td>\n",
              "      <td>0</td>\n",
              "      <td>0.650602</td>\n",
              "      <td>0.947368</td>\n",
              "      <td>1.123148</td>\n",
              "      <td>-0.218002</td>\n",
              "      <td>0.922123</td>\n",
              "      <td>0</td>\n",
              "      <td>0.340803</td>\n",
              "    </tr>\n",
              "  </tbody>\n",
              "</table>\n",
              "</div>"
            ],
            "text/plain": [
              "        AUC  Accuracy  ...  F1 Score     AUPRC\n",
              "0  0.550514  0.627907  ...         0  0.340803\n",
              "\n",
              "[1 rows x 11 columns]"
            ]
          },
          "metadata": {
            "tags": []
          }
        },
        {
          "output_type": "stream",
          "text": [
            "\n",
            "Individual scores: \n"
          ],
          "name": "stdout"
        },
        {
          "output_type": "display_data",
          "data": {
            "text/html": [
              "<div>\n",
              "<style scoped>\n",
              "    .dataframe tbody tr th:only-of-type {\n",
              "        vertical-align: middle;\n",
              "    }\n",
              "\n",
              "    .dataframe tbody tr th {\n",
              "        vertical-align: top;\n",
              "    }\n",
              "\n",
              "    .dataframe thead th {\n",
              "        text-align: right;\n",
              "    }\n",
              "</style>\n",
              "<table border=\"1\" class=\"dataframe\">\n",
              "  <thead>\n",
              "    <tr style=\"text-align: right;\">\n",
              "      <th></th>\n",
              "      <th>PredictedLabel</th>\n",
              "      <th>Score</th>\n",
              "      <th>Probability</th>\n",
              "    </tr>\n",
              "  </thead>\n",
              "  <tbody>\n",
              "    <tr>\n",
              "      <th>0</th>\n",
              "      <td>0</td>\n",
              "      <td>-0.179711</td>\n",
              "      <td>0.032265</td>\n",
              "    </tr>\n",
              "    <tr>\n",
              "      <th>1</th>\n",
              "      <td>0</td>\n",
              "      <td>-0.046403</td>\n",
              "      <td>0.600952</td>\n",
              "    </tr>\n",
              "    <tr>\n",
              "      <th>2</th>\n",
              "      <td>0</td>\n",
              "      <td>-0.105915</td>\n",
              "      <td>0.215577</td>\n",
              "    </tr>\n",
              "    <tr>\n",
              "      <th>3</th>\n",
              "      <td>0</td>\n",
              "      <td>-0.131839</td>\n",
              "      <td>0.115820</td>\n",
              "    </tr>\n",
              "    <tr>\n",
              "      <th>4</th>\n",
              "      <td>0</td>\n",
              "      <td>-0.088173</td>\n",
              "      <td>0.313349</td>\n",
              "    </tr>\n",
              "  </tbody>\n",
              "</table>\n",
              "</div>"
            ],
            "text/plain": [
              "   PredictedLabel     Score  Probability\n",
              "0               0 -0.179711     0.032265\n",
              "1               0 -0.046403     0.600952\n",
              "2               0 -0.105915     0.215577\n",
              "3               0 -0.131839     0.115820\n",
              "4               0 -0.088173     0.313349"
            ]
          },
          "metadata": {
            "tags": []
          }
        },
        {
          "output_type": "stream",
          "text": [
            "Total runtime: 30\n"
          ],
          "name": "stdout"
        }
      ]
    },
    {
      "cell_type": "markdown",
      "metadata": {
        "id": "KdPeMG4eDF-i",
        "colab_type": "text"
      },
      "source": [
        "Therefore, we have the predicted sentiment labels and scores of the first 5 entries of input Twitter test text data using a binary classifier, using the help of nimbusml to load and process data. \n",
        "\n",
        "We also obtained a test accuracy of 0.627907 and an AUC of 0.550514."
      ]
    },
    {
      "cell_type": "markdown",
      "metadata": {
        "id": "xDHmU8lMT3Vh",
        "colab_type": "text"
      },
      "source": [
        "(iii) We will now see how we can combine Scikit-learn with nimbusml to develop a binary classifier that can perform Sentiment Analysis.\n",
        "\n",
        "In particular, we will use a binary classifier to identify if a comment on a Wikipedia talk webpage is a personal attack or not.\n",
        "\n",
        "We will use the Wikipedia Detox dataset, and take the comment column as the input and the (sentiment) label column as the label."
      ]
    },
    {
      "cell_type": "markdown",
      "metadata": {
        "id": "1HVD06FnI4Hc",
        "colab_type": "text"
      },
      "source": [
        "We will create two models for the purpose of demonstration. Like in (ii), the data will be loaded and processed using nimbusml's DataFileStream.\n",
        "\n",
        "Our first model will be based on an sklearn pipeline with NimbusML's NGramFeaturizer."
      ]
    },
    {
      "cell_type": "code",
      "metadata": {
        "id": "cwMs7zgtRRlD",
        "colab_type": "code",
        "outputId": "210635c4-bdeb-49aa-c17a-c6289fbedd5d",
        "colab": {
          "base_uri": "https://localhost:8080/",
          "height": 51
        }
      },
      "source": [
        "import numpy as np\n",
        "import time\n",
        "import sklearn\n",
        "import os\n",
        "from IPython.display import display\n",
        "import matplotlib.pyplot as plt\n",
        "import pandas as pd\n",
        "from nimbusml.datasets import get_dataset\n",
        "from nimbusml.feature_extraction.text.extractor import Ngram\n",
        "from nimbusml.feature_extraction.text import NGramFeaturizer\n",
        "from sklearn.feature_extraction.text import TfidfVectorizer as sklearn_TfidfVectorizer\n",
        "from sklearn.decomposition import TruncatedSVD as sklearn_TruncatedSVD\n",
        "from sklearn.pipeline import Pipeline as sklearn_ppl\n",
        "from sklearn.metrics import roc_auc_score, roc_curve\n",
        "from sklearn.metrics import auc as sk_auc\n",
        "\n",
        "#Function to plot the ROC (Receiver Operating Characteristic) curve\n",
        "def plot_roc_score(label_test, score):\n",
        "    x, y, _ = roc_curve(label_test, score)\n",
        "    roc_auc = sk_auc(x, y)\n",
        "    \n",
        "    plt.figure()\n",
        "    lw = 2\n",
        "    plt.plot(x, y, color='darkorange',\n",
        "             lw=lw, label='ROC curve (area = %0.2f)' % roc_auc)\n",
        "    plt.plot([0, 1], [0, 1], color='navy', lw=lw, linestyle='--')\n",
        "    plt.xlim([0.0, 1.0])\n",
        "    plt.ylim([0.0, 1.05])\n",
        "    plt.xlabel('False Positive Rate') #the x-axis represents the false positive rate\n",
        "    plt.ylabel('True Positive Rate') #the y-axis represents the true positive rate\n",
        "    plt.title('Receiver operating characteristic')\n",
        "    plt.legend(loc=\"lower right\")\n",
        "    plt.show()\n",
        "\n",
        "#Obtaining input data file path from the package\n",
        "Train_file = get_dataset('wiki_detox_train').as_filepath()\n",
        "Test_file = get_dataset('wiki_detox_test').as_filepath()\n",
        "\n",
        "print(os.path.basename(Train_file))\n",
        "print(os.path.basename(Test_file))"
      ],
      "execution_count": 13,
      "outputs": [
        {
          "output_type": "stream",
          "text": [
            "train-250.wikipedia.sample.tsv\n",
            "test.wikipedia.sample.tsv\n"
          ],
          "name": "stdout"
        }
      ]
    },
    {
      "cell_type": "code",
      "metadata": {
        "id": "8nSPktnwRXFY",
        "colab_type": "code",
        "outputId": "c7d7479a-ab88-4500-8bf7-444c9a55407d",
        "colab": {
          "base_uri": "https://localhost:8080/",
          "height": 204
        }
      },
      "source": [
        "#Loading the data\n",
        "dataTrain = pd.read_csv(Train_file, sep = \"\\t\")\n",
        "dataTest = pd.read_csv(Test_file, sep = \"\\t\")\n",
        "\n",
        "dataTrain.head()"
      ],
      "execution_count": 14,
      "outputs": [
        {
          "output_type": "execute_result",
          "data": {
            "text/html": [
              "<div>\n",
              "<style scoped>\n",
              "    .dataframe tbody tr th:only-of-type {\n",
              "        vertical-align: middle;\n",
              "    }\n",
              "\n",
              "    .dataframe tbody tr th {\n",
              "        vertical-align: top;\n",
              "    }\n",
              "\n",
              "    .dataframe thead th {\n",
              "        text-align: right;\n",
              "    }\n",
              "</style>\n",
              "<table border=\"1\" class=\"dataframe\">\n",
              "  <thead>\n",
              "    <tr style=\"text-align: right;\">\n",
              "      <th></th>\n",
              "      <th>Sentiment</th>\n",
              "      <th>SentimentText</th>\n",
              "    </tr>\n",
              "  </thead>\n",
              "  <tbody>\n",
              "    <tr>\n",
              "      <th>0</th>\n",
              "      <td>1</td>\n",
              "      <td>==RUDE== Dude, you are rude upload that carl...</td>\n",
              "    </tr>\n",
              "    <tr>\n",
              "      <th>1</th>\n",
              "      <td>1</td>\n",
              "      <td>== OK! ==  IM GOING TO VANDALIZE WILD ONES W...</td>\n",
              "    </tr>\n",
              "    <tr>\n",
              "      <th>2</th>\n",
              "      <td>1</td>\n",
              "      <td>Stop trolling, zapatancas, calling me a lia...</td>\n",
              "    </tr>\n",
              "    <tr>\n",
              "      <th>3</th>\n",
              "      <td>1</td>\n",
              "      <td>==You're cool==  You seem like a really cool...</td>\n",
              "    </tr>\n",
              "    <tr>\n",
              "      <th>4</th>\n",
              "      <td>1</td>\n",
              "      <td>::::: Why are you threatening me? I'm not bei...</td>\n",
              "    </tr>\n",
              "  </tbody>\n",
              "</table>\n",
              "</div>"
            ],
            "text/plain": [
              "   Sentiment                                      SentimentText\n",
              "0          1    ==RUDE== Dude, you are rude upload that carl...\n",
              "1          1    == OK! ==  IM GOING TO VANDALIZE WILD ONES W...\n",
              "2          1     Stop trolling, zapatancas, calling me a lia...\n",
              "3          1    ==You're cool==  You seem like a really cool...\n",
              "4          1   ::::: Why are you threatening me? I'm not bei..."
            ]
          },
          "metadata": {
            "tags": []
          },
          "execution_count": 14
        }
      ]
    },
    {
      "cell_type": "markdown",
      "metadata": {
        "id": "Awd7pZ7xqeVW",
        "colab_type": "text"
      },
      "source": [
        "The above output shows the first 5 entries of the training dataset."
      ]
    },
    {
      "cell_type": "code",
      "metadata": {
        "id": "h9DcCTe3Rxje",
        "colab_type": "code",
        "outputId": "ce0d1aba-118f-42a5-83ac-96d54a536b93",
        "colab": {
          "base_uri": "https://localhost:8080/",
          "height": 34
        }
      },
      "source": [
        "t0 = time.time()\n",
        "\n",
        "featurizer = NGramFeaturizer(word_feature_extractor=Ngram()) #Creating our nimbusml featurizer\n",
        "\n",
        "#Using sklearn's Truncated SVD (Singular Value Decomposition) for linear dimensionality reduction\n",
        "svd = sklearn_TruncatedSVD(random_state = 1, n_components = 400)  \n",
        "\n",
        "#Using logistic regression from sklearn as our binary classifier\n",
        "lr = sklearn.linear_model.LogisticRegression()\n",
        "\n",
        "#Creating an sklearn pipeline using the above\n",
        "sk_ppl = sklearn_ppl([(\"featurizer\",featurizer), (\"svd\",svd), (\"lr\", lr)]) \n",
        "\n",
        "#Training the above pipeline\n",
        "sk_ppl.fit(dataTrain[[\"SentimentText\"]], dataTrain[\"Sentiment\"]) \n",
        "\n",
        "train_time_sec = time.time() - t0\n",
        "print(\"Training time: \" + str(round(train_time_sec,2)) + \"s\")"
      ],
      "execution_count": 15,
      "outputs": [
        {
          "output_type": "stream",
          "text": [
            "Training time: 1.64s\n"
          ],
          "name": "stdout"
        }
      ]
    },
    {
      "cell_type": "code",
      "metadata": {
        "id": "0UVyAEIZSOLC",
        "colab_type": "code",
        "outputId": "d02c72a9-9079-45d8-d6bf-001ab2584477",
        "colab": {
          "base_uri": "https://localhost:8080/",
          "height": 34
        }
      },
      "source": [
        "t0 = time.time()\n",
        "\n",
        "#Testing the pipeline-trained model on the test data\n",
        "Y_pred = sk_ppl.predict(dataTest[\"SentimentText\"].to_frame()) \n",
        "Y_prob = sk_ppl.predict_proba(dataTest[\"SentimentText\"].to_frame())\n",
        "\n",
        "test_time_sec = time.time() - t0\n",
        "print(\"Testing time: \" + str(round(test_time_sec,2)) + \"s\")"
      ],
      "execution_count": 16,
      "outputs": [
        {
          "output_type": "stream",
          "text": [
            "Testing time: 1.02s\n"
          ],
          "name": "stdout"
        }
      ]
    },
    {
      "cell_type": "code",
      "metadata": {
        "id": "QJrAQeZySV2R",
        "colab_type": "code",
        "outputId": "355b29dc-b78b-4638-9b5a-3171bcc89a9a",
        "colab": {
          "base_uri": "https://localhost:8080/",
          "height": 295
        }
      },
      "source": [
        "#Plotting the ROC (Receiver Operating Characteristic) curve based on the test data\n",
        "plot_roc_score(dataTest[\"Sentiment\"], Y_prob[:,1]);"
      ],
      "execution_count": 17,
      "outputs": [
        {
          "output_type": "display_data",
          "data": {
            "image/png": "[encoded data removed]",
            "text/plain": [
              "<Figure size 432x288 with 1 Axes>"
            ]
          },
          "metadata": {
            "tags": []
          }
        }
      ]
    },
    {
      "cell_type": "markdown",
      "metadata": {
        "id": "SLiOnnZEOEfz",
        "colab_type": "text"
      },
      "source": [
        "Our second model will be based on a pure nimbusml pipeline with NimbusML's NGramFeaturizer, WordEmbedding, and FastLinearBinaryClassifier.\n",
        "\n",
        "Our binary classifier will be a FastLinearBinaryClassifier. \n",
        "\n",
        "NimbusML's WordEmbedding is based on a pre-trained DNN model to generate word embeddings for given corps. NimbusML supports many kinds of word embedding models; we will be using a Sentiment-Specific Word Embedding (SSWE) model. That is, the pre-trained DNN model our word embedding will be based on is the SSWE model."
      ]
    },
    {
      "cell_type": "code",
      "metadata": {
        "id": "P8JBUTfZSjDb",
        "colab_type": "code",
        "outputId": "99aa7cda-234b-4af0-c4cf-f32bcc0945d6",
        "colab": {
          "base_uri": "https://localhost:8080/",
          "height": 208
        }
      },
      "source": [
        "import time\n",
        "from nimbusml.linear_model import FastLinearBinaryClassifier\n",
        "from nimbusml.feature_extraction.text import WordEmbedding\n",
        "from nimbusml import Pipeline, FileDataStream\n",
        "\n",
        "#Creating the featurizer, which will convert the input text into a format acceptable by the SSWE \n",
        "featurizer = NGramFeaturizer(columns=['SentimentText'], output_tokens_column_name='SentimentText_TransformedText') \n",
        "#The column containing the output tokens will be named 'SentimentText_TransformedText'\n",
        "\n",
        "#Creating our word embedding model (SSWE)\n",
        "glove = WordEmbedding(columns='SentimentText_TransformedText', model_kind='SentimentSpecificWordEmbedding') \n",
        "\n",
        "ppl = Pipeline([featurizer, glove]) #Creating our nimbusml pipeline using the above\n",
        "ppl.fit_transform(dataTrain[[\"SentimentText\"]])[0:3] #Training the pipeline"
      ],
      "execution_count": 18,
      "outputs": [
        {
          "output_type": "execute_result",
          "data": {
            "text/html": [
              "<div>\n",
              "<style scoped>\n",
              "    .dataframe tbody tr th:only-of-type {\n",
              "        vertical-align: middle;\n",
              "    }\n",
              "\n",
              "    .dataframe tbody tr th {\n",
              "        vertical-align: top;\n",
              "    }\n",
              "\n",
              "    .dataframe thead th {\n",
              "        text-align: right;\n",
              "    }\n",
              "</style>\n",
              "<table border=\"1\" class=\"dataframe\">\n",
              "  <thead>\n",
              "    <tr style=\"text-align: right;\">\n",
              "      <th></th>\n",
              "      <th>SentimentText.Char.&lt;␂&gt;|&lt;␠&gt;|&lt;␠&gt;</th>\n",
              "      <th>SentimentText.Char.&lt;␠&gt;|&lt;␠&gt;|=</th>\n",
              "      <th>SentimentText.Char.&lt;␠&gt;|=|=</th>\n",
              "      <th>SentimentText.Char.=|=|r</th>\n",
              "      <th>SentimentText.Char.=|r|u</th>\n",
              "      <th>SentimentText.Char.r|u|d</th>\n",
              "      <th>SentimentText.Char.u|d|e</th>\n",
              "      <th>SentimentText.Char.d|e|=</th>\n",
              "      <th>SentimentText.Char.e|=|=</th>\n",
              "      <th>SentimentText.Char.=|=|&lt;␠&gt;</th>\n",
              "      <th>SentimentText.Char.=|&lt;␠&gt;|d</th>\n",
              "      <th>SentimentText.Char.&lt;␠&gt;|d|u</th>\n",
              "      <th>SentimentText.Char.d|u|d</th>\n",
              "      <th>SentimentText.Char.d|e|,</th>\n",
              "      <th>SentimentText.Char.e|,|&lt;␠&gt;</th>\n",
              "      <th>SentimentText.Char.,|&lt;␠&gt;|y</th>\n",
              "      <th>SentimentText.Char.&lt;␠&gt;|y|o</th>\n",
              "      <th>SentimentText.Char.y|o|u</th>\n",
              "      <th>SentimentText.Char.o|u|&lt;␠&gt;</th>\n",
              "      <th>SentimentText.Char.u|&lt;␠&gt;|a</th>\n",
              "      <th>SentimentText.Char.&lt;␠&gt;|a|r</th>\n",
              "      <th>SentimentText.Char.a|r|e</th>\n",
              "      <th>SentimentText.Char.r|e|&lt;␠&gt;</th>\n",
              "      <th>SentimentText.Char.e|&lt;␠&gt;|r</th>\n",
              "      <th>SentimentText.Char.&lt;␠&gt;|r|u</th>\n",
              "      <th>SentimentText.Char.d|e|&lt;␠&gt;</th>\n",
              "      <th>SentimentText.Char.e|&lt;␠&gt;|u</th>\n",
              "      <th>SentimentText.Char.&lt;␠&gt;|u|p</th>\n",
              "      <th>SentimentText.Char.u|p|l</th>\n",
              "      <th>SentimentText.Char.p|l|o</th>\n",
              "      <th>SentimentText.Char.l|o|a</th>\n",
              "      <th>SentimentText.Char.o|a|d</th>\n",
              "      <th>SentimentText.Char.a|d|&lt;␠&gt;</th>\n",
              "      <th>SentimentText.Char.d|&lt;␠&gt;|t</th>\n",
              "      <th>SentimentText.Char.&lt;␠&gt;|t|h</th>\n",
              "      <th>SentimentText.Char.t|h|a</th>\n",
              "      <th>SentimentText.Char.h|a|t</th>\n",
              "      <th>SentimentText.Char.a|t|&lt;␠&gt;</th>\n",
              "      <th>SentimentText.Char.t|&lt;␠&gt;|c</th>\n",
              "      <th>SentimentText.Char.&lt;␠&gt;|c|a</th>\n",
              "      <th>...</th>\n",
              "      <th>SentimentText_TransformedText.110</th>\n",
              "      <th>SentimentText_TransformedText.111</th>\n",
              "      <th>SentimentText_TransformedText.112</th>\n",
              "      <th>SentimentText_TransformedText.113</th>\n",
              "      <th>SentimentText_TransformedText.114</th>\n",
              "      <th>SentimentText_TransformedText.115</th>\n",
              "      <th>SentimentText_TransformedText.116</th>\n",
              "      <th>SentimentText_TransformedText.117</th>\n",
              "      <th>SentimentText_TransformedText.118</th>\n",
              "      <th>SentimentText_TransformedText.119</th>\n",
              "      <th>SentimentText_TransformedText.120</th>\n",
              "      <th>SentimentText_TransformedText.121</th>\n",
              "      <th>SentimentText_TransformedText.122</th>\n",
              "      <th>SentimentText_TransformedText.123</th>\n",
              "      <th>SentimentText_TransformedText.124</th>\n",
              "      <th>SentimentText_TransformedText.125</th>\n",
              "      <th>SentimentText_TransformedText.126</th>\n",
              "      <th>SentimentText_TransformedText.127</th>\n",
              "      <th>SentimentText_TransformedText.128</th>\n",
              "      <th>SentimentText_TransformedText.129</th>\n",
              "      <th>SentimentText_TransformedText.130</th>\n",
              "      <th>SentimentText_TransformedText.131</th>\n",
              "      <th>SentimentText_TransformedText.132</th>\n",
              "      <th>SentimentText_TransformedText.133</th>\n",
              "      <th>SentimentText_TransformedText.134</th>\n",
              "      <th>SentimentText_TransformedText.135</th>\n",
              "      <th>SentimentText_TransformedText.136</th>\n",
              "      <th>SentimentText_TransformedText.137</th>\n",
              "      <th>SentimentText_TransformedText.138</th>\n",
              "      <th>SentimentText_TransformedText.139</th>\n",
              "      <th>SentimentText_TransformedText.140</th>\n",
              "      <th>SentimentText_TransformedText.141</th>\n",
              "      <th>SentimentText_TransformedText.142</th>\n",
              "      <th>SentimentText_TransformedText.143</th>\n",
              "      <th>SentimentText_TransformedText.144</th>\n",
              "      <th>SentimentText_TransformedText.145</th>\n",
              "      <th>SentimentText_TransformedText.146</th>\n",
              "      <th>SentimentText_TransformedText.147</th>\n",
              "      <th>SentimentText_TransformedText.148</th>\n",
              "      <th>SentimentText_TransformedText.149</th>\n",
              "    </tr>\n",
              "  </thead>\n",
              "  <tbody>\n",
              "    <tr>\n",
              "      <th>0</th>\n",
              "      <td>0.112509</td>\n",
              "      <td>0.112509</td>\n",
              "      <td>0.112509</td>\n",
              "      <td>0.112509</td>\n",
              "      <td>0.112509</td>\n",
              "      <td>0.225018</td>\n",
              "      <td>0.337526</td>\n",
              "      <td>0.112509</td>\n",
              "      <td>0.112509</td>\n",
              "      <td>0.112509</td>\n",
              "      <td>0.112509</td>\n",
              "      <td>0.112509</td>\n",
              "      <td>0.112509</td>\n",
              "      <td>0.112509</td>\n",
              "      <td>0.112509</td>\n",
              "      <td>0.112509</td>\n",
              "      <td>0.112509</td>\n",
              "      <td>0.112509</td>\n",
              "      <td>0.112509</td>\n",
              "      <td>0.112509</td>\n",
              "      <td>0.112509</td>\n",
              "      <td>0.112509</td>\n",
              "      <td>0.225018</td>\n",
              "      <td>0.112509</td>\n",
              "      <td>0.112509</td>\n",
              "      <td>0.112509</td>\n",
              "      <td>0.112509</td>\n",
              "      <td>0.112509</td>\n",
              "      <td>0.112509</td>\n",
              "      <td>0.112509</td>\n",
              "      <td>0.112509</td>\n",
              "      <td>0.112509</td>\n",
              "      <td>0.112509</td>\n",
              "      <td>0.112509</td>\n",
              "      <td>0.112509</td>\n",
              "      <td>0.112509</td>\n",
              "      <td>0.112509</td>\n",
              "      <td>0.112509</td>\n",
              "      <td>0.112509</td>\n",
              "      <td>0.112509</td>\n",
              "      <td>...</td>\n",
              "      <td>1.462784</td>\n",
              "      <td>0.528055</td>\n",
              "      <td>0.698277</td>\n",
              "      <td>0.249722</td>\n",
              "      <td>0.855730</td>\n",
              "      <td>0.858960</td>\n",
              "      <td>0.052535</td>\n",
              "      <td>0.637218</td>\n",
              "      <td>0.302744</td>\n",
              "      <td>0.641849</td>\n",
              "      <td>1.275095</td>\n",
              "      <td>1.569134</td>\n",
              "      <td>1.453716</td>\n",
              "      <td>1.825948</td>\n",
              "      <td>2.058919</td>\n",
              "      <td>0.825440</td>\n",
              "      <td>0.154269</td>\n",
              "      <td>1.684076</td>\n",
              "      <td>0.844316</td>\n",
              "      <td>0.474553</td>\n",
              "      <td>1.962824</td>\n",
              "      <td>-0.341685</td>\n",
              "      <td>0.574575</td>\n",
              "      <td>1.473381</td>\n",
              "      <td>1.423488</td>\n",
              "      <td>1.290106</td>\n",
              "      <td>0.760995</td>\n",
              "      <td>0.347281</td>\n",
              "      <td>0.938264</td>\n",
              "      <td>2.886388</td>\n",
              "      <td>-0.463254</td>\n",
              "      <td>-0.081983</td>\n",
              "      <td>1.956025</td>\n",
              "      <td>0.483862</td>\n",
              "      <td>1.145274</td>\n",
              "      <td>0.730155</td>\n",
              "      <td>1.072578</td>\n",
              "      <td>1.693832</td>\n",
              "      <td>-0.134111</td>\n",
              "      <td>3.389347</td>\n",
              "    </tr>\n",
              "    <tr>\n",
              "      <th>1</th>\n",
              "      <td>0.123091</td>\n",
              "      <td>0.123091</td>\n",
              "      <td>0.246183</td>\n",
              "      <td>0.000000</td>\n",
              "      <td>0.000000</td>\n",
              "      <td>0.000000</td>\n",
              "      <td>0.000000</td>\n",
              "      <td>0.000000</td>\n",
              "      <td>0.000000</td>\n",
              "      <td>0.246183</td>\n",
              "      <td>0.000000</td>\n",
              "      <td>0.000000</td>\n",
              "      <td>0.000000</td>\n",
              "      <td>0.000000</td>\n",
              "      <td>0.000000</td>\n",
              "      <td>0.000000</td>\n",
              "      <td>0.000000</td>\n",
              "      <td>0.000000</td>\n",
              "      <td>0.000000</td>\n",
              "      <td>0.000000</td>\n",
              "      <td>0.000000</td>\n",
              "      <td>0.000000</td>\n",
              "      <td>0.000000</td>\n",
              "      <td>0.000000</td>\n",
              "      <td>0.000000</td>\n",
              "      <td>0.000000</td>\n",
              "      <td>0.000000</td>\n",
              "      <td>0.000000</td>\n",
              "      <td>0.000000</td>\n",
              "      <td>0.000000</td>\n",
              "      <td>0.000000</td>\n",
              "      <td>0.000000</td>\n",
              "      <td>0.000000</td>\n",
              "      <td>0.000000</td>\n",
              "      <td>0.123091</td>\n",
              "      <td>0.000000</td>\n",
              "      <td>0.000000</td>\n",
              "      <td>0.000000</td>\n",
              "      <td>0.000000</td>\n",
              "      <td>0.000000</td>\n",
              "      <td>...</td>\n",
              "      <td>1.904996</td>\n",
              "      <td>1.730018</td>\n",
              "      <td>-0.507464</td>\n",
              "      <td>0.444537</td>\n",
              "      <td>0.542321</td>\n",
              "      <td>-0.166392</td>\n",
              "      <td>0.135847</td>\n",
              "      <td>0.147397</td>\n",
              "      <td>0.635437</td>\n",
              "      <td>0.183642</td>\n",
              "      <td>0.571249</td>\n",
              "      <td>1.210280</td>\n",
              "      <td>1.532342</td>\n",
              "      <td>1.225561</td>\n",
              "      <td>2.105577</td>\n",
              "      <td>0.654956</td>\n",
              "      <td>0.489232</td>\n",
              "      <td>0.486822</td>\n",
              "      <td>0.041106</td>\n",
              "      <td>0.056376</td>\n",
              "      <td>1.771506</td>\n",
              "      <td>1.859128</td>\n",
              "      <td>1.963889</td>\n",
              "      <td>1.518326</td>\n",
              "      <td>1.054131</td>\n",
              "      <td>0.818986</td>\n",
              "      <td>0.275295</td>\n",
              "      <td>1.228935</td>\n",
              "      <td>0.431228</td>\n",
              "      <td>1.252122</td>\n",
              "      <td>-0.529051</td>\n",
              "      <td>-0.036032</td>\n",
              "      <td>0.686052</td>\n",
              "      <td>0.628498</td>\n",
              "      <td>0.456804</td>\n",
              "      <td>0.624132</td>\n",
              "      <td>2.142290</td>\n",
              "      <td>1.189043</td>\n",
              "      <td>-0.230683</td>\n",
              "      <td>2.423379</td>\n",
              "    </tr>\n",
              "    <tr>\n",
              "      <th>2</th>\n",
              "      <td>0.036936</td>\n",
              "      <td>0.000000</td>\n",
              "      <td>0.000000</td>\n",
              "      <td>0.000000</td>\n",
              "      <td>0.000000</td>\n",
              "      <td>0.000000</td>\n",
              "      <td>0.000000</td>\n",
              "      <td>0.000000</td>\n",
              "      <td>0.000000</td>\n",
              "      <td>0.000000</td>\n",
              "      <td>0.000000</td>\n",
              "      <td>0.000000</td>\n",
              "      <td>0.000000</td>\n",
              "      <td>0.000000</td>\n",
              "      <td>0.000000</td>\n",
              "      <td>0.000000</td>\n",
              "      <td>0.184679</td>\n",
              "      <td>0.184679</td>\n",
              "      <td>0.110808</td>\n",
              "      <td>0.073872</td>\n",
              "      <td>0.073872</td>\n",
              "      <td>0.073872</td>\n",
              "      <td>0.110808</td>\n",
              "      <td>0.000000</td>\n",
              "      <td>0.000000</td>\n",
              "      <td>0.000000</td>\n",
              "      <td>0.000000</td>\n",
              "      <td>0.000000</td>\n",
              "      <td>0.000000</td>\n",
              "      <td>0.000000</td>\n",
              "      <td>0.000000</td>\n",
              "      <td>0.000000</td>\n",
              "      <td>0.000000</td>\n",
              "      <td>0.073872</td>\n",
              "      <td>0.184679</td>\n",
              "      <td>0.073872</td>\n",
              "      <td>0.073872</td>\n",
              "      <td>0.073872</td>\n",
              "      <td>0.000000</td>\n",
              "      <td>0.036936</td>\n",
              "      <td>...</td>\n",
              "      <td>3.476445</td>\n",
              "      <td>4.525440</td>\n",
              "      <td>2.924021</td>\n",
              "      <td>0.883503</td>\n",
              "      <td>2.382992</td>\n",
              "      <td>0.983437</td>\n",
              "      <td>1.911982</td>\n",
              "      <td>2.371340</td>\n",
              "      <td>1.374931</td>\n",
              "      <td>0.552659</td>\n",
              "      <td>2.672227</td>\n",
              "      <td>1.828075</td>\n",
              "      <td>2.560276</td>\n",
              "      <td>2.543293</td>\n",
              "      <td>2.374752</td>\n",
              "      <td>3.557652</td>\n",
              "      <td>2.376891</td>\n",
              "      <td>2.919363</td>\n",
              "      <td>2.543924</td>\n",
              "      <td>2.315325</td>\n",
              "      <td>2.776464</td>\n",
              "      <td>3.803963</td>\n",
              "      <td>2.165327</td>\n",
              "      <td>1.744349</td>\n",
              "      <td>2.197365</td>\n",
              "      <td>3.803279</td>\n",
              "      <td>1.292597</td>\n",
              "      <td>2.675485</td>\n",
              "      <td>1.978979</td>\n",
              "      <td>2.731369</td>\n",
              "      <td>1.069717</td>\n",
              "      <td>1.617938</td>\n",
              "      <td>3.589748</td>\n",
              "      <td>2.685204</td>\n",
              "      <td>2.276195</td>\n",
              "      <td>1.861450</td>\n",
              "      <td>2.721365</td>\n",
              "      <td>2.395365</td>\n",
              "      <td>0.310610</td>\n",
              "      <td>4.255451</td>\n",
              "    </tr>\n",
              "  </tbody>\n",
              "</table>\n",
              "<p>3 rows × 8781 columns</p>\n",
              "</div>"
            ],
            "text/plain": [
              "   SentimentText.Char.<␂>|<␠>|<␠>  ...  SentimentText_TransformedText.149\n",
              "0                        0.112509  ...                           3.389347\n",
              "1                        0.123091  ...                           2.423379\n",
              "2                        0.036936  ...                           4.255451\n",
              "\n",
              "[3 rows x 8781 columns]"
            ]
          },
          "metadata": {
            "tags": []
          },
          "execution_count": 18
        }
      ]
    },
    {
      "cell_type": "markdown",
      "metadata": {
        "id": "NNNEEEMped6E",
        "colab_type": "text"
      },
      "source": [
        "The above output contains the output from the NGramFeaturizer, i.e, the weighted word/sequence count. These columns are given as input to the SSWE model as an array of words. The above output contains the output of SSWE as well."
      ]
    },
    {
      "cell_type": "markdown",
      "metadata": {
        "id": "iXYqvFYqh_Le",
        "colab_type": "text"
      },
      "source": [
        "Now we will create a pipeline for the full classification."
      ]
    },
    {
      "cell_type": "code",
      "metadata": {
        "id": "wznyUjFlS09l",
        "colab_type": "code",
        "outputId": "98e34ac7-ffef-4964-f0b2-8d92f9ec1cfb",
        "colab": {
          "base_uri": "https://localhost:8080/",
          "height": 187
        }
      },
      "source": [
        "#Generating the training and test data file stream    \n",
        "data_stream_train = FileDataStream.read_csv(Train_file, sep='\\t',collapse=False)\n",
        "data_stream_test = FileDataStream.read_csv(Test_file, sep='\\t',collapse=False)\n",
        "\n",
        "#Creating a pipeline using the NGramFeaturizer, WordEmbedding, and FastLinearBinaryClassifier transforms\n",
        "pipeline = Pipeline([NGramFeaturizer(word_feature_extractor=Ngram(), output_tokens_column_name='SentimentText_TransformedText', columns=['SentimentText']),\n",
        "                     WordEmbedding(columns = \"SentimentText_TransformedText\"), \n",
        "                     FastLinearBinaryClassifier(feature = [\"SentimentText_TransformedText\"], label = 'Sentiment')])\n",
        "\n",
        "#Training the pipeline\n",
        "pipeline.fit(data_stream_train)  "
      ],
      "execution_count": 19,
      "outputs": [
        {
          "output_type": "stream",
          "text": [
            "Automatically adding a MinMax normalization transform, use 'norm=Warn' or 'norm=No' to turn this behavior off.\n",
            "Using 1 thread to train.\n",
            "Automatically choosing a check frequency of 1.\n",
            "Auto-tuning parameters: maxIterations = 6300.\n",
            "Auto-tuning parameters: L2 = 2.667734E-05.\n",
            "Auto-tuning parameters: L1Threshold (L1/L2) = 0.25.\n",
            "Using best model from iteration 2591.\n",
            "Not training a calibrator because it is not needed.\n",
            "Elapsed time: 00:00:01.0356104\n"
          ],
          "name": "stdout"
        },
        {
          "output_type": "execute_result",
          "data": {
            "text/plain": [
              "<nimbusml.pipeline.Pipeline at 0x7fb7ba939b38>"
            ]
          },
          "metadata": {
            "tags": []
          },
          "execution_count": 19
        }
      ]
    },
    {
      "cell_type": "code",
      "metadata": {
        "id": "27SlczJkTInH",
        "colab_type": "code",
        "outputId": "35ddb548-6606-40b2-f3dd-7811c2b7d8c6",
        "colab": {
          "base_uri": "https://localhost:8080/",
          "height": 97
        }
      },
      "source": [
        "#Testing the pipeline on our test data\n",
        "metrics, scores = pipeline.test(data_stream_test,'Sentiment', output_scores = True)\n",
        "metrics"
      ],
      "execution_count": 20,
      "outputs": [
        {
          "output_type": "execute_result",
          "data": {
            "text/html": [
              "<div>\n",
              "<style scoped>\n",
              "    .dataframe tbody tr th:only-of-type {\n",
              "        vertical-align: middle;\n",
              "    }\n",
              "\n",
              "    .dataframe tbody tr th {\n",
              "        vertical-align: top;\n",
              "    }\n",
              "\n",
              "    .dataframe thead th {\n",
              "        text-align: right;\n",
              "    }\n",
              "</style>\n",
              "<table border=\"1\" class=\"dataframe\">\n",
              "  <thead>\n",
              "    <tr style=\"text-align: right;\">\n",
              "      <th></th>\n",
              "      <th>AUC</th>\n",
              "      <th>Accuracy</th>\n",
              "      <th>Positive precision</th>\n",
              "      <th>Positive recall</th>\n",
              "      <th>Negative precision</th>\n",
              "      <th>Negative recall</th>\n",
              "      <th>Log-loss</th>\n",
              "      <th>Log-loss reduction</th>\n",
              "      <th>Test-set entropy (prior Log-Loss/instance)</th>\n",
              "      <th>F1 Score</th>\n",
              "      <th>AUPRC</th>\n",
              "    </tr>\n",
              "  </thead>\n",
              "  <tbody>\n",
              "    <tr>\n",
              "      <th>0</th>\n",
              "      <td>0.938272</td>\n",
              "      <td>0.833333</td>\n",
              "      <td>0.8</td>\n",
              "      <td>0.888889</td>\n",
              "      <td>0.875</td>\n",
              "      <td>0.777778</td>\n",
              "      <td>0.564218</td>\n",
              "      <td>0.435782</td>\n",
              "      <td>1</td>\n",
              "      <td>0.842105</td>\n",
              "      <td>0.958791</td>\n",
              "    </tr>\n",
              "  </tbody>\n",
              "</table>\n",
              "</div>"
            ],
            "text/plain": [
              "        AUC  Accuracy  ...  F1 Score     AUPRC\n",
              "0  0.938272  0.833333  ...  0.842105  0.958791\n",
              "\n",
              "[1 rows x 11 columns]"
            ]
          },
          "metadata": {
            "tags": []
          },
          "execution_count": 20
        }
      ]
    },
    {
      "cell_type": "markdown",
      "metadata": {
        "id": "gA3swuFbi6LP",
        "colab_type": "text"
      },
      "source": [
        "Therefore, we have obtained a test accuracy of 0.833333 and an AUC of 0.938272 using our FastLinearBinaryClassifier to detect whether a comment on a Wikipedia talk page is a personal comment or not, using a pure nimbusml pipeline with the SSWE model."
      ]
    },
    {
      "cell_type": "code",
      "metadata": {
        "id": "wKhuTI1yTUHv",
        "colab_type": "code",
        "outputId": "51371b26-1f19-4073-8614-afd98831372c",
        "colab": {
          "base_uri": "https://localhost:8080/",
          "height": 295
        }
      },
      "source": [
        "#Plotting the ROC (Receiver Operating Characteristic) curve based on the test data\n",
        "plot_roc_score(dataTest[\"Sentiment\"], scores[\"Probability\"]);"
      ],
      "execution_count": 21,
      "outputs": [
        {
          "output_type": "display_data",
          "data": {
            "image/png": "[encoded data removed]",
            "text/plain": [
              "<Figure size 432x288 with 1 Axes>"
            ]
          },
          "metadata": {
            "tags": []
          }
        }
      ]
    },
    {
      "cell_type": "markdown",
      "metadata": {
        "id": "wCMNfnvg1QDF",
        "colab_type": "text"
      },
      "source": [
        "(iv) NimbusML provides a Sentiment class for scoring natural language text and measuring the probability that the sentiments of text are positive.\n",
        "\n",
        "The syntax is as follows: *Sentiment(columns=None, **params)*\n",
        "\n",
        "The 'columns' parameter specifies a dictionary of key-value pairs, where key is the output column name and value is a list of input column names.\n",
        "\n",
        "'**params' denotes a set of additional arguments sent to the compute engine.\n",
        "\n",
        "The Sentiment transform outputs the sentiment prediction as a score between 0 and 1, where 0 is a negative sentiment and 1 is a positive sentiment. The model was trained on Twitter sentiment data and currently supports only English."
      ]
    },
    {
      "cell_type": "markdown",
      "metadata": {
        "id": "LjjHIx3QYJUE",
        "colab_type": "text"
      },
      "source": [
        "**II. Removing Stopwords**\n",
        "\n",
        "Now we will see how we can use NimbusML to remove stopwords from input text.\n",
        "\n",
        "NimbusML's CustomStopWordsRemover class removes a list of stopwords that the user specifies.\n",
        "\n",
        "The syntax is as follows: *CustomStopWordsRemover(stopword = None, **params)*\n",
        "\n",
        "The 'stopword' parameter is a list of stopwords to be removed, while '**params' specifies a set of additional arguments sent to the compute engine.\n",
        "\n",
        "Below is an example using the CustomStopWordsRemover class. The NGramFeaturizer can help us use the class. \n",
        "\n",
        "We will use the Wikipedia Detox dataset."
      ]
    },
    {
      "cell_type": "code",
      "metadata": {
        "id": "YvDyOBp9YKf8",
        "colab_type": "code",
        "outputId": "d19ca12b-9f5e-4b61-ecbf-660855bfa119",
        "colab": {
          "base_uri": "https://localhost:8080/",
          "height": 289
        }
      },
      "source": [
        "from nimbusml import FileDataStream\n",
        "from nimbusml.datasets import get_dataset\n",
        "from nimbusml.feature_extraction.text import NGramFeaturizer\n",
        "from nimbusml.feature_extraction.text.extractor import Ngram\n",
        "from nimbusml.feature_extraction.text.stopwords import CustomStopWordsRemover\n",
        "\n",
        "#Obtaining data input as a FileDataStream\n",
        "path = get_dataset('wiki_detox_train').as_filepath()\n",
        "\n",
        "data = FileDataStream.read_csv(path, sep='\\t')\n",
        "print(data.head())\n",
        "print(\"\\n\")\n",
        "\n",
        "#Creating the featurizer\n",
        "xf = NGramFeaturizer(word_feature_extractor=Ngram(),\n",
        "                        stop_words_remover=CustomStopWordsRemover(['!','$','%','&','\\'','\\'d']), #Specifying the list of stopwords to be removed\n",
        "                        columns={'features': ['SentimentText']})\n",
        "\n",
        "features = xf.fit_transform(data)\n",
        "\n",
        "#Printing the extracted features for the first 5 entries of the training dataset\n",
        "print(features.head())"
      ],
      "execution_count": 33,
      "outputs": [
        {
          "output_type": "stream",
          "text": [
            "   Sentiment                                      SentimentText\n",
            "0          1  ==RUDE== Dude, you are rude upload that carl p...\n",
            "1          1  == OK! ==  IM GOING TO VANDALIZE WILD ONES WIK...\n",
            "2          1  Stop trolling, zapatancas, calling me a liar m...\n",
            "3          1  ==You're cool==  You seem like a really cool g...\n",
            "4          1  ::::: Why are you threatening me? I'm not bein...\n",
            "\n",
            "\n",
            "   Sentiment  ... features.Word.award.\n",
            "0          1  ...                  0.0\n",
            "1          1  ...                  0.0\n",
            "2          1  ...                  0.0\n",
            "3          1  ...                  0.0\n",
            "4          1  ...                  0.0\n",
            "\n",
            "[5 rows x 8602 columns]\n"
          ],
          "name": "stdout"
        }
      ]
    },
    {
      "cell_type": "markdown",
      "metadata": {
        "id": "4H_7_yZmcvZJ",
        "colab_type": "text"
      },
      "source": [
        "NimbusML's PredefinedStopWordsRemover class is used to remove a predefined list of stopwords from text.\n",
        "\n",
        "The syntax is as follows: *PredefinedStopWordsRemover(**params)*\n",
        "\n",
        "'**params' is a set of additional arguments sent to the compute engine.\n",
        "\n",
        "Below is an example using the PredefinedStopWordsRemover class. The NGramFeaturizer can help us use the class. \n",
        "\n",
        "We will again use the Wikipedia Detox dataset.\n"
      ]
    },
    {
      "cell_type": "code",
      "metadata": {
        "id": "yb5ZqRKQdNQr",
        "colab_type": "code",
        "outputId": "7ba24331-cbb3-4067-8470-813f0dbfe7a3",
        "colab": {
          "base_uri": "https://localhost:8080/",
          "height": 289
        }
      },
      "source": [
        "from nimbusml import FileDataStream\n",
        "from nimbusml.datasets import get_dataset\n",
        "from nimbusml.feature_extraction.text import NGramFeaturizer\n",
        "from nimbusml.feature_extraction.text.extractor import Ngram\n",
        "\n",
        "#Obtaining data input as a FileDataStream\n",
        "path = get_dataset(\"wiki_detox_train\").as_filepath()\n",
        "\n",
        "data = FileDataStream.read_csv(path, sep='\\t')\n",
        "print(data.head())\n",
        "print(\"\\n\")\n",
        "\n",
        "#Creating the featurizer\n",
        "xf = NGramFeaturizer(\n",
        "       word_feature_extractor=Ngram(),\n",
        "       columns={\n",
        "           'features': ['SentimentText']})\n",
        "\n",
        "features = xf.fit_transform(data)\n",
        "\n",
        "#Printing the extracted features for the first 5 entries of the training dataset\n",
        "print(features.head())"
      ],
      "execution_count": 34,
      "outputs": [
        {
          "output_type": "stream",
          "text": [
            "   Sentiment                                      SentimentText\n",
            "0          1  ==RUDE== Dude, you are rude upload that carl p...\n",
            "1          1  == OK! ==  IM GOING TO VANDALIZE WILD ONES WIK...\n",
            "2          1  Stop trolling, zapatancas, calling me a liar m...\n",
            "3          1  ==You're cool==  You seem like a really cool g...\n",
            "4          1  ::::: Why are you threatening me? I'm not bein...\n",
            "\n",
            "\n",
            "   Sentiment  ... features.Word.award.\n",
            "0          1  ...                  0.0\n",
            "1          1  ...                  0.0\n",
            "2          1  ...                  0.0\n",
            "3          1  ...                  0.0\n",
            "4          1  ...                  0.0\n",
            "\n",
            "[5 rows x 8651 columns]\n"
          ],
          "name": "stdout"
        }
      ]
    },
    {
      "cell_type": "markdown",
      "metadata": {
        "id": "E1DmvTG1vB12",
        "colab_type": "text"
      },
      "source": [
        "**III. Working with N-grams**\n",
        "\n",
        "NGramFeaturizer, as discussed previously, is a transform that outputs a bag of counts of sequences of consecutive words, or n-grams, from a corpus of text. It can extract features, i.e, the n-grams, in one of two ways. We will see these two methods here."
      ]
    },
    {
      "cell_type": "markdown",
      "metadata": {
        "id": "SHVVGXp1pfSF",
        "colab_type": "text"
      },
      "source": [
        "(i) NGram class\n",
        "\n",
        "NimbusML's NGram class can be used to extract n-grams from text and then convert them to vector form using a dictionary.\n",
        "\n",
        "We had been using the NGram feature extractor in the examples thus far.\n",
        "\n",
        "The syntax is as follows: *Ngram(ngram_length=1, skip_length=0, all_lengths=True, max_num_terms=[10000000], weighting='Tf', **params)*\n",
        "\n",
        "The 'ngram_length' parameter denotes the length of the n-gram we want.\n",
        "\n",
        "The 'skip_length' parameter denotes the maximum number of tokens to skip when constructing the n-gram.\n",
        "\n",
        "The 'all_lengths' parameter denotes whether we want to include all n-gram lengths up to the specified 'ngram_length' or only the 'ngram_length'.\n",
        "\n",
        "The 'max_num_terms' parameter denotes the maximum number of n-grams we want to store in the dictionary.\n",
        "\n",
        "The 'weighting' parameter specifies the weighting criteria.\n",
        "\n",
        "'**params' specifies a set of additional arguments sent to the compute engine.\n",
        "\n",
        "Below is an example that demonstrates use of the NGram class, again using the Wikipedia Detox dataset."
      ]
    },
    {
      "cell_type": "code",
      "metadata": {
        "id": "I7rxvDf8caw3",
        "colab_type": "code",
        "outputId": "6bcf5b95-8fff-448b-d957-024abf7358d5",
        "colab": {
          "base_uri": "https://localhost:8080/",
          "height": 289
        }
      },
      "source": [
        "from nimbusml import FileDataStream\n",
        "from nimbusml.datasets import get_dataset\n",
        "from nimbusml.feature_extraction.text import NGramFeaturizer\n",
        "from nimbusml.feature_extraction.text.extractor import Ngram\n",
        "\n",
        "#Obtaining data input as a FileDataStream\n",
        "path = get_dataset(\"wiki_detox_train\").as_filepath()\n",
        "\n",
        "data = FileDataStream.read_csv(path, sep='\\t')\n",
        "print(data.head())\n",
        "print(\"\\n\")\n",
        "\n",
        "#Creating the featurizer and specifying it to extract n-grams using the NGram class\n",
        "xf = NGramFeaturizer(\n",
        "word_feature_extractor=Ngram(),\n",
        "columns={'features': ['SentimentText']})\n",
        "#The 'columns' parameter denotes the name of the output column\n",
        "\n",
        "features = xf.fit_transform(data)\n",
        "\n",
        "#Printing the extracted features for the first 5 entries of the training dataset\n",
        "print(features.head())"
      ],
      "execution_count": 35,
      "outputs": [
        {
          "output_type": "stream",
          "text": [
            "   Sentiment                                      SentimentText\n",
            "0          1  ==RUDE== Dude, you are rude upload that carl p...\n",
            "1          1  == OK! ==  IM GOING TO VANDALIZE WILD ONES WIK...\n",
            "2          1  Stop trolling, zapatancas, calling me a liar m...\n",
            "3          1  ==You're cool==  You seem like a really cool g...\n",
            "4          1  ::::: Why are you threatening me? I'm not bein...\n",
            "\n",
            "\n",
            "   Sentiment  ... features.Word.award.\n",
            "0          1  ...                  0.0\n",
            "1          1  ...                  0.0\n",
            "2          1  ...                  0.0\n",
            "3          1  ...                  0.0\n",
            "4          1  ...                  0.0\n",
            "\n",
            "[5 rows x 8651 columns]\n"
          ],
          "name": "stdout"
        }
      ]
    },
    {
      "cell_type": "markdown",
      "metadata": {
        "id": "HESStINIc3sK",
        "colab_type": "text"
      },
      "source": [
        "(ii) NGramHash class\n",
        "\n",
        "The NGramHash class in NimbusML is also used to extract n-grams from text and convert them to vector form using a dictionary, but using hashing.\n",
        "\n",
        "The syntax is as follows: *NgramHash(number_of_bits=16, ngram_length=1, skip_length=0, all_lengths=True, seed=314489979, ordered=True, maximum_number_of_inverts=0, **params)*\n",
        "\n",
        "The parameter 'number_of_bits' denotes the number of bits to hash into (between 1 and 30, inclusive).\n",
        "\n",
        "The 'seed' parameter specifies the hashing seed value.\n",
        "\n",
        "The 'ordered' parameter denotes whether the position of each source column should be included in the hash when there are multiple source columns.\n",
        "\n",
        "The 'maximum_number_of_inverts' denotes the value to which we are limiting the number of keys used to generate the slot. 0 means no invert hashing and -1 means no limit.\n",
        "\n",
        "The remaining parameters mean the same as in the NGram class.\n",
        "\n",
        "Below is an example that demonstrates use of the NGramHash class, again using the Wikipedia Detox dataset.\n",
        "\n"
      ]
    },
    {
      "cell_type": "code",
      "metadata": {
        "id": "-95ZdIjscrDG",
        "colab_type": "code",
        "outputId": "d1aacb89-77fe-4f1c-cace-8ac7eaef742c",
        "colab": {
          "base_uri": "https://localhost:8080/",
          "height": 289
        }
      },
      "source": [
        "from nimbusml import FileDataStream\n",
        "from nimbusml.datasets import get_dataset\n",
        "from nimbusml.feature_extraction.text import NGramFeaturizer\n",
        "from nimbusml.feature_extraction.text.extractor import NgramHash\n",
        "\n",
        "#Obtaining data input as a FileDataStream\n",
        "path = get_dataset('wiki_detox_train').as_filepath()\n",
        "\n",
        "data = FileDataStream.read_csv(path, sep='\\t')\n",
        "print(data.head())\n",
        "print(\"\\n\")\n",
        "\n",
        "#Creating the featurizer and specifying it to extract n-grams using the NGramHash class\n",
        "xf = NGramFeaturizer(word_feature_extractor=NgramHash(),\n",
        "                        columns=['SentimentText'])\n",
        "#The 'columns' parameter denotes the name of the output column\n",
        "\n",
        "features = xf.fit_transform(data)\n",
        "\n",
        "#Printing the extracted features for the first 5 entries of the training dataset\n",
        "print(features.head())"
      ],
      "execution_count": 36,
      "outputs": [
        {
          "output_type": "stream",
          "text": [
            "   Sentiment                                      SentimentText\n",
            "0          1  ==RUDE== Dude, you are rude upload that carl p...\n",
            "1          1  == OK! ==  IM GOING TO VANDALIZE WILD ONES WIK...\n",
            "2          1  Stop trolling, zapatancas, calling me a liar m...\n",
            "3          1  ==You're cool==  You seem like a really cool g...\n",
            "4          1  ::::: Why are you threatening me? I'm not bein...\n",
            "\n",
            "\n",
            "   Sentiment  ...  SentimentText.70837\n",
            "0          1  ...                  0.0\n",
            "1          1  ...                  0.0\n",
            "2          1  ...                  0.0\n",
            "3          1  ...                  0.0\n",
            "4          1  ...                  0.0\n",
            "\n",
            "[5 rows x 70839 columns]\n"
          ],
          "name": "stdout"
        }
      ]
    },
    {
      "cell_type": "markdown",
      "metadata": {
        "id": "Gd13CBandvlW",
        "colab_type": "text"
      },
      "source": [
        "Now we will finally inspect the NGramFeaturizer class itself.\n",
        "\n",
        "The syntax is as follows: *NGramFeaturizer(language='English', stop_words_remover=None, text_case='Lower', keep_diacritics=False, keep_punctuations=True, keep_numbers=True, output_tokens_column_name=None, dictionary=None, word_feature_extractor={'Name': 'NGram', 'Settings': {'NgramLength': 1, 'SkipLength': 0, 'AllLengths': True, 'MaxNumTerms': [10000000], 'Weighting': 'Tf'}}, char_feature_extractor={'Name': 'NGram', 'Settings': {'NgramLength': 3, 'SkipLength': 0, 'AllLengths': False, 'MaxNumTerms': [10000000], 'Weighting': 'Tf'}}, vector_normalizer='L2', columns=None, **params)*\n",
        "\n",
        "The 'columns' parameter specifies a dictionary of key-value pairs, where key is the output column name and value is a list of input column names.\n",
        "\n",
        "The 'language' parameter specifies the language used in the dataset.\n",
        "\n",
        "The 'stop_words_remover' parameter denotes the stopword remover we want to use, i.e, whether CustomStopWordsRemover, PredefinedStopWordsRemover, or neither.\n",
        "\n",
        "The 'text_case' parameter specifies the text casing.\n",
        "\n",
        "The 'keep_diacritics' parameter denotes whether to retain the diacritical marks or not.\n",
        "\n",
        "The 'keep_punctuations' parameter denotes whether we want to keep punctuation or not.\n",
        "\n",
        "The 'keep_numbers' parameter denotes whether we want to keep or remove numbers.\n",
        "\n",
        "The 'output_tokens_column_name' parameter denotes the name of the column containing the transformed text tokens.\n",
        "\n",
        "The 'dictionary' parameter denotes a dictionary of whitelisted terms.\n",
        "\n",
        "The parameter 'word_feature_extractor' denotes the word feature extraction arguments, i.e whether we want to use the NGram class or the NGramHash class for feature extraction.\n",
        "\n",
        "The parameter 'char_feature_extractor' denotes the character feature extraction arguments. Again this can be done using the NGram class or the NGramHash class.\n",
        "\n",
        "The parameter 'vector_normalizer' specifies which norm we want to use to normalize rows individually by rescaling them.\n",
        "\n",
        "'**params' denotes the set of additional arguments sent to the compute engine.\n",
        "\n",
        "We will use an example from above to demonstrate how we can use this class to extract n-grams from text using the NGram class.\n",
        "\n",
        "We will again use the Wikipedia Detox dataset."
      ]
    },
    {
      "cell_type": "code",
      "metadata": {
        "id": "YwdvvmgGdtwT",
        "colab_type": "code",
        "outputId": "b286e2a1-7266-4c59-acb6-d88bcbab1a02",
        "colab": {
          "base_uri": "https://localhost:8080/",
          "height": 289
        }
      },
      "source": [
        "from nimbusml import FileDataStream\n",
        "from nimbusml.datasets import get_dataset\n",
        "from nimbusml.feature_extraction.text import NGramFeaturizer\n",
        "from nimbusml.feature_extraction.text.extractor import Ngram\n",
        "\n",
        "#Obtaining data input as a FileDataStream\n",
        "path = get_dataset(\"wiki_detox_train\").as_filepath()\n",
        "\n",
        "data = FileDataStream.read_csv(path, sep='\\t')\n",
        "print(data.head())\n",
        "print(\"\\n\")\n",
        "\n",
        "#Creating the featurizer\n",
        "xf = NGramFeaturizer(\n",
        "       word_feature_extractor=Ngram(),\n",
        "       columns={\n",
        "           'features': ['SentimentText']})\n",
        "\n",
        "features = xf.fit_transform(data)\n",
        "\n",
        "#Printing the extracted features for the first 5 entries of the training dataset\n",
        "print(features.head())"
      ],
      "execution_count": 37,
      "outputs": [
        {
          "output_type": "stream",
          "text": [
            "   Sentiment                                      SentimentText\n",
            "0          1  ==RUDE== Dude, you are rude upload that carl p...\n",
            "1          1  == OK! ==  IM GOING TO VANDALIZE WILD ONES WIK...\n",
            "2          1  Stop trolling, zapatancas, calling me a liar m...\n",
            "3          1  ==You're cool==  You seem like a really cool g...\n",
            "4          1  ::::: Why are you threatening me? I'm not bein...\n",
            "\n",
            "\n",
            "   Sentiment  ... features.Word.award.\n",
            "0          1  ...                  0.0\n",
            "1          1  ...                  0.0\n",
            "2          1  ...                  0.0\n",
            "3          1  ...                  0.0\n",
            "4          1  ...                  0.0\n",
            "\n",
            "[5 rows x 8651 columns]\n"
          ],
          "name": "stdout"
        }
      ]
    },
    {
      "cell_type": "markdown",
      "metadata": {
        "id": "WMvuRUjaeL5L",
        "colab_type": "text"
      },
      "source": [
        "**IV. Word Embedding**\n",
        "\n",
        "We will see how NimbusML provides support for word embedding. The WordEmbedding class can be used to convert the vectors of text tokens obtained from the featurizer into sentence vectors using a pre-trained model. In our Sentiment Analysis section, we had used the SSWE model for word embedding.\n",
        "\n",
        "The syntax is as follows: *WordEmbedding(model_kind='SentimentSpecificWordEmbedding', custom_lookup_table=None, columns=None, **params)*\n",
        "\n",
        "The 'model_kind' parameter specifies which pre-trained DNN model we want to use for our word embedding, i.e, to create our vocabulary. Options include SSWE, GloVe50D, GloVeTwitter100D, and FastTextWikipedia300D.\n",
        "\n",
        "The 'custom_lookup_table' parameter denotes a filename for a custom word embedding model.\n",
        "\n",
        "'**params' denotes the set of additional arguments sent to the compute engine.\n",
        "\n",
        "Below is an example that demonstrates use of the WordEmbedding class, again using the Wikipedia Detox dataset."
      ]
    },
    {
      "cell_type": "code",
      "metadata": {
        "id": "8unEk5IYj5wr",
        "colab_type": "code",
        "outputId": "219602dc-f584-4cd7-e0cb-473c8a01fc9c",
        "colab": {
          "base_uri": "https://localhost:8080/",
          "height": 289
        }
      },
      "source": [
        "from nimbusml import FileDataStream, Pipeline\n",
        "from nimbusml.datasets import get_dataset\n",
        "from nimbusml.feature_extraction.text import NGramFeaturizer, WordEmbedding\n",
        "from nimbusml.feature_extraction.text.extractor import Ngram\n",
        "\n",
        "#Obtaining data input as a FileDataStream\n",
        "path = get_dataset('wiki_detox_train').as_filepath()\n",
        "data = FileDataStream.read_csv(path, sep='\\t')\n",
        "print(data.head())\n",
        "print(\"\\n\")\n",
        "  \n",
        "#Creating the pipeline using NGramFeaturizer and WordEmbedding\n",
        "pipeline = Pipeline([\n",
        "       NGramFeaturizer(word_feature_extractor=Ngram(), output_tokens_column_name='ngram_TransformedText',\n",
        "                       columns={'ngram': ['SentimentText']}),\n",
        "\n",
        "       WordEmbedding(columns='ngram_TransformedText') #In this example, we are not specifying any specific pre-trained DNN model\n",
        "   ])\n",
        "\n",
        "features = pipeline.fit_transform(data)\n",
        "\n",
        "#Printing the extracted features for the first 5 entries of the training dataset\n",
        "print(features.head())"
      ],
      "execution_count": 38,
      "outputs": [
        {
          "output_type": "stream",
          "text": [
            "   Sentiment                                      SentimentText\n",
            "0          1  ==RUDE== Dude, you are rude upload that carl p...\n",
            "1          1  == OK! ==  IM GOING TO VANDALIZE WILD ONES WIK...\n",
            "2          1  Stop trolling, zapatancas, calling me a liar m...\n",
            "3          1  ==You're cool==  You seem like a really cool g...\n",
            "4          1  ::::: Why are you threatening me? I'm not bein...\n",
            "\n",
            "\n",
            "   Sentiment  ... ngram.Word.award.\n",
            "0          1  ...               0.0\n",
            "1          1  ...               0.0\n",
            "2          1  ...               0.0\n",
            "3          1  ...               0.0\n",
            "4          1  ...               0.0\n",
            "\n",
            "[5 rows x 8801 columns]\n"
          ],
          "name": "stdout"
        }
      ]
    },
    {
      "cell_type": "markdown",
      "metadata": {
        "id": "Y7Ud_8sQ7CDj",
        "colab_type": "text"
      },
      "source": [
        "Thus, to conclude, we have seen an in-depth exploration of NimbusML's NLP features in sentiment analysis and text processing, particularly in word feature extraction, stopword removal, and word embedding."
      ]
    }
  ]
}