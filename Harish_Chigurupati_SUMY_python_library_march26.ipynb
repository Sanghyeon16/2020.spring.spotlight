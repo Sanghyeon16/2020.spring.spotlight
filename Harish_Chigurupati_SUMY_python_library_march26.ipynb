{
  "nbformat": 4,
  "nbformat_minor": 0,
  "metadata": {
    "colab": {
      "name": "Harish Chigurupati_SUMY python library_march26.ipynb",
      "provenance": [],
      "collapsed_sections": []
    },
    "kernelspec": {
      "name": "python3",
      "display_name": "Python 3"
    }
  },
  "cells": [
    {
      "cell_type": "markdown",
      "metadata": {
        "id": "tRb5MYDYnx5A",
        "colab_type": "text"
      },
      "source": [
        "# AUTOMATIC TEXT SUMMARIZATION USING SUMY\n",
        "\n",
        "\n",
        "\n"
      ]
    },
    {
      "cell_type": "markdown",
      "metadata": {
        "id": "QUHOUvbwmu1G",
        "colab_type": "text"
      },
      "source": [
        "Automatic text summarization is the process of shortening a text document with software, in order to create a summary with the major points of the original document. The main idea of summarization is to find a subset of data which contains the “information” of the entire set. Such techniques are widely used in industry today."
      ]
    },
    {
      "cell_type": "markdown",
      "metadata": {
        "id": "j-pVgn7lopCZ",
        "colab_type": "text"
      },
      "source": [
        "### WHY SHOULD WE DO SUMMARIZATION?\n",
        "\n",
        "Knowing when it is appropriate to summarize and when it is not appropriate to summarize both aides in the definition of summarization and allows students to talk and write about long bodies of work in an organized and efficient way. Being able to summarize is important because it can simplify the complicated, aid in efficient studying, and can improve ones ability to communicate clearly and effectively.\n",
        "\n",
        "\n",
        "There are two types of automatic summarization: Extractive and Abstractive\n",
        "\n",
        "\n",
        "**Extractive summarization** means identifying important sections of the text and generating them verbatim producing a subset of the sentences from the original text; while **abstractive summarization** reproduces important material in a new way after interpretation and examination of the text using advanced natural language techniques to generate a new shorter text that conveys the most critical information from the original one.\n",
        "\n",
        "\n",
        "**SUMY LIBRARY**-It is a Simple library and command line utility for extracting summary from HTML pages or plain texts. The package also contains simple evaluation framework for text summaries. Implemented summarization methods:\n",
        "\n",
        "* Luhn - heurestic method, reference\n",
        "* Edmundson heurestic method with previous statistic research, reference\n",
        "* Latent Semantic Analysis, LSA - Latent semantic analysis (LSA) is a technique in natural language processing, in particular distributional semantics, of analyzing relationships between a set of documents and the terms they contain by producing a set of concepts related to the documents and terms. LSA assumes that words that are close in meaning will occur in similar pieces of text (the distributional hypothesis).\n",
        "* LexRank - Unsupervised approach inspired by algorithms PageRank and HITS, reference\n",
        "* TextRank - Unsupervised approach, also using PageRank algorithm, reference\n",
        "* SumBasic - Method that is often used as a baseline in the literature. Source: Read about SumBasic\n",
        "* KL-Sum - Method that greedily adds sentences to a summary so long as it decreases the KL Divergence. Source: Read about KL-Sum\n",
        "* Reduction - Graph-based summarization, where a sentence salience is computed as the sum of the weights of its edges to other sentences. The weight of an edge between two sentences is computed in the same manner as TextRank.\n",
        "\n",
        "\n",
        "\n",
        "\n",
        "\n",
        "In this tutorial, we are considering four types of automatic summarization, where they basically differ depending on the type of algorithm they use to do the summarization. \n",
        "\n",
        "1.   Lex Rank\n",
        "2.   LUHN\n",
        "3.   Latent Semantic Analysis (LSA)\n",
        "4.   Text Rank\n",
        "\n",
        "\n",
        "We are going to use a random document from the internet and try to summarize the document using all the four methods listed above. We will then compare each of the technique and analyze the summarization using a metric called Rogue-N\n",
        "\n",
        "\n"
      ]
    },
    {
      "cell_type": "code",
      "metadata": {
        "id": "1H0qapVwyVMc",
        "colab_type": "code",
        "colab": {
          "base_uri": "https://localhost:8080/",
          "height": 221
        },
        "outputId": "0b2652ee-1ab1-4c6c-b437-ec123f4f9df0"
      },
      "source": [
        "!pip install sumy\n"
      ],
      "execution_count": 23,
      "outputs": [
        {
          "output_type": "stream",
          "text": [
            "Requirement already satisfied: sumy in /usr/local/lib/python3.6/dist-packages (0.8.1)\n",
            "Requirement already satisfied: nltk>=3.0.2 in /usr/local/lib/python3.6/dist-packages (from sumy) (3.2.5)\n",
            "Requirement already satisfied: pycountry>=18.2.23 in /usr/local/lib/python3.6/dist-packages (from sumy) (19.8.18)\n",
            "Requirement already satisfied: breadability>=0.1.20 in /usr/local/lib/python3.6/dist-packages (from sumy) (0.1.20)\n",
            "Requirement already satisfied: docopt<0.7,>=0.6.1 in /usr/local/lib/python3.6/dist-packages (from sumy) (0.6.2)\n",
            "Requirement already satisfied: requests>=2.7.0 in /usr/local/lib/python3.6/dist-packages (from sumy) (2.21.0)\n",
            "Requirement already satisfied: six in /usr/local/lib/python3.6/dist-packages (from nltk>=3.0.2->sumy) (1.12.0)\n",
            "Requirement already satisfied: lxml>=2.0 in /usr/local/lib/python3.6/dist-packages (from breadability>=0.1.20->sumy) (4.2.6)\n",
            "Requirement already satisfied: chardet in /usr/local/lib/python3.6/dist-packages (from breadability>=0.1.20->sumy) (3.0.4)\n",
            "Requirement already satisfied: certifi>=2017.4.17 in /usr/local/lib/python3.6/dist-packages (from requests>=2.7.0->sumy) (2019.11.28)\n",
            "Requirement already satisfied: idna<2.9,>=2.5 in /usr/local/lib/python3.6/dist-packages (from requests>=2.7.0->sumy) (2.8)\n",
            "Requirement already satisfied: urllib3<1.25,>=1.21.1 in /usr/local/lib/python3.6/dist-packages (from requests>=2.7.0->sumy) (1.24.3)\n"
          ],
          "name": "stdout"
        }
      ]
    },
    {
      "cell_type": "code",
      "metadata": {
        "id": "LzntkNXiyvwy",
        "colab_type": "code",
        "colab": {}
      },
      "source": [
        "from sumy.parsers.plaintext import PlaintextParser\n"
      ],
      "execution_count": 0,
      "outputs": []
    },
    {
      "cell_type": "code",
      "metadata": {
        "id": "Ix8ZaeJ1y26i",
        "colab_type": "code",
        "colab": {}
      },
      "source": [
        "from sumy.nlp.tokenizers import Tokenizer\n",
        "from sumy.parsers.plaintext import PlaintextParser\n",
        "from sumy.summarizers.lex_rank import LexRankSummarizer\n",
        "\n"
      ],
      "execution_count": 0,
      "outputs": []
    },
    {
      "cell_type": "code",
      "metadata": {
        "id": "uyqWINOtz4pc",
        "colab_type": "code",
        "colab": {}
      },
      "source": [
        " document1 = \"\"\" A spate of mysterious second-time infections is calling into question the accuracy of COVID-19 diagnostic tools even as China prepares to lift quarantine measures to allow residents to leave the epicenter of its outbreak next month. It's also raising concerns of a possible second wave of cases.\n",
        "\n",
        "From March 18-22, the Chinese city of Wuhan reported no new cases of the virus through domestic transmission — that is, infection passed on from one person to another. The achievement was seen as a turning point in efforts to contain the virus, which has infected more than 80,000 people in China. Wuhan was particularly hard-hit, with more than half of all confirmed cases in the country.\n",
        "\n",
        "But some Wuhan residents who had tested positive earlier and then recovered from the disease are testing positive for the virus a second time. Based on data from several quarantine facilities in the city, which house patients for further observation after their discharge from hospitals, about 5%-10% of patients pronounced \"recovered\" have tested positive again.\n",
        "\n",
        "Some of those who retested positive appear to be asymptomatic carriers — those who carry the virus and are possibly infectious but do not exhibit any of the illness's associated symptoms — suggesting that the outbreak in Wuhan is not close to being over.\n",
        "\n",
        "NPR has spoken by phone or exchanged text messages with four individuals in Wuhan who are part of this group of individuals testing positive a second time in March. All four said they had been sickened with the virus and tested positive, then were released from medical care in recent weeks after their condition improved and they tested negative.\n",
        "\n",
        "Two of them are front-line doctors who were sickened after treating patients in their Wuhan hospitals. The other two are Wuhan residents. They all requested anonymity when speaking with NPR because those who have challenged the government's handling of the outbreak have been detained.\n",
        "\n",
        "One of the Wuhan residents who spoke to NPR exhibited severe symptoms during their first round of illness and was eventually hospitalized. The second resident displayed only mild symptoms at first and was quarantined in one of more than a dozen makeshift treatment centers erected in Wuhan during the peak of the outbreak.\n",
        "\n",
        "But when both were tested a second time for the coronavirus on Sunday, March 22, as a precondition for seeking medical care for unrelated health issues, they tested positive for the coronavirus even though they exhibited none of the typical symptoms, such as a fever or dry cough. The time from their recovery and release to the retest ranged from a few days to a few weeks.\n",
        "\n",
        "Could that second positive test mean a second round of infection? Virologists think it is unlikely that a COVID-19 patient could be re-infected so quickly after recovery but caution that it is too soon to know.\n",
        "\n",
        "Under its newest COVID-19 prevention guidelines, China does not include in its overall daily count for total and for new cases those who retest positive after being released from medical care. China also does not include asymptomatic cases in case counts.\n",
        "\n",
        "\"I have no idea why the authorities choose not to count [asymptomatic] cases in the official case count. I am baffled,\" said one of the Wuhan doctors who had a second positive test after recovering.\n",
        "\n",
        "These four people are now being isolated under medical observation. It is unclear whether they are infectious and why they tested positive after their earlier negative test.\n",
        "\n",
        "It is possible they were first given a false negative test result, which can happen if the swab used to collect samples of the virus misses bits of the virus. Dr. Li Wenliang, a whistleblowing doctor who later died of the virus himself in February, tested negative for the coronavirus several times before being accurately diagnosed.\n",
        "\n",
        "In February, Wang Chen, a director at the state-run Chinese Academy of Medical Sciences, estimated that the nucleic acid tests used in China were accurate at identifying positive cases of the coronavirus only 30%-50% of the time.\n",
        "\n",
        "Another theory is that, because the test amplifies tiny bits of DNA, residual virus from the initial infection could have falsely resulted in that second positive reading.\n",
        "\n",
        "\"There are false positives with these types of tests,\" Dr. Jeffrey Shaman, a professor of environmental health sciences at Columbia University, told NPR by email. Shaman recently co-authored a modeling study showing that transmission by individuals who did not exhibit any symptoms was a driver of the Wuhan outbreak.\n",
        "\n",
        "How real is China's recovery?\n",
        "\n",
        "On Tuesday, Hubei province, where Wuhan is the capital, said it would relax lockdown measures that have now been in place for more than two months and begin letting residents leave cities the following day. Wuhan said it would begin lifting its quarantine measures and letting residents leave two weeks later, on April 8.\n",
        "\n",
        "To leave Wuhan, residents must first test negative for the coronavirus, according to municipal authorities. Such screenings will identify some remaining asymptomatic virus carriers. But the high rate of false negatives that Chinese doctors have cited means many with the virus could pass undetected.\n",
        "\n",
        "Last Thursday, Wuhan reported for the first time since the outbreak began that it had no new cases of the virus from the day before — a milestone in China's virus containment efforts. The city reported a zero rise in new cases for the following four days.\n",
        "\n",
        "Assessing asymptomatic carriers\n",
        "\n",
        "But Caixin, an independent Chinese news outlet, reported earlier this week that Wuhan hospitals were continuing to see new cases of asymptomatic virus carriers, citing a health official who said he had seen up to a dozen such cases a day.\n",
        "\n",
        "Responding to inquiries about how the city was counting asymptomatic cases, Wuhan's health commission said Monday that it is quarantining new asymptomatic patients in specialized wards for 14 days. Such patients would be included in new daily case counts if they develop symptoms during that time, authorities said.\n",
        "\n",
        "\"Based on available World Health Organization data, new infections are mainly transmitted by patients who have developed symptoms. Hence [asymptomatic cases] may not be the main source of transmission,\" the commission said.\n",
        "\n",
        "A researcher at China's health commission told reporters Tuesday that asymptomatic carriers \"would not cause the spread\" of the virus. Zunyou Wu, the researcher, explained this was because the authorities were isolating people who had close contact with confirmed patients. Wu did not explain how they would identify asymptomatic carriers who had no close contact with confirmed patients.\n",
        "\n",
        "Addressing growing public concern of asymptomatic patients, China's Premier Li Keqiang urged during Thursday's senior-level government meeting that \"relevant departments must ... truthfully, timely, and openly\" answer questions, such as whether these patients are infectious and how the course of the outbreak may change.\n",
        "\n",
        "Research suggests that the spread can be caused by asymptomatic carriers. Studies of patients from Wuhan and other Chinese cities who were diagnosed early in the outbreak suggest that asymptomatic carriers of the virus can infect those they have close contact with, such as family members.\n",
        "\n",
        "\"In terms of those who retested positive, the official party line is that they have not been proven to be infectious. That is not the same as saying they are not infectious,\" one of the Wuhan doctors who tested positive twice told NPR. He is now isolated and under medical observation. \"If they really are not infectious,\" the doctor said, \"then there would be no need to take them back to the hospitals again.\"\n",
        "\n",
        "Geoff Brumfiel contributed reporting from Washington, D.C.\n",
        "\n",
        "\"\"\"\n"
      ],
      "execution_count": 0,
      "outputs": []
    },
    {
      "cell_type": "code",
      "metadata": {
        "id": "NmykYDpM0DgF",
        "colab_type": "code",
        "colab": {
          "base_uri": "https://localhost:8080/",
          "height": 51
        },
        "outputId": "215317a4-13c4-4f2a-9ed1-4555b6c38f90"
      },
      "source": [
        "import nltk\n",
        "nltk.download('punkt')\n",
        "parser = PlaintextParser.from_string(document1,Tokenizer(\"english\"))\n"
      ],
      "execution_count": 68,
      "outputs": [
        {
          "output_type": "stream",
          "text": [
            "[nltk_data] Downloading package punkt to /root/nltk_data...\n",
            "[nltk_data]   Package punkt is already up-to-date!\n"
          ],
          "name": "stdout"
        }
      ]
    },
    {
      "cell_type": "markdown",
      "metadata": {
        "id": "f0hIfIMI0uGC",
        "colab_type": "text"
      },
      "source": [
        "**LEX RANK**\n",
        "\n",
        "LexRank is an unsupervised approach to text summarization based on graph-based centrality scoring of sentences. The main idea is that sentences “recommend” other similar sentences to the reader. Thus, if one sentence is very similar to many others, it will likely be a sentence of great importance. The importance of this sentence also stems from the importance of the sentences “recommending” it. Thus, to get ranked highly and placed in a summary, a sentence must be similar to many sentences that are in turn also similar to many other sentences. This makes intuitive sense and allows the algorithms to be applied to any arbitrary new text."
      ]
    },
    {
      "cell_type": "code",
      "metadata": {
        "id": "4G3BAbf60mh5",
        "colab_type": "code",
        "colab": {}
      },
      "source": [
        "# Using LexRank\n",
        "summarizer = LexRankSummarizer()\n",
        "#Summarize the document with 15 sentences\n",
        "summary = summarizer(parser.document, 15)"
      ],
      "execution_count": 0,
      "outputs": []
    },
    {
      "cell_type": "code",
      "metadata": {
        "id": "xt8c_0YV0pwP",
        "colab_type": "code",
        "colab": {
          "base_uri": "https://localhost:8080/",
          "height": 292
        },
        "outputId": "c4868e07-0d39-48b2-85f0-3dec7035fb8f"
      },
      "source": [
        "for sentence in summary:\n",
        "    print(sentence)"
      ],
      "execution_count": 83,
      "outputs": [
        {
          "output_type": "stream",
          "text": [
            "From March 18-22, the Chinese city of Wuhan reported no new cases of the virus through domestic transmission — that is, infection passed on from one person to another.\n",
            "But some Wuhan residents who had tested positive earlier and then recovered from the disease are testing positive for the virus a second time.\n",
            "Based on data from several quarantine facilities in the city, which house patients for further observation after their discharge from hospitals, about 5%-10% of patients pronounced \"recovered\" have tested positive again.\n",
            "Some of those who retested positive appear to be asymptomatic carriers — those who carry the virus and are possibly infectious but do not exhibit any of the illness's associated symptoms — suggesting that the outbreak in Wuhan is not close to being over.\n",
            "All four said they had been sickened with the virus and tested positive, then were released from medical care in recent weeks after their condition improved and they tested negative.\n",
            "But when both were tested a second time for the coronavirus on Sunday, March 22, as a precondition for seeking medical care for unrelated health issues, they tested positive for the coronavirus even though they exhibited none of the typical symptoms, such as a fever or dry cough.\n",
            "Could that second positive test mean a second round of infection?\n",
            "Under its newest COVID-19 prevention guidelines, China does not include in its overall daily count for total and for new cases those who retest positive after being released from medical care.\n",
            "It is unclear whether they are infectious and why they tested positive after their earlier negative test.\n",
            "To leave Wuhan, residents must first test negative for the coronavirus, according to municipal authorities.\n",
            "Last Thursday, Wuhan reported for the first time since the outbreak began that it had no new cases of the virus from the day before — a milestone in China's virus containment efforts.\n",
            "A researcher at China's health commission told reporters Tuesday that asymptomatic carriers \"would not cause the spread\" of the virus.\n",
            "Wu did not explain how they would identify asymptomatic carriers who had no close contact with confirmed patients.\n",
            "Studies of patients from Wuhan and other Chinese cities who were diagnosed early in the outbreak suggest that asymptomatic carriers of the virus can infect those they have close contact with, such as family members.\n",
            "That is not the same as saying they are not infectious,\" one of the Wuhan doctors who tested positive twice told NPR.\n"
          ],
          "name": "stdout"
        }
      ]
    },
    {
      "cell_type": "markdown",
      "metadata": {
        "id": "GUrijUAg2Cgg",
        "colab_type": "text"
      },
      "source": [
        "**LUHN**\n",
        "\n",
        "Luhns is a Heuristic Method for text summarization. This is one of the earliest approaches of text summarization. Luhn proposed that the significance of each word in a document signifies how important it is. The idea is that any sentence with maximum occurances of the highest frequency words(Stopwords) and least occurances are not important to the meaning of document than others. Although it is not considered very accurate approach.Luhn’s algorithm is an approach based on TF-IDF. It selects only the words of higher importance as per their frequency. Higher weights are assigned to the words present at the begining of the document. \n",
        "\n",
        "Luhn introduced the following criteria during text preprocesing:\n",
        "\n",
        "1.  Removing stopwords\n",
        "2.  Stemming (Likes->Like)"
      ]
    },
    {
      "cell_type": "code",
      "metadata": {
        "id": "KS5Omnfj1KH9",
        "colab_type": "code",
        "colab": {}
      },
      "source": [
        "from sumy.summarizers.luhn import LuhnSummarizer"
      ],
      "execution_count": 0,
      "outputs": []
    },
    {
      "cell_type": "code",
      "metadata": {
        "id": "tj1sN1LH2PfO",
        "colab_type": "code",
        "colab": {}
      },
      "source": [
        "summarizer_luhn = LuhnSummarizer()\n",
        "summary_1 =summarizer_luhn(parser.document,15)"
      ],
      "execution_count": 0,
      "outputs": []
    },
    {
      "cell_type": "code",
      "metadata": {
        "id": "y2Ywe6jO2Qlh",
        "colab_type": "code",
        "colab": {
          "base_uri": "https://localhost:8080/",
          "height": 292
        },
        "outputId": "d1d78a57-2bef-44d4-d706-25705030f112"
      },
      "source": [
        "for sentence in summary_1:\n",
        "    print(sentence)"
      ],
      "execution_count": 77,
      "outputs": [
        {
          "output_type": "stream",
          "text": [
            "From March 18-22, the Chinese city of Wuhan reported no new cases of the virus through domestic transmission — that is, infection passed on from one person to another.\n",
            "But some Wuhan residents who had tested positive earlier and then recovered from the disease are testing positive for the virus a second time.\n",
            "Based on data from several quarantine facilities in the city, which house patients for further observation after their discharge from hospitals, about 5%-10% of patients pronounced \"recovered\" have tested positive again.\n",
            "Some of those who retested positive appear to be asymptomatic carriers — those who carry the virus and are possibly infectious but do not exhibit any of the illness's associated symptoms — suggesting that the outbreak in Wuhan is not close to being over.\n",
            "NPR has spoken by phone or exchanged text messages with four individuals in Wuhan who are part of this group of individuals testing positive a second time in March.\n",
            "All four said they had been sickened with the virus and tested positive, then were released from medical care in recent weeks after their condition improved and they tested negative.\n",
            "But when both were tested a second time for the coronavirus on Sunday, March 22, as a precondition for seeking medical care for unrelated health issues, they tested positive for the coronavirus even though they exhibited none of the typical symptoms, such as a fever or dry cough.\n",
            "Under its newest COVID-19 prevention guidelines, China does not include in its overall daily count for total and for new cases those who retest positive after being released from medical care.\n",
            "It is possible they were first given a false negative test result, which can happen if the swab used to collect samples of the virus misses bits of the virus.\n",
            "In February, Wang Chen, a director at the state-run Chinese Academy of Medical Sciences, estimated that the nucleic acid tests used in China were accurate at identifying positive cases of the coronavirus only 30%-50% of the time.\n",
            "On Tuesday, Hubei province, where Wuhan is the capital, said it would relax lockdown measures that have now been in place for more than two months and begin letting residents leave cities the following day.\n",
            "Last Thursday, Wuhan reported for the first time since the outbreak began that it had no new cases of the virus from the day before — a milestone in China's virus containment efforts.\n",
            "But Caixin, an independent Chinese news outlet, reported earlier this week that Wuhan hospitals were continuing to see new cases of asymptomatic virus carriers, citing a health official who said he had seen up to a dozen such cases a day.\n",
            "Addressing growing public concern of asymptomatic patients, China's Premier Li Keqiang urged during Thursday's senior-level government meeting that \"relevant departments must ... truthfully, timely, and openly\" answer questions, such as whether these patients are infectious and how the course of the outbreak may change.\n",
            "Studies of patients from Wuhan and other Chinese cities who were diagnosed early in the outbreak suggest that asymptomatic carriers of the virus can infect those they have close contact with, such as family members.\n"
          ],
          "name": "stdout"
        }
      ]
    },
    {
      "cell_type": "markdown",
      "metadata": {
        "id": "Pwf0lCkblNCd",
        "colab_type": "text"
      },
      "source": [
        "**LSA- LATENT SEMANTIC ANALYSIS**\n",
        "\n",
        "Latent Semantic Analysis (LSA) is a theory and method for extracting and representing the\n",
        "contextual-usage meaning of words by statistical computations applied to a large corpus of\n",
        "text (Landauer and Dumais, 1997). The underlying idea is that the aggregate of all the word\n",
        "contexts in which a given word does and does not appear provides a set of mutual\n",
        "constraints that largely determines the similarity of meaning of words and sets of words to\n",
        "each other. \n",
        "\n",
        "To extract and understand patterns from the documents, LSA inherently follows certain assumptions:\n",
        "\n",
        "1. Meaning of Sentences or Documents is a sum of the meaning of all words occurring in it. Overall, the meaning of a certain word is an average across all the documents it occurs in.\n",
        "2.  LSA assumes that the semantic associations between words are present not explicitly, but only latently in the large sample of language."
      ]
    },
    {
      "cell_type": "code",
      "metadata": {
        "id": "30yjFqtTky4w",
        "colab_type": "code",
        "colab": {}
      },
      "source": [
        "from sumy.summarizers.lsa import LsaSummarizer"
      ],
      "execution_count": 0,
      "outputs": []
    },
    {
      "cell_type": "code",
      "metadata": {
        "id": "zyg1iTvklSha",
        "colab_type": "code",
        "colab": {}
      },
      "source": [
        "summarizer_lsa = LsaSummarizer()\n",
        "summary_2 =summarizer_lsa(parser.document,15)"
      ],
      "execution_count": 0,
      "outputs": []
    },
    {
      "cell_type": "code",
      "metadata": {
        "id": "Tjb4lHs5loOV",
        "colab_type": "code",
        "colab": {
          "base_uri": "https://localhost:8080/",
          "height": 292
        },
        "outputId": "5a9759b3-49e2-4387-cab5-428309c3d6f7"
      },
      "source": [
        "for sentence in summary_2:\n",
        "    print(sentence)"
      ],
      "execution_count": 79,
      "outputs": [
        {
          "output_type": "stream",
          "text": [
            "Wuhan was particularly hard-hit, with more than half of all confirmed cases in the country.\n",
            "Based on data from several quarantine facilities in the city, which house patients for further observation after their discharge from hospitals, about 5%-10% of patients pronounced \"recovered\" have tested positive again.\n",
            "NPR has spoken by phone or exchanged text messages with four individuals in Wuhan who are part of this group of individuals testing positive a second time in March.\n",
            "All four said they had been sickened with the virus and tested positive, then were released from medical care in recent weeks after their condition improved and they tested negative.\n",
            "Two of them are front-line doctors who were sickened after treating patients in their Wuhan hospitals.\n",
            "Under its newest COVID-19 prevention guidelines, China does not include in its overall daily count for total and for new cases those who retest positive after being released from medical care.\n",
            "I am baffled,\" said one of the Wuhan doctors who had a second positive test after recovering.\n",
            "On Tuesday, Hubei province, where Wuhan is the capital, said it would relax lockdown measures that have now been in place for more than two months and begin letting residents leave cities the following day.\n",
            "Wuhan said it would begin lifting its quarantine measures and letting residents leave two weeks later, on April 8.\n",
            "Such patients would be included in new daily case counts if they develop symptoms during that time, authorities said.\n",
            "\"Based on available World Health Organization data, new infections are mainly transmitted by patients who have developed symptoms.\n",
            "Wu did not explain how they would identify asymptomatic carriers who had no close contact with confirmed patients.\n",
            "Addressing growing public concern of asymptomatic patients, China's Premier Li Keqiang urged during Thursday's senior-level government meeting that \"relevant departments must ... truthfully, timely, and openly\" answer questions, such as whether these patients are infectious and how the course of the outbreak may change.\n",
            "Studies of patients from Wuhan and other Chinese cities who were diagnosed early in the outbreak suggest that asymptomatic carriers of the virus can infect those they have close contact with, such as family members.\n",
            "\"In terms of those who retested positive, the official party line is that they have not been proven to be infectious.\n"
          ],
          "name": "stdout"
        }
      ]
    },
    {
      "cell_type": "code",
      "metadata": {
        "id": "dICBjNValysR",
        "colab_type": "code",
        "colab": {}
      },
      "source": [
        "## Alternative Method using stopwords\n",
        "from sumy.nlp.stemmers import Stemmer\n",
        "from sumy.utils import get_stop_words\n",
        "summarizer_lsa2 = LsaSummarizer()\n",
        "summarizer_lsa2 = LsaSummarizer(Stemmer(\"english\"))\n",
        "summarizer_lsa2.stop_words = get_stop_words(\"english\")"
      ],
      "execution_count": 0,
      "outputs": []
    },
    {
      "cell_type": "code",
      "metadata": {
        "id": "h4_zcZeFl4Xl",
        "colab_type": "code",
        "colab": {
          "base_uri": "https://localhost:8080/",
          "height": 292
        },
        "outputId": "1b85d7e7-2579-4e29-d8f9-a731473430ca"
      },
      "source": [
        "for sentence in summarizer_lsa2(parser.document,15):\n",
        "    print(sentence)"
      ],
      "execution_count": 81,
      "outputs": [
        {
          "output_type": "stream",
          "text": [
            "A spate of mysterious second-time infections is calling into question the accuracy of COVID-19 diagnostic tools even as China prepares to lift quarantine measures to allow residents to leave the epicenter of its outbreak next month.\n",
            "From March 18-22, the Chinese city of Wuhan reported no new cases of the virus through domestic transmission — that is, infection passed on from one person to another.\n",
            "Some of those who retested positive appear to be asymptomatic carriers — those who carry the virus and are possibly infectious but do not exhibit any of the illness's associated symptoms — suggesting that the outbreak in Wuhan is not close to being over.\n",
            "One of the Wuhan residents who spoke to NPR exhibited severe symptoms during their first round of illness and was eventually hospitalized.\n",
            "The second resident displayed only mild symptoms at first and was quarantined in one of more than a dozen makeshift treatment centers erected in Wuhan during the peak of the outbreak.\n",
            "Under its newest COVID-19 prevention guidelines, China does not include in its overall daily count for total and for new cases those who retest positive after being released from medical care.\n",
            "Dr. Li Wenliang, a whistleblowing doctor who later died of the virus himself in February, tested negative for the coronavirus several times before being accurately diagnosed.\n",
            "In February, Wang Chen, a director at the state-run Chinese Academy of Medical Sciences, estimated that the nucleic acid tests used in China were accurate at identifying positive cases of the coronavirus only 30%-50% of the time.\n",
            "Another theory is that, because the test amplifies tiny bits of DNA, residual virus from the initial infection could have falsely resulted in that second positive reading.\n",
            "\"There are false positives with these types of tests,\" Dr. Jeffrey Shaman, a professor of environmental health sciences at Columbia University, told NPR by email.\n",
            "Shaman recently co-authored a modeling study showing that transmission by individuals who did not exhibit any symptoms was a driver of the Wuhan outbreak.\n",
            "On Tuesday, Hubei province, where Wuhan is the capital, said it would relax lockdown measures that have now been in place for more than two months and begin letting residents leave cities the following day.\n",
            "\"Based on available World Health Organization data, new infections are mainly transmitted by patients who have developed symptoms.\n",
            "A researcher at China's health commission told reporters Tuesday that asymptomatic carriers \"would not cause the spread\" of the virus.\n",
            "Studies of patients from Wuhan and other Chinese cities who were diagnosed early in the outbreak suggest that asymptomatic carriers of the virus can infect those they have close contact with, such as family members.\n"
          ],
          "name": "stdout"
        }
      ]
    },
    {
      "cell_type": "markdown",
      "metadata": {
        "id": "3qLev5wdFA2b",
        "colab_type": "text"
      },
      "source": [
        "**TEXT RANK**\n",
        "\n",
        "It is a graph-based ranking model for text processing which can be used in order to find the most relevant sentences in text and also to find keywords. \n",
        "In order to find the most relevant sentences in text, a graph is constructed where the vertices of the graph represent each sentence in a document and the edges between sentences are based on content overlap, namely by calculating the number of words that 2 sentences have in common.The basic idea implemented by a graph-based ranking model is that of voting or recommendation.\n",
        "When one vertex links to another one, it is basically casting a vote for that vertex. The higher the number of votes cast for a vertex, the higher the importance of that vertex.\n",
        "\n",
        "Based on this network of sentences, the sentences are fed into the Pagerank algorithm which identifies the most important sentences. When we want to extract a summary of the text, we can now take only the most important sentences."
      ]
    },
    {
      "cell_type": "code",
      "metadata": {
        "id": "Wu4Ih5lGGskm",
        "colab_type": "code",
        "colab": {}
      },
      "source": [
        "from sumy.summarizers.text_rank import TextRankSummarizer\n",
        "summarizer_3 = TextRankSummarizer()\n",
        "summary_3 =summarizer_3(parser.document,15)"
      ],
      "execution_count": 0,
      "outputs": []
    },
    {
      "cell_type": "code",
      "metadata": {
        "id": "wHx6Il9fG6Ul",
        "colab_type": "code",
        "colab": {
          "base_uri": "https://localhost:8080/",
          "height": 292
        },
        "outputId": "0ad93a57-b23a-44c4-fa10-926bfef49423"
      },
      "source": [
        "for sentence in summary_3:\n",
        " print(sentence)"
      ],
      "execution_count": 88,
      "outputs": [
        {
          "output_type": "stream",
          "text": [
            "A spate of mysterious second-time infections is calling into question the accuracy of COVID-19 diagnostic tools even as China prepares to lift quarantine measures to allow residents to leave the epicenter of its outbreak next month.\n",
            "From March 18-22, the Chinese city of Wuhan reported no new cases of the virus through domestic transmission — that is, infection passed on from one person to another.\n",
            "But some Wuhan residents who had tested positive earlier and then recovered from the disease are testing positive for the virus a second time.\n",
            "Some of those who retested positive appear to be asymptomatic carriers — those who carry the virus and are possibly infectious but do not exhibit any of the illness's associated symptoms — suggesting that the outbreak in Wuhan is not close to being over.\n",
            "The second resident displayed only mild symptoms at first and was quarantined in one of more than a dozen makeshift treatment centers erected in Wuhan during the peak of the outbreak.\n",
            "But when both were tested a second time for the coronavirus on Sunday, March 22, as a precondition for seeking medical care for unrelated health issues, they tested positive for the coronavirus even though they exhibited none of the typical symptoms, such as a fever or dry cough.\n",
            "It is possible they were first given a false negative test result, which can happen if the swab used to collect samples of the virus misses bits of the virus.\n",
            "In February, Wang Chen, a director at the state-run Chinese Academy of Medical Sciences, estimated that the nucleic acid tests used in China were accurate at identifying positive cases of the coronavirus only 30%-50% of the time.\n",
            "Another theory is that, because the test amplifies tiny bits of DNA, residual virus from the initial infection could have falsely resulted in that second positive reading.\n",
            "Last Thursday, Wuhan reported for the first time since the outbreak began that it had no new cases of the virus from the day before — a milestone in China's virus containment efforts.\n",
            "But Caixin, an independent Chinese news outlet, reported earlier this week that Wuhan hospitals were continuing to see new cases of asymptomatic virus carriers, citing a health official who said he had seen up to a dozen such cases a day.\n",
            "A researcher at China's health commission told reporters Tuesday that asymptomatic carriers \"would not cause the spread\" of the virus.\n",
            "Addressing growing public concern of asymptomatic patients, China's Premier Li Keqiang urged during Thursday's senior-level government meeting that \"relevant departments must ... truthfully, timely, and openly\" answer questions, such as whether these patients are infectious and how the course of the outbreak may change.\n",
            "Studies of patients from Wuhan and other Chinese cities who were diagnosed early in the outbreak suggest that asymptomatic carriers of the virus can infect those they have close contact with, such as family members.\n",
            "That is not the same as saying they are not infectious,\" one of the Wuhan doctors who tested positive twice told NPR.\n"
          ],
          "name": "stdout"
        }
      ]
    },
    {
      "cell_type": "markdown",
      "metadata": {
        "id": "cudnW5KnHSO3",
        "colab_type": "text"
      },
      "source": [
        "**ROGUE METRIC**\n",
        "\n",
        "ROUGE, or Recall-Oriented Understudy for Gisting Evaluation, is a set of metrics and a software package used for evaluating automatic summarization and machine translation software in natural language processing. The metrics compare an automatically produced summary or translation against a reference or a set of references (human-produced) summary or translation.\n",
        "\n",
        "The following five evaluation metrics are available.\n",
        "\n",
        "* ROUGE-N: Overlap of N-grams between the system and reference summaries.\n",
        "* ROUGE-1 refers to the overlap of unigram (each word) between the system and reference summaries.\n",
        "* ROUGE-2 refers to the overlap of bigrams between the system and reference summaries.\n",
        "\n",
        "Generally for summarization evaluation, only ROUGE-1 and ROUGE-2 (sometimes ROUGE-3, if we have really long gold and model summaries) metrics are used, rationale being that as we increase N, we increase the length of the N-gram word phrase that needs to be matched completely in both the gold and model summary.\n",
        "\n",
        "As an example, consider two semantically similar phrases “apples bananas” and “bananas apples”. If we use ROUGE-1 we only consider uni-grams, which are the same for both phrases. But if we use ROUGE-2, we use 2-word phrases, so “apples bananas” become a single entity which is different from “bananas apples”, leading to a “miss” and lower evaluation score.\n",
        "\n",
        "Now we have measured the ROGUE value for the above summarization techniques and the score have been tabulated below.\n",
        "\n",
        "Summarization technique | ROGUE-1 Scores \n",
        "--- | ---\n",
        "Lex Rank | 0.26\n",
        "LUHN | 0.126\n",
        "LSA | 0.211\n",
        "Text Rank | 0.197\n",
        "\n"
      ]
    },
    {
      "cell_type": "markdown",
      "metadata": {
        "id": "e6_9MOpPJvxV",
        "colab_type": "text"
      },
      "source": [
        "**ANALYSIS AND CONCLUSION**\n",
        "\n",
        "LexRank is the winner here as it yields a better ROUGE score. Unfortunately we found the summaries generated by it to be less informative than summaries by TextRank and Luhn’s model. Furthermore, LexRank doesn’t always beat TextRank in the ROUGE score – for example, TextRank performs marginally better than LexRank on some of the text documents I have tested. So the choice between LexRank and TextRank depends on the text document, it’s worth trying both.\n",
        "\n",
        "Another point from the table is that Luhn’s algorithm has a lower ROGUE score. This is because it extracts a longer summary and hence covers more reviews of the product. Unfortunately, we couldn’t make it shorter because the wrapper for Luhn’s algorithm in Sumy doesn’t provide the parameters to change the word limit."
      ]
    }
  ]
}