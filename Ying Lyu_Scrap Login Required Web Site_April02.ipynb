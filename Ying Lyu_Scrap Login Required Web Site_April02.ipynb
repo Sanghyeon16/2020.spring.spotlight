{
 "cells": [
  {
   "cell_type": "markdown",
   "metadata": {},
   "source": [
    "# Scrap Login Required Web Site with Selenium\n",
    "#### CSCE 670 - Ying Lyu\n",
    "## Introdution\n",
    "\n",
    "In development, Selenium is widely used as a portable framework for testing web applications.\n",
    "\n",
    "Selenium Python bindings provides a simple API to write functional/acceptance tests using Selenium WebDriver. Through Selenium Python API you can access all functionalities of Selenium WebDriver in an intuitive way.\n",
    "\n",
    "Selenium Python bindings provide a convenient API to access Selenium WebDrivers like Firefox, Ie, Chrome, Remote etc. The current supported Python versions are 2.7, 3.5 and above.\n",
    "\n",
    "In information retrieval field, we can utilize Selenium Python to overcome obstacles in the scraping process.\n",
    "## Installation\n",
    "Type the following command in Unix/Linux Terminal or Windows cmd."
   ]
  },
  {
   "cell_type": "code",
   "execution_count": 45,
   "metadata": {},
   "outputs": [
    {
     "name": "stdout",
     "output_type": "stream",
     "text": [
      "Requirement already satisfied: selenium in /Users/lyuying/opt/anaconda3/envs/cs670/lib/python3.7/site-packages (3.141.0)\n",
      "Requirement already satisfied: urllib3 in /Users/lyuying/opt/anaconda3/envs/cs670/lib/python3.7/site-packages (from selenium) (1.25.8)\n",
      "Note: you may need to restart the kernel to use updated packages.\n"
     ]
    }
   ],
   "source": [
    "pip install selenium  "
   ]
  },
  {
   "cell_type": "markdown",
   "metadata": {},
   "source": [
    "Or download from https://pypi.org/project/selenium/#downloads"
   ]
  },
  {
   "cell_type": "code",
   "execution_count": 41,
   "metadata": {},
   "outputs": [],
   "source": [
    "import selenium"
   ]
  },
  {
   "cell_type": "markdown",
   "metadata": {},
   "source": [
    "## Drivers for Browser\n",
    "Selenium requires a driver to interface with the chosen browser. Firefox, for example, requires geckodriver, which needs to be installed before the below examples can be run. Make sure it’s in your PATH, e. g., place it in /usr/bin or /usr/local/bin.\n",
    "\n",
    "Failure to observe this step will give you an error selenium.common.exceptions.WebDriverException: Message: ‘geckodriver’ executable needs to be in PATH.\n",
    "\n",
    "Other supported browsers will have their own drivers available. Links to some of the more popular browser drivers follow.\n",
    "\n",
    "Chrome:\thttps://sites.google.com/a/chromium.org/chromedriver/downloads  \n",
    "Edge:\thttps://developer.microsoft.com/en-us/microsoft-edge/tools/webdriver/  \n",
    "Firefox:\thttps://github.com/mozilla/geckodriver/releases  \n",
    "Safari:\thttps://webkit.org/blog/6900/webdriver-support-in-safari-10/  "
   ]
  },
  {
   "cell_type": "code",
   "execution_count": 42,
   "metadata": {},
   "outputs": [],
   "source": [
    "from selenium import webdriver"
   ]
  },
  {
   "cell_type": "markdown",
   "metadata": {},
   "source": [
    "Use Chrome as an example. Notice that you need to have the brower application installed in your computer. Download the corresponding version of driver from the above links."
   ]
  },
  {
   "cell_type": "code",
   "execution_count": 43,
   "metadata": {},
   "outputs": [],
   "source": [
    "driver = webdriver.Chrome()\n",
    "driver.get(\"https://www.ventureradar.com/\")"
   ]
  },
  {
   "cell_type": "markdown",
   "metadata": {},
   "source": [
    "You will see the a new Chrome window is launched and the target webpage is opened."
   ]
  },
  {
   "cell_type": "code",
   "execution_count": 44,
   "metadata": {},
   "outputs": [],
   "source": [
    " driver.close()"
   ]
  },
  {
   "cell_type": "markdown",
   "metadata": {},
   "source": [
    "## Example \n",
    "\n",
    "To scrap content from some websites, we need to log in at first. For the webpage with Ajax techniques, we need to mimic user action on the web page to login or click a button. In this spotlight, I will use VentureRadar, an informative website, as an example and scrap the content from it.\n",
    "### VentureRadar \n",
    "VentureRadar provides a ranking of corporations for a given keyword.\n",
    "It works for some of the World’s largest corporations, removing the barriers they traditionally face in discovering and tracking companies that can impact their business. From landscaping emerging technology themes to locating specialist skills that can solve internal business challenges, our clients rely on us to help them find partners, competitors, acquisition targets, investment targets and understand markets."
   ]
  },
  {
   "cell_type": "code",
   "execution_count": 50,
   "metadata": {},
   "outputs": [],
   "source": [
    "import requests\n",
    "from bs4 import BeautifulSoup\n",
    "url = 'https://www.ventureradar.com/database/'\n",
    "r = requests.get(url)\n",
    "html_doc = r.text\n",
    "soup = BeautifulSoup(html_doc, 'html.parser')"
   ]
  },
  {
   "cell_type": "markdown",
   "metadata": {},
   "source": [
    "Use reqests and BeautifulSoup package to check the element and function of login."
   ]
  },
  {
   "cell_type": "code",
   "execution_count": 51,
   "metadata": {},
   "outputs": [
    {
     "name": "stdout",
     "output_type": "stream",
     "text": [
      "<div class=\"navbar-form navbar-right col-md-3\" id=\"i_d_LoginButtons\" role=\"search\">\n",
      "<input id=\"i_h_UserID\" name=\"i_h_UserID\" type=\"hidden\"/>\n",
      "<input id=\"i_h_SearchKeyword\" name=\"i_h_SearchKeyword\" type=\"hidden\"/>\n",
      "<div id=\"i_d_loginregistercontainerparent\" style=\"\">\n",
      "<button class=\"btn btn-default\" id=\"i_b_Login\" onclick=\"toggleLogin();\" type=\"button\">login</button>\n",
      "<button class=\"btn btn-default\" id=\"i_b_Register\" onclick=\"toggleRegister();\" type=\"button\">free sign-up</button>\n",
      "</div>\n",
      "<div id=\"i_d_logincontainer\">\n",
      "<div id=\"i_d_login\" style=\"display: none;\">\n",
      "<div id=\"loginCookiesEnabled\">\n",
      "<p>\n",
      "</p>\n",
      "<div style=\"margin-bottom: 10px\">\n",
      "<div id=\"i_d_Login_Message\"></div>\n",
      "<div>\n",
      "<input id=\"UserName\" name=\"UserName\" placeholder=\"Email address\" type=\"text\"/>\n",
      "<div class=\"formErrorsContainer\">\n",
      "</div>\n",
      "</div>\n",
      "</div>\n",
      "<div style=\"margin-bottom: 10px\">\n",
      "<div>\n",
      "<input id=\"Password\" name=\"Password\" placeholder=\"Password\" type=\"password\"/>\n",
      "<div class=\"formErrorsContainer\">\n",
      "</div>\n",
      "<div class=\"help-block text-right\"><a href=\"/account/forgotpassword.aspx\">Forgotten your password?</a></div>\n",
      "</div>\n",
      "</div>\n",
      "<div style=\"margin-bottom: 10px\">\n",
      "<div>\n",
      "<input class=\"btn btn-default btn-block\" name=\"ctl01\" onclick='javascript:WebForm_DoPostBackWithOptions(new WebForm_PostBackOptions(\"ctl01\", \"\", true, \"Login\", \"\", false, false))' type=\"submit\" value=\"Login\"/>\n",
      "</div>\n",
      "</div>\n",
      "<div>\n",
      "<div>\n",
      "<a href=\"#\" onclick=\"handleProviderLogin('LinkedIn');\">\n",
      "<div alt=\"Sign in with LinkedIn\" class=\"sprite sprite-SignIn-LinkedIn-Default\" style=\"width: 100%;\"> </div>\n",
      "</a>\n",
      "</div>\n",
      "</div>\n",
      "<div>\n",
      "<span id=\"policyAgreementsTop\" style=\"margin-top: 10px !important;\">\r\n",
      "                                        By continuing, you agree to VentureRadar's <a href=\"/termsconditions.aspx\" target=\"_blank\">Terms of Service</a>, <a href=\"/privacypolicy.aspx\" target=\"_blank\">Privacy Policy</a> and <a href=\"/cookiepolicy.aspx\" target=\"_blank\">Cookie Policy</a>.\r\n",
      "                                    </span>\n",
      "</div>\n",
      "</div>\n",
      "</div>\n",
      "</div>\n",
      "</div>\n"
     ]
    }
   ],
   "source": [
    "login_div = soup.find(\"div\", {\"id\": \"i_d_LoginButtons\"})\n",
    "print(login_div)"
   ]
  },
  {
   "cell_type": "markdown",
   "metadata": {},
   "source": [
    "Login action calls for javascript function which cannot be achieved by passing key-value pairs in post request."
   ]
  },
  {
   "cell_type": "markdown",
   "metadata": {},
   "source": [
    "We can use Selenium IDE, an integrated development environment that can record your interactions with websites to help you generate and maintain site automation, tests, and remove the need to manually step through repetitive takes.    \n",
    "The Chrome Extension version:  \n",
    "https://chrome.google.com/webstore/detail/selenium-ide/mooikfkahbdckldjjndioackbalphokd?hl=en  \n",
    "The Firefox ADD-ON version:  \n",
    "https://addons.mozilla.org/en-US/firefox/addon/selenium-ide/"
   ]
  },
  {
   "cell_type": "markdown",
   "metadata": {},
   "source": [
    "Run the Selenium IDE and record the interaction to login."
   ]
  },
  {
   "cell_type": "markdown",
   "metadata": {},
   "source": [
    "![title](img/login_export.png)"
   ]
  },
  {
   "cell_type": "markdown",
   "metadata": {},
   "source": [
    "The interaction can be exported to python script with Selenium Python API as shown in the following snippet."
   ]
  },
  {
   "cell_type": "code",
   "execution_count": null,
   "metadata": {},
   "outputs": [],
   "source": [
    "# Generated by Selenium IDE\n",
    "import pytest\n",
    "import time\n",
    "import json\n",
    "from selenium import webdriver\n",
    "from selenium.webdriver.common.by import By\n",
    "from selenium.webdriver.common.action_chains import ActionChains\n",
    "from selenium.webdriver.support import expected_conditions\n",
    "from selenium.webdriver.support.wait import WebDriverWait\n",
    "from selenium.webdriver.common.keys import Keys\n",
    "from selenium.webdriver.common.desired_capabilities import DesiredCapabilities\n",
    "\n",
    "class TestLogin():\n",
    "    def setup_method(self, method):\n",
    "        self.driver = webdriver.Chrome()\n",
    "        self.vars = {}\n",
    "\n",
    "    def teardown_method(self, method):\n",
    "        self.driver.quit()\n",
    "\n",
    "    def test_login(self):\n",
    "        # Test name: login\n",
    "        # Step # | name | target | value\n",
    "        # 1 | open | /database/?override=true | \n",
    "        self.driver.get(\"https://www.ventureradar.com/database/?override=true\")\n",
    "        # 2 | setWindowSize | 1326x801 | \n",
    "        self.driver.set_window_size(1326, 801)\n",
    "        # 3 | click | id=i_b_Login | \n",
    "        self.driver.find_element(By.ID, \"i_b_Login\").click()\n",
    "        # 4 | click | id=UserName | \n",
    "        self.driver.find_element(By.ID, \"UserName\").click()\n",
    "        # 5 | type | id=UserName | lyuying@bupt.edu.cn\n",
    "        self.driver.find_element(By.ID, \"UserName\").send_keys(\"lyuying@bupt.edu.cn\")\n",
    "        # 6 | type | id=Password | ventureradar\n",
    "        self.driver.find_element(By.ID, \"Password\").send_keys(\"ventureradar\")\n",
    "        # 7 | click | name=ctl01 | \n",
    "        self.driver.find_element(By.NAME, \"ctl01\").click()"
   ]
  },
  {
   "cell_type": "markdown",
   "metadata": {},
   "source": [
    "Extract and run the codes that we need."
   ]
  },
  {
   "cell_type": "code",
   "execution_count": 52,
   "metadata": {},
   "outputs": [],
   "source": [
    "driver = webdriver.Chrome()\n",
    "driver.get(\"https://www.ventureradar.com/database/\")\n",
    "driver.find_element_by_id(\"i_b_Login\").click()\n",
    "driver.find_element_by_id(\"UserName\").click()\n",
    "driver.find_element_by_id(\"UserName\").clear()\n",
    "driver.find_element_by_id(\"UserName\").send_keys('lyuying@bupt.edu.cn')\n",
    "driver.find_element_by_id(\"Password\").send_keys('ventureradar')\n",
    "driver.find_element_by_name(\"ctl01\").click()"
   ]
  },
  {
   "cell_type": "markdown",
   "metadata": {},
   "source": [
    "The username and password were typed in the fields and the login button was clicked automatically."
   ]
  },
  {
   "cell_type": "code",
   "execution_count": 53,
   "metadata": {},
   "outputs": [
    {
     "name": "stdout",
     "output_type": "stream",
     "text": [
      "https://www.ventureradar.com/home\n"
     ]
    }
   ],
   "source": [
    "print(driver.current_url)"
   ]
  },
  {
   "cell_type": "markdown",
   "metadata": {},
   "source": [
    "Redirect to home page with login information."
   ]
  },
  {
   "cell_type": "code",
   "execution_count": 56,
   "metadata": {},
   "outputs": [],
   "source": [
    "search_key = \"animation\"\n",
    "driver.get(\"https://www.ventureradar.com/search/ranked/\" + search_key + '/')"
   ]
  },
  {
   "cell_type": "markdown",
   "metadata": {},
   "source": [
    "In the web page we get a ranking list of organizations for keyword \"animation\". There is a link for each organization with more detailed information. So we extract all the links from the html."
   ]
  },
  {
   "cell_type": "code",
   "execution_count": 62,
   "metadata": {},
   "outputs": [
    {
     "name": "stdout",
     "output_type": "stream",
     "text": [
      "['/styles/v-637151127063009095/core-bundle.min.css', '/styles/v-637182206846152958/s_search.min.css', 'https://use.fontawesome.com/4c66a74dd9.css', 'https://www.ventureradar.com/home', '/pricing?utm_source=menu&amp;utm_medium=web&amp;utm_content=Upgrade', '/account/manage.aspx', '#', '/account/forgotpassword.aspx', '#', '/termsconditions.aspx', '/privacypolicy.aspx', '/cookiepolicy.aspx', '/organisation/Fiverr/6ffeccbb-8b37-442b-828d-c1cd136ac73b/', '{lnk}', '{lnk}', \"/source/Wired - Europe's 100 Hottest Startups/7168ecdf-ffff-4e86-871d-f3c26dbf8725\", '/organisation/Wideo/4f791a19-3986-4b87-bf3a-61027a68e384/', '{lnk}', '{lnk}', '/source/500startups/4aa7c8b6-3efc-4ee3-83d3-55bb7c5038da', '/organisation/PowToon/b4d469d1-9d12-430f-b934-fabc59e251cd/', '{lnk}', '{lnk}', '/organisation/Autodesk/072387ba-01f3-47bd-901d-d74086a034f5/', '{lnk}', '{lnk}', '/source/3D Printing Industry Directory/0ac53536-74ee-46d2-b082-7b7b9f36589e', '/organisation/Animaker/c4434cab-5e03-4946-a1f4-8d090d116cb4/', '{lnk}', '{lnk}', '/source/Betalist/2d37f5fd-b03d-47e5-880d-9b1cb75371fc', '/organisation/Blender/12e24263-2cc3-4f7f-8c57-5630d14f1d31/', '{lnk}', '{lnk}', '/source/Dexigner Directory/444fb45b-841a-467e-928b-f36271cfdc73', '/organisation/Furhat Robotics/c010cc3a-fcd1-4e89-9515-8df0392dc419/', '{lnk}', '{lnk}', '/organisation/Moovly/4ae56488-3387-4415-a3bc-bdae72651d6c/', '{lnk}', '{lnk}', '/source/Wikipedia/5e0ae66d-007a-4313-9053-0fd39dc75b70', '/organisation/Anthropics/789d722b-2e96-4a83-aefa-ee77f1daf1c8/', '{lnk}', '{lnk}', '/source/AlbionVC/898ecd53-8fa5-4191-b0fb-951330b34f3a', '/organisation/YellowDog /439ac226-7b55-4850-af1c-324185da12f7/', '{lnk}', '{lnk}', '/source/OFF3R - Crowdfunding Data/d2965206-775c-4d38-930e-56b28f018296', '/organisation/Renderforest/72b83dd4-027f-44e0-805d-2d4c46d2b80a/', '{lnk}', '{lnk}', '/source/Web Summit/89d15c9d-f7bd-41cc-beb2-b94bda70646d', '/organisation/Artomatix/e49f745b-3080-4546-acc6-93f1d5b8ad06/', '{lnk}', '{lnk}', '/source/NDCR/5a8d823f-470f-4c59-a32c-bc089d96e559', '/organisation/Rokoko/5d7f52fb-04b7-4b7e-be69-538c1eb9e76a/', '{lnk}', '{lnk}', '/source/Vaekstfonden (VF Venture)/928d934c-81fb-416d-a4a6-af1c026103e8', '/organisation/The Walt Disney Company/f7ab4ba9-d3be-480d-aeb2-400429e5bc2c/', '{lnk}', '{lnk}', '/source/Wikipedia/5e0ae66d-007a-4313-9053-0fd39dc75b70', '/organisation/Cinesite/bb0b1fff-bc0e-46ec-951e-6b405e15b545/', '{lnk}', '{lnk}', '/source/International Track 200 (2018)/c2728253-62e0-44e1-bb5b-d29c0ae29220', '/organisation/Campfire/3e7c226a-23a6-4856-a587-5aac64e6d4b5/', '{lnk}', '{lnk}', '/source/Techstars/ea3f63f4-6275-4b4d-8193-8372ae5b86a8', '/organisation/Jellyvision Lab, Inc_[dot]_, The/c623ca01-6114-4c4a-80fc-84f7416df946/', '{lnk}', '{lnk}', '/organisation/Reallusion/eebe5fdd-aa4e-49e1-8007-2b001d6cd870/', '{lnk}', '{lnk}', '/source/Wikipedia/5e0ae66d-007a-4313-9053-0fd39dc75b70', '/organisation/Holotech Studios/d41eae1d-afdf-4ae6-a24c-8e8c4fc1c756/', '{lnk}', '{lnk}', '/source/Venture-funding News/6c8192f4-0ee9-4458-b840-12f82758b8a5', '/organisation/Animoca Brands Corporation Limited/3a16da7f-a732-4286-a29c-001e56036e96/', '{lnk}', '{lnk}', '/source/Intel Capital/6988adc9-4355-40de-bf87-cc670005fa01', '/organisation/Toon Boom/a5ed0314-e8bb-4662-b913-3b998b9d005b/', '{lnk}', '{lnk}', '/source/Dexigner Directory/444fb45b-841a-467e-928b-f36271cfdc73', '/organisation/Visage Technologies/e4e4b5d1-0e95-4527-bc64-984f93494411/', '{lnk}', '{lnk}', '/organisation/Mixamo, Inc/4202077e-03b2-497a-86f9-6d0a0ebd2e0d/', '{lnk}', '{lnk}', '/organisation/Visme/0d79abab-1aa3-4993-a93a-ef692ebf4e9b/', '{lnk}', '{lnk}', '/source/Betalist/2d37f5fd-b03d-47e5-880d-9b1cb75371fc', '/organisation/Soul Machines/0370aece-ea84-47f4-8527-9d86155b986b/', '{lnk}', '{lnk}', '/source/Venture-funding News/6c8192f4-0ee9-4458-b840-12f82758b8a5', '/organisation/Fiverr/6ffeccbb-8b37-442b-828d-c1cd136ac73b/', '/organisation/Fiverr/6ffeccbb-8b37-442b-828d-c1cd136ac73b/', 'http://Fiverr.com', '/organisation/Fiverr/6ffeccbb-8b37-442b-828d-c1cd136ac73b', '/organisation/Wideo/4f791a19-3986-4b87-bf3a-61027a68e384', '/organisation/PowToon/b4d469d1-9d12-430f-b934-fabc59e251cd', '/organisation/Autodesk/072387ba-01f3-47bd-901d-d74086a034f5', '/organisation/Animaker/c4434cab-5e03-4946-a1f4-8d090d116cb4', '/organisation/Blender/12e24263-2cc3-4f7f-8c57-5630d14f1d31', '/organisation/Furhat Robotics/c010cc3a-fcd1-4e89-9515-8df0392dc419', '/organisation/Moovly/4ae56488-3387-4415-a3bc-bdae72651d6c', '/organisation/Anthropics/789d722b-2e96-4a83-aefa-ee77f1daf1c8', '/organisation/YellowDog /439ac226-7b55-4850-af1c-324185da12f7', '/organisation/Renderforest/72b83dd4-027f-44e0-805d-2d4c46d2b80a', '/organisation/Artomatix/e49f745b-3080-4546-acc6-93f1d5b8ad06', '/organisation/Rokoko/5d7f52fb-04b7-4b7e-be69-538c1eb9e76a', '/organisation/The Walt Disney Company/f7ab4ba9-d3be-480d-aeb2-400429e5bc2c', '/organisation/Cinesite/bb0b1fff-bc0e-46ec-951e-6b405e15b545', '/organisation/Campfire/3e7c226a-23a6-4856-a587-5aac64e6d4b5', '/organisation/Jellyvision Lab, Inc_[dot]_, The/c623ca01-6114-4c4a-80fc-84f7416df946', '/organisation/Reallusion/eebe5fdd-aa4e-49e1-8007-2b001d6cd870', '/organisation/Holotech Studios/d41eae1d-afdf-4ae6-a24c-8e8c4fc1c756', '/organisation/Animoca Brands Corporation Limited/3a16da7f-a732-4286-a29c-001e56036e96', '/organisation/Toon Boom/a5ed0314-e8bb-4662-b913-3b998b9d005b', '/organisation/Visage Technologies/e4e4b5d1-0e95-4527-bc64-984f93494411', '/organisation/Mixamo, Inc/4202077e-03b2-497a-86f9-6d0a0ebd2e0d', '/organisation/Visme/0d79abab-1aa3-4993-a93a-ef692ebf4e9b', '/organisation/Soul Machines/0370aece-ea84-47f4-8527-9d86155b986b', '{CompanyLink}', '/pricing?utm_source=search&amp;utm_medium=web&amp;utm_content=ResultsTable', '/organisation/Fiverr/6ffeccbb-8b37-442b-828d-c1cd136ac73b/', '/organisation/Fiverr/6ffeccbb-8b37-442b-828d-c1cd136ac73b/', 'http://Fiverr.com', '/pricing?utm_source=search&amp;utm_medium=web&amp;utm_content=Sidebar', '#RelatedSearches', '#RelatedSearches', '#RelatedSearches', '#RelatedSearches', '#RelatedSearches', '#RelatedSearches', '#RelatedSearches', '#RelatedSearches', '#RelatedSearches', '#RelatedSearches', '#RelatedSearches', '#RelatedSearches', '#RelatedSearches', '#RelatedSearches', '#RelatedSearches', '#', '#', '#', '#', '#', '#', '#', 'https://about.ventureradar.com/search-services-2/?utm_source=VR&amp;utm_medium=Website&amp;utm_campaign=SearchMessage', 'https://www.ventureradar.com/add_company/?utm_source=VR&amp;utm_medium=Website&amp;utm_campaign=SearchMessage', '/organisation/Fiverr/6ffeccbb-8b37-442b-828d-c1cd136ac73b', '/organisation/Wideo/4f791a19-3986-4b87-bf3a-61027a68e384', '/organisation/PowToon/b4d469d1-9d12-430f-b934-fabc59e251cd', '/organisation/Autodesk/072387ba-01f3-47bd-901d-d74086a034f5', '/organisation/Animaker/c4434cab-5e03-4946-a1f4-8d090d116cb4', '/organisation/Blender/12e24263-2cc3-4f7f-8c57-5630d14f1d31', '/organisation/Furhat Robotics/c010cc3a-fcd1-4e89-9515-8df0392dc419', '/organisation/Moovly/4ae56488-3387-4415-a3bc-bdae72651d6c', '/organisation/Anthropics/789d722b-2e96-4a83-aefa-ee77f1daf1c8', '/organisation/YellowDog /439ac226-7b55-4850-af1c-324185da12f7', '/organisation/Renderforest/72b83dd4-027f-44e0-805d-2d4c46d2b80a', '/organisation/Artomatix/e49f745b-3080-4546-acc6-93f1d5b8ad06', '/organisation/Rokoko/5d7f52fb-04b7-4b7e-be69-538c1eb9e76a', '/organisation/The Walt Disney Company/f7ab4ba9-d3be-480d-aeb2-400429e5bc2c', '/organisation/Cinesite/bb0b1fff-bc0e-46ec-951e-6b405e15b545', '/organisation/Campfire/3e7c226a-23a6-4856-a587-5aac64e6d4b5', '/organisation/Jellyvision Lab, Inc_[dot]_, The/c623ca01-6114-4c4a-80fc-84f7416df946', '/organisation/Reallusion/eebe5fdd-aa4e-49e1-8007-2b001d6cd870', '/organisation/Holotech Studios/d41eae1d-afdf-4ae6-a24c-8e8c4fc1c756', '/organisation/Animoca Brands Corporation Limited/3a16da7f-a732-4286-a29c-001e56036e96', '/organisation/Toon Boom/a5ed0314-e8bb-4662-b913-3b998b9d005b', '/organisation/Visage Technologies/e4e4b5d1-0e95-4527-bc64-984f93494411', '/organisation/Mixamo, Inc/4202077e-03b2-497a-86f9-6d0a0ebd2e0d', '/organisation/Visme/0d79abab-1aa3-4993-a93a-ef692ebf4e9b', '/organisation/Soul Machines/0370aece-ea84-47f4-8527-9d86155b986b', '{CompanyLink}', '/pricing?utm_source=search&amp;utm_medium=web&amp;utm_content=ResultsTable', '{lnk}', '{lnk}', '/organisation/{cne}/{ci}/', '/organisation/{cne}/{ci}/', '{cw}', '/pricing?utm_source=search&amp;utm_medium=web&amp;utm_content=Sidebar', '/organisation/{cne}/{ci}/', '/organisation/{cne}/{ci}/', '{cw}', '/pricing?utm_source=search&amp;utm_medium=web&amp;utm_content=Popup', '/pricing?utm_source=search&amp;utm_medium=web&amp;utm_content=Popup', 'mailto:info@ventureradar.com?subject=Export%20Error', '/pricing?utm_source=search&amp;utm_medium=web&amp;utm_content=ExportPopup', '/pricing?utm_source=keywords&amp;utm_medium=web&amp;utm_content=Popup', 'https://about.ventureradar.com/?utm_source=VR&amp;utm_medium=Website&amp;utm_campaign=WebsiteCT', '/termsconditions.aspx', '/privacypolicy.aspx', '/cookiepolicy.aspx', 'https://about.ventureradar.com/contact-us/?utm_source=VR&amp;utm_medium=Website&amp;utm_campaign=WebsiteCT', 'https://twitter.com/venture_radar', 'https://www.linkedin.com/company/ventureradar/', '/add_company', '/directory/companies', '/', '/termsconditions.aspx', '/privacypolicy.aspx', '/cookiepolicy.aspx']\n"
     ]
    }
   ],
   "source": [
    "html = driver.page_source \n",
    "url_all = re.findall('href=\\\"(.*?)\\\"',html,re.S)\n",
    "print(url_all)"
   ]
  },
  {
   "cell_type": "markdown",
   "metadata": {},
   "source": [
    "Select the organization url that we want from all the urls."
   ]
  },
  {
   "cell_type": "code",
   "execution_count": 64,
   "metadata": {
    "scrolled": true
   },
   "outputs": [
    {
     "name": "stdout",
     "output_type": "stream",
     "text": [
      "https://www.ventureradar.com/organisation/Fiverr/6ffeccbb-8b37-442b-828d-c1cd136ac73b/\n",
      "https://www.ventureradar.com/organisation/Wideo/4f791a19-3986-4b87-bf3a-61027a68e384/\n",
      "https://www.ventureradar.com/organisation/PowToon/b4d469d1-9d12-430f-b934-fabc59e251cd/\n",
      "https://www.ventureradar.com/organisation/Autodesk/072387ba-01f3-47bd-901d-d74086a034f5/\n",
      "https://www.ventureradar.com/organisation/Animaker/c4434cab-5e03-4946-a1f4-8d090d116cb4/\n",
      "https://www.ventureradar.com/organisation/Blender/12e24263-2cc3-4f7f-8c57-5630d14f1d31/\n",
      "https://www.ventureradar.com/organisation/Furhat Robotics/c010cc3a-fcd1-4e89-9515-8df0392dc419/\n",
      "https://www.ventureradar.com/organisation/Moovly/4ae56488-3387-4415-a3bc-bdae72651d6c/\n",
      "https://www.ventureradar.com/organisation/Anthropics/789d722b-2e96-4a83-aefa-ee77f1daf1c8/\n",
      "https://www.ventureradar.com/organisation/YellowDog /439ac226-7b55-4850-af1c-324185da12f7/\n",
      "https://www.ventureradar.com/organisation/Renderforest/72b83dd4-027f-44e0-805d-2d4c46d2b80a/\n",
      "https://www.ventureradar.com/organisation/Artomatix/e49f745b-3080-4546-acc6-93f1d5b8ad06/\n",
      "https://www.ventureradar.com/organisation/Rokoko/5d7f52fb-04b7-4b7e-be69-538c1eb9e76a/\n",
      "https://www.ventureradar.com/organisation/The Walt Disney Company/f7ab4ba9-d3be-480d-aeb2-400429e5bc2c/\n",
      "https://www.ventureradar.com/organisation/Cinesite/bb0b1fff-bc0e-46ec-951e-6b405e15b545/\n",
      "https://www.ventureradar.com/organisation/Campfire/3e7c226a-23a6-4856-a587-5aac64e6d4b5/\n",
      "https://www.ventureradar.com/organisation/Jellyvision Lab, Inc_[dot]_, The/c623ca01-6114-4c4a-80fc-84f7416df946/\n",
      "https://www.ventureradar.com/organisation/Reallusion/eebe5fdd-aa4e-49e1-8007-2b001d6cd870/\n",
      "https://www.ventureradar.com/organisation/Holotech Studios/d41eae1d-afdf-4ae6-a24c-8e8c4fc1c756/\n",
      "https://www.ventureradar.com/organisation/Animoca Brands Corporation Limited/3a16da7f-a732-4286-a29c-001e56036e96/\n",
      "https://www.ventureradar.com/organisation/Toon Boom/a5ed0314-e8bb-4662-b913-3b998b9d005b/\n",
      "https://www.ventureradar.com/organisation/Visage Technologies/e4e4b5d1-0e95-4527-bc64-984f93494411/\n",
      "https://www.ventureradar.com/organisation/Mixamo, Inc/4202077e-03b2-497a-86f9-6d0a0ebd2e0d/\n",
      "https://www.ventureradar.com/organisation/Visme/0d79abab-1aa3-4993-a93a-ef692ebf4e9b/\n",
      "https://www.ventureradar.com/organisation/Soul Machines/0370aece-ea84-47f4-8527-9d86155b986b/\n"
     ]
    }
   ],
   "source": [
    "url_orgs = []\n",
    "num = 0\n",
    "for url in url_all:\n",
    "    if \"organisation\" in url and \"{cne}\" not in url:\n",
    "        num = num + 1\n",
    "        if num > 25:\n",
    "            break\n",
    "        url_org = 'https://www.ventureradar.com' + url\n",
    "        url_orgs.append(url_org)\n",
    "        print (url_org)"
   ]
  },
  {
   "cell_type": "code",
   "execution_count": 75,
   "metadata": {},
   "outputs": [],
   "source": [
    "from time import sleep\n",
    "htmls = []\n",
    "for i in range (25):\n",
    "    driver.get(url_orgs[i])\n",
    "    sleep(1) # wait for the page to be generated\n",
    "    htmls.append(driver.page_source)"
   ]
  },
  {
   "cell_type": "markdown",
   "metadata": {},
   "source": [
    "The view of the page is as follows.\n",
    "![title](img/venture.png)"
   ]
  },
  {
   "cell_type": "markdown",
   "metadata": {},
   "source": [
    "Pre-define some key-value pairs for tags in html."
   ]
  },
  {
   "cell_type": "code",
   "execution_count": 79,
   "metadata": {},
   "outputs": [],
   "source": [
    "id_data = ['i_d_CompanyName','main_i_s_CompanyCountry','main_i_s_CompanyFounded',\n",
    "    'main_i_s_CompanyType','i_d_CompanyDescription',\n",
    "    'i_d_CompanyWebsiteLink','i_l_CompanyEmailLink','i_d_OverallScore_Detail',\n",
    "    'main_i_s_SocialProofScore','main_i_s_WebsitePopularityScore',\n",
    "    'main_i_s_WebsiteAutoAnalystScore','main_i_s_VRPopularityScore',\n",
    "    'i_d_EmployeeSatisfaction_Overall_Bar','i_d_EmployeeSatisfaction_Recommend_Bar',\n",
    "    'i_d_Glassdoor_CEO_Bar',#'i_d_WebsiteHealth_ScoreBox_Child',\n",
    "    'i_d_VRPopularity_HeatMapRow_Low',\n",
    "    'i_d_VRPopularity_HeatMapRow_Med','i_d_VRPopularity_HeatMapRow_High']  \n",
    "\n",
    "id_herf = ['i_d_CompanyLinkedInLink','i_l_CompanyTeamLink',\n",
    "    'i_d_CompanyTwitterLink','i_l_WikipediaLink']\n",
    "    \n",
    "mapHit_class = {\"map1 mapHit\":\"1\",\"map2 mapHit\":\"2\",\"map3 mapHit\":\"3\",\n",
    "    \"map4 mapHit\":\"4\",\"map5 mapHit\":\"5\",\"map6 mapHit\":\"6\",\"map7 mapHit\":\"7\",\n",
    "    \"map8 mapHit\":\"8\",\"map9 mapHit\":\"9\",\"map10 mapHit\":\"10\"}#Website Popularity\n",
    "\n",
    "updates = [\"c_d_InsightCard_Inner c_d_InsightCard_Conference\", \"c_d_InsightCard_Inner c_d_InsightCard_Award\", \"c_d_InsightCard_Inner c_d_InsightCard_Equity-Funding\", \"c_d_InsightCard_Inner c_d_InsightCard_Research-Report\", \"c_d_InsightCard_Inner c_d_InsightCard_Startup-PitchingCompetition\", \"c_d_InsightCard_Inner c_d_InsightCard_Business-Insight\", \"c_d_InsightCard_Inner c_d_InsightCard_Grant\"]\n",
    "    \n",
    "fund_class = {\"sprite-profile sprite-profile-crowd-funded-30\":\"EQUITY CROWDFUNDED\",\n",
    "    \"sprite-profile sprite-profile-government-grant-30\":\"GOVERNMENT GRANT\",\n",
    "    \"sprite-profile sprite-profile-spin-off-30\":\"SPIN-OFF\",\n",
    "    \"sprite-profile sprite-profile-venture-funded-30\":\"VENTURE FUNDED\"\n",
    "    }\n",
    "\n",
    "target_website = {'i_d_CompanyLinkedInLink':'https://www.linkedin.com/company',\n",
    "    'i_l_CompanyTeamLink':'www.linkedin.com/search/',\n",
    "    'i_d_CompanyTwitterLink':'www.twitter.com/',\n",
    "    'i_l_WikipediaLink':'en.wikipedia.org/'}\n",
    "\n",
    "\n",
    "id_name = {'i_d_CompanyName':'Name',\n",
    "    'main_i_s_CompanyCountry':'Location',\n",
    "    'main_i_s_CompanyFounded':'Founded year',\n",
    "    'main_i_s_CompanyType':'Type',\n",
    "    'i_d_CompanyDescription':'Description',\n",
    "    'i_d_CompanyWebsiteLink':'Website',\n",
    "    'i_l_CompanyEmailLink':'Email',\n",
    "    'i_d_OverallScore_Detail':'VentureRadar Score',\n",
    "    'main_i_s_SocialProofScore':'Social Proof',#Scores\n",
    "    'main_i_s_WebsitePopularityScore':'Website Traffic',#Scores\n",
    "    'main_i_s_WebsiteAutoAnalystScore':'Auto Analyst Score',#Scores\n",
    "    'main_i_s_VRPopularityScore':'Popularity on VentureRadar',#Scores\n",
    "    #Website Popularity Trend\n",
    "    'i_d_EmployeeSatisfaction_Overall_Bar':'Overall Employee Rating',\n",
    "    'i_d_EmployeeSatisfaction_Recommend_Bar':'Recommend to a Friend',\n",
    "    'i_d_Glassdoor_CEO_Bar':'Approval of CEO ',\n",
    "    #<div id=\"i_d_VRPopularity_HeatMapRow_High\" class=\"mapHit map10\">High</div>\n",
    "    'main_alexaHeatMapRow':'Website Popularity',\n",
    "    #'i_d_WebsiteHealth_ScoreBox_Child':'Auto Analyst Score 2', \n",
    "    #1/10 of 'main_i_s_WebsiteAutoAnalystScore'\n",
    "    'i_d_VRPopularity_HeatMapRow_Low':'VentureRadar Popularity',\n",
    "    'i_d_VRPopularity_HeatMapRow_Med':'VentureRadar Popularity',\n",
    "    'i_d_VRPopularity_HeatMapRow_High':'VentureRadar Popularity',\n",
    "    'i_d_CompanyLinkedInLink':'LinkedIn Profile',\n",
    "    'i_l_CompanyTeamLink':'View Team on LinkedIn',\n",
    "    'i_d_CompanyTwitterLink':'Twitter',\n",
    "    'i_l_WikipediaLink':'Wikipedia Page'\n",
    "    \n",
    "    }"
   ]
  },
  {
   "cell_type": "markdown",
   "metadata": {},
   "source": [
    "Build HTMLParser for scraping."
   ]
  },
  {
   "cell_type": "code",
   "execution_count": 87,
   "metadata": {},
   "outputs": [],
   "source": [
    "from html.parser import HTMLParser\n",
    "class TargetHTMLParser(HTMLParser):\n",
    "    def __init__(self):\n",
    "        HTMLParser.__init__(self)\n",
    "        self.website = target_website   #temp pattern\n",
    "        self.flag = 0               # self.flag = 1 target id, self.flag = 2 keyword id\n",
    "                                    #self.flag = 3 description self.flag = 4 funding\n",
    "                                    #self.flag = 5 updates \n",
    "        self.gap = 1                # self.gap = 0 in target, self.gap = 1 not in targegt\n",
    "        self.id_data = {} #key:tag_id value:data\n",
    "        self.current_id = ''\n",
    "        self.keyword_dict = {}\n",
    "        self.fund_type = ''\n",
    "        self.href = ''\n",
    "        self.fund_dict = {} # key:fund_organization value:fund_type, href \n",
    "        self.updates_list = [] \n",
    "        self.updates_e = {}\n",
    "        # value:c_d_InsightCard_Title, c_d_InsightCard_Date, c_d_InsightCard_Content, c_d_InsightCard_Source, href \n",
    "    def handle_starttag(self, tag, attrs):\n",
    "        \n",
    "        self.gap = 0\n",
    "        for name,values in attrs:\n",
    "            \n",
    "            if name =='class' and values == \"c_d_TagSources\":\n",
    "                self.flag = 4\n",
    "            elif name == 'id' and values == 'i_d_InsightCardsContents':\n",
    "                self.flag = 5\n",
    "                    \n",
    "            elif name == 'id' and values == \"i_d_CompanyDescription\":\n",
    "                \n",
    "                self.flag = 3\n",
    "                self.current_id = values\n",
    "            elif name =='id' and values in id_data:\n",
    "                self.flag = 1\n",
    "                self.current_id = values\n",
    "            elif tag == 'span'and name =='id' and values == 'i_s_CompanySectors':\n",
    "                self.flag = 2\n",
    "                self.current_id = values\n",
    "            elif name == 'class' and values in fund_class:\n",
    "                self.fund_type = fund_class[values]\n",
    "            elif name == 'class' and values in mapHit_class:#target_class appears in 1-in-3 and 1-in-10, 1-in-10 here\n",
    "                self.id_data['main_alexaHeatMapRow'] = mapHit_class[values]\n",
    "            elif tag == 'div' and name == 'id' and self.flag == 5:\n",
    "                self.current_id = values\n",
    "            elif tag == 'a' and name == 'href' and self.flag == 4:\n",
    "                self.href = values\n",
    "            elif tag == 'a' and name == 'href' and self.flag == 2:\n",
    "                self.href = values\n",
    "            elif tag == 'a' and name == 'href' and self.flag == 5:\n",
    "                self.href = values  \n",
    "            elif tag == 'a' and name == 'href':\n",
    "                for ws_id in self.website:\n",
    "                    if values.count(self.website[ws_id]) > 0:\n",
    "                        self.id_data[ws_id] = values\n",
    "                        del self.website[ws_id]\n",
    "                        break\n",
    "\n",
    "    def handle_endtag(self,tag):\n",
    "        \n",
    "        self.gap = 1\n",
    "        \n",
    "        if (self.flag==2 or self.flag==1) and (tag == 'span' or tag == 'div'):#clear flag with id\n",
    "            self.flag = 0\n",
    "            self.current_id = ''\n",
    "            self.href = ''\n",
    "        elif self.flag == 4 and tag == 'div':\n",
    "            self.flag = 0\n",
    "            self.href = ''\n",
    "            self.current_id = ''\n",
    "        elif self.flag == 5 and tag == 'a':\n",
    "            self.flag = 0\n",
    "            self.href = ''\n",
    "            self.current_id = ''\n",
    "        \n",
    "    def handle_data(self, data):\n",
    "        if self.flag == 1:\n",
    "            empty_line = re.search('^\\n\\s*$', data)\n",
    "            if empty_line == None:\n",
    "                self.id_data[self.current_id] = data\n",
    "        elif self.flag == 2 and self.gap == 0:\n",
    "            self.keyword_dict[data] = self.href\n",
    "        elif self.flag == 3 and self.gap == 1:\n",
    "            self.id_data[self.current_id] = data\n",
    "            self.flag = 0\n",
    "            self.current_id = ''\n",
    "        elif self.flag == 4:\n",
    "            self.fund_dict[data] = (self.fund_type,self.href)\n",
    "        elif self.flag == 5:\n",
    "            pass"
   ]
  },
  {
   "cell_type": "markdown",
   "metadata": {},
   "source": [
    "Scrap information from HTMLs and save them to Excel."
   ]
  },
  {
   "cell_type": "code",
   "execution_count": 88,
   "metadata": {},
   "outputs": [
    {
     "name": "stdout",
     "output_type": "stream",
     "text": [
      "{'i_d_CompanyName': 'Fiverr', 'main_i_s_CompanyCountry': 'USA', 'main_i_s_CompanyFounded': '2010', 'main_i_s_CompanyType': 'Private Company', 'i_d_CompanyDescription': \"Browse. Buy. Done. Fiverr gives you instant access to millions of Gigs from people who love what they do. It's the easiest way for individuals and businesses to get everything done, at unbeatable value. Fiverr is the world's largest marketplace for creative and professional services, currently listing over 3 million Gigs in more than 100 different categories across 196 countries. Fiverr is one of the top 130 websites in the world according to Alexa.com. With a team of 130 people, Fiverr has primary offices in New York, Miami, and Tel Aviv.\", 'i_d_CompanyWebsiteLink': 'http://Fiverr.com', 'i_l_CompanyEmailLink': 'n/a', 'i_d_OverallScore_Detail': '926', 'main_i_s_SocialProofScore': '830', 'main_i_s_WebsitePopularityScore': '997', 'main_i_s_WebsiteAutoAnalystScore': '890', 'main_i_s_VRPopularityScore': '989', 'main_alexaHeatMapRow': '10', 'i_d_VRPopularity_HeatMapRow_High': 'High'}\n",
      "{'i_d_CompanyName': 'Wideo', 'main_i_s_CompanyCountry': 'Argentina', 'main_i_s_CompanyFounded': '2012', 'main_i_s_CompanyType': 'Private Company', 'i_d_CompanyDescription': 'Wideo is a very simple, intuitive online tool that allows anyone to make short animation videos so that they can share their ideas with the world. It´s like a prezi.com to make animated videos.', 'i_d_CompanyWebsiteLink': 'http://wideo.co', 'i_l_CompanyEmailLink': 'n/a', 'i_d_OverallScore_Detail': '887', 'main_i_s_SocialProofScore': '980', 'main_i_s_WebsitePopularityScore': '946', 'main_i_s_WebsiteAutoAnalystScore': '730', 'main_i_s_VRPopularityScore': '891', 'main_alexaHeatMapRow': '9', 'i_d_VRPopularity_HeatMapRow_High': 'High'}\n",
      "{'i_d_CompanyName': 'PowToon', 'main_i_s_CompanyCountry': 'United Kingdom', 'main_i_s_CompanyFounded': '2012', 'main_i_s_CompanyType': 'Private Company', 'i_d_CompanyDescription': 'PowToon is a brand new presentation software that allows anyone to create AWESOME animated presentations. PowToon contains themes of animated characters, props and cool transitions which you can just drag and drop into a slide to create eye catching and fun presentations that can be presented in person, or turned into animated videos at the click of a button.', 'i_d_CompanyWebsiteLink': 'http://www.powtoon.com/', 'i_l_CompanyEmailLink': 'n/a', 'i_d_OverallScore_Detail': '886', 'main_i_s_SocialProofScore': '740', 'main_i_s_WebsitePopularityScore': '984', 'main_i_s_WebsiteAutoAnalystScore': '870', 'main_i_s_VRPopularityScore': '950', 'main_alexaHeatMapRow': '10', 'i_d_VRPopularity_HeatMapRow_High': 'High'}\n",
      "{'i_d_CompanyName': 'Autodesk', 'main_i_s_CompanyCountry': 'USA', 'main_i_s_CompanyFounded': '1982', 'main_i_s_CompanyType': 'Listed Company', 'i_d_CompanyDescription': \"Autodesk, Inc. is an American multinational software corporation that makes software for the architecture, engineering, construction, manufacturing, media, and entertainment industries. Autodesk is headquartered in San Rafael, California, and features a gallery of its customers' work in its San Francisco building. The company has offices worldwide, with U.S. locations in Northern California, Oregon, Colorado, Texas and in New England in New Hampshire and Massachusetts, and Canada locations in Ontario, Quebec, and Alberta.\", 'i_d_CompanyWebsiteLink': 'http://www.autodesk.com', 'i_l_CompanyEmailLink': 'n/a', 'i_d_OverallScore_Detail': '871', 'main_i_s_SocialProofScore': '930', 'main_i_s_WebsitePopularityScore': '995', 'main_i_s_WebsiteAutoAnalystScore': '560', 'main_i_s_VRPopularityScore': '999', 'main_alexaHeatMapRow': '10', 'i_d_VRPopularity_HeatMapRow_High': 'High'}\n",
      "{'i_d_CompanyName': 'Animaker', 'main_i_s_CompanyCountry': 'USA', 'main_i_s_CompanyFounded': '2014', 'main_i_s_CompanyType': 'Private Company', 'i_d_CompanyDescription': 'Animaker is an intelligent video making app which simplifies the process of animated video making and presentation. It is like owning your own animation studio on cloud. Animaker is the first tool to address the growing demand of explainer video making by perfectly address the gap between templated video and videos comes out of studio. It is highly simple, fun and an easy way to craft a video of high quality in less time on budget.', 'i_d_CompanyWebsiteLink': 'http://www.animaker.com/', 'i_l_CompanyEmailLink': 'n/a', 'i_d_OverallScore_Detail': '869', 'main_i_s_SocialProofScore': '670', 'main_i_s_WebsitePopularityScore': '972', 'main_i_s_WebsiteAutoAnalystScore': '930', 'main_i_s_VRPopularityScore': '902', 'main_alexaHeatMapRow': '10', 'i_d_VRPopularity_HeatMapRow_High': 'High'}\n",
      "{'i_d_CompanyName': 'Blender', 'main_i_s_CompanyCountry': 'Israel', 'main_i_s_CompanyFounded': '2014', 'main_i_s_CompanyType': 'Private Company', 'i_d_CompanyDescription': \"BLender provides a multi-national P2P lending service in countries with limited consumer credit information. BLender's lending services comprises of a proprietary credit rating system, Rating™, investment engine DirectMatch™, Safeguard Fund, and a robust secondary market ReBlend™. BLender strives to pioneer the multinational P2P lending arena and to build a bridge between lenders and borrowers across the globe.\", 'i_d_CompanyWebsiteLink': 'http://www.blender.org/', 'i_l_CompanyEmailLink': 'n/a', 'i_d_OverallScore_Detail': '865', 'main_i_s_SocialProofScore': '780', 'main_i_s_WebsitePopularityScore': '985', 'main_i_s_WebsiteAutoAnalystScore': '710', 'main_i_s_VRPopularityScore': '986', 'main_alexaHeatMapRow': '10', 'i_d_VRPopularity_HeatMapRow_High': 'High'}\n",
      "{'i_d_CompanyName': 'Furhat\\xa0Robotics', 'main_i_s_CompanyCountry': 'Sweden', 'main_i_s_CompanyFounded': '2014', 'main_i_s_CompanyType': 'Private Company', 'i_d_CompanyDescription': \"Furhat Robotics is a Conversational AI and Social Robotics startup that is building the world's first social robotics and conversational system platform. The Furhat robot is an award-winning robot head that is based on years of research and development on social artificial intelligence. Furhat “body” is superior in that it is designed using computer animation with unique expressiveness and customizability, putting special focus on the personality and character of the robot. Furhat’s “brain” is powered by a state-of-the-art conversational intelligence platform which is used to build highly sophisticated and socially-aware spoken interactions with Furhat.\", 'i_d_CompanyWebsiteLink': 'http://www.furhatrobotics.com/', 'i_l_CompanyEmailLink': 'info@furhatrobotics.com', 'i_d_OverallScore_Detail': '861', 'main_i_s_SocialProofScore': '980', 'main_i_s_WebsitePopularityScore': '580', 'main_i_s_WebsiteAutoAnalystScore': '890', 'main_i_s_VRPopularityScore': '994', 'main_alexaHeatMapRow': '4', 'i_d_VRPopularity_HeatMapRow_High': 'High'}\n",
      "{'i_d_CompanyName': 'Moovly', 'main_i_s_CompanyCountry': 'Canada', 'main_i_s_CompanyFounded': '2012', 'main_i_s_CompanyType': 'Listed Company', 'i_d_CompanyDescription': 'Moovly is a company that provides a cloud-based platform (SaaS) that enables users to create and generate multimedia content: animated videos, video presentations, animated info graphics and any other video content that includes a mix of animation and motion graphics.', 'i_d_CompanyWebsiteLink': 'http://www.moovly.com/', 'i_l_CompanyEmailLink': 'n/a', 'i_d_OverallScore_Detail': '858', 'main_i_s_SocialProofScore': '720', 'main_i_s_WebsitePopularityScore': '946', 'main_i_s_WebsiteAutoAnalystScore': '870', 'main_i_s_VRPopularityScore': '895', 'main_alexaHeatMapRow': '9', 'i_d_VRPopularity_HeatMapRow_High': 'High'}\n",
      "{'i_d_CompanyName': 'Anthropics', 'main_i_s_CompanyCountry': 'United Kingdom', 'main_i_s_CompanyFounded': '1998', 'main_i_s_CompanyType': 'Private Company', 'i_d_CompanyDescription': 'Anthropics Technology is a software research and development company with a world class record of innovation in graphics and animation software. Based in London, England, the company started its commercial operations by developing uniquely powerful animation software for leading companies in the mobile telecoms industry including Nokia, Vodafone and others. More recently the company has created Portrait Professional, the world’s first ‘intelligent’ portrait touch-up software. Based on in-house research, Portrait Professional has been trained with hundreds of photos of people, so it actually know about human appearance and beauty, and is consequently massively faster and easier to use than general purpose touch-up software. ', 'i_d_CompanyWebsiteLink': 'http://www.anthropics.com/', 'i_l_CompanyEmailLink': 'n/a', 'i_d_OverallScore_Detail': '854', 'main_i_s_SocialProofScore': '940', 'main_i_s_WebsitePopularityScore': '901', 'main_i_s_WebsiteAutoAnalystScore': '680', 'main_i_s_VRPopularityScore': '897', 'main_alexaHeatMapRow': '6', 'i_d_VRPopularity_HeatMapRow_High': 'High'}\n",
      "{'i_d_CompanyName': 'YellowDog\\xa0', 'main_i_s_CompanyCountry': 'United Kingdom', 'main_i_s_CompanyFounded': '2015', 'main_i_s_CompanyType': 'Private Company', 'i_d_CompanyDescription': 'YellowDog harnesses the unparalleled computing power of on-premise and multiple public and private clouds. YellowDog identifies the best source of compute for every workload. Using predictive scheduling and orchestration, it determines, in real-time, what compute is available and which job it suits to make sure that deadlines and budgets are met. Industries: Financial Services - Manage on-premise computing resources and intelligently burst to the cloud with unified orchestration to ensure that results are delivered on time; CGI - Fixed price multi-cloud render platform that delivers animation, visual effects, and visualisation CGI productions to tight deadlines; Aerospace - Accelerate modelling, simulation, and design optimisation so that concepts and ideas are developed faster.', 'i_d_CompanyWebsiteLink': 'http://yellowdog.co/', 'i_l_CompanyEmailLink': 'n/a', 'i_d_OverallScore_Detail': '844', 'main_i_s_SocialProofScore': '920', 'main_i_s_WebsitePopularityScore': '646', 'main_i_s_WebsiteAutoAnalystScore': '870', 'main_i_s_VRPopularityScore': '942', 'main_alexaHeatMapRow': '5', 'i_d_VRPopularity_HeatMapRow_High': 'High'}\n",
      "{'i_d_CompanyName': 'Renderforest', 'main_i_s_CompanyCountry': 'Armenia', 'main_i_s_CompanyType': 'Private Company', 'i_d_CompanyDescription': 'Renderforest is an online video and animation maker which helps businesses and individuals to create explainer animations, promotional videos, slideshows, intros and other videos.', 'i_d_CompanyWebsiteLink': 'https://renderforest.com', 'i_l_CompanyEmailLink': 'n/a', 'i_d_OverallScore_Detail': '840', 'main_i_s_SocialProofScore': '670', 'main_i_s_WebsitePopularityScore': '983', 'main_i_s_WebsiteAutoAnalystScore': '830', 'main_i_s_VRPopularityScore': '877', 'main_alexaHeatMapRow': '10', 'i_d_VRPopularity_HeatMapRow_High': 'High'}\n",
      "{'i_d_CompanyName': 'Artomatix', 'main_i_s_CompanyCountry': 'Ireland', 'main_i_s_CompanyFounded': '2014', 'main_i_s_CompanyType': 'Private Company', 'i_d_CompanyDescription': 'Artomatix is an Irish technology company, focused on smart and automatic texture generation for 3D environments. Our mission is to speed up 3D workflows while democratising 3D content creation. Applied in the right capacity and in the correct context, artificial intelligence can automate the most tedious and repetitive tasks tied to 3D content creation, effectively accelerating workflows and reducing the cost of 3D asset production. Artomatix aims to make it easy for experts and enthusiasts alike to focus on creativity when building 3D content.', 'i_d_CompanyWebsiteLink': 'http://artomatix.com/', 'i_l_CompanyEmailLink': 'contact@artomatix.com', 'i_d_OverallScore_Detail': '839', 'main_i_s_SocialProofScore': '940', 'main_i_s_WebsitePopularityScore': '520', 'main_i_s_WebsiteAutoAnalystScore': '900', 'main_i_s_VRPopularityScore': '995', 'main_alexaHeatMapRow': '4', 'i_d_VRPopularity_HeatMapRow_High': 'High'}\n",
      "{'i_d_CompanyName': 'Rokoko', 'main_i_s_CompanyCountry': 'Denmark', 'main_i_s_CompanyFounded': '2014', 'main_i_s_CompanyType': 'Private Company', 'i_d_CompanyDescription': \"Rokoko is a startup that has created motion capture solutions Smartsuit Pro (sensor-based mocap suit) and Motion Library (world's largest marketplace of motion assets). \", 'i_d_CompanyWebsiteLink': 'http://rokoko.com', 'i_l_CompanyEmailLink': 'hi@rokoko.com', 'i_d_OverallScore_Detail': '837', 'main_i_s_SocialProofScore': '970', 'main_i_s_WebsitePopularityScore': '748', 'main_i_s_WebsiteAutoAnalystScore': '780', 'main_i_s_VRPopularityScore': '848', 'main_alexaHeatMapRow': '5', 'i_d_VRPopularity_HeatMapRow_High': 'High'}\n",
      "{'i_d_CompanyName': 'The\\xa0Walt\\xa0Disney\\xa0Company', 'main_i_s_CompanyCountry': 'USA', 'main_i_s_CompanyFounded': '1923', 'main_i_s_CompanyType': 'Listed Company', 'i_d_CompanyDescription': \"The Walt Disney Company, commonly known as Disney, is an American diversified:1 multinational mass media and entertainment conglomerate headquartered at the Walt Disney Studios in Burbank, California. It is the world's second largest media conglomerate in terms of revenue, after Comcast. Disney was founded on October 16, 1923, by brothers Walt Disney and Roy O. Disney as the Disney Brothers Cartoon Studio, and established itself as a leader in the American animation industry before diversifying into live-action film production, television, and theme parks. The company also operated under the names The Walt Disney Studio, then Walt Disney Productions. Taking on its current name in 1986, it expanded its existing operations and also started divisions focused upon theater, radio, music, publishing, and online media.\", 'i_d_CompanyWebsiteLink': 'http://thewaltdisneycompany.com/', 'i_l_CompanyEmailLink': 'n/a', 'i_d_OverallScore_Detail': '834', 'main_i_s_SocialProofScore': '680', 'main_i_s_WebsitePopularityScore': '935', 'main_i_s_WebsiteAutoAnalystScore': '750', 'main_i_s_VRPopularityScore': '970', 'main_alexaHeatMapRow': '8', 'i_d_VRPopularity_HeatMapRow_High': 'High'}\n",
      "{'i_d_CompanyName': 'Cinesite', 'main_i_s_CompanyCountry': 'United Kingdom', 'main_i_s_CompanyFounded': '1991', 'main_i_s_CompanyType': 'Private Company', 'i_d_CompanyDescription': 'Company based in the London tech cluster and founded in 1991.', 'i_d_CompanyWebsiteLink': 'http://www.cinesite.com', 'i_l_CompanyEmailLink': 'press@cinesite.com', 'i_d_OverallScore_Detail': '823', 'main_i_s_SocialProofScore': '850', 'main_i_s_WebsitePopularityScore': '683', 'main_i_s_WebsiteAutoAnalystScore': '930', 'main_i_s_VRPopularityScore': '829', 'main_alexaHeatMapRow': '5', 'i_d_VRPopularity_HeatMapRow_High': 'High'}\n",
      "{'i_d_CompanyName': 'Campfire', 'main_i_s_CompanyCountry': 'USA', 'main_i_s_CompanyFounded': '2011', 'main_i_s_CompanyType': 'Private Company', 'i_d_CompanyDescription': 'With Freak’n Genius, anyone can animate instantly!;Freak’n Genius unlocks your inner creative child and allows you to share it with friends and family through a whimsical, magical use of the power of Kinect. We bridge across the desktop, Xbox, and mobile, giving you the ability to poke fun, have fun, and share fun with your friends, anytime, anywhere. You only need your body to animate your character. You only need your face to make them express emotions. You only need your voice to have the character speak. You can layer animation and create lively, compelling animations, all by yourself. By just being you, you can impress your friends, family, and the whole world in a matter of minutes.', 'i_d_CompanyWebsiteLink': 'http://camp-fire.jp', 'i_l_CompanyEmailLink': 'n/a', 'i_d_OverallScore_Detail': '818', 'main_i_s_SocialProofScore': '760', 'main_i_s_WebsitePopularityScore': '977', 'main_i_s_WebsiteAutoAnalystScore': '710', 'main_i_s_VRPopularityScore': '827', 'main_alexaHeatMapRow': '10', 'i_d_VRPopularity_HeatMapRow_High': 'High'}\n",
      "{'i_d_CompanyName': 'Jellyvision\\xa0Lab,\\xa0Inc.,\\xa0The', 'main_i_s_CompanyCountry': 'USA', 'main_i_s_CompanyFounded': '2001', 'main_i_s_CompanyType': 'Private Company', 'i_d_CompanyDescription': 'Jellyvision talks people through big life decisions, like selecting a health insurance plan, saving for retirement, managing finances, and navigating a career. Our recipe: behavioral science, cutting-edge tech, great writing, purposeful humor, original animation, and oregano.', 'i_d_CompanyWebsiteLink': 'http://www.jellyvision.com', 'i_l_CompanyEmailLink': 'n/a', 'i_d_OverallScore_Detail': '816', 'main_i_s_SocialProofScore': '720', 'main_i_s_WebsitePopularityScore': '739', 'main_i_s_WebsiteAutoAnalystScore': '870', 'main_i_s_VRPopularityScore': '935', 'main_alexaHeatMapRow': '5', 'i_d_VRPopularity_HeatMapRow_High': 'High'}\n"
     ]
    },
    {
     "name": "stdout",
     "output_type": "stream",
     "text": [
      "{'i_d_CompanyName': 'Reallusion', 'main_i_s_CompanyCountry': 'USA', 'main_i_s_CompanyFounded': '1993', 'main_i_s_CompanyType': 'Private Company', 'i_d_CompanyDescription': \"Reallusion Inc. is a 2D and 3D animation software and content developer. Headquartered in Silicon Valley, with R&D centers in Taiwan, and offices and training centers in Germany and Japan. Reallusion specializes in the development of real-time 2D and 3D cinematic animation tools for consumers, students and professionals. The company provides users with easy-to-use avatar animation, facial morphing and voice lip-sync solutions for real-time 3D filmmaking, and previsualization for professional post-production. Reallusion's core technologies are widely used by trainers, educators, gamers and filmmakers providing them with stand-alone movie studio packages.\", 'i_d_CompanyWebsiteLink': 'http://www.reallusion.com/', 'i_l_CompanyEmailLink': 'more@reallusion.com', 'i_d_OverallScore_Detail': '815', 'main_i_s_SocialProofScore': '540', 'main_i_s_WebsitePopularityScore': '972', 'main_i_s_WebsiteAutoAnalystScore': '810', 'main_i_s_VRPopularityScore': '937', 'main_alexaHeatMapRow': '10', 'i_d_VRPopularity_HeatMapRow_High': 'High'}\n",
      "{'i_d_CompanyName': 'Holotech\\xa0Studios', 'main_i_s_CompanyCountry': 'Romania', 'main_i_s_CompanyFounded': '2013', 'main_i_s_CompanyType': 'Private Company', 'i_d_CompanyDescription': 'FaceRig is a software that allows anyone to embody outstanding real time CG character portraits via motion capture from a webcam stream.', 'i_d_CompanyWebsiteLink': 'http://www.facerig.com/', 'i_l_CompanyEmailLink': 'n/a', 'i_d_OverallScore_Detail': '815', 'main_i_s_SocialProofScore': '720', 'main_i_s_WebsitePopularityScore': '829', 'main_i_s_WebsiteAutoAnalystScore': '810', 'main_i_s_VRPopularityScore': '903', 'main_alexaHeatMapRow': '5', 'i_d_VRPopularity_HeatMapRow_High': 'High'}\n",
      "{'i_d_CompanyName': 'Animoca\\xa0Brands\\xa0Corporation\\xa0Limited', 'main_i_s_CompanyFounded': '2006', 'main_i_s_CompanyType': 'Private Company', 'i_d_CompanyDescription': 'Animoca Brands Corporation Limited (ASX: AB1) was formed in 2014 through the spinoff of part of the app portfolio of Animoca (Appionics Holdings Ltd.) and the consolidation of a number of partnerships and acquisitions. Animoca Brands is the resulting new entity with a mission to create and publish a global portfolio of mobile games for smartphones and tablets. Animoca Brands is based in Hong Kong. In 2016 Animoca Brands signed licensing agreement with DreamWorks Animation to develop a portfolio of book apps for Asian markets.', 'i_d_CompanyWebsiteLink': 'http://www.animocabrands.com/', 'i_l_CompanyEmailLink': 'press@animocabrands.com', 'i_d_OverallScore_Detail': '807', 'main_i_s_SocialProofScore': '790', 'main_i_s_WebsitePopularityScore': '649', 'main_i_s_WebsiteAutoAnalystScore': '930', 'main_i_s_VRPopularityScore': '860', 'main_alexaHeatMapRow': '5', 'i_d_VRPopularity_HeatMapRow_High': 'High'}\n",
      "{'i_d_CompanyName': 'Toon\\xa0Boom', 'main_i_s_CompanyCountry': 'Canada', 'main_i_s_CompanyFounded': '1994', 'main_i_s_CompanyType': 'Subsidiary', 'i_d_CompanyDescription': 'Toon Boom Animation Inc. is a Canadian software company that specializes in animation production and storyboarding software. This animation software company is a division of Corus Entertainment. Founded in 1994 and based in Montreal, Quebec, Toon Boom develops animation and storyboarding software for film, television, web animation, games, mobile devices, training applications, and education.', 'i_d_CompanyWebsiteLink': 'http://www.toonboom.com', 'i_l_CompanyEmailLink': 'n/a', 'i_d_OverallScore_Detail': '800', 'main_i_s_SocialProofScore': '650', 'main_i_s_WebsitePopularityScore': '921', 'main_i_s_WebsiteAutoAnalystScore': '870', 'main_i_s_VRPopularityScore': '759', 'main_alexaHeatMapRow': '8', 'i_d_VRPopularity_HeatMapRow_High': 'High'}\n",
      "{'i_d_CompanyName': 'Visage\\xa0Technologies', 'main_i_s_CompanyCountry': 'Sweden', 'main_i_s_CompanyFounded': '2002', 'main_i_s_CompanyType': 'Private Company', 'i_d_CompanyDescription': 'Visage Technologies provides services that range from character model creation and animation production to customised computer vision applications, platform porting, system integration and turnkey solutions. ', 'i_d_CompanyWebsiteLink': 'http://www.visagetechnologies.com/', 'i_l_CompanyEmailLink': 'n/a', 'i_d_OverallScore_Detail': '797', 'main_i_s_SocialProofScore': '720', 'main_i_s_WebsitePopularityScore': '679', 'main_i_s_WebsiteAutoAnalystScore': '870', 'main_i_s_VRPopularityScore': '919', 'main_alexaHeatMapRow': '5', 'i_d_VRPopularity_HeatMapRow_High': 'High'}\n",
      "{'i_d_CompanyName': 'Mixamo,\\xa0Inc', 'main_i_s_CompanyCountry': 'USA', 'main_i_s_CompanyFounded': '2008', 'main_i_s_CompanyType': 'Private Company', 'i_d_CompanyDescription': 'Mixamo is the world’s first online character animation service. Founded in 2008 as a Stanford University spin-off, the Company addresses the rapidly growing multi-billion dollar gaming and animation markets by providing a simple and efficient solution to the industry’s content creation needs. Modeling, rigging and animating that once could take days to complete now takes seconds with the Company’s machine learning based SaaS solution. Mixamo is positioned to become the dominant force in character animation by introducing the power of machine learning into digital character animation, with the majority of its audience in mobile development.', 'i_d_CompanyWebsiteLink': 'http://www.mixamo.com', 'i_l_CompanyEmailLink': 'n/a', 'i_d_OverallScore_Detail': '795', 'main_i_s_SocialProofScore': '640', 'main_i_s_WebsitePopularityScore': '949', 'main_i_s_WebsiteAutoAnalystScore': '680', 'main_i_s_VRPopularityScore': '910', 'main_alexaHeatMapRow': '9', 'i_d_VRPopularity_HeatMapRow_High': 'High'}\n",
      "{'i_d_CompanyName': 'Visme', 'main_i_s_CompanyCountry': 'USA', 'main_i_s_CompanyType': 'Private Company', 'i_d_CompanyDescription': 'Easy WebContent Presenter is a cloud-based HTML5 animation tool putting users in complete control of creating web and mobile friendly interactive content. The service allows for the creation of web and mobile friendly animations, interactive presentations, presumes (presentation resumes), interactive infographics and banners, and much more. The published work can be integrated through all major social networks, digital documents, websites, and blogs providing users an additional stream of communication to better engage their audience.', 'i_d_CompanyWebsiteLink': 'http://www.visme.co', 'i_l_CompanyEmailLink': 'n/a', 'i_d_OverallScore_Detail': '782', 'main_i_s_SocialProofScore': '440', 'main_i_s_WebsitePopularityScore': '980', 'main_i_s_WebsiteAutoAnalystScore': '870', 'main_i_s_VRPopularityScore': '840', 'main_alexaHeatMapRow': '10', 'i_d_VRPopularity_HeatMapRow_High': 'High'}\n",
      "{'i_d_CompanyName': 'Soul\\xa0Machines', 'main_i_s_CompanyCountry': 'New Zealand', 'main_i_s_CompanyFounded': '2016', 'main_i_s_CompanyType': 'Private Company', 'i_d_CompanyDescription': 'Soul Machines is transforming the way companies engage, interact and transact by reimagining the way machines work with humans. Its Human Computing engine embodies a cognitive interface and emotional quotient analytics, bringing expressive interaction and emotional intelligence to computing. Soul Machines has created a digital nervous system as a platform for the development and deployment of Human Computing as the primary user interface for machines in the real world and various digital worlds of the future.', 'i_d_CompanyWebsiteLink': 'http://soulmachines.com/', 'i_l_CompanyEmailLink': 'n/a', 'i_d_OverallScore_Detail': '773', 'main_i_s_SocialProofScore': '910', 'main_i_s_WebsitePopularityScore': '731', 'main_i_s_WebsiteAutoAnalystScore': '540', 'main_i_s_VRPopularityScore': '911', 'main_alexaHeatMapRow': '5', 'i_d_VRPopularity_HeatMapRow_High': 'High'}\n"
     ]
    }
   ],
   "source": [
    "import xlwt\n",
    "file = xlwt.Workbook()\n",
    "table = file.add_sheet('sheet 1',cell_overwrite_ok=True)\n",
    "xls_x = 0\n",
    "xls_y = 0\n",
    "table.write(xls_x,xls_y,'Rank')\n",
    "xls_y = xls_y + 1\n",
    "\n",
    "for element in id_name:\n",
    "\n",
    "    if element not in ['i_d_VRPopularity_HeatMapRow_Low',                        \n",
    "                                          'i_d_VRPopularity_HeatMapRow_Med']:\n",
    "        table.write(xls_x,xls_y,id_name[element])\n",
    "        xls_y = xls_y + 1\n",
    "#xls_y = xls_y + 1#error delete\n",
    "table.write(xls_x,xls_y,'Keyword') \n",
    "xls_y = xls_y + 1\n",
    "table.write(xls_x,xls_y,'Funding Signals') \n",
    "num = 1\n",
    "for i in range (25):\n",
    "\n",
    "    hp = TargetHTMLParser()\n",
    "    hp.feed(htmls[i])\n",
    "    fund_dict = hp.fund_dict\n",
    "    xls_x = xls_x + 1\n",
    "    xls_y = 0\n",
    "    table.write(xls_x,xls_y,str(i+1))\n",
    "    print (hp.id_data)\n",
    "    for element in id_name:\n",
    "        if element in hp.id_data:\n",
    "            xls_y = xls_y + 1\n",
    "            table.write(xls_x,xls_y,hp.id_data[element]) \n",
    "        else:\n",
    "            if id_name[element] != \"VentureRadar Popularity\":\n",
    "                xls_y = xls_y + 1\n",
    "                table.write(xls_x,xls_y,'NO DATA') \n",
    "\n",
    "    #Keyword: \n",
    "    keyword_str = ''\n",
    "    for key in hp.keyword_dict:\n",
    "        keyword_str = keyword_str + key + '; '\n",
    "    xls_y = xls_y + 1\n",
    "    table.write(xls_x,xls_y,keyword_str) \n",
    "    #Funding Signals\n",
    "    fund_type = ''\n",
    "    fund_str = ''\n",
    "    for org in hp.fund_dict:\n",
    "        if hp.fund_dict[org][0] != fund_type:\n",
    "            fund_type = hp.fund_dict[org][0]\n",
    "            fund_str = fund_str + '['+fund_type + ']:'\n",
    "        fund_str = fund_str + org + '; '\n",
    "    xls_y = xls_y + 1\n",
    "    table.write(xls_x,xls_y,fund_str)\n",
    "\n",
    "fo_name = search_key + '.xls'  \n",
    "file.save(fo_name)"
   ]
  },
  {
   "cell_type": "markdown",
   "metadata": {},
   "source": [
    "Read from Excel."
   ]
  },
  {
   "cell_type": "code",
   "execution_count": 89,
   "metadata": {},
   "outputs": [
    {
     "name": "stdout",
     "output_type": "stream",
     "text": [
      "    Rank                                Name        Location Founded year  \\\n",
      "0      1                              Fiverr             USA         2010   \n",
      "1      2                               Wideo       Argentina         2012   \n",
      "2      3                             PowToon  United Kingdom         2012   \n",
      "3      4                            Autodesk             USA         1982   \n",
      "4      5                            Animaker             USA         2014   \n",
      "5      6                             Blender          Israel         2014   \n",
      "6      7                     Furhat Robotics          Sweden         2014   \n",
      "7      8                              Moovly          Canada         2012   \n",
      "8      9                          Anthropics  United Kingdom         1998   \n",
      "9     10                          YellowDog   United Kingdom         2015   \n",
      "10    11                        Renderforest         Armenia      NO DATA   \n",
      "11    12                           Artomatix         Ireland         2014   \n",
      "12    13                              Rokoko         Denmark         2014   \n",
      "13    14             The Walt Disney Company             USA         1923   \n",
      "14    15                            Cinesite  United Kingdom         1991   \n",
      "15    16                            Campfire             USA         2011   \n",
      "16    17          Jellyvision Lab, Inc., The             USA         2001   \n",
      "17    18                          Reallusion             USA         1993   \n",
      "18    19                    Holotech Studios         Romania         2013   \n",
      "19    20  Animoca Brands Corporation Limited         NO DATA         2006   \n",
      "20    21                           Toon Boom          Canada         1994   \n",
      "21    22                 Visage Technologies          Sweden         2002   \n",
      "22    23                         Mixamo, Inc             USA         2008   \n",
      "23    24                               Visme             USA      NO DATA   \n",
      "24    25                       Soul Machines     New Zealand         2016   \n",
      "\n",
      "               Type                                        Description  \\\n",
      "0   Private Company  Browse. Buy. Done. Fiverr gives you instant ac...   \n",
      "1   Private Company  Wideo is a very simple, intuitive online tool ...   \n",
      "2   Private Company  PowToon is a brand new presentation software t...   \n",
      "3    Listed Company  Autodesk, Inc. is an American multinational so...   \n",
      "4   Private Company  Animaker is an intelligent video making app wh...   \n",
      "5   Private Company  BLender provides a multi-national P2P lending ...   \n",
      "6   Private Company  Furhat Robotics is a Conversational AI and Soc...   \n",
      "7    Listed Company  Moovly is a company that provides a cloud-base...   \n",
      "8   Private Company  Anthropics Technology is a software research a...   \n",
      "9   Private Company  YellowDog harnesses the unparalleled computing...   \n",
      "10  Private Company  Renderforest is an online video and animation ...   \n",
      "11  Private Company  Artomatix is an Irish technology company, focu...   \n",
      "12  Private Company  Rokoko is a startup that has created motion ca...   \n",
      "13   Listed Company  The Walt Disney Company, commonly known as Dis...   \n",
      "14  Private Company  Company based in the London tech cluster and f...   \n",
      "15  Private Company  With Freak’n Genius, anyone can animate instan...   \n",
      "16  Private Company  Jellyvision talks people through big life deci...   \n",
      "17  Private Company  Reallusion Inc. is a 2D and 3D animation softw...   \n",
      "18  Private Company  FaceRig is a software that allows anyone to em...   \n",
      "19  Private Company  Animoca Brands Corporation Limited (ASX: AB1) ...   \n",
      "20       Subsidiary  Toon Boom Animation Inc. is a Canadian softwar...   \n",
      "21  Private Company  Visage Technologies provides services that ran...   \n",
      "22  Private Company  Mixamo is the world’s first online character a...   \n",
      "23  Private Company  Easy WebContent Presenter is a cloud-based HTM...   \n",
      "24  Private Company  Soul Machines is transforming the way companie...   \n",
      "\n",
      "                               Website                    Email  \\\n",
      "0                    http://Fiverr.com                      NaN   \n",
      "1                      http://wideo.co                      NaN   \n",
      "2              http://www.powtoon.com/                      NaN   \n",
      "3              http://www.autodesk.com                      NaN   \n",
      "4             http://www.animaker.com/                      NaN   \n",
      "5              http://www.blender.org/                      NaN   \n",
      "6       http://www.furhatrobotics.com/  info@furhatrobotics.com   \n",
      "7               http://www.moovly.com/                      NaN   \n",
      "8           http://www.anthropics.com/                      NaN   \n",
      "9                 http://yellowdog.co/                      NaN   \n",
      "10            https://renderforest.com                      NaN   \n",
      "11               http://artomatix.com/    contact@artomatix.com   \n",
      "12                   http://rokoko.com            hi@rokoko.com   \n",
      "13    http://thewaltdisneycompany.com/                      NaN   \n",
      "14             http://www.cinesite.com       press@cinesite.com   \n",
      "15                 http://camp-fire.jp                      NaN   \n",
      "16          http://www.jellyvision.com                      NaN   \n",
      "17          http://www.reallusion.com/      more@reallusion.com   \n",
      "18             http://www.facerig.com/                      NaN   \n",
      "19       http://www.animocabrands.com/  press@animocabrands.com   \n",
      "20             http://www.toonboom.com                      NaN   \n",
      "21  http://www.visagetechnologies.com/                      NaN   \n",
      "22               http://www.mixamo.com                      NaN   \n",
      "23                 http://www.visme.co                      NaN   \n",
      "24            http://soulmachines.com/                      NaN   \n",
      "\n",
      "    VentureRadar Score  Social Proof  ...  Recommend to a Friend  \\\n",
      "0                  926           830  ...                NO DATA   \n",
      "1                  887           980  ...                NO DATA   \n",
      "2                  886           740  ...                NO DATA   \n",
      "3                  871           930  ...                NO DATA   \n",
      "4                  869           670  ...                NO DATA   \n",
      "5                  865           780  ...                NO DATA   \n",
      "6                  861           980  ...                NO DATA   \n",
      "7                  858           720  ...                NO DATA   \n",
      "8                  854           940  ...                NO DATA   \n",
      "9                  844           920  ...                NO DATA   \n",
      "10                 840           670  ...                NO DATA   \n",
      "11                 839           940  ...                NO DATA   \n",
      "12                 837           970  ...                NO DATA   \n",
      "13                 834           680  ...                NO DATA   \n",
      "14                 823           850  ...                NO DATA   \n",
      "15                 818           760  ...                NO DATA   \n",
      "16                 816           720  ...                NO DATA   \n",
      "17                 815           540  ...                NO DATA   \n",
      "18                 815           720  ...                NO DATA   \n",
      "19                 807           790  ...                NO DATA   \n",
      "20                 800           650  ...                NO DATA   \n",
      "21                 797           720  ...                NO DATA   \n",
      "22                 795           640  ...                NO DATA   \n",
      "23                 782           440  ...                NO DATA   \n",
      "24                 773           910  ...                NO DATA   \n",
      "\n",
      "    Approval of CEO   Website Popularity VentureRadar Popularity  \\\n",
      "0            NO DATA                  10                    High   \n",
      "1            NO DATA                   9                    High   \n",
      "2            NO DATA                  10                    High   \n",
      "3            NO DATA                  10                    High   \n",
      "4            NO DATA                  10                    High   \n",
      "5            NO DATA                  10                    High   \n",
      "6            NO DATA                   4                    High   \n",
      "7            NO DATA                   9                    High   \n",
      "8            NO DATA                   6                    High   \n",
      "9            NO DATA                   5                    High   \n",
      "10           NO DATA                  10                    High   \n",
      "11           NO DATA                   4                    High   \n",
      "12           NO DATA                   5                    High   \n",
      "13           NO DATA                   8                    High   \n",
      "14           NO DATA                   5                    High   \n",
      "15           NO DATA                  10                    High   \n",
      "16           NO DATA                   5                    High   \n",
      "17           NO DATA                  10                    High   \n",
      "18           NO DATA                   5                    High   \n",
      "19           NO DATA                   5                    High   \n",
      "20           NO DATA                   8                    High   \n",
      "21           NO DATA                   5                    High   \n",
      "22           NO DATA                   9                    High   \n",
      "23           NO DATA                  10                    High   \n",
      "24           NO DATA                   5                    High   \n",
      "\n",
      "   LinkedIn Profile View Team on LinkedIn  Twitter Wikipedia Page  \\\n",
      "0           NO DATA               NO DATA  NO DATA        NO DATA   \n",
      "1           NO DATA               NO DATA  NO DATA        NO DATA   \n",
      "2           NO DATA               NO DATA  NO DATA        NO DATA   \n",
      "3           NO DATA               NO DATA  NO DATA        NO DATA   \n",
      "4           NO DATA               NO DATA  NO DATA        NO DATA   \n",
      "5           NO DATA               NO DATA  NO DATA        NO DATA   \n",
      "6           NO DATA               NO DATA  NO DATA        NO DATA   \n",
      "7           NO DATA               NO DATA  NO DATA        NO DATA   \n",
      "8           NO DATA               NO DATA  NO DATA        NO DATA   \n",
      "9           NO DATA               NO DATA  NO DATA        NO DATA   \n",
      "10          NO DATA               NO DATA  NO DATA        NO DATA   \n",
      "11          NO DATA               NO DATA  NO DATA        NO DATA   \n",
      "12          NO DATA               NO DATA  NO DATA        NO DATA   \n",
      "13          NO DATA               NO DATA  NO DATA        NO DATA   \n",
      "14          NO DATA               NO DATA  NO DATA        NO DATA   \n",
      "15          NO DATA               NO DATA  NO DATA        NO DATA   \n",
      "16          NO DATA               NO DATA  NO DATA        NO DATA   \n",
      "17          NO DATA               NO DATA  NO DATA        NO DATA   \n",
      "18          NO DATA               NO DATA  NO DATA        NO DATA   \n",
      "19          NO DATA               NO DATA  NO DATA        NO DATA   \n",
      "20          NO DATA               NO DATA  NO DATA        NO DATA   \n",
      "21          NO DATA               NO DATA  NO DATA        NO DATA   \n",
      "22          NO DATA               NO DATA  NO DATA        NO DATA   \n",
      "23          NO DATA               NO DATA  NO DATA        NO DATA   \n",
      "24          NO DATA               NO DATA  NO DATA        NO DATA   \n",
      "\n",
      "                                              Keyword  \\\n",
      "0   Fiverr Is A Place For People To Share Things T...   \n",
      "1              Online Video; Media; Saas; Marketing;    \n",
      "2   Developer Of Presentation Software That Allows...   \n",
      "3   Design; Computer Software; Plm; 3D Printing; C...   \n",
      "4   Diy; Education; Online Video Advertising; Pres...   \n",
      "5   Lending; Fintech; Saas; Savings & Lending; 3D ...   \n",
      "6   Artificial Intelligence; Communication; Social...   \n",
      "7        Cloud; Internet Marketing; Saas; Marketing;    \n",
      "8                 Ecommerce And Applications; Other;    \n",
      "9                               Enterprise; Fintech;    \n",
      "10                                                NaN   \n",
      "11  Artificial Intelligence; Music; Entertainment;...   \n",
      "12                                                NaN   \n",
      "13   Mass Media; Broadcasting; Entertainment; Cable;    \n",
      "14                                                NaN   \n",
      "15                            Fintech; Crowdfunding;    \n",
      "16                  Interactive Marketing; Software;    \n",
      "17                                         Software;    \n",
      "18                        Entertainment; Technology;    \n",
      "19                                                NaN   \n",
      "20  Software; Animation Software; Saas; Business O...   \n",
      "21  Computer Vision; Face And Head Tracking; Eye T...   \n",
      "22                        Interactive Entertainment;    \n",
      "23       Marketing; Content Marketing; Infographics;    \n",
      "24        Adtech; Artificial Intelligence; Robotics;    \n",
      "\n",
      "                                      Funding Signals  \n",
      "0   [VENTURE FUNDED]:Accel Partners; Bessemer Vent...  \n",
      "1   [VENTURE FUNDED]:500startups; Venture-funding ...  \n",
      "2   [VENTURE FUNDED]:Kima Ventures; Venture-Backed...  \n",
      "3                                               QB3;   \n",
      "4                                                 NaN  \n",
      "5             [VENTURE FUNDED]:Venture-funding News;   \n",
      "6   [VENTURE FUNDED]:Balderton Capital; Venture-fu...  \n",
      "7                                                 NaN  \n",
      "8   [VENTURE FUNDED]:AlbionVC; Spark Ventures; Ven...  \n",
      "9             [VENTURE FUNDED]:Venture-funding News;   \n",
      "10                                                NaN  \n",
      "11  [VENTURE FUNDED]:Incubator-Accelerator Calcula...  \n",
      "12  [VENTURE FUNDED]:Vaekstfonden (VF Venture); Ve...  \n",
      "13                                                NaN  \n",
      "14            [VENTURE FUNDED]:Venture-funding News;   \n",
      "15  [VENTURE FUNDED]:Venture-funding News; Techsta...  \n",
      "16  [VENTURE FUNDED]:Sigma West; Venture-funding N...  \n",
      "17                     [VENTURE FUNDED]:UMC Capital;   \n",
      "18  [VENTURE FUNDED]:Venture-funding News; [EQUITY...  \n",
      "19      [VENTURE FUNDED]:500startups; Intel Capital;   \n",
      "20                                                NaN  \n",
      "21                                                NaN  \n",
      "22  [VENTURE FUNDED]:Granite Ventures; [GOVERNMENT...  \n",
      "23                                                NaN  \n",
      "24            [VENTURE FUNDED]:Venture-funding News;   \n",
      "\n",
      "[25 rows x 24 columns]\n"
     ]
    }
   ],
   "source": [
    "import pandas as pd\n",
    "df = pd.read_excel('Animation.xls')\n",
    "print (df)"
   ]
  },
  {
   "cell_type": "markdown",
   "metadata": {},
   "source": [
    "The scraping is succeeded. "
   ]
  },
  {
   "cell_type": "code",
   "execution_count": 90,
   "metadata": {},
   "outputs": [],
   "source": [
    "driver.close()"
   ]
  },
  {
   "cell_type": "markdown",
   "metadata": {},
   "source": [
    "##  Tips\n",
    "You can open the driver in the background."
   ]
  },
  {
   "cell_type": "code",
   "execution_count": 93,
   "metadata": {},
   "outputs": [],
   "source": [
    "from selenium.webdriver.chrome.options import Options\n",
    "chrome_options = Options()\n",
    "chrome_options.add_argument(\"--headless\")\n",
    "driver = webdriver.Chrome(options=chrome_options)\n",
    "driver.get(\"https://www.ventureradar.com/\")"
   ]
  },
  {
   "cell_type": "markdown",
   "metadata": {},
   "source": [
    "The Chrome showed in the Dock and disappeared in an instant. The windows of Chrome won't appear. Keep in mind to close it."
   ]
  },
  {
   "cell_type": "code",
   "execution_count": 94,
   "metadata": {},
   "outputs": [],
   "source": [
    "driver.close()"
   ]
  },
  {
   "cell_type": "markdown",
   "metadata": {},
   "source": [
    "##  Resources\n",
    "Home page: http://www.seleniumhq.org   \n",
    "Official documentation: https://www.selenium.dev/selenium/docs/api/py/index.html\n",
    "\n",
    "Reference:  \n",
    "https://pypi.org/project/selenium  \n",
    "https://stackoverflow.com/questions/5041008/how-to-find-elements-by-class  \n",
    "https://chrome.google.com/webstore/detail/selenium-ide/mooikfkahbdckldjjndioackbalphokd?hl=en  \n",
    "https://addons.mozilla.org/en-US/firefox/addon/selenium-ide/  \n",
    "https://intellipaat.com/community/30397/headless-chrome-selenium-running-selenium-with-headless-chrome-webdriver"
   ]
  },
  {
   "cell_type": "code",
   "execution_count": null,
   "metadata": {},
   "outputs": [],
   "source": []
  }
 ],
 "metadata": {
  "kernelspec": {
   "display_name": "Python 3",
   "language": "python",
   "name": "python3"
  },
  "language_info": {
   "codemirror_mode": {
    "name": "ipython",
    "version": 3
   },
   "file_extension": ".py",
   "mimetype": "text/x-python",
   "name": "python",
   "nbconvert_exporter": "python",
   "pygments_lexer": "ipython3",
   "version": "3.7.6"
  }
 },
 "nbformat": 4,
 "nbformat_minor": 4
}
